{
 "cells": [
  {
   "attachments": {},
   "cell_type": "markdown",
   "metadata": {},
   "source": [
    "## Stable Differentiable Causal Discovery (SDCD) Tutorial\n",
    "\n",
    "In this brief tutorial, we will go over the main API for the `sdcd` package. SDCD is a differentiable causal discovery method designed to scale reliably to hundreds and thousands of variables. The algorithm is implemented in vanilla PyTorch and also uses the `networkx` package. \n",
    "\n",
    "(Note, under the default pip installation, only the packages necessary to run the `SDCD` model are installed. If you would also like to run other causal discovery methods implemented in this package, you must also install the `benchmark` extra via the `pip install sdcd[benchmark]` command.)"
   ]
  },
  {
   "cell_type": "code",
   "execution_count": 1,
   "metadata": {},
   "outputs": [],
   "source": [
    "# Imports\n",
    "from sdcd.models import SDCD\n",
    "from sdcd.utils import create_intervention_dataset"
   ]
  },
  {
   "attachments": {},
   "cell_type": "markdown",
   "metadata": {},
   "source": [
    "We will start by simulating some data for the tutorial. If you have your own data, you can ignore this step."
   ]
  },
  {
   "cell_type": "code",
   "execution_count": 2,
   "metadata": {},
   "outputs": [],
   "source": [
    "# Simulate Data\n",
    "from sdcd.simulated_data import random_model_gaussian_global_variance # For demonstration\n",
    "\n",
    "n = 200\n",
    "n_per_intervention = 50\n",
    "d = 20\n",
    "n_edges = 20\n",
    "\n",
    "true_causal_model = random_model_gaussian_global_variance(\n",
    "    d,\n",
    "    n_edges,\n",
    "    dag_type=\"ER\",\n",
    "    scale=0.5,\n",
    "    hard=True,\n",
    ")\n",
    "X_df = true_causal_model.generate_dataframe_from_all_distributions(\n",
    "    n_samples_control=n,\n",
    "    n_samples_per_intervention=n_per_intervention,\n",
    ")\n",
    "X_df.iloc[:, :-1] = (X_df.iloc[:, :-1] - X_df.iloc[:, :-1].mean()) / X_df.iloc[\n",
    "    :, :-1\n",
    "].std() # Normalize the data"
   ]
  },
  {
   "attachments": {},
   "cell_type": "markdown",
   "metadata": {},
   "source": [
    "The input data should be formatted as a Pandas Dataframe where each row corresponds to one observation and each column corresponds to one variable. There should be an additional column reports which variable(s) was intervened on for the given observation. Here it is labeled as `perturbation_label`. For rows that do not have any interventions, the value should be set to `\"obs\"`."
   ]
  },
  {
   "cell_type": "code",
   "execution_count": 3,
   "metadata": {},
   "outputs": [
    {
     "data": {
      "text/html": [
       "<div>\n",
       "<style scoped>\n",
       "    .dataframe tbody tr th:only-of-type {\n",
       "        vertical-align: middle;\n",
       "    }\n",
       "\n",
       "    .dataframe tbody tr th {\n",
       "        vertical-align: top;\n",
       "    }\n",
       "\n",
       "    .dataframe thead th {\n",
       "        text-align: right;\n",
       "    }\n",
       "</style>\n",
       "<table border=\"1\" class=\"dataframe\">\n",
       "  <thead>\n",
       "    <tr style=\"text-align: right;\">\n",
       "      <th></th>\n",
       "      <th>0</th>\n",
       "      <th>1</th>\n",
       "      <th>2</th>\n",
       "      <th>3</th>\n",
       "      <th>4</th>\n",
       "      <th>5</th>\n",
       "      <th>6</th>\n",
       "      <th>7</th>\n",
       "      <th>8</th>\n",
       "      <th>9</th>\n",
       "      <th>...</th>\n",
       "      <th>11</th>\n",
       "      <th>12</th>\n",
       "      <th>13</th>\n",
       "      <th>14</th>\n",
       "      <th>15</th>\n",
       "      <th>16</th>\n",
       "      <th>17</th>\n",
       "      <th>18</th>\n",
       "      <th>19</th>\n",
       "      <th>perturbation_label</th>\n",
       "    </tr>\n",
       "  </thead>\n",
       "  <tbody>\n",
       "    <tr>\n",
       "      <th>0</th>\n",
       "      <td>-1.042648</td>\n",
       "      <td>0.226783</td>\n",
       "      <td>-1.871494</td>\n",
       "      <td>-1.581519</td>\n",
       "      <td>2.149227</td>\n",
       "      <td>-0.458693</td>\n",
       "      <td>0.714175</td>\n",
       "      <td>3.091564</td>\n",
       "      <td>-0.509956</td>\n",
       "      <td>0.036024</td>\n",
       "      <td>...</td>\n",
       "      <td>-1.486337</td>\n",
       "      <td>1.109146</td>\n",
       "      <td>1.863365</td>\n",
       "      <td>0.409856</td>\n",
       "      <td>0.858165</td>\n",
       "      <td>0.190376</td>\n",
       "      <td>0.407933</td>\n",
       "      <td>0.380345</td>\n",
       "      <td>0.605214</td>\n",
       "      <td>obs</td>\n",
       "    </tr>\n",
       "    <tr>\n",
       "      <th>1</th>\n",
       "      <td>-1.068825</td>\n",
       "      <td>0.559836</td>\n",
       "      <td>0.854967</td>\n",
       "      <td>0.205361</td>\n",
       "      <td>1.143803</td>\n",
       "      <td>0.896259</td>\n",
       "      <td>1.228846</td>\n",
       "      <td>-0.800072</td>\n",
       "      <td>-0.918887</td>\n",
       "      <td>-1.052896</td>\n",
       "      <td>...</td>\n",
       "      <td>-1.304848</td>\n",
       "      <td>1.779307</td>\n",
       "      <td>-0.951121</td>\n",
       "      <td>-0.049833</td>\n",
       "      <td>-0.104780</td>\n",
       "      <td>0.651097</td>\n",
       "      <td>0.105443</td>\n",
       "      <td>0.042832</td>\n",
       "      <td>0.458566</td>\n",
       "      <td>obs</td>\n",
       "    </tr>\n",
       "    <tr>\n",
       "      <th>2</th>\n",
       "      <td>-0.178734</td>\n",
       "      <td>-0.770220</td>\n",
       "      <td>0.989042</td>\n",
       "      <td>-0.676152</td>\n",
       "      <td>-0.534547</td>\n",
       "      <td>-0.174431</td>\n",
       "      <td>1.071692</td>\n",
       "      <td>-1.091981</td>\n",
       "      <td>-0.098621</td>\n",
       "      <td>0.191706</td>\n",
       "      <td>...</td>\n",
       "      <td>-0.111603</td>\n",
       "      <td>-0.645817</td>\n",
       "      <td>-1.211867</td>\n",
       "      <td>1.330255</td>\n",
       "      <td>-0.226251</td>\n",
       "      <td>0.530106</td>\n",
       "      <td>-0.267283</td>\n",
       "      <td>-0.685813</td>\n",
       "      <td>0.020803</td>\n",
       "      <td>obs</td>\n",
       "    </tr>\n",
       "    <tr>\n",
       "      <th>3</th>\n",
       "      <td>-0.359658</td>\n",
       "      <td>-1.081468</td>\n",
       "      <td>0.904916</td>\n",
       "      <td>0.500605</td>\n",
       "      <td>0.384816</td>\n",
       "      <td>-0.414948</td>\n",
       "      <td>-0.396487</td>\n",
       "      <td>-0.713363</td>\n",
       "      <td>-0.001175</td>\n",
       "      <td>-0.623004</td>\n",
       "      <td>...</td>\n",
       "      <td>-0.637798</td>\n",
       "      <td>-0.967510</td>\n",
       "      <td>-0.544244</td>\n",
       "      <td>-0.324714</td>\n",
       "      <td>0.335550</td>\n",
       "      <td>0.454699</td>\n",
       "      <td>-0.320341</td>\n",
       "      <td>-0.104311</td>\n",
       "      <td>0.478039</td>\n",
       "      <td>obs</td>\n",
       "    </tr>\n",
       "    <tr>\n",
       "      <th>4</th>\n",
       "      <td>0.906305</td>\n",
       "      <td>-0.653814</td>\n",
       "      <td>-1.006582</td>\n",
       "      <td>-0.506965</td>\n",
       "      <td>1.263883</td>\n",
       "      <td>-1.640321</td>\n",
       "      <td>-0.273144</td>\n",
       "      <td>0.785179</td>\n",
       "      <td>-0.078615</td>\n",
       "      <td>-1.359076</td>\n",
       "      <td>...</td>\n",
       "      <td>1.403845</td>\n",
       "      <td>-0.450875</td>\n",
       "      <td>0.264944</td>\n",
       "      <td>-0.603409</td>\n",
       "      <td>1.056394</td>\n",
       "      <td>-1.742338</td>\n",
       "      <td>0.175205</td>\n",
       "      <td>0.388329</td>\n",
       "      <td>-0.720161</td>\n",
       "      <td>obs</td>\n",
       "    </tr>\n",
       "  </tbody>\n",
       "</table>\n",
       "<p>5 rows × 21 columns</p>\n",
       "</div>"
      ],
      "text/plain": [
       "          0         1         2         3         4         5         6  \\\n",
       "0 -1.042648  0.226783 -1.871494 -1.581519  2.149227 -0.458693  0.714175   \n",
       "1 -1.068825  0.559836  0.854967  0.205361  1.143803  0.896259  1.228846   \n",
       "2 -0.178734 -0.770220  0.989042 -0.676152 -0.534547 -0.174431  1.071692   \n",
       "3 -0.359658 -1.081468  0.904916  0.500605  0.384816 -0.414948 -0.396487   \n",
       "4  0.906305 -0.653814 -1.006582 -0.506965  1.263883 -1.640321 -0.273144   \n",
       "\n",
       "          7         8         9  ...        11        12        13        14  \\\n",
       "0  3.091564 -0.509956  0.036024  ... -1.486337  1.109146  1.863365  0.409856   \n",
       "1 -0.800072 -0.918887 -1.052896  ... -1.304848  1.779307 -0.951121 -0.049833   \n",
       "2 -1.091981 -0.098621  0.191706  ... -0.111603 -0.645817 -1.211867  1.330255   \n",
       "3 -0.713363 -0.001175 -0.623004  ... -0.637798 -0.967510 -0.544244 -0.324714   \n",
       "4  0.785179 -0.078615 -1.359076  ...  1.403845 -0.450875  0.264944 -0.603409   \n",
       "\n",
       "         15        16        17        18        19  perturbation_label  \n",
       "0  0.858165  0.190376  0.407933  0.380345  0.605214                 obs  \n",
       "1 -0.104780  0.651097  0.105443  0.042832  0.458566                 obs  \n",
       "2 -0.226251  0.530106 -0.267283 -0.685813  0.020803                 obs  \n",
       "3  0.335550  0.454699 -0.320341 -0.104311  0.478039                 obs  \n",
       "4  1.056394 -1.742338  0.175205  0.388329 -0.720161                 obs  \n",
       "\n",
       "[5 rows x 21 columns]"
      ]
     },
     "execution_count": 3,
     "metadata": {},
     "output_type": "execute_result"
    }
   ],
   "source": [
    "X_df.head()"
   ]
  },
  {
   "attachments": {},
   "cell_type": "markdown",
   "metadata": {},
   "source": [
    "Now, to construct a torch dataset with the appropriate tensors, we use the utility function `sdcd.utils.create_intervention_dataset`.\n",
    " \n",
    "(Note, we also have a function `sdcd.utils.create_dataset_anndata` for users working with the AnnData data format.)"
   ]
  },
  {
   "cell_type": "code",
   "execution_count": 4,
   "metadata": {},
   "outputs": [
    {
     "data": {
      "text/plain": [
       "<torch.utils.data.dataset.TensorDataset at 0x28a8772b0>"
      ]
     },
     "execution_count": 4,
     "metadata": {},
     "output_type": "execute_result"
    }
   ],
   "source": [
    "X_dataset = create_intervention_dataset(X_df, perturbation_colname=\"perturbation_label\")\n",
    "X_dataset"
   ]
  },
  {
   "attachments": {},
   "cell_type": "markdown",
   "metadata": {},
   "source": [
    "Now, we are ready to train the SDCD model. Here, we will set `finetune=True` which runs the algorithm until the final adjacency matrix is estimated and binarized, then proceeds with a final stage of training the model until it converges for the fixed, discretized adjacency matrix. If you only care about the predicted graph, you may set this to `False` to shorten the runtime."
   ]
  },
  {
   "cell_type": "code",
   "execution_count": 5,
   "metadata": {},
   "outputs": [
    {
     "name": "stdout",
     "output_type": "stream",
     "text": [
      "Epoch 0: loss=27.26, gamma=0.00\n",
      "Epoch 100: loss=9.29, gamma=0.00\n",
      "Epoch 200: loss=7.22, gamma=0.00\n",
      "Epoch 300: loss=6.15, gamma=0.00\n",
      "Epoch 400: loss=5.41, gamma=0.00\n",
      "Epoch 500: loss=4.80, gamma=0.00\n",
      "Epoch 600: loss=4.41, gamma=0.00\n",
      "Epoch 700: loss=4.04, gamma=0.00\n",
      "Epoch 800: loss=3.75, gamma=0.00\n",
      "Epoch 900: loss=3.45, gamma=0.00\n",
      "Epoch 1000: loss=3.21, gamma=0.00\n",
      "Epoch 1100: loss=2.93, gamma=0.00\n",
      "Epoch 1200: loss=2.77, gamma=0.00\n",
      "Epoch 1300: loss=2.61, gamma=0.00\n",
      "Epoch 1400: loss=2.52, gamma=0.00\n",
      "Epoch 1500: loss=2.46, gamma=0.00\n",
      "Epoch 1600: loss=2.37, gamma=0.00\n",
      "Epoch 1700: loss=2.29, gamma=0.00\n",
      "Epoch 1800: loss=2.19, gamma=0.00\n",
      "Epoch 1900: loss=2.09, gamma=0.00\n",
      "Fraction of possible edges in mask: 0.1675\n",
      "Epoch 0: loss=28.21, gamma=0.00\n",
      "Epoch 100: loss=17.03, gamma=0.50\n",
      "Epoch 200: loss=12.50, gamma=1.00\n",
      "Epoch 300: loss=12.00, gamma=1.50\n",
      "Epoch 400: loss=12.17, gamma=2.00\n",
      "Epoch 500: loss=12.37, gamma=2.50\n",
      "Epoch 600: loss=12.70, gamma=3.00\n",
      "Epoch 700: loss=12.95, gamma=3.50\n",
      "Epoch 800: loss=13.24, gamma=4.00\n",
      "Epoch 900: loss=13.51, gamma=4.50\n",
      "Epoch 1000: loss=13.70, gamma=5.00\n",
      "Epoch 1100: loss=14.00, gamma=5.50\n",
      "Epoch 1200: loss=14.20, gamma=6.00\n",
      "Epoch 1300: loss=14.55, gamma=6.50\n",
      "Epoch 1400: loss=14.63, gamma=7.00\n",
      "Epoch 1500: loss=14.85, gamma=7.50\n",
      "Epoch 1600: loss=15.30, gamma=8.00\n",
      "Epoch 1700: loss=15.53, gamma=8.50\n",
      "Epoch 1800: loss=15.67, gamma=9.00\n",
      "Epoch 1900: loss=15.70, gamma=9.50\n",
      "Fixing adjacency matrix.\n",
      "Beginning finetune.\n",
      "Epoch 0: loss=26.42, gamma=0.00\n",
      "Epoch 100: loss=13.35, gamma=0.00\n",
      "Epoch 200: loss=12.87, gamma=0.00\n",
      "Epoch 300: loss=12.49, gamma=0.00\n",
      "Epoch 400: loss=12.25, gamma=0.00\n",
      "Epoch 500: loss=12.05, gamma=0.00\n",
      "Epoch 600: loss=11.92, gamma=0.00\n",
      "Epoch 700: loss=11.75, gamma=0.00\n",
      "Epoch 800: loss=11.71, gamma=0.00\n",
      "Epoch 900: loss=11.58, gamma=0.00\n",
      "Epoch 1000: loss=11.51, gamma=0.00\n",
      "Epoch 1100: loss=11.44, gamma=0.00\n",
      "Epoch 1200: loss=11.38, gamma=0.00\n",
      "Epoch 1300: loss=11.29, gamma=0.00\n",
      "Epoch 1400: loss=11.24, gamma=0.00\n",
      "Epoch 1500: loss=11.20, gamma=0.00\n",
      "Epoch 1600: loss=11.19, gamma=0.00\n",
      "Epoch 1700: loss=11.14, gamma=0.00\n",
      "Epoch 1800: loss=11.11, gamma=0.00\n",
      "Epoch 1900: loss=11.07, gamma=0.00\n",
      "Finished training in 85.46118497848511 seconds.\n"
     ]
    }
   ],
   "source": [
    "model = SDCD()\n",
    "model.train(X_dataset, finetune=True)"
   ]
  },
  {
   "attachments": {},
   "cell_type": "markdown",
   "metadata": {},
   "source": [
    "Lastly, we can recover the predicted adjacency matrix, both before thresholding and after thresholding, and compute likelihoods respect to a given observation."
   ]
  },
  {
   "cell_type": "code",
   "execution_count": 6,
   "metadata": {},
   "outputs": [
    {
     "name": "stdout",
     "output_type": "stream",
     "text": [
      "[[0 0 0 0 0 0 0 0 0 0 0 1 0 0 0 0 0 0 0 0]\n",
      " [0 0 0 0 0 0 0 0 0 0 0 0 1 0 0 0 0 0 0 0]\n",
      " [0 0 0 0 0 0 0 0 0 0 0 0 0 0 0 0 0 0 0 1]\n",
      " [0 0 0 0 0 0 0 0 0 0 0 0 0 0 0 0 0 0 0 0]\n",
      " [0 0 0 0 0 0 0 0 1 1 0 0 0 0 0 0 1 0 0 0]\n",
      " [0 0 0 0 0 0 0 0 0 0 0 0 0 0 0 0 0 0 0 0]\n",
      " [0 0 0 0 0 0 0 0 0 0 0 0 0 0 0 0 0 0 0 0]\n",
      " [0 0 1 0 1 0 0 0 0 1 0 0 0 1 0 0 0 0 0 1]\n",
      " [0 0 0 0 0 0 1 0 0 0 0 0 1 0 0 0 0 1 0 0]\n",
      " [0 0 0 0 0 0 0 0 0 0 0 0 0 0 0 0 1 0 0 0]\n",
      " [0 0 0 0 0 1 0 0 0 0 0 0 0 0 0 0 0 0 0 0]\n",
      " [0 0 0 0 1 0 0 0 0 1 0 0 0 0 0 0 1 0 0 0]\n",
      " [0 0 0 0 0 0 1 0 0 0 0 0 0 0 0 0 0 0 0 0]\n",
      " [0 0 0 0 0 0 0 0 0 1 0 0 0 0 0 0 0 0 0 0]\n",
      " [0 0 0 0 0 0 1 0 0 0 0 0 0 0 0 0 0 1 0 0]\n",
      " [0 1 0 0 0 0 0 0 0 0 0 0 0 0 0 0 1 0 0 0]\n",
      " [0 0 0 0 0 0 0 0 0 0 0 0 0 0 0 0 0 0 0 0]\n",
      " [0 0 0 0 0 0 0 0 0 0 0 0 0 0 0 0 0 0 0 0]\n",
      " [0 0 0 0 1 0 0 0 0 0 0 0 0 0 0 0 0 0 0 0]\n",
      " [0 0 0 0 0 0 0 0 0 0 0 0 0 0 0 0 1 0 0 0]]\n"
     ]
    }
   ],
   "source": [
    "adj_matrix = model.get_adjacency_matrix(threshold=True)\n",
    "print(adj_matrix)"
   ]
  },
  {
   "cell_type": "code",
   "execution_count": 8,
   "metadata": {},
   "outputs": [
    {
     "data": {
      "image/png": "[encoded data removed]",
      "text/plain": [
       "<Figure size 640x480 with 1 Axes>"
      ]
     },
     "metadata": {},
     "output_type": "display_data"
    }
   ],
   "source": [
    "# We can visualize the graph with the networkx package (Note: you will need matplotlib for this step)\n",
    "import networkx as nx\n",
    "G = nx.from_numpy_array(adj_matrix, create_using=nx.DiGraph())\n",
    "nx.draw_circular(G, with_labels=True)"
   ]
  },
  {
   "cell_type": "code",
   "execution_count": 9,
   "metadata": {},
   "outputs": [
    {
     "name": "stdout",
     "output_type": "stream",
     "text": [
      "[[0.0000000e+00 0.0000000e+00 0.0000000e+00 0.0000000e+00 0.0000000e+00\n",
      "  0.0000000e+00 0.0000000e+00 0.0000000e+00 1.6727905e-03 0.0000000e+00\n",
      "  0.0000000e+00 7.8354633e-01 0.0000000e+00 0.0000000e+00 0.0000000e+00\n",
      "  0.0000000e+00 0.0000000e+00 0.0000000e+00 0.0000000e+00 0.0000000e+00]\n",
      " [0.0000000e+00 0.0000000e+00 0.0000000e+00 0.0000000e+00 1.3813855e-03\n",
      "  0.0000000e+00 0.0000000e+00 0.0000000e+00 1.9577078e-03 0.0000000e+00\n",
      "  0.0000000e+00 0.0000000e+00 2.6522236e+00 0.0000000e+00 0.0000000e+00\n",
      "  5.0185114e-01 0.0000000e+00 0.0000000e+00 0.0000000e+00 0.0000000e+00]\n",
      " [0.0000000e+00 0.0000000e+00 0.0000000e+00 0.0000000e+00 1.7044384e-03\n",
      "  0.0000000e+00 0.0000000e+00 1.6327979e-03 0.0000000e+00 0.0000000e+00\n",
      "  0.0000000e+00 0.0000000e+00 0.0000000e+00 0.0000000e+00 0.0000000e+00\n",
      "  0.0000000e+00 0.0000000e+00 0.0000000e+00 0.0000000e+00 4.3727842e-01]\n",
      " [0.0000000e+00 1.8689970e-02 0.0000000e+00 0.0000000e+00 0.0000000e+00\n",
      "  0.0000000e+00 0.0000000e+00 0.0000000e+00 0.0000000e+00 0.0000000e+00\n",
      "  0.0000000e+00 0.0000000e+00 0.0000000e+00 0.0000000e+00 0.0000000e+00\n",
      "  0.0000000e+00 0.0000000e+00 0.0000000e+00 0.0000000e+00 0.0000000e+00]\n",
      " [0.0000000e+00 7.7737542e-04 0.0000000e+00 0.0000000e+00 0.0000000e+00\n",
      "  0.0000000e+00 0.0000000e+00 0.0000000e+00 2.8749868e-01 7.4654472e-01\n",
      "  0.0000000e+00 4.9055874e-04 0.0000000e+00 0.0000000e+00 0.0000000e+00\n",
      "  0.0000000e+00 2.1733830e+00 0.0000000e+00 0.0000000e+00 0.0000000e+00]\n",
      " [0.0000000e+00 0.0000000e+00 0.0000000e+00 0.0000000e+00 0.0000000e+00\n",
      "  0.0000000e+00 0.0000000e+00 0.0000000e+00 0.0000000e+00 0.0000000e+00\n",
      "  6.2809849e-01 0.0000000e+00 0.0000000e+00 0.0000000e+00 0.0000000e+00\n",
      "  0.0000000e+00 0.0000000e+00 0.0000000e+00 0.0000000e+00 0.0000000e+00]\n",
      " [0.0000000e+00 1.1433051e-03 0.0000000e+00 0.0000000e+00 3.5454746e-04\n",
      "  0.0000000e+00 0.0000000e+00 0.0000000e+00 1.6724280e-03 0.0000000e+00\n",
      "  0.0000000e+00 0.0000000e+00 0.0000000e+00 0.0000000e+00 1.6190677e-03\n",
      "  0.0000000e+00 0.0000000e+00 1.2286949e-03 0.0000000e+00 0.0000000e+00]\n",
      " [0.0000000e+00 0.0000000e+00 3.5387962e+00 0.0000000e+00 1.3754174e-01\n",
      "  0.0000000e+00 0.0000000e+00 0.0000000e+00 0.0000000e+00 1.8482170e+00\n",
      "  0.0000000e+00 0.0000000e+00 0.0000000e+00 7.1594781e-01 0.0000000e+00\n",
      "  0.0000000e+00 0.0000000e+00 0.0000000e+00 0.0000000e+00 4.5380104e-01]\n",
      " [0.0000000e+00 5.1711901e-04 0.0000000e+00 0.0000000e+00 1.9851405e-02\n",
      "  0.0000000e+00 4.4309711e+00 0.0000000e+00 0.0000000e+00 0.0000000e+00\n",
      "  0.0000000e+00 0.0000000e+00 5.2044072e+00 0.0000000e+00 2.2932219e-03\n",
      "  0.0000000e+00 0.0000000e+00 1.3206527e+00 0.0000000e+00 0.0000000e+00]\n",
      " [0.0000000e+00 0.0000000e+00 0.0000000e+00 0.0000000e+00 4.2797357e-01\n",
      "  0.0000000e+00 0.0000000e+00 0.0000000e+00 9.5271561e-03 0.0000000e+00\n",
      "  0.0000000e+00 6.8612874e-04 0.0000000e+00 0.0000000e+00 0.0000000e+00\n",
      "  0.0000000e+00 2.0644292e-01 0.0000000e+00 0.0000000e+00 0.0000000e+00]\n",
      " [0.0000000e+00 0.0000000e+00 0.0000000e+00 0.0000000e+00 0.0000000e+00\n",
      "  6.5747511e-01 0.0000000e+00 0.0000000e+00 0.0000000e+00 0.0000000e+00\n",
      "  0.0000000e+00 0.0000000e+00 0.0000000e+00 0.0000000e+00 0.0000000e+00\n",
      "  0.0000000e+00 0.0000000e+00 0.0000000e+00 0.0000000e+00 0.0000000e+00]\n",
      " [4.1176522e-01 0.0000000e+00 0.0000000e+00 0.0000000e+00 1.4522611e-01\n",
      "  0.0000000e+00 0.0000000e+00 0.0000000e+00 0.0000000e+00 7.0423633e-01\n",
      "  0.0000000e+00 0.0000000e+00 0.0000000e+00 0.0000000e+00 0.0000000e+00\n",
      "  0.0000000e+00 2.4101284e+00 0.0000000e+00 0.0000000e+00 0.0000000e+00]\n",
      " [4.5351207e-04 7.2255603e-04 0.0000000e+00 0.0000000e+00 1.1438043e-03\n",
      "  0.0000000e+00 7.7758020e-01 0.0000000e+00 1.2574311e-02 0.0000000e+00\n",
      "  0.0000000e+00 0.0000000e+00 0.0000000e+00 0.0000000e+00 1.4328014e-03\n",
      "  0.0000000e+00 0.0000000e+00 2.7702439e-03 0.0000000e+00 0.0000000e+00]\n",
      " [0.0000000e+00 0.0000000e+00 0.0000000e+00 0.0000000e+00 1.2340996e-03\n",
      "  0.0000000e+00 0.0000000e+00 4.9472046e-01 0.0000000e+00 2.5839218e-01\n",
      "  0.0000000e+00 0.0000000e+00 0.0000000e+00 0.0000000e+00 0.0000000e+00\n",
      "  0.0000000e+00 0.0000000e+00 0.0000000e+00 0.0000000e+00 0.0000000e+00]\n",
      " [0.0000000e+00 0.0000000e+00 0.0000000e+00 0.0000000e+00 0.0000000e+00\n",
      "  0.0000000e+00 2.6131721e+00 0.0000000e+00 4.8997840e-03 0.0000000e+00\n",
      "  0.0000000e+00 0.0000000e+00 0.0000000e+00 0.0000000e+00 0.0000000e+00\n",
      "  0.0000000e+00 0.0000000e+00 1.7420980e-01 0.0000000e+00 0.0000000e+00]\n",
      " [0.0000000e+00 6.1521608e-01 0.0000000e+00 0.0000000e+00 5.2604266e-03\n",
      "  0.0000000e+00 0.0000000e+00 0.0000000e+00 0.0000000e+00 0.0000000e+00\n",
      "  0.0000000e+00 0.0000000e+00 0.0000000e+00 0.0000000e+00 0.0000000e+00\n",
      "  0.0000000e+00 2.8826244e+00 0.0000000e+00 0.0000000e+00 0.0000000e+00]\n",
      " [8.3698623e-04 0.0000000e+00 0.0000000e+00 0.0000000e+00 6.8660494e-04\n",
      "  0.0000000e+00 0.0000000e+00 0.0000000e+00 0.0000000e+00 0.0000000e+00\n",
      "  0.0000000e+00 6.7929155e-04 0.0000000e+00 0.0000000e+00 0.0000000e+00\n",
      "  5.3244369e-04 0.0000000e+00 0.0000000e+00 0.0000000e+00 0.0000000e+00]\n",
      " [0.0000000e+00 0.0000000e+00 0.0000000e+00 0.0000000e+00 0.0000000e+00\n",
      "  0.0000000e+00 0.0000000e+00 0.0000000e+00 0.0000000e+00 0.0000000e+00\n",
      "  0.0000000e+00 0.0000000e+00 0.0000000e+00 7.3441479e-04 0.0000000e+00\n",
      "  0.0000000e+00 0.0000000e+00 0.0000000e+00 0.0000000e+00 0.0000000e+00]\n",
      " [0.0000000e+00 0.0000000e+00 0.0000000e+00 0.0000000e+00 1.2605757e-01\n",
      "  0.0000000e+00 0.0000000e+00 0.0000000e+00 0.0000000e+00 0.0000000e+00\n",
      "  0.0000000e+00 0.0000000e+00 0.0000000e+00 0.0000000e+00 3.3022836e-02\n",
      "  0.0000000e+00 0.0000000e+00 0.0000000e+00 0.0000000e+00 0.0000000e+00]\n",
      " [7.0602121e-04 0.0000000e+00 0.0000000e+00 0.0000000e+00 0.0000000e+00\n",
      "  0.0000000e+00 0.0000000e+00 0.0000000e+00 0.0000000e+00 0.0000000e+00\n",
      "  0.0000000e+00 0.0000000e+00 0.0000000e+00 7.7821594e-04 0.0000000e+00\n",
      "  0.0000000e+00 3.5236080e+00 0.0000000e+00 0.0000000e+00 0.0000000e+00]]\n"
     ]
    }
   ],
   "source": [
    "# To retrieve the unthresholded adjacency matrix\n",
    "adj_matrix = model.get_adjacency_matrix(threshold=False)\n",
    "print(adj_matrix)"
   ]
  },
  {
   "cell_type": "code",
   "execution_count": null,
   "metadata": {},
   "outputs": [
    {
     "data": {
      "text/plain": [
       "8.566566569010417"
      ]
     },
     "execution_count": 8,
     "metadata": {},
     "output_type": "execute_result"
    }
   ],
   "source": [
    "model.compute_nll(X_dataset) # Reports average negative log-likelihood"
   ]
  },
  {
   "attachments": {},
   "cell_type": "markdown",
   "metadata": {},
   "source": [
    "This concludes the tutorial. Please raise an issue on the Github repo if you come across any issues, and we hope you find this package useful to your research!"
   ]
  },
  {
   "cell_type": "code",
   "execution_count": null,
   "metadata": {},
   "outputs": [],
   "source": []
  }
 ],
 "metadata": {
  "kernelspec": {
   "display_name": "causalperturb",
   "language": "python",
   "name": "python3"
  },
  "language_info": {
   "codemirror_mode": {
    "name": "ipython",
    "version": 3
   },
   "file_extension": ".py",
   "mimetype": "text/x-python",
   "name": "python",
   "nbconvert_exporter": "python",
   "pygments_lexer": "ipython3",
   "version": "3.10.13"
  },
  "orig_nbformat": 4
 },
 "nbformat": 4,
 "nbformat_minor": 2
}
