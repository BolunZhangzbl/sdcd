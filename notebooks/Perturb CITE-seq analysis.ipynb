{
 "cells": [
  {
   "cell_type": "code",
   "execution_count": 1,
   "id": "a7d30aca-2e61-4368-9260-7d7f2765a1ef",
   "metadata": {},
   "outputs": [],
   "source": [
    "import sys\n",
    "sys.path.append(\"../\") "
   ]
  },
  {
   "cell_type": "code",
   "execution_count": 2,
   "id": "b80ea922-2be4-4d54-986b-4323f55b48a1",
   "metadata": {},
   "outputs": [],
   "source": [
    "import pandas as pd\n",
    "import numpy as np\n",
    "\n",
    "import scanpy as sc\n",
    "\n",
    "import seaborn as sns\n",
    "import matplotlib.pyplot as plt\n",
    "import torch\n",
    "\n",
    "from models import SDCI\n",
    "from utils import create_intervention_dataset"
   ]
  },
  {
   "cell_type": "code",
   "execution_count": 3,
   "id": "fe1e2a9b-dc7f-43db-a340-427faa30bee7",
   "metadata": {},
   "outputs": [
    {
     "data": {
      "text/plain": [
       "AnnData object with n_obs × n_vars = 57523 × 1657\n",
       "    obs: 'library_preparation_protocol', 'condition', 'MOI', 'sgRNA', 'UMI_count', 'sgRNAs', 'n_genes', 'targets', 'regimes'\n",
       "    var: 'n_cells', 'highly_variable', 'highly_variable_rank', 'means', 'variances', 'variances_norm', 'targeted'\n",
       "    uns: 'hvg', 'log1p'\n",
       "    layers: 'counts'"
      ]
     },
     "execution_count": 3,
     "metadata": {},
     "output_type": "execute_result"
    }
   ],
   "source": [
    "adata = sc.read(\"/home/justinhong/dcdfg_preprocess/perturb-cite-seq/SCP1064/ready/control/gene_filtered_adata.h5ad\")\n",
    "adata"
   ]
  },
  {
   "cell_type": "code",
   "execution_count": 4,
   "id": "110f59d5-6777-489f-80d6-2a8550c20f6c",
   "metadata": {},
   "outputs": [],
   "source": [
    "X_df = pd.DataFrame(adata.X.todense(), index=adata.obs_names, columns=adata.var_names)\n",
    "X_df[\"perturbation_label\"] = adata.obs[\"targets\"]\n",
    "dataset = create_intervention_dataset(X_df)"
   ]
  },
  {
   "cell_type": "code",
   "execution_count": 5,
   "id": "fc67ee8c-aa6e-4393-a6de-8fc7840ab44b",
   "metadata": {},
   "outputs": [],
   "source": [
    "def run_sdci(): \n",
    "    wandb.init()\n",
    "    mv_flavor = wandb.config.mv_flavor\n",
    "    s1_alpha = wandb.config.s1_alpha\n",
    "    s2_alpha = wandb.config.s2_alpha\n",
    "    s1_beta = wandb.config.s1_beta\n",
    "    s2_beta = wandb.config.s2_beta\n",
    "    max_gamma = wandb.config.max_gamma\n",
    "\n",
    "    train_dataset, val_dataset = torch.utils.data.random_split(dataset, [0.9, 0.1])\n",
    "\n",
    "    device = torch.device(\"cuda:0\" if torch.cuda.is_available() else \"cpu\")\n",
    "    print(f\"Using {device}\")\n",
    "    model = SDCI(model_variance_flavor=mv_flavor)\n",
    "    model.train(\n",
    "        train_dataset,\n",
    "        device=device,\n",
    "        log_wandb=True,\n",
    "        verbose=False,\n",
    "        stage1_kwargs={\"n_epochs\": 100, \"alpha\": s1_alpha, \"beta\": s1_beta, \"n_epochs_check\": 5},\n",
    "        stage2_kwargs={\"n_epochs\": 100, \"alpha\": s2_alpha, \"beta\": s2_beta, \"max_gamma\": max_gamma, \"n_epochs_check\": 5}\n",
    "    )\n",
    "    val_rec_loss = model._model.reconstruction_loss(val_dataset[:][0].to(device), mask_interventions_oh=val_dataset[:][1].to(device)).cpu().detach().item()\n",
    "\n",
    "    min_dag_threshold = model.compute_min_dag_threshold()\n",
    "    n_edges_min_dag = model.get_adjacency_matrix().sum()\n",
    "    \n",
    "    wandb.log(dict(val_rec_loss=val_rec_loss, min_dag_threshold=min_dag_threshold, n_edges_min_dag=n_edges_min_dag))\n",
    "    wandb.finish()"
   ]
  },
  {
   "cell_type": "code",
   "execution_count": 6,
   "id": "da9e28bc-eac8-446c-b4f0-4b38bf3e85a4",
   "metadata": {},
   "outputs": [],
   "source": [
    "sweep_configuration = {\n",
    "    \"method\" : \"bayes\",\n",
    "    \"name\": \"sdci_new_sim_sweep\",\n",
    "    \"metric\": {\n",
    "        \"goal\": \"minimize\",\n",
    "        \"name\": \"val_rec_loss\",\n",
    "    },\n",
    "    \"parameters\": {\n",
    "        \"s1_alpha\": {\"max\": 1e-1, \"min\": 1e-5, \"distribution\": \"log_uniform_values\"},\n",
    "        \"s2_alpha\": {\"max\": 1e-1, \"min\": 1e-5, \"distribution\": \"log_uniform_values\"},\n",
    "        \"s1_beta\": {\"max\": 1e-1, \"min\": 1e-5, \"distribution\": \"log_uniform_values\"},\n",
    "        \"s2_beta\": {\"max\": 1e-1, \"min\": 1e-5, \"distribution\": \"log_uniform_values\"},\n",
    "        \"max_gamma\": {\"max\": 1000, \"min\": 100, \"distribution\": \"log_uniform_values\"},\n",
    "        \"mv_flavor\": {\"values\": [\"nn\"]},\n",
    "    },\n",
    "    \"early_terminate\": {\n",
    "        \"type\": \"hyperband\",\n",
    "        \"min_iter\": 11,\n",
    "    }\n",
    "}"
   ]
  },
  {
   "cell_type": "code",
   "execution_count": 7,
   "id": "3a64c59e-1116-46f0-8e8e-53b2746c027f",
   "metadata": {
    "collapsed": true,
    "jupyter": {
     "outputs_hidden": true
    }
   },
   "outputs": [
    {
     "name": "stderr",
     "output_type": "stream",
     "text": [
      "\u001b[34m\u001b[1mwandb\u001b[0m: Currently logged in as: \u001b[33mjustinhong\u001b[0m (\u001b[33mazizi-causal-perturb\u001b[0m). Use \u001b[1m`wandb login --relogin`\u001b[0m to force relogin\n"
     ]
    },
    {
     "name": "stdout",
     "output_type": "stream",
     "text": [
      "Create sweep with ID: c55u19ta\n",
      "Sweep URL: https://wandb.ai/azizi-causal-perturb/SDCI_perturb_cite_seq/sweeps/c55u19ta\n"
     ]
    },
    {
     "name": "stderr",
     "output_type": "stream",
     "text": [
      "\u001b[34m\u001b[1mwandb\u001b[0m: Agent Starting Run: efid05rs with config:\n",
      "\u001b[34m\u001b[1mwandb\u001b[0m: \tmax_gamma: 379.8147342065447\n",
      "\u001b[34m\u001b[1mwandb\u001b[0m: \tmv_flavor: nn\n",
      "\u001b[34m\u001b[1mwandb\u001b[0m: \ts1_alpha: 0.01710698860588679\n",
      "\u001b[34m\u001b[1mwandb\u001b[0m: \ts1_beta: 9.746829410362016e-05\n",
      "\u001b[34m\u001b[1mwandb\u001b[0m: \ts2_alpha: 0.0001275049488058736\n",
      "\u001b[34m\u001b[1mwandb\u001b[0m: \ts2_beta: 8.220218668276032e-05\n"
     ]
    },
    {
     "data": {
      "application/vnd.jupyter.widget-view+json": {
       "model_id": "57e80af32a8746ae9077dfc36723df55",
       "version_major": 2,
       "version_minor": 0
      },
      "text/plain": [
       "VBox(children=(Label(value='Waiting for wandb.init()...\\r'), FloatProgress(value=0.016668109150001935, max=1.0…"
      ]
     },
     "metadata": {},
     "output_type": "display_data"
    },
    {
     "data": {
      "text/html": [
       "Tracking run with wandb version 0.15.8"
      ],
      "text/plain": [
       "<IPython.core.display.HTML object>"
      ]
     },
     "metadata": {},
     "output_type": "display_data"
    },
    {
     "data": {
      "text/html": [
       "Run data is saved locally in <code>/home/justinhong/causal-perturbseq/notebooks/wandb/run-20230823_004233-efid05rs</code>"
      ],
      "text/plain": [
       "<IPython.core.display.HTML object>"
      ]
     },
     "metadata": {},
     "output_type": "display_data"
    },
    {
     "data": {
      "text/html": [
       "Syncing run <strong><a href='https://wandb.ai/azizi-causal-perturb/SDCI_perturb_cite_seq/runs/efid05rs' target=\"_blank\">playful-sweep-1</a></strong> to <a href='https://wandb.ai/azizi-causal-perturb/SDCI_perturb_cite_seq' target=\"_blank\">Weights & Biases</a> (<a href='https://wandb.me/run' target=\"_blank\">docs</a>)<br/>Sweep page: <a href='https://wandb.ai/azizi-causal-perturb/SDCI_perturb_cite_seq/sweeps/c55u19ta' target=\"_blank\">https://wandb.ai/azizi-causal-perturb/SDCI_perturb_cite_seq/sweeps/c55u19ta</a>"
      ],
      "text/plain": [
       "<IPython.core.display.HTML object>"
      ]
     },
     "metadata": {},
     "output_type": "display_data"
    },
    {
     "data": {
      "text/html": [
       " View project at <a href='https://wandb.ai/azizi-causal-perturb/SDCI_perturb_cite_seq' target=\"_blank\">https://wandb.ai/azizi-causal-perturb/SDCI_perturb_cite_seq</a>"
      ],
      "text/plain": [
       "<IPython.core.display.HTML object>"
      ]
     },
     "metadata": {},
     "output_type": "display_data"
    },
    {
     "data": {
      "text/html": [
       " View sweep at <a href='https://wandb.ai/azizi-causal-perturb/SDCI_perturb_cite_seq/sweeps/c55u19ta' target=\"_blank\">https://wandb.ai/azizi-causal-perturb/SDCI_perturb_cite_seq/sweeps/c55u19ta</a>"
      ],
      "text/plain": [
       "<IPython.core.display.HTML object>"
      ]
     },
     "metadata": {},
     "output_type": "display_data"
    },
    {
     "data": {
      "text/html": [
       " View run at <a href='https://wandb.ai/azizi-causal-perturb/SDCI_perturb_cite_seq/runs/efid05rs' target=\"_blank\">https://wandb.ai/azizi-causal-perturb/SDCI_perturb_cite_seq/runs/efid05rs</a>"
      ],
      "text/plain": [
       "<IPython.core.display.HTML object>"
      ]
     },
     "metadata": {},
     "output_type": "display_data"
    },
    {
     "name": "stdout",
     "output_type": "stream",
     "text": [
      "Using cpu\n"
     ]
    },
    {
     "data": {
      "text/html": [
       "Waiting for W&B process to finish... <strong style=\"color:green\">(success).</strong>"
      ],
      "text/plain": [
       "<IPython.core.display.HTML object>"
      ]
     },
     "metadata": {},
     "output_type": "display_data"
    },
    {
     "data": {
      "text/html": [
       " View run <strong style=\"color:#cdcd00\">playful-sweep-1</strong> at: <a href='https://wandb.ai/azizi-causal-perturb/SDCI_perturb_cite_seq/runs/efid05rs' target=\"_blank\">https://wandb.ai/azizi-causal-perturb/SDCI_perturb_cite_seq/runs/efid05rs</a><br/> View job at <a href='https://wandb.ai/azizi-causal-perturb/SDCI_perturb_cite_seq/jobs/QXJ0aWZhY3RDb2xsZWN0aW9uOjkyMTIyNTA4/version_details/v6' target=\"_blank\">https://wandb.ai/azizi-causal-perturb/SDCI_perturb_cite_seq/jobs/QXJ0aWZhY3RDb2xsZWN0aW9uOjkyMTIyNTA4/version_details/v6</a><br/>Synced 6 W&B file(s), 0 media file(s), 0 artifact file(s) and 0 other file(s)"
      ],
      "text/plain": [
       "<IPython.core.display.HTML object>"
      ]
     },
     "metadata": {},
     "output_type": "display_data"
    },
    {
     "data": {
      "text/html": [
       "Find logs at: <code>./wandb/run-20230823_004233-efid05rs/logs</code>"
      ],
      "text/plain": [
       "<IPython.core.display.HTML object>"
      ]
     },
     "metadata": {},
     "output_type": "display_data"
    },
    {
     "name": "stderr",
     "output_type": "stream",
     "text": [
      "\u001b[34m\u001b[1mwandb\u001b[0m: \u001b[33mWARNING\u001b[0m Ignored wandb.init() arg project when running a sweep.\n"
     ]
    },
    {
     "data": {
      "application/vnd.jupyter.widget-view+json": {
       "model_id": "be95f76b768d450fad30824f5ec5d769",
       "version_major": 2,
       "version_minor": 0
      },
      "text/plain": [
       "VBox(children=(Label(value='Waiting for wandb.init()...\\r'), FloatProgress(value=0.016668120450049173, max=1.0…"
      ]
     },
     "metadata": {},
     "output_type": "display_data"
    },
    {
     "data": {
      "text/html": [
       "Tracking run with wandb version 0.15.8"
      ],
      "text/plain": [
       "<IPython.core.display.HTML object>"
      ]
     },
     "metadata": {},
     "output_type": "display_data"
    },
    {
     "data": {
      "text/html": [
       "Run data is saved locally in <code>/home/justinhong/causal-perturbseq/notebooks/wandb/run-20230823_004243-efid05rs</code>"
      ],
      "text/plain": [
       "<IPython.core.display.HTML object>"
      ]
     },
     "metadata": {},
     "output_type": "display_data"
    },
    {
     "data": {
      "text/html": [
       "Syncing run <strong><a href='https://wandb.ai/azizi-causal-perturb/SDCI_perturb_cite_seq/runs/efid05rs' target=\"_blank\">SDCI</a></strong> to <a href='https://wandb.ai/azizi-causal-perturb/SDCI_perturb_cite_seq' target=\"_blank\">Weights & Biases</a> (<a href='https://wandb.me/run' target=\"_blank\">docs</a>)<br/>Sweep page: <a href='https://wandb.ai/azizi-causal-perturb/SDCI_perturb_cite_seq/sweeps/c55u19ta' target=\"_blank\">https://wandb.ai/azizi-causal-perturb/SDCI_perturb_cite_seq/sweeps/c55u19ta</a>"
      ],
      "text/plain": [
       "<IPython.core.display.HTML object>"
      ]
     },
     "metadata": {},
     "output_type": "display_data"
    },
    {
     "data": {
      "text/html": [
       " View project at <a href='https://wandb.ai/azizi-causal-perturb/SDCI_perturb_cite_seq' target=\"_blank\">https://wandb.ai/azizi-causal-perturb/SDCI_perturb_cite_seq</a>"
      ],
      "text/plain": [
       "<IPython.core.display.HTML object>"
      ]
     },
     "metadata": {},
     "output_type": "display_data"
    },
    {
     "data": {
      "text/html": [
       " View sweep at <a href='https://wandb.ai/azizi-causal-perturb/SDCI_perturb_cite_seq/sweeps/c55u19ta' target=\"_blank\">https://wandb.ai/azizi-causal-perturb/SDCI_perturb_cite_seq/sweeps/c55u19ta</a>"
      ],
      "text/plain": [
       "<IPython.core.display.HTML object>"
      ]
     },
     "metadata": {},
     "output_type": "display_data"
    },
    {
     "data": {
      "text/html": [
       " View run at <a href='https://wandb.ai/azizi-causal-perturb/SDCI_perturb_cite_seq/runs/efid05rs' target=\"_blank\">https://wandb.ai/azizi-causal-perturb/SDCI_perturb_cite_seq/runs/efid05rs</a>"
      ],
      "text/plain": [
       "<IPython.core.display.HTML object>"
      ]
     },
     "metadata": {},
     "output_type": "display_data"
    },
    {
     "name": "stdout",
     "output_type": "stream",
     "text": [
      "Epoch 0: loss=2778.63, gamma=0.00\n",
      "Epoch 5: loss=1980.28, gamma=0.00\n",
      "Epoch 10: loss=1968.14, gamma=0.00\n",
      "Epoch 15: loss=1952.55, gamma=0.00\n",
      "Epoch 20: loss=1950.08, gamma=0.00\n",
      "Epoch 25: loss=1947.80, gamma=0.00\n",
      "Epoch 30: loss=1947.20, gamma=0.00\n",
      "Epoch 35: loss=1941.39, gamma=0.00\n",
      "Epoch 40: loss=1936.75, gamma=0.00\n",
      "Epoch 45: loss=1944.45, gamma=0.00\n",
      "Epoch 50: loss=1942.87, gamma=0.00\n",
      "Epoch 55: loss=1942.63, gamma=0.00\n",
      "Epoch 60: loss=1954.55, gamma=0.00\n",
      "Epoch 65: loss=1941.45, gamma=0.00\n",
      "Epoch 70: loss=1936.16, gamma=0.00\n",
      "Epoch 75: loss=1934.88, gamma=0.00\n",
      "Epoch 80: loss=1953.16, gamma=0.00\n",
      "Epoch 85: loss=1942.72, gamma=0.00\n",
      "Epoch 90: loss=1938.32, gamma=0.00\n",
      "Epoch 95: loss=1932.26, gamma=0.00\n",
      "Fraction of possible edges in mask: 0.0005230093140091833\n",
      "Epoch 0: loss=2073.02, gamma=0.00\n",
      "Epoch 5: loss=1748.83, gamma=19.18\n",
      "Epoch 10: loss=1743.25, gamma=38.37\n",
      "Epoch 15: loss=1734.76, gamma=57.55\n",
      "Epoch 20: loss=1732.12, gamma=57.55\n",
      "Epoch 25: loss=1740.84, gamma=57.55\n",
      "Epoch 30: loss=1730.30, gamma=57.55\n",
      "Epoch 35: loss=1742.41, gamma=57.55\n",
      "Epoch 40: loss=1729.94, gamma=57.55\n",
      "Epoch 45: loss=1723.09, gamma=57.55\n",
      "Epoch 50: loss=1735.63, gamma=57.55\n",
      "Epoch 55: loss=1726.80, gamma=57.55\n",
      "Epoch 60: loss=1725.23, gamma=57.55\n",
      "Epoch 65: loss=1724.64, gamma=57.55\n",
      "Epoch 70: loss=1722.69, gamma=57.55\n",
      "Epoch 75: loss=1723.15, gamma=57.55\n",
      "Epoch 80: loss=1719.80, gamma=57.55\n",
      "Epoch 85: loss=1719.25, gamma=57.55\n",
      "Epoch 90: loss=1714.14, gamma=57.55\n",
      "Epoch 95: loss=1718.26, gamma=57.55\n",
      "Finished training in 2294.407534122467 seconds.\n"
     ]
    },
    {
     "data": {
      "text/html": [
       "Waiting for W&B process to finish... <strong style=\"color:green\">(success).</strong>"
      ],
      "text/plain": [
       "<IPython.core.display.HTML object>"
      ]
     },
     "metadata": {},
     "output_type": "display_data"
    },
    {
     "data": {
      "application/vnd.jupyter.widget-view+json": {
       "model_id": "1a273a80f6e64e35833f745b1daa3335",
       "version_major": 2,
       "version_minor": 0
      },
      "text/plain": [
       "VBox(children=(Label(value='0.009 MB of 0.009 MB uploaded (0.000 MB deduped)\\r'), FloatProgress(value=1.0, max…"
      ]
     },
     "metadata": {},
     "output_type": "display_data"
    },
    {
     "data": {
      "text/html": [
       "<style>\n",
       "    table.wandb td:nth-child(1) { padding: 0 10px; text-align: left ; width: auto;} td:nth-child(2) {text-align: left ; width: 100%}\n",
       "    .wandb-row { display: flex; flex-direction: row; flex-wrap: wrap; justify-content: flex-start; width: 100% }\n",
       "    .wandb-col { display: flex; flex-direction: column; flex-basis: 100%; flex: 1; padding: 10px; }\n",
       "    </style>\n",
       "<div class=\"wandb-row\"><div class=\"wandb-col\"><h3>Run history:</h3><br/><table class=\"wandb\"><tr><td>alpha</td><td>████████████████████▁▁▁▁▁▁▁▁▁▁▁▁▁▁▁▁▁▁▁▁</td></tr><tr><td>dag</td><td>▁▁▁▁▁▁▁▁▁▁▁▁▁▁▁▁▁▁▁▁█▁▁▁▁▁▁▁▁▁▁▁▁▁▁▁▁▁▁▁</td></tr><tr><td>epoch</td><td>▁▁▁▂▂▂▂▂▂▃▃▃▃▃▄▄▄▄▄▄▅▅▅▅▅▅▆▆▆▆▆▇▇▇▇▇▇███</td></tr><tr><td>epoch_loss</td><td>█▃▃▃▃▃▃▂▂▃▃▃▃▂▂▂▃▃▂▂▃▁▁▁▁▁▁▁▁▁▁▁▁▁▁▁▁▁▁▁</td></tr><tr><td>gamma</td><td>▁▁▁▁▁▁▁▁▁▁▁▁▁▁▁▁▁▁▁▁▁▃▆█████████████████</td></tr><tr><td>is_prescreen</td><td>████████████████████▁▁▁▁▁▁▁▁▁▁▁▁▁▁▁▁▁▁▁▁</td></tr><tr><td>l1</td><td>▇▇▇▇████████████████▁▁▁▁▁▁▁▁▁▁▁▁▁▁▁▁▁▁▁▁</td></tr><tr><td>l2</td><td>▁▂▂▃▃▄▄▅▅▅▆▆▆▇▇▇▇▇▇▇▁▂▃▃▄▄▅▅▅▆▆▆▆▇▇▇▇███</td></tr><tr><td>min_dag_threshold</td><td>▁</td></tr><tr><td>n_edges_min_dag</td><td>▁</td></tr><tr><td>nll</td><td>█▂▂▁▁▁▁▁▁▁▁▁▁▁▁▁▁▁▁▁▅▂▂▂▂▂▂▂▂▂▂▂▂▂▂▂▂▂▂▂</td></tr><tr><td>val_rec_loss</td><td>▁</td></tr></table><br/></div><div class=\"wandb-col\"><h3>Run summary:</h3><br/><table class=\"wandb\"><tr><td>alpha</td><td>0.00013</td></tr><tr><td>dag</td><td>0.04872</td></tr><tr><td>epoch</td><td>195</td></tr><tr><td>epoch_loss</td><td>1718.26027</td></tr><tr><td>gamma</td><td>57.54769</td></tr><tr><td>is_prescreen</td><td>0</td></tr><tr><td>l1</td><td>1.07072</td></tr><tr><td>l2</td><td>4.47317</td></tr><tr><td>min_dag_threshold</td><td>0.30581</td></tr><tr><td>n_edges_min_dag</td><td>1297</td></tr><tr><td>nll</td><td>1709.91287</td></tr><tr><td>val_rec_loss</td><td>1925.42957</td></tr></table><br/></div></div>"
      ],
      "text/plain": [
       "<IPython.core.display.HTML object>"
      ]
     },
     "metadata": {},
     "output_type": "display_data"
    },
    {
     "data": {
      "text/html": [
       " View run <strong style=\"color:#cdcd00\">SDCI</strong> at: <a href='https://wandb.ai/azizi-causal-perturb/SDCI_perturb_cite_seq/runs/efid05rs' target=\"_blank\">https://wandb.ai/azizi-causal-perturb/SDCI_perturb_cite_seq/runs/efid05rs</a><br/> View job at <a href='https://wandb.ai/azizi-causal-perturb/SDCI_perturb_cite_seq/jobs/QXJ0aWZhY3RDb2xsZWN0aW9uOjkyMTIyNTA4/version_details/v5' target=\"_blank\">https://wandb.ai/azizi-causal-perturb/SDCI_perturb_cite_seq/jobs/QXJ0aWZhY3RDb2xsZWN0aW9uOjkyMTIyNTA4/version_details/v5</a><br/>Synced 6 W&B file(s), 0 media file(s), 0 artifact file(s) and 0 other file(s)"
      ],
      "text/plain": [
       "<IPython.core.display.HTML object>"
      ]
     },
     "metadata": {},
     "output_type": "display_data"
    },
    {
     "data": {
      "text/html": [
       "Find logs at: <code>./wandb/run-20230823_004243-efid05rs/logs</code>"
      ],
      "text/plain": [
       "<IPython.core.display.HTML object>"
      ]
     },
     "metadata": {},
     "output_type": "display_data"
    },
    {
     "name": "stderr",
     "output_type": "stream",
     "text": [
      "\u001b[34m\u001b[1mwandb\u001b[0m: Agent Starting Run: vpkla5x8 with config:\n",
      "\u001b[34m\u001b[1mwandb\u001b[0m: \tmax_gamma: 130.23940569670566\n",
      "\u001b[34m\u001b[1mwandb\u001b[0m: \tmv_flavor: nn\n",
      "\u001b[34m\u001b[1mwandb\u001b[0m: \ts1_alpha: 0.0002663329330034641\n",
      "\u001b[34m\u001b[1mwandb\u001b[0m: \ts1_beta: 5.045031732000572e-05\n",
      "\u001b[34m\u001b[1mwandb\u001b[0m: \ts2_alpha: 0.0002603114167775845\n",
      "\u001b[34m\u001b[1mwandb\u001b[0m: \ts2_beta: 0.012439464244132533\n"
     ]
    },
    {
     "data": {
      "text/html": [
       "Tracking run with wandb version 0.15.8"
      ],
      "text/plain": [
       "<IPython.core.display.HTML object>"
      ]
     },
     "metadata": {},
     "output_type": "display_data"
    },
    {
     "data": {
      "text/html": [
       "Run data is saved locally in <code>/home/justinhong/causal-perturbseq/notebooks/wandb/run-20230823_012112-vpkla5x8</code>"
      ],
      "text/plain": [
       "<IPython.core.display.HTML object>"
      ]
     },
     "metadata": {},
     "output_type": "display_data"
    },
    {
     "data": {
      "text/html": [
       "Syncing run <strong><a href='https://wandb.ai/azizi-causal-perturb/SDCI_perturb_cite_seq/runs/vpkla5x8' target=\"_blank\">worldly-sweep-2</a></strong> to <a href='https://wandb.ai/azizi-causal-perturb/SDCI_perturb_cite_seq' target=\"_blank\">Weights & Biases</a> (<a href='https://wandb.me/run' target=\"_blank\">docs</a>)<br/>Sweep page: <a href='https://wandb.ai/azizi-causal-perturb/SDCI_perturb_cite_seq/sweeps/c55u19ta' target=\"_blank\">https://wandb.ai/azizi-causal-perturb/SDCI_perturb_cite_seq/sweeps/c55u19ta</a>"
      ],
      "text/plain": [
       "<IPython.core.display.HTML object>"
      ]
     },
     "metadata": {},
     "output_type": "display_data"
    },
    {
     "data": {
      "text/html": [
       " View project at <a href='https://wandb.ai/azizi-causal-perturb/SDCI_perturb_cite_seq' target=\"_blank\">https://wandb.ai/azizi-causal-perturb/SDCI_perturb_cite_seq</a>"
      ],
      "text/plain": [
       "<IPython.core.display.HTML object>"
      ]
     },
     "metadata": {},
     "output_type": "display_data"
    },
    {
     "data": {
      "text/html": [
       " View sweep at <a href='https://wandb.ai/azizi-causal-perturb/SDCI_perturb_cite_seq/sweeps/c55u19ta' target=\"_blank\">https://wandb.ai/azizi-causal-perturb/SDCI_perturb_cite_seq/sweeps/c55u19ta</a>"
      ],
      "text/plain": [
       "<IPython.core.display.HTML object>"
      ]
     },
     "metadata": {},
     "output_type": "display_data"
    },
    {
     "data": {
      "text/html": [
       " View run at <a href='https://wandb.ai/azizi-causal-perturb/SDCI_perturb_cite_seq/runs/vpkla5x8' target=\"_blank\">https://wandb.ai/azizi-causal-perturb/SDCI_perturb_cite_seq/runs/vpkla5x8</a>"
      ],
      "text/plain": [
       "<IPython.core.display.HTML object>"
      ]
     },
     "metadata": {},
     "output_type": "display_data"
    },
    {
     "name": "stdout",
     "output_type": "stream",
     "text": [
      "Using cpu\n"
     ]
    },
    {
     "data": {
      "text/html": [
       "Waiting for W&B process to finish... <strong style=\"color:green\">(success).</strong>"
      ],
      "text/plain": [
       "<IPython.core.display.HTML object>"
      ]
     },
     "metadata": {},
     "output_type": "display_data"
    },
    {
     "data": {
      "text/html": [
       " View run <strong style=\"color:#cdcd00\">worldly-sweep-2</strong> at: <a href='https://wandb.ai/azizi-causal-perturb/SDCI_perturb_cite_seq/runs/vpkla5x8' target=\"_blank\">https://wandb.ai/azizi-causal-perturb/SDCI_perturb_cite_seq/runs/vpkla5x8</a><br/> View job at <a href='https://wandb.ai/azizi-causal-perturb/SDCI_perturb_cite_seq/jobs/QXJ0aWZhY3RDb2xsZWN0aW9uOjkyMTIyNTA4/version_details/v6' target=\"_blank\">https://wandb.ai/azizi-causal-perturb/SDCI_perturb_cite_seq/jobs/QXJ0aWZhY3RDb2xsZWN0aW9uOjkyMTIyNTA4/version_details/v6</a><br/>Synced 6 W&B file(s), 0 media file(s), 0 artifact file(s) and 0 other file(s)"
      ],
      "text/plain": [
       "<IPython.core.display.HTML object>"
      ]
     },
     "metadata": {},
     "output_type": "display_data"
    },
    {
     "data": {
      "text/html": [
       "Find logs at: <code>./wandb/run-20230823_012112-vpkla5x8/logs</code>"
      ],
      "text/plain": [
       "<IPython.core.display.HTML object>"
      ]
     },
     "metadata": {},
     "output_type": "display_data"
    },
    {
     "name": "stderr",
     "output_type": "stream",
     "text": [
      "\u001b[34m\u001b[1mwandb\u001b[0m: \u001b[33mWARNING\u001b[0m Ignored wandb.init() arg project when running a sweep.\n"
     ]
    },
    {
     "data": {
      "application/vnd.jupyter.widget-view+json": {
       "model_id": "ca08c87055c54a5dbca622a2f1fa1dcb",
       "version_major": 2,
       "version_minor": 0
      },
      "text/plain": [
       "VBox(children=(Label(value='Waiting for wandb.init()...\\r'), FloatProgress(value=0.016668133566660494, max=1.0…"
      ]
     },
     "metadata": {},
     "output_type": "display_data"
    },
    {
     "data": {
      "text/html": [
       "Tracking run with wandb version 0.15.8"
      ],
      "text/plain": [
       "<IPython.core.display.HTML object>"
      ]
     },
     "metadata": {},
     "output_type": "display_data"
    },
    {
     "data": {
      "text/html": [
       "Run data is saved locally in <code>/home/justinhong/causal-perturbseq/notebooks/wandb/run-20230823_012120-vpkla5x8</code>"
      ],
      "text/plain": [
       "<IPython.core.display.HTML object>"
      ]
     },
     "metadata": {},
     "output_type": "display_data"
    },
    {
     "data": {
      "text/html": [
       "Syncing run <strong><a href='https://wandb.ai/azizi-causal-perturb/SDCI_perturb_cite_seq/runs/vpkla5x8' target=\"_blank\">SDCI</a></strong> to <a href='https://wandb.ai/azizi-causal-perturb/SDCI_perturb_cite_seq' target=\"_blank\">Weights & Biases</a> (<a href='https://wandb.me/run' target=\"_blank\">docs</a>)<br/>Sweep page: <a href='https://wandb.ai/azizi-causal-perturb/SDCI_perturb_cite_seq/sweeps/c55u19ta' target=\"_blank\">https://wandb.ai/azizi-causal-perturb/SDCI_perturb_cite_seq/sweeps/c55u19ta</a>"
      ],
      "text/plain": [
       "<IPython.core.display.HTML object>"
      ]
     },
     "metadata": {},
     "output_type": "display_data"
    },
    {
     "data": {
      "text/html": [
       " View project at <a href='https://wandb.ai/azizi-causal-perturb/SDCI_perturb_cite_seq' target=\"_blank\">https://wandb.ai/azizi-causal-perturb/SDCI_perturb_cite_seq</a>"
      ],
      "text/plain": [
       "<IPython.core.display.HTML object>"
      ]
     },
     "metadata": {},
     "output_type": "display_data"
    },
    {
     "data": {
      "text/html": [
       " View sweep at <a href='https://wandb.ai/azizi-causal-perturb/SDCI_perturb_cite_seq/sweeps/c55u19ta' target=\"_blank\">https://wandb.ai/azizi-causal-perturb/SDCI_perturb_cite_seq/sweeps/c55u19ta</a>"
      ],
      "text/plain": [
       "<IPython.core.display.HTML object>"
      ]
     },
     "metadata": {},
     "output_type": "display_data"
    },
    {
     "data": {
      "text/html": [
       " View run at <a href='https://wandb.ai/azizi-causal-perturb/SDCI_perturb_cite_seq/runs/vpkla5x8' target=\"_blank\">https://wandb.ai/azizi-causal-perturb/SDCI_perturb_cite_seq/runs/vpkla5x8</a>"
      ],
      "text/plain": [
       "<IPython.core.display.HTML object>"
      ]
     },
     "metadata": {},
     "output_type": "display_data"
    },
    {
     "name": "stdout",
     "output_type": "stream",
     "text": [
      "Epoch 0: loss=2550.01, gamma=0.00\n",
      "Epoch 5: loss=1570.41, gamma=0.00\n",
      "Epoch 10: loss=1483.57, gamma=0.00\n",
      "Epoch 15: loss=1430.48, gamma=0.00\n",
      "Epoch 20: loss=1391.57, gamma=0.00\n",
      "Epoch 25: loss=1365.28, gamma=0.00\n",
      "Epoch 30: loss=1344.74, gamma=0.00\n",
      "Epoch 35: loss=1330.04, gamma=0.00\n",
      "Epoch 40: loss=1319.62, gamma=0.00\n",
      "Epoch 45: loss=1306.83, gamma=0.00\n",
      "Epoch 50: loss=1293.52, gamma=0.00\n",
      "Epoch 55: loss=1294.62, gamma=0.00\n",
      "Epoch 60: loss=1293.94, gamma=0.00\n",
      "Epoch 65: loss=1284.24, gamma=0.00\n",
      "Epoch 70: loss=1288.93, gamma=0.00\n",
      "Epoch 75: loss=1276.15, gamma=0.00\n",
      "Epoch 80: loss=1288.57, gamma=0.00\n",
      "Epoch 85: loss=1276.28, gamma=0.00\n",
      "Epoch 90: loss=1279.99, gamma=0.00\n",
      "Epoch 95: loss=1275.00, gamma=0.00\n",
      "Fraction of possible edges in mask: 0.2421984747504142\n",
      "Epoch 0: loss=2201.03, gamma=0.00\n",
      "Epoch 5: loss=1823.24, gamma=6.58\n",
      "Epoch 10: loss=1831.31, gamma=13.16\n",
      "Epoch 15: loss=1834.33, gamma=19.73\n",
      "Epoch 20: loss=1839.01, gamma=26.31\n",
      "Epoch 25: loss=1836.32, gamma=32.89\n",
      "Epoch 30: loss=1836.07, gamma=39.47\n",
      "Epoch 35: loss=1835.10, gamma=46.04\n",
      "Epoch 40: loss=1846.96, gamma=52.62\n",
      "Epoch 45: loss=1840.39, gamma=59.20\n",
      "Epoch 50: loss=1898.45, gamma=65.78\n",
      "Epoch 55: loss=1845.75, gamma=72.36\n",
      "Epoch 60: loss=1854.71, gamma=78.93\n",
      "Epoch 65: loss=1851.93, gamma=85.51\n",
      "Epoch 70: loss=1867.82, gamma=92.09\n",
      "Epoch 75: loss=1864.89, gamma=98.67\n",
      "Epoch 80: loss=1855.84, gamma=105.24\n",
      "Epoch 85: loss=1862.03, gamma=111.82\n",
      "Epoch 90: loss=1869.61, gamma=118.40\n",
      "Epoch 95: loss=1868.50, gamma=124.98\n",
      "Finished training in 2495.645294904709 seconds.\n"
     ]
    },
    {
     "data": {
      "text/html": [
       "Waiting for W&B process to finish... <strong style=\"color:green\">(success).</strong>"
      ],
      "text/plain": [
       "<IPython.core.display.HTML object>"
      ]
     },
     "metadata": {},
     "output_type": "display_data"
    },
    {
     "data": {
      "application/vnd.jupyter.widget-view+json": {
       "model_id": "6bfee412cec04e948ec6ebc9e1fc36c7",
       "version_major": 2,
       "version_minor": 0
      },
      "text/plain": [
       "VBox(children=(Label(value='0.009 MB of 0.009 MB uploaded (0.000 MB deduped)\\r'), FloatProgress(value=1.0, max…"
      ]
     },
     "metadata": {},
     "output_type": "display_data"
    },
    {
     "data": {
      "text/html": [
       "<style>\n",
       "    table.wandb td:nth-child(1) { padding: 0 10px; text-align: left ; width: auto;} td:nth-child(2) {text-align: left ; width: 100%}\n",
       "    .wandb-row { display: flex; flex-direction: row; flex-wrap: wrap; justify-content: flex-start; width: 100% }\n",
       "    .wandb-col { display: flex; flex-direction: column; flex-basis: 100%; flex: 1; padding: 10px; }\n",
       "    </style>\n",
       "<div class=\"wandb-row\"><div class=\"wandb-col\"><h3>Run history:</h3><br/><table class=\"wandb\"><tr><td>alpha</td><td>████████████████████▁▁▁▁▁▁▁▁▁▁▁▁▁▁▁▁▁▁▁▁</td></tr><tr><td>dag</td><td>▁▁▁▁▁▁▁▁▁▁▁▁▁▁▁▁▁▁▁▁█▃▃▃▂▂▂▂▂▂▂▂▂▂▂▂▂▂▂▂</td></tr><tr><td>epoch</td><td>▁▁▁▂▂▂▂▂▂▃▃▃▃▃▄▄▄▄▄▄▅▅▅▅▅▅▆▆▆▆▆▇▇▇▇▇▇███</td></tr><tr><td>epoch_loss</td><td>█▃▂▂▂▁▁▁▁▁▁▁▁▁▁▁▁▁▁▁▆▄▄▄▄▄▄▄▄▄▄▄▄▄▄▄▄▄▄▄</td></tr><tr><td>gamma</td><td>▁▁▁▁▁▁▁▁▁▁▁▁▁▁▁▁▁▁▁▁▁▁▂▂▂▃▃▄▄▄▅▅▅▆▆▇▇▇██</td></tr><tr><td>is_prescreen</td><td>████████████████████▁▁▁▁▁▁▁▁▁▁▁▁▁▁▁▁▁▁▁▁</td></tr><tr><td>l1</td><td>▂▄▅▅▆▆▆▆▇▇▇▇▇▇▇█████▂▁▁▁▁▁▁▁▁▁▁▁▁▁▁▁▁▁▁▁</td></tr><tr><td>l2</td><td>▁▁▁▁▁▁▁▁▁▁▁▁▁▁▁▁▁▁▁▁██████▇▇▇▇▇▇▇▇▇▇▇▇▇▇</td></tr><tr><td>min_dag_threshold</td><td>▁</td></tr><tr><td>n_edges_min_dag</td><td>▁</td></tr><tr><td>nll</td><td>█▃▂▂▂▂▂▁▁▁▁▁▁▁▁▁▁▁▁▁▅▄▄▄▄▄▄▄▄▄▄▄▄▄▄▄▄▄▄▄</td></tr><tr><td>val_rec_loss</td><td>▁</td></tr></table><br/></div><div class=\"wandb-col\"><h3>Run summary:</h3><br/><table class=\"wandb\"><tr><td>alpha</td><td>0.00026</td></tr><tr><td>dag</td><td>0.48508</td></tr><tr><td>epoch</td><td>195</td></tr><tr><td>epoch_loss</td><td>1868.49944</td></tr><tr><td>gamma</td><td>124.97721</td></tr><tr><td>is_prescreen</td><td>0</td></tr><tr><td>l1</td><td>19.73564</td></tr><tr><td>l2</td><td>127.34352</td></tr><tr><td>min_dag_threshold</td><td>0.5906</td></tr><tr><td>n_edges_min_dag</td><td>543</td></tr><tr><td>nll</td><td>1660.79601</td></tr><tr><td>val_rec_loss</td><td>1740.15051</td></tr></table><br/></div></div>"
      ],
      "text/plain": [
       "<IPython.core.display.HTML object>"
      ]
     },
     "metadata": {},
     "output_type": "display_data"
    },
    {
     "data": {
      "text/html": [
       " View run <strong style=\"color:#cdcd00\">SDCI</strong> at: <a href='https://wandb.ai/azizi-causal-perturb/SDCI_perturb_cite_seq/runs/vpkla5x8' target=\"_blank\">https://wandb.ai/azizi-causal-perturb/SDCI_perturb_cite_seq/runs/vpkla5x8</a><br/> View job at <a href='https://wandb.ai/azizi-causal-perturb/SDCI_perturb_cite_seq/jobs/QXJ0aWZhY3RDb2xsZWN0aW9uOjkyMTIyNTA4/version_details/v5' target=\"_blank\">https://wandb.ai/azizi-causal-perturb/SDCI_perturb_cite_seq/jobs/QXJ0aWZhY3RDb2xsZWN0aW9uOjkyMTIyNTA4/version_details/v5</a><br/>Synced 6 W&B file(s), 0 media file(s), 0 artifact file(s) and 0 other file(s)"
      ],
      "text/plain": [
       "<IPython.core.display.HTML object>"
      ]
     },
     "metadata": {},
     "output_type": "display_data"
    },
    {
     "data": {
      "text/html": [
       "Find logs at: <code>./wandb/run-20230823_012120-vpkla5x8/logs</code>"
      ],
      "text/plain": [
       "<IPython.core.display.HTML object>"
      ]
     },
     "metadata": {},
     "output_type": "display_data"
    },
    {
     "name": "stderr",
     "output_type": "stream",
     "text": [
      "\u001b[34m\u001b[1mwandb\u001b[0m: Agent Starting Run: tneiaqfx with config:\n",
      "\u001b[34m\u001b[1mwandb\u001b[0m: \tmax_gamma: 435.4514118905002\n",
      "\u001b[34m\u001b[1mwandb\u001b[0m: \tmv_flavor: nn\n",
      "\u001b[34m\u001b[1mwandb\u001b[0m: \ts1_alpha: 0.0012401475545467755\n",
      "\u001b[34m\u001b[1mwandb\u001b[0m: \ts1_beta: 2.4257638326644822e-05\n",
      "\u001b[34m\u001b[1mwandb\u001b[0m: \ts2_alpha: 0.0001775998403766347\n",
      "\u001b[34m\u001b[1mwandb\u001b[0m: \ts2_beta: 0.006201787704172663\n"
     ]
    },
    {
     "data": {
      "text/html": [
       "Tracking run with wandb version 0.15.8"
      ],
      "text/plain": [
       "<IPython.core.display.HTML object>"
      ]
     },
     "metadata": {},
     "output_type": "display_data"
    },
    {
     "data": {
      "text/html": [
       "Run data is saved locally in <code>/home/justinhong/causal-perturbseq/notebooks/wandb/run-20230823_020311-tneiaqfx</code>"
      ],
      "text/plain": [
       "<IPython.core.display.HTML object>"
      ]
     },
     "metadata": {},
     "output_type": "display_data"
    },
    {
     "data": {
      "text/html": [
       "Syncing run <strong><a href='https://wandb.ai/azizi-causal-perturb/SDCI_perturb_cite_seq/runs/tneiaqfx' target=\"_blank\">visionary-sweep-3</a></strong> to <a href='https://wandb.ai/azizi-causal-perturb/SDCI_perturb_cite_seq' target=\"_blank\">Weights & Biases</a> (<a href='https://wandb.me/run' target=\"_blank\">docs</a>)<br/>Sweep page: <a href='https://wandb.ai/azizi-causal-perturb/SDCI_perturb_cite_seq/sweeps/c55u19ta' target=\"_blank\">https://wandb.ai/azizi-causal-perturb/SDCI_perturb_cite_seq/sweeps/c55u19ta</a>"
      ],
      "text/plain": [
       "<IPython.core.display.HTML object>"
      ]
     },
     "metadata": {},
     "output_type": "display_data"
    },
    {
     "data": {
      "text/html": [
       " View project at <a href='https://wandb.ai/azizi-causal-perturb/SDCI_perturb_cite_seq' target=\"_blank\">https://wandb.ai/azizi-causal-perturb/SDCI_perturb_cite_seq</a>"
      ],
      "text/plain": [
       "<IPython.core.display.HTML object>"
      ]
     },
     "metadata": {},
     "output_type": "display_data"
    },
    {
     "data": {
      "text/html": [
       " View sweep at <a href='https://wandb.ai/azizi-causal-perturb/SDCI_perturb_cite_seq/sweeps/c55u19ta' target=\"_blank\">https://wandb.ai/azizi-causal-perturb/SDCI_perturb_cite_seq/sweeps/c55u19ta</a>"
      ],
      "text/plain": [
       "<IPython.core.display.HTML object>"
      ]
     },
     "metadata": {},
     "output_type": "display_data"
    },
    {
     "data": {
      "text/html": [
       " View run at <a href='https://wandb.ai/azizi-causal-perturb/SDCI_perturb_cite_seq/runs/tneiaqfx' target=\"_blank\">https://wandb.ai/azizi-causal-perturb/SDCI_perturb_cite_seq/runs/tneiaqfx</a>"
      ],
      "text/plain": [
       "<IPython.core.display.HTML object>"
      ]
     },
     "metadata": {},
     "output_type": "display_data"
    },
    {
     "name": "stdout",
     "output_type": "stream",
     "text": [
      "Using cpu\n"
     ]
    },
    {
     "data": {
      "text/html": [
       "Waiting for W&B process to finish... <strong style=\"color:green\">(success).</strong>"
      ],
      "text/plain": [
       "<IPython.core.display.HTML object>"
      ]
     },
     "metadata": {},
     "output_type": "display_data"
    },
    {
     "data": {
      "text/html": [
       " View run <strong style=\"color:#cdcd00\">visionary-sweep-3</strong> at: <a href='https://wandb.ai/azizi-causal-perturb/SDCI_perturb_cite_seq/runs/tneiaqfx' target=\"_blank\">https://wandb.ai/azizi-causal-perturb/SDCI_perturb_cite_seq/runs/tneiaqfx</a><br/> View job at <a href='https://wandb.ai/azizi-causal-perturb/SDCI_perturb_cite_seq/jobs/QXJ0aWZhY3RDb2xsZWN0aW9uOjkyMTIyNTA4/version_details/v6' target=\"_blank\">https://wandb.ai/azizi-causal-perturb/SDCI_perturb_cite_seq/jobs/QXJ0aWZhY3RDb2xsZWN0aW9uOjkyMTIyNTA4/version_details/v6</a><br/>Synced 6 W&B file(s), 0 media file(s), 0 artifact file(s) and 0 other file(s)"
      ],
      "text/plain": [
       "<IPython.core.display.HTML object>"
      ]
     },
     "metadata": {},
     "output_type": "display_data"
    },
    {
     "data": {
      "text/html": [
       "Find logs at: <code>./wandb/run-20230823_020311-tneiaqfx/logs</code>"
      ],
      "text/plain": [
       "<IPython.core.display.HTML object>"
      ]
     },
     "metadata": {},
     "output_type": "display_data"
    },
    {
     "name": "stderr",
     "output_type": "stream",
     "text": [
      "\u001b[34m\u001b[1mwandb\u001b[0m: \u001b[33mWARNING\u001b[0m Ignored wandb.init() arg project when running a sweep.\n"
     ]
    },
    {
     "data": {
      "application/vnd.jupyter.widget-view+json": {
       "model_id": "a150beb4fdae4b89b3c1977ace8771fa",
       "version_major": 2,
       "version_minor": 0
      },
      "text/plain": [
       "VBox(children=(Label(value='Waiting for wandb.init()...\\r'), FloatProgress(value=0.016668163766613966, max=1.0…"
      ]
     },
     "metadata": {},
     "output_type": "display_data"
    },
    {
     "data": {
      "text/html": [
       "Tracking run with wandb version 0.15.8"
      ],
      "text/plain": [
       "<IPython.core.display.HTML object>"
      ]
     },
     "metadata": {},
     "output_type": "display_data"
    },
    {
     "data": {
      "text/html": [
       "Run data is saved locally in <code>/home/justinhong/causal-perturbseq/notebooks/wandb/run-20230823_020319-tneiaqfx</code>"
      ],
      "text/plain": [
       "<IPython.core.display.HTML object>"
      ]
     },
     "metadata": {},
     "output_type": "display_data"
    },
    {
     "data": {
      "text/html": [
       "Syncing run <strong><a href='https://wandb.ai/azizi-causal-perturb/SDCI_perturb_cite_seq/runs/tneiaqfx' target=\"_blank\">SDCI</a></strong> to <a href='https://wandb.ai/azizi-causal-perturb/SDCI_perturb_cite_seq' target=\"_blank\">Weights & Biases</a> (<a href='https://wandb.me/run' target=\"_blank\">docs</a>)<br/>Sweep page: <a href='https://wandb.ai/azizi-causal-perturb/SDCI_perturb_cite_seq/sweeps/c55u19ta' target=\"_blank\">https://wandb.ai/azizi-causal-perturb/SDCI_perturb_cite_seq/sweeps/c55u19ta</a>"
      ],
      "text/plain": [
       "<IPython.core.display.HTML object>"
      ]
     },
     "metadata": {},
     "output_type": "display_data"
    },
    {
     "data": {
      "text/html": [
       " View project at <a href='https://wandb.ai/azizi-causal-perturb/SDCI_perturb_cite_seq' target=\"_blank\">https://wandb.ai/azizi-causal-perturb/SDCI_perturb_cite_seq</a>"
      ],
      "text/plain": [
       "<IPython.core.display.HTML object>"
      ]
     },
     "metadata": {},
     "output_type": "display_data"
    },
    {
     "data": {
      "text/html": [
       " View sweep at <a href='https://wandb.ai/azizi-causal-perturb/SDCI_perturb_cite_seq/sweeps/c55u19ta' target=\"_blank\">https://wandb.ai/azizi-causal-perturb/SDCI_perturb_cite_seq/sweeps/c55u19ta</a>"
      ],
      "text/plain": [
       "<IPython.core.display.HTML object>"
      ]
     },
     "metadata": {},
     "output_type": "display_data"
    },
    {
     "data": {
      "text/html": [
       " View run at <a href='https://wandb.ai/azizi-causal-perturb/SDCI_perturb_cite_seq/runs/tneiaqfx' target=\"_blank\">https://wandb.ai/azizi-causal-perturb/SDCI_perturb_cite_seq/runs/tneiaqfx</a>"
      ],
      "text/plain": [
       "<IPython.core.display.HTML object>"
      ]
     },
     "metadata": {},
     "output_type": "display_data"
    },
    {
     "name": "stdout",
     "output_type": "stream",
     "text": [
      "Epoch 0: loss=2553.19, gamma=0.00\n",
      "Epoch 5: loss=1674.78, gamma=0.00\n",
      "Epoch 10: loss=1634.72, gamma=0.00\n",
      "Epoch 15: loss=1618.27, gamma=0.00\n",
      "Epoch 20: loss=1604.25, gamma=0.00\n",
      "Epoch 25: loss=1600.20, gamma=0.00\n",
      "Epoch 30: loss=1703.05, gamma=0.00\n",
      "Epoch 35: loss=1594.31, gamma=0.00\n",
      "Epoch 40: loss=1598.14, gamma=0.00\n",
      "Epoch 45: loss=1596.26, gamma=0.00\n",
      "Epoch 50: loss=1604.13, gamma=0.00\n",
      "Epoch 55: loss=1608.84, gamma=0.00\n",
      "Epoch 60: loss=1607.75, gamma=0.00\n",
      "Epoch 65: loss=1614.50, gamma=0.00\n",
      "Epoch 70: loss=1617.80, gamma=0.00\n",
      "Epoch 75: loss=1618.21, gamma=0.00\n",
      "Epoch 80: loss=1620.32, gamma=0.00\n",
      "Epoch 85: loss=1622.02, gamma=0.00\n",
      "Epoch 90: loss=1624.92, gamma=0.00\n",
      "Epoch 95: loss=1624.68, gamma=0.00\n",
      "Fraction of possible edges in mask: 0.03090198346547574\n",
      "Epoch 0: loss=2037.76, gamma=0.00\n",
      "Epoch 5: loss=1718.55, gamma=21.99\n",
      "Epoch 10: loss=1736.34, gamma=43.98\n",
      "Epoch 15: loss=1738.05, gamma=65.98\n",
      "Epoch 20: loss=1741.99, gamma=87.97\n",
      "Epoch 25: loss=1747.53, gamma=109.96\n",
      "Epoch 30: loss=1742.29, gamma=131.95\n",
      "Epoch 35: loss=1746.70, gamma=131.95\n",
      "Epoch 40: loss=1741.03, gamma=131.95\n",
      "Epoch 45: loss=1742.29, gamma=131.95\n",
      "Epoch 50: loss=1740.80, gamma=131.95\n",
      "Epoch 55: loss=1743.45, gamma=131.95\n",
      "Epoch 60: loss=1741.86, gamma=131.95\n",
      "Epoch 65: loss=1741.43, gamma=131.95\n",
      "Epoch 70: loss=1744.56, gamma=131.95\n",
      "Epoch 75: loss=1750.55, gamma=131.95\n",
      "Epoch 80: loss=1750.86, gamma=131.95\n",
      "Epoch 85: loss=1745.83, gamma=131.95\n",
      "Epoch 90: loss=1742.95, gamma=131.95\n",
      "Epoch 95: loss=1735.08, gamma=131.95\n",
      "Finished training in 2396.4790596961975 seconds.\n"
     ]
    },
    {
     "data": {
      "text/html": [
       "Waiting for W&B process to finish... <strong style=\"color:green\">(success).</strong>"
      ],
      "text/plain": [
       "<IPython.core.display.HTML object>"
      ]
     },
     "metadata": {},
     "output_type": "display_data"
    },
    {
     "data": {
      "application/vnd.jupyter.widget-view+json": {
       "model_id": "f3c144424c38493d9e989fb54835e60a",
       "version_major": 2,
       "version_minor": 0
      },
      "text/plain": [
       "VBox(children=(Label(value='0.009 MB of 0.009 MB uploaded (0.000 MB deduped)\\r'), FloatProgress(value=1.0, max…"
      ]
     },
     "metadata": {},
     "output_type": "display_data"
    },
    {
     "data": {
      "text/html": [
       "<style>\n",
       "    table.wandb td:nth-child(1) { padding: 0 10px; text-align: left ; width: auto;} td:nth-child(2) {text-align: left ; width: 100%}\n",
       "    .wandb-row { display: flex; flex-direction: row; flex-wrap: wrap; justify-content: flex-start; width: 100% }\n",
       "    .wandb-col { display: flex; flex-direction: column; flex-basis: 100%; flex: 1; padding: 10px; }\n",
       "    </style>\n",
       "<div class=\"wandb-row\"><div class=\"wandb-col\"><h3>Run history:</h3><br/><table class=\"wandb\"><tr><td>alpha</td><td>████████████████████▁▁▁▁▁▁▁▁▁▁▁▁▁▁▁▁▁▁▁▁</td></tr><tr><td>dag</td><td>▁▁▁▁▁▁▁▁▁▁▁▁▁▁▁▁▁▁▁▁█▃▂▂▂▂▁▁▁▁▁▁▁▁▁▁▁▁▁▁</td></tr><tr><td>epoch</td><td>▁▁▁▂▂▂▂▂▂▃▃▃▃▃▄▄▄▄▄▄▅▅▅▅▅▅▆▆▆▆▆▇▇▇▇▇▇███</td></tr><tr><td>epoch_loss</td><td>█▂▁▁▁▁▂▁▁▁▁▁▁▁▁▁▁▁▁▁▄▂▂▂▂▂▂▂▂▂▂▂▂▂▂▂▂▂▂▂</td></tr><tr><td>gamma</td><td>▁▁▁▁▁▁▁▁▁▁▁▁▁▁▁▁▁▁▁▁▁▂▃▅▆▇██████████████</td></tr><tr><td>is_prescreen</td><td>████████████████████▁▁▁▁▁▁▁▁▁▁▁▁▁▁▁▁▁▁▁▁</td></tr><tr><td>l1</td><td>▄▆▆▇▇▇▇█████████████▁▁▁▁▁▁▁▁▁▁▁▁▁▁▁▁▁▁▁▁</td></tr><tr><td>l2</td><td>▁▁▁▁▁▁▁▁▁▁▁▁▁▁▁▁▁▁▁▁▄▇██████████████████</td></tr><tr><td>min_dag_threshold</td><td>▁</td></tr><tr><td>n_edges_min_dag</td><td>▁</td></tr><tr><td>nll</td><td>█▂▂▁▁▁▂▁▁▁▁▁▁▁▁▁▁▁▁▁▅▂▂▂▂▂▂▂▂▂▂▂▂▂▂▂▂▂▂▂</td></tr><tr><td>val_rec_loss</td><td>▁</td></tr></table><br/></div><div class=\"wandb-col\"><h3>Run summary:</h3><br/><table class=\"wandb\"><tr><td>alpha</td><td>0.00018</td></tr><tr><td>dag</td><td>0.16524</td></tr><tr><td>epoch</td><td>195</td></tr><tr><td>epoch_loss</td><td>1735.083</td></tr><tr><td>gamma</td><td>131.95497</td></tr><tr><td>is_prescreen</td><td>0</td></tr><tr><td>l1</td><td>7.40486</td></tr><tr><td>l2</td><td>101.56779</td></tr><tr><td>min_dag_threshold</td><td>0.47793</td></tr><tr><td>n_edges_min_dag</td><td>9879</td></tr><tr><td>nll</td><td>1604.30648</td></tr><tr><td>val_rec_loss</td><td>1709.75732</td></tr></table><br/></div></div>"
      ],
      "text/plain": [
       "<IPython.core.display.HTML object>"
      ]
     },
     "metadata": {},
     "output_type": "display_data"
    },
    {
     "data": {
      "text/html": [
       " View run <strong style=\"color:#cdcd00\">SDCI</strong> at: <a href='https://wandb.ai/azizi-causal-perturb/SDCI_perturb_cite_seq/runs/tneiaqfx' target=\"_blank\">https://wandb.ai/azizi-causal-perturb/SDCI_perturb_cite_seq/runs/tneiaqfx</a><br/> View job at <a href='https://wandb.ai/azizi-causal-perturb/SDCI_perturb_cite_seq/jobs/QXJ0aWZhY3RDb2xsZWN0aW9uOjkyMTIyNTA4/version_details/v5' target=\"_blank\">https://wandb.ai/azizi-causal-perturb/SDCI_perturb_cite_seq/jobs/QXJ0aWZhY3RDb2xsZWN0aW9uOjkyMTIyNTA4/version_details/v5</a><br/>Synced 6 W&B file(s), 0 media file(s), 0 artifact file(s) and 0 other file(s)"
      ],
      "text/plain": [
       "<IPython.core.display.HTML object>"
      ]
     },
     "metadata": {},
     "output_type": "display_data"
    },
    {
     "data": {
      "text/html": [
       "Find logs at: <code>./wandb/run-20230823_020319-tneiaqfx/logs</code>"
      ],
      "text/plain": [
       "<IPython.core.display.HTML object>"
      ]
     },
     "metadata": {},
     "output_type": "display_data"
    },
    {
     "name": "stderr",
     "output_type": "stream",
     "text": [
      "\u001b[34m\u001b[1mwandb\u001b[0m: Agent Starting Run: kpxjqe0x with config:\n",
      "\u001b[34m\u001b[1mwandb\u001b[0m: \tmax_gamma: 279.05772338714326\n",
      "\u001b[34m\u001b[1mwandb\u001b[0m: \tmv_flavor: nn\n",
      "\u001b[34m\u001b[1mwandb\u001b[0m: \ts1_alpha: 0.03453908158454036\n",
      "\u001b[34m\u001b[1mwandb\u001b[0m: \ts1_beta: 0.001251086873833919\n",
      "\u001b[34m\u001b[1mwandb\u001b[0m: \ts2_alpha: 0.03910128891660832\n",
      "\u001b[34m\u001b[1mwandb\u001b[0m: \ts2_beta: 0.010209036556436284\n"
     ]
    },
    {
     "data": {
      "text/html": [
       "Tracking run with wandb version 0.15.8"
      ],
      "text/plain": [
       "<IPython.core.display.HTML object>"
      ]
     },
     "metadata": {},
     "output_type": "display_data"
    },
    {
     "data": {
      "text/html": [
       "Run data is saved locally in <code>/home/justinhong/causal-perturbseq/notebooks/wandb/run-20230823_024329-kpxjqe0x</code>"
      ],
      "text/plain": [
       "<IPython.core.display.HTML object>"
      ]
     },
     "metadata": {},
     "output_type": "display_data"
    },
    {
     "data": {
      "text/html": [
       "Syncing run <strong><a href='https://wandb.ai/azizi-causal-perturb/SDCI_perturb_cite_seq/runs/kpxjqe0x' target=\"_blank\">bumbling-sweep-4</a></strong> to <a href='https://wandb.ai/azizi-causal-perturb/SDCI_perturb_cite_seq' target=\"_blank\">Weights & Biases</a> (<a href='https://wandb.me/run' target=\"_blank\">docs</a>)<br/>Sweep page: <a href='https://wandb.ai/azizi-causal-perturb/SDCI_perturb_cite_seq/sweeps/c55u19ta' target=\"_blank\">https://wandb.ai/azizi-causal-perturb/SDCI_perturb_cite_seq/sweeps/c55u19ta</a>"
      ],
      "text/plain": [
       "<IPython.core.display.HTML object>"
      ]
     },
     "metadata": {},
     "output_type": "display_data"
    },
    {
     "data": {
      "text/html": [
       " View project at <a href='https://wandb.ai/azizi-causal-perturb/SDCI_perturb_cite_seq' target=\"_blank\">https://wandb.ai/azizi-causal-perturb/SDCI_perturb_cite_seq</a>"
      ],
      "text/plain": [
       "<IPython.core.display.HTML object>"
      ]
     },
     "metadata": {},
     "output_type": "display_data"
    },
    {
     "data": {
      "text/html": [
       " View sweep at <a href='https://wandb.ai/azizi-causal-perturb/SDCI_perturb_cite_seq/sweeps/c55u19ta' target=\"_blank\">https://wandb.ai/azizi-causal-perturb/SDCI_perturb_cite_seq/sweeps/c55u19ta</a>"
      ],
      "text/plain": [
       "<IPython.core.display.HTML object>"
      ]
     },
     "metadata": {},
     "output_type": "display_data"
    },
    {
     "data": {
      "text/html": [
       " View run at <a href='https://wandb.ai/azizi-causal-perturb/SDCI_perturb_cite_seq/runs/kpxjqe0x' target=\"_blank\">https://wandb.ai/azizi-causal-perturb/SDCI_perturb_cite_seq/runs/kpxjqe0x</a>"
      ],
      "text/plain": [
       "<IPython.core.display.HTML object>"
      ]
     },
     "metadata": {},
     "output_type": "display_data"
    },
    {
     "name": "stdout",
     "output_type": "stream",
     "text": [
      "Using cpu\n"
     ]
    },
    {
     "data": {
      "text/html": [
       "Waiting for W&B process to finish... <strong style=\"color:green\">(success).</strong>"
      ],
      "text/plain": [
       "<IPython.core.display.HTML object>"
      ]
     },
     "metadata": {},
     "output_type": "display_data"
    },
    {
     "data": {
      "text/html": [
       " View run <strong style=\"color:#cdcd00\">bumbling-sweep-4</strong> at: <a href='https://wandb.ai/azizi-causal-perturb/SDCI_perturb_cite_seq/runs/kpxjqe0x' target=\"_blank\">https://wandb.ai/azizi-causal-perturb/SDCI_perturb_cite_seq/runs/kpxjqe0x</a><br/> View job at <a href='https://wandb.ai/azizi-causal-perturb/SDCI_perturb_cite_seq/jobs/QXJ0aWZhY3RDb2xsZWN0aW9uOjkyMTIyNTA4/version_details/v6' target=\"_blank\">https://wandb.ai/azizi-causal-perturb/SDCI_perturb_cite_seq/jobs/QXJ0aWZhY3RDb2xsZWN0aW9uOjkyMTIyNTA4/version_details/v6</a><br/>Synced 6 W&B file(s), 0 media file(s), 0 artifact file(s) and 0 other file(s)"
      ],
      "text/plain": [
       "<IPython.core.display.HTML object>"
      ]
     },
     "metadata": {},
     "output_type": "display_data"
    },
    {
     "data": {
      "text/html": [
       "Find logs at: <code>./wandb/run-20230823_024329-kpxjqe0x/logs</code>"
      ],
      "text/plain": [
       "<IPython.core.display.HTML object>"
      ]
     },
     "metadata": {},
     "output_type": "display_data"
    },
    {
     "name": "stderr",
     "output_type": "stream",
     "text": [
      "\u001b[34m\u001b[1mwandb\u001b[0m: \u001b[33mWARNING\u001b[0m Ignored wandb.init() arg project when running a sweep.\n"
     ]
    },
    {
     "data": {
      "application/vnd.jupyter.widget-view+json": {
       "model_id": "45fea20fdf2448729c99d54bd7071858",
       "version_major": 2,
       "version_minor": 0
      },
      "text/plain": [
       "VBox(children=(Label(value='Waiting for wandb.init()...\\r'), FloatProgress(value=0.016668166983314827, max=1.0…"
      ]
     },
     "metadata": {},
     "output_type": "display_data"
    },
    {
     "data": {
      "text/html": [
       "Tracking run with wandb version 0.15.8"
      ],
      "text/plain": [
       "<IPython.core.display.HTML object>"
      ]
     },
     "metadata": {},
     "output_type": "display_data"
    },
    {
     "data": {
      "text/html": [
       "Run data is saved locally in <code>/home/justinhong/causal-perturbseq/notebooks/wandb/run-20230823_024336-kpxjqe0x</code>"
      ],
      "text/plain": [
       "<IPython.core.display.HTML object>"
      ]
     },
     "metadata": {},
     "output_type": "display_data"
    },
    {
     "data": {
      "text/html": [
       "Syncing run <strong><a href='https://wandb.ai/azizi-causal-perturb/SDCI_perturb_cite_seq/runs/kpxjqe0x' target=\"_blank\">SDCI</a></strong> to <a href='https://wandb.ai/azizi-causal-perturb/SDCI_perturb_cite_seq' target=\"_blank\">Weights & Biases</a> (<a href='https://wandb.me/run' target=\"_blank\">docs</a>)<br/>Sweep page: <a href='https://wandb.ai/azizi-causal-perturb/SDCI_perturb_cite_seq/sweeps/c55u19ta' target=\"_blank\">https://wandb.ai/azizi-causal-perturb/SDCI_perturb_cite_seq/sweeps/c55u19ta</a>"
      ],
      "text/plain": [
       "<IPython.core.display.HTML object>"
      ]
     },
     "metadata": {},
     "output_type": "display_data"
    },
    {
     "data": {
      "text/html": [
       " View project at <a href='https://wandb.ai/azizi-causal-perturb/SDCI_perturb_cite_seq' target=\"_blank\">https://wandb.ai/azizi-causal-perturb/SDCI_perturb_cite_seq</a>"
      ],
      "text/plain": [
       "<IPython.core.display.HTML object>"
      ]
     },
     "metadata": {},
     "output_type": "display_data"
    },
    {
     "data": {
      "text/html": [
       " View sweep at <a href='https://wandb.ai/azizi-causal-perturb/SDCI_perturb_cite_seq/sweeps/c55u19ta' target=\"_blank\">https://wandb.ai/azizi-causal-perturb/SDCI_perturb_cite_seq/sweeps/c55u19ta</a>"
      ],
      "text/plain": [
       "<IPython.core.display.HTML object>"
      ]
     },
     "metadata": {},
     "output_type": "display_data"
    },
    {
     "data": {
      "text/html": [
       " View run at <a href='https://wandb.ai/azizi-causal-perturb/SDCI_perturb_cite_seq/runs/kpxjqe0x' target=\"_blank\">https://wandb.ai/azizi-causal-perturb/SDCI_perturb_cite_seq/runs/kpxjqe0x</a>"
      ],
      "text/plain": [
       "<IPython.core.display.HTML object>"
      ]
     },
     "metadata": {},
     "output_type": "display_data"
    },
    {
     "name": "stdout",
     "output_type": "stream",
     "text": [
      "Epoch 0: loss=2926.79, gamma=0.00\n",
      "Epoch 5: loss=2131.68, gamma=0.00\n",
      "Epoch 10: loss=2113.41, gamma=0.00\n",
      "Epoch 15: loss=2098.95, gamma=0.00\n",
      "Epoch 20: loss=2122.46, gamma=0.00\n",
      "Epoch 25: loss=2098.26, gamma=0.00\n",
      "Epoch 30: loss=2092.30, gamma=0.00\n",
      "Epoch 35: loss=2087.49, gamma=0.00\n",
      "Epoch 40: loss=2106.17, gamma=0.00\n",
      "Epoch 45: loss=2098.28, gamma=0.00\n",
      "Epoch 50: loss=2113.09, gamma=0.00\n",
      "Epoch 55: loss=2095.40, gamma=0.00\n",
      "Epoch 60: loss=2083.15, gamma=0.00\n",
      "Epoch 65: loss=2092.84, gamma=0.00\n",
      "Epoch 70: loss=2089.26, gamma=0.00\n",
      "Epoch 75: loss=2085.43, gamma=0.00\n",
      "Epoch 80: loss=2092.74, gamma=0.00\n",
      "Epoch 85: loss=2082.61, gamma=0.00\n",
      "Epoch 90: loss=2084.40, gamma=0.00\n",
      "Epoch 95: loss=2081.63, gamma=0.00\n",
      "Fraction of possible edges in mask: 0.00027789422464415516\n",
      "Epoch 0: loss=2152.67, gamma=0.00\n",
      "Epoch 5: loss=1832.58, gamma=14.09\n",
      "Epoch 10: loss=1826.91, gamma=28.19\n",
      "Epoch 15: loss=1834.69, gamma=42.28\n",
      "Epoch 20: loss=1826.69, gamma=42.28\n",
      "Epoch 25: loss=1834.73, gamma=42.28\n",
      "Epoch 30: loss=1827.25, gamma=42.28\n",
      "Epoch 35: loss=1827.49, gamma=42.28\n",
      "Epoch 40: loss=1830.12, gamma=42.28\n",
      "Epoch 45: loss=1824.68, gamma=42.28\n",
      "Epoch 50: loss=1828.71, gamma=42.28\n",
      "Epoch 55: loss=1827.88, gamma=42.28\n",
      "Epoch 60: loss=1828.60, gamma=42.28\n",
      "Epoch 65: loss=1831.63, gamma=42.28\n",
      "Epoch 70: loss=1825.02, gamma=42.28\n",
      "Epoch 75: loss=1823.50, gamma=42.28\n",
      "Epoch 80: loss=1828.37, gamma=42.28\n",
      "Epoch 85: loss=1833.00, gamma=42.28\n",
      "Epoch 90: loss=1827.08, gamma=42.28\n",
      "Epoch 95: loss=1829.34, gamma=42.28\n",
      "Finished training in 2287.6112265586853 seconds.\n"
     ]
    },
    {
     "data": {
      "text/html": [
       "Waiting for W&B process to finish... <strong style=\"color:green\">(success).</strong>"
      ],
      "text/plain": [
       "<IPython.core.display.HTML object>"
      ]
     },
     "metadata": {},
     "output_type": "display_data"
    },
    {
     "data": {
      "text/html": [
       "<style>\n",
       "    table.wandb td:nth-child(1) { padding: 0 10px; text-align: left ; width: auto;} td:nth-child(2) {text-align: left ; width: 100%}\n",
       "    .wandb-row { display: flex; flex-direction: row; flex-wrap: wrap; justify-content: flex-start; width: 100% }\n",
       "    .wandb-col { display: flex; flex-direction: column; flex-basis: 100%; flex: 1; padding: 10px; }\n",
       "    </style>\n",
       "<div class=\"wandb-row\"><div class=\"wandb-col\"><h3>Run history:</h3><br/><table class=\"wandb\"><tr><td>alpha</td><td>▁▁▁▁▁▁▁▁▁▁▁▁▁▁▁▁▁▁▁▁████████████████████</td></tr><tr><td>dag</td><td>▁▁▁▁▁▁▁▁▁▁▁▁▁▁▁▁▁▁▁▁█▁▁▁▁▁▁▁▁▁▁▁▁▁▁▁▁▁▁▁</td></tr><tr><td>epoch</td><td>▁▁▁▂▂▂▂▂▂▃▃▃▃▃▄▄▄▄▄▄▅▅▅▅▅▅▆▆▆▆▆▇▇▇▇▇▇███</td></tr><tr><td>epoch_loss</td><td>█▃▃▃▃▃▃▃▃▃▃▃▃▃▃▃▃▃▃▃▃▁▁▁▁▁▁▁▁▁▁▁▁▁▁▁▁▁▁▁</td></tr><tr><td>gamma</td><td>▁▁▁▁▁▁▁▁▁▁▁▁▁▁▁▁▁▁▁▁▁▃▆█████████████████</td></tr><tr><td>is_prescreen</td><td>████████████████████▁▁▁▁▁▁▁▁▁▁▁▁▁▁▁▁▁▁▁▁</td></tr><tr><td>l1</td><td>█▇▇▇▇▇▇▇▇▇▇▇▇▇▇▇▇▇▇▇▁▁▁▁▁▁▁▁▁▁▁▁▁▁▁▁▁▁▁▁</td></tr><tr><td>l2</td><td>▁▂▂▂▃▃▃▃▄▄▄▄▄▄▄▄▄▄▄▄████████████████████</td></tr><tr><td>min_dag_threshold</td><td>▁</td></tr><tr><td>n_edges_min_dag</td><td>▁</td></tr><tr><td>nll</td><td>█▂▂▁▁▁▁▁▁▁▁▁▁▁▁▁▁▁▁▁▅▂▂▂▂▂▂▂▂▂▂▂▂▂▂▂▂▂▂▂</td></tr><tr><td>val_rec_loss</td><td>▁</td></tr></table><br/></div><div class=\"wandb-col\"><h3>Run summary:</h3><br/><table class=\"wandb\"><tr><td>alpha</td><td>0.0391</td></tr><tr><td>dag</td><td>0.0214</td></tr><tr><td>epoch</td><td>195</td></tr><tr><td>epoch_loss</td><td>1829.33844</td></tr><tr><td>gamma</td><td>42.28147</td></tr><tr><td>is_prescreen</td><td>0</td></tr><tr><td>l1</td><td>17.40967</td></tr><tr><td>l2</td><td>40.66154</td></tr><tr><td>min_dag_threshold</td><td>0.10552</td></tr><tr><td>n_edges_min_dag</td><td>665</td></tr><tr><td>nll</td><td>1770.36251</td></tr><tr><td>val_rec_loss</td><td>1759.32056</td></tr></table><br/></div></div>"
      ],
      "text/plain": [
       "<IPython.core.display.HTML object>"
      ]
     },
     "metadata": {},
     "output_type": "display_data"
    },
    {
     "data": {
      "text/html": [
       " View run <strong style=\"color:#cdcd00\">SDCI</strong> at: <a href='https://wandb.ai/azizi-causal-perturb/SDCI_perturb_cite_seq/runs/kpxjqe0x' target=\"_blank\">https://wandb.ai/azizi-causal-perturb/SDCI_perturb_cite_seq/runs/kpxjqe0x</a><br/> View job at <a href='https://wandb.ai/azizi-causal-perturb/SDCI_perturb_cite_seq/jobs/QXJ0aWZhY3RDb2xsZWN0aW9uOjkyMTIyNTA4/version_details/v5' target=\"_blank\">https://wandb.ai/azizi-causal-perturb/SDCI_perturb_cite_seq/jobs/QXJ0aWZhY3RDb2xsZWN0aW9uOjkyMTIyNTA4/version_details/v5</a><br/>Synced 6 W&B file(s), 0 media file(s), 0 artifact file(s) and 0 other file(s)"
      ],
      "text/plain": [
       "<IPython.core.display.HTML object>"
      ]
     },
     "metadata": {},
     "output_type": "display_data"
    },
    {
     "data": {
      "text/html": [
       "Find logs at: <code>./wandb/run-20230823_024336-kpxjqe0x/logs</code>"
      ],
      "text/plain": [
       "<IPython.core.display.HTML object>"
      ]
     },
     "metadata": {},
     "output_type": "display_data"
    },
    {
     "name": "stderr",
     "output_type": "stream",
     "text": [
      "\u001b[34m\u001b[1mwandb\u001b[0m: Agent Starting Run: tjxqb361 with config:\n",
      "\u001b[34m\u001b[1mwandb\u001b[0m: \tmax_gamma: 139.51198383007883\n",
      "\u001b[34m\u001b[1mwandb\u001b[0m: \tmv_flavor: nn\n",
      "\u001b[34m\u001b[1mwandb\u001b[0m: \ts1_alpha: 0.00015560863357465352\n",
      "\u001b[34m\u001b[1mwandb\u001b[0m: \ts1_beta: 0.0004654182153203256\n",
      "\u001b[34m\u001b[1mwandb\u001b[0m: \ts2_alpha: 0.00030504021624210465\n",
      "\u001b[34m\u001b[1mwandb\u001b[0m: \ts2_beta: 0.006583412518639233\n"
     ]
    },
    {
     "data": {
      "text/html": [
       "Tracking run with wandb version 0.15.8"
      ],
      "text/plain": [
       "<IPython.core.display.HTML object>"
      ]
     },
     "metadata": {},
     "output_type": "display_data"
    },
    {
     "data": {
      "text/html": [
       "Run data is saved locally in <code>/home/justinhong/causal-perturbseq/notebooks/wandb/run-20230823_032156-tjxqb361</code>"
      ],
      "text/plain": [
       "<IPython.core.display.HTML object>"
      ]
     },
     "metadata": {},
     "output_type": "display_data"
    },
    {
     "data": {
      "text/html": [
       "Syncing run <strong><a href='https://wandb.ai/azizi-causal-perturb/SDCI_perturb_cite_seq/runs/tjxqb361' target=\"_blank\">lucky-sweep-5</a></strong> to <a href='https://wandb.ai/azizi-causal-perturb/SDCI_perturb_cite_seq' target=\"_blank\">Weights & Biases</a> (<a href='https://wandb.me/run' target=\"_blank\">docs</a>)<br/>Sweep page: <a href='https://wandb.ai/azizi-causal-perturb/SDCI_perturb_cite_seq/sweeps/c55u19ta' target=\"_blank\">https://wandb.ai/azizi-causal-perturb/SDCI_perturb_cite_seq/sweeps/c55u19ta</a>"
      ],
      "text/plain": [
       "<IPython.core.display.HTML object>"
      ]
     },
     "metadata": {},
     "output_type": "display_data"
    },
    {
     "data": {
      "text/html": [
       " View project at <a href='https://wandb.ai/azizi-causal-perturb/SDCI_perturb_cite_seq' target=\"_blank\">https://wandb.ai/azizi-causal-perturb/SDCI_perturb_cite_seq</a>"
      ],
      "text/plain": [
       "<IPython.core.display.HTML object>"
      ]
     },
     "metadata": {},
     "output_type": "display_data"
    },
    {
     "data": {
      "text/html": [
       " View sweep at <a href='https://wandb.ai/azizi-causal-perturb/SDCI_perturb_cite_seq/sweeps/c55u19ta' target=\"_blank\">https://wandb.ai/azizi-causal-perturb/SDCI_perturb_cite_seq/sweeps/c55u19ta</a>"
      ],
      "text/plain": [
       "<IPython.core.display.HTML object>"
      ]
     },
     "metadata": {},
     "output_type": "display_data"
    },
    {
     "data": {
      "text/html": [
       " View run at <a href='https://wandb.ai/azizi-causal-perturb/SDCI_perturb_cite_seq/runs/tjxqb361' target=\"_blank\">https://wandb.ai/azizi-causal-perturb/SDCI_perturb_cite_seq/runs/tjxqb361</a>"
      ],
      "text/plain": [
       "<IPython.core.display.HTML object>"
      ]
     },
     "metadata": {},
     "output_type": "display_data"
    },
    {
     "name": "stdout",
     "output_type": "stream",
     "text": [
      "Using cpu\n"
     ]
    },
    {
     "data": {
      "text/html": [
       "Waiting for W&B process to finish... <strong style=\"color:green\">(success).</strong>"
      ],
      "text/plain": [
       "<IPython.core.display.HTML object>"
      ]
     },
     "metadata": {},
     "output_type": "display_data"
    },
    {
     "data": {
      "text/html": [
       " View run <strong style=\"color:#cdcd00\">lucky-sweep-5</strong> at: <a href='https://wandb.ai/azizi-causal-perturb/SDCI_perturb_cite_seq/runs/tjxqb361' target=\"_blank\">https://wandb.ai/azizi-causal-perturb/SDCI_perturb_cite_seq/runs/tjxqb361</a><br/> View job at <a href='https://wandb.ai/azizi-causal-perturb/SDCI_perturb_cite_seq/jobs/QXJ0aWZhY3RDb2xsZWN0aW9uOjkyMTIyNTA4/version_details/v6' target=\"_blank\">https://wandb.ai/azizi-causal-perturb/SDCI_perturb_cite_seq/jobs/QXJ0aWZhY3RDb2xsZWN0aW9uOjkyMTIyNTA4/version_details/v6</a><br/>Synced 6 W&B file(s), 0 media file(s), 0 artifact file(s) and 0 other file(s)"
      ],
      "text/plain": [
       "<IPython.core.display.HTML object>"
      ]
     },
     "metadata": {},
     "output_type": "display_data"
    },
    {
     "data": {
      "text/html": [
       "Find logs at: <code>./wandb/run-20230823_032156-tjxqb361/logs</code>"
      ],
      "text/plain": [
       "<IPython.core.display.HTML object>"
      ]
     },
     "metadata": {},
     "output_type": "display_data"
    },
    {
     "name": "stderr",
     "output_type": "stream",
     "text": [
      "\u001b[34m\u001b[1mwandb\u001b[0m: \u001b[33mWARNING\u001b[0m Ignored wandb.init() arg project when running a sweep.\n"
     ]
    },
    {
     "data": {
      "application/vnd.jupyter.widget-view+json": {
       "model_id": "dc77e8d1eb914de39aa695700856ed7f",
       "version_major": 2,
       "version_minor": 0
      },
      "text/plain": [
       "VBox(children=(Label(value='Waiting for wandb.init()...\\r'), FloatProgress(value=0.01666828768332683, max=1.0)…"
      ]
     },
     "metadata": {},
     "output_type": "display_data"
    },
    {
     "data": {
      "text/html": [
       "Tracking run with wandb version 0.15.8"
      ],
      "text/plain": [
       "<IPython.core.display.HTML object>"
      ]
     },
     "metadata": {},
     "output_type": "display_data"
    },
    {
     "data": {
      "text/html": [
       "Run data is saved locally in <code>/home/justinhong/causal-perturbseq/notebooks/wandb/run-20230823_032204-tjxqb361</code>"
      ],
      "text/plain": [
       "<IPython.core.display.HTML object>"
      ]
     },
     "metadata": {},
     "output_type": "display_data"
    },
    {
     "data": {
      "text/html": [
       "Syncing run <strong><a href='https://wandb.ai/azizi-causal-perturb/SDCI_perturb_cite_seq/runs/tjxqb361' target=\"_blank\">SDCI</a></strong> to <a href='https://wandb.ai/azizi-causal-perturb/SDCI_perturb_cite_seq' target=\"_blank\">Weights & Biases</a> (<a href='https://wandb.me/run' target=\"_blank\">docs</a>)<br/>Sweep page: <a href='https://wandb.ai/azizi-causal-perturb/SDCI_perturb_cite_seq/sweeps/c55u19ta' target=\"_blank\">https://wandb.ai/azizi-causal-perturb/SDCI_perturb_cite_seq/sweeps/c55u19ta</a>"
      ],
      "text/plain": [
       "<IPython.core.display.HTML object>"
      ]
     },
     "metadata": {},
     "output_type": "display_data"
    },
    {
     "data": {
      "text/html": [
       " View project at <a href='https://wandb.ai/azizi-causal-perturb/SDCI_perturb_cite_seq' target=\"_blank\">https://wandb.ai/azizi-causal-perturb/SDCI_perturb_cite_seq</a>"
      ],
      "text/plain": [
       "<IPython.core.display.HTML object>"
      ]
     },
     "metadata": {},
     "output_type": "display_data"
    },
    {
     "data": {
      "text/html": [
       " View sweep at <a href='https://wandb.ai/azizi-causal-perturb/SDCI_perturb_cite_seq/sweeps/c55u19ta' target=\"_blank\">https://wandb.ai/azizi-causal-perturb/SDCI_perturb_cite_seq/sweeps/c55u19ta</a>"
      ],
      "text/plain": [
       "<IPython.core.display.HTML object>"
      ]
     },
     "metadata": {},
     "output_type": "display_data"
    },
    {
     "data": {
      "text/html": [
       " View run at <a href='https://wandb.ai/azizi-causal-perturb/SDCI_perturb_cite_seq/runs/tjxqb361' target=\"_blank\">https://wandb.ai/azizi-causal-perturb/SDCI_perturb_cite_seq/runs/tjxqb361</a>"
      ],
      "text/plain": [
       "<IPython.core.display.HTML object>"
      ]
     },
     "metadata": {},
     "output_type": "display_data"
    },
    {
     "name": "stdout",
     "output_type": "stream",
     "text": [
      "Epoch 0: loss=2589.15, gamma=0.00\n",
      "Epoch 5: loss=1563.41, gamma=0.00\n",
      "Epoch 10: loss=1465.60, gamma=0.00\n",
      "Epoch 15: loss=1411.89, gamma=0.00\n",
      "Epoch 20: loss=1380.32, gamma=0.00\n",
      "Epoch 25: loss=1353.72, gamma=0.00\n",
      "Epoch 30: loss=1327.13, gamma=0.00\n",
      "Epoch 35: loss=1317.29, gamma=0.00\n",
      "Epoch 40: loss=1300.80, gamma=0.00\n",
      "Epoch 45: loss=1292.46, gamma=0.00\n",
      "Epoch 50: loss=1285.78, gamma=0.00\n",
      "Epoch 55: loss=1288.70, gamma=0.00\n",
      "Epoch 60: loss=1280.83, gamma=0.00\n",
      "Epoch 65: loss=1278.38, gamma=0.00\n",
      "Epoch 70: loss=1280.84, gamma=0.00\n",
      "Epoch 75: loss=1269.92, gamma=0.00\n",
      "Epoch 80: loss=1263.24, gamma=0.00\n",
      "Epoch 85: loss=1268.02, gamma=0.00\n",
      "Epoch 90: loss=1262.80, gamma=0.00\n",
      "Epoch 95: loss=1250.19, gamma=0.00\n",
      "Fraction of possible edges in mask: 0.2360531153108063\n",
      "Epoch 0: loss=2187.48, gamma=0.00\n",
      "Epoch 5: loss=1794.01, gamma=7.05\n",
      "Epoch 10: loss=1802.49, gamma=14.09\n",
      "Epoch 15: loss=1816.17, gamma=21.14\n",
      "Epoch 20: loss=1814.59, gamma=28.18\n",
      "Epoch 25: loss=1814.34, gamma=35.23\n",
      "Epoch 30: loss=1815.49, gamma=42.28\n",
      "Epoch 35: loss=1830.78, gamma=49.32\n",
      "Epoch 40: loss=1849.45, gamma=56.37\n",
      "Epoch 45: loss=1821.45, gamma=63.41\n",
      "Epoch 50: loss=1824.52, gamma=70.46\n",
      "Epoch 55: loss=1821.04, gamma=77.51\n",
      "Epoch 60: loss=1822.59, gamma=84.55\n",
      "Epoch 65: loss=1824.07, gamma=91.60\n",
      "Epoch 70: loss=1831.31, gamma=98.64\n",
      "Epoch 75: loss=1835.05, gamma=105.69\n",
      "Epoch 80: loss=1833.70, gamma=112.74\n",
      "Epoch 85: loss=1826.21, gamma=119.78\n",
      "Epoch 90: loss=1830.51, gamma=126.83\n",
      "Epoch 95: loss=1833.08, gamma=133.88\n",
      "Finished training in 2492.0299122333527 seconds.\n"
     ]
    },
    {
     "data": {
      "text/html": [
       "Waiting for W&B process to finish... <strong style=\"color:green\">(success).</strong>"
      ],
      "text/plain": [
       "<IPython.core.display.HTML object>"
      ]
     },
     "metadata": {},
     "output_type": "display_data"
    },
    {
     "data": {
      "application/vnd.jupyter.widget-view+json": {
       "model_id": "4a65b0eda2b54d5587d5d27ca4d448c6",
       "version_major": 2,
       "version_minor": 0
      },
      "text/plain": [
       "VBox(children=(Label(value='0.009 MB of 0.009 MB uploaded (0.000 MB deduped)\\r'), FloatProgress(value=1.0, max…"
      ]
     },
     "metadata": {},
     "output_type": "display_data"
    },
    {
     "data": {
      "text/html": [
       "<style>\n",
       "    table.wandb td:nth-child(1) { padding: 0 10px; text-align: left ; width: auto;} td:nth-child(2) {text-align: left ; width: 100%}\n",
       "    .wandb-row { display: flex; flex-direction: row; flex-wrap: wrap; justify-content: flex-start; width: 100% }\n",
       "    .wandb-col { display: flex; flex-direction: column; flex-basis: 100%; flex: 1; padding: 10px; }\n",
       "    </style>\n",
       "<div class=\"wandb-row\"><div class=\"wandb-col\"><h3>Run history:</h3><br/><table class=\"wandb\"><tr><td>alpha</td><td>▁▁▁▁▁▁▁▁▁▁▁▁▁▁▁▁▁▁▁▁████████████████████</td></tr><tr><td>dag</td><td>▁▁▁▁▁▁▁▁▁▁▁▁▁▁▁▁▁▁▁▁█▃▃▂▂▂▂▂▂▂▂▂▂▂▂▂▂▁▁▁</td></tr><tr><td>epoch</td><td>▁▁▁▂▂▂▂▂▂▃▃▃▃▃▄▄▄▄▄▄▅▅▅▅▅▅▆▆▆▆▆▇▇▇▇▇▇███</td></tr><tr><td>epoch_loss</td><td>█▃▂▂▂▂▁▁▁▁▁▁▁▁▁▁▁▁▁▁▆▄▄▄▄▄▄▄▄▄▄▄▄▄▄▄▄▄▄▄</td></tr><tr><td>gamma</td><td>▁▁▁▁▁▁▁▁▁▁▁▁▁▁▁▁▁▁▁▁▁▁▂▂▂▃▃▄▄▄▅▅▅▆▆▇▇▇██</td></tr><tr><td>is_prescreen</td><td>████████████████████▁▁▁▁▁▁▁▁▁▁▁▁▁▁▁▁▁▁▁▁</td></tr><tr><td>l1</td><td>▁▄▅▅▆▆▆▇▇▇▇▇▇███████▅▃▂▂▂▂▂▂▂▂▂▁▁▁▁▁▁▁▁▁</td></tr><tr><td>l2</td><td>▁▂▂▂▃▃▃▃▃▄▄▄▄▄▄▄▄▄▄▅▇████▇▇▇▇▇▇▇▇▇▇▇▇▇▇▇</td></tr><tr><td>min_dag_threshold</td><td>▁</td></tr><tr><td>n_edges_min_dag</td><td>▁</td></tr><tr><td>nll</td><td>█▃▂▂▂▂▂▁▁▁▁▁▁▁▁▁▁▁▁▁▅▃▃▄▄▃▄▄▄▄▄▄▄▄▄▄▄▄▄▄</td></tr><tr><td>val_rec_loss</td><td>▁</td></tr></table><br/></div><div class=\"wandb-col\"><h3>Run summary:</h3><br/><table class=\"wandb\"><tr><td>alpha</td><td>0.00031</td></tr><tr><td>dag</td><td>0.54188</td></tr><tr><td>epoch</td><td>195</td></tr><tr><td>epoch_loss</td><td>1833.07584</td></tr><tr><td>gamma</td><td>133.87514</td></tr><tr><td>is_prescreen</td><td>0</td></tr><tr><td>l1</td><td>25.43314</td></tr><tr><td>l2</td><td>100.86334</td></tr><tr><td>min_dag_threshold</td><td>0.5976</td></tr><tr><td>n_edges_min_dag</td><td>1583</td></tr><tr><td>nll</td><td>1634.23507</td></tr><tr><td>val_rec_loss</td><td>1693.59436</td></tr></table><br/></div></div>"
      ],
      "text/plain": [
       "<IPython.core.display.HTML object>"
      ]
     },
     "metadata": {},
     "output_type": "display_data"
    },
    {
     "data": {
      "text/html": [
       " View run <strong style=\"color:#cdcd00\">SDCI</strong> at: <a href='https://wandb.ai/azizi-causal-perturb/SDCI_perturb_cite_seq/runs/tjxqb361' target=\"_blank\">https://wandb.ai/azizi-causal-perturb/SDCI_perturb_cite_seq/runs/tjxqb361</a><br/> View job at <a href='https://wandb.ai/azizi-causal-perturb/SDCI_perturb_cite_seq/jobs/QXJ0aWZhY3RDb2xsZWN0aW9uOjkyMTIyNTA4/version_details/v5' target=\"_blank\">https://wandb.ai/azizi-causal-perturb/SDCI_perturb_cite_seq/jobs/QXJ0aWZhY3RDb2xsZWN0aW9uOjkyMTIyNTA4/version_details/v5</a><br/>Synced 6 W&B file(s), 0 media file(s), 0 artifact file(s) and 0 other file(s)"
      ],
      "text/plain": [
       "<IPython.core.display.HTML object>"
      ]
     },
     "metadata": {},
     "output_type": "display_data"
    },
    {
     "data": {
      "text/html": [
       "Find logs at: <code>./wandb/run-20230823_032204-tjxqb361/logs</code>"
      ],
      "text/plain": [
       "<IPython.core.display.HTML object>"
      ]
     },
     "metadata": {},
     "output_type": "display_data"
    },
    {
     "name": "stderr",
     "output_type": "stream",
     "text": [
      "\u001b[34m\u001b[1mwandb\u001b[0m: Agent Starting Run: sqt4mc6c with config:\n",
      "\u001b[34m\u001b[1mwandb\u001b[0m: \tmax_gamma: 225.2755333518242\n",
      "\u001b[34m\u001b[1mwandb\u001b[0m: \tmv_flavor: nn\n",
      "\u001b[34m\u001b[1mwandb\u001b[0m: \ts1_alpha: 0.00020716085277656376\n",
      "\u001b[34m\u001b[1mwandb\u001b[0m: \ts1_beta: 0.0002551681871473278\n",
      "\u001b[34m\u001b[1mwandb\u001b[0m: \ts2_alpha: 0.0009053005841410048\n",
      "\u001b[34m\u001b[1mwandb\u001b[0m: \ts2_beta: 0.05678023992100078\n"
     ]
    },
    {
     "data": {
      "text/html": [
       "Tracking run with wandb version 0.15.8"
      ],
      "text/plain": [
       "<IPython.core.display.HTML object>"
      ]
     },
     "metadata": {},
     "output_type": "display_data"
    },
    {
     "data": {
      "text/html": [
       "Run data is saved locally in <code>/home/justinhong/causal-perturbseq/notebooks/wandb/run-20230823_040349-sqt4mc6c</code>"
      ],
      "text/plain": [
       "<IPython.core.display.HTML object>"
      ]
     },
     "metadata": {},
     "output_type": "display_data"
    },
    {
     "data": {
      "text/html": [
       "Syncing run <strong><a href='https://wandb.ai/azizi-causal-perturb/SDCI_perturb_cite_seq/runs/sqt4mc6c' target=\"_blank\">snowy-sweep-6</a></strong> to <a href='https://wandb.ai/azizi-causal-perturb/SDCI_perturb_cite_seq' target=\"_blank\">Weights & Biases</a> (<a href='https://wandb.me/run' target=\"_blank\">docs</a>)<br/>Sweep page: <a href='https://wandb.ai/azizi-causal-perturb/SDCI_perturb_cite_seq/sweeps/c55u19ta' target=\"_blank\">https://wandb.ai/azizi-causal-perturb/SDCI_perturb_cite_seq/sweeps/c55u19ta</a>"
      ],
      "text/plain": [
       "<IPython.core.display.HTML object>"
      ]
     },
     "metadata": {},
     "output_type": "display_data"
    },
    {
     "data": {
      "text/html": [
       " View project at <a href='https://wandb.ai/azizi-causal-perturb/SDCI_perturb_cite_seq' target=\"_blank\">https://wandb.ai/azizi-causal-perturb/SDCI_perturb_cite_seq</a>"
      ],
      "text/plain": [
       "<IPython.core.display.HTML object>"
      ]
     },
     "metadata": {},
     "output_type": "display_data"
    },
    {
     "data": {
      "text/html": [
       " View sweep at <a href='https://wandb.ai/azizi-causal-perturb/SDCI_perturb_cite_seq/sweeps/c55u19ta' target=\"_blank\">https://wandb.ai/azizi-causal-perturb/SDCI_perturb_cite_seq/sweeps/c55u19ta</a>"
      ],
      "text/plain": [
       "<IPython.core.display.HTML object>"
      ]
     },
     "metadata": {},
     "output_type": "display_data"
    },
    {
     "data": {
      "text/html": [
       " View run at <a href='https://wandb.ai/azizi-causal-perturb/SDCI_perturb_cite_seq/runs/sqt4mc6c' target=\"_blank\">https://wandb.ai/azizi-causal-perturb/SDCI_perturb_cite_seq/runs/sqt4mc6c</a>"
      ],
      "text/plain": [
       "<IPython.core.display.HTML object>"
      ]
     },
     "metadata": {},
     "output_type": "display_data"
    },
    {
     "name": "stdout",
     "output_type": "stream",
     "text": [
      "Using cpu\n"
     ]
    },
    {
     "data": {
      "text/html": [
       "Waiting for W&B process to finish... <strong style=\"color:green\">(success).</strong>"
      ],
      "text/plain": [
       "<IPython.core.display.HTML object>"
      ]
     },
     "metadata": {},
     "output_type": "display_data"
    },
    {
     "data": {
      "text/html": [
       " View run <strong style=\"color:#cdcd00\">snowy-sweep-6</strong> at: <a href='https://wandb.ai/azizi-causal-perturb/SDCI_perturb_cite_seq/runs/sqt4mc6c' target=\"_blank\">https://wandb.ai/azizi-causal-perturb/SDCI_perturb_cite_seq/runs/sqt4mc6c</a><br/> View job at <a href='https://wandb.ai/azizi-causal-perturb/SDCI_perturb_cite_seq/jobs/QXJ0aWZhY3RDb2xsZWN0aW9uOjkyMTIyNTA4/version_details/v6' target=\"_blank\">https://wandb.ai/azizi-causal-perturb/SDCI_perturb_cite_seq/jobs/QXJ0aWZhY3RDb2xsZWN0aW9uOjkyMTIyNTA4/version_details/v6</a><br/>Synced 6 W&B file(s), 0 media file(s), 0 artifact file(s) and 0 other file(s)"
      ],
      "text/plain": [
       "<IPython.core.display.HTML object>"
      ]
     },
     "metadata": {},
     "output_type": "display_data"
    },
    {
     "data": {
      "text/html": [
       "Find logs at: <code>./wandb/run-20230823_040349-sqt4mc6c/logs</code>"
      ],
      "text/plain": [
       "<IPython.core.display.HTML object>"
      ]
     },
     "metadata": {},
     "output_type": "display_data"
    },
    {
     "name": "stderr",
     "output_type": "stream",
     "text": [
      "\u001b[34m\u001b[1mwandb\u001b[0m: \u001b[33mWARNING\u001b[0m Ignored wandb.init() arg project when running a sweep.\n"
     ]
    },
    {
     "data": {
      "application/vnd.jupyter.widget-view+json": {
       "model_id": "5ba6c0c237924011becde0a5afa9e04d",
       "version_major": 2,
       "version_minor": 0
      },
      "text/plain": [
       "VBox(children=(Label(value='Waiting for wandb.init()...\\r'), FloatProgress(value=0.01666816943337229, max=1.0)…"
      ]
     },
     "metadata": {},
     "output_type": "display_data"
    },
    {
     "data": {
      "text/html": [
       "Tracking run with wandb version 0.15.8"
      ],
      "text/plain": [
       "<IPython.core.display.HTML object>"
      ]
     },
     "metadata": {},
     "output_type": "display_data"
    },
    {
     "data": {
      "text/html": [
       "Run data is saved locally in <code>/home/justinhong/causal-perturbseq/notebooks/wandb/run-20230823_040356-sqt4mc6c</code>"
      ],
      "text/plain": [
       "<IPython.core.display.HTML object>"
      ]
     },
     "metadata": {},
     "output_type": "display_data"
    },
    {
     "data": {
      "text/html": [
       "Syncing run <strong><a href='https://wandb.ai/azizi-causal-perturb/SDCI_perturb_cite_seq/runs/sqt4mc6c' target=\"_blank\">SDCI</a></strong> to <a href='https://wandb.ai/azizi-causal-perturb/SDCI_perturb_cite_seq' target=\"_blank\">Weights & Biases</a> (<a href='https://wandb.me/run' target=\"_blank\">docs</a>)<br/>Sweep page: <a href='https://wandb.ai/azizi-causal-perturb/SDCI_perturb_cite_seq/sweeps/c55u19ta' target=\"_blank\">https://wandb.ai/azizi-causal-perturb/SDCI_perturb_cite_seq/sweeps/c55u19ta</a>"
      ],
      "text/plain": [
       "<IPython.core.display.HTML object>"
      ]
     },
     "metadata": {},
     "output_type": "display_data"
    },
    {
     "data": {
      "text/html": [
       " View project at <a href='https://wandb.ai/azizi-causal-perturb/SDCI_perturb_cite_seq' target=\"_blank\">https://wandb.ai/azizi-causal-perturb/SDCI_perturb_cite_seq</a>"
      ],
      "text/plain": [
       "<IPython.core.display.HTML object>"
      ]
     },
     "metadata": {},
     "output_type": "display_data"
    },
    {
     "data": {
      "text/html": [
       " View sweep at <a href='https://wandb.ai/azizi-causal-perturb/SDCI_perturb_cite_seq/sweeps/c55u19ta' target=\"_blank\">https://wandb.ai/azizi-causal-perturb/SDCI_perturb_cite_seq/sweeps/c55u19ta</a>"
      ],
      "text/plain": [
       "<IPython.core.display.HTML object>"
      ]
     },
     "metadata": {},
     "output_type": "display_data"
    },
    {
     "data": {
      "text/html": [
       " View run at <a href='https://wandb.ai/azizi-causal-perturb/SDCI_perturb_cite_seq/runs/sqt4mc6c' target=\"_blank\">https://wandb.ai/azizi-causal-perturb/SDCI_perturb_cite_seq/runs/sqt4mc6c</a>"
      ],
      "text/plain": [
       "<IPython.core.display.HTML object>"
      ]
     },
     "metadata": {},
     "output_type": "display_data"
    },
    {
     "name": "stdout",
     "output_type": "stream",
     "text": [
      "Epoch 0: loss=2561.49, gamma=0.00\n",
      "Epoch 5: loss=1556.95, gamma=0.00\n",
      "Epoch 10: loss=1461.53, gamma=0.00\n",
      "Epoch 15: loss=1418.14, gamma=0.00\n",
      "Epoch 20: loss=1377.34, gamma=0.00\n",
      "Epoch 25: loss=1351.44, gamma=0.00\n",
      "Epoch 30: loss=1328.47, gamma=0.00\n",
      "Epoch 35: loss=1308.78, gamma=0.00\n",
      "Epoch 40: loss=1306.45, gamma=0.00\n",
      "Epoch 45: loss=1292.78, gamma=0.00\n",
      "Epoch 50: loss=1290.79, gamma=0.00\n",
      "Epoch 55: loss=1290.82, gamma=0.00\n",
      "Epoch 60: loss=1284.36, gamma=0.00\n",
      "Epoch 65: loss=1313.62, gamma=0.00\n",
      "Epoch 70: loss=1291.10, gamma=0.00\n",
      "Epoch 75: loss=1289.76, gamma=0.00\n",
      "Epoch 80: loss=1282.52, gamma=0.00\n",
      "Epoch 85: loss=1281.45, gamma=0.00\n",
      "Epoch 90: loss=1281.43, gamma=0.00\n",
      "Epoch 95: loss=1280.46, gamma=0.00\n",
      "Fraction of possible edges in mask: 0.23714028996423067\n",
      "Epoch 0: loss=2369.95, gamma=0.00\n",
      "Epoch 5: loss=1954.25, gamma=11.38\n",
      "Epoch 10: loss=1957.94, gamma=22.76\n",
      "Epoch 15: loss=1964.77, gamma=34.13\n",
      "Epoch 20: loss=1963.83, gamma=45.51\n",
      "Epoch 25: loss=1967.67, gamma=56.89\n",
      "Epoch 30: loss=1963.98, gamma=68.27\n",
      "Epoch 35: loss=1975.71, gamma=79.64\n",
      "Epoch 40: loss=1976.47, gamma=91.02\n",
      "Epoch 45: loss=1975.51, gamma=102.40\n",
      "Epoch 50: loss=1966.17, gamma=113.78\n",
      "Epoch 55: loss=1975.10, gamma=125.15\n",
      "Epoch 60: loss=1978.17, gamma=125.15\n",
      "Epoch 65: loss=1972.82, gamma=125.15\n",
      "Epoch 70: loss=1971.54, gamma=125.15\n",
      "Epoch 75: loss=1973.18, gamma=125.15\n",
      "Epoch 80: loss=1969.75, gamma=125.15\n",
      "Epoch 85: loss=1981.82, gamma=125.15\n",
      "Epoch 90: loss=1972.63, gamma=125.15\n",
      "Epoch 95: loss=1969.41, gamma=125.15\n",
      "Finished training in 2462.674351453781 seconds.\n"
     ]
    },
    {
     "data": {
      "text/html": [
       "Waiting for W&B process to finish... <strong style=\"color:green\">(success).</strong>"
      ],
      "text/plain": [
       "<IPython.core.display.HTML object>"
      ]
     },
     "metadata": {},
     "output_type": "display_data"
    },
    {
     "data": {
      "application/vnd.jupyter.widget-view+json": {
       "model_id": "4be8b128937a46efa0a421b32cd00f2c",
       "version_major": 2,
       "version_minor": 0
      },
      "text/plain": [
       "VBox(children=(Label(value='0.009 MB of 0.009 MB uploaded (0.000 MB deduped)\\r'), FloatProgress(value=1.0, max…"
      ]
     },
     "metadata": {},
     "output_type": "display_data"
    },
    {
     "data": {
      "text/html": [
       "<style>\n",
       "    table.wandb td:nth-child(1) { padding: 0 10px; text-align: left ; width: auto;} td:nth-child(2) {text-align: left ; width: 100%}\n",
       "    .wandb-row { display: flex; flex-direction: row; flex-wrap: wrap; justify-content: flex-start; width: 100% }\n",
       "    .wandb-col { display: flex; flex-direction: column; flex-basis: 100%; flex: 1; padding: 10px; }\n",
       "    </style>\n",
       "<div class=\"wandb-row\"><div class=\"wandb-col\"><h3>Run history:</h3><br/><table class=\"wandb\"><tr><td>alpha</td><td>▁▁▁▁▁▁▁▁▁▁▁▁▁▁▁▁▁▁▁▁████████████████████</td></tr><tr><td>dag</td><td>▁▁▁▁▁▁▁▁▁▁▁▁▁▁▁▁▁▁▁▁█▂▂▂▂▂▂▂▂▂▂▂▂▂▂▂▂▂▂▂</td></tr><tr><td>epoch</td><td>▁▁▁▂▂▂▂▂▂▃▃▃▃▃▄▄▄▄▄▄▅▅▅▅▅▅▆▆▆▆▆▇▇▇▇▇▇███</td></tr><tr><td>epoch_loss</td><td>█▃▂▂▂▁▁▁▁▁▁▁▁▁▁▁▁▁▁▁▇▅▅▅▅▅▅▅▅▅▅▅▅▅▅▅▅▅▅▅</td></tr><tr><td>gamma</td><td>▁▁▁▁▁▁▁▁▁▁▁▁▁▁▁▁▁▁▁▁▁▂▂▃▄▄▅▅▆▇▇█████████</td></tr><tr><td>is_prescreen</td><td>████████████████████▁▁▁▁▁▁▁▁▁▁▁▁▁▁▁▁▁▁▁▁</td></tr><tr><td>l1</td><td>▁▄▅▅▆▆▆▆▇▇▇▇▇▇██████▅▂▂▂▂▂▂▂▂▂▂▂▂▂▂▂▂▂▂▂</td></tr><tr><td>l2</td><td>▁▁▁▁▁▁▁▂▂▂▂▂▂▂▂▂▂▂▂▂█▅▅▆▅▅▅▅▅▅▅▅▅▅▅▅▅▅▅▅</td></tr><tr><td>min_dag_threshold</td><td>▁</td></tr><tr><td>n_edges_min_dag</td><td>▁</td></tr><tr><td>nll</td><td>█▃▂▂▂▂▁▁▁▁▁▁▁▁▁▁▁▁▁▁▅▄▄▄▄▄▄▄▄▄▄▄▄▄▄▄▄▄▄▄</td></tr><tr><td>val_rec_loss</td><td>▁</td></tr></table><br/></div><div class=\"wandb-col\"><h3>Run summary:</h3><br/><table class=\"wandb\"><tr><td>alpha</td><td>0.00091</td></tr><tr><td>dag</td><td>0.22284</td></tr><tr><td>epoch</td><td>195</td></tr><tr><td>epoch_loss</td><td>1969.40806</td></tr><tr><td>gamma</td><td>125.15307</td></tr><tr><td>is_prescreen</td><td>0</td></tr><tr><td>l1</td><td>40.80511</td></tr><tr><td>l2</td><td>173.98794</td></tr><tr><td>min_dag_threshold</td><td>0.46096</td></tr><tr><td>n_edges_min_dag</td><td>191</td></tr><tr><td>nll</td><td>1726.72577</td></tr><tr><td>val_rec_loss</td><td>1764.05054</td></tr></table><br/></div></div>"
      ],
      "text/plain": [
       "<IPython.core.display.HTML object>"
      ]
     },
     "metadata": {},
     "output_type": "display_data"
    },
    {
     "data": {
      "text/html": [
       " View run <strong style=\"color:#cdcd00\">SDCI</strong> at: <a href='https://wandb.ai/azizi-causal-perturb/SDCI_perturb_cite_seq/runs/sqt4mc6c' target=\"_blank\">https://wandb.ai/azizi-causal-perturb/SDCI_perturb_cite_seq/runs/sqt4mc6c</a><br/> View job at <a href='https://wandb.ai/azizi-causal-perturb/SDCI_perturb_cite_seq/jobs/QXJ0aWZhY3RDb2xsZWN0aW9uOjkyMTIyNTA4/version_details/v5' target=\"_blank\">https://wandb.ai/azizi-causal-perturb/SDCI_perturb_cite_seq/jobs/QXJ0aWZhY3RDb2xsZWN0aW9uOjkyMTIyNTA4/version_details/v5</a><br/>Synced 6 W&B file(s), 0 media file(s), 0 artifact file(s) and 0 other file(s)"
      ],
      "text/plain": [
       "<IPython.core.display.HTML object>"
      ]
     },
     "metadata": {},
     "output_type": "display_data"
    },
    {
     "data": {
      "text/html": [
       "Find logs at: <code>./wandb/run-20230823_040356-sqt4mc6c/logs</code>"
      ],
      "text/plain": [
       "<IPython.core.display.HTML object>"
      ]
     },
     "metadata": {},
     "output_type": "display_data"
    },
    {
     "name": "stderr",
     "output_type": "stream",
     "text": [
      "\u001b[34m\u001b[1mwandb\u001b[0m: Agent Starting Run: os91d8xw with config:\n",
      "\u001b[34m\u001b[1mwandb\u001b[0m: \tmax_gamma: 102.72307343650188\n",
      "\u001b[34m\u001b[1mwandb\u001b[0m: \tmv_flavor: nn\n",
      "\u001b[34m\u001b[1mwandb\u001b[0m: \ts1_alpha: 0.00019687184369677663\n",
      "\u001b[34m\u001b[1mwandb\u001b[0m: \ts1_beta: 0.0011462184680038135\n",
      "\u001b[34m\u001b[1mwandb\u001b[0m: \ts2_alpha: 0.0009892934072085974\n",
      "\u001b[34m\u001b[1mwandb\u001b[0m: \ts2_beta: 0.008875165091681516\n"
     ]
    },
    {
     "data": {
      "text/html": [
       "Tracking run with wandb version 0.15.8"
      ],
      "text/plain": [
       "<IPython.core.display.HTML object>"
      ]
     },
     "metadata": {},
     "output_type": "display_data"
    },
    {
     "data": {
      "text/html": [
       "Run data is saved locally in <code>/home/justinhong/causal-perturbseq/notebooks/wandb/run-20230823_044511-os91d8xw</code>"
      ],
      "text/plain": [
       "<IPython.core.display.HTML object>"
      ]
     },
     "metadata": {},
     "output_type": "display_data"
    },
    {
     "data": {
      "text/html": [
       "Syncing run <strong><a href='https://wandb.ai/azizi-causal-perturb/SDCI_perturb_cite_seq/runs/os91d8xw' target=\"_blank\">atomic-sweep-7</a></strong> to <a href='https://wandb.ai/azizi-causal-perturb/SDCI_perturb_cite_seq' target=\"_blank\">Weights & Biases</a> (<a href='https://wandb.me/run' target=\"_blank\">docs</a>)<br/>Sweep page: <a href='https://wandb.ai/azizi-causal-perturb/SDCI_perturb_cite_seq/sweeps/c55u19ta' target=\"_blank\">https://wandb.ai/azizi-causal-perturb/SDCI_perturb_cite_seq/sweeps/c55u19ta</a>"
      ],
      "text/plain": [
       "<IPython.core.display.HTML object>"
      ]
     },
     "metadata": {},
     "output_type": "display_data"
    },
    {
     "data": {
      "text/html": [
       " View project at <a href='https://wandb.ai/azizi-causal-perturb/SDCI_perturb_cite_seq' target=\"_blank\">https://wandb.ai/azizi-causal-perturb/SDCI_perturb_cite_seq</a>"
      ],
      "text/plain": [
       "<IPython.core.display.HTML object>"
      ]
     },
     "metadata": {},
     "output_type": "display_data"
    },
    {
     "data": {
      "text/html": [
       " View sweep at <a href='https://wandb.ai/azizi-causal-perturb/SDCI_perturb_cite_seq/sweeps/c55u19ta' target=\"_blank\">https://wandb.ai/azizi-causal-perturb/SDCI_perturb_cite_seq/sweeps/c55u19ta</a>"
      ],
      "text/plain": [
       "<IPython.core.display.HTML object>"
      ]
     },
     "metadata": {},
     "output_type": "display_data"
    },
    {
     "data": {
      "text/html": [
       " View run at <a href='https://wandb.ai/azizi-causal-perturb/SDCI_perturb_cite_seq/runs/os91d8xw' target=\"_blank\">https://wandb.ai/azizi-causal-perturb/SDCI_perturb_cite_seq/runs/os91d8xw</a>"
      ],
      "text/plain": [
       "<IPython.core.display.HTML object>"
      ]
     },
     "metadata": {},
     "output_type": "display_data"
    },
    {
     "name": "stdout",
     "output_type": "stream",
     "text": [
      "Using cpu\n"
     ]
    },
    {
     "data": {
      "text/html": [
       "Waiting for W&B process to finish... <strong style=\"color:green\">(success).</strong>"
      ],
      "text/plain": [
       "<IPython.core.display.HTML object>"
      ]
     },
     "metadata": {},
     "output_type": "display_data"
    },
    {
     "data": {
      "text/html": [
       " View run <strong style=\"color:#cdcd00\">atomic-sweep-7</strong> at: <a href='https://wandb.ai/azizi-causal-perturb/SDCI_perturb_cite_seq/runs/os91d8xw' target=\"_blank\">https://wandb.ai/azizi-causal-perturb/SDCI_perturb_cite_seq/runs/os91d8xw</a><br/> View job at <a href='https://wandb.ai/azizi-causal-perturb/SDCI_perturb_cite_seq/jobs/QXJ0aWZhY3RDb2xsZWN0aW9uOjkyMTIyNTA4/version_details/v6' target=\"_blank\">https://wandb.ai/azizi-causal-perturb/SDCI_perturb_cite_seq/jobs/QXJ0aWZhY3RDb2xsZWN0aW9uOjkyMTIyNTA4/version_details/v6</a><br/>Synced 6 W&B file(s), 0 media file(s), 0 artifact file(s) and 0 other file(s)"
      ],
      "text/plain": [
       "<IPython.core.display.HTML object>"
      ]
     },
     "metadata": {},
     "output_type": "display_data"
    },
    {
     "data": {
      "text/html": [
       "Find logs at: <code>./wandb/run-20230823_044511-os91d8xw/logs</code>"
      ],
      "text/plain": [
       "<IPython.core.display.HTML object>"
      ]
     },
     "metadata": {},
     "output_type": "display_data"
    },
    {
     "name": "stderr",
     "output_type": "stream",
     "text": [
      "\u001b[34m\u001b[1mwandb\u001b[0m: \u001b[33mWARNING\u001b[0m Ignored wandb.init() arg project when running a sweep.\n"
     ]
    },
    {
     "data": {
      "application/vnd.jupyter.widget-view+json": {
       "model_id": "9890cfa186434cf9b70cf16cb6d07f59",
       "version_major": 2,
       "version_minor": 0
      },
      "text/plain": [
       "VBox(children=(Label(value='Waiting for wandb.init()...\\r'), FloatProgress(value=0.016668259633297565, max=1.0…"
      ]
     },
     "metadata": {},
     "output_type": "display_data"
    },
    {
     "data": {
      "text/html": [
       "Tracking run with wandb version 0.15.8"
      ],
      "text/plain": [
       "<IPython.core.display.HTML object>"
      ]
     },
     "metadata": {},
     "output_type": "display_data"
    },
    {
     "data": {
      "text/html": [
       "Run data is saved locally in <code>/home/justinhong/causal-perturbseq/notebooks/wandb/run-20230823_044518-os91d8xw</code>"
      ],
      "text/plain": [
       "<IPython.core.display.HTML object>"
      ]
     },
     "metadata": {},
     "output_type": "display_data"
    },
    {
     "data": {
      "text/html": [
       "Syncing run <strong><a href='https://wandb.ai/azizi-causal-perturb/SDCI_perturb_cite_seq/runs/os91d8xw' target=\"_blank\">SDCI</a></strong> to <a href='https://wandb.ai/azizi-causal-perturb/SDCI_perturb_cite_seq' target=\"_blank\">Weights & Biases</a> (<a href='https://wandb.me/run' target=\"_blank\">docs</a>)<br/>Sweep page: <a href='https://wandb.ai/azizi-causal-perturb/SDCI_perturb_cite_seq/sweeps/c55u19ta' target=\"_blank\">https://wandb.ai/azizi-causal-perturb/SDCI_perturb_cite_seq/sweeps/c55u19ta</a>"
      ],
      "text/plain": [
       "<IPython.core.display.HTML object>"
      ]
     },
     "metadata": {},
     "output_type": "display_data"
    },
    {
     "data": {
      "text/html": [
       " View project at <a href='https://wandb.ai/azizi-causal-perturb/SDCI_perturb_cite_seq' target=\"_blank\">https://wandb.ai/azizi-causal-perturb/SDCI_perturb_cite_seq</a>"
      ],
      "text/plain": [
       "<IPython.core.display.HTML object>"
      ]
     },
     "metadata": {},
     "output_type": "display_data"
    },
    {
     "data": {
      "text/html": [
       " View sweep at <a href='https://wandb.ai/azizi-causal-perturb/SDCI_perturb_cite_seq/sweeps/c55u19ta' target=\"_blank\">https://wandb.ai/azizi-causal-perturb/SDCI_perturb_cite_seq/sweeps/c55u19ta</a>"
      ],
      "text/plain": [
       "<IPython.core.display.HTML object>"
      ]
     },
     "metadata": {},
     "output_type": "display_data"
    },
    {
     "data": {
      "text/html": [
       " View run at <a href='https://wandb.ai/azizi-causal-perturb/SDCI_perturb_cite_seq/runs/os91d8xw' target=\"_blank\">https://wandb.ai/azizi-causal-perturb/SDCI_perturb_cite_seq/runs/os91d8xw</a>"
      ],
      "text/plain": [
       "<IPython.core.display.HTML object>"
      ]
     },
     "metadata": {},
     "output_type": "display_data"
    },
    {
     "name": "stdout",
     "output_type": "stream",
     "text": [
      "Epoch 0: loss=2577.03, gamma=0.00\n",
      "Epoch 5: loss=1577.68, gamma=0.00\n",
      "Epoch 10: loss=1496.56, gamma=0.00\n",
      "Epoch 15: loss=1457.74, gamma=0.00\n",
      "Epoch 20: loss=1428.85, gamma=0.00\n",
      "Epoch 25: loss=1411.11, gamma=0.00\n",
      "Epoch 30: loss=1393.25, gamma=0.00\n",
      "Epoch 35: loss=1382.27, gamma=0.00\n",
      "Epoch 40: loss=1383.72, gamma=0.00\n",
      "Epoch 45: loss=1369.47, gamma=0.00\n",
      "Epoch 50: loss=1369.80, gamma=0.00\n",
      "Epoch 55: loss=1363.78, gamma=0.00\n",
      "Epoch 60: loss=1364.93, gamma=0.00\n",
      "Epoch 65: loss=1376.82, gamma=0.00\n",
      "Epoch 70: loss=1355.52, gamma=0.00\n",
      "Epoch 75: loss=1360.35, gamma=0.00\n",
      "Epoch 80: loss=1371.29, gamma=0.00\n",
      "Epoch 85: loss=1368.18, gamma=0.00\n",
      "Epoch 90: loss=1372.14, gamma=0.00\n",
      "Epoch 95: loss=1379.08, gamma=0.00\n",
      "Fraction of possible edges in mask: 0.1187988705038408\n",
      "Epoch 0: loss=2148.53, gamma=0.00\n",
      "Epoch 5: loss=1805.59, gamma=5.19\n",
      "Epoch 10: loss=1805.35, gamma=10.38\n",
      "Epoch 15: loss=1809.15, gamma=15.56\n",
      "Epoch 20: loss=1814.70, gamma=20.75\n",
      "Epoch 25: loss=1826.87, gamma=25.94\n",
      "Epoch 30: loss=1824.13, gamma=31.13\n",
      "Epoch 35: loss=1813.24, gamma=36.32\n",
      "Epoch 40: loss=1861.64, gamma=41.50\n",
      "Epoch 45: loss=1825.36, gamma=46.69\n",
      "Epoch 50: loss=1818.28, gamma=51.88\n",
      "Epoch 55: loss=1819.79, gamma=57.07\n",
      "Epoch 60: loss=1816.30, gamma=62.26\n",
      "Epoch 65: loss=1825.80, gamma=67.44\n",
      "Epoch 70: loss=1825.27, gamma=72.63\n",
      "Epoch 75: loss=1820.28, gamma=77.82\n",
      "Epoch 80: loss=1837.92, gamma=83.01\n",
      "Epoch 85: loss=1831.06, gamma=88.20\n",
      "Epoch 90: loss=1818.86, gamma=93.38\n",
      "Epoch 95: loss=1824.50, gamma=98.57\n",
      "Finished training in 2455.337317943573 seconds.\n"
     ]
    },
    {
     "data": {
      "text/html": [
       "Waiting for W&B process to finish... <strong style=\"color:green\">(success).</strong>"
      ],
      "text/plain": [
       "<IPython.core.display.HTML object>"
      ]
     },
     "metadata": {},
     "output_type": "display_data"
    },
    {
     "data": {
      "text/html": [
       "<style>\n",
       "    table.wandb td:nth-child(1) { padding: 0 10px; text-align: left ; width: auto;} td:nth-child(2) {text-align: left ; width: 100%}\n",
       "    .wandb-row { display: flex; flex-direction: row; flex-wrap: wrap; justify-content: flex-start; width: 100% }\n",
       "    .wandb-col { display: flex; flex-direction: column; flex-basis: 100%; flex: 1; padding: 10px; }\n",
       "    </style>\n",
       "<div class=\"wandb-row\"><div class=\"wandb-col\"><h3>Run history:</h3><br/><table class=\"wandb\"><tr><td>alpha</td><td>▁▁▁▁▁▁▁▁▁▁▁▁▁▁▁▁▁▁▁▁████████████████████</td></tr><tr><td>dag</td><td>▁▁▁▁▁▁▁▁▁▁▁▁▁▁▁▁▁▁▁▁█▄▄▃▃▃▃▂▂▂▂▂▂▂▂▂▂▂▂▂</td></tr><tr><td>epoch</td><td>▁▁▁▂▂▂▂▂▂▃▃▃▃▃▄▄▄▄▄▄▅▅▅▅▅▅▆▆▆▆▆▇▇▇▇▇▇███</td></tr><tr><td>epoch_loss</td><td>█▂▂▂▁▁▁▁▁▁▁▁▁▁▁▁▁▁▁▁▆▄▄▄▄▄▄▄▄▄▄▄▄▄▄▄▄▄▄▄</td></tr><tr><td>gamma</td><td>▁▁▁▁▁▁▁▁▁▁▁▁▁▁▁▁▁▁▁▁▁▁▂▂▂▃▃▄▄▄▅▅▅▆▆▇▇▇██</td></tr><tr><td>is_prescreen</td><td>████████████████████▁▁▁▁▁▁▁▁▁▁▁▁▁▁▁▁▁▁▁▁</td></tr><tr><td>l1</td><td>▁▄▅▆▆▆▇▇▇▇▇▇▇▇███████▇▆▆▆▆▆▆▅▅▅▅▅▅▅▅▅▅▅▅</td></tr><tr><td>l2</td><td>▁▂▃▃▄▄▄▅▅▅▅▅▅▆▆▆▆▆▆▆▅██████████████████▇</td></tr><tr><td>min_dag_threshold</td><td>▁</td></tr><tr><td>n_edges_min_dag</td><td>▁</td></tr><tr><td>nll</td><td>█▃▂▂▂▁▁▁▁▁▁▁▁▁▁▁▁▁▁▁▅▃▃▃▃▃▃▃▃▃▃▃▃▃▃▃▃▃▃▃</td></tr><tr><td>val_rec_loss</td><td>▁</td></tr></table><br/></div><div class=\"wandb-col\"><h3>Run summary:</h3><br/><table class=\"wandb\"><tr><td>alpha</td><td>0.00099</td></tr><tr><td>dag</td><td>0.33971</td></tr><tr><td>epoch</td><td>195</td></tr><tr><td>epoch_loss</td><td>1824.5044</td></tr><tr><td>gamma</td><td>98.57265</td></tr><tr><td>is_prescreen</td><td>0</td></tr><tr><td>l1</td><td>56.11456</td></tr><tr><td>l2</td><td>113.02623</td></tr><tr><td>min_dag_threshold</td><td>0.67066</td></tr><tr><td>n_edges_min_dag</td><td>789</td></tr><tr><td>nll</td><td>1621.8776</td></tr><tr><td>val_rec_loss</td><td>1667.79932</td></tr></table><br/></div></div>"
      ],
      "text/plain": [
       "<IPython.core.display.HTML object>"
      ]
     },
     "metadata": {},
     "output_type": "display_data"
    },
    {
     "data": {
      "text/html": [
       " View run <strong style=\"color:#cdcd00\">SDCI</strong> at: <a href='https://wandb.ai/azizi-causal-perturb/SDCI_perturb_cite_seq/runs/os91d8xw' target=\"_blank\">https://wandb.ai/azizi-causal-perturb/SDCI_perturb_cite_seq/runs/os91d8xw</a><br/> View job at <a href='https://wandb.ai/azizi-causal-perturb/SDCI_perturb_cite_seq/jobs/QXJ0aWZhY3RDb2xsZWN0aW9uOjkyMTIyNTA4/version_details/v5' target=\"_blank\">https://wandb.ai/azizi-causal-perturb/SDCI_perturb_cite_seq/jobs/QXJ0aWZhY3RDb2xsZWN0aW9uOjkyMTIyNTA4/version_details/v5</a><br/>Synced 6 W&B file(s), 0 media file(s), 0 artifact file(s) and 0 other file(s)"
      ],
      "text/plain": [
       "<IPython.core.display.HTML object>"
      ]
     },
     "metadata": {},
     "output_type": "display_data"
    },
    {
     "data": {
      "text/html": [
       "Find logs at: <code>./wandb/run-20230823_044518-os91d8xw/logs</code>"
      ],
      "text/plain": [
       "<IPython.core.display.HTML object>"
      ]
     },
     "metadata": {},
     "output_type": "display_data"
    },
    {
     "name": "stderr",
     "output_type": "stream",
     "text": [
      "\u001b[34m\u001b[1mwandb\u001b[0m: Agent Starting Run: 5u77nju9 with config:\n",
      "\u001b[34m\u001b[1mwandb\u001b[0m: \tmax_gamma: 106.3564641948426\n",
      "\u001b[34m\u001b[1mwandb\u001b[0m: \tmv_flavor: nn\n",
      "\u001b[34m\u001b[1mwandb\u001b[0m: \ts1_alpha: 0.00021468080608109185\n",
      "\u001b[34m\u001b[1mwandb\u001b[0m: \ts1_beta: 0.0008547274228438926\n",
      "\u001b[34m\u001b[1mwandb\u001b[0m: \ts2_alpha: 0.00012380540325343658\n",
      "\u001b[34m\u001b[1mwandb\u001b[0m: \ts2_beta: 0.0054504142203411895\n"
     ]
    },
    {
     "data": {
      "text/html": [
       "Tracking run with wandb version 0.15.8"
      ],
      "text/plain": [
       "<IPython.core.display.HTML object>"
      ]
     },
     "metadata": {},
     "output_type": "display_data"
    },
    {
     "data": {
      "text/html": [
       "Run data is saved locally in <code>/home/justinhong/causal-perturbseq/notebooks/wandb/run-20230823_052625-5u77nju9</code>"
      ],
      "text/plain": [
       "<IPython.core.display.HTML object>"
      ]
     },
     "metadata": {},
     "output_type": "display_data"
    },
    {
     "data": {
      "text/html": [
       "Syncing run <strong><a href='https://wandb.ai/azizi-causal-perturb/SDCI_perturb_cite_seq/runs/5u77nju9' target=\"_blank\">lyric-sweep-8</a></strong> to <a href='https://wandb.ai/azizi-causal-perturb/SDCI_perturb_cite_seq' target=\"_blank\">Weights & Biases</a> (<a href='https://wandb.me/run' target=\"_blank\">docs</a>)<br/>Sweep page: <a href='https://wandb.ai/azizi-causal-perturb/SDCI_perturb_cite_seq/sweeps/c55u19ta' target=\"_blank\">https://wandb.ai/azizi-causal-perturb/SDCI_perturb_cite_seq/sweeps/c55u19ta</a>"
      ],
      "text/plain": [
       "<IPython.core.display.HTML object>"
      ]
     },
     "metadata": {},
     "output_type": "display_data"
    },
    {
     "data": {
      "text/html": [
       " View project at <a href='https://wandb.ai/azizi-causal-perturb/SDCI_perturb_cite_seq' target=\"_blank\">https://wandb.ai/azizi-causal-perturb/SDCI_perturb_cite_seq</a>"
      ],
      "text/plain": [
       "<IPython.core.display.HTML object>"
      ]
     },
     "metadata": {},
     "output_type": "display_data"
    },
    {
     "data": {
      "text/html": [
       " View sweep at <a href='https://wandb.ai/azizi-causal-perturb/SDCI_perturb_cite_seq/sweeps/c55u19ta' target=\"_blank\">https://wandb.ai/azizi-causal-perturb/SDCI_perturb_cite_seq/sweeps/c55u19ta</a>"
      ],
      "text/plain": [
       "<IPython.core.display.HTML object>"
      ]
     },
     "metadata": {},
     "output_type": "display_data"
    },
    {
     "data": {
      "text/html": [
       " View run at <a href='https://wandb.ai/azizi-causal-perturb/SDCI_perturb_cite_seq/runs/5u77nju9' target=\"_blank\">https://wandb.ai/azizi-causal-perturb/SDCI_perturb_cite_seq/runs/5u77nju9</a>"
      ],
      "text/plain": [
       "<IPython.core.display.HTML object>"
      ]
     },
     "metadata": {},
     "output_type": "display_data"
    },
    {
     "name": "stdout",
     "output_type": "stream",
     "text": [
      "Using cpu\n"
     ]
    },
    {
     "data": {
      "text/html": [
       "Waiting for W&B process to finish... <strong style=\"color:green\">(success).</strong>"
      ],
      "text/plain": [
       "<IPython.core.display.HTML object>"
      ]
     },
     "metadata": {},
     "output_type": "display_data"
    },
    {
     "data": {
      "text/html": [
       " View run <strong style=\"color:#cdcd00\">lyric-sweep-8</strong> at: <a href='https://wandb.ai/azizi-causal-perturb/SDCI_perturb_cite_seq/runs/5u77nju9' target=\"_blank\">https://wandb.ai/azizi-causal-perturb/SDCI_perturb_cite_seq/runs/5u77nju9</a><br/> View job at <a href='https://wandb.ai/azizi-causal-perturb/SDCI_perturb_cite_seq/jobs/QXJ0aWZhY3RDb2xsZWN0aW9uOjkyMTIyNTA4/version_details/v6' target=\"_blank\">https://wandb.ai/azizi-causal-perturb/SDCI_perturb_cite_seq/jobs/QXJ0aWZhY3RDb2xsZWN0aW9uOjkyMTIyNTA4/version_details/v6</a><br/>Synced 6 W&B file(s), 0 media file(s), 0 artifact file(s) and 0 other file(s)"
      ],
      "text/plain": [
       "<IPython.core.display.HTML object>"
      ]
     },
     "metadata": {},
     "output_type": "display_data"
    },
    {
     "data": {
      "text/html": [
       "Find logs at: <code>./wandb/run-20230823_052625-5u77nju9/logs</code>"
      ],
      "text/plain": [
       "<IPython.core.display.HTML object>"
      ]
     },
     "metadata": {},
     "output_type": "display_data"
    },
    {
     "name": "stderr",
     "output_type": "stream",
     "text": [
      "\u001b[34m\u001b[1mwandb\u001b[0m: \u001b[33mWARNING\u001b[0m Ignored wandb.init() arg project when running a sweep.\n"
     ]
    },
    {
     "data": {
      "application/vnd.jupyter.widget-view+json": {
       "model_id": "31b1c2c2427a4ebba63385fac0ad633d",
       "version_major": 2,
       "version_minor": 0
      },
      "text/plain": [
       "VBox(children=(Label(value='Waiting for wandb.init()...\\r'), FloatProgress(value=0.01666837064998011, max=1.0)…"
      ]
     },
     "metadata": {},
     "output_type": "display_data"
    },
    {
     "data": {
      "text/html": [
       "Tracking run with wandb version 0.15.8"
      ],
      "text/plain": [
       "<IPython.core.display.HTML object>"
      ]
     },
     "metadata": {},
     "output_type": "display_data"
    },
    {
     "data": {
      "text/html": [
       "Run data is saved locally in <code>/home/justinhong/causal-perturbseq/notebooks/wandb/run-20230823_052633-5u77nju9</code>"
      ],
      "text/plain": [
       "<IPython.core.display.HTML object>"
      ]
     },
     "metadata": {},
     "output_type": "display_data"
    },
    {
     "data": {
      "text/html": [
       "Syncing run <strong><a href='https://wandb.ai/azizi-causal-perturb/SDCI_perturb_cite_seq/runs/5u77nju9' target=\"_blank\">SDCI</a></strong> to <a href='https://wandb.ai/azizi-causal-perturb/SDCI_perturb_cite_seq' target=\"_blank\">Weights & Biases</a> (<a href='https://wandb.me/run' target=\"_blank\">docs</a>)<br/>Sweep page: <a href='https://wandb.ai/azizi-causal-perturb/SDCI_perturb_cite_seq/sweeps/c55u19ta' target=\"_blank\">https://wandb.ai/azizi-causal-perturb/SDCI_perturb_cite_seq/sweeps/c55u19ta</a>"
      ],
      "text/plain": [
       "<IPython.core.display.HTML object>"
      ]
     },
     "metadata": {},
     "output_type": "display_data"
    },
    {
     "data": {
      "text/html": [
       " View project at <a href='https://wandb.ai/azizi-causal-perturb/SDCI_perturb_cite_seq' target=\"_blank\">https://wandb.ai/azizi-causal-perturb/SDCI_perturb_cite_seq</a>"
      ],
      "text/plain": [
       "<IPython.core.display.HTML object>"
      ]
     },
     "metadata": {},
     "output_type": "display_data"
    },
    {
     "data": {
      "text/html": [
       " View sweep at <a href='https://wandb.ai/azizi-causal-perturb/SDCI_perturb_cite_seq/sweeps/c55u19ta' target=\"_blank\">https://wandb.ai/azizi-causal-perturb/SDCI_perturb_cite_seq/sweeps/c55u19ta</a>"
      ],
      "text/plain": [
       "<IPython.core.display.HTML object>"
      ]
     },
     "metadata": {},
     "output_type": "display_data"
    },
    {
     "data": {
      "text/html": [
       " View run at <a href='https://wandb.ai/azizi-causal-perturb/SDCI_perturb_cite_seq/runs/5u77nju9' target=\"_blank\">https://wandb.ai/azizi-causal-perturb/SDCI_perturb_cite_seq/runs/5u77nju9</a>"
      ],
      "text/plain": [
       "<IPython.core.display.HTML object>"
      ]
     },
     "metadata": {},
     "output_type": "display_data"
    },
    {
     "name": "stdout",
     "output_type": "stream",
     "text": [
      "Epoch 0: loss=2615.78, gamma=0.00\n",
      "Epoch 5: loss=1586.64, gamma=0.00\n",
      "Epoch 10: loss=1495.07, gamma=0.00\n",
      "Epoch 15: loss=1450.55, gamma=0.00\n",
      "Epoch 20: loss=1421.10, gamma=0.00\n",
      "Epoch 25: loss=1402.96, gamma=0.00\n",
      "Epoch 30: loss=1382.26, gamma=0.00\n",
      "Epoch 35: loss=1364.73, gamma=0.00\n",
      "Epoch 40: loss=1360.98, gamma=0.00\n",
      "Epoch 45: loss=1357.91, gamma=0.00\n",
      "Epoch 50: loss=1362.20, gamma=0.00\n",
      "Epoch 55: loss=1357.41, gamma=0.00\n",
      "Epoch 60: loss=1352.27, gamma=0.00\n",
      "Epoch 65: loss=1348.07, gamma=0.00\n",
      "Epoch 70: loss=1338.70, gamma=0.00\n",
      "Epoch 75: loss=1337.86, gamma=0.00\n",
      "Epoch 80: loss=1344.20, gamma=0.00\n",
      "Epoch 85: loss=1351.06, gamma=0.00\n",
      "Epoch 90: loss=1345.47, gamma=0.00\n",
      "Epoch 95: loss=1353.59, gamma=0.00\n",
      "Fraction of possible edges in mask: 0.1396398447143098\n",
      "Epoch 0: loss=2100.80, gamma=0.00\n",
      "Epoch 5: loss=1731.75, gamma=5.37\n",
      "Epoch 10: loss=1750.60, gamma=10.74\n",
      "Epoch 15: loss=1754.45, gamma=16.11\n",
      "Epoch 20: loss=1748.50, gamma=21.49\n",
      "Epoch 25: loss=1756.40, gamma=26.86\n",
      "Epoch 30: loss=1757.21, gamma=32.23\n",
      "Epoch 35: loss=1755.50, gamma=37.60\n",
      "Epoch 40: loss=1767.27, gamma=42.97\n",
      "Epoch 45: loss=1755.66, gamma=48.34\n",
      "Epoch 50: loss=1758.02, gamma=53.72\n",
      "Epoch 55: loss=1750.42, gamma=59.09\n",
      "Epoch 60: loss=1769.15, gamma=64.46\n",
      "Epoch 65: loss=1775.70, gamma=69.83\n",
      "Epoch 70: loss=1773.37, gamma=75.20\n",
      "Epoch 75: loss=1770.60, gamma=80.57\n",
      "Epoch 80: loss=1768.26, gamma=85.94\n",
      "Epoch 85: loss=1763.44, gamma=91.32\n",
      "Epoch 90: loss=1767.09, gamma=96.69\n",
      "Epoch 95: loss=1763.16, gamma=102.06\n",
      "Finished training in 2514.8423585891724 seconds.\n"
     ]
    },
    {
     "data": {
      "text/html": [
       "Waiting for W&B process to finish... <strong style=\"color:green\">(success).</strong>"
      ],
      "text/plain": [
       "<IPython.core.display.HTML object>"
      ]
     },
     "metadata": {},
     "output_type": "display_data"
    },
    {
     "data": {
      "application/vnd.jupyter.widget-view+json": {
       "model_id": "9b6e8db1354647868f5ad0bb47d488e1",
       "version_major": 2,
       "version_minor": 0
      },
      "text/plain": [
       "VBox(children=(Label(value='0.009 MB of 0.009 MB uploaded (0.000 MB deduped)\\r'), FloatProgress(value=1.0, max…"
      ]
     },
     "metadata": {},
     "output_type": "display_data"
    },
    {
     "data": {
      "text/html": [
       "<style>\n",
       "    table.wandb td:nth-child(1) { padding: 0 10px; text-align: left ; width: auto;} td:nth-child(2) {text-align: left ; width: 100%}\n",
       "    .wandb-row { display: flex; flex-direction: row; flex-wrap: wrap; justify-content: flex-start; width: 100% }\n",
       "    .wandb-col { display: flex; flex-direction: column; flex-basis: 100%; flex: 1; padding: 10px; }\n",
       "    </style>\n",
       "<div class=\"wandb-row\"><div class=\"wandb-col\"><h3>Run history:</h3><br/><table class=\"wandb\"><tr><td>alpha</td><td>████████████████████▁▁▁▁▁▁▁▁▁▁▁▁▁▁▁▁▁▁▁▁</td></tr><tr><td>dag</td><td>▁▁▁▁▁▁▁▁▁▁▁▁▁▁▁▁▁▁▁▁█▅▄▃▃▃▂▂▂▂▂▂▂▂▂▂▂▂▂▂</td></tr><tr><td>epoch</td><td>▁▁▁▂▂▂▂▂▂▃▃▃▃▃▄▄▄▄▄▄▅▅▅▅▅▅▆▆▆▆▆▇▇▇▇▇▇███</td></tr><tr><td>epoch_loss</td><td>█▂▂▂▁▁▁▁▁▁▁▁▁▁▁▁▁▁▁▁▅▃▃▃▃▃▃▃▃▃▃▃▃▃▃▃▃▃▃▃</td></tr><tr><td>gamma</td><td>▁▁▁▁▁▁▁▁▁▁▁▁▁▁▁▁▁▁▁▁▁▁▂▂▂▃▃▄▄▄▅▅▅▆▆▇▇▇██</td></tr><tr><td>is_prescreen</td><td>████████████████████▁▁▁▁▁▁▁▁▁▁▁▁▁▁▁▁▁▁▁▁</td></tr><tr><td>l1</td><td>▃▅▆▆▇▇▇▇▇▇██████████▂▁▁▁▁▁▁▁▁▁▁▁▁▁▁▁▁▁▁▁</td></tr><tr><td>l2</td><td>▁▂▂▃▃▄▄▄▄▄▅▅▅▅▅▅▅▅▅▅▅███████▇▇█▇▇▇▇▇▇▇▇▇</td></tr><tr><td>min_dag_threshold</td><td>▁</td></tr><tr><td>n_edges_min_dag</td><td>▁</td></tr><tr><td>nll</td><td>█▃▂▂▂▂▁▁▁▁▁▁▁▁▁▁▁▁▁▁▅▃▃▃▃▃▃▃▃▃▃▃▃▃▃▃▃▃▃▃</td></tr><tr><td>val_rec_loss</td><td>▁</td></tr></table><br/></div><div class=\"wandb-col\"><h3>Run summary:</h3><br/><table class=\"wandb\"><tr><td>alpha</td><td>0.00012</td></tr><tr><td>dag</td><td>0.45998</td></tr><tr><td>epoch</td><td>195</td></tr><tr><td>epoch_loss</td><td>1763.15594</td></tr><tr><td>gamma</td><td>102.05923</td></tr><tr><td>is_prescreen</td><td>0</td></tr><tr><td>l1</td><td>9.96977</td></tr><tr><td>l2</td><td>102.09747</td></tr><tr><td>min_dag_threshold</td><td>0.62888</td></tr><tr><td>n_edges_min_dag</td><td>2619</td></tr><tr><td>nll</td><td>1604.14327</td></tr><tr><td>val_rec_loss</td><td>1652.36719</td></tr></table><br/></div></div>"
      ],
      "text/plain": [
       "<IPython.core.display.HTML object>"
      ]
     },
     "metadata": {},
     "output_type": "display_data"
    },
    {
     "data": {
      "text/html": [
       " View run <strong style=\"color:#cdcd00\">SDCI</strong> at: <a href='https://wandb.ai/azizi-causal-perturb/SDCI_perturb_cite_seq/runs/5u77nju9' target=\"_blank\">https://wandb.ai/azizi-causal-perturb/SDCI_perturb_cite_seq/runs/5u77nju9</a><br/> View job at <a href='https://wandb.ai/azizi-causal-perturb/SDCI_perturb_cite_seq/jobs/QXJ0aWZhY3RDb2xsZWN0aW9uOjkyMTIyNTA4/version_details/v5' target=\"_blank\">https://wandb.ai/azizi-causal-perturb/SDCI_perturb_cite_seq/jobs/QXJ0aWZhY3RDb2xsZWN0aW9uOjkyMTIyNTA4/version_details/v5</a><br/>Synced 6 W&B file(s), 0 media file(s), 0 artifact file(s) and 0 other file(s)"
      ],
      "text/plain": [
       "<IPython.core.display.HTML object>"
      ]
     },
     "metadata": {},
     "output_type": "display_data"
    },
    {
     "data": {
      "text/html": [
       "Find logs at: <code>./wandb/run-20230823_052633-5u77nju9/logs</code>"
      ],
      "text/plain": [
       "<IPython.core.display.HTML object>"
      ]
     },
     "metadata": {},
     "output_type": "display_data"
    },
    {
     "name": "stderr",
     "output_type": "stream",
     "text": [
      "\u001b[34m\u001b[1mwandb\u001b[0m: Agent Starting Run: 8fi9weq2 with config:\n",
      "\u001b[34m\u001b[1mwandb\u001b[0m: \tmax_gamma: 120.75269762012086\n",
      "\u001b[34m\u001b[1mwandb\u001b[0m: \tmv_flavor: nn\n",
      "\u001b[34m\u001b[1mwandb\u001b[0m: \ts1_alpha: 0.00042407463918453834\n",
      "\u001b[34m\u001b[1mwandb\u001b[0m: \ts1_beta: 0.002997180887759907\n",
      "\u001b[34m\u001b[1mwandb\u001b[0m: \ts2_alpha: 1.5526992189246795e-05\n",
      "\u001b[34m\u001b[1mwandb\u001b[0m: \ts2_beta: 0.01703884804368981\n"
     ]
    },
    {
     "data": {
      "text/html": [
       "Tracking run with wandb version 0.15.8"
      ],
      "text/plain": [
       "<IPython.core.display.HTML object>"
      ]
     },
     "metadata": {},
     "output_type": "display_data"
    },
    {
     "data": {
      "text/html": [
       "Run data is saved locally in <code>/home/justinhong/causal-perturbseq/notebooks/wandb/run-20230823_060838-8fi9weq2</code>"
      ],
      "text/plain": [
       "<IPython.core.display.HTML object>"
      ]
     },
     "metadata": {},
     "output_type": "display_data"
    },
    {
     "data": {
      "text/html": [
       "Syncing run <strong><a href='https://wandb.ai/azizi-causal-perturb/SDCI_perturb_cite_seq/runs/8fi9weq2' target=\"_blank\">twilight-sweep-9</a></strong> to <a href='https://wandb.ai/azizi-causal-perturb/SDCI_perturb_cite_seq' target=\"_blank\">Weights & Biases</a> (<a href='https://wandb.me/run' target=\"_blank\">docs</a>)<br/>Sweep page: <a href='https://wandb.ai/azizi-causal-perturb/SDCI_perturb_cite_seq/sweeps/c55u19ta' target=\"_blank\">https://wandb.ai/azizi-causal-perturb/SDCI_perturb_cite_seq/sweeps/c55u19ta</a>"
      ],
      "text/plain": [
       "<IPython.core.display.HTML object>"
      ]
     },
     "metadata": {},
     "output_type": "display_data"
    },
    {
     "data": {
      "text/html": [
       " View project at <a href='https://wandb.ai/azizi-causal-perturb/SDCI_perturb_cite_seq' target=\"_blank\">https://wandb.ai/azizi-causal-perturb/SDCI_perturb_cite_seq</a>"
      ],
      "text/plain": [
       "<IPython.core.display.HTML object>"
      ]
     },
     "metadata": {},
     "output_type": "display_data"
    },
    {
     "data": {
      "text/html": [
       " View sweep at <a href='https://wandb.ai/azizi-causal-perturb/SDCI_perturb_cite_seq/sweeps/c55u19ta' target=\"_blank\">https://wandb.ai/azizi-causal-perturb/SDCI_perturb_cite_seq/sweeps/c55u19ta</a>"
      ],
      "text/plain": [
       "<IPython.core.display.HTML object>"
      ]
     },
     "metadata": {},
     "output_type": "display_data"
    },
    {
     "data": {
      "text/html": [
       " View run at <a href='https://wandb.ai/azizi-causal-perturb/SDCI_perturb_cite_seq/runs/8fi9weq2' target=\"_blank\">https://wandb.ai/azizi-causal-perturb/SDCI_perturb_cite_seq/runs/8fi9weq2</a>"
      ],
      "text/plain": [
       "<IPython.core.display.HTML object>"
      ]
     },
     "metadata": {},
     "output_type": "display_data"
    },
    {
     "name": "stdout",
     "output_type": "stream",
     "text": [
      "Using cpu\n"
     ]
    },
    {
     "data": {
      "text/html": [
       "Waiting for W&B process to finish... <strong style=\"color:green\">(success).</strong>"
      ],
      "text/plain": [
       "<IPython.core.display.HTML object>"
      ]
     },
     "metadata": {},
     "output_type": "display_data"
    },
    {
     "data": {
      "text/html": [
       " View run <strong style=\"color:#cdcd00\">twilight-sweep-9</strong> at: <a href='https://wandb.ai/azizi-causal-perturb/SDCI_perturb_cite_seq/runs/8fi9weq2' target=\"_blank\">https://wandb.ai/azizi-causal-perturb/SDCI_perturb_cite_seq/runs/8fi9weq2</a><br/> View job at <a href='https://wandb.ai/azizi-causal-perturb/SDCI_perturb_cite_seq/jobs/QXJ0aWZhY3RDb2xsZWN0aW9uOjkyMTIyNTA4/version_details/v6' target=\"_blank\">https://wandb.ai/azizi-causal-perturb/SDCI_perturb_cite_seq/jobs/QXJ0aWZhY3RDb2xsZWN0aW9uOjkyMTIyNTA4/version_details/v6</a><br/>Synced 6 W&B file(s), 0 media file(s), 0 artifact file(s) and 0 other file(s)"
      ],
      "text/plain": [
       "<IPython.core.display.HTML object>"
      ]
     },
     "metadata": {},
     "output_type": "display_data"
    },
    {
     "data": {
      "text/html": [
       "Find logs at: <code>./wandb/run-20230823_060838-8fi9weq2/logs</code>"
      ],
      "text/plain": [
       "<IPython.core.display.HTML object>"
      ]
     },
     "metadata": {},
     "output_type": "display_data"
    },
    {
     "name": "stderr",
     "output_type": "stream",
     "text": [
      "\u001b[34m\u001b[1mwandb\u001b[0m: \u001b[33mWARNING\u001b[0m Ignored wandb.init() arg project when running a sweep.\n"
     ]
    },
    {
     "data": {
      "application/vnd.jupyter.widget-view+json": {
       "model_id": "ff40152c3b8449608ae9f49dcdac84bd",
       "version_major": 2,
       "version_minor": 0
      },
      "text/plain": [
       "VBox(children=(Label(value='Waiting for wandb.init()...\\r'), FloatProgress(value=0.016668720149997776, max=1.0…"
      ]
     },
     "metadata": {},
     "output_type": "display_data"
    },
    {
     "data": {
      "text/html": [
       "Tracking run with wandb version 0.15.8"
      ],
      "text/plain": [
       "<IPython.core.display.HTML object>"
      ]
     },
     "metadata": {},
     "output_type": "display_data"
    },
    {
     "data": {
      "text/html": [
       "Run data is saved locally in <code>/home/justinhong/causal-perturbseq/notebooks/wandb/run-20230823_060846-8fi9weq2</code>"
      ],
      "text/plain": [
       "<IPython.core.display.HTML object>"
      ]
     },
     "metadata": {},
     "output_type": "display_data"
    },
    {
     "data": {
      "text/html": [
       "Syncing run <strong><a href='https://wandb.ai/azizi-causal-perturb/SDCI_perturb_cite_seq/runs/8fi9weq2' target=\"_blank\">SDCI</a></strong> to <a href='https://wandb.ai/azizi-causal-perturb/SDCI_perturb_cite_seq' target=\"_blank\">Weights & Biases</a> (<a href='https://wandb.me/run' target=\"_blank\">docs</a>)<br/>Sweep page: <a href='https://wandb.ai/azizi-causal-perturb/SDCI_perturb_cite_seq/sweeps/c55u19ta' target=\"_blank\">https://wandb.ai/azizi-causal-perturb/SDCI_perturb_cite_seq/sweeps/c55u19ta</a>"
      ],
      "text/plain": [
       "<IPython.core.display.HTML object>"
      ]
     },
     "metadata": {},
     "output_type": "display_data"
    },
    {
     "data": {
      "text/html": [
       " View project at <a href='https://wandb.ai/azizi-causal-perturb/SDCI_perturb_cite_seq' target=\"_blank\">https://wandb.ai/azizi-causal-perturb/SDCI_perturb_cite_seq</a>"
      ],
      "text/plain": [
       "<IPython.core.display.HTML object>"
      ]
     },
     "metadata": {},
     "output_type": "display_data"
    },
    {
     "data": {
      "text/html": [
       " View sweep at <a href='https://wandb.ai/azizi-causal-perturb/SDCI_perturb_cite_seq/sweeps/c55u19ta' target=\"_blank\">https://wandb.ai/azizi-causal-perturb/SDCI_perturb_cite_seq/sweeps/c55u19ta</a>"
      ],
      "text/plain": [
       "<IPython.core.display.HTML object>"
      ]
     },
     "metadata": {},
     "output_type": "display_data"
    },
    {
     "data": {
      "text/html": [
       " View run at <a href='https://wandb.ai/azizi-causal-perturb/SDCI_perturb_cite_seq/runs/8fi9weq2' target=\"_blank\">https://wandb.ai/azizi-causal-perturb/SDCI_perturb_cite_seq/runs/8fi9weq2</a>"
      ],
      "text/plain": [
       "<IPython.core.display.HTML object>"
      ]
     },
     "metadata": {},
     "output_type": "display_data"
    },
    {
     "name": "stdout",
     "output_type": "stream",
     "text": [
      "Epoch 0: loss=2572.28, gamma=0.00\n",
      "Epoch 5: loss=1631.64, gamma=0.00\n",
      "Epoch 10: loss=1582.15, gamma=0.00\n",
      "Epoch 15: loss=1559.00, gamma=0.00\n",
      "Epoch 20: loss=1551.29, gamma=0.00\n",
      "Epoch 25: loss=1549.66, gamma=0.00\n",
      "Epoch 30: loss=1544.68, gamma=0.00\n",
      "Epoch 35: loss=1534.40, gamma=0.00\n",
      "Epoch 40: loss=1541.82, gamma=0.00\n",
      "Epoch 45: loss=1532.73, gamma=0.00\n",
      "Epoch 50: loss=1538.09, gamma=0.00\n",
      "Epoch 55: loss=1529.92, gamma=0.00\n",
      "Epoch 60: loss=1527.95, gamma=0.00\n",
      "Epoch 65: loss=1530.62, gamma=0.00\n",
      "Epoch 70: loss=1543.21, gamma=0.00\n",
      "Epoch 75: loss=1531.39, gamma=0.00\n",
      "Epoch 80: loss=1533.19, gamma=0.00\n",
      "Epoch 85: loss=1530.02, gamma=0.00\n",
      "Epoch 90: loss=1555.74, gamma=0.00\n",
      "Epoch 95: loss=1552.58, gamma=0.00\n",
      "Fraction of possible edges in mask: 0.034702906307397634\n",
      "Epoch 0: loss=2078.35, gamma=0.00\n",
      "Epoch 5: loss=1780.68, gamma=6.10\n",
      "Epoch 10: loss=1783.75, gamma=12.20\n",
      "Epoch 15: loss=1790.34, gamma=18.30\n",
      "Epoch 20: loss=1788.37, gamma=24.39\n",
      "Epoch 25: loss=1793.09, gamma=30.49\n",
      "Epoch 30: loss=1787.78, gamma=36.59\n",
      "Epoch 35: loss=1800.90, gamma=42.69\n",
      "Epoch 40: loss=1795.48, gamma=48.79\n",
      "Epoch 45: loss=1801.35, gamma=54.89\n",
      "Epoch 50: loss=1793.51, gamma=60.99\n",
      "Epoch 55: loss=1796.52, gamma=67.08\n",
      "Epoch 60: loss=1803.62, gamma=73.18\n",
      "Epoch 65: loss=1795.33, gamma=79.28\n",
      "Epoch 70: loss=1796.10, gamma=79.28\n",
      "Epoch 75: loss=1804.06, gamma=79.28\n",
      "Epoch 80: loss=1789.72, gamma=79.28\n",
      "Epoch 85: loss=1799.78, gamma=79.28\n",
      "Epoch 90: loss=1800.99, gamma=79.28\n",
      "Epoch 95: loss=1790.59, gamma=79.28\n",
      "Finished training in 2410.669216156006 seconds.\n"
     ]
    },
    {
     "data": {
      "text/html": [
       "Waiting for W&B process to finish... <strong style=\"color:green\">(success).</strong>"
      ],
      "text/plain": [
       "<IPython.core.display.HTML object>"
      ]
     },
     "metadata": {},
     "output_type": "display_data"
    },
    {
     "data": {
      "application/vnd.jupyter.widget-view+json": {
       "model_id": "1d293a11acb64c95abf4bc3697a688b8",
       "version_major": 2,
       "version_minor": 0
      },
      "text/plain": [
       "VBox(children=(Label(value='0.009 MB of 0.009 MB uploaded (0.000 MB deduped)\\r'), FloatProgress(value=1.0, max…"
      ]
     },
     "metadata": {},
     "output_type": "display_data"
    },
    {
     "data": {
      "text/html": [
       "<style>\n",
       "    table.wandb td:nth-child(1) { padding: 0 10px; text-align: left ; width: auto;} td:nth-child(2) {text-align: left ; width: 100%}\n",
       "    .wandb-row { display: flex; flex-direction: row; flex-wrap: wrap; justify-content: flex-start; width: 100% }\n",
       "    .wandb-col { display: flex; flex-direction: column; flex-basis: 100%; flex: 1; padding: 10px; }\n",
       "    </style>\n",
       "<div class=\"wandb-row\"><div class=\"wandb-col\"><h3>Run history:</h3><br/><table class=\"wandb\"><tr><td>alpha</td><td>████████████████████▁▁▁▁▁▁▁▁▁▁▁▁▁▁▁▁▁▁▁▁</td></tr><tr><td>dag</td><td>▁▁▁▁▁▁▁▁▁▁▁▁▁▁▁▁▁▁▁▁█▃▃▂▂▂▂▂▂▂▂▂▂▂▂▂▂▂▂▂</td></tr><tr><td>epoch</td><td>▁▁▁▂▂▂▂▂▂▃▃▃▃▃▄▄▄▄▄▄▅▅▅▅▅▅▆▆▆▆▆▇▇▇▇▇▇███</td></tr><tr><td>epoch_loss</td><td>█▂▁▁▁▁▁▁▁▁▁▁▁▁▁▁▁▁▁▁▅▃▃▃▃▃▃▃▃▃▃▃▃▃▃▃▃▃▃▃</td></tr><tr><td>gamma</td><td>▁▁▁▁▁▁▁▁▁▁▁▁▁▁▁▁▁▁▁▁▁▂▂▃▃▄▄▅▅▆▆▇▇███████</td></tr><tr><td>is_prescreen</td><td>████████████████████▁▁▁▁▁▁▁▁▁▁▁▁▁▁▁▁▁▁▁▁</td></tr><tr><td>l1</td><td>▄▇▇▇▇███████████████▁▁▁▁▁▁▁▁▁▁▁▁▁▁▁▁▁▁▁▁</td></tr><tr><td>l2</td><td>▁▃▃▄▄▅▅▅▅▆▆▆▆▆▆▆▆▆▆▆▆███████████████████</td></tr><tr><td>min_dag_threshold</td><td>▁</td></tr><tr><td>n_edges_min_dag</td><td>▁</td></tr><tr><td>nll</td><td>█▂▂▁▁▁▁▁▁▁▁▁▁▁▁▁▁▁▁▁▅▃▃▃▃▃▃▃▃▃▃▃▃▃▃▃▃▃▃▃</td></tr><tr><td>val_rec_loss</td><td>▁</td></tr></table><br/></div><div class=\"wandb-col\"><h3>Run summary:</h3><br/><table class=\"wandb\"><tr><td>alpha</td><td>2e-05</td></tr><tr><td>dag</td><td>0.20352</td></tr><tr><td>epoch</td><td>195</td></tr><tr><td>epoch_loss</td><td>1790.58923</td></tr><tr><td>gamma</td><td>79.28207</td></tr><tr><td>is_prescreen</td><td>0</td></tr><tr><td>l1</td><td>0.51874</td></tr><tr><td>l2</td><td>134.78114</td></tr><tr><td>min_dag_threshold</td><td>0.4625</td></tr><tr><td>n_edges_min_dag</td><td>2559</td></tr><tr><td>nll</td><td>1639.15425</td></tr><tr><td>val_rec_loss</td><td>1691.55737</td></tr></table><br/></div></div>"
      ],
      "text/plain": [
       "<IPython.core.display.HTML object>"
      ]
     },
     "metadata": {},
     "output_type": "display_data"
    },
    {
     "data": {
      "text/html": [
       " View run <strong style=\"color:#cdcd00\">SDCI</strong> at: <a href='https://wandb.ai/azizi-causal-perturb/SDCI_perturb_cite_seq/runs/8fi9weq2' target=\"_blank\">https://wandb.ai/azizi-causal-perturb/SDCI_perturb_cite_seq/runs/8fi9weq2</a><br/> View job at <a href='https://wandb.ai/azizi-causal-perturb/SDCI_perturb_cite_seq/jobs/QXJ0aWZhY3RDb2xsZWN0aW9uOjkyMTIyNTA4/version_details/v5' target=\"_blank\">https://wandb.ai/azizi-causal-perturb/SDCI_perturb_cite_seq/jobs/QXJ0aWZhY3RDb2xsZWN0aW9uOjkyMTIyNTA4/version_details/v5</a><br/>Synced 6 W&B file(s), 0 media file(s), 0 artifact file(s) and 0 other file(s)"
      ],
      "text/plain": [
       "<IPython.core.display.HTML object>"
      ]
     },
     "metadata": {},
     "output_type": "display_data"
    },
    {
     "data": {
      "text/html": [
       "Find logs at: <code>./wandb/run-20230823_060846-8fi9weq2/logs</code>"
      ],
      "text/plain": [
       "<IPython.core.display.HTML object>"
      ]
     },
     "metadata": {},
     "output_type": "display_data"
    },
    {
     "name": "stderr",
     "output_type": "stream",
     "text": [
      "\u001b[34m\u001b[1mwandb\u001b[0m: Agent Starting Run: 8jvv8779 with config:\n",
      "\u001b[34m\u001b[1mwandb\u001b[0m: \tmax_gamma: 107.03193215397135\n",
      "\u001b[34m\u001b[1mwandb\u001b[0m: \tmv_flavor: nn\n",
      "\u001b[34m\u001b[1mwandb\u001b[0m: \ts1_alpha: 0.00022654299265432448\n",
      "\u001b[34m\u001b[1mwandb\u001b[0m: \ts1_beta: 0.02032616201510188\n",
      "\u001b[34m\u001b[1mwandb\u001b[0m: \ts2_alpha: 0.00030328065024813107\n",
      "\u001b[34m\u001b[1mwandb\u001b[0m: \ts2_beta: 0.0009538140205485206\n"
     ]
    },
    {
     "data": {
      "text/html": [
       "Tracking run with wandb version 0.15.8"
      ],
      "text/plain": [
       "<IPython.core.display.HTML object>"
      ]
     },
     "metadata": {},
     "output_type": "display_data"
    },
    {
     "data": {
      "text/html": [
       "Run data is saved locally in <code>/home/justinhong/causal-perturbseq/notebooks/wandb/run-20230823_064912-8jvv8779</code>"
      ],
      "text/plain": [
       "<IPython.core.display.HTML object>"
      ]
     },
     "metadata": {},
     "output_type": "display_data"
    },
    {
     "data": {
      "text/html": [
       "Syncing run <strong><a href='https://wandb.ai/azizi-causal-perturb/SDCI_perturb_cite_seq/runs/8jvv8779' target=\"_blank\">decent-sweep-10</a></strong> to <a href='https://wandb.ai/azizi-causal-perturb/SDCI_perturb_cite_seq' target=\"_blank\">Weights & Biases</a> (<a href='https://wandb.me/run' target=\"_blank\">docs</a>)<br/>Sweep page: <a href='https://wandb.ai/azizi-causal-perturb/SDCI_perturb_cite_seq/sweeps/c55u19ta' target=\"_blank\">https://wandb.ai/azizi-causal-perturb/SDCI_perturb_cite_seq/sweeps/c55u19ta</a>"
      ],
      "text/plain": [
       "<IPython.core.display.HTML object>"
      ]
     },
     "metadata": {},
     "output_type": "display_data"
    },
    {
     "data": {
      "text/html": [
       " View project at <a href='https://wandb.ai/azizi-causal-perturb/SDCI_perturb_cite_seq' target=\"_blank\">https://wandb.ai/azizi-causal-perturb/SDCI_perturb_cite_seq</a>"
      ],
      "text/plain": [
       "<IPython.core.display.HTML object>"
      ]
     },
     "metadata": {},
     "output_type": "display_data"
    },
    {
     "data": {
      "text/html": [
       " View sweep at <a href='https://wandb.ai/azizi-causal-perturb/SDCI_perturb_cite_seq/sweeps/c55u19ta' target=\"_blank\">https://wandb.ai/azizi-causal-perturb/SDCI_perturb_cite_seq/sweeps/c55u19ta</a>"
      ],
      "text/plain": [
       "<IPython.core.display.HTML object>"
      ]
     },
     "metadata": {},
     "output_type": "display_data"
    },
    {
     "data": {
      "text/html": [
       " View run at <a href='https://wandb.ai/azizi-causal-perturb/SDCI_perturb_cite_seq/runs/8jvv8779' target=\"_blank\">https://wandb.ai/azizi-causal-perturb/SDCI_perturb_cite_seq/runs/8jvv8779</a>"
      ],
      "text/plain": [
       "<IPython.core.display.HTML object>"
      ]
     },
     "metadata": {},
     "output_type": "display_data"
    },
    {
     "name": "stdout",
     "output_type": "stream",
     "text": [
      "Using cpu\n"
     ]
    },
    {
     "data": {
      "text/html": [
       "Waiting for W&B process to finish... <strong style=\"color:green\">(success).</strong>"
      ],
      "text/plain": [
       "<IPython.core.display.HTML object>"
      ]
     },
     "metadata": {},
     "output_type": "display_data"
    },
    {
     "data": {
      "text/html": [
       " View run <strong style=\"color:#cdcd00\">decent-sweep-10</strong> at: <a href='https://wandb.ai/azizi-causal-perturb/SDCI_perturb_cite_seq/runs/8jvv8779' target=\"_blank\">https://wandb.ai/azizi-causal-perturb/SDCI_perturb_cite_seq/runs/8jvv8779</a><br/> View job at <a href='https://wandb.ai/azizi-causal-perturb/SDCI_perturb_cite_seq/jobs/QXJ0aWZhY3RDb2xsZWN0aW9uOjkyMTIyNTA4/version_details/v6' target=\"_blank\">https://wandb.ai/azizi-causal-perturb/SDCI_perturb_cite_seq/jobs/QXJ0aWZhY3RDb2xsZWN0aW9uOjkyMTIyNTA4/version_details/v6</a><br/>Synced 6 W&B file(s), 0 media file(s), 0 artifact file(s) and 0 other file(s)"
      ],
      "text/plain": [
       "<IPython.core.display.HTML object>"
      ]
     },
     "metadata": {},
     "output_type": "display_data"
    },
    {
     "data": {
      "text/html": [
       "Find logs at: <code>./wandb/run-20230823_064912-8jvv8779/logs</code>"
      ],
      "text/plain": [
       "<IPython.core.display.HTML object>"
      ]
     },
     "metadata": {},
     "output_type": "display_data"
    },
    {
     "name": "stderr",
     "output_type": "stream",
     "text": [
      "\u001b[34m\u001b[1mwandb\u001b[0m: \u001b[33mWARNING\u001b[0m Ignored wandb.init() arg project when running a sweep.\n"
     ]
    },
    {
     "data": {
      "application/vnd.jupyter.widget-view+json": {
       "model_id": "e1f87492ac32447c82e5666ceda7d4bf",
       "version_major": 2,
       "version_minor": 0
      },
      "text/plain": [
       "VBox(children=(Label(value='Waiting for wandb.init()...\\r'), FloatProgress(value=0.016668624200004464, max=1.0…"
      ]
     },
     "metadata": {},
     "output_type": "display_data"
    },
    {
     "data": {
      "text/html": [
       "Tracking run with wandb version 0.15.8"
      ],
      "text/plain": [
       "<IPython.core.display.HTML object>"
      ]
     },
     "metadata": {},
     "output_type": "display_data"
    },
    {
     "data": {
      "text/html": [
       "Run data is saved locally in <code>/home/justinhong/causal-perturbseq/notebooks/wandb/run-20230823_064918-8jvv8779</code>"
      ],
      "text/plain": [
       "<IPython.core.display.HTML object>"
      ]
     },
     "metadata": {},
     "output_type": "display_data"
    },
    {
     "data": {
      "text/html": [
       "Syncing run <strong><a href='https://wandb.ai/azizi-causal-perturb/SDCI_perturb_cite_seq/runs/8jvv8779' target=\"_blank\">SDCI</a></strong> to <a href='https://wandb.ai/azizi-causal-perturb/SDCI_perturb_cite_seq' target=\"_blank\">Weights & Biases</a> (<a href='https://wandb.me/run' target=\"_blank\">docs</a>)<br/>Sweep page: <a href='https://wandb.ai/azizi-causal-perturb/SDCI_perturb_cite_seq/sweeps/c55u19ta' target=\"_blank\">https://wandb.ai/azizi-causal-perturb/SDCI_perturb_cite_seq/sweeps/c55u19ta</a>"
      ],
      "text/plain": [
       "<IPython.core.display.HTML object>"
      ]
     },
     "metadata": {},
     "output_type": "display_data"
    },
    {
     "data": {
      "text/html": [
       " View project at <a href='https://wandb.ai/azizi-causal-perturb/SDCI_perturb_cite_seq' target=\"_blank\">https://wandb.ai/azizi-causal-perturb/SDCI_perturb_cite_seq</a>"
      ],
      "text/plain": [
       "<IPython.core.display.HTML object>"
      ]
     },
     "metadata": {},
     "output_type": "display_data"
    },
    {
     "data": {
      "text/html": [
       " View sweep at <a href='https://wandb.ai/azizi-causal-perturb/SDCI_perturb_cite_seq/sweeps/c55u19ta' target=\"_blank\">https://wandb.ai/azizi-causal-perturb/SDCI_perturb_cite_seq/sweeps/c55u19ta</a>"
      ],
      "text/plain": [
       "<IPython.core.display.HTML object>"
      ]
     },
     "metadata": {},
     "output_type": "display_data"
    },
    {
     "data": {
      "text/html": [
       " View run at <a href='https://wandb.ai/azizi-causal-perturb/SDCI_perturb_cite_seq/runs/8jvv8779' target=\"_blank\">https://wandb.ai/azizi-causal-perturb/SDCI_perturb_cite_seq/runs/8jvv8779</a>"
      ],
      "text/plain": [
       "<IPython.core.display.HTML object>"
      ]
     },
     "metadata": {},
     "output_type": "display_data"
    },
    {
     "name": "stdout",
     "output_type": "stream",
     "text": [
      "Epoch 0: loss=2632.38, gamma=0.00\n",
      "Epoch 5: loss=1722.10, gamma=0.00\n",
      "Epoch 10: loss=1697.53, gamma=0.00\n",
      "Epoch 15: loss=1695.07, gamma=0.00\n",
      "Epoch 20: loss=1693.33, gamma=0.00\n",
      "Epoch 25: loss=1689.44, gamma=0.00\n",
      "Epoch 30: loss=1684.57, gamma=0.00\n",
      "Epoch 35: loss=1687.72, gamma=0.00\n",
      "Epoch 40: loss=1694.49, gamma=0.00\n",
      "Epoch 45: loss=1683.55, gamma=0.00\n",
      "Epoch 50: loss=1682.05, gamma=0.00\n",
      "Epoch 55: loss=1690.23, gamma=0.00\n",
      "Epoch 60: loss=1686.29, gamma=0.00\n",
      "Epoch 65: loss=1682.82, gamma=0.00\n",
      "Epoch 70: loss=1687.15, gamma=0.00\n",
      "Epoch 75: loss=1685.35, gamma=0.00\n",
      "Epoch 80: loss=1684.01, gamma=0.00\n",
      "Epoch 85: loss=1688.65, gamma=0.00\n",
      "Epoch 90: loss=1694.01, gamma=0.00\n",
      "Epoch 95: loss=1688.31, gamma=0.00\n",
      "Fraction of possible edges in mask: 0.0013479508852005482\n",
      "Epoch 0: loss=2052.80, gamma=0.00\n",
      "Epoch 5: loss=1721.61, gamma=5.41\n",
      "Epoch 10: loss=1715.13, gamma=10.81\n",
      "Epoch 15: loss=1719.62, gamma=16.22\n",
      "Epoch 20: loss=1720.04, gamma=21.62\n",
      "Epoch 25: loss=1717.83, gamma=27.03\n",
      "Epoch 30: loss=1716.93, gamma=32.43\n",
      "Epoch 35: loss=1720.94, gamma=37.84\n",
      "Epoch 40: loss=1714.53, gamma=43.25\n",
      "Epoch 45: loss=1709.91, gamma=48.65\n",
      "Epoch 50: loss=1716.67, gamma=48.65\n",
      "Epoch 55: loss=1713.67, gamma=48.65\n",
      "Epoch 60: loss=1714.21, gamma=48.65\n",
      "Epoch 65: loss=1711.73, gamma=48.65\n",
      "Epoch 70: loss=1710.79, gamma=48.65\n",
      "Epoch 75: loss=1707.80, gamma=48.65\n",
      "Epoch 80: loss=1708.18, gamma=48.65\n",
      "Epoch 85: loss=1703.36, gamma=48.65\n",
      "Epoch 90: loss=1703.22, gamma=48.65\n",
      "Epoch 95: loss=1708.81, gamma=48.65\n",
      "Finished training in 2290.203302383423 seconds.\n"
     ]
    },
    {
     "data": {
      "text/html": [
       "Waiting for W&B process to finish... <strong style=\"color:green\">(success).</strong>"
      ],
      "text/plain": [
       "<IPython.core.display.HTML object>"
      ]
     },
     "metadata": {},
     "output_type": "display_data"
    },
    {
     "data": {
      "application/vnd.jupyter.widget-view+json": {
       "model_id": "c097db0cbd3f439e8db1593fb8d251fa",
       "version_major": 2,
       "version_minor": 0
      },
      "text/plain": [
       "VBox(children=(Label(value='0.009 MB of 0.009 MB uploaded (0.000 MB deduped)\\r'), FloatProgress(value=1.0, max…"
      ]
     },
     "metadata": {},
     "output_type": "display_data"
    },
    {
     "data": {
      "text/html": [
       "<style>\n",
       "    table.wandb td:nth-child(1) { padding: 0 10px; text-align: left ; width: auto;} td:nth-child(2) {text-align: left ; width: 100%}\n",
       "    .wandb-row { display: flex; flex-direction: row; flex-wrap: wrap; justify-content: flex-start; width: 100% }\n",
       "    .wandb-col { display: flex; flex-direction: column; flex-basis: 100%; flex: 1; padding: 10px; }\n",
       "    </style>\n",
       "<div class=\"wandb-row\"><div class=\"wandb-col\"><h3>Run history:</h3><br/><table class=\"wandb\"><tr><td>alpha</td><td>▁▁▁▁▁▁▁▁▁▁▁▁▁▁▁▁▁▁▁▁████████████████████</td></tr><tr><td>dag</td><td>▁▁▁▁▁▁▁▁▁▁▁▁▁▁▁▁▁▁▁▁█▃▂▂▂▁▁▁▁▁▁▁▁▁▁▁▁▁▁▁</td></tr><tr><td>epoch</td><td>▁▁▁▂▂▂▂▂▂▃▃▃▃▃▄▄▄▄▄▄▅▅▅▅▅▅▆▆▆▆▆▇▇▇▇▇▇███</td></tr><tr><td>epoch_loss</td><td>█▁▁▁▁▁▁▁▁▁▁▁▁▁▁▁▁▁▁▁▄▁▁▁▁▁▁▁▁▁▁▁▁▁▁▁▁▁▁▁</td></tr><tr><td>gamma</td><td>▁▁▁▁▁▁▁▁▁▁▁▁▁▁▁▁▁▁▁▁▁▂▃▃▄▅▆▆▇███████████</td></tr><tr><td>is_prescreen</td><td>████████████████████▁▁▁▁▁▁▁▁▁▁▁▁▁▁▁▁▁▁▁▁</td></tr><tr><td>l1</td><td>▆███████████████████▁▁▁▁▁▁▁▁▁▁▁▁▁▁▁▁▁▁▁▁</td></tr><tr><td>l2</td><td>▃▆▇▇▇▇▇▇▇███████████▁▁▁▁▁▁▁▁▁▁▂▂▂▂▂▂▂▂▂▂</td></tr><tr><td>min_dag_threshold</td><td>▁</td></tr><tr><td>n_edges_min_dag</td><td>▁</td></tr><tr><td>nll</td><td>█▂▁▁▁▁▁▁▁▁▁▁▁▁▁▁▁▁▁▁▅▃▂▂▂▂▂▂▂▂▂▂▂▂▂▂▂▂▂▂</td></tr><tr><td>val_rec_loss</td><td>▁</td></tr></table><br/></div><div class=\"wandb-col\"><h3>Run summary:</h3><br/><table class=\"wandb\"><tr><td>alpha</td><td>0.0003</td></tr><tr><td>dag</td><td>0.10889</td></tr><tr><td>epoch</td><td>195</td></tr><tr><td>epoch_loss</td><td>1708.81241</td></tr><tr><td>gamma</td><td>48.65088</td></tr><tr><td>is_prescreen</td><td>0</td></tr><tr><td>l1</td><td>3.14913</td></tr><tr><td>l2</td><td>21.80109</td></tr><tr><td>min_dag_threshold</td><td>0.46398</td></tr><tr><td>n_edges_min_dag</td><td>2940</td></tr><tr><td>nll</td><td>1678.56441</td></tr><tr><td>val_rec_loss</td><td>2358.50049</td></tr></table><br/></div></div>"
      ],
      "text/plain": [
       "<IPython.core.display.HTML object>"
      ]
     },
     "metadata": {},
     "output_type": "display_data"
    },
    {
     "data": {
      "text/html": [
       " View run <strong style=\"color:#cdcd00\">SDCI</strong> at: <a href='https://wandb.ai/azizi-causal-perturb/SDCI_perturb_cite_seq/runs/8jvv8779' target=\"_blank\">https://wandb.ai/azizi-causal-perturb/SDCI_perturb_cite_seq/runs/8jvv8779</a><br/> View job at <a href='https://wandb.ai/azizi-causal-perturb/SDCI_perturb_cite_seq/jobs/QXJ0aWZhY3RDb2xsZWN0aW9uOjkyMTIyNTA4/version_details/v5' target=\"_blank\">https://wandb.ai/azizi-causal-perturb/SDCI_perturb_cite_seq/jobs/QXJ0aWZhY3RDb2xsZWN0aW9uOjkyMTIyNTA4/version_details/v5</a><br/>Synced 6 W&B file(s), 0 media file(s), 0 artifact file(s) and 0 other file(s)"
      ],
      "text/plain": [
       "<IPython.core.display.HTML object>"
      ]
     },
     "metadata": {},
     "output_type": "display_data"
    },
    {
     "data": {
      "text/html": [
       "Find logs at: <code>./wandb/run-20230823_064918-8jvv8779/logs</code>"
      ],
      "text/plain": [
       "<IPython.core.display.HTML object>"
      ]
     },
     "metadata": {},
     "output_type": "display_data"
    },
    {
     "name": "stderr",
     "output_type": "stream",
     "text": [
      "\u001b[34m\u001b[1mwandb\u001b[0m: Agent Starting Run: 2u72m9ry with config:\n",
      "\u001b[34m\u001b[1mwandb\u001b[0m: \tmax_gamma: 133.8864402612173\n",
      "\u001b[34m\u001b[1mwandb\u001b[0m: \tmv_flavor: nn\n",
      "\u001b[34m\u001b[1mwandb\u001b[0m: \ts1_alpha: 0.00013073105914233614\n",
      "\u001b[34m\u001b[1mwandb\u001b[0m: \ts1_beta: 0.002292925114470436\n",
      "\u001b[34m\u001b[1mwandb\u001b[0m: \ts2_alpha: 0.0002300575209519635\n",
      "\u001b[34m\u001b[1mwandb\u001b[0m: \ts2_beta: 0.07937219329446436\n"
     ]
    },
    {
     "data": {
      "text/html": [
       "Tracking run with wandb version 0.15.8"
      ],
      "text/plain": [
       "<IPython.core.display.HTML object>"
      ]
     },
     "metadata": {},
     "output_type": "display_data"
    },
    {
     "data": {
      "text/html": [
       "Run data is saved locally in <code>/home/justinhong/causal-perturbseq/notebooks/wandb/run-20230823_072740-2u72m9ry</code>"
      ],
      "text/plain": [
       "<IPython.core.display.HTML object>"
      ]
     },
     "metadata": {},
     "output_type": "display_data"
    },
    {
     "data": {
      "text/html": [
       "Syncing run <strong><a href='https://wandb.ai/azizi-causal-perturb/SDCI_perturb_cite_seq/runs/2u72m9ry' target=\"_blank\">absurd-sweep-11</a></strong> to <a href='https://wandb.ai/azizi-causal-perturb/SDCI_perturb_cite_seq' target=\"_blank\">Weights & Biases</a> (<a href='https://wandb.me/run' target=\"_blank\">docs</a>)<br/>Sweep page: <a href='https://wandb.ai/azizi-causal-perturb/SDCI_perturb_cite_seq/sweeps/c55u19ta' target=\"_blank\">https://wandb.ai/azizi-causal-perturb/SDCI_perturb_cite_seq/sweeps/c55u19ta</a>"
      ],
      "text/plain": [
       "<IPython.core.display.HTML object>"
      ]
     },
     "metadata": {},
     "output_type": "display_data"
    },
    {
     "data": {
      "text/html": [
       " View project at <a href='https://wandb.ai/azizi-causal-perturb/SDCI_perturb_cite_seq' target=\"_blank\">https://wandb.ai/azizi-causal-perturb/SDCI_perturb_cite_seq</a>"
      ],
      "text/plain": [
       "<IPython.core.display.HTML object>"
      ]
     },
     "metadata": {},
     "output_type": "display_data"
    },
    {
     "data": {
      "text/html": [
       " View sweep at <a href='https://wandb.ai/azizi-causal-perturb/SDCI_perturb_cite_seq/sweeps/c55u19ta' target=\"_blank\">https://wandb.ai/azizi-causal-perturb/SDCI_perturb_cite_seq/sweeps/c55u19ta</a>"
      ],
      "text/plain": [
       "<IPython.core.display.HTML object>"
      ]
     },
     "metadata": {},
     "output_type": "display_data"
    },
    {
     "data": {
      "text/html": [
       " View run at <a href='https://wandb.ai/azizi-causal-perturb/SDCI_perturb_cite_seq/runs/2u72m9ry' target=\"_blank\">https://wandb.ai/azizi-causal-perturb/SDCI_perturb_cite_seq/runs/2u72m9ry</a>"
      ],
      "text/plain": [
       "<IPython.core.display.HTML object>"
      ]
     },
     "metadata": {},
     "output_type": "display_data"
    },
    {
     "name": "stdout",
     "output_type": "stream",
     "text": [
      "Using cpu\n"
     ]
    },
    {
     "data": {
      "text/html": [
       "Waiting for W&B process to finish... <strong style=\"color:green\">(success).</strong>"
      ],
      "text/plain": [
       "<IPython.core.display.HTML object>"
      ]
     },
     "metadata": {},
     "output_type": "display_data"
    },
    {
     "data": {
      "text/html": [
       " View run <strong style=\"color:#cdcd00\">absurd-sweep-11</strong> at: <a href='https://wandb.ai/azizi-causal-perturb/SDCI_perturb_cite_seq/runs/2u72m9ry' target=\"_blank\">https://wandb.ai/azizi-causal-perturb/SDCI_perturb_cite_seq/runs/2u72m9ry</a><br/> View job at <a href='https://wandb.ai/azizi-causal-perturb/SDCI_perturb_cite_seq/jobs/QXJ0aWZhY3RDb2xsZWN0aW9uOjkyMTIyNTA4/version_details/v6' target=\"_blank\">https://wandb.ai/azizi-causal-perturb/SDCI_perturb_cite_seq/jobs/QXJ0aWZhY3RDb2xsZWN0aW9uOjkyMTIyNTA4/version_details/v6</a><br/>Synced 6 W&B file(s), 0 media file(s), 0 artifact file(s) and 0 other file(s)"
      ],
      "text/plain": [
       "<IPython.core.display.HTML object>"
      ]
     },
     "metadata": {},
     "output_type": "display_data"
    },
    {
     "data": {
      "text/html": [
       "Find logs at: <code>./wandb/run-20230823_072740-2u72m9ry/logs</code>"
      ],
      "text/plain": [
       "<IPython.core.display.HTML object>"
      ]
     },
     "metadata": {},
     "output_type": "display_data"
    },
    {
     "name": "stderr",
     "output_type": "stream",
     "text": [
      "\u001b[34m\u001b[1mwandb\u001b[0m: \u001b[33mWARNING\u001b[0m Ignored wandb.init() arg project when running a sweep.\n"
     ]
    },
    {
     "data": {
      "application/vnd.jupyter.widget-view+json": {
       "model_id": "72339bd498134afa88f9fab26a50795c",
       "version_major": 2,
       "version_minor": 0
      },
      "text/plain": [
       "VBox(children=(Label(value='Waiting for wandb.init()...\\r'), FloatProgress(value=0.016668031733327857, max=1.0…"
      ]
     },
     "metadata": {},
     "output_type": "display_data"
    },
    {
     "data": {
      "text/html": [
       "Tracking run with wandb version 0.15.8"
      ],
      "text/plain": [
       "<IPython.core.display.HTML object>"
      ]
     },
     "metadata": {},
     "output_type": "display_data"
    },
    {
     "data": {
      "text/html": [
       "Run data is saved locally in <code>/home/justinhong/causal-perturbseq/notebooks/wandb/run-20230823_072746-2u72m9ry</code>"
      ],
      "text/plain": [
       "<IPython.core.display.HTML object>"
      ]
     },
     "metadata": {},
     "output_type": "display_data"
    },
    {
     "data": {
      "text/html": [
       "Syncing run <strong><a href='https://wandb.ai/azizi-causal-perturb/SDCI_perturb_cite_seq/runs/2u72m9ry' target=\"_blank\">SDCI</a></strong> to <a href='https://wandb.ai/azizi-causal-perturb/SDCI_perturb_cite_seq' target=\"_blank\">Weights & Biases</a> (<a href='https://wandb.me/run' target=\"_blank\">docs</a>)<br/>Sweep page: <a href='https://wandb.ai/azizi-causal-perturb/SDCI_perturb_cite_seq/sweeps/c55u19ta' target=\"_blank\">https://wandb.ai/azizi-causal-perturb/SDCI_perturb_cite_seq/sweeps/c55u19ta</a>"
      ],
      "text/plain": [
       "<IPython.core.display.HTML object>"
      ]
     },
     "metadata": {},
     "output_type": "display_data"
    },
    {
     "data": {
      "text/html": [
       " View project at <a href='https://wandb.ai/azizi-causal-perturb/SDCI_perturb_cite_seq' target=\"_blank\">https://wandb.ai/azizi-causal-perturb/SDCI_perturb_cite_seq</a>"
      ],
      "text/plain": [
       "<IPython.core.display.HTML object>"
      ]
     },
     "metadata": {},
     "output_type": "display_data"
    },
    {
     "data": {
      "text/html": [
       " View sweep at <a href='https://wandb.ai/azizi-causal-perturb/SDCI_perturb_cite_seq/sweeps/c55u19ta' target=\"_blank\">https://wandb.ai/azizi-causal-perturb/SDCI_perturb_cite_seq/sweeps/c55u19ta</a>"
      ],
      "text/plain": [
       "<IPython.core.display.HTML object>"
      ]
     },
     "metadata": {},
     "output_type": "display_data"
    },
    {
     "data": {
      "text/html": [
       " View run at <a href='https://wandb.ai/azizi-causal-perturb/SDCI_perturb_cite_seq/runs/2u72m9ry' target=\"_blank\">https://wandb.ai/azizi-causal-perturb/SDCI_perturb_cite_seq/runs/2u72m9ry</a>"
      ],
      "text/plain": [
       "<IPython.core.display.HTML object>"
      ]
     },
     "metadata": {},
     "output_type": "display_data"
    },
    {
     "name": "stdout",
     "output_type": "stream",
     "text": [
      "Epoch 0: loss=2566.64, gamma=0.00\n",
      "Epoch 5: loss=1584.02, gamma=0.00\n",
      "Epoch 10: loss=1508.69, gamma=0.00\n",
      "Epoch 15: loss=1475.39, gamma=0.00\n",
      "Epoch 20: loss=1450.77, gamma=0.00\n",
      "Epoch 25: loss=1436.32, gamma=0.00\n",
      "Epoch 30: loss=1421.97, gamma=0.00\n",
      "Epoch 35: loss=1412.82, gamma=0.00\n",
      "Epoch 40: loss=1414.28, gamma=0.00\n",
      "Epoch 45: loss=1404.27, gamma=0.00\n",
      "Epoch 50: loss=1402.81, gamma=0.00\n",
      "Epoch 55: loss=1393.42, gamma=0.00\n",
      "Epoch 60: loss=1399.76, gamma=0.00\n",
      "Epoch 65: loss=1390.40, gamma=0.00\n",
      "Epoch 70: loss=1402.21, gamma=0.00\n",
      "Epoch 75: loss=1414.54, gamma=0.00\n",
      "Epoch 80: loss=1400.86, gamma=0.00\n",
      "Epoch 85: loss=1404.57, gamma=0.00\n",
      "Epoch 90: loss=1405.99, gamma=0.00\n",
      "Epoch 95: loss=1412.31, gamma=0.00\n",
      "Fraction of possible edges in mask: 0.07373375110948267\n",
      "Epoch 0: loss=2274.58, gamma=0.00\n",
      "Epoch 5: loss=1938.25, gamma=6.76\n",
      "Epoch 10: loss=1942.49, gamma=13.52\n",
      "Epoch 15: loss=1950.65, gamma=20.29\n",
      "Epoch 20: loss=1950.14, gamma=27.05\n",
      "Epoch 25: loss=1953.56, gamma=33.81\n",
      "Epoch 30: loss=1950.26, gamma=33.81\n",
      "Epoch 35: loss=1948.47, gamma=33.81\n",
      "Epoch 40: loss=1954.34, gamma=33.81\n",
      "Epoch 45: loss=1957.58, gamma=33.81\n",
      "Epoch 50: loss=1951.11, gamma=33.81\n",
      "Epoch 55: loss=1960.61, gamma=33.81\n",
      "Epoch 60: loss=1949.51, gamma=33.81\n",
      "Epoch 65: loss=1950.50, gamma=33.81\n",
      "Epoch 70: loss=1956.85, gamma=33.81\n",
      "Epoch 75: loss=1949.52, gamma=33.81\n",
      "Epoch 80: loss=1956.18, gamma=33.81\n",
      "Epoch 85: loss=1951.61, gamma=33.81\n",
      "Epoch 90: loss=1950.43, gamma=33.81\n",
      "Epoch 95: loss=1955.87, gamma=33.81\n",
      "Finished training in 2366.415937900543 seconds.\n"
     ]
    },
    {
     "data": {
      "text/html": [
       "Waiting for W&B process to finish... <strong style=\"color:green\">(success).</strong>"
      ],
      "text/plain": [
       "<IPython.core.display.HTML object>"
      ]
     },
     "metadata": {},
     "output_type": "display_data"
    },
    {
     "data": {
      "text/html": [
       "<style>\n",
       "    table.wandb td:nth-child(1) { padding: 0 10px; text-align: left ; width: auto;} td:nth-child(2) {text-align: left ; width: 100%}\n",
       "    .wandb-row { display: flex; flex-direction: row; flex-wrap: wrap; justify-content: flex-start; width: 100% }\n",
       "    .wandb-col { display: flex; flex-direction: column; flex-basis: 100%; flex: 1; padding: 10px; }\n",
       "    </style>\n",
       "<div class=\"wandb-row\"><div class=\"wandb-col\"><h3>Run history:</h3><br/><table class=\"wandb\"><tr><td>alpha</td><td>▁▁▁▁▁▁▁▁▁▁▁▁▁▁▁▁▁▁▁▁████████████████████</td></tr><tr><td>dag</td><td>▁▁▁▁▁▁▁▁▁▁▁▁▁▁▁▁▁▁▁▁█▃▂▂▂▂▂▂▂▂▂▂▂▂▂▂▂▂▂▂</td></tr><tr><td>epoch</td><td>▁▁▁▂▂▂▂▂▂▃▃▃▃▃▄▄▄▄▄▄▅▅▅▅▅▅▆▆▆▆▆▇▇▇▇▇▇███</td></tr><tr><td>epoch_loss</td><td>█▂▂▂▁▁▁▁▁▁▁▁▁▁▁▁▁▁▁▁▆▄▄▄▄▄▄▄▄▄▄▄▄▄▄▄▄▄▄▄</td></tr><tr><td>gamma</td><td>▁▁▁▁▁▁▁▁▁▁▁▁▁▁▁▁▁▁▁▁▁▂▄▅▇███████████████</td></tr><tr><td>is_prescreen</td><td>████████████████████▁▁▁▁▁▁▁▁▁▁▁▁▁▁▁▁▁▁▁▁</td></tr><tr><td>l1</td><td>▃▆▇▇▇▇▇▇▇███████████▁▁▁▁▁▁▁▁▁▁▁▁▁▁▁▁▁▁▁▁</td></tr><tr><td>l2</td><td>▁▂▂▃▃▃▃▄▄▄▄▄▄▄▄▄▄▄▄▄█▆▆▆▆▆▆▆▆▆▆▇▆▆▆▆▇▆▆▆</td></tr><tr><td>min_dag_threshold</td><td>▁</td></tr><tr><td>n_edges_min_dag</td><td>▁</td></tr><tr><td>nll</td><td>█▂▂▂▂▁▁▁▁▁▁▁▁▁▁▁▁▁▁▁▅▄▄▄▄▄▄▄▄▄▄▄▄▄▄▄▄▄▄▄</td></tr><tr><td>val_rec_loss</td><td>▁</td></tr></table><br/></div><div class=\"wandb-col\"><h3>Run summary:</h3><br/><table class=\"wandb\"><tr><td>alpha</td><td>0.00023</td></tr><tr><td>dag</td><td>0.23619</td></tr><tr><td>epoch</td><td>195</td></tr><tr><td>epoch_loss</td><td>1955.87453</td></tr><tr><td>gamma</td><td>33.80971</td></tr><tr><td>is_prescreen</td><td>0</td></tr><tr><td>l1</td><td>5.99562</td></tr><tr><td>l2</td><td>202.52316</td></tr><tr><td>min_dag_threshold</td><td>0.50207</td></tr><tr><td>n_edges_min_dag</td><td>32</td></tr><tr><td>nll</td><td>1739.37013</td></tr><tr><td>val_rec_loss</td><td>1762.54138</td></tr></table><br/></div></div>"
      ],
      "text/plain": [
       "<IPython.core.display.HTML object>"
      ]
     },
     "metadata": {},
     "output_type": "display_data"
    },
    {
     "data": {
      "text/html": [
       " View run <strong style=\"color:#cdcd00\">SDCI</strong> at: <a href='https://wandb.ai/azizi-causal-perturb/SDCI_perturb_cite_seq/runs/2u72m9ry' target=\"_blank\">https://wandb.ai/azizi-causal-perturb/SDCI_perturb_cite_seq/runs/2u72m9ry</a><br/> View job at <a href='https://wandb.ai/azizi-causal-perturb/SDCI_perturb_cite_seq/jobs/QXJ0aWZhY3RDb2xsZWN0aW9uOjkyMTIyNTA4/version_details/v5' target=\"_blank\">https://wandb.ai/azizi-causal-perturb/SDCI_perturb_cite_seq/jobs/QXJ0aWZhY3RDb2xsZWN0aW9uOjkyMTIyNTA4/version_details/v5</a><br/>Synced 6 W&B file(s), 0 media file(s), 0 artifact file(s) and 0 other file(s)"
      ],
      "text/plain": [
       "<IPython.core.display.HTML object>"
      ]
     },
     "metadata": {},
     "output_type": "display_data"
    },
    {
     "data": {
      "text/html": [
       "Find logs at: <code>./wandb/run-20230823_072746-2u72m9ry/logs</code>"
      ],
      "text/plain": [
       "<IPython.core.display.HTML object>"
      ]
     },
     "metadata": {},
     "output_type": "display_data"
    },
    {
     "name": "stderr",
     "output_type": "stream",
     "text": [
      "\u001b[34m\u001b[1mwandb\u001b[0m: Agent Starting Run: 2ccgby68 with config:\n",
      "\u001b[34m\u001b[1mwandb\u001b[0m: \tmax_gamma: 101.96183624461476\n",
      "\u001b[34m\u001b[1mwandb\u001b[0m: \tmv_flavor: nn\n",
      "\u001b[34m\u001b[1mwandb\u001b[0m: \ts1_alpha: 0.0025333012997127164\n",
      "\u001b[34m\u001b[1mwandb\u001b[0m: \ts1_beta: 0.002126573629660055\n",
      "\u001b[34m\u001b[1mwandb\u001b[0m: \ts2_alpha: 3.5997661638930846e-05\n",
      "\u001b[34m\u001b[1mwandb\u001b[0m: \ts2_beta: 0.06075662201613709\n"
     ]
    },
    {
     "data": {
      "text/html": [
       "Tracking run with wandb version 0.15.8"
      ],
      "text/plain": [
       "<IPython.core.display.HTML object>"
      ]
     },
     "metadata": {},
     "output_type": "display_data"
    },
    {
     "data": {
      "text/html": [
       "Run data is saved locally in <code>/home/justinhong/causal-perturbseq/notebooks/wandb/run-20230823_080723-2ccgby68</code>"
      ],
      "text/plain": [
       "<IPython.core.display.HTML object>"
      ]
     },
     "metadata": {},
     "output_type": "display_data"
    },
    {
     "data": {
      "text/html": [
       "Syncing run <strong><a href='https://wandb.ai/azizi-causal-perturb/SDCI_perturb_cite_seq/runs/2ccgby68' target=\"_blank\">sweepy-sweep-12</a></strong> to <a href='https://wandb.ai/azizi-causal-perturb/SDCI_perturb_cite_seq' target=\"_blank\">Weights & Biases</a> (<a href='https://wandb.me/run' target=\"_blank\">docs</a>)<br/>Sweep page: <a href='https://wandb.ai/azizi-causal-perturb/SDCI_perturb_cite_seq/sweeps/c55u19ta' target=\"_blank\">https://wandb.ai/azizi-causal-perturb/SDCI_perturb_cite_seq/sweeps/c55u19ta</a>"
      ],
      "text/plain": [
       "<IPython.core.display.HTML object>"
      ]
     },
     "metadata": {},
     "output_type": "display_data"
    },
    {
     "data": {
      "text/html": [
       " View project at <a href='https://wandb.ai/azizi-causal-perturb/SDCI_perturb_cite_seq' target=\"_blank\">https://wandb.ai/azizi-causal-perturb/SDCI_perturb_cite_seq</a>"
      ],
      "text/plain": [
       "<IPython.core.display.HTML object>"
      ]
     },
     "metadata": {},
     "output_type": "display_data"
    },
    {
     "data": {
      "text/html": [
       " View sweep at <a href='https://wandb.ai/azizi-causal-perturb/SDCI_perturb_cite_seq/sweeps/c55u19ta' target=\"_blank\">https://wandb.ai/azizi-causal-perturb/SDCI_perturb_cite_seq/sweeps/c55u19ta</a>"
      ],
      "text/plain": [
       "<IPython.core.display.HTML object>"
      ]
     },
     "metadata": {},
     "output_type": "display_data"
    },
    {
     "data": {
      "text/html": [
       " View run at <a href='https://wandb.ai/azizi-causal-perturb/SDCI_perturb_cite_seq/runs/2ccgby68' target=\"_blank\">https://wandb.ai/azizi-causal-perturb/SDCI_perturb_cite_seq/runs/2ccgby68</a>"
      ],
      "text/plain": [
       "<IPython.core.display.HTML object>"
      ]
     },
     "metadata": {},
     "output_type": "display_data"
    },
    {
     "name": "stdout",
     "output_type": "stream",
     "text": [
      "Using cpu\n"
     ]
    },
    {
     "data": {
      "text/html": [
       "Waiting for W&B process to finish... <strong style=\"color:green\">(success).</strong>"
      ],
      "text/plain": [
       "<IPython.core.display.HTML object>"
      ]
     },
     "metadata": {},
     "output_type": "display_data"
    },
    {
     "data": {
      "text/html": [
       " View run <strong style=\"color:#cdcd00\">sweepy-sweep-12</strong> at: <a href='https://wandb.ai/azizi-causal-perturb/SDCI_perturb_cite_seq/runs/2ccgby68' target=\"_blank\">https://wandb.ai/azizi-causal-perturb/SDCI_perturb_cite_seq/runs/2ccgby68</a><br/> View job at <a href='https://wandb.ai/azizi-causal-perturb/SDCI_perturb_cite_seq/jobs/QXJ0aWZhY3RDb2xsZWN0aW9uOjkyMTIyNTA4/version_details/v6' target=\"_blank\">https://wandb.ai/azizi-causal-perturb/SDCI_perturb_cite_seq/jobs/QXJ0aWZhY3RDb2xsZWN0aW9uOjkyMTIyNTA4/version_details/v6</a><br/>Synced 6 W&B file(s), 0 media file(s), 0 artifact file(s) and 0 other file(s)"
      ],
      "text/plain": [
       "<IPython.core.display.HTML object>"
      ]
     },
     "metadata": {},
     "output_type": "display_data"
    },
    {
     "data": {
      "text/html": [
       "Find logs at: <code>./wandb/run-20230823_080723-2ccgby68/logs</code>"
      ],
      "text/plain": [
       "<IPython.core.display.HTML object>"
      ]
     },
     "metadata": {},
     "output_type": "display_data"
    },
    {
     "name": "stderr",
     "output_type": "stream",
     "text": [
      "\u001b[34m\u001b[1mwandb\u001b[0m: \u001b[33mWARNING\u001b[0m Ignored wandb.init() arg project when running a sweep.\n"
     ]
    },
    {
     "data": {
      "application/vnd.jupyter.widget-view+json": {
       "model_id": "a474ef27b46042e5b514ff3fbeec4eee",
       "version_major": 2,
       "version_minor": 0
      },
      "text/plain": [
       "VBox(children=(Label(value='Waiting for wandb.init()...\\r'), FloatProgress(value=0.016668091150010392, max=1.0…"
      ]
     },
     "metadata": {},
     "output_type": "display_data"
    },
    {
     "data": {
      "text/html": [
       "Tracking run with wandb version 0.15.8"
      ],
      "text/plain": [
       "<IPython.core.display.HTML object>"
      ]
     },
     "metadata": {},
     "output_type": "display_data"
    },
    {
     "data": {
      "text/html": [
       "Run data is saved locally in <code>/home/justinhong/causal-perturbseq/notebooks/wandb/run-20230823_080729-2ccgby68</code>"
      ],
      "text/plain": [
       "<IPython.core.display.HTML object>"
      ]
     },
     "metadata": {},
     "output_type": "display_data"
    },
    {
     "data": {
      "text/html": [
       "Syncing run <strong><a href='https://wandb.ai/azizi-causal-perturb/SDCI_perturb_cite_seq/runs/2ccgby68' target=\"_blank\">SDCI</a></strong> to <a href='https://wandb.ai/azizi-causal-perturb/SDCI_perturb_cite_seq' target=\"_blank\">Weights & Biases</a> (<a href='https://wandb.me/run' target=\"_blank\">docs</a>)<br/>Sweep page: <a href='https://wandb.ai/azizi-causal-perturb/SDCI_perturb_cite_seq/sweeps/c55u19ta' target=\"_blank\">https://wandb.ai/azizi-causal-perturb/SDCI_perturb_cite_seq/sweeps/c55u19ta</a>"
      ],
      "text/plain": [
       "<IPython.core.display.HTML object>"
      ]
     },
     "metadata": {},
     "output_type": "display_data"
    },
    {
     "data": {
      "text/html": [
       " View project at <a href='https://wandb.ai/azizi-causal-perturb/SDCI_perturb_cite_seq' target=\"_blank\">https://wandb.ai/azizi-causal-perturb/SDCI_perturb_cite_seq</a>"
      ],
      "text/plain": [
       "<IPython.core.display.HTML object>"
      ]
     },
     "metadata": {},
     "output_type": "display_data"
    },
    {
     "data": {
      "text/html": [
       " View sweep at <a href='https://wandb.ai/azizi-causal-perturb/SDCI_perturb_cite_seq/sweeps/c55u19ta' target=\"_blank\">https://wandb.ai/azizi-causal-perturb/SDCI_perturb_cite_seq/sweeps/c55u19ta</a>"
      ],
      "text/plain": [
       "<IPython.core.display.HTML object>"
      ]
     },
     "metadata": {},
     "output_type": "display_data"
    },
    {
     "data": {
      "text/html": [
       " View run at <a href='https://wandb.ai/azizi-causal-perturb/SDCI_perturb_cite_seq/runs/2ccgby68' target=\"_blank\">https://wandb.ai/azizi-causal-perturb/SDCI_perturb_cite_seq/runs/2ccgby68</a>"
      ],
      "text/plain": [
       "<IPython.core.display.HTML object>"
      ]
     },
     "metadata": {},
     "output_type": "display_data"
    },
    {
     "name": "stdout",
     "output_type": "stream",
     "text": [
      "Epoch 0: loss=2600.80, gamma=0.00\n",
      "Epoch 5: loss=1756.94, gamma=0.00\n",
      "Epoch 10: loss=1733.99, gamma=0.00\n",
      "Epoch 15: loss=1727.65, gamma=0.00\n",
      "Epoch 20: loss=1727.18, gamma=0.00\n",
      "Epoch 25: loss=1730.59, gamma=0.00\n",
      "Epoch 30: loss=1725.35, gamma=0.00\n",
      "Epoch 35: loss=1738.02, gamma=0.00\n",
      "Epoch 40: loss=1733.18, gamma=0.00\n",
      "Epoch 45: loss=1740.41, gamma=0.00\n",
      "Epoch 50: loss=1736.98, gamma=0.00\n",
      "Epoch 55: loss=1741.81, gamma=0.00\n",
      "Epoch 60: loss=1746.40, gamma=0.00\n",
      "Epoch 65: loss=1744.42, gamma=0.00\n",
      "Epoch 70: loss=1743.62, gamma=0.00\n",
      "Epoch 75: loss=1753.68, gamma=0.00\n",
      "Epoch 80: loss=1749.82, gamma=0.00\n",
      "Epoch 85: loss=1746.45, gamma=0.00\n",
      "Epoch 90: loss=1744.39, gamma=0.00\n",
      "Epoch 95: loss=1751.34, gamma=0.00\n",
      "Fraction of possible edges in mask: 0.005511993703492326\n",
      "Epoch 0: loss=2191.73, gamma=0.00\n",
      "Epoch 5: loss=1900.52, gamma=5.15\n",
      "Epoch 10: loss=1906.48, gamma=10.30\n",
      "Epoch 15: loss=1896.60, gamma=15.45\n",
      "Epoch 20: loss=1898.45, gamma=20.60\n",
      "Epoch 25: loss=1906.33, gamma=25.75\n",
      "Epoch 30: loss=1900.59, gamma=30.90\n",
      "Epoch 35: loss=1898.73, gamma=30.90\n",
      "Epoch 40: loss=1901.01, gamma=30.90\n",
      "Epoch 45: loss=1904.02, gamma=30.90\n",
      "Epoch 50: loss=1899.39, gamma=30.90\n",
      "Epoch 55: loss=1896.10, gamma=30.90\n",
      "Epoch 60: loss=1900.78, gamma=30.90\n",
      "Epoch 65: loss=1904.13, gamma=30.90\n",
      "Epoch 70: loss=1905.77, gamma=30.90\n",
      "Epoch 75: loss=1908.72, gamma=30.90\n",
      "Epoch 80: loss=1908.45, gamma=30.90\n",
      "Epoch 85: loss=1899.96, gamma=30.90\n",
      "Epoch 90: loss=1906.55, gamma=30.90\n",
      "Epoch 95: loss=1911.92, gamma=30.90\n",
      "Finished training in 2272.00231218338 seconds.\n"
     ]
    },
    {
     "data": {
      "text/html": [
       "Waiting for W&B process to finish... <strong style=\"color:green\">(success).</strong>"
      ],
      "text/plain": [
       "<IPython.core.display.HTML object>"
      ]
     },
     "metadata": {},
     "output_type": "display_data"
    },
    {
     "data": {
      "application/vnd.jupyter.widget-view+json": {
       "model_id": "1aee1b177ea94b26ac2821af202e95e9",
       "version_major": 2,
       "version_minor": 0
      },
      "text/plain": [
       "VBox(children=(Label(value='0.009 MB of 0.021 MB uploaded (0.000 MB deduped)\\r'), FloatProgress(value=0.453204…"
      ]
     },
     "metadata": {},
     "output_type": "display_data"
    },
    {
     "data": {
      "text/html": [
       "<style>\n",
       "    table.wandb td:nth-child(1) { padding: 0 10px; text-align: left ; width: auto;} td:nth-child(2) {text-align: left ; width: 100%}\n",
       "    .wandb-row { display: flex; flex-direction: row; flex-wrap: wrap; justify-content: flex-start; width: 100% }\n",
       "    .wandb-col { display: flex; flex-direction: column; flex-basis: 100%; flex: 1; padding: 10px; }\n",
       "    </style>\n",
       "<div class=\"wandb-row\"><div class=\"wandb-col\"><h3>Run history:</h3><br/><table class=\"wandb\"><tr><td>alpha</td><td>████████████████████▁▁▁▁▁▁▁▁▁▁▁▁▁▁▁▁▁▁▁▁</td></tr><tr><td>dag</td><td>▁▁▁▁▁▁▁▁▁▁▁▁▁▁▁▁▁▁▁▁█▃▂▂▂▂▂▂▂▂▂▂▂▂▂▂▂▂▂▂</td></tr><tr><td>epoch</td><td>▁▁▁▂▂▂▂▂▂▃▃▃▃▃▄▄▄▄▄▄▅▅▅▅▅▅▆▆▆▆▆▇▇▇▇▇▇███</td></tr><tr><td>epoch_loss</td><td>█▁▁▁▁▁▁▁▁▁▁▁▁▁▁▁▁▁▁▁▅▂▂▂▂▂▂▂▂▂▂▂▂▂▂▂▂▂▂▂</td></tr><tr><td>gamma</td><td>▁▁▁▁▁▁▁▁▁▁▁▁▁▁▁▁▁▁▁▁▁▂▃▅▆▇██████████████</td></tr><tr><td>is_prescreen</td><td>████████████████████▁▁▁▁▁▁▁▁▁▁▁▁▁▁▁▁▁▁▁▁</td></tr><tr><td>l1</td><td>▅▇▇▇████████████████▁▁▁▁▁▁▁▁▁▁▁▁▁▁▁▁▁▁▁▁</td></tr><tr><td>l2</td><td>▁▁▂▂▂▂▂▂▂▂▂▂▂▂▂▃▃▃▃▃█▇▇▇▇▇▇▇▇▇▇▇▇▇▇▇▇▇▇▇</td></tr><tr><td>min_dag_threshold</td><td>▁</td></tr><tr><td>n_edges_min_dag</td><td>▁</td></tr><tr><td>nll</td><td>█▂▁▁▁▁▁▁▁▁▁▁▁▁▁▁▁▁▁▁▅▃▃▃▃▃▃▃▃▃▃▃▃▃▃▃▃▃▃▃</td></tr><tr><td>val_rec_loss</td><td>▁</td></tr></table><br/></div><div class=\"wandb-col\"><h3>Run summary:</h3><br/><table class=\"wandb\"><tr><td>alpha</td><td>4e-05</td></tr><tr><td>dag</td><td>0.16699</td></tr><tr><td>epoch</td><td>195</td></tr><tr><td>epoch_loss</td><td>1911.9174</td></tr><tr><td>gamma</td><td>30.89753</td></tr><tr><td>is_prescreen</td><td>0</td></tr><tr><td>l1</td><td>0.26012</td></tr><tr><td>l2</td><td>157.60912</td></tr><tr><td>min_dag_threshold</td><td>0.46325</td></tr><tr><td>n_edges_min_dag</td><td>402</td></tr><tr><td>nll</td><td>1748.8885</td></tr><tr><td>val_rec_loss</td><td>1748.30212</td></tr></table><br/></div></div>"
      ],
      "text/plain": [
       "<IPython.core.display.HTML object>"
      ]
     },
     "metadata": {},
     "output_type": "display_data"
    },
    {
     "data": {
      "text/html": [
       " View run <strong style=\"color:#cdcd00\">SDCI</strong> at: <a href='https://wandb.ai/azizi-causal-perturb/SDCI_perturb_cite_seq/runs/2ccgby68' target=\"_blank\">https://wandb.ai/azizi-causal-perturb/SDCI_perturb_cite_seq/runs/2ccgby68</a><br/> View job at <a href='https://wandb.ai/azizi-causal-perturb/SDCI_perturb_cite_seq/jobs/QXJ0aWZhY3RDb2xsZWN0aW9uOjkyMTIyNTA4/version_details/v5' target=\"_blank\">https://wandb.ai/azizi-causal-perturb/SDCI_perturb_cite_seq/jobs/QXJ0aWZhY3RDb2xsZWN0aW9uOjkyMTIyNTA4/version_details/v5</a><br/>Synced 6 W&B file(s), 0 media file(s), 0 artifact file(s) and 0 other file(s)"
      ],
      "text/plain": [
       "<IPython.core.display.HTML object>"
      ]
     },
     "metadata": {},
     "output_type": "display_data"
    },
    {
     "data": {
      "text/html": [
       "Find logs at: <code>./wandb/run-20230823_080729-2ccgby68/logs</code>"
      ],
      "text/plain": [
       "<IPython.core.display.HTML object>"
      ]
     },
     "metadata": {},
     "output_type": "display_data"
    },
    {
     "name": "stderr",
     "output_type": "stream",
     "text": [
      "\u001b[34m\u001b[1mwandb\u001b[0m: Agent Starting Run: sh4gxyj6 with config:\n",
      "\u001b[34m\u001b[1mwandb\u001b[0m: \tmax_gamma: 103.15908236229876\n",
      "\u001b[34m\u001b[1mwandb\u001b[0m: \tmv_flavor: nn\n",
      "\u001b[34m\u001b[1mwandb\u001b[0m: \ts1_alpha: 0.0004328072242515362\n",
      "\u001b[34m\u001b[1mwandb\u001b[0m: \ts1_beta: 0.0006352128434378249\n",
      "\u001b[34m\u001b[1mwandb\u001b[0m: \ts2_alpha: 0.00021341337848999553\n",
      "\u001b[34m\u001b[1mwandb\u001b[0m: \ts2_beta: 0.03264345270552534\n"
     ]
    },
    {
     "data": {
      "text/html": [
       "Tracking run with wandb version 0.15.8"
      ],
      "text/plain": [
       "<IPython.core.display.HTML object>"
      ]
     },
     "metadata": {},
     "output_type": "display_data"
    },
    {
     "data": {
      "text/html": [
       "Run data is saved locally in <code>/home/justinhong/causal-perturbseq/notebooks/wandb/run-20230823_084535-sh4gxyj6</code>"
      ],
      "text/plain": [
       "<IPython.core.display.HTML object>"
      ]
     },
     "metadata": {},
     "output_type": "display_data"
    },
    {
     "data": {
      "text/html": [
       "Syncing run <strong><a href='https://wandb.ai/azizi-causal-perturb/SDCI_perturb_cite_seq/runs/sh4gxyj6' target=\"_blank\">mild-sweep-13</a></strong> to <a href='https://wandb.ai/azizi-causal-perturb/SDCI_perturb_cite_seq' target=\"_blank\">Weights & Biases</a> (<a href='https://wandb.me/run' target=\"_blank\">docs</a>)<br/>Sweep page: <a href='https://wandb.ai/azizi-causal-perturb/SDCI_perturb_cite_seq/sweeps/c55u19ta' target=\"_blank\">https://wandb.ai/azizi-causal-perturb/SDCI_perturb_cite_seq/sweeps/c55u19ta</a>"
      ],
      "text/plain": [
       "<IPython.core.display.HTML object>"
      ]
     },
     "metadata": {},
     "output_type": "display_data"
    },
    {
     "data": {
      "text/html": [
       " View project at <a href='https://wandb.ai/azizi-causal-perturb/SDCI_perturb_cite_seq' target=\"_blank\">https://wandb.ai/azizi-causal-perturb/SDCI_perturb_cite_seq</a>"
      ],
      "text/plain": [
       "<IPython.core.display.HTML object>"
      ]
     },
     "metadata": {},
     "output_type": "display_data"
    },
    {
     "data": {
      "text/html": [
       " View sweep at <a href='https://wandb.ai/azizi-causal-perturb/SDCI_perturb_cite_seq/sweeps/c55u19ta' target=\"_blank\">https://wandb.ai/azizi-causal-perturb/SDCI_perturb_cite_seq/sweeps/c55u19ta</a>"
      ],
      "text/plain": [
       "<IPython.core.display.HTML object>"
      ]
     },
     "metadata": {},
     "output_type": "display_data"
    },
    {
     "data": {
      "text/html": [
       " View run at <a href='https://wandb.ai/azizi-causal-perturb/SDCI_perturb_cite_seq/runs/sh4gxyj6' target=\"_blank\">https://wandb.ai/azizi-causal-perturb/SDCI_perturb_cite_seq/runs/sh4gxyj6</a>"
      ],
      "text/plain": [
       "<IPython.core.display.HTML object>"
      ]
     },
     "metadata": {},
     "output_type": "display_data"
    },
    {
     "name": "stdout",
     "output_type": "stream",
     "text": [
      "Using cpu\n"
     ]
    },
    {
     "data": {
      "text/html": [
       "Waiting for W&B process to finish... <strong style=\"color:green\">(success).</strong>"
      ],
      "text/plain": [
       "<IPython.core.display.HTML object>"
      ]
     },
     "metadata": {},
     "output_type": "display_data"
    },
    {
     "data": {
      "text/html": [
       " View run <strong style=\"color:#cdcd00\">mild-sweep-13</strong> at: <a href='https://wandb.ai/azizi-causal-perturb/SDCI_perturb_cite_seq/runs/sh4gxyj6' target=\"_blank\">https://wandb.ai/azizi-causal-perturb/SDCI_perturb_cite_seq/runs/sh4gxyj6</a><br/> View job at <a href='https://wandb.ai/azizi-causal-perturb/SDCI_perturb_cite_seq/jobs/QXJ0aWZhY3RDb2xsZWN0aW9uOjkyMTIyNTA4/version_details/v6' target=\"_blank\">https://wandb.ai/azizi-causal-perturb/SDCI_perturb_cite_seq/jobs/QXJ0aWZhY3RDb2xsZWN0aW9uOjkyMTIyNTA4/version_details/v6</a><br/>Synced 6 W&B file(s), 0 media file(s), 0 artifact file(s) and 0 other file(s)"
      ],
      "text/plain": [
       "<IPython.core.display.HTML object>"
      ]
     },
     "metadata": {},
     "output_type": "display_data"
    },
    {
     "data": {
      "text/html": [
       "Find logs at: <code>./wandb/run-20230823_084535-sh4gxyj6/logs</code>"
      ],
      "text/plain": [
       "<IPython.core.display.HTML object>"
      ]
     },
     "metadata": {},
     "output_type": "display_data"
    },
    {
     "name": "stderr",
     "output_type": "stream",
     "text": [
      "\u001b[34m\u001b[1mwandb\u001b[0m: \u001b[33mWARNING\u001b[0m Ignored wandb.init() arg project when running a sweep.\n"
     ]
    },
    {
     "data": {
      "application/vnd.jupyter.widget-view+json": {
       "model_id": "5a0fad296471487b83c064229f9d6ee4",
       "version_major": 2,
       "version_minor": 0
      },
      "text/plain": [
       "VBox(children=(Label(value='Waiting for wandb.init()...\\r'), FloatProgress(value=0.01666804704994623, max=1.0)…"
      ]
     },
     "metadata": {},
     "output_type": "display_data"
    },
    {
     "data": {
      "text/html": [
       "Tracking run with wandb version 0.15.8"
      ],
      "text/plain": [
       "<IPython.core.display.HTML object>"
      ]
     },
     "metadata": {},
     "output_type": "display_data"
    },
    {
     "data": {
      "text/html": [
       "Run data is saved locally in <code>/home/justinhong/causal-perturbseq/notebooks/wandb/run-20230823_084542-sh4gxyj6</code>"
      ],
      "text/plain": [
       "<IPython.core.display.HTML object>"
      ]
     },
     "metadata": {},
     "output_type": "display_data"
    },
    {
     "data": {
      "text/html": [
       "Syncing run <strong><a href='https://wandb.ai/azizi-causal-perturb/SDCI_perturb_cite_seq/runs/sh4gxyj6' target=\"_blank\">SDCI</a></strong> to <a href='https://wandb.ai/azizi-causal-perturb/SDCI_perturb_cite_seq' target=\"_blank\">Weights & Biases</a> (<a href='https://wandb.me/run' target=\"_blank\">docs</a>)<br/>Sweep page: <a href='https://wandb.ai/azizi-causal-perturb/SDCI_perturb_cite_seq/sweeps/c55u19ta' target=\"_blank\">https://wandb.ai/azizi-causal-perturb/SDCI_perturb_cite_seq/sweeps/c55u19ta</a>"
      ],
      "text/plain": [
       "<IPython.core.display.HTML object>"
      ]
     },
     "metadata": {},
     "output_type": "display_data"
    },
    {
     "data": {
      "text/html": [
       " View project at <a href='https://wandb.ai/azizi-causal-perturb/SDCI_perturb_cite_seq' target=\"_blank\">https://wandb.ai/azizi-causal-perturb/SDCI_perturb_cite_seq</a>"
      ],
      "text/plain": [
       "<IPython.core.display.HTML object>"
      ]
     },
     "metadata": {},
     "output_type": "display_data"
    },
    {
     "data": {
      "text/html": [
       " View sweep at <a href='https://wandb.ai/azizi-causal-perturb/SDCI_perturb_cite_seq/sweeps/c55u19ta' target=\"_blank\">https://wandb.ai/azizi-causal-perturb/SDCI_perturb_cite_seq/sweeps/c55u19ta</a>"
      ],
      "text/plain": [
       "<IPython.core.display.HTML object>"
      ]
     },
     "metadata": {},
     "output_type": "display_data"
    },
    {
     "data": {
      "text/html": [
       " View run at <a href='https://wandb.ai/azizi-causal-perturb/SDCI_perturb_cite_seq/runs/sh4gxyj6' target=\"_blank\">https://wandb.ai/azizi-causal-perturb/SDCI_perturb_cite_seq/runs/sh4gxyj6</a>"
      ],
      "text/plain": [
       "<IPython.core.display.HTML object>"
      ]
     },
     "metadata": {},
     "output_type": "display_data"
    },
    {
     "name": "stdout",
     "output_type": "stream",
     "text": [
      "Epoch 0: loss=2615.25, gamma=0.00\n",
      "Epoch 5: loss=1600.11, gamma=0.00\n",
      "Epoch 10: loss=1536.13, gamma=0.00\n",
      "Epoch 15: loss=1502.67, gamma=0.00\n",
      "Epoch 20: loss=1484.73, gamma=0.00\n",
      "Epoch 25: loss=1465.67, gamma=0.00\n",
      "Epoch 30: loss=1451.77, gamma=0.00\n",
      "Epoch 35: loss=1437.43, gamma=0.00\n",
      "Epoch 40: loss=1434.73, gamma=0.00\n",
      "Epoch 45: loss=1427.95, gamma=0.00\n",
      "Epoch 50: loss=1426.78, gamma=0.00\n",
      "Epoch 55: loss=1424.35, gamma=0.00\n",
      "Epoch 60: loss=1435.16, gamma=0.00\n",
      "Epoch 65: loss=1437.00, gamma=0.00\n",
      "Epoch 70: loss=1435.68, gamma=0.00\n",
      "Epoch 75: loss=1429.33, gamma=0.00\n",
      "Epoch 80: loss=1432.68, gamma=0.00\n",
      "Epoch 85: loss=1442.64, gamma=0.00\n",
      "Epoch 90: loss=1433.44, gamma=0.00\n",
      "Epoch 95: loss=1434.61, gamma=0.00\n",
      "Fraction of possible edges in mask: 0.09504965856888481\n",
      "Epoch 0: loss=2175.39, gamma=0.00\n",
      "Epoch 5: loss=1854.22, gamma=5.21\n",
      "Epoch 10: loss=1859.42, gamma=10.42\n",
      "Epoch 15: loss=1865.47, gamma=15.63\n",
      "Epoch 20: loss=1867.39, gamma=20.84\n",
      "Epoch 25: loss=1855.72, gamma=26.05\n",
      "Epoch 30: loss=1866.80, gamma=31.26\n",
      "Epoch 35: loss=1865.48, gamma=36.47\n",
      "Epoch 40: loss=1854.59, gamma=41.68\n",
      "Epoch 45: loss=1861.08, gamma=46.89\n",
      "Epoch 50: loss=1863.98, gamma=52.10\n",
      "Epoch 55: loss=1864.82, gamma=57.31\n",
      "Epoch 60: loss=1864.63, gamma=62.52\n",
      "Epoch 65: loss=1869.80, gamma=67.73\n",
      "Epoch 70: loss=1874.58, gamma=72.94\n",
      "Epoch 75: loss=1875.69, gamma=78.15\n",
      "Epoch 80: loss=1883.19, gamma=83.36\n",
      "Epoch 85: loss=1866.38, gamma=83.36\n",
      "Epoch 90: loss=1867.73, gamma=83.36\n",
      "Epoch 95: loss=1882.07, gamma=83.36\n",
      "Finished training in 2380.7542366981506 seconds.\n"
     ]
    },
    {
     "data": {
      "text/html": [
       "Waiting for W&B process to finish... <strong style=\"color:green\">(success).</strong>"
      ],
      "text/plain": [
       "<IPython.core.display.HTML object>"
      ]
     },
     "metadata": {},
     "output_type": "display_data"
    },
    {
     "data": {
      "application/vnd.jupyter.widget-view+json": {
       "model_id": "19f0c5f268894ef2895143ce728e0d78",
       "version_major": 2,
       "version_minor": 0
      },
      "text/plain": [
       "VBox(children=(Label(value='0.009 MB of 0.009 MB uploaded (0.000 MB deduped)\\r'), FloatProgress(value=1.0, max…"
      ]
     },
     "metadata": {},
     "output_type": "display_data"
    },
    {
     "data": {
      "text/html": [
       "<style>\n",
       "    table.wandb td:nth-child(1) { padding: 0 10px; text-align: left ; width: auto;} td:nth-child(2) {text-align: left ; width: 100%}\n",
       "    .wandb-row { display: flex; flex-direction: row; flex-wrap: wrap; justify-content: flex-start; width: 100% }\n",
       "    .wandb-col { display: flex; flex-direction: column; flex-basis: 100%; flex: 1; padding: 10px; }\n",
       "    </style>\n",
       "<div class=\"wandb-row\"><div class=\"wandb-col\"><h3>Run history:</h3><br/><table class=\"wandb\"><tr><td>alpha</td><td>████████████████████▁▁▁▁▁▁▁▁▁▁▁▁▁▁▁▁▁▁▁▁</td></tr><tr><td>dag</td><td>▁▁▁▁▁▁▁▁▁▁▁▁▁▁▁▁▁▁▁▁█▃▃▃▃▃▂▂▂▂▂▂▂▂▂▂▂▂▂▂</td></tr><tr><td>epoch</td><td>▁▁▁▂▂▂▂▂▂▃▃▃▃▃▄▄▄▄▄▄▅▅▅▅▅▅▆▆▆▆▆▇▇▇▇▇▇███</td></tr><tr><td>epoch_loss</td><td>█▂▂▁▁▁▁▁▁▁▁▁▁▁▁▁▁▁▁▁▅▄▄▄▄▄▄▄▄▄▄▄▄▄▄▄▄▄▄▄</td></tr><tr><td>gamma</td><td>▁▁▁▁▁▁▁▁▁▁▁▁▁▁▁▁▁▁▁▁▁▁▂▂▃▃▄▄▅▅▅▆▆▇▇█████</td></tr><tr><td>is_prescreen</td><td>████████████████████▁▁▁▁▁▁▁▁▁▁▁▁▁▁▁▁▁▁▁▁</td></tr><tr><td>l1</td><td>▃▅▆▆▇▇▇▇▇▇██████████▁▁▁▁▁▁▁▁▁▁▁▁▁▁▁▁▁▁▁▁</td></tr><tr><td>l2</td><td>▁▁▂▂▂▂▂▂▂▂▂▂▂▂▃▃▃▃▃▃████████▇███▇▇████▇█</td></tr><tr><td>min_dag_threshold</td><td>▁</td></tr><tr><td>n_edges_min_dag</td><td>▁</td></tr><tr><td>nll</td><td>█▂▂▂▂▁▁▁▁▁▁▁▁▁▁▁▁▁▁▁▅▃▃▃▃▃▃▃▃▃▃▃▃▃▃▃▃▃▃▃</td></tr><tr><td>val_rec_loss</td><td>▁</td></tr></table><br/></div><div class=\"wandb-col\"><h3>Run summary:</h3><br/><table class=\"wandb\"><tr><td>alpha</td><td>0.00021</td></tr><tr><td>dag</td><td>0.24412</td></tr><tr><td>epoch</td><td>195</td></tr><tr><td>epoch_loss</td><td>1882.07366</td></tr><tr><td>gamma</td><td>83.36087</td></tr><tr><td>is_prescreen</td><td>0</td></tr><tr><td>l1</td><td>8.98689</td></tr><tr><td>l2</td><td>174.02378</td></tr><tr><td>min_dag_threshold</td><td>0.52845</td></tr><tr><td>n_edges_min_dag</td><td>371</td></tr><tr><td>nll</td><td>1678.71283</td></tr><tr><td>val_rec_loss</td><td>1708.14099</td></tr></table><br/></div></div>"
      ],
      "text/plain": [
       "<IPython.core.display.HTML object>"
      ]
     },
     "metadata": {},
     "output_type": "display_data"
    },
    {
     "data": {
      "text/html": [
       " View run <strong style=\"color:#cdcd00\">SDCI</strong> at: <a href='https://wandb.ai/azizi-causal-perturb/SDCI_perturb_cite_seq/runs/sh4gxyj6' target=\"_blank\">https://wandb.ai/azizi-causal-perturb/SDCI_perturb_cite_seq/runs/sh4gxyj6</a><br/> View job at <a href='https://wandb.ai/azizi-causal-perturb/SDCI_perturb_cite_seq/jobs/QXJ0aWZhY3RDb2xsZWN0aW9uOjkyMTIyNTA4/version_details/v5' target=\"_blank\">https://wandb.ai/azizi-causal-perturb/SDCI_perturb_cite_seq/jobs/QXJ0aWZhY3RDb2xsZWN0aW9uOjkyMTIyNTA4/version_details/v5</a><br/>Synced 6 W&B file(s), 0 media file(s), 0 artifact file(s) and 0 other file(s)"
      ],
      "text/plain": [
       "<IPython.core.display.HTML object>"
      ]
     },
     "metadata": {},
     "output_type": "display_data"
    },
    {
     "data": {
      "text/html": [
       "Find logs at: <code>./wandb/run-20230823_084542-sh4gxyj6/logs</code>"
      ],
      "text/plain": [
       "<IPython.core.display.HTML object>"
      ]
     },
     "metadata": {},
     "output_type": "display_data"
    },
    {
     "name": "stderr",
     "output_type": "stream",
     "text": [
      "\u001b[34m\u001b[1mwandb\u001b[0m: Agent Starting Run: ieyqyoj9 with config:\n",
      "\u001b[34m\u001b[1mwandb\u001b[0m: \tmax_gamma: 126.95383967625128\n",
      "\u001b[34m\u001b[1mwandb\u001b[0m: \tmv_flavor: nn\n",
      "\u001b[34m\u001b[1mwandb\u001b[0m: \ts1_alpha: 5.835678069858703e-05\n",
      "\u001b[34m\u001b[1mwandb\u001b[0m: \ts1_beta: 0.0001032920428387671\n",
      "\u001b[34m\u001b[1mwandb\u001b[0m: \ts2_alpha: 2.202722223954116e-05\n",
      "\u001b[34m\u001b[1mwandb\u001b[0m: \ts2_beta: 0.0046034151334148335\n"
     ]
    },
    {
     "data": {
      "text/html": [
       "Tracking run with wandb version 0.15.8"
      ],
      "text/plain": [
       "<IPython.core.display.HTML object>"
      ]
     },
     "metadata": {},
     "output_type": "display_data"
    },
    {
     "data": {
      "text/html": [
       "Run data is saved locally in <code>/home/justinhong/causal-perturbseq/notebooks/wandb/run-20230823_092536-ieyqyoj9</code>"
      ],
      "text/plain": [
       "<IPython.core.display.HTML object>"
      ]
     },
     "metadata": {},
     "output_type": "display_data"
    },
    {
     "data": {
      "text/html": [
       "Syncing run <strong><a href='https://wandb.ai/azizi-causal-perturb/SDCI_perturb_cite_seq/runs/ieyqyoj9' target=\"_blank\">lyric-sweep-14</a></strong> to <a href='https://wandb.ai/azizi-causal-perturb/SDCI_perturb_cite_seq' target=\"_blank\">Weights & Biases</a> (<a href='https://wandb.me/run' target=\"_blank\">docs</a>)<br/>Sweep page: <a href='https://wandb.ai/azizi-causal-perturb/SDCI_perturb_cite_seq/sweeps/c55u19ta' target=\"_blank\">https://wandb.ai/azizi-causal-perturb/SDCI_perturb_cite_seq/sweeps/c55u19ta</a>"
      ],
      "text/plain": [
       "<IPython.core.display.HTML object>"
      ]
     },
     "metadata": {},
     "output_type": "display_data"
    },
    {
     "data": {
      "text/html": [
       " View project at <a href='https://wandb.ai/azizi-causal-perturb/SDCI_perturb_cite_seq' target=\"_blank\">https://wandb.ai/azizi-causal-perturb/SDCI_perturb_cite_seq</a>"
      ],
      "text/plain": [
       "<IPython.core.display.HTML object>"
      ]
     },
     "metadata": {},
     "output_type": "display_data"
    },
    {
     "data": {
      "text/html": [
       " View sweep at <a href='https://wandb.ai/azizi-causal-perturb/SDCI_perturb_cite_seq/sweeps/c55u19ta' target=\"_blank\">https://wandb.ai/azizi-causal-perturb/SDCI_perturb_cite_seq/sweeps/c55u19ta</a>"
      ],
      "text/plain": [
       "<IPython.core.display.HTML object>"
      ]
     },
     "metadata": {},
     "output_type": "display_data"
    },
    {
     "data": {
      "text/html": [
       " View run at <a href='https://wandb.ai/azizi-causal-perturb/SDCI_perturb_cite_seq/runs/ieyqyoj9' target=\"_blank\">https://wandb.ai/azizi-causal-perturb/SDCI_perturb_cite_seq/runs/ieyqyoj9</a>"
      ],
      "text/plain": [
       "<IPython.core.display.HTML object>"
      ]
     },
     "metadata": {},
     "output_type": "display_data"
    },
    {
     "name": "stdout",
     "output_type": "stream",
     "text": [
      "Using cpu\n"
     ]
    },
    {
     "data": {
      "text/html": [
       "Waiting for W&B process to finish... <strong style=\"color:green\">(success).</strong>"
      ],
      "text/plain": [
       "<IPython.core.display.HTML object>"
      ]
     },
     "metadata": {},
     "output_type": "display_data"
    },
    {
     "data": {
      "text/html": [
       " View run <strong style=\"color:#cdcd00\">lyric-sweep-14</strong> at: <a href='https://wandb.ai/azizi-causal-perturb/SDCI_perturb_cite_seq/runs/ieyqyoj9' target=\"_blank\">https://wandb.ai/azizi-causal-perturb/SDCI_perturb_cite_seq/runs/ieyqyoj9</a><br/> View job at <a href='https://wandb.ai/azizi-causal-perturb/SDCI_perturb_cite_seq/jobs/QXJ0aWZhY3RDb2xsZWN0aW9uOjkyMTIyNTA4/version_details/v6' target=\"_blank\">https://wandb.ai/azizi-causal-perturb/SDCI_perturb_cite_seq/jobs/QXJ0aWZhY3RDb2xsZWN0aW9uOjkyMTIyNTA4/version_details/v6</a><br/>Synced 6 W&B file(s), 0 media file(s), 0 artifact file(s) and 0 other file(s)"
      ],
      "text/plain": [
       "<IPython.core.display.HTML object>"
      ]
     },
     "metadata": {},
     "output_type": "display_data"
    },
    {
     "data": {
      "text/html": [
       "Find logs at: <code>./wandb/run-20230823_092536-ieyqyoj9/logs</code>"
      ],
      "text/plain": [
       "<IPython.core.display.HTML object>"
      ]
     },
     "metadata": {},
     "output_type": "display_data"
    },
    {
     "name": "stderr",
     "output_type": "stream",
     "text": [
      "\u001b[34m\u001b[1mwandb\u001b[0m: \u001b[33mWARNING\u001b[0m Ignored wandb.init() arg project when running a sweep.\n"
     ]
    },
    {
     "data": {
      "application/vnd.jupyter.widget-view+json": {
       "model_id": "9c2dde4846e840558c7cd9ada326c469",
       "version_major": 2,
       "version_minor": 0
      },
      "text/plain": [
       "VBox(children=(Label(value='Waiting for wandb.init()...\\r'), FloatProgress(value=0.0166682409166242, max=1.0))…"
      ]
     },
     "metadata": {},
     "output_type": "display_data"
    },
    {
     "data": {
      "text/html": [
       "Tracking run with wandb version 0.15.8"
      ],
      "text/plain": [
       "<IPython.core.display.HTML object>"
      ]
     },
     "metadata": {},
     "output_type": "display_data"
    },
    {
     "data": {
      "text/html": [
       "Run data is saved locally in <code>/home/justinhong/causal-perturbseq/notebooks/wandb/run-20230823_092543-ieyqyoj9</code>"
      ],
      "text/plain": [
       "<IPython.core.display.HTML object>"
      ]
     },
     "metadata": {},
     "output_type": "display_data"
    },
    {
     "data": {
      "text/html": [
       "Syncing run <strong><a href='https://wandb.ai/azizi-causal-perturb/SDCI_perturb_cite_seq/runs/ieyqyoj9' target=\"_blank\">SDCI</a></strong> to <a href='https://wandb.ai/azizi-causal-perturb/SDCI_perturb_cite_seq' target=\"_blank\">Weights & Biases</a> (<a href='https://wandb.me/run' target=\"_blank\">docs</a>)<br/>Sweep page: <a href='https://wandb.ai/azizi-causal-perturb/SDCI_perturb_cite_seq/sweeps/c55u19ta' target=\"_blank\">https://wandb.ai/azizi-causal-perturb/SDCI_perturb_cite_seq/sweeps/c55u19ta</a>"
      ],
      "text/plain": [
       "<IPython.core.display.HTML object>"
      ]
     },
     "metadata": {},
     "output_type": "display_data"
    },
    {
     "data": {
      "text/html": [
       " View project at <a href='https://wandb.ai/azizi-causal-perturb/SDCI_perturb_cite_seq' target=\"_blank\">https://wandb.ai/azizi-causal-perturb/SDCI_perturb_cite_seq</a>"
      ],
      "text/plain": [
       "<IPython.core.display.HTML object>"
      ]
     },
     "metadata": {},
     "output_type": "display_data"
    },
    {
     "data": {
      "text/html": [
       " View sweep at <a href='https://wandb.ai/azizi-causal-perturb/SDCI_perturb_cite_seq/sweeps/c55u19ta' target=\"_blank\">https://wandb.ai/azizi-causal-perturb/SDCI_perturb_cite_seq/sweeps/c55u19ta</a>"
      ],
      "text/plain": [
       "<IPython.core.display.HTML object>"
      ]
     },
     "metadata": {},
     "output_type": "display_data"
    },
    {
     "data": {
      "text/html": [
       " View run at <a href='https://wandb.ai/azizi-causal-perturb/SDCI_perturb_cite_seq/runs/ieyqyoj9' target=\"_blank\">https://wandb.ai/azizi-causal-perturb/SDCI_perturb_cite_seq/runs/ieyqyoj9</a>"
      ],
      "text/plain": [
       "<IPython.core.display.HTML object>"
      ]
     },
     "metadata": {},
     "output_type": "display_data"
    },
    {
     "name": "stdout",
     "output_type": "stream",
     "text": [
      "Epoch 0: loss=2580.85, gamma=0.00\n",
      "Epoch 5: loss=1554.35, gamma=0.00\n",
      "Epoch 10: loss=1414.77, gamma=0.00\n",
      "Epoch 15: loss=1333.41, gamma=0.00\n",
      "Epoch 20: loss=1277.69, gamma=0.00\n",
      "Epoch 25: loss=1235.76, gamma=0.00\n",
      "Epoch 30: loss=1209.81, gamma=0.00\n",
      "Epoch 35: loss=1178.35, gamma=0.00\n",
      "Epoch 40: loss=1157.46, gamma=0.00\n",
      "Epoch 45: loss=1139.81, gamma=0.00\n",
      "Epoch 50: loss=1128.66, gamma=0.00\n",
      "Epoch 55: loss=1126.91, gamma=0.00\n",
      "Epoch 60: loss=1114.51, gamma=0.00\n",
      "Epoch 65: loss=1110.07, gamma=0.00\n",
      "Epoch 70: loss=1093.72, gamma=0.00\n",
      "Epoch 75: loss=1095.33, gamma=0.00\n",
      "Epoch 80: loss=1089.21, gamma=0.00\n",
      "Epoch 85: loss=1087.74, gamma=0.00\n",
      "Epoch 90: loss=1087.12, gamma=0.00\n",
      "Epoch 95: loss=1081.49, gamma=0.00\n",
      "Fraction of possible edges in mask: 0.606907510756109\n",
      "Epoch 0: loss=2306.69, gamma=0.00\n",
      "Epoch 5: loss=1853.86, gamma=6.41\n",
      "Epoch 10: loss=1890.29, gamma=12.82\n",
      "Epoch 15: loss=1910.94, gamma=19.24\n",
      "Epoch 20: loss=1936.87, gamma=25.65\n",
      "Epoch 25: loss=1973.50, gamma=32.06\n",
      "Epoch 30: loss=1966.67, gamma=38.47\n",
      "Epoch 35: loss=1968.20, gamma=44.88\n",
      "Epoch 40: loss=2008.68, gamma=51.29\n",
      "Epoch 45: loss=1990.99, gamma=57.71\n",
      "Epoch 50: loss=2000.25, gamma=64.12\n",
      "Epoch 55: loss=2001.23, gamma=70.53\n",
      "Epoch 60: loss=1995.68, gamma=76.94\n",
      "Epoch 65: loss=2062.37, gamma=83.35\n",
      "Epoch 70: loss=1985.62, gamma=83.35\n",
      "Epoch 75: loss=1985.40, gamma=83.35\n",
      "Epoch 80: loss=1975.77, gamma=83.35\n",
      "Epoch 85: loss=1987.96, gamma=83.35\n",
      "Epoch 90: loss=1980.95, gamma=83.35\n",
      "Epoch 95: loss=1980.52, gamma=83.35\n",
      "Finished training in 2726.785931825638 seconds.\n"
     ]
    },
    {
     "data": {
      "text/html": [
       "Waiting for W&B process to finish... <strong style=\"color:green\">(success).</strong>"
      ],
      "text/plain": [
       "<IPython.core.display.HTML object>"
      ]
     },
     "metadata": {},
     "output_type": "display_data"
    },
    {
     "data": {
      "application/vnd.jupyter.widget-view+json": {
       "model_id": "ce3627582dc848d6a01a806a449cc007",
       "version_major": 2,
       "version_minor": 0
      },
      "text/plain": [
       "VBox(children=(Label(value='0.009 MB of 0.017 MB uploaded (0.000 MB deduped)\\r'), FloatProgress(value=0.551835…"
      ]
     },
     "metadata": {},
     "output_type": "display_data"
    },
    {
     "data": {
      "text/html": [
       "<style>\n",
       "    table.wandb td:nth-child(1) { padding: 0 10px; text-align: left ; width: auto;} td:nth-child(2) {text-align: left ; width: 100%}\n",
       "    .wandb-row { display: flex; flex-direction: row; flex-wrap: wrap; justify-content: flex-start; width: 100% }\n",
       "    .wandb-col { display: flex; flex-direction: column; flex-basis: 100%; flex: 1; padding: 10px; }\n",
       "    </style>\n",
       "<div class=\"wandb-row\"><div class=\"wandb-col\"><h3>Run history:</h3><br/><table class=\"wandb\"><tr><td>alpha</td><td>████████████████████▁▁▁▁▁▁▁▁▁▁▁▁▁▁▁▁▁▁▁▁</td></tr><tr><td>dag</td><td>▁▁▁▁▁▁▁▁▁▁▁▁▁▁▁▁▁▁▁▁█▂▂▂▂▂▂▂▂▂▁▁▁▁▁▁▁▁▁▁</td></tr><tr><td>epoch</td><td>▁▁▁▂▂▂▂▂▂▃▃▃▃▃▄▄▄▄▄▄▅▅▅▅▅▅▆▆▆▆▆▇▇▇▇▇▇███</td></tr><tr><td>epoch_loss</td><td>█▃▃▂▂▂▂▁▁▁▁▁▁▁▁▁▁▁▁▁▇▅▅▅▅▅▅▅▅▅▅▅▅▆▅▅▅▅▅▅</td></tr><tr><td>gamma</td><td>▁▁▁▁▁▁▁▁▁▁▁▁▁▁▁▁▁▁▁▁▁▂▂▃▃▄▄▅▅▆▆▇▇███████</td></tr><tr><td>is_prescreen</td><td>████████████████████▁▁▁▁▁▁▁▁▁▁▁▁▁▁▁▁▁▁▁▁</td></tr><tr><td>l1</td><td>▂▃▄▅▅▆▆▆▆▇▇▇▇▇██████▂▁▁▁▁▁▁▁▁▁▁▁▁▁▁▁▁▁▁▁</td></tr><tr><td>l2</td><td>▁▁▁▁▁▁▂▂▂▂▂▂▂▂▂▂▂▂▂▂█▄▄▄▄▄▄▄▄▃▃▃▃▃▃▃▃▃▃▃</td></tr><tr><td>min_dag_threshold</td><td>▁</td></tr><tr><td>n_edges_min_dag</td><td>▁</td></tr><tr><td>nll</td><td>█▃▃▂▂▂▂▂▁▁▁▁▁▁▁▁▁▁▁▁▆▄▄▄▄▄▄▄▄▄▄▄▄▅▄▄▄▄▄▄</td></tr><tr><td>val_rec_loss</td><td>▁</td></tr></table><br/></div><div class=\"wandb-col\"><h3>Run summary:</h3><br/><table class=\"wandb\"><tr><td>alpha</td><td>2e-05</td></tr><tr><td>dag</td><td>2.04418</td></tr><tr><td>epoch</td><td>195</td></tr><tr><td>epoch_loss</td><td>1980.51526</td></tr><tr><td>gamma</td><td>83.35353</td></tr><tr><td>is_prescreen</td><td>0</td></tr><tr><td>l1</td><td>3.57488</td></tr><tr><td>l2</td><td>78.0489</td></tr><tr><td>min_dag_threshold</td><td>0.51083</td></tr><tr><td>n_edges_min_dag</td><td>2790</td></tr><tr><td>nll</td><td>1728.50156</td></tr><tr><td>val_rec_loss</td><td>1765.99255</td></tr></table><br/></div></div>"
      ],
      "text/plain": [
       "<IPython.core.display.HTML object>"
      ]
     },
     "metadata": {},
     "output_type": "display_data"
    },
    {
     "data": {
      "text/html": [
       " View run <strong style=\"color:#cdcd00\">SDCI</strong> at: <a href='https://wandb.ai/azizi-causal-perturb/SDCI_perturb_cite_seq/runs/ieyqyoj9' target=\"_blank\">https://wandb.ai/azizi-causal-perturb/SDCI_perturb_cite_seq/runs/ieyqyoj9</a><br/> View job at <a href='https://wandb.ai/azizi-causal-perturb/SDCI_perturb_cite_seq/jobs/QXJ0aWZhY3RDb2xsZWN0aW9uOjkyMTIyNTA4/version_details/v5' target=\"_blank\">https://wandb.ai/azizi-causal-perturb/SDCI_perturb_cite_seq/jobs/QXJ0aWZhY3RDb2xsZWN0aW9uOjkyMTIyNTA4/version_details/v5</a><br/>Synced 6 W&B file(s), 0 media file(s), 0 artifact file(s) and 0 other file(s)"
      ],
      "text/plain": [
       "<IPython.core.display.HTML object>"
      ]
     },
     "metadata": {},
     "output_type": "display_data"
    },
    {
     "data": {
      "text/html": [
       "Find logs at: <code>./wandb/run-20230823_092543-ieyqyoj9/logs</code>"
      ],
      "text/plain": [
       "<IPython.core.display.HTML object>"
      ]
     },
     "metadata": {},
     "output_type": "display_data"
    },
    {
     "name": "stderr",
     "output_type": "stream",
     "text": [
      "\u001b[34m\u001b[1mwandb\u001b[0m: Agent Starting Run: kgmbzgq1 with config:\n",
      "\u001b[34m\u001b[1mwandb\u001b[0m: \tmax_gamma: 101.87861367094712\n",
      "\u001b[34m\u001b[1mwandb\u001b[0m: \tmv_flavor: nn\n",
      "\u001b[34m\u001b[1mwandb\u001b[0m: \ts1_alpha: 0.0010301548064181407\n",
      "\u001b[34m\u001b[1mwandb\u001b[0m: \ts1_beta: 7.35481246512472e-05\n",
      "\u001b[34m\u001b[1mwandb\u001b[0m: \ts2_alpha: 0.004998822131971627\n",
      "\u001b[34m\u001b[1mwandb\u001b[0m: \ts2_beta: 0.009976953901426344\n"
     ]
    },
    {
     "data": {
      "text/html": [
       "Tracking run with wandb version 0.15.8"
      ],
      "text/plain": [
       "<IPython.core.display.HTML object>"
      ]
     },
     "metadata": {},
     "output_type": "display_data"
    },
    {
     "data": {
      "text/html": [
       "Run data is saved locally in <code>/home/justinhong/causal-perturbseq/notebooks/wandb/run-20230823_101123-kgmbzgq1</code>"
      ],
      "text/plain": [
       "<IPython.core.display.HTML object>"
      ]
     },
     "metadata": {},
     "output_type": "display_data"
    },
    {
     "data": {
      "text/html": [
       "Syncing run <strong><a href='https://wandb.ai/azizi-causal-perturb/SDCI_perturb_cite_seq/runs/kgmbzgq1' target=\"_blank\">splendid-sweep-15</a></strong> to <a href='https://wandb.ai/azizi-causal-perturb/SDCI_perturb_cite_seq' target=\"_blank\">Weights & Biases</a> (<a href='https://wandb.me/run' target=\"_blank\">docs</a>)<br/>Sweep page: <a href='https://wandb.ai/azizi-causal-perturb/SDCI_perturb_cite_seq/sweeps/c55u19ta' target=\"_blank\">https://wandb.ai/azizi-causal-perturb/SDCI_perturb_cite_seq/sweeps/c55u19ta</a>"
      ],
      "text/plain": [
       "<IPython.core.display.HTML object>"
      ]
     },
     "metadata": {},
     "output_type": "display_data"
    },
    {
     "data": {
      "text/html": [
       " View project at <a href='https://wandb.ai/azizi-causal-perturb/SDCI_perturb_cite_seq' target=\"_blank\">https://wandb.ai/azizi-causal-perturb/SDCI_perturb_cite_seq</a>"
      ],
      "text/plain": [
       "<IPython.core.display.HTML object>"
      ]
     },
     "metadata": {},
     "output_type": "display_data"
    },
    {
     "data": {
      "text/html": [
       " View sweep at <a href='https://wandb.ai/azizi-causal-perturb/SDCI_perturb_cite_seq/sweeps/c55u19ta' target=\"_blank\">https://wandb.ai/azizi-causal-perturb/SDCI_perturb_cite_seq/sweeps/c55u19ta</a>"
      ],
      "text/plain": [
       "<IPython.core.display.HTML object>"
      ]
     },
     "metadata": {},
     "output_type": "display_data"
    },
    {
     "data": {
      "text/html": [
       " View run at <a href='https://wandb.ai/azizi-causal-perturb/SDCI_perturb_cite_seq/runs/kgmbzgq1' target=\"_blank\">https://wandb.ai/azizi-causal-perturb/SDCI_perturb_cite_seq/runs/kgmbzgq1</a>"
      ],
      "text/plain": [
       "<IPython.core.display.HTML object>"
      ]
     },
     "metadata": {},
     "output_type": "display_data"
    },
    {
     "name": "stdout",
     "output_type": "stream",
     "text": [
      "Using cpu\n"
     ]
    },
    {
     "data": {
      "text/html": [
       "Waiting for W&B process to finish... <strong style=\"color:green\">(success).</strong>"
      ],
      "text/plain": [
       "<IPython.core.display.HTML object>"
      ]
     },
     "metadata": {},
     "output_type": "display_data"
    },
    {
     "data": {
      "text/html": [
       " View run <strong style=\"color:#cdcd00\">splendid-sweep-15</strong> at: <a href='https://wandb.ai/azizi-causal-perturb/SDCI_perturb_cite_seq/runs/kgmbzgq1' target=\"_blank\">https://wandb.ai/azizi-causal-perturb/SDCI_perturb_cite_seq/runs/kgmbzgq1</a><br/> View job at <a href='https://wandb.ai/azizi-causal-perturb/SDCI_perturb_cite_seq/jobs/QXJ0aWZhY3RDb2xsZWN0aW9uOjkyMTIyNTA4/version_details/v6' target=\"_blank\">https://wandb.ai/azizi-causal-perturb/SDCI_perturb_cite_seq/jobs/QXJ0aWZhY3RDb2xsZWN0aW9uOjkyMTIyNTA4/version_details/v6</a><br/>Synced 6 W&B file(s), 0 media file(s), 0 artifact file(s) and 0 other file(s)"
      ],
      "text/plain": [
       "<IPython.core.display.HTML object>"
      ]
     },
     "metadata": {},
     "output_type": "display_data"
    },
    {
     "data": {
      "text/html": [
       "Find logs at: <code>./wandb/run-20230823_101123-kgmbzgq1/logs</code>"
      ],
      "text/plain": [
       "<IPython.core.display.HTML object>"
      ]
     },
     "metadata": {},
     "output_type": "display_data"
    },
    {
     "name": "stderr",
     "output_type": "stream",
     "text": [
      "\u001b[34m\u001b[1mwandb\u001b[0m: \u001b[33mWARNING\u001b[0m Ignored wandb.init() arg project when running a sweep.\n"
     ]
    },
    {
     "data": {
      "application/vnd.jupyter.widget-view+json": {
       "model_id": "77eab716f5bd47158613b47f201a1825",
       "version_major": 2,
       "version_minor": 0
      },
      "text/plain": [
       "VBox(children=(Label(value='Waiting for wandb.init()...\\r'), FloatProgress(value=0.016668406933361742, max=1.0…"
      ]
     },
     "metadata": {},
     "output_type": "display_data"
    },
    {
     "data": {
      "text/html": [
       "Tracking run with wandb version 0.15.8"
      ],
      "text/plain": [
       "<IPython.core.display.HTML object>"
      ]
     },
     "metadata": {},
     "output_type": "display_data"
    },
    {
     "data": {
      "text/html": [
       "Run data is saved locally in <code>/home/justinhong/causal-perturbseq/notebooks/wandb/run-20230823_101129-kgmbzgq1</code>"
      ],
      "text/plain": [
       "<IPython.core.display.HTML object>"
      ]
     },
     "metadata": {},
     "output_type": "display_data"
    },
    {
     "data": {
      "text/html": [
       "Syncing run <strong><a href='https://wandb.ai/azizi-causal-perturb/SDCI_perturb_cite_seq/runs/kgmbzgq1' target=\"_blank\">SDCI</a></strong> to <a href='https://wandb.ai/azizi-causal-perturb/SDCI_perturb_cite_seq' target=\"_blank\">Weights & Biases</a> (<a href='https://wandb.me/run' target=\"_blank\">docs</a>)<br/>Sweep page: <a href='https://wandb.ai/azizi-causal-perturb/SDCI_perturb_cite_seq/sweeps/c55u19ta' target=\"_blank\">https://wandb.ai/azizi-causal-perturb/SDCI_perturb_cite_seq/sweeps/c55u19ta</a>"
      ],
      "text/plain": [
       "<IPython.core.display.HTML object>"
      ]
     },
     "metadata": {},
     "output_type": "display_data"
    },
    {
     "data": {
      "text/html": [
       " View project at <a href='https://wandb.ai/azizi-causal-perturb/SDCI_perturb_cite_seq' target=\"_blank\">https://wandb.ai/azizi-causal-perturb/SDCI_perturb_cite_seq</a>"
      ],
      "text/plain": [
       "<IPython.core.display.HTML object>"
      ]
     },
     "metadata": {},
     "output_type": "display_data"
    },
    {
     "data": {
      "text/html": [
       " View sweep at <a href='https://wandb.ai/azizi-causal-perturb/SDCI_perturb_cite_seq/sweeps/c55u19ta' target=\"_blank\">https://wandb.ai/azizi-causal-perturb/SDCI_perturb_cite_seq/sweeps/c55u19ta</a>"
      ],
      "text/plain": [
       "<IPython.core.display.HTML object>"
      ]
     },
     "metadata": {},
     "output_type": "display_data"
    },
    {
     "data": {
      "text/html": [
       " View run at <a href='https://wandb.ai/azizi-causal-perturb/SDCI_perturb_cite_seq/runs/kgmbzgq1' target=\"_blank\">https://wandb.ai/azizi-causal-perturb/SDCI_perturb_cite_seq/runs/kgmbzgq1</a>"
      ],
      "text/plain": [
       "<IPython.core.display.HTML object>"
      ]
     },
     "metadata": {},
     "output_type": "display_data"
    },
    {
     "name": "stdout",
     "output_type": "stream",
     "text": [
      "Epoch 0: loss=2601.66, gamma=0.00\n",
      "Epoch 5: loss=1655.70, gamma=0.00\n",
      "Epoch 10: loss=1610.69, gamma=0.00\n",
      "Epoch 15: loss=1590.68, gamma=0.00\n",
      "Epoch 20: loss=1574.90, gamma=0.00\n",
      "Epoch 25: loss=1564.65, gamma=0.00\n",
      "Epoch 30: loss=1566.53, gamma=0.00\n",
      "Epoch 35: loss=1567.80, gamma=0.00\n",
      "Epoch 40: loss=1567.65, gamma=0.00\n",
      "Epoch 45: loss=1609.04, gamma=0.00\n",
      "Epoch 50: loss=1562.84, gamma=0.00\n",
      "Epoch 55: loss=1566.16, gamma=0.00\n",
      "Epoch 60: loss=1573.08, gamma=0.00\n",
      "Epoch 65: loss=1575.85, gamma=0.00\n",
      "Epoch 70: loss=1577.76, gamma=0.00\n",
      "Epoch 75: loss=1576.85, gamma=0.00\n",
      "Epoch 80: loss=1575.05, gamma=0.00\n",
      "Epoch 85: loss=1576.22, gamma=0.00\n",
      "Epoch 90: loss=1584.49, gamma=0.00\n",
      "Epoch 95: loss=1579.78, gamma=0.00\n",
      "Fraction of possible edges in mask: 0.0426299938557332\n",
      "Epoch 0: loss=2143.92, gamma=0.00\n",
      "Epoch 5: loss=1865.08, gamma=5.15\n",
      "Epoch 10: loss=1873.24, gamma=10.29\n",
      "Epoch 15: loss=1859.44, gamma=15.44\n",
      "Epoch 20: loss=1858.41, gamma=20.58\n",
      "Epoch 25: loss=1847.63, gamma=25.73\n",
      "Epoch 30: loss=1853.77, gamma=30.87\n",
      "Epoch 35: loss=1849.17, gamma=36.02\n",
      "Epoch 40: loss=1852.05, gamma=41.16\n",
      "Epoch 45: loss=1856.60, gamma=46.31\n",
      "Epoch 50: loss=1863.15, gamma=51.45\n",
      "Epoch 55: loss=1855.30, gamma=56.60\n",
      "Epoch 60: loss=1850.49, gamma=61.74\n",
      "Epoch 65: loss=1857.24, gamma=66.89\n",
      "Epoch 70: loss=1852.28, gamma=72.04\n",
      "Epoch 75: loss=1862.16, gamma=77.18\n",
      "Epoch 80: loss=1866.48, gamma=82.33\n",
      "Epoch 85: loss=1856.47, gamma=87.47\n",
      "Epoch 90: loss=1879.10, gamma=92.62\n",
      "Epoch 95: loss=1857.38, gamma=97.76\n",
      "Finished training in 2353.3758642673492 seconds.\n"
     ]
    },
    {
     "data": {
      "text/html": [
       "Waiting for W&B process to finish... <strong style=\"color:green\">(success).</strong>"
      ],
      "text/plain": [
       "<IPython.core.display.HTML object>"
      ]
     },
     "metadata": {},
     "output_type": "display_data"
    },
    {
     "data": {
      "application/vnd.jupyter.widget-view+json": {
       "model_id": "832ba04ff3e14cb9b0e98d97e4bc35ee",
       "version_major": 2,
       "version_minor": 0
      },
      "text/plain": [
       "VBox(children=(Label(value='0.009 MB of 0.009 MB uploaded (0.000 MB deduped)\\r'), FloatProgress(value=1.0, max…"
      ]
     },
     "metadata": {},
     "output_type": "display_data"
    },
    {
     "data": {
      "text/html": [
       "<style>\n",
       "    table.wandb td:nth-child(1) { padding: 0 10px; text-align: left ; width: auto;} td:nth-child(2) {text-align: left ; width: 100%}\n",
       "    .wandb-row { display: flex; flex-direction: row; flex-wrap: wrap; justify-content: flex-start; width: 100% }\n",
       "    .wandb-col { display: flex; flex-direction: column; flex-basis: 100%; flex: 1; padding: 10px; }\n",
       "    </style>\n",
       "<div class=\"wandb-row\"><div class=\"wandb-col\"><h3>Run history:</h3><br/><table class=\"wandb\"><tr><td>alpha</td><td>▁▁▁▁▁▁▁▁▁▁▁▁▁▁▁▁▁▁▁▁████████████████████</td></tr><tr><td>dag</td><td>▁▁▁▁▁▁▁▁▁▁▁▁▁▁▁▁▁▁▁▁█▃▃▂▂▂▂▂▂▂▂▂▂▂▂▂▁▁▁▁</td></tr><tr><td>epoch</td><td>▁▁▁▂▂▂▂▂▂▃▃▃▃▃▄▄▄▄▄▄▅▅▅▅▅▅▆▆▆▆▆▇▇▇▇▇▇███</td></tr><tr><td>epoch_loss</td><td>█▂▁▁▁▁▁▁▁▁▁▁▁▁▁▁▁▁▁▁▅▃▃▃▃▃▃▃▃▃▃▃▃▃▃▃▃▃▃▃</td></tr><tr><td>gamma</td><td>▁▁▁▁▁▁▁▁▁▁▁▁▁▁▁▁▁▁▁▁▁▁▂▂▂▃▃▄▄▄▅▅▅▆▆▇▇▇██</td></tr><tr><td>is_prescreen</td><td>████████████████████▁▁▁▁▁▁▁▁▁▁▁▁▁▁▁▁▁▁▁▁</td></tr><tr><td>l1</td><td>▁▄▅▆▆▆▇▇▇▇▇█████████▄▄▄▃▃▃▃▃▃▃▃▃▃▃▃▃▃▃▃▃</td></tr><tr><td>l2</td><td>▁▁▁▁▁▁▁▁▁▁▁▁▁▁▁▁▁▁▁▁▅▇▇▇█▇██████████████</td></tr><tr><td>min_dag_threshold</td><td>▁</td></tr><tr><td>n_edges_min_dag</td><td>▁</td></tr><tr><td>nll</td><td>█▂▂▁▁▁▁▁▁▁▁▁▁▁▁▁▁▁▁▁▅▃▃▃▃▃▃▃▃▃▃▃▃▃▃▃▃▃▃▃</td></tr><tr><td>val_rec_loss</td><td>▁</td></tr></table><br/></div><div class=\"wandb-col\"><h3>Run summary:</h3><br/><table class=\"wandb\"><tr><td>alpha</td><td>0.005</td></tr><tr><td>dag</td><td>0.14803</td></tr><tr><td>epoch</td><td>195</td></tr><tr><td>epoch_loss</td><td>1857.37604</td></tr><tr><td>gamma</td><td>97.76231</td></tr><tr><td>is_prescreen</td><td>0</td></tr><tr><td>l1</td><td>111.41081</td></tr><tr><td>l2</td><td>93.07453</td></tr><tr><td>min_dag_threshold</td><td>0.53306</td></tr><tr><td>n_edges_min_dag</td><td>1484</td></tr><tr><td>nll</td><td>1638.41889</td></tr><tr><td>val_rec_loss</td><td>1712.95654</td></tr></table><br/></div></div>"
      ],
      "text/plain": [
       "<IPython.core.display.HTML object>"
      ]
     },
     "metadata": {},
     "output_type": "display_data"
    },
    {
     "data": {
      "text/html": [
       " View run <strong style=\"color:#cdcd00\">SDCI</strong> at: <a href='https://wandb.ai/azizi-causal-perturb/SDCI_perturb_cite_seq/runs/kgmbzgq1' target=\"_blank\">https://wandb.ai/azizi-causal-perturb/SDCI_perturb_cite_seq/runs/kgmbzgq1</a><br/> View job at <a href='https://wandb.ai/azizi-causal-perturb/SDCI_perturb_cite_seq/jobs/QXJ0aWZhY3RDb2xsZWN0aW9uOjkyMTIyNTA4/version_details/v5' target=\"_blank\">https://wandb.ai/azizi-causal-perturb/SDCI_perturb_cite_seq/jobs/QXJ0aWZhY3RDb2xsZWN0aW9uOjkyMTIyNTA4/version_details/v5</a><br/>Synced 6 W&B file(s), 0 media file(s), 0 artifact file(s) and 0 other file(s)"
      ],
      "text/plain": [
       "<IPython.core.display.HTML object>"
      ]
     },
     "metadata": {},
     "output_type": "display_data"
    },
    {
     "data": {
      "text/html": [
       "Find logs at: <code>./wandb/run-20230823_101129-kgmbzgq1/logs</code>"
      ],
      "text/plain": [
       "<IPython.core.display.HTML object>"
      ]
     },
     "metadata": {},
     "output_type": "display_data"
    },
    {
     "name": "stderr",
     "output_type": "stream",
     "text": [
      "\u001b[34m\u001b[1mwandb\u001b[0m: Agent Starting Run: zq4co3aw with config:\n",
      "\u001b[34m\u001b[1mwandb\u001b[0m: \tmax_gamma: 120.48080208449136\n",
      "\u001b[34m\u001b[1mwandb\u001b[0m: \tmv_flavor: nn\n",
      "\u001b[34m\u001b[1mwandb\u001b[0m: \ts1_alpha: 0.0003952111630139574\n",
      "\u001b[34m\u001b[1mwandb\u001b[0m: \ts1_beta: 0.0003620010894622518\n",
      "\u001b[34m\u001b[1mwandb\u001b[0m: \ts2_alpha: 0.002125893840061103\n",
      "\u001b[34m\u001b[1mwandb\u001b[0m: \ts2_beta: 0.015735280309879657\n"
     ]
    },
    {
     "data": {
      "text/html": [
       "Tracking run with wandb version 0.15.8"
      ],
      "text/plain": [
       "<IPython.core.display.HTML object>"
      ]
     },
     "metadata": {},
     "output_type": "display_data"
    },
    {
     "data": {
      "text/html": [
       "Run data is saved locally in <code>/home/justinhong/causal-perturbseq/notebooks/wandb/run-20230823_105056-zq4co3aw</code>"
      ],
      "text/plain": [
       "<IPython.core.display.HTML object>"
      ]
     },
     "metadata": {},
     "output_type": "display_data"
    },
    {
     "data": {
      "text/html": [
       "Syncing run <strong><a href='https://wandb.ai/azizi-causal-perturb/SDCI_perturb_cite_seq/runs/zq4co3aw' target=\"_blank\">devoted-sweep-16</a></strong> to <a href='https://wandb.ai/azizi-causal-perturb/SDCI_perturb_cite_seq' target=\"_blank\">Weights & Biases</a> (<a href='https://wandb.me/run' target=\"_blank\">docs</a>)<br/>Sweep page: <a href='https://wandb.ai/azizi-causal-perturb/SDCI_perturb_cite_seq/sweeps/c55u19ta' target=\"_blank\">https://wandb.ai/azizi-causal-perturb/SDCI_perturb_cite_seq/sweeps/c55u19ta</a>"
      ],
      "text/plain": [
       "<IPython.core.display.HTML object>"
      ]
     },
     "metadata": {},
     "output_type": "display_data"
    },
    {
     "data": {
      "text/html": [
       " View project at <a href='https://wandb.ai/azizi-causal-perturb/SDCI_perturb_cite_seq' target=\"_blank\">https://wandb.ai/azizi-causal-perturb/SDCI_perturb_cite_seq</a>"
      ],
      "text/plain": [
       "<IPython.core.display.HTML object>"
      ]
     },
     "metadata": {},
     "output_type": "display_data"
    },
    {
     "data": {
      "text/html": [
       " View sweep at <a href='https://wandb.ai/azizi-causal-perturb/SDCI_perturb_cite_seq/sweeps/c55u19ta' target=\"_blank\">https://wandb.ai/azizi-causal-perturb/SDCI_perturb_cite_seq/sweeps/c55u19ta</a>"
      ],
      "text/plain": [
       "<IPython.core.display.HTML object>"
      ]
     },
     "metadata": {},
     "output_type": "display_data"
    },
    {
     "data": {
      "text/html": [
       " View run at <a href='https://wandb.ai/azizi-causal-perturb/SDCI_perturb_cite_seq/runs/zq4co3aw' target=\"_blank\">https://wandb.ai/azizi-causal-perturb/SDCI_perturb_cite_seq/runs/zq4co3aw</a>"
      ],
      "text/plain": [
       "<IPython.core.display.HTML object>"
      ]
     },
     "metadata": {},
     "output_type": "display_data"
    },
    {
     "name": "stdout",
     "output_type": "stream",
     "text": [
      "Using cpu\n"
     ]
    },
    {
     "data": {
      "text/html": [
       "Waiting for W&B process to finish... <strong style=\"color:green\">(success).</strong>"
      ],
      "text/plain": [
       "<IPython.core.display.HTML object>"
      ]
     },
     "metadata": {},
     "output_type": "display_data"
    },
    {
     "data": {
      "text/html": [
       " View run <strong style=\"color:#cdcd00\">devoted-sweep-16</strong> at: <a href='https://wandb.ai/azizi-causal-perturb/SDCI_perturb_cite_seq/runs/zq4co3aw' target=\"_blank\">https://wandb.ai/azizi-causal-perturb/SDCI_perturb_cite_seq/runs/zq4co3aw</a><br/> View job at <a href='https://wandb.ai/azizi-causal-perturb/SDCI_perturb_cite_seq/jobs/QXJ0aWZhY3RDb2xsZWN0aW9uOjkyMTIyNTA4/version_details/v6' target=\"_blank\">https://wandb.ai/azizi-causal-perturb/SDCI_perturb_cite_seq/jobs/QXJ0aWZhY3RDb2xsZWN0aW9uOjkyMTIyNTA4/version_details/v6</a><br/>Synced 6 W&B file(s), 0 media file(s), 0 artifact file(s) and 0 other file(s)"
      ],
      "text/plain": [
       "<IPython.core.display.HTML object>"
      ]
     },
     "metadata": {},
     "output_type": "display_data"
    },
    {
     "data": {
      "text/html": [
       "Find logs at: <code>./wandb/run-20230823_105056-zq4co3aw/logs</code>"
      ],
      "text/plain": [
       "<IPython.core.display.HTML object>"
      ]
     },
     "metadata": {},
     "output_type": "display_data"
    },
    {
     "name": "stderr",
     "output_type": "stream",
     "text": [
      "\u001b[34m\u001b[1mwandb\u001b[0m: \u001b[33mWARNING\u001b[0m Ignored wandb.init() arg project when running a sweep.\n"
     ]
    },
    {
     "data": {
      "application/vnd.jupyter.widget-view+json": {
       "model_id": "c601bf27a3e344e1b0d7cf11e3a07084",
       "version_major": 2,
       "version_minor": 0
      },
      "text/plain": [
       "VBox(children=(Label(value='Waiting for wandb.init()...\\r'), FloatProgress(value=0.016668024633448415, max=1.0…"
      ]
     },
     "metadata": {},
     "output_type": "display_data"
    },
    {
     "data": {
      "text/html": [
       "Tracking run with wandb version 0.15.8"
      ],
      "text/plain": [
       "<IPython.core.display.HTML object>"
      ]
     },
     "metadata": {},
     "output_type": "display_data"
    },
    {
     "data": {
      "text/html": [
       "Run data is saved locally in <code>/home/justinhong/causal-perturbseq/notebooks/wandb/run-20230823_105103-zq4co3aw</code>"
      ],
      "text/plain": [
       "<IPython.core.display.HTML object>"
      ]
     },
     "metadata": {},
     "output_type": "display_data"
    },
    {
     "data": {
      "text/html": [
       "Syncing run <strong><a href='https://wandb.ai/azizi-causal-perturb/SDCI_perturb_cite_seq/runs/zq4co3aw' target=\"_blank\">SDCI</a></strong> to <a href='https://wandb.ai/azizi-causal-perturb/SDCI_perturb_cite_seq' target=\"_blank\">Weights & Biases</a> (<a href='https://wandb.me/run' target=\"_blank\">docs</a>)<br/>Sweep page: <a href='https://wandb.ai/azizi-causal-perturb/SDCI_perturb_cite_seq/sweeps/c55u19ta' target=\"_blank\">https://wandb.ai/azizi-causal-perturb/SDCI_perturb_cite_seq/sweeps/c55u19ta</a>"
      ],
      "text/plain": [
       "<IPython.core.display.HTML object>"
      ]
     },
     "metadata": {},
     "output_type": "display_data"
    },
    {
     "data": {
      "text/html": [
       " View project at <a href='https://wandb.ai/azizi-causal-perturb/SDCI_perturb_cite_seq' target=\"_blank\">https://wandb.ai/azizi-causal-perturb/SDCI_perturb_cite_seq</a>"
      ],
      "text/plain": [
       "<IPython.core.display.HTML object>"
      ]
     },
     "metadata": {},
     "output_type": "display_data"
    },
    {
     "data": {
      "text/html": [
       " View sweep at <a href='https://wandb.ai/azizi-causal-perturb/SDCI_perturb_cite_seq/sweeps/c55u19ta' target=\"_blank\">https://wandb.ai/azizi-causal-perturb/SDCI_perturb_cite_seq/sweeps/c55u19ta</a>"
      ],
      "text/plain": [
       "<IPython.core.display.HTML object>"
      ]
     },
     "metadata": {},
     "output_type": "display_data"
    },
    {
     "data": {
      "text/html": [
       " View run at <a href='https://wandb.ai/azizi-causal-perturb/SDCI_perturb_cite_seq/runs/zq4co3aw' target=\"_blank\">https://wandb.ai/azizi-causal-perturb/SDCI_perturb_cite_seq/runs/zq4co3aw</a>"
      ],
      "text/plain": [
       "<IPython.core.display.HTML object>"
      ]
     },
     "metadata": {},
     "output_type": "display_data"
    },
    {
     "name": "stdout",
     "output_type": "stream",
     "text": [
      "Epoch 0: loss=2584.48, gamma=0.00\n",
      "Epoch 5: loss=1593.17, gamma=0.00\n",
      "Epoch 10: loss=1520.76, gamma=0.00\n",
      "Epoch 15: loss=1486.68, gamma=0.00\n",
      "Epoch 20: loss=1454.89, gamma=0.00\n",
      "Epoch 25: loss=1433.42, gamma=0.00\n",
      "Epoch 30: loss=1414.09, gamma=0.00\n",
      "Epoch 35: loss=1412.27, gamma=0.00\n",
      "Epoch 40: loss=1403.00, gamma=0.00\n",
      "Epoch 45: loss=1393.54, gamma=0.00\n",
      "Epoch 50: loss=1388.29, gamma=0.00\n",
      "Epoch 55: loss=1395.14, gamma=0.00\n",
      "Epoch 60: loss=1393.99, gamma=0.00\n",
      "Epoch 65: loss=1400.05, gamma=0.00\n",
      "Epoch 70: loss=1393.62, gamma=0.00\n",
      "Epoch 75: loss=1404.63, gamma=0.00\n",
      "Epoch 80: loss=1396.86, gamma=0.00\n",
      "Epoch 85: loss=1393.71, gamma=0.00\n",
      "Epoch 90: loss=1399.23, gamma=0.00\n",
      "Epoch 95: loss=1405.43, gamma=0.00\n",
      "Fraction of possible edges in mask: 0.12305688017659941\n",
      "Epoch 0: loss=2199.49, gamma=0.00\n",
      "Epoch 5: loss=1868.65, gamma=6.08\n",
      "Epoch 10: loss=1873.22, gamma=12.17\n",
      "Epoch 15: loss=1877.63, gamma=18.25\n",
      "Epoch 20: loss=1875.52, gamma=24.34\n",
      "Epoch 25: loss=1888.58, gamma=30.42\n",
      "Epoch 30: loss=1889.54, gamma=36.51\n",
      "Epoch 35: loss=1887.59, gamma=42.59\n",
      "Epoch 40: loss=1887.08, gamma=48.68\n",
      "Epoch 45: loss=1900.16, gamma=54.76\n",
      "Epoch 50: loss=1891.79, gamma=60.85\n",
      "Epoch 55: loss=1893.00, gamma=66.93\n",
      "Epoch 60: loss=1891.11, gamma=73.02\n",
      "Epoch 65: loss=1887.35, gamma=79.10\n",
      "Epoch 70: loss=1890.99, gamma=85.19\n",
      "Epoch 75: loss=1902.77, gamma=91.27\n",
      "Epoch 80: loss=1894.51, gamma=97.36\n",
      "Epoch 85: loss=1894.61, gamma=103.44\n",
      "Epoch 90: loss=1890.35, gamma=109.53\n",
      "Epoch 95: loss=1891.01, gamma=115.61\n",
      "Finished training in 2417.855808734894 seconds.\n"
     ]
    },
    {
     "data": {
      "text/html": [
       "Waiting for W&B process to finish... <strong style=\"color:green\">(success).</strong>"
      ],
      "text/plain": [
       "<IPython.core.display.HTML object>"
      ]
     },
     "metadata": {},
     "output_type": "display_data"
    },
    {
     "data": {
      "application/vnd.jupyter.widget-view+json": {
       "model_id": "8d1e501849304dab8d8059c4ecd1485f",
       "version_major": 2,
       "version_minor": 0
      },
      "text/plain": [
       "VBox(children=(Label(value='0.009 MB of 0.009 MB uploaded (0.000 MB deduped)\\r'), FloatProgress(value=1.0, max…"
      ]
     },
     "metadata": {},
     "output_type": "display_data"
    },
    {
     "data": {
      "text/html": [
       "<style>\n",
       "    table.wandb td:nth-child(1) { padding: 0 10px; text-align: left ; width: auto;} td:nth-child(2) {text-align: left ; width: 100%}\n",
       "    .wandb-row { display: flex; flex-direction: row; flex-wrap: wrap; justify-content: flex-start; width: 100% }\n",
       "    .wandb-col { display: flex; flex-direction: column; flex-basis: 100%; flex: 1; padding: 10px; }\n",
       "    </style>\n",
       "<div class=\"wandb-row\"><div class=\"wandb-col\"><h3>Run history:</h3><br/><table class=\"wandb\"><tr><td>alpha</td><td>▁▁▁▁▁▁▁▁▁▁▁▁▁▁▁▁▁▁▁▁████████████████████</td></tr><tr><td>dag</td><td>▁▁▁▁▁▁▁▁▁▁▁▁▁▁▁▁▁▁▁▁█▃▃▃▂▂▂▂▂▂▂▂▂▂▂▂▂▂▂▂</td></tr><tr><td>epoch</td><td>▁▁▁▂▂▂▂▂▂▃▃▃▃▃▄▄▄▄▄▄▅▅▅▅▅▅▆▆▆▆▆▇▇▇▇▇▇███</td></tr><tr><td>epoch_loss</td><td>█▂▂▂▁▁▁▁▁▁▁▁▁▁▁▁▁▁▁▁▆▄▄▄▄▄▄▄▄▄▄▄▄▄▄▄▄▄▄▄</td></tr><tr><td>gamma</td><td>▁▁▁▁▁▁▁▁▁▁▁▁▁▁▁▁▁▁▁▁▁▁▂▂▂▃▃▄▄▄▅▅▅▆▆▇▇▇██</td></tr><tr><td>is_prescreen</td><td>████████████████████▁▁▁▁▁▁▁▁▁▁▁▁▁▁▁▁▁▁▁▁</td></tr><tr><td>l1</td><td>▁▄▅▅▆▆▆▇▇▇▇▇▇███████▇▅▅▅▅▅▅▅▅▅▄▄▄▄▄▄▄▄▄▄</td></tr><tr><td>l2</td><td>▁▁▁▂▂▂▂▂▂▂▂▂▂▂▂▃▃▃▃▃▆██████████████████▇</td></tr><tr><td>min_dag_threshold</td><td>▁</td></tr><tr><td>n_edges_min_dag</td><td>▁</td></tr><tr><td>nll</td><td>█▂▂▂▂▁▁▁▁▁▁▁▁▁▁▁▁▁▁▁▅▃▃▃▃▃▃▃▃▃▃▃▃▃▃▃▃▃▃▃</td></tr><tr><td>val_rec_loss</td><td>▁</td></tr></table><br/></div><div class=\"wandb-col\"><h3>Run summary:</h3><br/><table class=\"wandb\"><tr><td>alpha</td><td>0.00213</td></tr><tr><td>dag</td><td>0.23951</td></tr><tr><td>epoch</td><td>195</td></tr><tr><td>epoch_loss</td><td>1891.0105</td></tr><tr><td>gamma</td><td>115.61289</td></tr><tr><td>is_prescreen</td><td>0</td></tr><tr><td>l1</td><td>88.38353</td></tr><tr><td>l2</td><td>119.43993</td></tr><tr><td>min_dag_threshold</td><td>0.56503</td></tr><tr><td>n_edges_min_dag</td><td>578</td></tr><tr><td>nll</td><td>1655.49698</td></tr><tr><td>val_rec_loss</td><td>1695.8623</td></tr></table><br/></div></div>"
      ],
      "text/plain": [
       "<IPython.core.display.HTML object>"
      ]
     },
     "metadata": {},
     "output_type": "display_data"
    },
    {
     "data": {
      "text/html": [
       " View run <strong style=\"color:#cdcd00\">SDCI</strong> at: <a href='https://wandb.ai/azizi-causal-perturb/SDCI_perturb_cite_seq/runs/zq4co3aw' target=\"_blank\">https://wandb.ai/azizi-causal-perturb/SDCI_perturb_cite_seq/runs/zq4co3aw</a><br/> View job at <a href='https://wandb.ai/azizi-causal-perturb/SDCI_perturb_cite_seq/jobs/QXJ0aWZhY3RDb2xsZWN0aW9uOjkyMTIyNTA4/version_details/v5' target=\"_blank\">https://wandb.ai/azizi-causal-perturb/SDCI_perturb_cite_seq/jobs/QXJ0aWZhY3RDb2xsZWN0aW9uOjkyMTIyNTA4/version_details/v5</a><br/>Synced 6 W&B file(s), 0 media file(s), 0 artifact file(s) and 0 other file(s)"
      ],
      "text/plain": [
       "<IPython.core.display.HTML object>"
      ]
     },
     "metadata": {},
     "output_type": "display_data"
    },
    {
     "data": {
      "text/html": [
       "Find logs at: <code>./wandb/run-20230823_105103-zq4co3aw/logs</code>"
      ],
      "text/plain": [
       "<IPython.core.display.HTML object>"
      ]
     },
     "metadata": {},
     "output_type": "display_data"
    },
    {
     "name": "stderr",
     "output_type": "stream",
     "text": [
      "\u001b[34m\u001b[1mwandb\u001b[0m: Agent Starting Run: pxyd9m2k with config:\n",
      "\u001b[34m\u001b[1mwandb\u001b[0m: \tmax_gamma: 110.670357371518\n",
      "\u001b[34m\u001b[1mwandb\u001b[0m: \tmv_flavor: nn\n",
      "\u001b[34m\u001b[1mwandb\u001b[0m: \ts1_alpha: 5.386983639847875e-05\n",
      "\u001b[34m\u001b[1mwandb\u001b[0m: \ts1_beta: 7.162855030717716e-05\n",
      "\u001b[34m\u001b[1mwandb\u001b[0m: \ts2_alpha: 0.00093529850114538\n",
      "\u001b[34m\u001b[1mwandb\u001b[0m: \ts2_beta: 0.07154275455708342\n"
     ]
    },
    {
     "data": {
      "text/html": [
       "Tracking run with wandb version 0.15.8"
      ],
      "text/plain": [
       "<IPython.core.display.HTML object>"
      ]
     },
     "metadata": {},
     "output_type": "display_data"
    },
    {
     "data": {
      "text/html": [
       "Run data is saved locally in <code>/home/justinhong/causal-perturbseq/notebooks/wandb/run-20230823_113132-pxyd9m2k</code>"
      ],
      "text/plain": [
       "<IPython.core.display.HTML object>"
      ]
     },
     "metadata": {},
     "output_type": "display_data"
    },
    {
     "data": {
      "text/html": [
       "Syncing run <strong><a href='https://wandb.ai/azizi-causal-perturb/SDCI_perturb_cite_seq/runs/pxyd9m2k' target=\"_blank\">earnest-sweep-17</a></strong> to <a href='https://wandb.ai/azizi-causal-perturb/SDCI_perturb_cite_seq' target=\"_blank\">Weights & Biases</a> (<a href='https://wandb.me/run' target=\"_blank\">docs</a>)<br/>Sweep page: <a href='https://wandb.ai/azizi-causal-perturb/SDCI_perturb_cite_seq/sweeps/c55u19ta' target=\"_blank\">https://wandb.ai/azizi-causal-perturb/SDCI_perturb_cite_seq/sweeps/c55u19ta</a>"
      ],
      "text/plain": [
       "<IPython.core.display.HTML object>"
      ]
     },
     "metadata": {},
     "output_type": "display_data"
    },
    {
     "data": {
      "text/html": [
       " View project at <a href='https://wandb.ai/azizi-causal-perturb/SDCI_perturb_cite_seq' target=\"_blank\">https://wandb.ai/azizi-causal-perturb/SDCI_perturb_cite_seq</a>"
      ],
      "text/plain": [
       "<IPython.core.display.HTML object>"
      ]
     },
     "metadata": {},
     "output_type": "display_data"
    },
    {
     "data": {
      "text/html": [
       " View sweep at <a href='https://wandb.ai/azizi-causal-perturb/SDCI_perturb_cite_seq/sweeps/c55u19ta' target=\"_blank\">https://wandb.ai/azizi-causal-perturb/SDCI_perturb_cite_seq/sweeps/c55u19ta</a>"
      ],
      "text/plain": [
       "<IPython.core.display.HTML object>"
      ]
     },
     "metadata": {},
     "output_type": "display_data"
    },
    {
     "data": {
      "text/html": [
       " View run at <a href='https://wandb.ai/azizi-causal-perturb/SDCI_perturb_cite_seq/runs/pxyd9m2k' target=\"_blank\">https://wandb.ai/azizi-causal-perturb/SDCI_perturb_cite_seq/runs/pxyd9m2k</a>"
      ],
      "text/plain": [
       "<IPython.core.display.HTML object>"
      ]
     },
     "metadata": {},
     "output_type": "display_data"
    },
    {
     "name": "stdout",
     "output_type": "stream",
     "text": [
      "Using cpu\n"
     ]
    },
    {
     "data": {
      "text/html": [
       "Waiting for W&B process to finish... <strong style=\"color:green\">(success).</strong>"
      ],
      "text/plain": [
       "<IPython.core.display.HTML object>"
      ]
     },
     "metadata": {},
     "output_type": "display_data"
    },
    {
     "data": {
      "text/html": [
       " View run <strong style=\"color:#cdcd00\">earnest-sweep-17</strong> at: <a href='https://wandb.ai/azizi-causal-perturb/SDCI_perturb_cite_seq/runs/pxyd9m2k' target=\"_blank\">https://wandb.ai/azizi-causal-perturb/SDCI_perturb_cite_seq/runs/pxyd9m2k</a><br/> View job at <a href='https://wandb.ai/azizi-causal-perturb/SDCI_perturb_cite_seq/jobs/QXJ0aWZhY3RDb2xsZWN0aW9uOjkyMTIyNTA4/version_details/v6' target=\"_blank\">https://wandb.ai/azizi-causal-perturb/SDCI_perturb_cite_seq/jobs/QXJ0aWZhY3RDb2xsZWN0aW9uOjkyMTIyNTA4/version_details/v6</a><br/>Synced 6 W&B file(s), 0 media file(s), 0 artifact file(s) and 0 other file(s)"
      ],
      "text/plain": [
       "<IPython.core.display.HTML object>"
      ]
     },
     "metadata": {},
     "output_type": "display_data"
    },
    {
     "data": {
      "text/html": [
       "Find logs at: <code>./wandb/run-20230823_113132-pxyd9m2k/logs</code>"
      ],
      "text/plain": [
       "<IPython.core.display.HTML object>"
      ]
     },
     "metadata": {},
     "output_type": "display_data"
    },
    {
     "name": "stderr",
     "output_type": "stream",
     "text": [
      "\u001b[34m\u001b[1mwandb\u001b[0m: \u001b[33mWARNING\u001b[0m Ignored wandb.init() arg project when running a sweep.\n"
     ]
    },
    {
     "data": {
      "application/vnd.jupyter.widget-view+json": {
       "model_id": "db0e493854434f19a956626313a3a643",
       "version_major": 2,
       "version_minor": 0
      },
      "text/plain": [
       "VBox(children=(Label(value='Waiting for wandb.init()...\\r'), FloatProgress(value=0.01666810599999735, max=1.0)…"
      ]
     },
     "metadata": {},
     "output_type": "display_data"
    },
    {
     "data": {
      "text/html": [
       "Tracking run with wandb version 0.15.8"
      ],
      "text/plain": [
       "<IPython.core.display.HTML object>"
      ]
     },
     "metadata": {},
     "output_type": "display_data"
    },
    {
     "data": {
      "text/html": [
       "Run data is saved locally in <code>/home/justinhong/causal-perturbseq/notebooks/wandb/run-20230823_113139-pxyd9m2k</code>"
      ],
      "text/plain": [
       "<IPython.core.display.HTML object>"
      ]
     },
     "metadata": {},
     "output_type": "display_data"
    },
    {
     "data": {
      "text/html": [
       "Syncing run <strong><a href='https://wandb.ai/azizi-causal-perturb/SDCI_perturb_cite_seq/runs/pxyd9m2k' target=\"_blank\">SDCI</a></strong> to <a href='https://wandb.ai/azizi-causal-perturb/SDCI_perturb_cite_seq' target=\"_blank\">Weights & Biases</a> (<a href='https://wandb.me/run' target=\"_blank\">docs</a>)<br/>Sweep page: <a href='https://wandb.ai/azizi-causal-perturb/SDCI_perturb_cite_seq/sweeps/c55u19ta' target=\"_blank\">https://wandb.ai/azizi-causal-perturb/SDCI_perturb_cite_seq/sweeps/c55u19ta</a>"
      ],
      "text/plain": [
       "<IPython.core.display.HTML object>"
      ]
     },
     "metadata": {},
     "output_type": "display_data"
    },
    {
     "data": {
      "text/html": [
       " View project at <a href='https://wandb.ai/azizi-causal-perturb/SDCI_perturb_cite_seq' target=\"_blank\">https://wandb.ai/azizi-causal-perturb/SDCI_perturb_cite_seq</a>"
      ],
      "text/plain": [
       "<IPython.core.display.HTML object>"
      ]
     },
     "metadata": {},
     "output_type": "display_data"
    },
    {
     "data": {
      "text/html": [
       " View sweep at <a href='https://wandb.ai/azizi-causal-perturb/SDCI_perturb_cite_seq/sweeps/c55u19ta' target=\"_blank\">https://wandb.ai/azizi-causal-perturb/SDCI_perturb_cite_seq/sweeps/c55u19ta</a>"
      ],
      "text/plain": [
       "<IPython.core.display.HTML object>"
      ]
     },
     "metadata": {},
     "output_type": "display_data"
    },
    {
     "data": {
      "text/html": [
       " View run at <a href='https://wandb.ai/azizi-causal-perturb/SDCI_perturb_cite_seq/runs/pxyd9m2k' target=\"_blank\">https://wandb.ai/azizi-causal-perturb/SDCI_perturb_cite_seq/runs/pxyd9m2k</a>"
      ],
      "text/plain": [
       "<IPython.core.display.HTML object>"
      ]
     },
     "metadata": {},
     "output_type": "display_data"
    },
    {
     "name": "stdout",
     "output_type": "stream",
     "text": [
      "Epoch 0: loss=2580.45, gamma=0.00\n",
      "Epoch 5: loss=1546.45, gamma=0.00\n",
      "Epoch 10: loss=1407.87, gamma=0.00\n",
      "Epoch 15: loss=1325.37, gamma=0.00\n",
      "Epoch 20: loss=1271.29, gamma=0.00\n",
      "Epoch 25: loss=1226.90, gamma=0.00\n",
      "Epoch 30: loss=1199.70, gamma=0.00\n",
      "Epoch 35: loss=1179.52, gamma=0.00\n",
      "Epoch 40: loss=1143.42, gamma=0.00\n",
      "Epoch 45: loss=1126.81, gamma=0.00\n",
      "Epoch 50: loss=1121.90, gamma=0.00\n",
      "Epoch 55: loss=1108.98, gamma=0.00\n",
      "Epoch 60: loss=1098.55, gamma=0.00\n",
      "Epoch 65: loss=1091.80, gamma=0.00\n",
      "Epoch 70: loss=1087.27, gamma=0.00\n",
      "Epoch 75: loss=1081.18, gamma=0.00\n",
      "Epoch 80: loss=1084.16, gamma=0.00\n",
      "Epoch 85: loss=1074.35, gamma=0.00\n",
      "Epoch 90: loss=1072.08, gamma=0.00\n",
      "Epoch 95: loss=1071.82, gamma=0.00\n",
      "Fraction of possible edges in mask: 0.6491813046751423\n",
      "Epoch 0: loss=2937.17, gamma=0.00\n",
      "Epoch 5: loss=2072.26, gamma=5.59\n",
      "Epoch 10: loss=2099.33, gamma=11.18\n",
      "Epoch 15: loss=2120.43, gamma=16.77\n",
      "Epoch 20: loss=2113.87, gamma=16.77\n",
      "Epoch 25: loss=2135.69, gamma=16.77\n",
      "Epoch 30: loss=2125.43, gamma=16.77\n",
      "Epoch 35: loss=2134.07, gamma=16.77\n",
      "Epoch 40: loss=2125.98, gamma=16.77\n",
      "Epoch 45: loss=2130.25, gamma=16.77\n",
      "Epoch 50: loss=2133.51, gamma=16.77\n",
      "Epoch 55: loss=2131.70, gamma=16.77\n",
      "Epoch 60: loss=2131.70, gamma=16.77\n",
      "Epoch 65: loss=2131.38, gamma=16.77\n",
      "Epoch 70: loss=2148.65, gamma=16.77\n",
      "Epoch 75: loss=2147.36, gamma=16.77\n",
      "Epoch 80: loss=2133.26, gamma=16.77\n",
      "Epoch 85: loss=2136.10, gamma=16.77\n",
      "Epoch 90: loss=2138.73, gamma=16.77\n",
      "Epoch 95: loss=2137.95, gamma=16.77\n",
      "Finished training in 2548.9940502643585 seconds.\n"
     ]
    },
    {
     "data": {
      "text/html": [
       "Waiting for W&B process to finish... <strong style=\"color:green\">(success).</strong>"
      ],
      "text/plain": [
       "<IPython.core.display.HTML object>"
      ]
     },
     "metadata": {},
     "output_type": "display_data"
    },
    {
     "data": {
      "application/vnd.jupyter.widget-view+json": {
       "model_id": "83e47e9818324502a5ae3fe274f55a51",
       "version_major": 2,
       "version_minor": 0
      },
      "text/plain": [
       "VBox(children=(Label(value='0.009 MB of 0.021 MB uploaded (0.000 MB deduped)\\r'), FloatProgress(value=0.453402…"
      ]
     },
     "metadata": {},
     "output_type": "display_data"
    },
    {
     "data": {
      "text/html": [
       "<style>\n",
       "    table.wandb td:nth-child(1) { padding: 0 10px; text-align: left ; width: auto;} td:nth-child(2) {text-align: left ; width: 100%}\n",
       "    .wandb-row { display: flex; flex-direction: row; flex-wrap: wrap; justify-content: flex-start; width: 100% }\n",
       "    .wandb-col { display: flex; flex-direction: column; flex-basis: 100%; flex: 1; padding: 10px; }\n",
       "    </style>\n",
       "<div class=\"wandb-row\"><div class=\"wandb-col\"><h3>Run history:</h3><br/><table class=\"wandb\"><tr><td>alpha</td><td>▁▁▁▁▁▁▁▁▁▁▁▁▁▁▁▁▁▁▁▁████████████████████</td></tr><tr><td>dag</td><td>▁▁▁▁▁▁▁▁▁▁▁▁▁▁▁▁▁▁▁▁█▂▂▂▂▂▂▂▂▂▂▂▂▂▂▂▂▂▂▂</td></tr><tr><td>epoch</td><td>▁▁▁▂▂▂▂▂▂▃▃▃▃▃▄▄▄▄▄▄▅▅▅▅▅▅▆▆▆▆▆▇▇▇▇▇▇███</td></tr><tr><td>epoch_loss</td><td>▇▃▂▂▂▂▁▁▁▁▁▁▁▁▁▁▁▁▁▁█▅▅▅▅▅▅▅▅▅▅▅▅▅▅▅▅▅▅▅</td></tr><tr><td>gamma</td><td>▁▁▁▁▁▁▁▁▁▁▁▁▁▁▁▁▁▁▁▁▁▃▆█████████████████</td></tr><tr><td>is_prescreen</td><td>████████████████████▁▁▁▁▁▁▁▁▁▁▁▁▁▁▁▁▁▁▁▁</td></tr><tr><td>l1</td><td>▁▂▂▂▂▂▃▃▃▃▃▃▃▃▃▃▃▃▃▃█▄▄▄▄▄▄▄▄▄▄▄▄▄▄▄▄▄▄▄</td></tr><tr><td>l2</td><td>▁▁▁▁▁▁▁▁▁▁▁▁▁▁▁▁▁▁▁▁█▃▃▃▃▃▃▃▃▃▃▃▃▃▃▃▃▃▃▃</td></tr><tr><td>min_dag_threshold</td><td>▁</td></tr><tr><td>n_edges_min_dag</td><td>▁</td></tr><tr><td>nll</td><td>█▃▃▂▂▂▂▂▁▁▁▁▁▁▁▁▁▁▁▁▆▄▅▅▅▅▅▅▅▅▅▅▅▅▅▅▅▅▅▅</td></tr><tr><td>val_rec_loss</td><td>▁</td></tr></table><br/></div><div class=\"wandb-col\"><h3>Run summary:</h3><br/><table class=\"wandb\"><tr><td>alpha</td><td>0.00094</td></tr><tr><td>dag</td><td>1.12101</td></tr><tr><td>epoch</td><td>195</td></tr><tr><td>epoch_loss</td><td>2137.95302</td></tr><tr><td>gamma</td><td>16.76824</td></tr><tr><td>is_prescreen</td><td>0</td></tr><tr><td>l1</td><td>91.94756</td></tr><tr><td>l2</td><td>240.69692</td></tr><tr><td>min_dag_threshold</td><td>0.39198</td></tr><tr><td>n_edges_min_dag</td><td>197</td></tr><tr><td>nll</td><td>1786.51113</td></tr><tr><td>val_rec_loss</td><td>1800.18494</td></tr></table><br/></div></div>"
      ],
      "text/plain": [
       "<IPython.core.display.HTML object>"
      ]
     },
     "metadata": {},
     "output_type": "display_data"
    },
    {
     "data": {
      "text/html": [
       " View run <strong style=\"color:#cdcd00\">SDCI</strong> at: <a href='https://wandb.ai/azizi-causal-perturb/SDCI_perturb_cite_seq/runs/pxyd9m2k' target=\"_blank\">https://wandb.ai/azizi-causal-perturb/SDCI_perturb_cite_seq/runs/pxyd9m2k</a><br/> View job at <a href='https://wandb.ai/azizi-causal-perturb/SDCI_perturb_cite_seq/jobs/QXJ0aWZhY3RDb2xsZWN0aW9uOjkyMTIyNTA4/version_details/v5' target=\"_blank\">https://wandb.ai/azizi-causal-perturb/SDCI_perturb_cite_seq/jobs/QXJ0aWZhY3RDb2xsZWN0aW9uOjkyMTIyNTA4/version_details/v5</a><br/>Synced 6 W&B file(s), 0 media file(s), 0 artifact file(s) and 0 other file(s)"
      ],
      "text/plain": [
       "<IPython.core.display.HTML object>"
      ]
     },
     "metadata": {},
     "output_type": "display_data"
    },
    {
     "data": {
      "text/html": [
       "Find logs at: <code>./wandb/run-20230823_113139-pxyd9m2k/logs</code>"
      ],
      "text/plain": [
       "<IPython.core.display.HTML object>"
      ]
     },
     "metadata": {},
     "output_type": "display_data"
    },
    {
     "name": "stderr",
     "output_type": "stream",
     "text": [
      "\u001b[34m\u001b[1mwandb\u001b[0m: Agent Starting Run: s0ihn4zy with config:\n",
      "\u001b[34m\u001b[1mwandb\u001b[0m: \tmax_gamma: 244.17190722070103\n",
      "\u001b[34m\u001b[1mwandb\u001b[0m: \tmv_flavor: nn\n",
      "\u001b[34m\u001b[1mwandb\u001b[0m: \ts1_alpha: 0.001310898718854395\n",
      "\u001b[34m\u001b[1mwandb\u001b[0m: \ts1_beta: 0.0006761695449736915\n",
      "\u001b[34m\u001b[1mwandb\u001b[0m: \ts2_alpha: 1.0917198489429712e-05\n",
      "\u001b[34m\u001b[1mwandb\u001b[0m: \ts2_beta: 0.04376851827936573\n"
     ]
    },
    {
     "data": {
      "text/html": [
       "Tracking run with wandb version 0.15.8"
      ],
      "text/plain": [
       "<IPython.core.display.HTML object>"
      ]
     },
     "metadata": {},
     "output_type": "display_data"
    },
    {
     "data": {
      "text/html": [
       "Run data is saved locally in <code>/home/justinhong/causal-perturbseq/notebooks/wandb/run-20230823_121419-s0ihn4zy</code>"
      ],
      "text/plain": [
       "<IPython.core.display.HTML object>"
      ]
     },
     "metadata": {},
     "output_type": "display_data"
    },
    {
     "data": {
      "text/html": [
       "Syncing run <strong><a href='https://wandb.ai/azizi-causal-perturb/SDCI_perturb_cite_seq/runs/s0ihn4zy' target=\"_blank\">charmed-sweep-18</a></strong> to <a href='https://wandb.ai/azizi-causal-perturb/SDCI_perturb_cite_seq' target=\"_blank\">Weights & Biases</a> (<a href='https://wandb.me/run' target=\"_blank\">docs</a>)<br/>Sweep page: <a href='https://wandb.ai/azizi-causal-perturb/SDCI_perturb_cite_seq/sweeps/c55u19ta' target=\"_blank\">https://wandb.ai/azizi-causal-perturb/SDCI_perturb_cite_seq/sweeps/c55u19ta</a>"
      ],
      "text/plain": [
       "<IPython.core.display.HTML object>"
      ]
     },
     "metadata": {},
     "output_type": "display_data"
    },
    {
     "data": {
      "text/html": [
       " View project at <a href='https://wandb.ai/azizi-causal-perturb/SDCI_perturb_cite_seq' target=\"_blank\">https://wandb.ai/azizi-causal-perturb/SDCI_perturb_cite_seq</a>"
      ],
      "text/plain": [
       "<IPython.core.display.HTML object>"
      ]
     },
     "metadata": {},
     "output_type": "display_data"
    },
    {
     "data": {
      "text/html": [
       " View sweep at <a href='https://wandb.ai/azizi-causal-perturb/SDCI_perturb_cite_seq/sweeps/c55u19ta' target=\"_blank\">https://wandb.ai/azizi-causal-perturb/SDCI_perturb_cite_seq/sweeps/c55u19ta</a>"
      ],
      "text/plain": [
       "<IPython.core.display.HTML object>"
      ]
     },
     "metadata": {},
     "output_type": "display_data"
    },
    {
     "data": {
      "text/html": [
       " View run at <a href='https://wandb.ai/azizi-causal-perturb/SDCI_perturb_cite_seq/runs/s0ihn4zy' target=\"_blank\">https://wandb.ai/azizi-causal-perturb/SDCI_perturb_cite_seq/runs/s0ihn4zy</a>"
      ],
      "text/plain": [
       "<IPython.core.display.HTML object>"
      ]
     },
     "metadata": {},
     "output_type": "display_data"
    },
    {
     "name": "stdout",
     "output_type": "stream",
     "text": [
      "Using cpu\n"
     ]
    },
    {
     "data": {
      "text/html": [
       "Waiting for W&B process to finish... <strong style=\"color:green\">(success).</strong>"
      ],
      "text/plain": [
       "<IPython.core.display.HTML object>"
      ]
     },
     "metadata": {},
     "output_type": "display_data"
    },
    {
     "data": {
      "text/html": [
       " View run <strong style=\"color:#cdcd00\">charmed-sweep-18</strong> at: <a href='https://wandb.ai/azizi-causal-perturb/SDCI_perturb_cite_seq/runs/s0ihn4zy' target=\"_blank\">https://wandb.ai/azizi-causal-perturb/SDCI_perturb_cite_seq/runs/s0ihn4zy</a><br/> View job at <a href='https://wandb.ai/azizi-causal-perturb/SDCI_perturb_cite_seq/jobs/QXJ0aWZhY3RDb2xsZWN0aW9uOjkyMTIyNTA4/version_details/v6' target=\"_blank\">https://wandb.ai/azizi-causal-perturb/SDCI_perturb_cite_seq/jobs/QXJ0aWZhY3RDb2xsZWN0aW9uOjkyMTIyNTA4/version_details/v6</a><br/>Synced 6 W&B file(s), 0 media file(s), 0 artifact file(s) and 0 other file(s)"
      ],
      "text/plain": [
       "<IPython.core.display.HTML object>"
      ]
     },
     "metadata": {},
     "output_type": "display_data"
    },
    {
     "data": {
      "text/html": [
       "Find logs at: <code>./wandb/run-20230823_121419-s0ihn4zy/logs</code>"
      ],
      "text/plain": [
       "<IPython.core.display.HTML object>"
      ]
     },
     "metadata": {},
     "output_type": "display_data"
    },
    {
     "name": "stderr",
     "output_type": "stream",
     "text": [
      "\u001b[34m\u001b[1mwandb\u001b[0m: \u001b[33mWARNING\u001b[0m Ignored wandb.init() arg project when running a sweep.\n"
     ]
    },
    {
     "data": {
      "application/vnd.jupyter.widget-view+json": {
       "model_id": "968e33247e6e4a68b9b1559566af717a",
       "version_major": 2,
       "version_minor": 0
      },
      "text/plain": [
       "VBox(children=(Label(value='Waiting for wandb.init()...\\r'), FloatProgress(value=0.016668164633301785, max=1.0…"
      ]
     },
     "metadata": {},
     "output_type": "display_data"
    },
    {
     "data": {
      "text/html": [
       "Tracking run with wandb version 0.15.8"
      ],
      "text/plain": [
       "<IPython.core.display.HTML object>"
      ]
     },
     "metadata": {},
     "output_type": "display_data"
    },
    {
     "data": {
      "text/html": [
       "Run data is saved locally in <code>/home/justinhong/causal-perturbseq/notebooks/wandb/run-20230823_121427-s0ihn4zy</code>"
      ],
      "text/plain": [
       "<IPython.core.display.HTML object>"
      ]
     },
     "metadata": {},
     "output_type": "display_data"
    },
    {
     "data": {
      "text/html": [
       "Syncing run <strong><a href='https://wandb.ai/azizi-causal-perturb/SDCI_perturb_cite_seq/runs/s0ihn4zy' target=\"_blank\">SDCI</a></strong> to <a href='https://wandb.ai/azizi-causal-perturb/SDCI_perturb_cite_seq' target=\"_blank\">Weights & Biases</a> (<a href='https://wandb.me/run' target=\"_blank\">docs</a>)<br/>Sweep page: <a href='https://wandb.ai/azizi-causal-perturb/SDCI_perturb_cite_seq/sweeps/c55u19ta' target=\"_blank\">https://wandb.ai/azizi-causal-perturb/SDCI_perturb_cite_seq/sweeps/c55u19ta</a>"
      ],
      "text/plain": [
       "<IPython.core.display.HTML object>"
      ]
     },
     "metadata": {},
     "output_type": "display_data"
    },
    {
     "data": {
      "text/html": [
       " View project at <a href='https://wandb.ai/azizi-causal-perturb/SDCI_perturb_cite_seq' target=\"_blank\">https://wandb.ai/azizi-causal-perturb/SDCI_perturb_cite_seq</a>"
      ],
      "text/plain": [
       "<IPython.core.display.HTML object>"
      ]
     },
     "metadata": {},
     "output_type": "display_data"
    },
    {
     "data": {
      "text/html": [
       " View sweep at <a href='https://wandb.ai/azizi-causal-perturb/SDCI_perturb_cite_seq/sweeps/c55u19ta' target=\"_blank\">https://wandb.ai/azizi-causal-perturb/SDCI_perturb_cite_seq/sweeps/c55u19ta</a>"
      ],
      "text/plain": [
       "<IPython.core.display.HTML object>"
      ]
     },
     "metadata": {},
     "output_type": "display_data"
    },
    {
     "data": {
      "text/html": [
       " View run at <a href='https://wandb.ai/azizi-causal-perturb/SDCI_perturb_cite_seq/runs/s0ihn4zy' target=\"_blank\">https://wandb.ai/azizi-causal-perturb/SDCI_perturb_cite_seq/runs/s0ihn4zy</a>"
      ],
      "text/plain": [
       "<IPython.core.display.HTML object>"
      ]
     },
     "metadata": {},
     "output_type": "display_data"
    },
    {
     "name": "stdout",
     "output_type": "stream",
     "text": [
      "Epoch 0: loss=2606.94, gamma=0.00\n",
      "Epoch 5: loss=1684.70, gamma=0.00\n",
      "Epoch 10: loss=1649.38, gamma=0.00\n",
      "Epoch 15: loss=1631.66, gamma=0.00\n",
      "Epoch 20: loss=1629.08, gamma=0.00\n",
      "Epoch 25: loss=1624.53, gamma=0.00\n",
      "Epoch 30: loss=1620.06, gamma=0.00\n",
      "Epoch 35: loss=1624.01, gamma=0.00\n",
      "Epoch 40: loss=1630.21, gamma=0.00\n",
      "Epoch 45: loss=1626.39, gamma=0.00\n",
      "Epoch 50: loss=1649.46, gamma=0.00\n",
      "Epoch 55: loss=1641.67, gamma=0.00\n",
      "Epoch 60: loss=1646.85, gamma=0.00\n",
      "Epoch 65: loss=1655.19, gamma=0.00\n",
      "Epoch 70: loss=1646.30, gamma=0.00\n",
      "Epoch 75: loss=1692.83, gamma=0.00\n",
      "Epoch 80: loss=1645.84, gamma=0.00\n",
      "Epoch 85: loss=1648.26, gamma=0.00\n",
      "Epoch 90: loss=1651.80, gamma=0.00\n",
      "Epoch 95: loss=1648.92, gamma=0.00\n",
      "Fraction of possible edges in mask: 0.022554958772953135\n",
      "Epoch 0: loss=2160.30, gamma=0.00\n",
      "Epoch 5: loss=1857.56, gamma=12.33\n",
      "Epoch 10: loss=1874.27, gamma=24.66\n",
      "Epoch 15: loss=1870.95, gamma=37.00\n",
      "Epoch 20: loss=1867.08, gamma=49.33\n",
      "Epoch 25: loss=1863.60, gamma=49.33\n",
      "Epoch 30: loss=1868.88, gamma=49.33\n",
      "Epoch 35: loss=1862.52, gamma=49.33\n",
      "Epoch 40: loss=1869.89, gamma=49.33\n",
      "Epoch 45: loss=1866.10, gamma=49.33\n",
      "Epoch 50: loss=1870.33, gamma=49.33\n",
      "Epoch 55: loss=1863.71, gamma=49.33\n",
      "Epoch 60: loss=1865.53, gamma=49.33\n",
      "Epoch 65: loss=1864.94, gamma=49.33\n",
      "Epoch 70: loss=1866.24, gamma=49.33\n",
      "Epoch 75: loss=1864.60, gamma=49.33\n",
      "Epoch 80: loss=1861.94, gamma=49.33\n",
      "Epoch 85: loss=1865.85, gamma=49.33\n",
      "Epoch 90: loss=1873.94, gamma=49.33\n",
      "Epoch 95: loss=1864.39, gamma=49.33\n",
      "Finished training in 2327.3578431606293 seconds.\n"
     ]
    },
    {
     "data": {
      "text/html": [
       "Waiting for W&B process to finish... <strong style=\"color:green\">(success).</strong>"
      ],
      "text/plain": [
       "<IPython.core.display.HTML object>"
      ]
     },
     "metadata": {},
     "output_type": "display_data"
    },
    {
     "data": {
      "application/vnd.jupyter.widget-view+json": {
       "model_id": "8f7c3cee1db2474a839a19d2c6a1b05c",
       "version_major": 2,
       "version_minor": 0
      },
      "text/plain": [
       "VBox(children=(Label(value='0.009 MB of 0.021 MB uploaded (0.000 MB deduped)\\r'), FloatProgress(value=0.453287…"
      ]
     },
     "metadata": {},
     "output_type": "display_data"
    },
    {
     "data": {
      "text/html": [
       "<style>\n",
       "    table.wandb td:nth-child(1) { padding: 0 10px; text-align: left ; width: auto;} td:nth-child(2) {text-align: left ; width: 100%}\n",
       "    .wandb-row { display: flex; flex-direction: row; flex-wrap: wrap; justify-content: flex-start; width: 100% }\n",
       "    .wandb-col { display: flex; flex-direction: column; flex-basis: 100%; flex: 1; padding: 10px; }\n",
       "    </style>\n",
       "<div class=\"wandb-row\"><div class=\"wandb-col\"><h3>Run history:</h3><br/><table class=\"wandb\"><tr><td>alpha</td><td>████████████████████▁▁▁▁▁▁▁▁▁▁▁▁▁▁▁▁▁▁▁▁</td></tr><tr><td>dag</td><td>▁▁▁▁▁▁▁▁▁▁▁▁▁▁▁▁▁▁▁▁█▂▂▂▂▂▂▂▂▂▂▂▂▂▂▂▂▂▂▂</td></tr><tr><td>epoch</td><td>▁▁▁▂▂▂▂▂▂▃▃▃▃▃▄▄▄▄▄▄▅▅▅▅▅▅▆▆▆▆▆▇▇▇▇▇▇███</td></tr><tr><td>epoch_loss</td><td>█▁▁▁▁▁▁▁▁▁▁▁▁▁▁▂▁▁▁▁▅▃▃▃▃▃▃▃▃▃▃▃▃▃▃▃▃▃▃▃</td></tr><tr><td>gamma</td><td>▁▁▁▁▁▁▁▁▁▁▁▁▁▁▁▁▁▁▁▁▁▃▅▆████████████████</td></tr><tr><td>is_prescreen</td><td>████████████████████▁▁▁▁▁▁▁▁▁▁▁▁▁▁▁▁▁▁▁▁</td></tr><tr><td>l1</td><td>▄▆▇▇▇▇██████████████▁▁▁▁▁▁▁▁▁▁▁▁▁▁▁▁▁▁▁▁</td></tr><tr><td>l2</td><td>▁▁▁▁▂▂▂▂▂▂▂▂▂▂▂▂▂▂▂▂███████▇████████████</td></tr><tr><td>min_dag_threshold</td><td>▁</td></tr><tr><td>n_edges_min_dag</td><td>▁</td></tr><tr><td>nll</td><td>█▂▁▁▁▁▁▁▁▁▁▁▁▁▁▁▁▁▁▁▅▃▃▃▃▃▃▃▃▃▃▃▃▃▃▃▃▃▃▃</td></tr><tr><td>val_rec_loss</td><td>▁</td></tr></table><br/></div><div class=\"wandb-col\"><h3>Run summary:</h3><br/><table class=\"wandb\"><tr><td>alpha</td><td>1e-05</td></tr><tr><td>dag</td><td>0.19211</td></tr><tr><td>epoch</td><td>195</td></tr><tr><td>epoch_loss</td><td>1864.38936</td></tr><tr><td>gamma</td><td>49.32766</td></tr><tr><td>is_prescreen</td><td>0</td></tr><tr><td>l1</td><td>0.20534</td></tr><tr><td>l2</td><td>159.74644</td></tr><tr><td>min_dag_threshold</td><td>0.50423</td></tr><tr><td>n_edges_min_dag</td><td>319</td></tr><tr><td>nll</td><td>1694.96134</td></tr><tr><td>val_rec_loss</td><td>1721.36523</td></tr></table><br/></div></div>"
      ],
      "text/plain": [
       "<IPython.core.display.HTML object>"
      ]
     },
     "metadata": {},
     "output_type": "display_data"
    },
    {
     "data": {
      "text/html": [
       " View run <strong style=\"color:#cdcd00\">SDCI</strong> at: <a href='https://wandb.ai/azizi-causal-perturb/SDCI_perturb_cite_seq/runs/s0ihn4zy' target=\"_blank\">https://wandb.ai/azizi-causal-perturb/SDCI_perturb_cite_seq/runs/s0ihn4zy</a><br/> View job at <a href='https://wandb.ai/azizi-causal-perturb/SDCI_perturb_cite_seq/jobs/QXJ0aWZhY3RDb2xsZWN0aW9uOjkyMTIyNTA4/version_details/v5' target=\"_blank\">https://wandb.ai/azizi-causal-perturb/SDCI_perturb_cite_seq/jobs/QXJ0aWZhY3RDb2xsZWN0aW9uOjkyMTIyNTA4/version_details/v5</a><br/>Synced 6 W&B file(s), 0 media file(s), 0 artifact file(s) and 0 other file(s)"
      ],
      "text/plain": [
       "<IPython.core.display.HTML object>"
      ]
     },
     "metadata": {},
     "output_type": "display_data"
    },
    {
     "data": {
      "text/html": [
       "Find logs at: <code>./wandb/run-20230823_121427-s0ihn4zy/logs</code>"
      ],
      "text/plain": [
       "<IPython.core.display.HTML object>"
      ]
     },
     "metadata": {},
     "output_type": "display_data"
    },
    {
     "name": "stderr",
     "output_type": "stream",
     "text": [
      "\u001b[34m\u001b[1mwandb\u001b[0m: Agent Starting Run: rz8l857l with config:\n",
      "\u001b[34m\u001b[1mwandb\u001b[0m: \tmax_gamma: 402.92698514993464\n",
      "\u001b[34m\u001b[1mwandb\u001b[0m: \tmv_flavor: nn\n",
      "\u001b[34m\u001b[1mwandb\u001b[0m: \ts1_alpha: 0.0005495843786141105\n",
      "\u001b[34m\u001b[1mwandb\u001b[0m: \ts1_beta: 2.5234937831259743e-05\n",
      "\u001b[34m\u001b[1mwandb\u001b[0m: \ts2_alpha: 2.3734338091786897e-05\n",
      "\u001b[34m\u001b[1mwandb\u001b[0m: \ts2_beta: 0.03171255980780661\n"
     ]
    },
    {
     "data": {
      "text/html": [
       "Tracking run with wandb version 0.15.8"
      ],
      "text/plain": [
       "<IPython.core.display.HTML object>"
      ]
     },
     "metadata": {},
     "output_type": "display_data"
    },
    {
     "data": {
      "text/html": [
       "Run data is saved locally in <code>/home/justinhong/causal-perturbseq/notebooks/wandb/run-20230823_125333-rz8l857l</code>"
      ],
      "text/plain": [
       "<IPython.core.display.HTML object>"
      ]
     },
     "metadata": {},
     "output_type": "display_data"
    },
    {
     "data": {
      "text/html": [
       "Syncing run <strong><a href='https://wandb.ai/azizi-causal-perturb/SDCI_perturb_cite_seq/runs/rz8l857l' target=\"_blank\">happy-sweep-19</a></strong> to <a href='https://wandb.ai/azizi-causal-perturb/SDCI_perturb_cite_seq' target=\"_blank\">Weights & Biases</a> (<a href='https://wandb.me/run' target=\"_blank\">docs</a>)<br/>Sweep page: <a href='https://wandb.ai/azizi-causal-perturb/SDCI_perturb_cite_seq/sweeps/c55u19ta' target=\"_blank\">https://wandb.ai/azizi-causal-perturb/SDCI_perturb_cite_seq/sweeps/c55u19ta</a>"
      ],
      "text/plain": [
       "<IPython.core.display.HTML object>"
      ]
     },
     "metadata": {},
     "output_type": "display_data"
    },
    {
     "data": {
      "text/html": [
       " View project at <a href='https://wandb.ai/azizi-causal-perturb/SDCI_perturb_cite_seq' target=\"_blank\">https://wandb.ai/azizi-causal-perturb/SDCI_perturb_cite_seq</a>"
      ],
      "text/plain": [
       "<IPython.core.display.HTML object>"
      ]
     },
     "metadata": {},
     "output_type": "display_data"
    },
    {
     "data": {
      "text/html": [
       " View sweep at <a href='https://wandb.ai/azizi-causal-perturb/SDCI_perturb_cite_seq/sweeps/c55u19ta' target=\"_blank\">https://wandb.ai/azizi-causal-perturb/SDCI_perturb_cite_seq/sweeps/c55u19ta</a>"
      ],
      "text/plain": [
       "<IPython.core.display.HTML object>"
      ]
     },
     "metadata": {},
     "output_type": "display_data"
    },
    {
     "data": {
      "text/html": [
       " View run at <a href='https://wandb.ai/azizi-causal-perturb/SDCI_perturb_cite_seq/runs/rz8l857l' target=\"_blank\">https://wandb.ai/azizi-causal-perturb/SDCI_perturb_cite_seq/runs/rz8l857l</a>"
      ],
      "text/plain": [
       "<IPython.core.display.HTML object>"
      ]
     },
     "metadata": {},
     "output_type": "display_data"
    },
    {
     "name": "stdout",
     "output_type": "stream",
     "text": [
      "Using cpu\n"
     ]
    },
    {
     "data": {
      "text/html": [
       "Waiting for W&B process to finish... <strong style=\"color:green\">(success).</strong>"
      ],
      "text/plain": [
       "<IPython.core.display.HTML object>"
      ]
     },
     "metadata": {},
     "output_type": "display_data"
    },
    {
     "data": {
      "text/html": [
       " View run <strong style=\"color:#cdcd00\">happy-sweep-19</strong> at: <a href='https://wandb.ai/azizi-causal-perturb/SDCI_perturb_cite_seq/runs/rz8l857l' target=\"_blank\">https://wandb.ai/azizi-causal-perturb/SDCI_perturb_cite_seq/runs/rz8l857l</a><br/> View job at <a href='https://wandb.ai/azizi-causal-perturb/SDCI_perturb_cite_seq/jobs/QXJ0aWZhY3RDb2xsZWN0aW9uOjkyMTIyNTA4/version_details/v6' target=\"_blank\">https://wandb.ai/azizi-causal-perturb/SDCI_perturb_cite_seq/jobs/QXJ0aWZhY3RDb2xsZWN0aW9uOjkyMTIyNTA4/version_details/v6</a><br/>Synced 6 W&B file(s), 0 media file(s), 0 artifact file(s) and 0 other file(s)"
      ],
      "text/plain": [
       "<IPython.core.display.HTML object>"
      ]
     },
     "metadata": {},
     "output_type": "display_data"
    },
    {
     "data": {
      "text/html": [
       "Find logs at: <code>./wandb/run-20230823_125333-rz8l857l/logs</code>"
      ],
      "text/plain": [
       "<IPython.core.display.HTML object>"
      ]
     },
     "metadata": {},
     "output_type": "display_data"
    },
    {
     "name": "stderr",
     "output_type": "stream",
     "text": [
      "\u001b[34m\u001b[1mwandb\u001b[0m: \u001b[33mWARNING\u001b[0m Ignored wandb.init() arg project when running a sweep.\n"
     ]
    },
    {
     "data": {
      "application/vnd.jupyter.widget-view+json": {
       "model_id": "5b8b1ac91e094b829981d4e636f94496",
       "version_major": 2,
       "version_minor": 0
      },
      "text/plain": [
       "VBox(children=(Label(value='Waiting for wandb.init()...\\r'), FloatProgress(value=0.016668393300157427, max=1.0…"
      ]
     },
     "metadata": {},
     "output_type": "display_data"
    },
    {
     "data": {
      "text/html": [
       "Tracking run with wandb version 0.15.8"
      ],
      "text/plain": [
       "<IPython.core.display.HTML object>"
      ]
     },
     "metadata": {},
     "output_type": "display_data"
    },
    {
     "data": {
      "text/html": [
       "Run data is saved locally in <code>/home/justinhong/causal-perturbseq/notebooks/wandb/run-20230823_125340-rz8l857l</code>"
      ],
      "text/plain": [
       "<IPython.core.display.HTML object>"
      ]
     },
     "metadata": {},
     "output_type": "display_data"
    },
    {
     "data": {
      "text/html": [
       "Syncing run <strong><a href='https://wandb.ai/azizi-causal-perturb/SDCI_perturb_cite_seq/runs/rz8l857l' target=\"_blank\">SDCI</a></strong> to <a href='https://wandb.ai/azizi-causal-perturb/SDCI_perturb_cite_seq' target=\"_blank\">Weights & Biases</a> (<a href='https://wandb.me/run' target=\"_blank\">docs</a>)<br/>Sweep page: <a href='https://wandb.ai/azizi-causal-perturb/SDCI_perturb_cite_seq/sweeps/c55u19ta' target=\"_blank\">https://wandb.ai/azizi-causal-perturb/SDCI_perturb_cite_seq/sweeps/c55u19ta</a>"
      ],
      "text/plain": [
       "<IPython.core.display.HTML object>"
      ]
     },
     "metadata": {},
     "output_type": "display_data"
    },
    {
     "data": {
      "text/html": [
       " View project at <a href='https://wandb.ai/azizi-causal-perturb/SDCI_perturb_cite_seq' target=\"_blank\">https://wandb.ai/azizi-causal-perturb/SDCI_perturb_cite_seq</a>"
      ],
      "text/plain": [
       "<IPython.core.display.HTML object>"
      ]
     },
     "metadata": {},
     "output_type": "display_data"
    },
    {
     "data": {
      "text/html": [
       " View sweep at <a href='https://wandb.ai/azizi-causal-perturb/SDCI_perturb_cite_seq/sweeps/c55u19ta' target=\"_blank\">https://wandb.ai/azizi-causal-perturb/SDCI_perturb_cite_seq/sweeps/c55u19ta</a>"
      ],
      "text/plain": [
       "<IPython.core.display.HTML object>"
      ]
     },
     "metadata": {},
     "output_type": "display_data"
    },
    {
     "data": {
      "text/html": [
       " View run at <a href='https://wandb.ai/azizi-causal-perturb/SDCI_perturb_cite_seq/runs/rz8l857l' target=\"_blank\">https://wandb.ai/azizi-causal-perturb/SDCI_perturb_cite_seq/runs/rz8l857l</a>"
      ],
      "text/plain": [
       "<IPython.core.display.HTML object>"
      ]
     },
     "metadata": {},
     "output_type": "display_data"
    },
    {
     "name": "stdout",
     "output_type": "stream",
     "text": [
      "Epoch 0: loss=2589.56, gamma=0.00\n",
      "Epoch 5: loss=1605.49, gamma=0.00\n",
      "Epoch 10: loss=1548.21, gamma=0.00\n",
      "Epoch 15: loss=1507.41, gamma=0.00\n",
      "Epoch 20: loss=1486.27, gamma=0.00\n",
      "Epoch 25: loss=1459.36, gamma=0.00\n",
      "Epoch 30: loss=1453.04, gamma=0.00\n",
      "Epoch 35: loss=1449.24, gamma=0.00\n",
      "Epoch 40: loss=1443.42, gamma=0.00\n",
      "Epoch 45: loss=1527.43, gamma=0.00\n",
      "Epoch 50: loss=1445.20, gamma=0.00\n",
      "Epoch 55: loss=1436.06, gamma=0.00\n",
      "Epoch 60: loss=1438.46, gamma=0.00\n",
      "Epoch 65: loss=1424.27, gamma=0.00\n",
      "Epoch 70: loss=1435.56, gamma=0.00\n",
      "Epoch 75: loss=1427.65, gamma=0.00\n",
      "Epoch 80: loss=1427.57, gamma=0.00\n",
      "Epoch 85: loss=1438.80, gamma=0.00\n",
      "Epoch 90: loss=1441.27, gamma=0.00\n",
      "Epoch 95: loss=1447.01, gamma=0.00\n",
      "Fraction of possible edges in mask: 0.10453885401957788\n",
      "Epoch 0: loss=2163.67, gamma=0.00\n",
      "Epoch 5: loss=1854.95, gamma=20.35\n",
      "Epoch 10: loss=1857.24, gamma=40.70\n",
      "Epoch 15: loss=1861.98, gamma=61.05\n",
      "Epoch 20: loss=1874.94, gamma=81.40\n",
      "Epoch 25: loss=1863.21, gamma=81.40\n",
      "Epoch 30: loss=1869.61, gamma=81.40\n",
      "Epoch 35: loss=1866.43, gamma=81.40\n",
      "Epoch 40: loss=1854.86, gamma=81.40\n",
      "Epoch 45: loss=1867.42, gamma=81.40\n",
      "Epoch 50: loss=1862.42, gamma=81.40\n",
      "Epoch 55: loss=1868.52, gamma=81.40\n",
      "Epoch 60: loss=1869.45, gamma=81.40\n",
      "Epoch 65: loss=1858.15, gamma=81.40\n",
      "Epoch 70: loss=1861.51, gamma=81.40\n",
      "Epoch 75: loss=1856.16, gamma=81.40\n",
      "Epoch 80: loss=1863.06, gamma=81.40\n",
      "Epoch 85: loss=1866.14, gamma=81.40\n",
      "Epoch 90: loss=1862.84, gamma=81.40\n",
      "Epoch 95: loss=1861.03, gamma=81.40\n",
      "Finished training in 2417.96199631691 seconds.\n"
     ]
    },
    {
     "data": {
      "text/html": [
       "Waiting for W&B process to finish... <strong style=\"color:green\">(success).</strong>"
      ],
      "text/plain": [
       "<IPython.core.display.HTML object>"
      ]
     },
     "metadata": {},
     "output_type": "display_data"
    },
    {
     "data": {
      "application/vnd.jupyter.widget-view+json": {
       "model_id": "3f40fc755cf841d89615f94ad6ed41f5",
       "version_major": 2,
       "version_minor": 0
      },
      "text/plain": [
       "VBox(children=(Label(value='0.009 MB of 0.016 MB uploaded (0.000 MB deduped)\\r'), FloatProgress(value=0.597530…"
      ]
     },
     "metadata": {},
     "output_type": "display_data"
    },
    {
     "data": {
      "text/html": [
       "<style>\n",
       "    table.wandb td:nth-child(1) { padding: 0 10px; text-align: left ; width: auto;} td:nth-child(2) {text-align: left ; width: 100%}\n",
       "    .wandb-row { display: flex; flex-direction: row; flex-wrap: wrap; justify-content: flex-start; width: 100% }\n",
       "    .wandb-col { display: flex; flex-direction: column; flex-basis: 100%; flex: 1; padding: 10px; }\n",
       "    </style>\n",
       "<div class=\"wandb-row\"><div class=\"wandb-col\"><h3>Run history:</h3><br/><table class=\"wandb\"><tr><td>alpha</td><td>████████████████████▁▁▁▁▁▁▁▁▁▁▁▁▁▁▁▁▁▁▁▁</td></tr><tr><td>dag</td><td>▁▁▁▁▁▁▁▁▁▁▁▁▁▁▁▁▁▁▁▁█▃▂▂▂▂▂▂▂▂▂▂▂▂▂▂▂▂▂▂</td></tr><tr><td>epoch</td><td>▁▁▁▂▂▂▂▂▂▃▃▃▃▃▄▄▄▄▄▄▅▅▅▅▅▅▆▆▆▆▆▇▇▇▇▇▇███</td></tr><tr><td>epoch_loss</td><td>█▂▂▁▁▁▁▁▁▂▁▁▁▁▁▁▁▁▁▁▅▄▄▄▄▄▄▄▄▄▄▄▄▄▄▄▄▄▄▄</td></tr><tr><td>gamma</td><td>▁▁▁▁▁▁▁▁▁▁▁▁▁▁▁▁▁▁▁▁▁▃▅▆████████████████</td></tr><tr><td>is_prescreen</td><td>████████████████████▁▁▁▁▁▁▁▁▁▁▁▁▁▁▁▁▁▁▁▁</td></tr><tr><td>l1</td><td>▃▅▆▆▆▇▇▇▇▇▇▇████████▁▁▁▁▁▁▁▁▁▁▁▁▁▁▁▁▁▁▁▁</td></tr><tr><td>l2</td><td>▁▁▁▁▁▁▁▁▁▁▁▁▁▁▁▁▁▁▁▁████▇███▇██████▇████</td></tr><tr><td>min_dag_threshold</td><td>▁</td></tr><tr><td>n_edges_min_dag</td><td>▁</td></tr><tr><td>nll</td><td>█▂▂▂▂▁▁▁▁▂▁▁▁▁▁▁▁▁▁▁▅▃▃▃▃▃▃▃▃▃▃▃▃▃▃▃▃▃▃▃</td></tr><tr><td>val_rec_loss</td><td>▁</td></tr></table><br/></div><div class=\"wandb-col\"><h3>Run summary:</h3><br/><table class=\"wandb\"><tr><td>alpha</td><td>2e-05</td></tr><tr><td>dag</td><td>0.2666</td></tr><tr><td>epoch</td><td>195</td></tr><tr><td>epoch_loss</td><td>1861.03064</td></tr><tr><td>gamma</td><td>81.39939</td></tr><tr><td>is_prescreen</td><td>0</td></tr><tr><td>l1</td><td>1.09282</td></tr><tr><td>l2</td><td>171.37743</td></tr><tr><td>min_dag_threshold</td><td>0.46468</td></tr><tr><td>n_edges_min_dag</td><td>616</td></tr><tr><td>nll</td><td>1666.85892</td></tr><tr><td>val_rec_loss</td><td>1701.76282</td></tr></table><br/></div></div>"
      ],
      "text/plain": [
       "<IPython.core.display.HTML object>"
      ]
     },
     "metadata": {},
     "output_type": "display_data"
    },
    {
     "data": {
      "text/html": [
       " View run <strong style=\"color:#cdcd00\">SDCI</strong> at: <a href='https://wandb.ai/azizi-causal-perturb/SDCI_perturb_cite_seq/runs/rz8l857l' target=\"_blank\">https://wandb.ai/azizi-causal-perturb/SDCI_perturb_cite_seq/runs/rz8l857l</a><br/> View job at <a href='https://wandb.ai/azizi-causal-perturb/SDCI_perturb_cite_seq/jobs/QXJ0aWZhY3RDb2xsZWN0aW9uOjkyMTIyNTA4/version_details/v5' target=\"_blank\">https://wandb.ai/azizi-causal-perturb/SDCI_perturb_cite_seq/jobs/QXJ0aWZhY3RDb2xsZWN0aW9uOjkyMTIyNTA4/version_details/v5</a><br/>Synced 6 W&B file(s), 0 media file(s), 0 artifact file(s) and 0 other file(s)"
      ],
      "text/plain": [
       "<IPython.core.display.HTML object>"
      ]
     },
     "metadata": {},
     "output_type": "display_data"
    },
    {
     "data": {
      "text/html": [
       "Find logs at: <code>./wandb/run-20230823_125340-rz8l857l/logs</code>"
      ],
      "text/plain": [
       "<IPython.core.display.HTML object>"
      ]
     },
     "metadata": {},
     "output_type": "display_data"
    },
    {
     "name": "stderr",
     "output_type": "stream",
     "text": [
      "\u001b[34m\u001b[1mwandb\u001b[0m: Agent Starting Run: jac469dp with config:\n",
      "\u001b[34m\u001b[1mwandb\u001b[0m: \tmax_gamma: 113.28231662351838\n",
      "\u001b[34m\u001b[1mwandb\u001b[0m: \tmv_flavor: nn\n",
      "\u001b[34m\u001b[1mwandb\u001b[0m: \ts1_alpha: 0.0010838231341493013\n",
      "\u001b[34m\u001b[1mwandb\u001b[0m: \ts1_beta: 0.0006353580069591618\n",
      "\u001b[34m\u001b[1mwandb\u001b[0m: \ts2_alpha: 3.850717548064476e-05\n",
      "\u001b[34m\u001b[1mwandb\u001b[0m: \ts2_beta: 0.0144955224084971\n"
     ]
    },
    {
     "data": {
      "text/html": [
       "Tracking run with wandb version 0.15.8"
      ],
      "text/plain": [
       "<IPython.core.display.HTML object>"
      ]
     },
     "metadata": {},
     "output_type": "display_data"
    },
    {
     "data": {
      "text/html": [
       "Run data is saved locally in <code>/home/justinhong/causal-perturbseq/notebooks/wandb/run-20230823_133410-jac469dp</code>"
      ],
      "text/plain": [
       "<IPython.core.display.HTML object>"
      ]
     },
     "metadata": {},
     "output_type": "display_data"
    },
    {
     "data": {
      "text/html": [
       "Syncing run <strong><a href='https://wandb.ai/azizi-causal-perturb/SDCI_perturb_cite_seq/runs/jac469dp' target=\"_blank\">devout-sweep-20</a></strong> to <a href='https://wandb.ai/azizi-causal-perturb/SDCI_perturb_cite_seq' target=\"_blank\">Weights & Biases</a> (<a href='https://wandb.me/run' target=\"_blank\">docs</a>)<br/>Sweep page: <a href='https://wandb.ai/azizi-causal-perturb/SDCI_perturb_cite_seq/sweeps/c55u19ta' target=\"_blank\">https://wandb.ai/azizi-causal-perturb/SDCI_perturb_cite_seq/sweeps/c55u19ta</a>"
      ],
      "text/plain": [
       "<IPython.core.display.HTML object>"
      ]
     },
     "metadata": {},
     "output_type": "display_data"
    },
    {
     "data": {
      "text/html": [
       " View project at <a href='https://wandb.ai/azizi-causal-perturb/SDCI_perturb_cite_seq' target=\"_blank\">https://wandb.ai/azizi-causal-perturb/SDCI_perturb_cite_seq</a>"
      ],
      "text/plain": [
       "<IPython.core.display.HTML object>"
      ]
     },
     "metadata": {},
     "output_type": "display_data"
    },
    {
     "data": {
      "text/html": [
       " View sweep at <a href='https://wandb.ai/azizi-causal-perturb/SDCI_perturb_cite_seq/sweeps/c55u19ta' target=\"_blank\">https://wandb.ai/azizi-causal-perturb/SDCI_perturb_cite_seq/sweeps/c55u19ta</a>"
      ],
      "text/plain": [
       "<IPython.core.display.HTML object>"
      ]
     },
     "metadata": {},
     "output_type": "display_data"
    },
    {
     "data": {
      "text/html": [
       " View run at <a href='https://wandb.ai/azizi-causal-perturb/SDCI_perturb_cite_seq/runs/jac469dp' target=\"_blank\">https://wandb.ai/azizi-causal-perturb/SDCI_perturb_cite_seq/runs/jac469dp</a>"
      ],
      "text/plain": [
       "<IPython.core.display.HTML object>"
      ]
     },
     "metadata": {},
     "output_type": "display_data"
    },
    {
     "name": "stdout",
     "output_type": "stream",
     "text": [
      "Using cpu\n"
     ]
    },
    {
     "data": {
      "text/html": [
       "Waiting for W&B process to finish... <strong style=\"color:green\">(success).</strong>"
      ],
      "text/plain": [
       "<IPython.core.display.HTML object>"
      ]
     },
     "metadata": {},
     "output_type": "display_data"
    },
    {
     "data": {
      "text/html": [
       " View run <strong style=\"color:#cdcd00\">devout-sweep-20</strong> at: <a href='https://wandb.ai/azizi-causal-perturb/SDCI_perturb_cite_seq/runs/jac469dp' target=\"_blank\">https://wandb.ai/azizi-causal-perturb/SDCI_perturb_cite_seq/runs/jac469dp</a><br/> View job at <a href='https://wandb.ai/azizi-causal-perturb/SDCI_perturb_cite_seq/jobs/QXJ0aWZhY3RDb2xsZWN0aW9uOjkyMTIyNTA4/version_details/v6' target=\"_blank\">https://wandb.ai/azizi-causal-perturb/SDCI_perturb_cite_seq/jobs/QXJ0aWZhY3RDb2xsZWN0aW9uOjkyMTIyNTA4/version_details/v6</a><br/>Synced 6 W&B file(s), 0 media file(s), 0 artifact file(s) and 0 other file(s)"
      ],
      "text/plain": [
       "<IPython.core.display.HTML object>"
      ]
     },
     "metadata": {},
     "output_type": "display_data"
    },
    {
     "data": {
      "text/html": [
       "Find logs at: <code>./wandb/run-20230823_133410-jac469dp/logs</code>"
      ],
      "text/plain": [
       "<IPython.core.display.HTML object>"
      ]
     },
     "metadata": {},
     "output_type": "display_data"
    },
    {
     "name": "stderr",
     "output_type": "stream",
     "text": [
      "\u001b[34m\u001b[1mwandb\u001b[0m: \u001b[33mWARNING\u001b[0m Ignored wandb.init() arg project when running a sweep.\n"
     ]
    },
    {
     "data": {
      "application/vnd.jupyter.widget-view+json": {
       "model_id": "61cdb540ea6c44f5b33ec67435658c41",
       "version_major": 2,
       "version_minor": 0
      },
      "text/plain": [
       "VBox(children=(Label(value='Waiting for wandb.init()...\\r'), FloatProgress(value=0.016668226166560392, max=1.0…"
      ]
     },
     "metadata": {},
     "output_type": "display_data"
    },
    {
     "data": {
      "text/html": [
       "Tracking run with wandb version 0.15.8"
      ],
      "text/plain": [
       "<IPython.core.display.HTML object>"
      ]
     },
     "metadata": {},
     "output_type": "display_data"
    },
    {
     "data": {
      "text/html": [
       "Run data is saved locally in <code>/home/justinhong/causal-perturbseq/notebooks/wandb/run-20230823_133417-jac469dp</code>"
      ],
      "text/plain": [
       "<IPython.core.display.HTML object>"
      ]
     },
     "metadata": {},
     "output_type": "display_data"
    },
    {
     "data": {
      "text/html": [
       "Syncing run <strong><a href='https://wandb.ai/azizi-causal-perturb/SDCI_perturb_cite_seq/runs/jac469dp' target=\"_blank\">SDCI</a></strong> to <a href='https://wandb.ai/azizi-causal-perturb/SDCI_perturb_cite_seq' target=\"_blank\">Weights & Biases</a> (<a href='https://wandb.me/run' target=\"_blank\">docs</a>)<br/>Sweep page: <a href='https://wandb.ai/azizi-causal-perturb/SDCI_perturb_cite_seq/sweeps/c55u19ta' target=\"_blank\">https://wandb.ai/azizi-causal-perturb/SDCI_perturb_cite_seq/sweeps/c55u19ta</a>"
      ],
      "text/plain": [
       "<IPython.core.display.HTML object>"
      ]
     },
     "metadata": {},
     "output_type": "display_data"
    },
    {
     "data": {
      "text/html": [
       " View project at <a href='https://wandb.ai/azizi-causal-perturb/SDCI_perturb_cite_seq' target=\"_blank\">https://wandb.ai/azizi-causal-perturb/SDCI_perturb_cite_seq</a>"
      ],
      "text/plain": [
       "<IPython.core.display.HTML object>"
      ]
     },
     "metadata": {},
     "output_type": "display_data"
    },
    {
     "data": {
      "text/html": [
       " View sweep at <a href='https://wandb.ai/azizi-causal-perturb/SDCI_perturb_cite_seq/sweeps/c55u19ta' target=\"_blank\">https://wandb.ai/azizi-causal-perturb/SDCI_perturb_cite_seq/sweeps/c55u19ta</a>"
      ],
      "text/plain": [
       "<IPython.core.display.HTML object>"
      ]
     },
     "metadata": {},
     "output_type": "display_data"
    },
    {
     "data": {
      "text/html": [
       " View run at <a href='https://wandb.ai/azizi-causal-perturb/SDCI_perturb_cite_seq/runs/jac469dp' target=\"_blank\">https://wandb.ai/azizi-causal-perturb/SDCI_perturb_cite_seq/runs/jac469dp</a>"
      ],
      "text/plain": [
       "<IPython.core.display.HTML object>"
      ]
     },
     "metadata": {},
     "output_type": "display_data"
    },
    {
     "name": "stdout",
     "output_type": "stream",
     "text": [
      "Epoch 0: loss=2568.74, gamma=0.00\n",
      "Epoch 5: loss=1660.76, gamma=0.00\n",
      "Epoch 10: loss=1623.69, gamma=0.00\n",
      "Epoch 15: loss=1613.62, gamma=0.00\n",
      "Epoch 20: loss=1602.34, gamma=0.00\n",
      "Epoch 25: loss=1594.21, gamma=0.00\n",
      "Epoch 30: loss=1598.80, gamma=0.00\n",
      "Epoch 35: loss=1594.77, gamma=0.00\n",
      "Epoch 40: loss=1595.27, gamma=0.00\n",
      "Epoch 45: loss=1612.90, gamma=0.00\n",
      "Epoch 50: loss=1599.04, gamma=0.00\n",
      "Epoch 55: loss=1599.20, gamma=0.00\n",
      "Epoch 60: loss=1601.09, gamma=0.00\n",
      "Epoch 65: loss=1608.46, gamma=0.00\n",
      "Epoch 70: loss=1603.92, gamma=0.00\n",
      "Epoch 75: loss=1609.50, gamma=0.00\n",
      "Epoch 80: loss=1604.40, gamma=0.00\n",
      "Epoch 85: loss=1612.56, gamma=0.00\n",
      "Epoch 90: loss=1603.24, gamma=0.00\n",
      "Epoch 95: loss=1609.56, gamma=0.00\n",
      "Fraction of possible edges in mask: 0.031473797269789404\n",
      "Epoch 0: loss=2052.94, gamma=0.00\n",
      "Epoch 5: loss=1765.24, gamma=5.72\n",
      "Epoch 10: loss=1770.46, gamma=11.44\n",
      "Epoch 15: loss=1773.95, gamma=17.16\n",
      "Epoch 20: loss=1773.76, gamma=22.89\n",
      "Epoch 25: loss=1766.56, gamma=28.61\n",
      "Epoch 30: loss=1777.89, gamma=34.33\n",
      "Epoch 35: loss=1782.97, gamma=40.05\n",
      "Epoch 40: loss=1785.04, gamma=45.77\n",
      "Epoch 45: loss=1783.06, gamma=51.49\n",
      "Epoch 50: loss=1778.54, gamma=57.21\n",
      "Epoch 55: loss=1785.23, gamma=62.93\n",
      "Epoch 60: loss=1776.67, gamma=68.66\n",
      "Epoch 65: loss=1778.25, gamma=74.38\n",
      "Epoch 70: loss=1780.82, gamma=80.10\n",
      "Epoch 75: loss=1777.67, gamma=80.10\n",
      "Epoch 80: loss=1781.84, gamma=80.10\n",
      "Epoch 85: loss=1776.92, gamma=80.10\n",
      "Epoch 90: loss=1780.84, gamma=80.10\n",
      "Epoch 95: loss=1780.42, gamma=80.10\n",
      "Finished training in 2327.934868335724 seconds.\n"
     ]
    },
    {
     "data": {
      "text/html": [
       "Waiting for W&B process to finish... <strong style=\"color:green\">(success).</strong>"
      ],
      "text/plain": [
       "<IPython.core.display.HTML object>"
      ]
     },
     "metadata": {},
     "output_type": "display_data"
    },
    {
     "data": {
      "application/vnd.jupyter.widget-view+json": {
       "model_id": "b47d765c44de41aca65fd170ca3dd86b",
       "version_major": 2,
       "version_minor": 0
      },
      "text/plain": [
       "VBox(children=(Label(value='0.009 MB of 0.017 MB uploaded (0.000 MB deduped)\\r'), FloatProgress(value=0.551988…"
      ]
     },
     "metadata": {},
     "output_type": "display_data"
    },
    {
     "data": {
      "text/html": [
       "<style>\n",
       "    table.wandb td:nth-child(1) { padding: 0 10px; text-align: left ; width: auto;} td:nth-child(2) {text-align: left ; width: 100%}\n",
       "    .wandb-row { display: flex; flex-direction: row; flex-wrap: wrap; justify-content: flex-start; width: 100% }\n",
       "    .wandb-col { display: flex; flex-direction: column; flex-basis: 100%; flex: 1; padding: 10px; }\n",
       "    </style>\n",
       "<div class=\"wandb-row\"><div class=\"wandb-col\"><h3>Run history:</h3><br/><table class=\"wandb\"><tr><td>alpha</td><td>████████████████████▁▁▁▁▁▁▁▁▁▁▁▁▁▁▁▁▁▁▁▁</td></tr><tr><td>dag</td><td>▁▁▁▁▁▁▁▁▁▁▁▁▁▁▁▁▁▁▁▁█▄▃▃▂▂▂▂▂▂▂▂▂▂▂▂▂▂▂▂</td></tr><tr><td>epoch</td><td>▁▁▁▂▂▂▂▂▂▃▃▃▃▃▄▄▄▄▄▄▅▅▅▅▅▅▆▆▆▆▆▇▇▇▇▇▇███</td></tr><tr><td>epoch_loss</td><td>█▁▁▁▁▁▁▁▁▁▁▁▁▁▁▁▁▁▁▁▄▂▂▂▂▂▂▂▂▂▂▂▂▂▂▂▂▂▂▂</td></tr><tr><td>gamma</td><td>▁▁▁▁▁▁▁▁▁▁▁▁▁▁▁▁▁▁▁▁▁▁▂▃▃▃▄▄▅▅▆▆▇███████</td></tr><tr><td>is_prescreen</td><td>████████████████████▁▁▁▁▁▁▁▁▁▁▁▁▁▁▁▁▁▁▁▁</td></tr><tr><td>l1</td><td>▄▆▇▇▇▇▇█████████████▁▁▁▁▁▁▁▁▁▁▁▁▁▁▁▁▁▁▁▁</td></tr><tr><td>l2</td><td>▁▁▁▂▂▂▂▂▂▂▂▂▂▂▂▂▂▂▂▂▆███████████████████</td></tr><tr><td>min_dag_threshold</td><td>▁</td></tr><tr><td>n_edges_min_dag</td><td>▁</td></tr><tr><td>nll</td><td>█▂▁▁▁▁▁▁▁▁▁▁▁▁▁▁▁▁▁▁▅▃▃▃▃▂▃▃▃▃▃▃▃▃▃▃▃▃▃▃</td></tr><tr><td>val_rec_loss</td><td>▁</td></tr></table><br/></div><div class=\"wandb-col\"><h3>Run summary:</h3><br/><table class=\"wandb\"><tr><td>alpha</td><td>4e-05</td></tr><tr><td>dag</td><td>0.20837</td></tr><tr><td>epoch</td><td>195</td></tr><tr><td>epoch_loss</td><td>1780.42182</td></tr><tr><td>gamma</td><td>80.09861</td></tr><tr><td>is_prescreen</td><td>0</td></tr><tr><td>l1</td><td>1.28189</td></tr><tr><td>l2</td><td>130.37527</td></tr><tr><td>min_dag_threshold</td><td>0.47715</td></tr><tr><td>n_edges_min_dag</td><td>3665</td></tr><tr><td>nll</td><td>1632.07444</td></tr><tr><td>val_rec_loss</td><td>1694.59265</td></tr></table><br/></div></div>"
      ],
      "text/plain": [
       "<IPython.core.display.HTML object>"
      ]
     },
     "metadata": {},
     "output_type": "display_data"
    },
    {
     "data": {
      "text/html": [
       " View run <strong style=\"color:#cdcd00\">SDCI</strong> at: <a href='https://wandb.ai/azizi-causal-perturb/SDCI_perturb_cite_seq/runs/jac469dp' target=\"_blank\">https://wandb.ai/azizi-causal-perturb/SDCI_perturb_cite_seq/runs/jac469dp</a><br/> View job at <a href='https://wandb.ai/azizi-causal-perturb/SDCI_perturb_cite_seq/jobs/QXJ0aWZhY3RDb2xsZWN0aW9uOjkyMTIyNTA4/version_details/v5' target=\"_blank\">https://wandb.ai/azizi-causal-perturb/SDCI_perturb_cite_seq/jobs/QXJ0aWZhY3RDb2xsZWN0aW9uOjkyMTIyNTA4/version_details/v5</a><br/>Synced 6 W&B file(s), 0 media file(s), 0 artifact file(s) and 0 other file(s)"
      ],
      "text/plain": [
       "<IPython.core.display.HTML object>"
      ]
     },
     "metadata": {},
     "output_type": "display_data"
    },
    {
     "data": {
      "text/html": [
       "Find logs at: <code>./wandb/run-20230823_133417-jac469dp/logs</code>"
      ],
      "text/plain": [
       "<IPython.core.display.HTML object>"
      ]
     },
     "metadata": {},
     "output_type": "display_data"
    },
    {
     "name": "stderr",
     "output_type": "stream",
     "text": [
      "\u001b[34m\u001b[1mwandb\u001b[0m: Sweep Agent: Waiting for job.\n",
      "\u001b[34m\u001b[1mwandb\u001b[0m: Job received.\n",
      "\u001b[34m\u001b[1mwandb\u001b[0m: Agent Starting Run: 02to0jjh with config:\n",
      "\u001b[34m\u001b[1mwandb\u001b[0m: \tmax_gamma: 550.6643734227673\n",
      "\u001b[34m\u001b[1mwandb\u001b[0m: \tmv_flavor: nn\n",
      "\u001b[34m\u001b[1mwandb\u001b[0m: \ts1_alpha: 0.00036202833126873935\n",
      "\u001b[34m\u001b[1mwandb\u001b[0m: \ts1_beta: 0.00013244359440484923\n",
      "\u001b[34m\u001b[1mwandb\u001b[0m: \ts2_alpha: 0.0001021447314594023\n",
      "\u001b[34m\u001b[1mwandb\u001b[0m: \ts2_beta: 0.06238442335414219\n",
      "\u001b[34m\u001b[1mwandb\u001b[0m: W&B API key is configured. Use \u001b[1m`wandb login --relogin`\u001b[0m to force relogin\n"
     ]
    },
    {
     "data": {
      "text/html": [
       "Tracking run with wandb version 0.15.8"
      ],
      "text/plain": [
       "<IPython.core.display.HTML object>"
      ]
     },
     "metadata": {},
     "output_type": "display_data"
    },
    {
     "data": {
      "text/html": [
       "Run data is saved locally in <code>/home/justinhong/causal-perturbseq/notebooks/wandb/run-20230823_141330-02to0jjh</code>"
      ],
      "text/plain": [
       "<IPython.core.display.HTML object>"
      ]
     },
     "metadata": {},
     "output_type": "display_data"
    },
    {
     "data": {
      "text/html": [
       "Syncing run <strong><a href='https://wandb.ai/azizi-causal-perturb/SDCI_perturb_cite_seq/runs/02to0jjh' target=\"_blank\">astral-sweep-21</a></strong> to <a href='https://wandb.ai/azizi-causal-perturb/SDCI_perturb_cite_seq' target=\"_blank\">Weights & Biases</a> (<a href='https://wandb.me/run' target=\"_blank\">docs</a>)<br/>Sweep page: <a href='https://wandb.ai/azizi-causal-perturb/SDCI_perturb_cite_seq/sweeps/c55u19ta' target=\"_blank\">https://wandb.ai/azizi-causal-perturb/SDCI_perturb_cite_seq/sweeps/c55u19ta</a>"
      ],
      "text/plain": [
       "<IPython.core.display.HTML object>"
      ]
     },
     "metadata": {},
     "output_type": "display_data"
    },
    {
     "data": {
      "text/html": [
       " View project at <a href='https://wandb.ai/azizi-causal-perturb/SDCI_perturb_cite_seq' target=\"_blank\">https://wandb.ai/azizi-causal-perturb/SDCI_perturb_cite_seq</a>"
      ],
      "text/plain": [
       "<IPython.core.display.HTML object>"
      ]
     },
     "metadata": {},
     "output_type": "display_data"
    },
    {
     "data": {
      "text/html": [
       " View sweep at <a href='https://wandb.ai/azizi-causal-perturb/SDCI_perturb_cite_seq/sweeps/c55u19ta' target=\"_blank\">https://wandb.ai/azizi-causal-perturb/SDCI_perturb_cite_seq/sweeps/c55u19ta</a>"
      ],
      "text/plain": [
       "<IPython.core.display.HTML object>"
      ]
     },
     "metadata": {},
     "output_type": "display_data"
    },
    {
     "data": {
      "text/html": [
       " View run at <a href='https://wandb.ai/azizi-causal-perturb/SDCI_perturb_cite_seq/runs/02to0jjh' target=\"_blank\">https://wandb.ai/azizi-causal-perturb/SDCI_perturb_cite_seq/runs/02to0jjh</a>"
      ],
      "text/plain": [
       "<IPython.core.display.HTML object>"
      ]
     },
     "metadata": {},
     "output_type": "display_data"
    },
    {
     "name": "stdout",
     "output_type": "stream",
     "text": [
      "Using cpu\n"
     ]
    },
    {
     "data": {
      "text/html": [
       "Waiting for W&B process to finish... <strong style=\"color:green\">(success).</strong>"
      ],
      "text/plain": [
       "<IPython.core.display.HTML object>"
      ]
     },
     "metadata": {},
     "output_type": "display_data"
    },
    {
     "data": {
      "text/html": [
       " View run <strong style=\"color:#cdcd00\">astral-sweep-21</strong> at: <a href='https://wandb.ai/azizi-causal-perturb/SDCI_perturb_cite_seq/runs/02to0jjh' target=\"_blank\">https://wandb.ai/azizi-causal-perturb/SDCI_perturb_cite_seq/runs/02to0jjh</a><br/> View job at <a href='https://wandb.ai/azizi-causal-perturb/SDCI_perturb_cite_seq/jobs/QXJ0aWZhY3RDb2xsZWN0aW9uOjkyMTIyNTA4/version_details/v6' target=\"_blank\">https://wandb.ai/azizi-causal-perturb/SDCI_perturb_cite_seq/jobs/QXJ0aWZhY3RDb2xsZWN0aW9uOjkyMTIyNTA4/version_details/v6</a><br/>Synced 6 W&B file(s), 0 media file(s), 0 artifact file(s) and 0 other file(s)"
      ],
      "text/plain": [
       "<IPython.core.display.HTML object>"
      ]
     },
     "metadata": {},
     "output_type": "display_data"
    },
    {
     "data": {
      "text/html": [
       "Find logs at: <code>./wandb/run-20230823_141330-02to0jjh/logs</code>"
      ],
      "text/plain": [
       "<IPython.core.display.HTML object>"
      ]
     },
     "metadata": {},
     "output_type": "display_data"
    },
    {
     "name": "stderr",
     "output_type": "stream",
     "text": [
      "\u001b[34m\u001b[1mwandb\u001b[0m: \u001b[33mWARNING\u001b[0m Ignored wandb.init() arg project when running a sweep.\n"
     ]
    },
    {
     "data": {
      "application/vnd.jupyter.widget-view+json": {
       "model_id": "ae46dc2572cc4a88956e4637fdf44c45",
       "version_major": 2,
       "version_minor": 0
      },
      "text/plain": [
       "VBox(children=(Label(value='Waiting for wandb.init()...\\r'), FloatProgress(value=0.016668131550007577, max=1.0…"
      ]
     },
     "metadata": {},
     "output_type": "display_data"
    },
    {
     "data": {
      "text/html": [
       "Tracking run with wandb version 0.15.8"
      ],
      "text/plain": [
       "<IPython.core.display.HTML object>"
      ]
     },
     "metadata": {},
     "output_type": "display_data"
    },
    {
     "data": {
      "text/html": [
       "Run data is saved locally in <code>/home/justinhong/causal-perturbseq/notebooks/wandb/run-20230823_141338-02to0jjh</code>"
      ],
      "text/plain": [
       "<IPython.core.display.HTML object>"
      ]
     },
     "metadata": {},
     "output_type": "display_data"
    },
    {
     "data": {
      "text/html": [
       "Syncing run <strong><a href='https://wandb.ai/azizi-causal-perturb/SDCI_perturb_cite_seq/runs/02to0jjh' target=\"_blank\">SDCI</a></strong> to <a href='https://wandb.ai/azizi-causal-perturb/SDCI_perturb_cite_seq' target=\"_blank\">Weights & Biases</a> (<a href='https://wandb.me/run' target=\"_blank\">docs</a>)<br/>Sweep page: <a href='https://wandb.ai/azizi-causal-perturb/SDCI_perturb_cite_seq/sweeps/c55u19ta' target=\"_blank\">https://wandb.ai/azizi-causal-perturb/SDCI_perturb_cite_seq/sweeps/c55u19ta</a>"
      ],
      "text/plain": [
       "<IPython.core.display.HTML object>"
      ]
     },
     "metadata": {},
     "output_type": "display_data"
    },
    {
     "data": {
      "text/html": [
       " View project at <a href='https://wandb.ai/azizi-causal-perturb/SDCI_perturb_cite_seq' target=\"_blank\">https://wandb.ai/azizi-causal-perturb/SDCI_perturb_cite_seq</a>"
      ],
      "text/plain": [
       "<IPython.core.display.HTML object>"
      ]
     },
     "metadata": {},
     "output_type": "display_data"
    },
    {
     "data": {
      "text/html": [
       " View sweep at <a href='https://wandb.ai/azizi-causal-perturb/SDCI_perturb_cite_seq/sweeps/c55u19ta' target=\"_blank\">https://wandb.ai/azizi-causal-perturb/SDCI_perturb_cite_seq/sweeps/c55u19ta</a>"
      ],
      "text/plain": [
       "<IPython.core.display.HTML object>"
      ]
     },
     "metadata": {},
     "output_type": "display_data"
    },
    {
     "data": {
      "text/html": [
       " View run at <a href='https://wandb.ai/azizi-causal-perturb/SDCI_perturb_cite_seq/runs/02to0jjh' target=\"_blank\">https://wandb.ai/azizi-causal-perturb/SDCI_perturb_cite_seq/runs/02to0jjh</a>"
      ],
      "text/plain": [
       "<IPython.core.display.HTML object>"
      ]
     },
     "metadata": {},
     "output_type": "display_data"
    },
    {
     "name": "stdout",
     "output_type": "stream",
     "text": [
      "Epoch 0: loss=2602.07, gamma=0.00\n",
      "Epoch 5: loss=1585.85, gamma=0.00\n",
      "Epoch 10: loss=1506.59, gamma=0.00\n",
      "Epoch 15: loss=1467.04, gamma=0.00\n",
      "Epoch 20: loss=1430.43, gamma=0.00\n",
      "Epoch 25: loss=1412.22, gamma=0.00\n",
      "Epoch 30: loss=1393.75, gamma=0.00\n",
      "Epoch 35: loss=1385.10, gamma=0.00\n",
      "Epoch 40: loss=1378.11, gamma=0.00\n",
      "Epoch 45: loss=1374.35, gamma=0.00\n",
      "Epoch 50: loss=1364.65, gamma=0.00\n",
      "Epoch 55: loss=1360.43, gamma=0.00\n",
      "Epoch 60: loss=1361.58, gamma=0.00\n",
      "Epoch 65: loss=1357.47, gamma=0.00\n",
      "Epoch 70: loss=1359.63, gamma=0.00\n",
      "Epoch 75: loss=1360.56, gamma=0.00\n",
      "Epoch 80: loss=1358.10, gamma=0.00\n",
      "Epoch 85: loss=1355.00, gamma=0.00\n",
      "Epoch 90: loss=1363.38, gamma=0.00\n",
      "Epoch 95: loss=1350.32, gamma=0.00\n",
      "Fraction of possible edges in mask: 0.16222321207117152\n",
      "Epoch 0: loss=2286.29, gamma=0.00\n",
      "Epoch 5: loss=1934.20, gamma=27.81\n",
      "Epoch 10: loss=1933.88, gamma=55.62\n",
      "Epoch 15: loss=1931.74, gamma=83.43\n",
      "Epoch 20: loss=1936.61, gamma=111.25\n",
      "Epoch 25: loss=1937.27, gamma=111.25\n",
      "Epoch 30: loss=1939.69, gamma=111.25\n",
      "Epoch 35: loss=1942.78, gamma=111.25\n",
      "Epoch 40: loss=1946.34, gamma=111.25\n",
      "Epoch 45: loss=1936.98, gamma=111.25\n",
      "Epoch 50: loss=1955.41, gamma=111.25\n",
      "Epoch 55: loss=1941.53, gamma=111.25\n",
      "Epoch 60: loss=1944.17, gamma=111.25\n",
      "Epoch 65: loss=1939.11, gamma=111.25\n",
      "Epoch 70: loss=1936.68, gamma=111.25\n",
      "Epoch 75: loss=1944.17, gamma=111.25\n",
      "Epoch 80: loss=1938.86, gamma=111.25\n",
      "Epoch 85: loss=1938.66, gamma=111.25\n",
      "Epoch 90: loss=1947.61, gamma=111.25\n",
      "Epoch 95: loss=1939.88, gamma=111.25\n",
      "Finished training in 2417.907054901123 seconds.\n"
     ]
    },
    {
     "data": {
      "text/html": [
       "Waiting for W&B process to finish... <strong style=\"color:green\">(success).</strong>"
      ],
      "text/plain": [
       "<IPython.core.display.HTML object>"
      ]
     },
     "metadata": {},
     "output_type": "display_data"
    },
    {
     "data": {
      "application/vnd.jupyter.widget-view+json": {
       "model_id": "820366769803429786596266059682a9",
       "version_major": 2,
       "version_minor": 0
      },
      "text/plain": [
       "VBox(children=(Label(value='0.009 MB of 0.009 MB uploaded (0.000 MB deduped)\\r'), FloatProgress(value=1.0, max…"
      ]
     },
     "metadata": {},
     "output_type": "display_data"
    },
    {
     "data": {
      "text/html": [
       "<style>\n",
       "    table.wandb td:nth-child(1) { padding: 0 10px; text-align: left ; width: auto;} td:nth-child(2) {text-align: left ; width: 100%}\n",
       "    .wandb-row { display: flex; flex-direction: row; flex-wrap: wrap; justify-content: flex-start; width: 100% }\n",
       "    .wandb-col { display: flex; flex-direction: column; flex-basis: 100%; flex: 1; padding: 10px; }\n",
       "    </style>\n",
       "<div class=\"wandb-row\"><div class=\"wandb-col\"><h3>Run history:</h3><br/><table class=\"wandb\"><tr><td>alpha</td><td>████████████████████▁▁▁▁▁▁▁▁▁▁▁▁▁▁▁▁▁▁▁▁</td></tr><tr><td>dag</td><td>▁▁▁▁▁▁▁▁▁▁▁▁▁▁▁▁▁▁▁▁█▂▂▂▂▂▂▂▂▂▂▂▂▂▂▂▂▂▂▂</td></tr><tr><td>epoch</td><td>▁▁▁▂▂▂▂▂▂▃▃▃▃▃▄▄▄▄▄▄▅▅▅▅▅▅▆▆▆▆▆▇▇▇▇▇▇███</td></tr><tr><td>epoch_loss</td><td>█▂▂▂▁▁▁▁▁▁▁▁▁▁▁▁▁▁▁▁▆▄▄▄▄▄▄▄▄▄▄▄▄▄▄▄▄▄▄▄</td></tr><tr><td>gamma</td><td>▁▁▁▁▁▁▁▁▁▁▁▁▁▁▁▁▁▁▁▁▁▃▅▆████████████████</td></tr><tr><td>is_prescreen</td><td>████████████████████▁▁▁▁▁▁▁▁▁▁▁▁▁▁▁▁▁▁▁▁</td></tr><tr><td>l1</td><td>▃▅▅▆▆▆▇▇▇▇▇▇▇███████▁▁▁▁▁▁▁▁▁▁▁▁▁▁▁▁▁▁▁▁</td></tr><tr><td>l2</td><td>▁▁▁▁▁▁▁▁▁▁▁▁▁▁▁▁▁▁▁▁█▆▆▆▆▆▆▆▆▆▆▆▆▆▆▆▆▆▆▆</td></tr><tr><td>min_dag_threshold</td><td>▁</td></tr><tr><td>n_edges_min_dag</td><td>▁</td></tr><tr><td>nll</td><td>█▃▂▂▂▂▁▁▁▁▁▁▁▁▁▁▁▁▁▁▅▄▄▄▄▄▄▄▄▄▄▄▄▄▄▄▄▄▄▄</td></tr><tr><td>val_rec_loss</td><td>▁</td></tr></table><br/></div><div class=\"wandb-col\"><h3>Run summary:</h3><br/><table class=\"wandb\"><tr><td>alpha</td><td>0.0001</td></tr><tr><td>dag</td><td>0.1909</td></tr><tr><td>epoch</td><td>195</td></tr><tr><td>epoch_loss</td><td>1939.88243</td></tr><tr><td>gamma</td><td>111.24533</td></tr><tr><td>is_prescreen</td><td>0</td></tr><tr><td>l1</td><td>4.2258</td></tr><tr><td>l2</td><td>188.47032</td></tr><tr><td>min_dag_threshold</td><td>0.42756</td></tr><tr><td>n_edges_min_dag</td><td>95</td></tr><tr><td>nll</td><td>1725.94978</td></tr><tr><td>val_rec_loss</td><td>1745.55615</td></tr></table><br/></div></div>"
      ],
      "text/plain": [
       "<IPython.core.display.HTML object>"
      ]
     },
     "metadata": {},
     "output_type": "display_data"
    },
    {
     "data": {
      "text/html": [
       " View run <strong style=\"color:#cdcd00\">SDCI</strong> at: <a href='https://wandb.ai/azizi-causal-perturb/SDCI_perturb_cite_seq/runs/02to0jjh' target=\"_blank\">https://wandb.ai/azizi-causal-perturb/SDCI_perturb_cite_seq/runs/02to0jjh</a><br/> View job at <a href='https://wandb.ai/azizi-causal-perturb/SDCI_perturb_cite_seq/jobs/QXJ0aWZhY3RDb2xsZWN0aW9uOjkyMTIyNTA4/version_details/v5' target=\"_blank\">https://wandb.ai/azizi-causal-perturb/SDCI_perturb_cite_seq/jobs/QXJ0aWZhY3RDb2xsZWN0aW9uOjkyMTIyNTA4/version_details/v5</a><br/>Synced 6 W&B file(s), 0 media file(s), 0 artifact file(s) and 0 other file(s)"
      ],
      "text/plain": [
       "<IPython.core.display.HTML object>"
      ]
     },
     "metadata": {},
     "output_type": "display_data"
    },
    {
     "data": {
      "text/html": [
       "Find logs at: <code>./wandb/run-20230823_141338-02to0jjh/logs</code>"
      ],
      "text/plain": [
       "<IPython.core.display.HTML object>"
      ]
     },
     "metadata": {},
     "output_type": "display_data"
    },
    {
     "name": "stderr",
     "output_type": "stream",
     "text": [
      "\u001b[34m\u001b[1mwandb\u001b[0m: Agent Starting Run: mwhkda91 with config:\n",
      "\u001b[34m\u001b[1mwandb\u001b[0m: \tmax_gamma: 823.4816832901289\n",
      "\u001b[34m\u001b[1mwandb\u001b[0m: \tmv_flavor: nn\n",
      "\u001b[34m\u001b[1mwandb\u001b[0m: \ts1_alpha: 0.0011316913410376202\n",
      "\u001b[34m\u001b[1mwandb\u001b[0m: \ts1_beta: 2.050114940872295e-05\n",
      "\u001b[34m\u001b[1mwandb\u001b[0m: \ts2_alpha: 1.2243951558967965e-05\n",
      "\u001b[34m\u001b[1mwandb\u001b[0m: \ts2_beta: 0.009309430673225172\n"
     ]
    },
    {
     "data": {
      "text/html": [
       "Tracking run with wandb version 0.15.8"
      ],
      "text/plain": [
       "<IPython.core.display.HTML object>"
      ]
     },
     "metadata": {},
     "output_type": "display_data"
    },
    {
     "data": {
      "text/html": [
       "Run data is saved locally in <code>/home/justinhong/causal-perturbseq/notebooks/wandb/run-20230823_145410-mwhkda91</code>"
      ],
      "text/plain": [
       "<IPython.core.display.HTML object>"
      ]
     },
     "metadata": {},
     "output_type": "display_data"
    },
    {
     "data": {
      "text/html": [
       "Syncing run <strong><a href='https://wandb.ai/azizi-causal-perturb/SDCI_perturb_cite_seq/runs/mwhkda91' target=\"_blank\">upbeat-sweep-22</a></strong> to <a href='https://wandb.ai/azizi-causal-perturb/SDCI_perturb_cite_seq' target=\"_blank\">Weights & Biases</a> (<a href='https://wandb.me/run' target=\"_blank\">docs</a>)<br/>Sweep page: <a href='https://wandb.ai/azizi-causal-perturb/SDCI_perturb_cite_seq/sweeps/c55u19ta' target=\"_blank\">https://wandb.ai/azizi-causal-perturb/SDCI_perturb_cite_seq/sweeps/c55u19ta</a>"
      ],
      "text/plain": [
       "<IPython.core.display.HTML object>"
      ]
     },
     "metadata": {},
     "output_type": "display_data"
    },
    {
     "data": {
      "text/html": [
       " View project at <a href='https://wandb.ai/azizi-causal-perturb/SDCI_perturb_cite_seq' target=\"_blank\">https://wandb.ai/azizi-causal-perturb/SDCI_perturb_cite_seq</a>"
      ],
      "text/plain": [
       "<IPython.core.display.HTML object>"
      ]
     },
     "metadata": {},
     "output_type": "display_data"
    },
    {
     "data": {
      "text/html": [
       " View sweep at <a href='https://wandb.ai/azizi-causal-perturb/SDCI_perturb_cite_seq/sweeps/c55u19ta' target=\"_blank\">https://wandb.ai/azizi-causal-perturb/SDCI_perturb_cite_seq/sweeps/c55u19ta</a>"
      ],
      "text/plain": [
       "<IPython.core.display.HTML object>"
      ]
     },
     "metadata": {},
     "output_type": "display_data"
    },
    {
     "data": {
      "text/html": [
       " View run at <a href='https://wandb.ai/azizi-causal-perturb/SDCI_perturb_cite_seq/runs/mwhkda91' target=\"_blank\">https://wandb.ai/azizi-causal-perturb/SDCI_perturb_cite_seq/runs/mwhkda91</a>"
      ],
      "text/plain": [
       "<IPython.core.display.HTML object>"
      ]
     },
     "metadata": {},
     "output_type": "display_data"
    },
    {
     "name": "stdout",
     "output_type": "stream",
     "text": [
      "Using cpu\n"
     ]
    },
    {
     "data": {
      "text/html": [
       "Waiting for W&B process to finish... <strong style=\"color:green\">(success).</strong>"
      ],
      "text/plain": [
       "<IPython.core.display.HTML object>"
      ]
     },
     "metadata": {},
     "output_type": "display_data"
    },
    {
     "data": {
      "text/html": [
       " View run <strong style=\"color:#cdcd00\">upbeat-sweep-22</strong> at: <a href='https://wandb.ai/azizi-causal-perturb/SDCI_perturb_cite_seq/runs/mwhkda91' target=\"_blank\">https://wandb.ai/azizi-causal-perturb/SDCI_perturb_cite_seq/runs/mwhkda91</a><br/> View job at <a href='https://wandb.ai/azizi-causal-perturb/SDCI_perturb_cite_seq/jobs/QXJ0aWZhY3RDb2xsZWN0aW9uOjkyMTIyNTA4/version_details/v6' target=\"_blank\">https://wandb.ai/azizi-causal-perturb/SDCI_perturb_cite_seq/jobs/QXJ0aWZhY3RDb2xsZWN0aW9uOjkyMTIyNTA4/version_details/v6</a><br/>Synced 6 W&B file(s), 0 media file(s), 0 artifact file(s) and 0 other file(s)"
      ],
      "text/plain": [
       "<IPython.core.display.HTML object>"
      ]
     },
     "metadata": {},
     "output_type": "display_data"
    },
    {
     "data": {
      "text/html": [
       "Find logs at: <code>./wandb/run-20230823_145410-mwhkda91/logs</code>"
      ],
      "text/plain": [
       "<IPython.core.display.HTML object>"
      ]
     },
     "metadata": {},
     "output_type": "display_data"
    },
    {
     "name": "stderr",
     "output_type": "stream",
     "text": [
      "\u001b[34m\u001b[1mwandb\u001b[0m: \u001b[33mWARNING\u001b[0m Ignored wandb.init() arg project when running a sweep.\n"
     ]
    },
    {
     "data": {
      "application/vnd.jupyter.widget-view+json": {
       "model_id": "3378267c6790449aab42c10c790fecd2",
       "version_major": 2,
       "version_minor": 0
      },
      "text/plain": [
       "VBox(children=(Label(value='Waiting for wandb.init()...\\r'), FloatProgress(value=0.01666808683318474, max=1.0)…"
      ]
     },
     "metadata": {},
     "output_type": "display_data"
    },
    {
     "data": {
      "text/html": [
       "Tracking run with wandb version 0.15.8"
      ],
      "text/plain": [
       "<IPython.core.display.HTML object>"
      ]
     },
     "metadata": {},
     "output_type": "display_data"
    },
    {
     "data": {
      "text/html": [
       "Run data is saved locally in <code>/home/justinhong/causal-perturbseq/notebooks/wandb/run-20230823_145417-mwhkda91</code>"
      ],
      "text/plain": [
       "<IPython.core.display.HTML object>"
      ]
     },
     "metadata": {},
     "output_type": "display_data"
    },
    {
     "data": {
      "text/html": [
       "Syncing run <strong><a href='https://wandb.ai/azizi-causal-perturb/SDCI_perturb_cite_seq/runs/mwhkda91' target=\"_blank\">SDCI</a></strong> to <a href='https://wandb.ai/azizi-causal-perturb/SDCI_perturb_cite_seq' target=\"_blank\">Weights & Biases</a> (<a href='https://wandb.me/run' target=\"_blank\">docs</a>)<br/>Sweep page: <a href='https://wandb.ai/azizi-causal-perturb/SDCI_perturb_cite_seq/sweeps/c55u19ta' target=\"_blank\">https://wandb.ai/azizi-causal-perturb/SDCI_perturb_cite_seq/sweeps/c55u19ta</a>"
      ],
      "text/plain": [
       "<IPython.core.display.HTML object>"
      ]
     },
     "metadata": {},
     "output_type": "display_data"
    },
    {
     "data": {
      "text/html": [
       " View project at <a href='https://wandb.ai/azizi-causal-perturb/SDCI_perturb_cite_seq' target=\"_blank\">https://wandb.ai/azizi-causal-perturb/SDCI_perturb_cite_seq</a>"
      ],
      "text/plain": [
       "<IPython.core.display.HTML object>"
      ]
     },
     "metadata": {},
     "output_type": "display_data"
    },
    {
     "data": {
      "text/html": [
       " View sweep at <a href='https://wandb.ai/azizi-causal-perturb/SDCI_perturb_cite_seq/sweeps/c55u19ta' target=\"_blank\">https://wandb.ai/azizi-causal-perturb/SDCI_perturb_cite_seq/sweeps/c55u19ta</a>"
      ],
      "text/plain": [
       "<IPython.core.display.HTML object>"
      ]
     },
     "metadata": {},
     "output_type": "display_data"
    },
    {
     "data": {
      "text/html": [
       " View run at <a href='https://wandb.ai/azizi-causal-perturb/SDCI_perturb_cite_seq/runs/mwhkda91' target=\"_blank\">https://wandb.ai/azizi-causal-perturb/SDCI_perturb_cite_seq/runs/mwhkda91</a>"
      ],
      "text/plain": [
       "<IPython.core.display.HTML object>"
      ]
     },
     "metadata": {},
     "output_type": "display_data"
    },
    {
     "name": "stdout",
     "output_type": "stream",
     "text": [
      "Epoch 0: loss=2586.72, gamma=0.00\n",
      "Epoch 5: loss=1666.00, gamma=0.00\n",
      "Epoch 10: loss=1625.23, gamma=0.00\n",
      "Epoch 15: loss=1604.40, gamma=0.00\n",
      "Epoch 20: loss=1604.15, gamma=0.00\n",
      "Epoch 25: loss=1588.51, gamma=0.00\n",
      "Epoch 30: loss=1586.90, gamma=0.00\n",
      "Epoch 35: loss=1582.39, gamma=0.00\n",
      "Epoch 40: loss=1583.18, gamma=0.00\n",
      "Epoch 45: loss=1587.13, gamma=0.00\n",
      "Epoch 50: loss=1593.56, gamma=0.00\n",
      "Epoch 55: loss=1594.81, gamma=0.00\n",
      "Epoch 60: loss=1596.90, gamma=0.00\n",
      "Epoch 65: loss=1599.18, gamma=0.00\n",
      "Epoch 70: loss=1599.68, gamma=0.00\n",
      "Epoch 75: loss=1614.14, gamma=0.00\n",
      "Epoch 80: loss=1607.74, gamma=0.00\n",
      "Epoch 85: loss=1615.36, gamma=0.00\n",
      "Epoch 90: loss=1615.92, gamma=0.00\n",
      "Epoch 95: loss=1620.73, gamma=0.00\n",
      "Fraction of possible edges in mask: 0.03505947045671169\n",
      "Epoch 0: loss=2042.12, gamma=0.00\n",
      "Epoch 5: loss=1749.83, gamma=41.59\n",
      "Epoch 10: loss=1753.82, gamma=83.18\n",
      "Epoch 15: loss=1767.75, gamma=124.77\n",
      "Epoch 20: loss=1773.66, gamma=166.36\n",
      "Epoch 25: loss=1763.92, gamma=166.36\n",
      "Epoch 30: loss=1776.25, gamma=166.36\n",
      "Epoch 35: loss=1773.26, gamma=166.36\n",
      "Epoch 40: loss=1764.39, gamma=166.36\n",
      "Epoch 45: loss=1763.07, gamma=166.36\n",
      "Epoch 50: loss=1773.40, gamma=166.36\n",
      "Epoch 55: loss=1761.12, gamma=166.36\n",
      "Epoch 60: loss=1757.47, gamma=166.36\n",
      "Epoch 65: loss=1764.72, gamma=166.36\n",
      "Epoch 70: loss=1763.56, gamma=166.36\n",
      "Epoch 75: loss=1765.76, gamma=166.36\n",
      "Epoch 80: loss=1760.98, gamma=166.36\n",
      "Epoch 85: loss=1757.45, gamma=166.36\n",
      "Epoch 90: loss=1773.32, gamma=166.36\n",
      "Epoch 95: loss=1760.16, gamma=166.36\n",
      "Finished training in 2338.2536301612854 seconds.\n"
     ]
    },
    {
     "data": {
      "text/html": [
       "Waiting for W&B process to finish... <strong style=\"color:green\">(success).</strong>"
      ],
      "text/plain": [
       "<IPython.core.display.HTML object>"
      ]
     },
     "metadata": {},
     "output_type": "display_data"
    },
    {
     "data": {
      "application/vnd.jupyter.widget-view+json": {
       "model_id": "71c874610d2540b0882241c7dd491d36",
       "version_major": 2,
       "version_minor": 0
      },
      "text/plain": [
       "VBox(children=(Label(value='0.009 MB of 0.009 MB uploaded (0.000 MB deduped)\\r'), FloatProgress(value=1.0, max…"
      ]
     },
     "metadata": {},
     "output_type": "display_data"
    },
    {
     "data": {
      "text/html": [
       "<style>\n",
       "    table.wandb td:nth-child(1) { padding: 0 10px; text-align: left ; width: auto;} td:nth-child(2) {text-align: left ; width: 100%}\n",
       "    .wandb-row { display: flex; flex-direction: row; flex-wrap: wrap; justify-content: flex-start; width: 100% }\n",
       "    .wandb-col { display: flex; flex-direction: column; flex-basis: 100%; flex: 1; padding: 10px; }\n",
       "    </style>\n",
       "<div class=\"wandb-row\"><div class=\"wandb-col\"><h3>Run history:</h3><br/><table class=\"wandb\"><tr><td>alpha</td><td>████████████████████▁▁▁▁▁▁▁▁▁▁▁▁▁▁▁▁▁▁▁▁</td></tr><tr><td>dag</td><td>▁▁▁▁▁▁▁▁▁▁▁▁▁▁▁▁▁▁▁▁█▂▂▁▁▁▁▁▁▁▁▁▁▁▁▁▁▁▁▁</td></tr><tr><td>epoch</td><td>▁▁▁▂▂▂▂▂▂▃▃▃▃▃▄▄▄▄▄▄▅▅▅▅▅▅▆▆▆▆▆▇▇▇▇▇▇███</td></tr><tr><td>epoch_loss</td><td>█▂▁▁▁▁▁▁▁▁▁▁▁▁▁▁▁▁▁▁▄▂▂▂▂▂▂▂▂▂▂▂▂▂▂▂▂▂▂▂</td></tr><tr><td>gamma</td><td>▁▁▁▁▁▁▁▁▁▁▁▁▁▁▁▁▁▁▁▁▁▃▅▆████████████████</td></tr><tr><td>is_prescreen</td><td>████████████████████▁▁▁▁▁▁▁▁▁▁▁▁▁▁▁▁▁▁▁▁</td></tr><tr><td>l1</td><td>▄▆▆▇▇▇▇▇████████████▁▁▁▁▁▁▁▁▁▁▁▁▁▁▁▁▁▁▁▁</td></tr><tr><td>l2</td><td>▁▁▁▁▁▁▁▁▁▁▁▁▁▁▁▁▁▁▁▁▅███████████████████</td></tr><tr><td>min_dag_threshold</td><td>▁</td></tr><tr><td>n_edges_min_dag</td><td>▁</td></tr><tr><td>nll</td><td>█▂▁▁▁▁▁▁▁▁▁▁▁▁▁▁▁▁▁▁▅▂▂▃▃▂▃▃▂▂▃▂▂▂▂▂▂▂▃▂</td></tr><tr><td>val_rec_loss</td><td>▁</td></tr></table><br/></div><div class=\"wandb-col\"><h3>Run summary:</h3><br/><table class=\"wandb\"><tr><td>alpha</td><td>1e-05</td></tr><tr><td>dag</td><td>0.13707</td></tr><tr><td>epoch</td><td>195</td></tr><tr><td>epoch_loss</td><td>1760.15598</td></tr><tr><td>gamma</td><td>166.35994</td></tr><tr><td>is_prescreen</td><td>0</td></tr><tr><td>l1</td><td>0.48338</td></tr><tr><td>l2</td><td>115.12058</td></tr><tr><td>min_dag_threshold</td><td>0.41357</td></tr><tr><td>n_edges_min_dag</td><td>9034</td></tr><tr><td>nll</td><td>1621.74981</td></tr><tr><td>val_rec_loss</td><td>1678.22742</td></tr></table><br/></div></div>"
      ],
      "text/plain": [
       "<IPython.core.display.HTML object>"
      ]
     },
     "metadata": {},
     "output_type": "display_data"
    },
    {
     "data": {
      "text/html": [
       " View run <strong style=\"color:#cdcd00\">SDCI</strong> at: <a href='https://wandb.ai/azizi-causal-perturb/SDCI_perturb_cite_seq/runs/mwhkda91' target=\"_blank\">https://wandb.ai/azizi-causal-perturb/SDCI_perturb_cite_seq/runs/mwhkda91</a><br/> View job at <a href='https://wandb.ai/azizi-causal-perturb/SDCI_perturb_cite_seq/jobs/QXJ0aWZhY3RDb2xsZWN0aW9uOjkyMTIyNTA4/version_details/v5' target=\"_blank\">https://wandb.ai/azizi-causal-perturb/SDCI_perturb_cite_seq/jobs/QXJ0aWZhY3RDb2xsZWN0aW9uOjkyMTIyNTA4/version_details/v5</a><br/>Synced 6 W&B file(s), 0 media file(s), 0 artifact file(s) and 0 other file(s)"
      ],
      "text/plain": [
       "<IPython.core.display.HTML object>"
      ]
     },
     "metadata": {},
     "output_type": "display_data"
    },
    {
     "data": {
      "text/html": [
       "Find logs at: <code>./wandb/run-20230823_145417-mwhkda91/logs</code>"
      ],
      "text/plain": [
       "<IPython.core.display.HTML object>"
      ]
     },
     "metadata": {},
     "output_type": "display_data"
    },
    {
     "name": "stderr",
     "output_type": "stream",
     "text": [
      "\u001b[34m\u001b[1mwandb\u001b[0m: Agent Starting Run: jtot6d1x with config:\n",
      "\u001b[34m\u001b[1mwandb\u001b[0m: \tmax_gamma: 781.8636584170466\n",
      "\u001b[34m\u001b[1mwandb\u001b[0m: \tmv_flavor: nn\n",
      "\u001b[34m\u001b[1mwandb\u001b[0m: \ts1_alpha: 0.00250379396522531\n",
      "\u001b[34m\u001b[1mwandb\u001b[0m: \ts1_beta: 1.5190388810681324e-05\n",
      "\u001b[34m\u001b[1mwandb\u001b[0m: \ts2_alpha: 6.195452509393702e-05\n",
      "\u001b[34m\u001b[1mwandb\u001b[0m: \ts2_beta: 0.07308963748069325\n"
     ]
    },
    {
     "data": {
      "text/html": [
       "Tracking run with wandb version 0.15.8"
      ],
      "text/plain": [
       "<IPython.core.display.HTML object>"
      ]
     },
     "metadata": {},
     "output_type": "display_data"
    },
    {
     "data": {
      "text/html": [
       "Run data is saved locally in <code>/home/justinhong/causal-perturbseq/notebooks/wandb/run-20230823_153330-jtot6d1x</code>"
      ],
      "text/plain": [
       "<IPython.core.display.HTML object>"
      ]
     },
     "metadata": {},
     "output_type": "display_data"
    },
    {
     "data": {
      "text/html": [
       "Syncing run <strong><a href='https://wandb.ai/azizi-causal-perturb/SDCI_perturb_cite_seq/runs/jtot6d1x' target=\"_blank\">woven-sweep-23</a></strong> to <a href='https://wandb.ai/azizi-causal-perturb/SDCI_perturb_cite_seq' target=\"_blank\">Weights & Biases</a> (<a href='https://wandb.me/run' target=\"_blank\">docs</a>)<br/>Sweep page: <a href='https://wandb.ai/azizi-causal-perturb/SDCI_perturb_cite_seq/sweeps/c55u19ta' target=\"_blank\">https://wandb.ai/azizi-causal-perturb/SDCI_perturb_cite_seq/sweeps/c55u19ta</a>"
      ],
      "text/plain": [
       "<IPython.core.display.HTML object>"
      ]
     },
     "metadata": {},
     "output_type": "display_data"
    },
    {
     "data": {
      "text/html": [
       " View project at <a href='https://wandb.ai/azizi-causal-perturb/SDCI_perturb_cite_seq' target=\"_blank\">https://wandb.ai/azizi-causal-perturb/SDCI_perturb_cite_seq</a>"
      ],
      "text/plain": [
       "<IPython.core.display.HTML object>"
      ]
     },
     "metadata": {},
     "output_type": "display_data"
    },
    {
     "data": {
      "text/html": [
       " View sweep at <a href='https://wandb.ai/azizi-causal-perturb/SDCI_perturb_cite_seq/sweeps/c55u19ta' target=\"_blank\">https://wandb.ai/azizi-causal-perturb/SDCI_perturb_cite_seq/sweeps/c55u19ta</a>"
      ],
      "text/plain": [
       "<IPython.core.display.HTML object>"
      ]
     },
     "metadata": {},
     "output_type": "display_data"
    },
    {
     "data": {
      "text/html": [
       " View run at <a href='https://wandb.ai/azizi-causal-perturb/SDCI_perturb_cite_seq/runs/jtot6d1x' target=\"_blank\">https://wandb.ai/azizi-causal-perturb/SDCI_perturb_cite_seq/runs/jtot6d1x</a>"
      ],
      "text/plain": [
       "<IPython.core.display.HTML object>"
      ]
     },
     "metadata": {},
     "output_type": "display_data"
    },
    {
     "name": "stdout",
     "output_type": "stream",
     "text": [
      "Using cpu\n"
     ]
    },
    {
     "data": {
      "text/html": [
       "Waiting for W&B process to finish... <strong style=\"color:green\">(success).</strong>"
      ],
      "text/plain": [
       "<IPython.core.display.HTML object>"
      ]
     },
     "metadata": {},
     "output_type": "display_data"
    },
    {
     "data": {
      "text/html": [
       " View run <strong style=\"color:#cdcd00\">woven-sweep-23</strong> at: <a href='https://wandb.ai/azizi-causal-perturb/SDCI_perturb_cite_seq/runs/jtot6d1x' target=\"_blank\">https://wandb.ai/azizi-causal-perturb/SDCI_perturb_cite_seq/runs/jtot6d1x</a><br/> View job at <a href='https://wandb.ai/azizi-causal-perturb/SDCI_perturb_cite_seq/jobs/QXJ0aWZhY3RDb2xsZWN0aW9uOjkyMTIyNTA4/version_details/v6' target=\"_blank\">https://wandb.ai/azizi-causal-perturb/SDCI_perturb_cite_seq/jobs/QXJ0aWZhY3RDb2xsZWN0aW9uOjkyMTIyNTA4/version_details/v6</a><br/>Synced 6 W&B file(s), 0 media file(s), 0 artifact file(s) and 0 other file(s)"
      ],
      "text/plain": [
       "<IPython.core.display.HTML object>"
      ]
     },
     "metadata": {},
     "output_type": "display_data"
    },
    {
     "data": {
      "text/html": [
       "Find logs at: <code>./wandb/run-20230823_153330-jtot6d1x/logs</code>"
      ],
      "text/plain": [
       "<IPython.core.display.HTML object>"
      ]
     },
     "metadata": {},
     "output_type": "display_data"
    },
    {
     "name": "stderr",
     "output_type": "stream",
     "text": [
      "\u001b[34m\u001b[1mwandb\u001b[0m: \u001b[33mWARNING\u001b[0m Ignored wandb.init() arg project when running a sweep.\n"
     ]
    },
    {
     "data": {
      "application/vnd.jupyter.widget-view+json": {
       "model_id": "47b620d86dee477a8e5ef47b98519466",
       "version_major": 2,
       "version_minor": 0
      },
      "text/plain": [
       "VBox(children=(Label(value='Waiting for wandb.init()...\\r'), FloatProgress(value=0.01666868783334697, max=1.0)…"
      ]
     },
     "metadata": {},
     "output_type": "display_data"
    },
    {
     "data": {
      "text/html": [
       "Tracking run with wandb version 0.15.8"
      ],
      "text/plain": [
       "<IPython.core.display.HTML object>"
      ]
     },
     "metadata": {},
     "output_type": "display_data"
    },
    {
     "data": {
      "text/html": [
       "Run data is saved locally in <code>/home/justinhong/causal-perturbseq/notebooks/wandb/run-20230823_153338-jtot6d1x</code>"
      ],
      "text/plain": [
       "<IPython.core.display.HTML object>"
      ]
     },
     "metadata": {},
     "output_type": "display_data"
    },
    {
     "data": {
      "text/html": [
       "Syncing run <strong><a href='https://wandb.ai/azizi-causal-perturb/SDCI_perturb_cite_seq/runs/jtot6d1x' target=\"_blank\">SDCI</a></strong> to <a href='https://wandb.ai/azizi-causal-perturb/SDCI_perturb_cite_seq' target=\"_blank\">Weights & Biases</a> (<a href='https://wandb.me/run' target=\"_blank\">docs</a>)<br/>Sweep page: <a href='https://wandb.ai/azizi-causal-perturb/SDCI_perturb_cite_seq/sweeps/c55u19ta' target=\"_blank\">https://wandb.ai/azizi-causal-perturb/SDCI_perturb_cite_seq/sweeps/c55u19ta</a>"
      ],
      "text/plain": [
       "<IPython.core.display.HTML object>"
      ]
     },
     "metadata": {},
     "output_type": "display_data"
    },
    {
     "data": {
      "text/html": [
       " View project at <a href='https://wandb.ai/azizi-causal-perturb/SDCI_perturb_cite_seq' target=\"_blank\">https://wandb.ai/azizi-causal-perturb/SDCI_perturb_cite_seq</a>"
      ],
      "text/plain": [
       "<IPython.core.display.HTML object>"
      ]
     },
     "metadata": {},
     "output_type": "display_data"
    },
    {
     "data": {
      "text/html": [
       " View sweep at <a href='https://wandb.ai/azizi-causal-perturb/SDCI_perturb_cite_seq/sweeps/c55u19ta' target=\"_blank\">https://wandb.ai/azizi-causal-perturb/SDCI_perturb_cite_seq/sweeps/c55u19ta</a>"
      ],
      "text/plain": [
       "<IPython.core.display.HTML object>"
      ]
     },
     "metadata": {},
     "output_type": "display_data"
    },
    {
     "data": {
      "text/html": [
       " View run at <a href='https://wandb.ai/azizi-causal-perturb/SDCI_perturb_cite_seq/runs/jtot6d1x' target=\"_blank\">https://wandb.ai/azizi-causal-perturb/SDCI_perturb_cite_seq/runs/jtot6d1x</a>"
      ],
      "text/plain": [
       "<IPython.core.display.HTML object>"
      ]
     },
     "metadata": {},
     "output_type": "display_data"
    },
    {
     "name": "stdout",
     "output_type": "stream",
     "text": [
      "Epoch 0: loss=2603.43, gamma=0.00\n",
      "Epoch 5: loss=1745.48, gamma=0.00\n",
      "Epoch 10: loss=1739.02, gamma=0.00\n",
      "Epoch 15: loss=1710.35, gamma=0.00\n",
      "Epoch 20: loss=1709.45, gamma=0.00\n",
      "Epoch 25: loss=1707.27, gamma=0.00\n",
      "Epoch 30: loss=1708.27, gamma=0.00\n",
      "Epoch 35: loss=1718.61, gamma=0.00\n",
      "Epoch 40: loss=1711.08, gamma=0.00\n",
      "Epoch 45: loss=1717.64, gamma=0.00\n",
      "Epoch 50: loss=1733.25, gamma=0.00\n",
      "Epoch 55: loss=1730.48, gamma=0.00\n",
      "Epoch 60: loss=1732.08, gamma=0.00\n",
      "Epoch 65: loss=1732.07, gamma=0.00\n",
      "Epoch 70: loss=1729.36, gamma=0.00\n",
      "Epoch 75: loss=1733.86, gamma=0.00\n",
      "Epoch 80: loss=1727.45, gamma=0.00\n",
      "Epoch 85: loss=1733.35, gamma=0.00\n",
      "Epoch 90: loss=1739.07, gamma=0.00\n",
      "Epoch 95: loss=1736.67, gamma=0.00\n",
      "Fraction of possible edges in mask: 0.007663761828259913\n",
      "Epoch 0: loss=2222.37, gamma=0.00\n",
      "Epoch 5: loss=1932.78, gamma=39.49\n",
      "Epoch 10: loss=1936.42, gamma=78.98\n",
      "Epoch 15: loss=1932.02, gamma=118.46\n",
      "Epoch 20: loss=1934.17, gamma=118.46\n",
      "Epoch 25: loss=1936.67, gamma=118.46\n",
      "Epoch 30: loss=1935.70, gamma=118.46\n",
      "Epoch 35: loss=1938.46, gamma=118.46\n",
      "Epoch 40: loss=1932.90, gamma=118.46\n",
      "Epoch 45: loss=1940.12, gamma=118.46\n",
      "Epoch 50: loss=1940.32, gamma=118.46\n",
      "Epoch 55: loss=1938.38, gamma=118.46\n",
      "Epoch 60: loss=1932.64, gamma=118.46\n",
      "Epoch 65: loss=1939.76, gamma=118.46\n",
      "Epoch 70: loss=1935.12, gamma=118.46\n",
      "Epoch 75: loss=1939.80, gamma=118.46\n",
      "Epoch 80: loss=1939.04, gamma=118.46\n",
      "Epoch 85: loss=1940.57, gamma=118.46\n",
      "Epoch 90: loss=1935.10, gamma=118.46\n",
      "Epoch 95: loss=1942.09, gamma=118.46\n",
      "Finished training in 2335.9235076904297 seconds.\n"
     ]
    },
    {
     "data": {
      "text/html": [
       "Waiting for W&B process to finish... <strong style=\"color:green\">(success).</strong>"
      ],
      "text/plain": [
       "<IPython.core.display.HTML object>"
      ]
     },
     "metadata": {},
     "output_type": "display_data"
    },
    {
     "data": {
      "application/vnd.jupyter.widget-view+json": {
       "model_id": "cbcc8bf591364ba5b473c5f444cabdab",
       "version_major": 2,
       "version_minor": 0
      },
      "text/plain": [
       "VBox(children=(Label(value='0.009 MB of 0.021 MB uploaded (0.000 MB deduped)\\r'), FloatProgress(value=0.453287…"
      ]
     },
     "metadata": {},
     "output_type": "display_data"
    },
    {
     "data": {
      "text/html": [
       "<style>\n",
       "    table.wandb td:nth-child(1) { padding: 0 10px; text-align: left ; width: auto;} td:nth-child(2) {text-align: left ; width: 100%}\n",
       "    .wandb-row { display: flex; flex-direction: row; flex-wrap: wrap; justify-content: flex-start; width: 100% }\n",
       "    .wandb-col { display: flex; flex-direction: column; flex-basis: 100%; flex: 1; padding: 10px; }\n",
       "    </style>\n",
       "<div class=\"wandb-row\"><div class=\"wandb-col\"><h3>Run history:</h3><br/><table class=\"wandb\"><tr><td>alpha</td><td>████████████████████▁▁▁▁▁▁▁▁▁▁▁▁▁▁▁▁▁▁▁▁</td></tr><tr><td>dag</td><td>▁▁▁▁▁▁▁▁▁▁▁▁▁▁▁▁▁▁▁▁█▂▁▁▁▁▁▁▁▁▁▁▁▁▁▁▁▁▁▁</td></tr><tr><td>epoch</td><td>▁▁▁▂▂▂▂▂▂▃▃▃▃▃▄▄▄▄▄▄▅▅▅▅▅▅▆▆▆▆▆▇▇▇▇▇▇███</td></tr><tr><td>epoch_loss</td><td>█▁▁▁▁▁▁▁▁▁▁▁▁▁▁▁▁▁▁▁▅▃▃▃▃▃▃▃▃▃▃▃▃▃▃▃▃▃▃▃</td></tr><tr><td>gamma</td><td>▁▁▁▁▁▁▁▁▁▁▁▁▁▁▁▁▁▁▁▁▁▃▆█████████████████</td></tr><tr><td>is_prescreen</td><td>████████████████████▁▁▁▁▁▁▁▁▁▁▁▁▁▁▁▁▁▁▁▁</td></tr><tr><td>l1</td><td>▅▆▇▇▇███████████████▁▁▁▁▁▁▁▁▁▁▁▁▁▁▁▁▁▁▁▁</td></tr><tr><td>l2</td><td>▁▁▁▁▁▁▁▁▁▁▁▁▁▁▁▁▁▁▁▁█▇▇▇▇▇▇▇▇▇▇▇▇▇▇▇▇▇▇▇</td></tr><tr><td>min_dag_threshold</td><td>▁</td></tr><tr><td>n_edges_min_dag</td><td>▁</td></tr><tr><td>nll</td><td>█▂▁▁▁▁▁▁▁▁▁▁▁▁▁▁▁▁▁▁▅▃▃▃▃▃▃▃▃▃▃▃▃▃▃▃▃▃▃▃</td></tr><tr><td>val_rec_loss</td><td>▁</td></tr></table><br/></div><div class=\"wandb-col\"><h3>Run summary:</h3><br/><table class=\"wandb\"><tr><td>alpha</td><td>6e-05</td></tr><tr><td>dag</td><td>0.05561</td></tr><tr><td>epoch</td><td>195</td></tr><tr><td>epoch_loss</td><td>1942.08581</td></tr><tr><td>gamma</td><td>118.46419</td></tr><tr><td>is_prescreen</td><td>0</td></tr><tr><td>l1</td><td>0.48184</td></tr><tr><td>l2</td><td>175.24546</td></tr><tr><td>min_dag_threshold</td><td>0.25195</td></tr><tr><td>n_edges_min_dag</td><td>2429</td></tr><tr><td>nll</td><td>1759.77046</td></tr><tr><td>val_rec_loss</td><td>1771.59924</td></tr></table><br/></div></div>"
      ],
      "text/plain": [
       "<IPython.core.display.HTML object>"
      ]
     },
     "metadata": {},
     "output_type": "display_data"
    },
    {
     "data": {
      "text/html": [
       " View run <strong style=\"color:#cdcd00\">SDCI</strong> at: <a href='https://wandb.ai/azizi-causal-perturb/SDCI_perturb_cite_seq/runs/jtot6d1x' target=\"_blank\">https://wandb.ai/azizi-causal-perturb/SDCI_perturb_cite_seq/runs/jtot6d1x</a><br/> View job at <a href='https://wandb.ai/azizi-causal-perturb/SDCI_perturb_cite_seq/jobs/QXJ0aWZhY3RDb2xsZWN0aW9uOjkyMTIyNTA4/version_details/v5' target=\"_blank\">https://wandb.ai/azizi-causal-perturb/SDCI_perturb_cite_seq/jobs/QXJ0aWZhY3RDb2xsZWN0aW9uOjkyMTIyNTA4/version_details/v5</a><br/>Synced 6 W&B file(s), 0 media file(s), 0 artifact file(s) and 0 other file(s)"
      ],
      "text/plain": [
       "<IPython.core.display.HTML object>"
      ]
     },
     "metadata": {},
     "output_type": "display_data"
    },
    {
     "data": {
      "text/html": [
       "Find logs at: <code>./wandb/run-20230823_153338-jtot6d1x/logs</code>"
      ],
      "text/plain": [
       "<IPython.core.display.HTML object>"
      ]
     },
     "metadata": {},
     "output_type": "display_data"
    },
    {
     "name": "stderr",
     "output_type": "stream",
     "text": [
      "\u001b[34m\u001b[1mwandb\u001b[0m: Agent Starting Run: v0evv4rl with config:\n",
      "\u001b[34m\u001b[1mwandb\u001b[0m: \tmax_gamma: 788.5012912260496\n",
      "\u001b[34m\u001b[1mwandb\u001b[0m: \tmv_flavor: nn\n",
      "\u001b[34m\u001b[1mwandb\u001b[0m: \ts1_alpha: 0.0001521174327874298\n",
      "\u001b[34m\u001b[1mwandb\u001b[0m: \ts1_beta: 1.9629115357268193e-05\n",
      "\u001b[34m\u001b[1mwandb\u001b[0m: \ts2_alpha: 4.915065785584007e-05\n",
      "\u001b[34m\u001b[1mwandb\u001b[0m: \ts2_beta: 0.0058967113188155545\n"
     ]
    },
    {
     "data": {
      "text/html": [
       "Tracking run with wandb version 0.15.8"
      ],
      "text/plain": [
       "<IPython.core.display.HTML object>"
      ]
     },
     "metadata": {},
     "output_type": "display_data"
    },
    {
     "data": {
      "text/html": [
       "Run data is saved locally in <code>/home/justinhong/causal-perturbseq/notebooks/wandb/run-20230823_161248-v0evv4rl</code>"
      ],
      "text/plain": [
       "<IPython.core.display.HTML object>"
      ]
     },
     "metadata": {},
     "output_type": "display_data"
    },
    {
     "data": {
      "text/html": [
       "Syncing run <strong><a href='https://wandb.ai/azizi-causal-perturb/SDCI_perturb_cite_seq/runs/v0evv4rl' target=\"_blank\">good-sweep-24</a></strong> to <a href='https://wandb.ai/azizi-causal-perturb/SDCI_perturb_cite_seq' target=\"_blank\">Weights & Biases</a> (<a href='https://wandb.me/run' target=\"_blank\">docs</a>)<br/>Sweep page: <a href='https://wandb.ai/azizi-causal-perturb/SDCI_perturb_cite_seq/sweeps/c55u19ta' target=\"_blank\">https://wandb.ai/azizi-causal-perturb/SDCI_perturb_cite_seq/sweeps/c55u19ta</a>"
      ],
      "text/plain": [
       "<IPython.core.display.HTML object>"
      ]
     },
     "metadata": {},
     "output_type": "display_data"
    },
    {
     "data": {
      "text/html": [
       " View project at <a href='https://wandb.ai/azizi-causal-perturb/SDCI_perturb_cite_seq' target=\"_blank\">https://wandb.ai/azizi-causal-perturb/SDCI_perturb_cite_seq</a>"
      ],
      "text/plain": [
       "<IPython.core.display.HTML object>"
      ]
     },
     "metadata": {},
     "output_type": "display_data"
    },
    {
     "data": {
      "text/html": [
       " View sweep at <a href='https://wandb.ai/azizi-causal-perturb/SDCI_perturb_cite_seq/sweeps/c55u19ta' target=\"_blank\">https://wandb.ai/azizi-causal-perturb/SDCI_perturb_cite_seq/sweeps/c55u19ta</a>"
      ],
      "text/plain": [
       "<IPython.core.display.HTML object>"
      ]
     },
     "metadata": {},
     "output_type": "display_data"
    },
    {
     "data": {
      "text/html": [
       " View run at <a href='https://wandb.ai/azizi-causal-perturb/SDCI_perturb_cite_seq/runs/v0evv4rl' target=\"_blank\">https://wandb.ai/azizi-causal-perturb/SDCI_perturb_cite_seq/runs/v0evv4rl</a>"
      ],
      "text/plain": [
       "<IPython.core.display.HTML object>"
      ]
     },
     "metadata": {},
     "output_type": "display_data"
    },
    {
     "name": "stdout",
     "output_type": "stream",
     "text": [
      "Using cpu\n"
     ]
    },
    {
     "data": {
      "text/html": [
       "Waiting for W&B process to finish... <strong style=\"color:green\">(success).</strong>"
      ],
      "text/plain": [
       "<IPython.core.display.HTML object>"
      ]
     },
     "metadata": {},
     "output_type": "display_data"
    },
    {
     "data": {
      "text/html": [
       " View run <strong style=\"color:#cdcd00\">good-sweep-24</strong> at: <a href='https://wandb.ai/azizi-causal-perturb/SDCI_perturb_cite_seq/runs/v0evv4rl' target=\"_blank\">https://wandb.ai/azizi-causal-perturb/SDCI_perturb_cite_seq/runs/v0evv4rl</a><br/> View job at <a href='https://wandb.ai/azizi-causal-perturb/SDCI_perturb_cite_seq/jobs/QXJ0aWZhY3RDb2xsZWN0aW9uOjkyMTIyNTA4/version_details/v6' target=\"_blank\">https://wandb.ai/azizi-causal-perturb/SDCI_perturb_cite_seq/jobs/QXJ0aWZhY3RDb2xsZWN0aW9uOjkyMTIyNTA4/version_details/v6</a><br/>Synced 6 W&B file(s), 0 media file(s), 0 artifact file(s) and 0 other file(s)"
      ],
      "text/plain": [
       "<IPython.core.display.HTML object>"
      ]
     },
     "metadata": {},
     "output_type": "display_data"
    },
    {
     "data": {
      "text/html": [
       "Find logs at: <code>./wandb/run-20230823_161248-v0evv4rl/logs</code>"
      ],
      "text/plain": [
       "<IPython.core.display.HTML object>"
      ]
     },
     "metadata": {},
     "output_type": "display_data"
    },
    {
     "name": "stderr",
     "output_type": "stream",
     "text": [
      "\u001b[34m\u001b[1mwandb\u001b[0m: \u001b[33mWARNING\u001b[0m Ignored wandb.init() arg project when running a sweep.\n"
     ]
    },
    {
     "data": {
      "application/vnd.jupyter.widget-view+json": {
       "model_id": "3f0562b162424896a09e2034ace59b9f",
       "version_major": 2,
       "version_minor": 0
      },
      "text/plain": [
       "VBox(children=(Label(value='Waiting for wandb.init()...\\r'), FloatProgress(value=0.016668109583163945, max=1.0…"
      ]
     },
     "metadata": {},
     "output_type": "display_data"
    },
    {
     "data": {
      "text/html": [
       "Tracking run with wandb version 0.15.8"
      ],
      "text/plain": [
       "<IPython.core.display.HTML object>"
      ]
     },
     "metadata": {},
     "output_type": "display_data"
    },
    {
     "data": {
      "text/html": [
       "Run data is saved locally in <code>/home/justinhong/causal-perturbseq/notebooks/wandb/run-20230823_161357-v0evv4rl</code>"
      ],
      "text/plain": [
       "<IPython.core.display.HTML object>"
      ]
     },
     "metadata": {},
     "output_type": "display_data"
    },
    {
     "data": {
      "text/html": [
       "Syncing run <strong><a href='https://wandb.ai/azizi-causal-perturb/SDCI_perturb_cite_seq/runs/v0evv4rl' target=\"_blank\">SDCI</a></strong> to <a href='https://wandb.ai/azizi-causal-perturb/SDCI_perturb_cite_seq' target=\"_blank\">Weights & Biases</a> (<a href='https://wandb.me/run' target=\"_blank\">docs</a>)<br/>Sweep page: <a href='https://wandb.ai/azizi-causal-perturb/SDCI_perturb_cite_seq/sweeps/c55u19ta' target=\"_blank\">https://wandb.ai/azizi-causal-perturb/SDCI_perturb_cite_seq/sweeps/c55u19ta</a>"
      ],
      "text/plain": [
       "<IPython.core.display.HTML object>"
      ]
     },
     "metadata": {},
     "output_type": "display_data"
    },
    {
     "data": {
      "text/html": [
       " View project at <a href='https://wandb.ai/azizi-causal-perturb/SDCI_perturb_cite_seq' target=\"_blank\">https://wandb.ai/azizi-causal-perturb/SDCI_perturb_cite_seq</a>"
      ],
      "text/plain": [
       "<IPython.core.display.HTML object>"
      ]
     },
     "metadata": {},
     "output_type": "display_data"
    },
    {
     "data": {
      "text/html": [
       " View sweep at <a href='https://wandb.ai/azizi-causal-perturb/SDCI_perturb_cite_seq/sweeps/c55u19ta' target=\"_blank\">https://wandb.ai/azizi-causal-perturb/SDCI_perturb_cite_seq/sweeps/c55u19ta</a>"
      ],
      "text/plain": [
       "<IPython.core.display.HTML object>"
      ]
     },
     "metadata": {},
     "output_type": "display_data"
    },
    {
     "data": {
      "text/html": [
       " View run at <a href='https://wandb.ai/azizi-causal-perturb/SDCI_perturb_cite_seq/runs/v0evv4rl' target=\"_blank\">https://wandb.ai/azizi-causal-perturb/SDCI_perturb_cite_seq/runs/v0evv4rl</a>"
      ],
      "text/plain": [
       "<IPython.core.display.HTML object>"
      ]
     },
     "metadata": {},
     "output_type": "display_data"
    },
    {
     "name": "stdout",
     "output_type": "stream",
     "text": [
      "Epoch 0: loss=2562.72, gamma=0.00\n",
      "Epoch 5: loss=1551.51, gamma=0.00\n",
      "Epoch 10: loss=1447.75, gamma=0.00\n",
      "Epoch 15: loss=1385.96, gamma=0.00\n",
      "Epoch 20: loss=1337.06, gamma=0.00\n",
      "Epoch 25: loss=1303.06, gamma=0.00\n",
      "Epoch 30: loss=1271.99, gamma=0.00\n",
      "Epoch 35: loss=1254.63, gamma=0.00\n",
      "Epoch 40: loss=1236.33, gamma=0.00\n",
      "Epoch 45: loss=1222.99, gamma=0.00\n",
      "Epoch 50: loss=1207.96, gamma=0.00\n",
      "Epoch 55: loss=1204.39, gamma=0.00\n",
      "Epoch 60: loss=1191.77, gamma=0.00\n",
      "Epoch 65: loss=1190.78, gamma=0.00\n",
      "Epoch 70: loss=1182.83, gamma=0.00\n",
      "Epoch 75: loss=1185.46, gamma=0.00\n",
      "Epoch 80: loss=1170.36, gamma=0.00\n",
      "Epoch 85: loss=1168.90, gamma=0.00\n",
      "Epoch 90: loss=1160.68, gamma=0.00\n",
      "Epoch 95: loss=1157.12, gamma=0.00\n",
      "Fraction of possible edges in mask: 0.4162181691833151\n",
      "Epoch 0: loss=2241.35, gamma=0.00\n",
      "Epoch 5: loss=1866.27, gamma=39.82\n",
      "Epoch 10: loss=1893.37, gamma=79.65\n"
     ]
    },
    {
     "name": "stderr",
     "output_type": "stream",
     "text": [
      "\u001b[34m\u001b[1mwandb\u001b[0m: Ctrl + C detected. Stopping sweep.\n"
     ]
    }
   ],
   "source": [
    "import wandb\n",
    "wandb.login()\n",
    "\n",
    "sweep_id = wandb.sweep(sweep=sweep_configuration, project=\"SDCI_perturb_cite_seq\")\n",
    "wandb.agent(sweep_id, function=run_sdci)"
   ]
  },
  {
   "cell_type": "markdown",
   "id": "d1b196a0-a2da-44e5-9c63-1fecca074c30",
   "metadata": {},
   "source": [
    "## Final Run"
   ]
  },
  {
   "cell_type": "code",
   "execution_count": 7,
   "id": "8f9184c6-9e07-4999-94bc-415711030a2e",
   "metadata": {},
   "outputs": [
    {
     "name": "stdout",
     "output_type": "stream",
     "text": [
      "Using cpu\n"
     ]
    },
    {
     "name": "stderr",
     "output_type": "stream",
     "text": [
      "\u001b[34m\u001b[1mwandb\u001b[0m: Currently logged in as: \u001b[33mjustinhong\u001b[0m (\u001b[33mazizi-causal-perturb\u001b[0m). Use \u001b[1m`wandb login --relogin`\u001b[0m to force relogin\n"
     ]
    },
    {
     "data": {
      "text/html": [
       "Tracking run with wandb version 0.15.8"
      ],
      "text/plain": [
       "<IPython.core.display.HTML object>"
      ]
     },
     "metadata": {},
     "output_type": "display_data"
    },
    {
     "data": {
      "text/html": [
       "Run data is saved locally in <code>/home/justinhong/causal-perturbseq/notebooks/wandb/run-20230823_165031-eewukzb0</code>"
      ],
      "text/plain": [
       "<IPython.core.display.HTML object>"
      ]
     },
     "metadata": {},
     "output_type": "display_data"
    },
    {
     "data": {
      "text/html": [
       "Syncing run <strong><a href='https://wandb.ai/azizi-causal-perturb/SDCI/runs/eewukzb0' target=\"_blank\">SDCI</a></strong> to <a href='https://wandb.ai/azizi-causal-perturb/SDCI' target=\"_blank\">Weights & Biases</a> (<a href='https://wandb.me/run' target=\"_blank\">docs</a>)<br/>"
      ],
      "text/plain": [
       "<IPython.core.display.HTML object>"
      ]
     },
     "metadata": {},
     "output_type": "display_data"
    },
    {
     "data": {
      "text/html": [
       " View project at <a href='https://wandb.ai/azizi-causal-perturb/SDCI' target=\"_blank\">https://wandb.ai/azizi-causal-perturb/SDCI</a>"
      ],
      "text/plain": [
       "<IPython.core.display.HTML object>"
      ]
     },
     "metadata": {},
     "output_type": "display_data"
    },
    {
     "data": {
      "text/html": [
       " View run at <a href='https://wandb.ai/azizi-causal-perturb/SDCI/runs/eewukzb0' target=\"_blank\">https://wandb.ai/azizi-causal-perturb/SDCI/runs/eewukzb0</a>"
      ],
      "text/plain": [
       "<IPython.core.display.HTML object>"
      ]
     },
     "metadata": {},
     "output_type": "display_data"
    },
    {
     "name": "stdout",
     "output_type": "stream",
     "text": [
      "Epoch 0: loss=2568.90, gamma=0.00\n",
      "Epoch 5: loss=1589.86, gamma=0.00\n",
      "Epoch 10: loss=1518.75, gamma=0.00\n",
      "Epoch 15: loss=1484.07, gamma=0.00\n",
      "Epoch 20: loss=1456.98, gamma=0.00\n",
      "Epoch 25: loss=1440.65, gamma=0.00\n",
      "Epoch 30: loss=1425.02, gamma=0.00\n",
      "Epoch 35: loss=1412.95, gamma=0.00\n",
      "Epoch 40: loss=1400.56, gamma=0.00\n",
      "Epoch 45: loss=1393.00, gamma=0.00\n",
      "Epoch 50: loss=1391.28, gamma=0.00\n",
      "Epoch 55: loss=1388.51, gamma=0.00\n",
      "Epoch 60: loss=1393.43, gamma=0.00\n",
      "Epoch 65: loss=1388.32, gamma=0.00\n",
      "Epoch 70: loss=1406.35, gamma=0.00\n",
      "Epoch 75: loss=1396.85, gamma=0.00\n",
      "Epoch 80: loss=1399.29, gamma=0.00\n",
      "Epoch 85: loss=1401.64, gamma=0.00\n",
      "Epoch 90: loss=1396.68, gamma=0.00\n",
      "Epoch 95: loss=1416.35, gamma=0.00\n",
      "Fraction of possible edges in mask: 0.10504401691549066\n",
      "Epoch 0: loss=2104.48, gamma=0.00\n",
      "Epoch 5: loss=1770.53, gamma=3.77\n",
      "Epoch 10: loss=1775.59, gamma=7.54\n",
      "Epoch 15: loss=1783.65, gamma=11.31\n",
      "Epoch 20: loss=1774.82, gamma=15.08\n",
      "Epoch 25: loss=1786.33, gamma=18.84\n",
      "Epoch 30: loss=1782.88, gamma=22.61\n",
      "Epoch 35: loss=1792.36, gamma=26.38\n",
      "Epoch 40: loss=1792.82, gamma=30.15\n",
      "Epoch 45: loss=1782.66, gamma=33.92\n",
      "Epoch 50: loss=1778.53, gamma=37.69\n",
      "Epoch 55: loss=1784.16, gamma=41.46\n",
      "Epoch 60: loss=1784.45, gamma=45.23\n",
      "Epoch 65: loss=1784.80, gamma=48.99\n",
      "Epoch 70: loss=1787.22, gamma=52.76\n",
      "Epoch 75: loss=1778.72, gamma=56.53\n",
      "Epoch 80: loss=1778.39, gamma=60.30\n",
      "Epoch 85: loss=1784.54, gamma=64.07\n",
      "Epoch 90: loss=1786.00, gamma=67.84\n",
      "Epoch 95: loss=1793.62, gamma=71.61\n",
      "Epoch 100: loss=1780.02, gamma=75.38\n",
      "Epoch 105: loss=1791.72, gamma=79.15\n",
      "Epoch 110: loss=1787.01, gamma=82.91\n",
      "Epoch 115: loss=1785.34, gamma=86.68\n",
      "Epoch 120: loss=1795.73, gamma=90.45\n",
      "Epoch 125: loss=1786.94, gamma=94.22\n",
      "Epoch 130: loss=1789.04, gamma=97.99\n",
      "Epoch 135: loss=1790.92, gamma=101.76\n",
      "Epoch 140: loss=1787.84, gamma=105.53\n",
      "Epoch 145: loss=1788.90, gamma=109.30\n",
      "Epoch 150: loss=1813.24, gamma=113.07\n",
      "Epoch 155: loss=1786.01, gamma=116.83\n",
      "Epoch 160: loss=1794.65, gamma=120.60\n",
      "Epoch 165: loss=1796.03, gamma=124.37\n",
      "Epoch 170: loss=1802.90, gamma=128.14\n",
      "Epoch 175: loss=1794.99, gamma=131.91\n",
      "Epoch 180: loss=1799.52, gamma=135.68\n",
      "Epoch 185: loss=1801.51, gamma=139.45\n",
      "Epoch 190: loss=1795.86, gamma=143.22\n",
      "Epoch 195: loss=1797.79, gamma=146.98\n",
      "Finished training in 3522.1042664051056 seconds.\n"
     ]
    }
   ],
   "source": [
    "mv_flavor = \"nn\"\n",
    "s1_alpha = 3e-4\n",
    "s2_alpha = 2e-4\n",
    "s1_beta = 1e-3\n",
    "s2_beta = 1e-2\n",
    "max_gamma = 150\n",
    "\n",
    "train_dataset, val_dataset = torch.utils.data.random_split(dataset, [0.9, 0.1])\n",
    "\n",
    "device = torch.device(\"cuda:0\" if torch.cuda.is_available() else \"cpu\")\n",
    "print(f\"Using {device}\")\n",
    "model = SDCI(model_variance_flavor=mv_flavor)\n",
    "model.train(\n",
    "    train_dataset,\n",
    "    device=device,\n",
    "    log_wandb=True,\n",
    "    verbose=False,\n",
    "    stage1_kwargs={\"n_epochs\": 100, \"alpha\": s1_alpha, \"beta\": s1_beta, \"n_epochs_check\": 5},\n",
    "    stage2_kwargs={\"n_epochs\": 200, \"alpha\": s2_alpha, \"beta\": s2_beta, \"max_gamma\": max_gamma, \"n_epochs_check\": 5}\n",
    ")\n",
    "val_rec_loss = model._model.reconstruction_loss(val_dataset[:][0].to(device), mask_interventions_oh=val_dataset[:][1].to(device)).cpu().detach().item()\n",
    "\n",
    "min_dag_threshold = model.compute_min_dag_threshold()\n",
    "n_edges_min_dag = model.get_adjacency_matrix().sum()\n"
   ]
  },
  {
   "cell_type": "code",
   "execution_count": 9,
   "id": "b43e046b-26f6-4407-af30-48dcc6b7b1ad",
   "metadata": {},
   "outputs": [],
   "source": [
    "dag_thresh_adj_mtx = model.get_adjacency_matrix()\n",
    "no_thresh_adj_mtx = model.get_adjacency_matrix(threshold=False)\n",
    "fixed_thresh_adj_mtx = (no_thresh_adj_mtx > 0.3).astype(int)"
   ]
  },
  {
   "cell_type": "code",
   "execution_count": 10,
   "id": "dcf21054-3d55-44bd-a749-760ce712eaf7",
   "metadata": {},
   "outputs": [
    {
     "data": {
      "text/plain": [
       "0.5586318969726562"
      ]
     },
     "execution_count": 10,
     "metadata": {},
     "output_type": "execute_result"
    }
   ],
   "source": [
    "min_dag_threshold"
   ]
  },
  {
   "cell_type": "code",
   "execution_count": 11,
   "id": "d3519b43-12d1-4315-8a84-abc51368644a",
   "metadata": {},
   "outputs": [
    {
     "data": {
      "text/plain": [
       "1574"
      ]
     },
     "execution_count": 11,
     "metadata": {},
     "output_type": "execute_result"
    }
   ],
   "source": [
    "n_edges_min_dag"
   ]
  },
  {
   "cell_type": "code",
   "execution_count": 13,
   "id": "0e7be2e6-a58f-4032-8509-2ddf9077eb0f",
   "metadata": {},
   "outputs": [],
   "source": [
    "np.savetxt(\"results/dag_thresh_adj_mtx.csv\", dag_thresh_adj_mtx, delimiter=\",\")\n",
    "np.savetxt(\"results/no_thresh_adj_mtx.csv\", no_thresh_adj_mtx, delimiter=\",\")\n",
    "np.savetxt(\"results/fixed_thresh_adj_mtx.csv\", fixed_thresh_adj_mtx, delimiter=\",\")"
   ]
  },
  {
   "cell_type": "code",
   "execution_count": null,
   "id": "a6b4cb9c-2806-4c78-821d-a07e97edd475",
   "metadata": {},
   "outputs": [],
   "source": []
  }
 ],
 "metadata": {
  "kernelspec": {
   "display_name": "Python 3 (ipykernel)",
   "language": "python",
   "name": "python3"
  },
  "language_info": {
   "codemirror_mode": {
    "name": "ipython",
    "version": 3
   },
   "file_extension": ".py",
   "mimetype": "text/x-python",
   "name": "python",
   "nbconvert_exporter": "python",
   "pygments_lexer": "ipython3",
   "version": "3.10.12"
  }
 },
 "nbformat": 4,
 "nbformat_minor": 5
}
