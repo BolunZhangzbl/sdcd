{
 "cells": [
  {
   "cell_type": "code",
   "execution_count": null,
   "id": "912e6fdc",
   "metadata": {},
   "outputs": [],
   "source": [
    "import sys\n",
    "\n",
    "sys.path.append(\"../\")"
   ]
  },
  {
   "cell_type": "code",
   "execution_count": null,
   "id": "0f41f589",
   "metadata": {},
   "outputs": [],
   "source": [
    "import torch\n",
    "import pandas as pd\n",
    "import numpy as np\n",
    "import wandb\n",
    "import igraph as ig\n",
    "from sklearn.metrics import average_precision_score\n",
    "\n",
    "\n",
    "import matplotlib.pyplot as plt\n",
    "\n",
    "from full_pipeline_main import generate_dataset\n",
    "from models import SDCI\n",
    "from utils import create_intervention_dataset, subset_interventions"
   ]
  },
  {
   "cell_type": "code",
   "execution_count": null,
   "id": "500af525",
   "metadata": {},
   "outputs": [],
   "source": [
    "seed = 0\n",
    "n, d = 100, 20\n",
    "n_edges_per_d = 5\n",
    "frac_interventions = 1.0\n",
    "\n",
    "def scale_fn(depth, plateau_depth = 17, slope = 7):\n",
    "    return (max(1, plateau_depth - depth) / plateau_depth) * slope\n",
    "\n",
    "X_df, B_true, wandb_config_dict = generate_dataset(\n",
    "    n, d, seed, frac_interventions, n_edges_per_d=n_edges_per_d#, scale=scale_fn\n",
    ")\n",
    "X_obs = X_df[X_df[\"perturbation_label\"] == \"obs\"].loc[:, np.arange(d)].to_numpy()\n",
    "X_sub_df = subset_interventions(\n",
    "    X_df, d, maintain_dataset_size=True\n",
    ")"
   ]
  },
  {
   "cell_type": "code",
   "execution_count": null,
   "id": "0531b77a",
   "metadata": {},
   "outputs": [],
   "source": [
    "G = ig.Graph.Adjacency(B_true.tolist())\n",
    "ordered_vertices = G.topological_sorting()\n",
    "plt.plot(X_obs.var(axis=0)[ordered_vertices])\n",
    "plt.ylabel(\"Variance\")\n",
    "plt.xlabel(\"Topological rank\")"
   ]
  },
  {
   "cell_type": "code",
   "execution_count": null,
   "id": "3d416aec",
   "metadata": {},
   "outputs": [],
   "source": [
    "variances = X_obs.var(axis=0)\n",
    "var_diffs = []\n",
    "for i, j in zip(*np.where(B_true)):\n",
    "    var_diffs.append(variances[j] - variances[i])\n",
    "plt.hist(var_diffs)\n",
    "plt.ylabel(\"Variance(downstream_gene) - Variance(upstream_gene)\")"
   ]
  },
  {
   "cell_type": "code",
   "execution_count": null,
   "id": "c61c3619",
   "metadata": {},
   "outputs": [],
   "source": [
    "def run_sdci(): \n",
    "    wandb.init()\n",
    "    mv_flavor = wandb.config.mv_flavor\n",
    "    s1_alpha = wandb.config.s1_alpha\n",
    "    s2_alpha = wandb.config.s2_alpha\n",
    "    s1_beta = wandb.config.s1_beta\n",
    "    s2_beta = wandb.config.s2_beta\n",
    "    max_gamma = wandb.config.max_gamma\n",
    "    \n",
    "    dataset = create_intervention_dataset(X_sub_df, regime_format=True)\n",
    "    train_dataset, val_dataset = torch.utils.data.random_split(dataset, [0.9, 0.1])\n",
    "\n",
    "    device = torch.device(\"cuda:0\" if torch.cuda.is_available() else \"cpu\")\n",
    "    print(f\"Using {device}\")\n",
    "    model = SDCI(model_variance_flavor=mv_flavor)\n",
    "    model.train(\n",
    "        train_dataset,\n",
    "        B_true=B_true,\n",
    "        device=device,\n",
    "        log_wandb=True,\n",
    "        verbose=False,\n",
    "        stage1_kwargs={\"n_epochs\": 1000, \"alpha\": s1_alpha, \"beta\": s1_beta},\n",
    "        stage2_kwargs={\"n_epochs\": 1000, \"alpha\": s2_alpha, \"beta\": s2_beta, \"max_gamma\": max_gamma}\n",
    "    )\n",
    "    val_rec_loss = model._model.reconstruction_loss(val_dataset[:][0].to(device), interventions=val_dataset[:][1].to(device)).cpu().detach().item()\n",
    "\n",
    "    y_test = B_true.astype(bool).reshape(-1)\n",
    "    y_score = model.get_adjacency_matrix(threshold = False).reshape(-1)\n",
    "    auprc = average_precision_score(y_test, y_score, pos_label=True)\n",
    "\n",
    "    wandb.log(dict(val_rec_loss=val_rec_loss, auprc=auprc))\n",
    "    wandb.finish()"
   ]
  },
  {
   "cell_type": "code",
   "execution_count": null,
   "id": "88eb602b",
   "metadata": {},
   "outputs": [],
   "source": [
    "sweep_configuration = {\n",
    "    \"method\" : \"bayes\",\n",
    "    \"name\": \"sdci_new_sim_sweep\",\n",
    "    \"metric\": {\n",
    "        \"goal\": \"minimize\",\n",
    "        \"name\": \"val_rec_loss\",\n",
    "    },\n",
    "    \"parameters\": {\n",
    "        \"s1_alpha\": {\"max\": 1e-1, \"min\": 1e-5, \"distribution\": \"log_uniform_values\"},\n",
    "        \"s2_alpha\": {\"max\": 1e-1, \"min\": 1e-5, \"distribution\": \"log_uniform_values\"},\n",
    "        \"s1_beta\": {\"max\": 1e-1, \"min\": 1e-5, \"distribution\": \"log_uniform_values\"},\n",
    "        \"s2_beta\": {\"max\": 1e-1, \"min\": 1e-5, \"distribution\": \"log_uniform_values\"},\n",
    "        \"max_gamma\": {\"max\": 1000, \"min\": 100, \"distribution\": \"log_uniform_values\"},\n",
    "        \"mv_flavor\": {\"values\": [\"nn\"]},\n",
    "    },\n",
    "    \"early_terminate\": {\n",
    "        \"type\": \"hyperband\",\n",
    "        \"min_iter\": 11,\n",
    "    }\n",
    "}"
   ]
  },
  {
   "cell_type": "code",
   "execution_count": null,
   "id": "93f27b32",
   "metadata": {},
   "outputs": [],
   "source": [
    "wandb.login()\n",
    "\n",
    "sweep_id = wandb.sweep(sweep=sweep_configuration, project=\"SDCI_new_sim_sweep_w_val_loss\")\n",
    "wandb.agent(sweep_id, function=run_sdci)"
   ]
  },
  {
   "cell_type": "code",
   "execution_count": null,
   "id": "269ffc38",
   "metadata": {},
   "outputs": [],
   "source": []
  }
 ],
 "metadata": {
  "kernelspec": {
   "display_name": "Python 3 (ipykernel)",
   "language": "python",
   "name": "python3"
  },
  "language_info": {
   "codemirror_mode": {
    "name": "ipython",
    "version": 3
   },
   "file_extension": ".py",
   "mimetype": "text/x-python",
   "name": "python",
   "nbconvert_exporter": "python",
   "pygments_lexer": "ipython3",
   "version": "3.10.12"
  }
 },
 "nbformat": 4,
 "nbformat_minor": 5
}
