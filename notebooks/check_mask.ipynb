{
 "cells": [
  {
   "cell_type": "code",
   "execution_count": 7,
   "id": "47034020-8e9f-47ac-a09d-9fff0c8a6cb5",
   "metadata": {
    "tags": []
   },
   "outputs": [],
   "source": [
    "import math\n",
    "import pdb\n",
    "\n",
    "import numpy as np\n",
    "import matplotlib.pyplot as plt\n",
    "import seaborn as sns\n",
    "import torch.utils.data\n",
    "from torch import nn\n",
    "import wandb\n",
    "import networkx as nx\n",
    "\n",
    "import sys\n",
    "sys.path.append('../')\n",
    "import simulation\n",
    "from modules import AutoEncoderLayers\n",
    "from utils import set_random_seed_all, print_graph_from_weights, ks_test_screen, compute_p_vals"
   ]
  },
  {
   "cell_type": "code",
   "execution_count": 2,
   "id": "95a4cfd1-e4dd-43bf-a76f-027ebfc7ba08",
   "metadata": {
    "tags": []
   },
   "outputs": [],
   "source": [
    "seed = 0\n",
    "set_random_seed_all(seed)\n",
    "\n",
    "n, d = 50, 20\n",
    "# n, d = 50, 200\n",
    "n_edges = 5 * d\n",
    "# n_edges = 10 * d\n",
    "knockdown_eff = 1.0\n",
    "B_true = simulation.simulate_dag(d, n_edges, \"ER\")\n",
    "X_df, param_dict = simulation.generate_full_interventional_set(\n",
    "    B_true, n, \"mlp\", knockdown_eff=1.0\n",
    ")\n",
    "X = torch.FloatTensor(X_df.to_numpy()[:, :-1].astype(float))"
   ]
  },
  {
   "cell_type": "code",
   "execution_count": 3,
   "id": "569d345f-e66d-4ee8-9ed0-35bb8e8c271d",
   "metadata": {
    "tags": []
   },
   "outputs": [
    {
     "name": "stderr",
     "output_type": "stream",
     "text": [
      "100%|████████████████████████████████████████████████████████████████████████████████████████████████████████████████████████████████████████████████████████████████████████████████████████████████████████████████████████████████████████████████████████████████████████████████████████████████████████████████████████████████████████████████████████████████████████████████████████████████████| 20/20 [00:00<00:00, 226.09it/s]\n"
     ]
    },
    {
     "name": "stdout",
     "output_type": "stream",
     "text": [
      "Fraction edges valid under significance level 0.3: 0.18\n"
     ]
    },
    {
     "name": "stderr",
     "output_type": "stream",
     "text": [
      "100%|████████████████████████████████████████████████████████████████████████████████████████████████████████████████████████████████████████████████████████████████████████████████████████████████████████████████████████████████████████████████████████████████████████████████████████████████████████████████████████████████████████████████████████████████████████████████████████████████████| 20/20 [00:00<00:00, 253.75it/s]\n"
     ]
    }
   ],
   "source": [
    "smask = ks_test_screen(X_df, use_sig=True, sig=0.3, n_parents=None, verbose=True)\n",
    "pmask = ks_test_screen(X_df, use_sig=False, n_parents=10, verbose=True)"
   ]
  },
  {
   "cell_type": "code",
   "execution_count": 5,
   "id": "fec0e751-ff04-4525-811a-b8d57f3b19b2",
   "metadata": {
    "tags": []
   },
   "outputs": [],
   "source": [
    "import matplotlib.pyplot as plt\n",
    "import seaborn as sns"
   ]
  },
  {
   "cell_type": "code",
   "execution_count": 8,
   "id": "a6c27ecd-b15f-4a0a-bf5f-2a738656642a",
   "metadata": {
    "tags": []
   },
   "outputs": [
    {
     "name": "stderr",
     "output_type": "stream",
     "text": [
      "100%|████████████████████████████████████████████████████████████████████████████████████████████████████████████████████████████████████████████████████████████████████████████████████████████████████████████████████████████████████████████████████████████████████████████████████████████████████████████████████████████████████████████████████████████████████████████████████████████████████| 20/20 [00:00<00:00, 196.88it/s]\n"
     ]
    }
   ],
   "source": [
    "edges_df = compute_p_vals(X_df)"
   ]
  },
  {
   "cell_type": "code",
   "execution_count": 13,
   "id": "0ab13f0d-bb70-408c-aacf-1ed7ea5baa9a",
   "metadata": {
    "tags": []
   },
   "outputs": [
    {
     "data": {
      "text/plain": [
       "(array([38.,  6.,  3.,  0.,  4.,  0.,  0.,  4.,  0.,  0.,  0.,  0.,  3.,\n",
       "         3.,  0.,  0.,  0.,  0.,  0.,  0.,  2.,  3.,  1.,  0.,  0.,  0.,\n",
       "         0.,  2.,  3.,  3.,  3.,  2.,  2.,  2.,  2.,  5.,  3.,  2.,  3.,\n",
       "         3.,  2.,  2.,  4.,  7.,  5.,  3.,  3.,  3.,  2.,  3.,  2.,  3.,\n",
       "         2.,  2.,  2.,  4.,  3.,  2.,  3.,  3.,  3.,  2.,  3.,  2.,  1.,\n",
       "         0.,  1.,  4.,  3.,  2.,  3.,  3.,  3.,  2.,  3.,  5.,  6.,  6.,\n",
       "         5.,  5.,  4.,  3.,  5.,  6.,  6.,  6.,  6.,  6.,  6.,  9.,  9.,\n",
       "        13., 13., 14., 11., 11.,  9.,  9.,  6.,  4.]),\n",
       " array([3.76642815e-27, 1.07947555e-02, 2.15895109e-02, 3.23842664e-02,\n",
       "        4.31790218e-02, 5.39737773e-02, 6.47685328e-02, 7.55632882e-02,\n",
       "        8.63580437e-02, 9.71527991e-02, 1.07947555e-01, 1.18742310e-01,\n",
       "        1.29537066e-01, 1.40331821e-01, 1.51126576e-01, 1.61921332e-01,\n",
       "        1.72716087e-01, 1.83510843e-01, 1.94305598e-01, 2.05100354e-01,\n",
       "        2.15895109e-01, 2.26689865e-01, 2.37484620e-01, 2.48279376e-01,\n",
       "        2.59074131e-01, 2.69868886e-01, 2.80663642e-01, 2.91458397e-01,\n",
       "        3.02253153e-01, 3.13047908e-01, 3.23842664e-01, 3.34637419e-01,\n",
       "        3.45432175e-01, 3.56226930e-01, 3.67021686e-01, 3.77816441e-01,\n",
       "        3.88611197e-01, 3.99405952e-01, 4.10200707e-01, 4.20995463e-01,\n",
       "        4.31790218e-01, 4.42584974e-01, 4.53379729e-01, 4.64174485e-01,\n",
       "        4.74969240e-01, 4.85763996e-01, 4.96558751e-01, 5.07353507e-01,\n",
       "        5.18148262e-01, 5.28943018e-01, 5.39737773e-01, 5.50532528e-01,\n",
       "        5.61327284e-01, 5.72122039e-01, 5.82916795e-01, 5.93711550e-01,\n",
       "        6.04506306e-01, 6.15301061e-01, 6.26095817e-01, 6.36890572e-01,\n",
       "        6.47685328e-01, 6.58480083e-01, 6.69274839e-01, 6.80069594e-01,\n",
       "        6.90864349e-01, 7.01659105e-01, 7.12453860e-01, 7.23248616e-01,\n",
       "        7.34043371e-01, 7.44838127e-01, 7.55632882e-01, 7.66427638e-01,\n",
       "        7.77222393e-01, 7.88017149e-01, 7.98811904e-01, 8.09606659e-01,\n",
       "        8.20401415e-01, 8.31196170e-01, 8.41990926e-01, 8.52785681e-01,\n",
       "        8.63580437e-01, 8.74375192e-01, 8.85169948e-01, 8.95964703e-01,\n",
       "        9.06759459e-01, 9.17554214e-01, 9.28348970e-01, 9.39143725e-01,\n",
       "        9.49938480e-01, 9.60733236e-01, 9.71527991e-01, 9.82322747e-01,\n",
       "        9.93117502e-01, 1.00391226e+00, 1.01470701e+00, 1.02550177e+00,\n",
       "        1.03629652e+00, 1.04709128e+00, 1.05788604e+00, 1.06868079e+00,\n",
       "        1.07947555e+00]),\n",
       " <BarContainer object of 100 artists>)"
      ]
     },
     "execution_count": 13,
     "metadata": {},
     "output_type": "execute_result"
    },
    {
     "data": {
      "image/png": "[encoded data removed]",
      "text/plain": [
       "<Figure size 640x480 with 1 Axes>"
      ]
     },
     "metadata": {},
     "output_type": "display_data"
    }
   ],
   "source": [
    "plt.hist(edges_df[\"pval_adj\"].to_numpy().flatten(), bins=100)"
   ]
  },
  {
   "cell_type": "code",
   "execution_count": 14,
   "id": "573b5cf2-9be6-45e8-b5f3-c79af15e9e37",
   "metadata": {
    "tags": []
   },
   "outputs": [
    {
     "data": {
      "text/plain": [
       "(array([51.,  4.,  6.,  6.,  0.,  0., 20.,  0.,  0.,  0.,  0., 26.,  0.,\n",
       "         0.,  0.,  0.,  0., 35.,  0.,  0.,  0.,  0.,  0.,  0.,  0.,  0.,\n",
       "         0., 25.,  0.,  0.,  0.,  0.,  0.,  0.,  0.,  0.,  0.,  0.,  0.,\n",
       "        36.,  0.,  0.,  0.,  0.,  0.,  0.,  0.,  0.,  0.,  0.,  0.,  0.,\n",
       "         0.,  0., 48.,  0.,  0.,  0.,  0.,  0.,  0.,  0.,  0.,  0.,  0.,\n",
       "         0.,  0.,  0.,  0.,  0.,  0., 48.,  0.,  0.,  0.,  0.,  0.,  0.,\n",
       "         0.,  0.,  0.,  0.,  0.,  0.,  0.,  0.,  0., 39.,  0.,  0.,  0.,\n",
       "         0.,  0.,  0.,  0.,  0., 28.,  0.,  0.,  8.]),\n",
       " array([1.98233060e-29, 9.97710976e-03, 1.99542195e-02, 2.99313293e-02,\n",
       "        3.99084391e-02, 4.98855488e-02, 5.98626586e-02, 6.98397684e-02,\n",
       "        7.98168781e-02, 8.97939879e-02, 9.97710976e-02, 1.09748207e-01,\n",
       "        1.19725317e-01, 1.29702427e-01, 1.39679537e-01, 1.49656646e-01,\n",
       "        1.59633756e-01, 1.69610866e-01, 1.79587976e-01, 1.89565086e-01,\n",
       "        1.99542195e-01, 2.09519305e-01, 2.19496415e-01, 2.29473525e-01,\n",
       "        2.39450634e-01, 2.49427744e-01, 2.59404854e-01, 2.69381964e-01,\n",
       "        2.79359073e-01, 2.89336183e-01, 2.99313293e-01, 3.09290403e-01,\n",
       "        3.19267512e-01, 3.29244622e-01, 3.39221732e-01, 3.49198842e-01,\n",
       "        3.59175952e-01, 3.69153061e-01, 3.79130171e-01, 3.89107281e-01,\n",
       "        3.99084391e-01, 4.09061500e-01, 4.19038610e-01, 4.29015720e-01,\n",
       "        4.38992830e-01, 4.48969939e-01, 4.58947049e-01, 4.68924159e-01,\n",
       "        4.78901269e-01, 4.88878378e-01, 4.98855488e-01, 5.08832598e-01,\n",
       "        5.18809708e-01, 5.28786818e-01, 5.38763927e-01, 5.48741037e-01,\n",
       "        5.58718147e-01, 5.68695257e-01, 5.78672366e-01, 5.88649476e-01,\n",
       "        5.98626586e-01, 6.08603696e-01, 6.18580805e-01, 6.28557915e-01,\n",
       "        6.38535025e-01, 6.48512135e-01, 6.58489244e-01, 6.68466354e-01,\n",
       "        6.78443464e-01, 6.88420574e-01, 6.98397684e-01, 7.08374793e-01,\n",
       "        7.18351903e-01, 7.28329013e-01, 7.38306123e-01, 7.48283232e-01,\n",
       "        7.58260342e-01, 7.68237452e-01, 7.78214562e-01, 7.88191671e-01,\n",
       "        7.98168781e-01, 8.08145891e-01, 8.18123001e-01, 8.28100110e-01,\n",
       "        8.38077220e-01, 8.48054330e-01, 8.58031440e-01, 8.68008550e-01,\n",
       "        8.77985659e-01, 8.87962769e-01, 8.97939879e-01, 9.07916989e-01,\n",
       "        9.17894098e-01, 9.27871208e-01, 9.37848318e-01, 9.47825428e-01,\n",
       "        9.57802537e-01, 9.67779647e-01, 9.77756757e-01, 9.87733867e-01,\n",
       "        9.97710976e-01]),\n",
       " <BarContainer object of 100 artists>)"
      ]
     },
     "execution_count": 14,
     "metadata": {},
     "output_type": "execute_result"
    },
    {
     "data": {
      "image/png": "[encoded data removed]",
      "text/plain": [
       "<Figure size 640x480 with 1 Axes>"
      ]
     },
     "metadata": {},
     "output_type": "display_data"
    }
   ],
   "source": [
    "plt.hist(edges_df[\"pval\"].to_numpy().flatten(), bins=100)"
   ]
  },
  {
   "cell_type": "code",
   "execution_count": null,
   "id": "8b6a4104-d42d-4ec4-8e40-93c3604e4876",
   "metadata": {},
   "outputs": [],
   "source": []
  }
 ],
 "metadata": {
  "kernelspec": {
   "display_name": "Python 3 (ipykernel)",
   "language": "python",
   "name": "python3"
  },
  "language_info": {
   "codemirror_mode": {
    "name": "ipython",
    "version": 3
   },
   "file_extension": ".py",
   "mimetype": "text/x-python",
   "name": "python",
   "nbconvert_exporter": "python",
   "pygments_lexer": "ipython3",
   "version": "3.9.16"
  },
  "toc-autonumbering": false,
  "toc-showcode": false,
  "toc-showmarkdowntxt": false,
  "toc-showtags": false
 },
 "nbformat": 4,
 "nbformat_minor": 5
}
