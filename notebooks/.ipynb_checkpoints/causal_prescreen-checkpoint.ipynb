{
 "cells": [
  {
   "cell_type": "code",
   "execution_count": 3,
   "id": "1fa163e0-b992-4dea-b88a-b94dba6ea1fe",
   "metadata": {
    "tags": []
   },
   "outputs": [],
   "source": [
    "import sys\n",
    "sys.path.append('../')\n",
    "\n",
    "import simulation\n",
    "import matplotlib.pyplot as plt\n",
    "import seaborn as sns\n",
    "import torch.utils.data\n",
    "from torch import nn\n",
    "\n",
    "from modules import AutoEncoderLayers\n",
    "from utils import set_random_seed_all, print_graph_from_weights\n"
   ]
  },
  {
   "cell_type": "code",
   "execution_count": null,
   "id": "d14dd373-2c9f-4290-8b1e-5f8cec422339",
   "metadata": {},
   "outputs": [],
   "source": [
    "set_random_seed_all(0)\n",
    "\n",
    "n, d = 1000, 20\n",
    "n_edges = 4 * d\n",
    "B_true = simulation.simulate_dag(d, n_edges, \"ER\")\n",
    "X = simulation.simulate_nonlinear_sem(B_true, n, \"mlp\")\n"
   ]
  }
 ],
 "metadata": {
  "kernelspec": {
   "display_name": "Python 3 (ipykernel)",
   "language": "python",
   "name": "python3"
  },
  "language_info": {
   "codemirror_mode": {
    "name": "ipython",
    "version": 3
   },
   "file_extension": ".py",
   "mimetype": "text/x-python",
   "name": "python",
   "nbconvert_exporter": "python",
   "pygments_lexer": "ipython3",
   "version": "3.9.16"
  }
 },
 "nbformat": 4,
 "nbformat_minor": 5
}
