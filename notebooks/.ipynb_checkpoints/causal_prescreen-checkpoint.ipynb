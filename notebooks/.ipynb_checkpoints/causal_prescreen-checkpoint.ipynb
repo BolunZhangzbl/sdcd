{
 "cells": [
  {
   "cell_type": "code",
   "execution_count": 93,
   "id": "1fa163e0-b992-4dea-b88a-b94dba6ea1fe",
   "metadata": {
    "tags": []
   },
   "outputs": [],
   "source": [
    "import sys\n",
    "sys.path.append('../')\n",
    "\n",
    "import simulation\n",
    "import matplotlib.pyplot as plt\n",
    "import seaborn as sns\n",
    "import torch.utils.data\n",
    "from torch import nn\n",
    "import numpy as np\n",
    "import pandas as pd\n",
    "import scipy\n",
    "import sklearn.metrics\n",
    "from tqdm import tqdm\n",
    "\n",
    "from modules import AutoEncoderLayers\n",
    "from utils import set_random_seed_all, print_graph_from_weights\n"
   ]
  },
  {
   "cell_type": "code",
   "execution_count": 11,
   "id": "d14dd373-2c9f-4290-8b1e-5f8cec422339",
   "metadata": {},
   "outputs": [],
   "source": [
    "set_random_seed_all(0)\n",
    "\n",
    "n, d = 1000, 20\n",
    "n_edges = 4 * d\n",
    "B_true = simulation.simulate_dag(d, n_edges, \"ER\")\n"
   ]
  },
  {
   "cell_type": "code",
   "execution_count": 12,
   "id": "889edd71-9b3e-439e-a387-1d8e587360e7",
   "metadata": {
    "tags": []
   },
   "outputs": [
    {
     "data": {
      "text/plain": [
       "<Axes: >"
      ]
     },
     "execution_count": 12,
     "metadata": {},
     "output_type": "execute_result"
    },
    {
     "data": {
      "image/png": "[encoded data removed]",
      "text/plain": [
       "<Figure size 640x480 with 2 Axes>"
      ]
     },
     "metadata": {},
     "output_type": "display_data"
    }
   ],
   "source": [
    "sns.heatmap(B_true)"
   ]
  },
  {
   "cell_type": "code",
   "execution_count": 29,
   "id": "a3acd130-a243-4330-b301-6f52665952f7",
   "metadata": {
    "tags": []
   },
   "outputs": [],
   "source": [
    "def generate_full_interventional_set(B, n, sem_type, knockdown_eff=1.0, seed=0):\n",
    "    assert knockdown_eff <= 1.0 and knockdown_eff >= 0.0\n",
    "    set_random_seed_all(seed)\n",
    "    d = B.shape[0]\n",
    "    X_subsets = []\n",
    "    perturbation_labels = []\n",
    "\n",
    "    X, param_dict = simulation.simulate_nonlinear_sem(B_true, n, \"mlp\")\n",
    "    X_subsets.append(X)\n",
    "    perturbation_labels.append(\"obs\")\n",
    "\n",
    "    for i in range(d):\n",
    "        X_int, _ = simulation.simulate_nonlinear_sem_knockdown(B_true, n, \"mlp\", param_dict, i, knockdown_eff=1.0)\n",
    "        X_subsets.append(X_int)\n",
    "        perturbation_labels.append(i)\n",
    "    perturbation_label_col = pd.Series(sum([n * [p] for p in perturbation_labels], []))\n",
    "    X_df = pd.DataFrame(np.vstack(X_subsets), columns=np.arange(d))\n",
    "    X_df[\"perturbation_label\"] = perturbation_label_col.astype(\"category\")\n",
    "    return X_df\n"
   ]
  },
  {
   "cell_type": "code",
   "execution_count": 30,
   "id": "a687127e-5c88-4ae4-a3d1-0d8d77efa564",
   "metadata": {
    "tags": []
   },
   "outputs": [
    {
     "data": {
      "text/html": [
       "<div>\n",
       "<style scoped>\n",
       "    .dataframe tbody tr th:only-of-type {\n",
       "        vertical-align: middle;\n",
       "    }\n",
       "\n",
       "    .dataframe tbody tr th {\n",
       "        vertical-align: top;\n",
       "    }\n",
       "\n",
       "    .dataframe thead th {\n",
       "        text-align: right;\n",
       "    }\n",
       "</style>\n",
       "<table border=\"1\" class=\"dataframe\">\n",
       "  <thead>\n",
       "    <tr style=\"text-align: right;\">\n",
       "      <th></th>\n",
       "      <th>0</th>\n",
       "      <th>1</th>\n",
       "      <th>2</th>\n",
       "      <th>3</th>\n",
       "      <th>4</th>\n",
       "      <th>5</th>\n",
       "      <th>6</th>\n",
       "      <th>7</th>\n",
       "      <th>8</th>\n",
       "      <th>9</th>\n",
       "      <th>...</th>\n",
       "      <th>11</th>\n",
       "      <th>12</th>\n",
       "      <th>13</th>\n",
       "      <th>14</th>\n",
       "      <th>15</th>\n",
       "      <th>16</th>\n",
       "      <th>17</th>\n",
       "      <th>18</th>\n",
       "      <th>19</th>\n",
       "      <th>perturbation_label</th>\n",
       "    </tr>\n",
       "  </thead>\n",
       "  <tbody>\n",
       "    <tr>\n",
       "      <th>0</th>\n",
       "      <td>-16.616083</td>\n",
       "      <td>-12.063048</td>\n",
       "      <td>-6.770398</td>\n",
       "      <td>-1.036755</td>\n",
       "      <td>-9.955872</td>\n",
       "      <td>2.209979</td>\n",
       "      <td>-0.662305</td>\n",
       "      <td>-0.511210</td>\n",
       "      <td>3.191843</td>\n",
       "      <td>-9.442004</td>\n",
       "      <td>...</td>\n",
       "      <td>11.885525</td>\n",
       "      <td>5.927874</td>\n",
       "      <td>1.283760</td>\n",
       "      <td>-3.825516</td>\n",
       "      <td>-12.799652</td>\n",
       "      <td>-4.637507</td>\n",
       "      <td>-5.639800</td>\n",
       "      <td>-3.787172</td>\n",
       "      <td>-11.119689</td>\n",
       "      <td>obs</td>\n",
       "    </tr>\n",
       "    <tr>\n",
       "      <th>1</th>\n",
       "      <td>-24.877980</td>\n",
       "      <td>0.136228</td>\n",
       "      <td>-11.409936</td>\n",
       "      <td>9.117183</td>\n",
       "      <td>-5.958480</td>\n",
       "      <td>-10.617480</td>\n",
       "      <td>1.402867</td>\n",
       "      <td>1.285368</td>\n",
       "      <td>1.680851</td>\n",
       "      <td>-10.937607</td>\n",
       "      <td>...</td>\n",
       "      <td>7.771688</td>\n",
       "      <td>3.609760</td>\n",
       "      <td>-3.469877</td>\n",
       "      <td>4.462076</td>\n",
       "      <td>1.356381</td>\n",
       "      <td>-3.388739</td>\n",
       "      <td>-2.199593</td>\n",
       "      <td>-2.418158</td>\n",
       "      <td>-21.553930</td>\n",
       "      <td>obs</td>\n",
       "    </tr>\n",
       "    <tr>\n",
       "      <th>2</th>\n",
       "      <td>-19.484939</td>\n",
       "      <td>-0.488505</td>\n",
       "      <td>-12.729625</td>\n",
       "      <td>4.065504</td>\n",
       "      <td>-7.276144</td>\n",
       "      <td>-8.566341</td>\n",
       "      <td>-0.589999</td>\n",
       "      <td>1.093160</td>\n",
       "      <td>2.494853</td>\n",
       "      <td>-9.461160</td>\n",
       "      <td>...</td>\n",
       "      <td>5.738522</td>\n",
       "      <td>5.078703</td>\n",
       "      <td>0.075681</td>\n",
       "      <td>3.288379</td>\n",
       "      <td>-1.567157</td>\n",
       "      <td>1.062055</td>\n",
       "      <td>0.110735</td>\n",
       "      <td>-5.694713</td>\n",
       "      <td>-13.948243</td>\n",
       "      <td>obs</td>\n",
       "    </tr>\n",
       "    <tr>\n",
       "      <th>3</th>\n",
       "      <td>-18.827193</td>\n",
       "      <td>-3.040972</td>\n",
       "      <td>-14.514382</td>\n",
       "      <td>4.165101</td>\n",
       "      <td>-7.329138</td>\n",
       "      <td>-9.924133</td>\n",
       "      <td>0.104947</td>\n",
       "      <td>1.075252</td>\n",
       "      <td>1.501877</td>\n",
       "      <td>-8.498379</td>\n",
       "      <td>...</td>\n",
       "      <td>6.298008</td>\n",
       "      <td>6.282684</td>\n",
       "      <td>-2.720840</td>\n",
       "      <td>3.890888</td>\n",
       "      <td>-0.635339</td>\n",
       "      <td>2.956172</td>\n",
       "      <td>1.873573</td>\n",
       "      <td>-6.082060</td>\n",
       "      <td>-13.200521</td>\n",
       "      <td>obs</td>\n",
       "    </tr>\n",
       "    <tr>\n",
       "      <th>4</th>\n",
       "      <td>-18.057978</td>\n",
       "      <td>-8.230149</td>\n",
       "      <td>-3.843021</td>\n",
       "      <td>-5.235524</td>\n",
       "      <td>-8.513265</td>\n",
       "      <td>-0.809838</td>\n",
       "      <td>0.080411</td>\n",
       "      <td>-2.084304</td>\n",
       "      <td>2.248882</td>\n",
       "      <td>-8.356312</td>\n",
       "      <td>...</td>\n",
       "      <td>15.832411</td>\n",
       "      <td>-0.996870</td>\n",
       "      <td>0.741434</td>\n",
       "      <td>-6.871618</td>\n",
       "      <td>-23.947883</td>\n",
       "      <td>-3.554160</td>\n",
       "      <td>-1.325209</td>\n",
       "      <td>-1.862388</td>\n",
       "      <td>-7.827772</td>\n",
       "      <td>obs</td>\n",
       "    </tr>\n",
       "    <tr>\n",
       "      <th>...</th>\n",
       "      <td>...</td>\n",
       "      <td>...</td>\n",
       "      <td>...</td>\n",
       "      <td>...</td>\n",
       "      <td>...</td>\n",
       "      <td>...</td>\n",
       "      <td>...</td>\n",
       "      <td>...</td>\n",
       "      <td>...</td>\n",
       "      <td>...</td>\n",
       "      <td>...</td>\n",
       "      <td>...</td>\n",
       "      <td>...</td>\n",
       "      <td>...</td>\n",
       "      <td>...</td>\n",
       "      <td>...</td>\n",
       "      <td>...</td>\n",
       "      <td>...</td>\n",
       "      <td>...</td>\n",
       "      <td>...</td>\n",
       "      <td>...</td>\n",
       "    </tr>\n",
       "    <tr>\n",
       "      <th>20995</th>\n",
       "      <td>-17.738478</td>\n",
       "      <td>-4.793414</td>\n",
       "      <td>-11.219491</td>\n",
       "      <td>3.960847</td>\n",
       "      <td>-7.905566</td>\n",
       "      <td>-9.543645</td>\n",
       "      <td>0.640482</td>\n",
       "      <td>0.410009</td>\n",
       "      <td>3.706537</td>\n",
       "      <td>-10.947159</td>\n",
       "      <td>...</td>\n",
       "      <td>9.494038</td>\n",
       "      <td>-6.324749</td>\n",
       "      <td>-1.167347</td>\n",
       "      <td>2.199750</td>\n",
       "      <td>-4.493161</td>\n",
       "      <td>4.563980</td>\n",
       "      <td>9.604521</td>\n",
       "      <td>6.637293</td>\n",
       "      <td>-0.000000</td>\n",
       "      <td>19</td>\n",
       "    </tr>\n",
       "    <tr>\n",
       "      <th>20996</th>\n",
       "      <td>-21.412666</td>\n",
       "      <td>-6.568461</td>\n",
       "      <td>-3.038400</td>\n",
       "      <td>9.168304</td>\n",
       "      <td>-8.594199</td>\n",
       "      <td>-10.094601</td>\n",
       "      <td>-0.394451</td>\n",
       "      <td>1.591406</td>\n",
       "      <td>4.019758</td>\n",
       "      <td>-9.275499</td>\n",
       "      <td>...</td>\n",
       "      <td>12.232341</td>\n",
       "      <td>-6.019426</td>\n",
       "      <td>-5.936012</td>\n",
       "      <td>6.442737</td>\n",
       "      <td>0.866037</td>\n",
       "      <td>-1.171110</td>\n",
       "      <td>5.502058</td>\n",
       "      <td>3.413930</td>\n",
       "      <td>-0.000000</td>\n",
       "      <td>19</td>\n",
       "    </tr>\n",
       "    <tr>\n",
       "      <th>20997</th>\n",
       "      <td>-18.597265</td>\n",
       "      <td>-14.371725</td>\n",
       "      <td>-3.772120</td>\n",
       "      <td>-4.498289</td>\n",
       "      <td>-12.268664</td>\n",
       "      <td>1.077783</td>\n",
       "      <td>0.402604</td>\n",
       "      <td>-1.874721</td>\n",
       "      <td>2.022923</td>\n",
       "      <td>-10.956116</td>\n",
       "      <td>...</td>\n",
       "      <td>12.870675</td>\n",
       "      <td>-6.078862</td>\n",
       "      <td>1.663955</td>\n",
       "      <td>-5.413249</td>\n",
       "      <td>-23.354574</td>\n",
       "      <td>-6.319987</td>\n",
       "      <td>-0.489308</td>\n",
       "      <td>-6.932879</td>\n",
       "      <td>-0.000000</td>\n",
       "      <td>19</td>\n",
       "    </tr>\n",
       "    <tr>\n",
       "      <th>20998</th>\n",
       "      <td>-24.565532</td>\n",
       "      <td>-6.457190</td>\n",
       "      <td>-14.106863</td>\n",
       "      <td>4.142013</td>\n",
       "      <td>-8.289822</td>\n",
       "      <td>-10.086369</td>\n",
       "      <td>-0.749704</td>\n",
       "      <td>0.505365</td>\n",
       "      <td>1.683673</td>\n",
       "      <td>-9.438886</td>\n",
       "      <td>...</td>\n",
       "      <td>1.720071</td>\n",
       "      <td>-4.341151</td>\n",
       "      <td>1.262518</td>\n",
       "      <td>2.299216</td>\n",
       "      <td>-3.207612</td>\n",
       "      <td>-4.195163</td>\n",
       "      <td>-0.943143</td>\n",
       "      <td>-0.653071</td>\n",
       "      <td>-0.000000</td>\n",
       "      <td>19</td>\n",
       "    </tr>\n",
       "    <tr>\n",
       "      <th>20999</th>\n",
       "      <td>-14.407654</td>\n",
       "      <td>-4.106577</td>\n",
       "      <td>-7.150515</td>\n",
       "      <td>3.144788</td>\n",
       "      <td>-8.983399</td>\n",
       "      <td>-8.589545</td>\n",
       "      <td>-0.847191</td>\n",
       "      <td>0.477861</td>\n",
       "      <td>4.079921</td>\n",
       "      <td>-8.993409</td>\n",
       "      <td>...</td>\n",
       "      <td>11.283784</td>\n",
       "      <td>0.894880</td>\n",
       "      <td>-0.222978</td>\n",
       "      <td>3.242907</td>\n",
       "      <td>-5.044997</td>\n",
       "      <td>4.149581</td>\n",
       "      <td>7.652609</td>\n",
       "      <td>-2.439401</td>\n",
       "      <td>-0.000000</td>\n",
       "      <td>19</td>\n",
       "    </tr>\n",
       "  </tbody>\n",
       "</table>\n",
       "<p>21000 rows × 21 columns</p>\n",
       "</div>"
      ],
      "text/plain": [
       "               0          1          2         3          4          5   \n",
       "0     -16.616083 -12.063048  -6.770398 -1.036755  -9.955872   2.209979  \\\n",
       "1     -24.877980   0.136228 -11.409936  9.117183  -5.958480 -10.617480   \n",
       "2     -19.484939  -0.488505 -12.729625  4.065504  -7.276144  -8.566341   \n",
       "3     -18.827193  -3.040972 -14.514382  4.165101  -7.329138  -9.924133   \n",
       "4     -18.057978  -8.230149  -3.843021 -5.235524  -8.513265  -0.809838   \n",
       "...          ...        ...        ...       ...        ...        ...   \n",
       "20995 -17.738478  -4.793414 -11.219491  3.960847  -7.905566  -9.543645   \n",
       "20996 -21.412666  -6.568461  -3.038400  9.168304  -8.594199 -10.094601   \n",
       "20997 -18.597265 -14.371725  -3.772120 -4.498289 -12.268664   1.077783   \n",
       "20998 -24.565532  -6.457190 -14.106863  4.142013  -8.289822 -10.086369   \n",
       "20999 -14.407654  -4.106577  -7.150515  3.144788  -8.983399  -8.589545   \n",
       "\n",
       "              6         7         8          9  ...         11        12   \n",
       "0     -0.662305 -0.511210  3.191843  -9.442004  ...  11.885525  5.927874  \\\n",
       "1      1.402867  1.285368  1.680851 -10.937607  ...   7.771688  3.609760   \n",
       "2     -0.589999  1.093160  2.494853  -9.461160  ...   5.738522  5.078703   \n",
       "3      0.104947  1.075252  1.501877  -8.498379  ...   6.298008  6.282684   \n",
       "4      0.080411 -2.084304  2.248882  -8.356312  ...  15.832411 -0.996870   \n",
       "...         ...       ...       ...        ...  ...        ...       ...   \n",
       "20995  0.640482  0.410009  3.706537 -10.947159  ...   9.494038 -6.324749   \n",
       "20996 -0.394451  1.591406  4.019758  -9.275499  ...  12.232341 -6.019426   \n",
       "20997  0.402604 -1.874721  2.022923 -10.956116  ...  12.870675 -6.078862   \n",
       "20998 -0.749704  0.505365  1.683673  -9.438886  ...   1.720071 -4.341151   \n",
       "20999 -0.847191  0.477861  4.079921  -8.993409  ...  11.283784  0.894880   \n",
       "\n",
       "             13        14         15        16        17        18         19   \n",
       "0      1.283760 -3.825516 -12.799652 -4.637507 -5.639800 -3.787172 -11.119689  \\\n",
       "1     -3.469877  4.462076   1.356381 -3.388739 -2.199593 -2.418158 -21.553930   \n",
       "2      0.075681  3.288379  -1.567157  1.062055  0.110735 -5.694713 -13.948243   \n",
       "3     -2.720840  3.890888  -0.635339  2.956172  1.873573 -6.082060 -13.200521   \n",
       "4      0.741434 -6.871618 -23.947883 -3.554160 -1.325209 -1.862388  -7.827772   \n",
       "...         ...       ...        ...       ...       ...       ...        ...   \n",
       "20995 -1.167347  2.199750  -4.493161  4.563980  9.604521  6.637293  -0.000000   \n",
       "20996 -5.936012  6.442737   0.866037 -1.171110  5.502058  3.413930  -0.000000   \n",
       "20997  1.663955 -5.413249 -23.354574 -6.319987 -0.489308 -6.932879  -0.000000   \n",
       "20998  1.262518  2.299216  -3.207612 -4.195163 -0.943143 -0.653071  -0.000000   \n",
       "20999 -0.222978  3.242907  -5.044997  4.149581  7.652609 -2.439401  -0.000000   \n",
       "\n",
       "       perturbation_label  \n",
       "0                     obs  \n",
       "1                     obs  \n",
       "2                     obs  \n",
       "3                     obs  \n",
       "4                     obs  \n",
       "...                   ...  \n",
       "20995                  19  \n",
       "20996                  19  \n",
       "20997                  19  \n",
       "20998                  19  \n",
       "20999                  19  \n",
       "\n",
       "[21000 rows x 21 columns]"
      ]
     },
     "execution_count": 30,
     "metadata": {},
     "output_type": "execute_result"
    }
   ],
   "source": [
    "X_df = generate_full_interventional_set(B_true, n, \"mlp\", knockdown_eff=1.0, seed=126)\n",
    "X_df"
   ]
  },
  {
   "cell_type": "code",
   "execution_count": 172,
   "id": "ff26457e-b980-4263-81f4-57c24bb6540e",
   "metadata": {},
   "outputs": [],
   "source": [
    "# KS Test based filtering\n",
    "def compute_p_values(X_df):\n",
    "    edge_rows = []\n",
    "    d = X_df.shape[1] - 1\n",
    "    observational_X_df = X_df[X_df.perturbation_label == \"obs\"]\n",
    "    for target_gene_idx in tqdm(range(d)):\n",
    "        for candidate_parent_idx in range(d):\n",
    "            if target_gene_idx == candidate_parent_idx:\n",
    "                continue\n",
    "            cand_int_subset_df = X_df[X_df.perturbation_label == candidate_parent_idx]\n",
    "            ks_stat, pval = scipy.stats.kstest(observational_X_df.loc[:, target_gene_idx].to_numpy(), cand_int_subset_df.loc[:, target_gene_idx].to_numpy())\n",
    "            edge_rows.append((candidate_parent_idx, target_gene_idx, pval))\n",
    "    edges_df = pd.DataFrame(edge_rows, columns=[\"candidate_parent_idx\", \"target_gene_idx\", \"pval\"])\n",
    "    \n",
    "    # Compute BH corrected pvals\n",
    "    edges_df = edges_df.sort_values(\"pval\")\n",
    "    n_pvals = edges_df.shape[0]\n",
    "    edges_df[\"pval_rank\"] = np.arange(1, edges_df.shape[0] + 1)\n",
    "    edges_df[\"pval_adj\"] = edges_df[\"pval\"] * n_pvals / edges_df[\"pval_rank\"]\n",
    "    \n",
    "    return edges_df"
   ]
  },
  {
   "cell_type": "code",
   "execution_count": 173,
   "id": "ff7355a3-28f8-4f51-b867-68be4e1556ac",
   "metadata": {
    "tags": []
   },
   "outputs": [
    {
     "name": "stderr",
     "output_type": "stream",
     "text": [
      "100%|█████████████████████████████████████████████████████████████████████████████████████████████████████████████████████████████████████████████████████████████████████████████████████████████████████████████████████████████████████████████████████████████████████████████████████████████████████████████████████████████████████████████████████████████████████████████████████████████████████| 20/20 [00:00<00:00, 71.02it/s]\n"
     ]
    },
    {
     "data": {
      "text/html": [
       "<div>\n",
       "<style scoped>\n",
       "    .dataframe tbody tr th:only-of-type {\n",
       "        vertical-align: middle;\n",
       "    }\n",
       "\n",
       "    .dataframe tbody tr th {\n",
       "        vertical-align: top;\n",
       "    }\n",
       "\n",
       "    .dataframe thead th {\n",
       "        text-align: right;\n",
       "    }\n",
       "</style>\n",
       "<table border=\"1\" class=\"dataframe\">\n",
       "  <thead>\n",
       "    <tr style=\"text-align: right;\">\n",
       "      <th></th>\n",
       "      <th>candidate_parent_idx</th>\n",
       "      <th>target_gene_idx</th>\n",
       "      <th>pval</th>\n",
       "      <th>pval_rank</th>\n",
       "      <th>pval_adj</th>\n",
       "    </tr>\n",
       "  </thead>\n",
       "  <tbody>\n",
       "    <tr>\n",
       "      <th>38</th>\n",
       "      <td>0</td>\n",
       "      <td>2</td>\n",
       "      <td>1.045272e-307</td>\n",
       "      <td>1</td>\n",
       "      <td>3.972033e-305</td>\n",
       "    </tr>\n",
       "    <tr>\n",
       "      <th>199</th>\n",
       "      <td>9</td>\n",
       "      <td>10</td>\n",
       "      <td>2.137618e-300</td>\n",
       "      <td>2</td>\n",
       "      <td>4.061474e-298</td>\n",
       "    </tr>\n",
       "    <tr>\n",
       "      <th>342</th>\n",
       "      <td>0</td>\n",
       "      <td>18</td>\n",
       "      <td>3.328318e-274</td>\n",
       "      <td>3</td>\n",
       "      <td>4.215870e-272</td>\n",
       "    </tr>\n",
       "    <tr>\n",
       "      <th>71</th>\n",
       "      <td>15</td>\n",
       "      <td>3</td>\n",
       "      <td>1.155158e-246</td>\n",
       "      <td>4</td>\n",
       "      <td>1.097400e-244</td>\n",
       "    </tr>\n",
       "    <tr>\n",
       "      <th>14</th>\n",
       "      <td>15</td>\n",
       "      <td>0</td>\n",
       "      <td>3.605090e-216</td>\n",
       "      <td>5</td>\n",
       "      <td>2.739869e-214</td>\n",
       "    </tr>\n",
       "  </tbody>\n",
       "</table>\n",
       "</div>"
      ],
      "text/plain": [
       "     candidate_parent_idx  target_gene_idx           pval  pval_rank   \n",
       "38                      0                2  1.045272e-307          1  \\\n",
       "199                     9               10  2.137618e-300          2   \n",
       "342                     0               18  3.328318e-274          3   \n",
       "71                     15                3  1.155158e-246          4   \n",
       "14                     15                0  3.605090e-216          5   \n",
       "\n",
       "          pval_adj  \n",
       "38   3.972033e-305  \n",
       "199  4.061474e-298  \n",
       "342  4.215870e-272  \n",
       "71   1.097400e-244  \n",
       "14   2.739869e-214  "
      ]
     },
     "execution_count": 173,
     "metadata": {},
     "output_type": "execute_result"
    }
   ],
   "source": [
    "ks_edges_df = compute_p_values(X_df)\n",
    "ks_edges_df.head()"
   ]
  },
  {
   "cell_type": "code",
   "execution_count": 174,
   "id": "bab7aed6-1fb1-4242-9175-53845f8a5274",
   "metadata": {
    "tags": []
   },
   "outputs": [
    {
     "data": {
      "text/plain": [
       "(array([139.,   6.,   3.,  11.,   8.,   3.,   8.,   7.,   6.,   7.,   4.,\n",
       "          5.,   2.,   2.,   7.,   4.,   5.,   3.,   4.,   5.,   8.,   3.,\n",
       "          2.,   5.,   4.,   3.,   6.,   5.,   2.,   6.,   0.,   2.,   0.,\n",
       "          3.,   5.,   6.,   6.,   5.,   8.,   7.,   3.,   7.,   6.,   5.,\n",
       "          2.,   2.,   8.,   7.,   6.,   9.]),\n",
       " array([3.97203322e-305, 1.99264917e-002, 3.98529833e-002, 5.97794750e-002,\n",
       "        7.97059666e-002, 9.96324583e-002, 1.19558950e-001, 1.39485442e-001,\n",
       "        1.59411933e-001, 1.79338425e-001, 1.99264917e-001, 2.19191408e-001,\n",
       "        2.39117900e-001, 2.59044392e-001, 2.78970883e-001, 2.98897375e-001,\n",
       "        3.18823867e-001, 3.38750358e-001, 3.58676850e-001, 3.78603342e-001,\n",
       "        3.98529833e-001, 4.18456325e-001, 4.38382816e-001, 4.58309308e-001,\n",
       "        4.78235800e-001, 4.98162291e-001, 5.18088783e-001, 5.38015275e-001,\n",
       "        5.57941766e-001, 5.77868258e-001, 5.97794750e-001, 6.17721241e-001,\n",
       "        6.37647733e-001, 6.57574225e-001, 6.77500716e-001, 6.97427208e-001,\n",
       "        7.17353700e-001, 7.37280191e-001, 7.57206683e-001, 7.77133175e-001,\n",
       "        7.97059666e-001, 8.16986158e-001, 8.36912650e-001, 8.56839141e-001,\n",
       "        8.76765633e-001, 8.96692125e-001, 9.16618616e-001, 9.36545108e-001,\n",
       "        9.56471600e-001, 9.76398091e-001, 9.96324583e-001]),\n",
       " <BarContainer object of 50 artists>)"
      ]
     },
     "execution_count": 174,
     "metadata": {},
     "output_type": "execute_result"
    },
    {
     "data": {
      "image/png": "[encoded data removed]",
      "text/plain": [
       "<Figure size 640x480 with 1 Axes>"
      ]
     },
     "metadata": {},
     "output_type": "display_data"
    }
   ],
   "source": [
    "plt.hist(ks_edges_df[\"pval_adj\"], bins=50)"
   ]
  },
  {
   "cell_type": "code",
   "execution_count": 175,
   "id": "4ec3c397-287c-4a4d-9078-5ad573da70c2",
   "metadata": {
    "tags": []
   },
   "outputs": [
    {
     "data": {
      "text/html": [
       "<div>\n",
       "<style scoped>\n",
       "    .dataframe tbody tr th:only-of-type {\n",
       "        vertical-align: middle;\n",
       "    }\n",
       "\n",
       "    .dataframe tbody tr th {\n",
       "        vertical-align: top;\n",
       "    }\n",
       "\n",
       "    .dataframe thead th {\n",
       "        text-align: right;\n",
       "    }\n",
       "</style>\n",
       "<table border=\"1\" class=\"dataframe\">\n",
       "  <thead>\n",
       "    <tr style=\"text-align: right;\">\n",
       "      <th></th>\n",
       "      <th>candidate_parent_idx</th>\n",
       "      <th>target_gene_idx</th>\n",
       "      <th>pval</th>\n",
       "      <th>pval_rank</th>\n",
       "      <th>pval_adj</th>\n",
       "    </tr>\n",
       "  </thead>\n",
       "  <tbody>\n",
       "    <tr>\n",
       "      <th>38</th>\n",
       "      <td>0</td>\n",
       "      <td>2</td>\n",
       "      <td>1.045272e-307</td>\n",
       "      <td>1</td>\n",
       "      <td>3.972033e-305</td>\n",
       "    </tr>\n",
       "    <tr>\n",
       "      <th>199</th>\n",
       "      <td>9</td>\n",
       "      <td>10</td>\n",
       "      <td>2.137618e-300</td>\n",
       "      <td>2</td>\n",
       "      <td>4.061474e-298</td>\n",
       "    </tr>\n",
       "    <tr>\n",
       "      <th>342</th>\n",
       "      <td>0</td>\n",
       "      <td>18</td>\n",
       "      <td>3.328318e-274</td>\n",
       "      <td>3</td>\n",
       "      <td>4.215870e-272</td>\n",
       "    </tr>\n",
       "    <tr>\n",
       "      <th>71</th>\n",
       "      <td>15</td>\n",
       "      <td>3</td>\n",
       "      <td>1.155158e-246</td>\n",
       "      <td>4</td>\n",
       "      <td>1.097400e-244</td>\n",
       "    </tr>\n",
       "    <tr>\n",
       "      <th>14</th>\n",
       "      <td>15</td>\n",
       "      <td>0</td>\n",
       "      <td>3.605090e-216</td>\n",
       "      <td>5</td>\n",
       "      <td>2.739869e-214</td>\n",
       "    </tr>\n",
       "  </tbody>\n",
       "</table>\n",
       "</div>"
      ],
      "text/plain": [
       "     candidate_parent_idx  target_gene_idx           pval  pval_rank   \n",
       "38                      0                2  1.045272e-307          1  \\\n",
       "199                     9               10  2.137618e-300          2   \n",
       "342                     0               18  3.328318e-274          3   \n",
       "71                     15                3  1.155158e-246          4   \n",
       "14                     15                0  3.605090e-216          5   \n",
       "\n",
       "          pval_adj  \n",
       "38   3.972033e-305  \n",
       "199  4.061474e-298  \n",
       "342  4.215870e-272  \n",
       "71   1.097400e-244  \n",
       "14   2.739869e-214  "
      ]
     },
     "execution_count": 175,
     "metadata": {},
     "output_type": "execute_result"
    }
   ],
   "source": [
    "ks_valid_edges_df = ks_edges_df[ks_edges_df[\"pval_adj\"] <= 0.05].copy()\n",
    "ks_valid_edges_df.head()"
   ]
  },
  {
   "cell_type": "code",
   "execution_count": 188,
   "id": "ede05016-3863-4e14-b3f3-dae17b25dc1c",
   "metadata": {},
   "outputs": [],
   "source": [
    "B_inf = np.zeros_like(B_true)\n",
    "for row in ks_valid_edges_df.iterrows():\n",
    "    B_inf[int(row[1][\"candidate_parent_idx\"]), int(row[1][\"target_gene_idx\"])] = 1"
   ]
  },
  {
   "cell_type": "code",
   "execution_count": 178,
   "id": "dfed4b21-62f9-46cf-89f1-61fcef01045b",
   "metadata": {
    "tags": []
   },
   "outputs": [
    {
     "data": {
      "image/png": "[encoded data removed]",
      "text/plain": [
       "<Figure size 1200x500 with 4 Axes>"
      ]
     },
     "metadata": {},
     "output_type": "display_data"
    }
   ],
   "source": [
    "fig, ax = plt.subplots(1, 2, figsize=(12, 5))\n",
    "sns.heatmap(B_true, ax=ax[0])\n",
    "sns.heatmap(B_inf, ax=ax[1])\n",
    "plt.show()\n"
   ]
  },
  {
   "cell_type": "code",
   "execution_count": 179,
   "id": "c19ca092-4d5b-45bc-9a71-3824219d8404",
   "metadata": {
    "tags": []
   },
   "outputs": [
    {
     "name": "stdout",
     "output_type": "stream",
     "text": [
      "Recall: 0.85 Precision: 0.46258503401360546\n"
     ]
    }
   ],
   "source": [
    "recall = np.sum(B_true.astype(bool) & B_inf.astype(bool)) / np.sum(B_true)\n",
    "precision = np.sum(B_true.astype(bool) & B_inf.astype(bool)) / np.sum(B_inf)\n",
    "print(f\"Recall: {recall} Precision: {precision}\")"
   ]
  },
  {
   "cell_type": "code",
   "execution_count": 205,
   "id": "f3427278-15ee-4bad-9114-cf2efc4c4649",
   "metadata": {
    "tags": []
   },
   "outputs": [],
   "source": [
    "# Precision recall curve as you change sig level.\n",
    "B_pvals = np.zeros_like(B_true)\n",
    "for row in ks_edges_df.iterrows():\n",
    "    B_inf[int(row[1][\"candidate_parent_idx\"]), int(row[1][\"target_gene_idx\"])] = 1 - row[1][\"pval_adj\"]\n",
    "precisions, recalls, thresholds = sklearn.metrics.precision_recall_curve(B_true.flatten(), B_inf.flatten())\n",
    "n_edges = []\n",
    "thresholds = np.append(thresholds, 1)\n",
    "for t in thresholds:\n",
    "    n_edges.append(np.sum(B_inf > t))\n",
    "n_edges = np.array(n_edges)"
   ]
  },
  {
   "cell_type": "code",
   "execution_count": 208,
   "id": "4c9865c9-1588-4085-aa11-2b49097d0f83",
   "metadata": {
    "tags": []
   },
   "outputs": [
    {
     "data": {
      "image/png": "[encoded data removed]",
      "text/plain": [
       "<Figure size 640x480 with 2 Axes>"
      ]
     },
     "metadata": {},
     "output_type": "display_data"
    }
   ],
   "source": [
    "fig, ax1 = plt.subplots()\n",
    "\n",
    "color = 'tab:red'\n",
    "ax1.set_xlabel('Recall')\n",
    "ax1.set_ylabel('Precision', color=color)\n",
    "ax1.plot(recalls, precisions, color=color)\n",
    "ax1.tick_params(axis='y', labelcolor=color)\n",
    "\n",
    "ax2 = ax1.twinx()  # instantiate a second axes that shares the same x-axis\n",
    "\n",
    "color = 'tab:blue'\n",
    "ax2.set_ylabel('Num Edges / Num True Edges', color=color)  # we already handled the x-label with ax1\n",
    "ax2.plot(recalls, n_edges / np.sum(B_true), color=color)\n",
    "ax2.tick_params(axis='y', labelcolor=color)\n",
    "\n",
    "fig.tight_layout()  # otherwise the right y-label is slightly clipped\n",
    "plt.show()"
   ]
  },
  {
   "cell_type": "code",
   "execution_count": 190,
   "id": "ffb7561d-aaf9-42fd-9bfd-8fe8849bb100",
   "metadata": {
    "tags": []
   },
   "outputs": [
    {
     "data": {
      "text/html": [
       "<div>\n",
       "<style scoped>\n",
       "    .dataframe tbody tr th:only-of-type {\n",
       "        vertical-align: middle;\n",
       "    }\n",
       "\n",
       "    .dataframe tbody tr th {\n",
       "        vertical-align: top;\n",
       "    }\n",
       "\n",
       "    .dataframe thead th {\n",
       "        text-align: right;\n",
       "    }\n",
       "</style>\n",
       "<table border=\"1\" class=\"dataframe\">\n",
       "  <thead>\n",
       "    <tr style=\"text-align: right;\">\n",
       "      <th></th>\n",
       "      <th>candidate_parent_idx</th>\n",
       "      <th>target_gene_idx</th>\n",
       "      <th>pval</th>\n",
       "      <th>pval_rank</th>\n",
       "      <th>pval_adj</th>\n",
       "      <th>pval_adj_rank</th>\n",
       "    </tr>\n",
       "  </thead>\n",
       "  <tbody>\n",
       "    <tr>\n",
       "      <th>14</th>\n",
       "      <td>15</td>\n",
       "      <td>0</td>\n",
       "      <td>3.605090e-216</td>\n",
       "      <td>5</td>\n",
       "      <td>2.739869e-214</td>\n",
       "      <td>1</td>\n",
       "    </tr>\n",
       "    <tr>\n",
       "      <th>13</th>\n",
       "      <td>14</td>\n",
       "      <td>0</td>\n",
       "      <td>7.464625e-184</td>\n",
       "      <td>10</td>\n",
       "      <td>2.836557e-182</td>\n",
       "      <td>2</td>\n",
       "    </tr>\n",
       "    <tr>\n",
       "      <th>6</th>\n",
       "      <td>7</td>\n",
       "      <td>0</td>\n",
       "      <td>1.566776e-94</td>\n",
       "      <td>15</td>\n",
       "      <td>3.969165e-93</td>\n",
       "      <td>3</td>\n",
       "    </tr>\n",
       "    <tr>\n",
       "      <th>2</th>\n",
       "      <td>3</td>\n",
       "      <td>0</td>\n",
       "      <td>1.866672e-41</td>\n",
       "      <td>36</td>\n",
       "      <td>1.970376e-40</td>\n",
       "      <td>4</td>\n",
       "    </tr>\n",
       "    <tr>\n",
       "      <th>3</th>\n",
       "      <td>4</td>\n",
       "      <td>0</td>\n",
       "      <td>3.318344e-15</td>\n",
       "      <td>69</td>\n",
       "      <td>1.827494e-14</td>\n",
       "      <td>5</td>\n",
       "    </tr>\n",
       "    <tr>\n",
       "      <th>...</th>\n",
       "      <td>...</td>\n",
       "      <td>...</td>\n",
       "      <td>...</td>\n",
       "      <td>...</td>\n",
       "      <td>...</td>\n",
       "      <td>...</td>\n",
       "    </tr>\n",
       "    <tr>\n",
       "      <th>363</th>\n",
       "      <td>2</td>\n",
       "      <td>19</td>\n",
       "      <td>6.478149e-01</td>\n",
       "      <td>313</td>\n",
       "      <td>7.864845e-01</td>\n",
       "      <td>15</td>\n",
       "    </tr>\n",
       "    <tr>\n",
       "      <th>361</th>\n",
       "      <td>0</td>\n",
       "      <td>19</td>\n",
       "      <td>8.595454e-01</td>\n",
       "      <td>351</td>\n",
       "      <td>9.305620e-01</td>\n",
       "      <td>16</td>\n",
       "    </tr>\n",
       "    <tr>\n",
       "      <th>372</th>\n",
       "      <td>11</td>\n",
       "      <td>19</td>\n",
       "      <td>9.136894e-01</td>\n",
       "      <td>366</td>\n",
       "      <td>9.486393e-01</td>\n",
       "      <td>17</td>\n",
       "    </tr>\n",
       "    <tr>\n",
       "      <th>373</th>\n",
       "      <td>12</td>\n",
       "      <td>19</td>\n",
       "      <td>9.136894e-01</td>\n",
       "      <td>365</td>\n",
       "      <td>9.512383e-01</td>\n",
       "      <td>18</td>\n",
       "    </tr>\n",
       "    <tr>\n",
       "      <th>377</th>\n",
       "      <td>16</td>\n",
       "      <td>19</td>\n",
       "      <td>9.542189e-01</td>\n",
       "      <td>373</td>\n",
       "      <td>9.721265e-01</td>\n",
       "      <td>19</td>\n",
       "    </tr>\n",
       "  </tbody>\n",
       "</table>\n",
       "<p>380 rows × 6 columns</p>\n",
       "</div>"
      ],
      "text/plain": [
       "     candidate_parent_idx  target_gene_idx           pval  pval_rank   \n",
       "14                     15                0  3.605090e-216          5  \\\n",
       "13                     14                0  7.464625e-184         10   \n",
       "6                       7                0   1.566776e-94         15   \n",
       "2                       3                0   1.866672e-41         36   \n",
       "3                       4                0   3.318344e-15         69   \n",
       "..                    ...              ...            ...        ...   \n",
       "363                     2               19   6.478149e-01        313   \n",
       "361                     0               19   8.595454e-01        351   \n",
       "372                    11               19   9.136894e-01        366   \n",
       "373                    12               19   9.136894e-01        365   \n",
       "377                    16               19   9.542189e-01        373   \n",
       "\n",
       "          pval_adj  pval_adj_rank  \n",
       "14   2.739869e-214              1  \n",
       "13   2.836557e-182              2  \n",
       "6     3.969165e-93              3  \n",
       "2     1.970376e-40              4  \n",
       "3     1.827494e-14              5  \n",
       "..             ...            ...  \n",
       "363   7.864845e-01             15  \n",
       "361   9.305620e-01             16  \n",
       "372   9.486393e-01             17  \n",
       "373   9.512383e-01             18  \n",
       "377   9.721265e-01             19  \n",
       "\n",
       "[380 rows x 6 columns]"
      ]
     },
     "execution_count": 190,
     "metadata": {},
     "output_type": "execute_result"
    }
   ],
   "source": [
    "# Filter by max parents and plot recall by number of parents\n",
    "ks_edges_parent_rank_dfs = []\n",
    "for target_gene_idx, df in ks_edges_df.groupby(\"target_gene_idx\"):\n",
    "    df = df.sort_values(\"pval_adj\", ascending=True)\n",
    "    df[\"pval_adj_rank\"] = np.arange(1, df.shape[0] + 1)\n",
    "    ks_edges_parent_rank_dfs.append(df)\n",
    "ks_edges_parent_rank_df = pd.concat(ks_edges_parent_rank_dfs)\n",
    "ks_edges_parent_rank_df"
   ]
  },
  {
   "cell_type": "code",
   "execution_count": 192,
   "id": "9bf122f0-42df-4334-a116-f664b91037f1",
   "metadata": {
    "tags": []
   },
   "outputs": [
    {
     "data": {
      "text/plain": [
       "Text(0, 0.5, 'Recall')"
      ]
     },
     "execution_count": 192,
     "metadata": {},
     "output_type": "execute_result"
    },
    {
     "data": {
      "image/png": "[encoded data removed]",
      "text/plain": [
       "<Figure size 640x480 with 1 Axes>"
      ]
     },
     "metadata": {},
     "output_type": "display_data"
    }
   ],
   "source": [
    "B_ranks = np.zeros_like(B_true) + d\n",
    "for row in ks_edges_parent_rank_df.iterrows():\n",
    "    B_ranks[int(row[1][\"candidate_parent_idx\"]), int(row[1][\"target_gene_idx\"])] = row[1][\"pval_adj_rank\"]\n",
    "\n",
    "n_parents = list(range(1, 20))\n",
    "recalls = []\n",
    "B_true_bool = B_true.astype(bool)\n",
    "for n_parent in n_parents:\n",
    "    B_rank_thresh = B_ranks <= n_parent\n",
    "    recalls.append(np.sum(B_true_bool & B_rank_thresh) / np.sum(B_true_bool))\n",
    "    \n",
    "plt.plot(n_parents, recalls)\n",
    "plt.xlabel(\"Number of parents\")\n",
    "plt.ylabel(\"Recall\")\n",
    "    "
   ]
  },
  {
   "cell_type": "code",
   "execution_count": 138,
   "id": "623978c6-a21a-41be-8403-ae9744ab3e57",
   "metadata": {
    "tags": []
   },
   "outputs": [],
   "source": [
    "# Try G^3 correlation tests\n",
    "def compute_cross_p_values(X_df):\n",
    "    edge_rows = []\n",
    "    d = X_df.shape[1] - 1\n",
    "    for int_gene_idx in tqdm(range(d + 1)):\n",
    "        for candidate_parent_idx in range(d):\n",
    "            for target_gene_idx in range(d):\n",
    "                if target_gene_idx == candidate_parent_idx or target_gene_idx == int_gene_idx:\n",
    "                    continue\n",
    "                if int_gene_idx == d:\n",
    "                    p_label = \"obs\"\n",
    "                else:\n",
    "                    p_label = int_gene_idx\n",
    "                int_subset_df = X_df[X_df.perturbation_label == p_label]\n",
    "                spearman_stat, pval = scipy.stats.spearmanr(int_subset_df.loc[:, candidate_parent_idx].to_numpy(), int_subset_df.loc[:, target_gene_idx].to_numpy())\n",
    "                edge_rows.append((candidate_parent_idx, target_gene_idx, p_label, pval))\n",
    "    edges_df = pd.DataFrame(edge_rows, columns=[\"candidate_parent_idx\", \"target_gene_idx\", \"int_gene_idx\", \"pval\"])\n",
    "    \n",
    "    # Compute BH corrected pvals\n",
    "    edges_df = edges_df.sort_values(\"pval\")\n",
    "    n_pvals = edges_df.shape[0]\n",
    "    edges_df[\"pval_rank\"] = np.arange(1, edges_df.shape[0] + 1)\n",
    "    edges_df[\"pval_adj\"] = edges_df[\"pval\"] * n_pvals / edges_df[\"pval_rank\"]\n",
    "    \n",
    "    return edges_df"
   ]
  },
  {
   "cell_type": "code",
   "execution_count": 139,
   "id": "f13888b7-04d9-4f60-981e-8b0e609dbb10",
   "metadata": {},
   "outputs": [
    {
     "name": "stderr",
     "output_type": "stream",
     "text": [
      "  0%|                                                                                                                                                                                                                                                                                                                                                                                                              | 0/21 [00:00<?, ?it/s]/opt/homebrew/Caskroom/miniforge/base/envs/causalperturb/lib/python3.9/site-packages/scipy/stats/_stats_py.py:4916: ConstantInputWarning: An input array is constant; the correlation coefficient is not defined.\n",
      "  warnings.warn(stats.ConstantInputWarning(warn_msg))\n",
      "100%|█████████████████████████████████████████████████████████████████████████████████████████████████████████████████████████████████████████████████████████████████████████████████████████████████████████████████████████████████████████████████████████████████████████████████████████████████████████████████████████████████████████████████████████████████████████████████████████████████████| 21/21 [00:03<00:00,  6.84it/s]\n"
     ]
    },
    {
     "data": {
      "text/html": [
       "<div>\n",
       "<style scoped>\n",
       "    .dataframe tbody tr th:only-of-type {\n",
       "        vertical-align: middle;\n",
       "    }\n",
       "\n",
       "    .dataframe tbody tr th {\n",
       "        vertical-align: top;\n",
       "    }\n",
       "\n",
       "    .dataframe thead th {\n",
       "        text-align: right;\n",
       "    }\n",
       "</style>\n",
       "<table border=\"1\" class=\"dataframe\">\n",
       "  <thead>\n",
       "    <tr style=\"text-align: right;\">\n",
       "      <th></th>\n",
       "      <th>candidate_parent_idx</th>\n",
       "      <th>target_gene_idx</th>\n",
       "      <th>int_gene_idx</th>\n",
       "      <th>pval</th>\n",
       "      <th>pval_rank</th>\n",
       "      <th>pval_adj</th>\n",
       "    </tr>\n",
       "  </thead>\n",
       "  <tbody>\n",
       "    <tr>\n",
       "      <th>6638</th>\n",
       "      <td>7</td>\n",
       "      <td>15</td>\n",
       "      <td>18</td>\n",
       "      <td>0.0</td>\n",
       "      <td>1</td>\n",
       "      <td>0.0</td>\n",
       "    </tr>\n",
       "    <tr>\n",
       "      <th>6414</th>\n",
       "      <td>15</td>\n",
       "      <td>7</td>\n",
       "      <td>17</td>\n",
       "      <td>0.0</td>\n",
       "      <td>2</td>\n",
       "      <td>0.0</td>\n",
       "    </tr>\n",
       "    <tr>\n",
       "      <th>6775</th>\n",
       "      <td>15</td>\n",
       "      <td>7</td>\n",
       "      <td>18</td>\n",
       "      <td>0.0</td>\n",
       "      <td>3</td>\n",
       "      <td>0.0</td>\n",
       "    </tr>\n",
       "    <tr>\n",
       "      <th>3509</th>\n",
       "      <td>14</td>\n",
       "      <td>7</td>\n",
       "      <td>9</td>\n",
       "      <td>0.0</td>\n",
       "      <td>4</td>\n",
       "      <td>0.0</td>\n",
       "    </tr>\n",
       "    <tr>\n",
       "      <th>6771</th>\n",
       "      <td>15</td>\n",
       "      <td>3</td>\n",
       "      <td>18</td>\n",
       "      <td>0.0</td>\n",
       "      <td>5</td>\n",
       "      <td>0.0</td>\n",
       "    </tr>\n",
       "  </tbody>\n",
       "</table>\n",
       "</div>"
      ],
      "text/plain": [
       "      candidate_parent_idx  target_gene_idx int_gene_idx  pval  pval_rank   \n",
       "6638                     7               15           18   0.0          1  \\\n",
       "6414                    15                7           17   0.0          2   \n",
       "6775                    15                7           18   0.0          3   \n",
       "3509                    14                7            9   0.0          4   \n",
       "6771                    15                3           18   0.0          5   \n",
       "\n",
       "      pval_adj  \n",
       "6638       0.0  \n",
       "6414       0.0  \n",
       "6775       0.0  \n",
       "3509       0.0  \n",
       "6771       0.0  "
      ]
     },
     "execution_count": 139,
     "metadata": {},
     "output_type": "execute_result"
    }
   ],
   "source": [
    "cross_spearman_edges_df = compute_cross_p_values(X_df)\n",
    "cross_spearman_edges_df.head()"
   ]
  },
  {
   "cell_type": "code",
   "execution_count": 142,
   "id": "d06e0286-1566-4f09-abc1-8deae50a6b2d",
   "metadata": {
    "tags": []
   },
   "outputs": [
    {
     "data": {
      "text/plain": [
       "(array([5414.,  116.,   82.,   82.,   70.,   82.,   54.,   68.,   40.,\n",
       "          40.,   38.,   48.,   40.,   52.,   66.,   24.,   26.,   34.,\n",
       "          11.,   47.,   18.,   31.,   25.,   20.,   34.,   20.,   28.,\n",
       "          30.,   32.,   18.,   37.,   27.,   26.,   36.,   18.,   20.,\n",
       "          28.,   30.,   22.,   26.,   16.,   33.,   33.,   36.,   22.,\n",
       "          24.,   27.,   43.,   16.,   10.]),\n",
       " array([0.        , 0.02103255, 0.0420651 , 0.06309765, 0.0841302 ,\n",
       "        0.10516275, 0.1261953 , 0.14722785, 0.1682604 , 0.18929295,\n",
       "        0.2103255 , 0.23135805, 0.2523906 , 0.27342315, 0.2944557 ,\n",
       "        0.31548825, 0.3365208 , 0.35755335, 0.3785859 , 0.39961845,\n",
       "        0.42065099, 0.44168354, 0.46271609, 0.48374864, 0.50478119,\n",
       "        0.52581374, 0.54684629, 0.56787884, 0.58891139, 0.60994394,\n",
       "        0.63097649, 0.65200904, 0.67304159, 0.69407414, 0.71510669,\n",
       "        0.73613924, 0.75717179, 0.77820434, 0.79923689, 0.82026944,\n",
       "        0.84130199, 0.86233454, 0.88336709, 0.90439964, 0.92543219,\n",
       "        0.94646474, 0.96749729, 0.98852984, 1.00956239, 1.03059494,\n",
       "        1.05162749]),\n",
       " <BarContainer object of 50 artists>)"
      ]
     },
     "execution_count": 142,
     "metadata": {},
     "output_type": "execute_result"
    },
    {
     "data": {
      "image/png": "[encoded data removed]",
      "text/plain": [
       "<Figure size 640x480 with 1 Axes>"
      ]
     },
     "metadata": {},
     "output_type": "display_data"
    }
   ],
   "source": [
    "plt.hist(cross_spearman_edges_df[\"pval_adj\"], bins=50)"
   ]
  },
  {
   "cell_type": "code",
   "execution_count": 161,
   "id": "f97609bb-8309-49ef-a2b7-d6e54a9a7dc1",
   "metadata": {},
   "outputs": [],
   "source": [
    "agg_cross_spearman_edges_df = cross_spearman_edges_df.groupby([\"target_gene_idx\", \"candidate_parent_idx\"]).agg({\"pval_adj\": max})\n",
    "\n",
    "# def sort_by_pval_adj(df):\n",
    "#     return df.sort_values('pval_adj', ascending=True)\n",
    "\n",
    "# sorted_groups = [sort_by_pval_adj(group) for _, group in agg_cross_spearman_edges_df.groupby(\"target_gene_idx\")]\n",
    "# for group in sorted_groups:\n",
    "#     group[\"rank\"] = np.arange(1, group.shape[0] + 1)\n"
   ]
  },
  {
   "cell_type": "code",
   "execution_count": 162,
   "id": "785c93a2-3113-4b3e-b7bb-33a7e16dc3f2",
   "metadata": {
    "tags": []
   },
   "outputs": [],
   "source": [
    "B_cross_inf = np.zeros_like(B_true)\n",
    "for row in agg_cross_spearman_edges_df.iterrows():\n",
    "    target, cand = row[0]\n",
    "    p_val = row[1][\"pval_adj\"]\n",
    "    B_cross_inf[cand, target] = p_val <= 0.05"
   ]
  },
  {
   "cell_type": "code",
   "execution_count": 163,
   "id": "f78575e3-daab-4de1-8879-3df6af7b85f6",
   "metadata": {},
   "outputs": [
    {
     "data": {
      "image/png": "[encoded data removed]",
      "text/plain": [
       "<Figure size 1200x500 with 4 Axes>"
      ]
     },
     "metadata": {},
     "output_type": "display_data"
    }
   ],
   "source": [
    "fig, ax = plt.subplots(1, 2, figsize=(12, 5))\n",
    "sns.heatmap(B_true, ax=ax[0])\n",
    "sns.heatmap(B_cross_inf, ax=ax[1])\n",
    "plt.show()\n"
   ]
  },
  {
   "cell_type": "code",
   "execution_count": 164,
   "id": "23b49ca9-5ffa-4247-876f-9594b53fedd7",
   "metadata": {},
   "outputs": [
    {
     "name": "stdout",
     "output_type": "stream",
     "text": [
      "Recall: 0.3375 Precision: 0.3375\n"
     ]
    }
   ],
   "source": [
    "recall = np.sum(B_true.astype(bool) & B_cross_inf.astype(bool)) / np.sum(B_true)\n",
    "precision = np.sum(B_true.astype(bool) & B_cross_inf.astype(bool)) / np.sum(B_cross_inf)\n",
    "print(f\"Recall: {recall} Precision: {precision}\")"
   ]
  },
  {
   "cell_type": "code",
   "execution_count": 168,
   "id": "e308c369-3a65-4556-b5ed-de42a8b6385d",
   "metadata": {
    "tags": []
   },
   "outputs": [
    {
     "data": {
      "text/html": [
       "<div>\n",
       "<style scoped>\n",
       "    .dataframe tbody tr th:only-of-type {\n",
       "        vertical-align: middle;\n",
       "    }\n",
       "\n",
       "    .dataframe tbody tr th {\n",
       "        vertical-align: top;\n",
       "    }\n",
       "\n",
       "    .dataframe thead th {\n",
       "        text-align: right;\n",
       "    }\n",
       "</style>\n",
       "<table border=\"1\" class=\"dataframe\">\n",
       "  <thead>\n",
       "    <tr style=\"text-align: right;\">\n",
       "      <th></th>\n",
       "      <th></th>\n",
       "      <th>pval_adj</th>\n",
       "    </tr>\n",
       "    <tr>\n",
       "      <th>target_gene_idx</th>\n",
       "      <th>candidate_parent_idx</th>\n",
       "      <th></th>\n",
       "    </tr>\n",
       "  </thead>\n",
       "  <tbody>\n",
       "    <tr>\n",
       "      <th rowspan=\"5\" valign=\"top\">0</th>\n",
       "      <th>1</th>\n",
       "      <td>4.636180e-01</td>\n",
       "    </tr>\n",
       "    <tr>\n",
       "      <th>2</th>\n",
       "      <td>6.228803e-14</td>\n",
       "    </tr>\n",
       "    <tr>\n",
       "      <th>3</th>\n",
       "      <td>1.151687e-28</td>\n",
       "    </tr>\n",
       "    <tr>\n",
       "      <th>4</th>\n",
       "      <td>1.611580e-03</td>\n",
       "    </tr>\n",
       "    <tr>\n",
       "      <th>5</th>\n",
       "      <td>4.505513e-01</td>\n",
       "    </tr>\n",
       "    <tr>\n",
       "      <th>...</th>\n",
       "      <th>...</th>\n",
       "      <td>...</td>\n",
       "    </tr>\n",
       "    <tr>\n",
       "      <th rowspan=\"5\" valign=\"top\">19</th>\n",
       "      <th>14</th>\n",
       "      <td>1.125604e-01</td>\n",
       "    </tr>\n",
       "    <tr>\n",
       "      <th>15</th>\n",
       "      <td>6.613208e-02</td>\n",
       "    </tr>\n",
       "    <tr>\n",
       "      <th>16</th>\n",
       "      <td>3.950301e-01</td>\n",
       "    </tr>\n",
       "    <tr>\n",
       "      <th>17</th>\n",
       "      <td>2.000852e-01</td>\n",
       "    </tr>\n",
       "    <tr>\n",
       "      <th>18</th>\n",
       "      <td>1.006669e+00</td>\n",
       "    </tr>\n",
       "  </tbody>\n",
       "</table>\n",
       "<p>380 rows × 1 columns</p>\n",
       "</div>"
      ],
      "text/plain": [
       "                                          pval_adj\n",
       "target_gene_idx candidate_parent_idx              \n",
       "0               1                     4.636180e-01\n",
       "                2                     6.228803e-14\n",
       "                3                     1.151687e-28\n",
       "                4                     1.611580e-03\n",
       "                5                     4.505513e-01\n",
       "...                                            ...\n",
       "19              14                    1.125604e-01\n",
       "                15                    6.613208e-02\n",
       "                16                    3.950301e-01\n",
       "                17                    2.000852e-01\n",
       "                18                    1.006669e+00\n",
       "\n",
       "[380 rows x 1 columns]"
      ]
     },
     "execution_count": 168,
     "metadata": {},
     "output_type": "execute_result"
    }
   ],
   "source": [
    "agg_cross_spearman_edges_df"
   ]
  },
  {
   "cell_type": "code",
   "execution_count": 170,
   "id": "93a40cd7-8990-45c5-9dd7-6a110859cb24",
   "metadata": {
    "tags": []
   },
   "outputs": [],
   "source": [
    "# Precision recall curve as you change sig level.\n",
    "B_cross_pvals = np.zeros_like(B_true)\n",
    "for row in agg_cross_spearman_edges_df.iterrows():\n",
    "    target, cand = row[0]\n",
    "    B_cross_inf[cand, target] = 1 - row[1][\"pval_adj\"]\n",
    "precisions, recalls, thresholds = sklearn.metrics.precision_recall_curve(B_true.flatten(), B_cross_inf.flatten())"
   ]
  },
  {
   "cell_type": "code",
   "execution_count": 171,
   "id": "36b6fe33-7719-422c-b338-a488beeadf07",
   "metadata": {
    "tags": []
   },
   "outputs": [
    {
     "data": {
      "text/plain": [
       "Text(0, 0.5, 'Precision')"
      ]
     },
     "execution_count": 171,
     "metadata": {},
     "output_type": "execute_result"
    },
    {
     "data": {
      "image/png": "[encoded data removed]",
      "text/plain": [
       "<Figure size 640x480 with 1 Axes>"
      ]
     },
     "metadata": {},
     "output_type": "display_data"
    }
   ],
   "source": [
    "plt.plot(recalls, precisions)\n",
    "plt.xlabel(\"Recall\")\n",
    "plt.ylabel(\"Precision\")"
   ]
  },
  {
   "cell_type": "code",
   "execution_count": null,
   "id": "08f26236-ef2f-4523-996f-4d0b3f26eca2",
   "metadata": {},
   "outputs": [],
   "source": []
  }
 ],
 "metadata": {
  "kernelspec": {
   "display_name": "Python 3 (ipykernel)",
   "language": "python",
   "name": "python3"
  },
  "language_info": {
   "codemirror_mode": {
    "name": "ipython",
    "version": 3
   },
   "file_extension": ".py",
   "mimetype": "text/x-python",
   "name": "python",
   "nbconvert_exporter": "python",
   "pygments_lexer": "ipython3",
   "version": "3.9.16"
  }
 },
 "nbformat": 4,
 "nbformat_minor": 5
}
