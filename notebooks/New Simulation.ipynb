{
 "cells": [
  {
   "cell_type": "code",
   "execution_count": 22,
   "id": "17c1f279",
   "metadata": {},
   "outputs": [],
   "source": [
    "import sys\n",
    "\n",
    "sys.path.append(\"../\")"
   ]
  },
  {
   "cell_type": "code",
   "execution_count": 2,
   "id": "f369e161",
   "metadata": {},
   "outputs": [],
   "source": [
    "import torch\n",
    "import pandas as pd\n",
    "import numpy as np\n",
    "\n",
    "from full_pipeline_main import generate_dataset\n",
    "from models import SDCI\n",
    "from utils import create_intervention_dataset, subset_interventions"
   ]
  },
  {
   "cell_type": "code",
   "execution_count": 3,
   "id": "17e36416",
   "metadata": {},
   "outputs": [],
   "source": [
    "import os\n",
    "# os.environ[\"CUDA_LAUNCH_BLOCKING\"] = \"1\""
   ]
  },
  {
   "cell_type": "code",
   "execution_count": 4,
   "id": "0f434821",
   "metadata": {},
   "outputs": [],
   "source": [
    "seed = 0\n",
    "n, d = 100, 50\n",
    "n_edges_per_d = 5\n",
    "frac_interventions = 1.0\n",
    "\n",
    "X_df, B_true, wandb_config_dict = generate_dataset(\n",
    "    n, d, seed, frac_interventions, n_edges_per_d=n_edges_per_d\n",
    ")\n",
    "X_obs = X_df[X_df[\"perturbation_label\"] == \"obs\"].loc[:, np.arange(d)].to_numpy()"
   ]
  },
  {
   "cell_type": "code",
   "execution_count": 5,
   "id": "79219b45",
   "metadata": {},
   "outputs": [
    {
     "data": {
      "text/html": [
       "<div>\n",
       "<style scoped>\n",
       "    .dataframe tbody tr th:only-of-type {\n",
       "        vertical-align: middle;\n",
       "    }\n",
       "\n",
       "    .dataframe tbody tr th {\n",
       "        vertical-align: top;\n",
       "    }\n",
       "\n",
       "    .dataframe thead th {\n",
       "        text-align: right;\n",
       "    }\n",
       "</style>\n",
       "<table border=\"1\" class=\"dataframe\">\n",
       "  <thead>\n",
       "    <tr style=\"text-align: right;\">\n",
       "      <th></th>\n",
       "      <th>28</th>\n",
       "      <th>11</th>\n",
       "      <th>10</th>\n",
       "      <th>41</th>\n",
       "      <th>2</th>\n",
       "      <th>27</th>\n",
       "      <th>38</th>\n",
       "      <th>31</th>\n",
       "      <th>22</th>\n",
       "      <th>4</th>\n",
       "      <th>...</th>\n",
       "      <th>21</th>\n",
       "      <th>19</th>\n",
       "      <th>9</th>\n",
       "      <th>39</th>\n",
       "      <th>46</th>\n",
       "      <th>3</th>\n",
       "      <th>0</th>\n",
       "      <th>47</th>\n",
       "      <th>44</th>\n",
       "      <th>perturbation_label</th>\n",
       "    </tr>\n",
       "  </thead>\n",
       "  <tbody>\n",
       "    <tr>\n",
       "      <th>0</th>\n",
       "      <td>-1.131878</td>\n",
       "      <td>-0.668550</td>\n",
       "      <td>0.637861</td>\n",
       "      <td>0.856095</td>\n",
       "      <td>-1.310928</td>\n",
       "      <td>0.597400</td>\n",
       "      <td>-1.330377</td>\n",
       "      <td>1.496293</td>\n",
       "      <td>-0.953974</td>\n",
       "      <td>-0.146177</td>\n",
       "      <td>...</td>\n",
       "      <td>0.264872</td>\n",
       "      <td>1.076563</td>\n",
       "      <td>-0.461905</td>\n",
       "      <td>1.155870</td>\n",
       "      <td>-1.031029</td>\n",
       "      <td>-0.203280</td>\n",
       "      <td>0.473027</td>\n",
       "      <td>0.758574</td>\n",
       "      <td>-0.131691</td>\n",
       "      <td>obs</td>\n",
       "    </tr>\n",
       "    <tr>\n",
       "      <th>1</th>\n",
       "      <td>-1.158483</td>\n",
       "      <td>1.427506</td>\n",
       "      <td>0.586534</td>\n",
       "      <td>-2.713493</td>\n",
       "      <td>0.005226</td>\n",
       "      <td>0.246915</td>\n",
       "      <td>-0.621413</td>\n",
       "      <td>1.295494</td>\n",
       "      <td>2.111949</td>\n",
       "      <td>-0.950280</td>\n",
       "      <td>...</td>\n",
       "      <td>0.627192</td>\n",
       "      <td>-0.520388</td>\n",
       "      <td>1.991495</td>\n",
       "      <td>-0.876933</td>\n",
       "      <td>0.290530</td>\n",
       "      <td>0.996067</td>\n",
       "      <td>1.524274</td>\n",
       "      <td>0.669273</td>\n",
       "      <td>-0.222533</td>\n",
       "      <td>obs</td>\n",
       "    </tr>\n",
       "    <tr>\n",
       "      <th>2</th>\n",
       "      <td>-0.253838</td>\n",
       "      <td>-0.991563</td>\n",
       "      <td>0.606338</td>\n",
       "      <td>2.007782</td>\n",
       "      <td>-0.387527</td>\n",
       "      <td>0.543110</td>\n",
       "      <td>0.006815</td>\n",
       "      <td>0.422589</td>\n",
       "      <td>-1.645041</td>\n",
       "      <td>-0.059376</td>\n",
       "      <td>...</td>\n",
       "      <td>-1.626611</td>\n",
       "      <td>0.868351</td>\n",
       "      <td>-0.321282</td>\n",
       "      <td>0.661184</td>\n",
       "      <td>-0.954574</td>\n",
       "      <td>0.168734</td>\n",
       "      <td>-1.038821</td>\n",
       "      <td>-0.612818</td>\n",
       "      <td>1.368928</td>\n",
       "      <td>obs</td>\n",
       "    </tr>\n",
       "    <tr>\n",
       "      <th>3</th>\n",
       "      <td>-0.437720</td>\n",
       "      <td>0.775322</td>\n",
       "      <td>0.657285</td>\n",
       "      <td>0.312580</td>\n",
       "      <td>0.285442</td>\n",
       "      <td>-0.032858</td>\n",
       "      <td>0.767112</td>\n",
       "      <td>-0.091394</td>\n",
       "      <td>-0.327218</td>\n",
       "      <td>1.585244</td>\n",
       "      <td>...</td>\n",
       "      <td>-0.586986</td>\n",
       "      <td>-0.012732</td>\n",
       "      <td>0.705358</td>\n",
       "      <td>-0.106824</td>\n",
       "      <td>-1.109579</td>\n",
       "      <td>-0.369812</td>\n",
       "      <td>-0.726960</td>\n",
       "      <td>0.062663</td>\n",
       "      <td>-1.370486</td>\n",
       "      <td>obs</td>\n",
       "    </tr>\n",
       "    <tr>\n",
       "      <th>4</th>\n",
       "      <td>0.848940</td>\n",
       "      <td>0.379466</td>\n",
       "      <td>-1.228701</td>\n",
       "      <td>0.247954</td>\n",
       "      <td>-0.040753</td>\n",
       "      <td>-0.279482</td>\n",
       "      <td>-0.189638</td>\n",
       "      <td>-0.702421</td>\n",
       "      <td>0.105489</td>\n",
       "      <td>0.327406</td>\n",
       "      <td>...</td>\n",
       "      <td>-1.193831</td>\n",
       "      <td>0.181123</td>\n",
       "      <td>-1.307384</td>\n",
       "      <td>-0.784006</td>\n",
       "      <td>0.105912</td>\n",
       "      <td>-1.175130</td>\n",
       "      <td>-0.639468</td>\n",
       "      <td>0.218194</td>\n",
       "      <td>1.031022</td>\n",
       "      <td>obs</td>\n",
       "    </tr>\n",
       "    <tr>\n",
       "      <th>...</th>\n",
       "      <td>...</td>\n",
       "      <td>...</td>\n",
       "      <td>...</td>\n",
       "      <td>...</td>\n",
       "      <td>...</td>\n",
       "      <td>...</td>\n",
       "      <td>...</td>\n",
       "      <td>...</td>\n",
       "      <td>...</td>\n",
       "      <td>...</td>\n",
       "      <td>...</td>\n",
       "      <td>...</td>\n",
       "      <td>...</td>\n",
       "      <td>...</td>\n",
       "      <td>...</td>\n",
       "      <td>...</td>\n",
       "      <td>...</td>\n",
       "      <td>...</td>\n",
       "      <td>...</td>\n",
       "      <td>...</td>\n",
       "      <td>...</td>\n",
       "    </tr>\n",
       "    <tr>\n",
       "      <th>10095</th>\n",
       "      <td>-0.167545</td>\n",
       "      <td>0.230976</td>\n",
       "      <td>0.790028</td>\n",
       "      <td>1.844550</td>\n",
       "      <td>-0.686278</td>\n",
       "      <td>0.900254</td>\n",
       "      <td>0.061177</td>\n",
       "      <td>0.061668</td>\n",
       "      <td>-1.377525</td>\n",
       "      <td>0.597895</td>\n",
       "      <td>...</td>\n",
       "      <td>-0.216626</td>\n",
       "      <td>0.403838</td>\n",
       "      <td>0.067887</td>\n",
       "      <td>0.583552</td>\n",
       "      <td>-0.417088</td>\n",
       "      <td>-0.168610</td>\n",
       "      <td>-0.219552</td>\n",
       "      <td>-0.642283</td>\n",
       "      <td>0.563870</td>\n",
       "      <td>49</td>\n",
       "    </tr>\n",
       "    <tr>\n",
       "      <th>10096</th>\n",
       "      <td>-1.244642</td>\n",
       "      <td>2.065744</td>\n",
       "      <td>0.733289</td>\n",
       "      <td>0.254695</td>\n",
       "      <td>-0.750123</td>\n",
       "      <td>0.490593</td>\n",
       "      <td>0.012262</td>\n",
       "      <td>1.189044</td>\n",
       "      <td>-0.777655</td>\n",
       "      <td>1.561495</td>\n",
       "      <td>...</td>\n",
       "      <td>1.908765</td>\n",
       "      <td>-1.051058</td>\n",
       "      <td>0.254809</td>\n",
       "      <td>1.358350</td>\n",
       "      <td>0.235535</td>\n",
       "      <td>-0.934016</td>\n",
       "      <td>1.904822</td>\n",
       "      <td>0.838952</td>\n",
       "      <td>-0.925845</td>\n",
       "      <td>49</td>\n",
       "    </tr>\n",
       "    <tr>\n",
       "      <th>10097</th>\n",
       "      <td>-1.339013</td>\n",
       "      <td>-1.498209</td>\n",
       "      <td>0.738740</td>\n",
       "      <td>0.251261</td>\n",
       "      <td>0.242481</td>\n",
       "      <td>-0.334862</td>\n",
       "      <td>1.298621</td>\n",
       "      <td>0.160729</td>\n",
       "      <td>-0.233899</td>\n",
       "      <td>2.338140</td>\n",
       "      <td>...</td>\n",
       "      <td>1.740219</td>\n",
       "      <td>-2.724448</td>\n",
       "      <td>0.457613</td>\n",
       "      <td>0.651461</td>\n",
       "      <td>-0.449956</td>\n",
       "      <td>-1.378570</td>\n",
       "      <td>1.441609</td>\n",
       "      <td>-0.022230</td>\n",
       "      <td>-2.570403</td>\n",
       "      <td>49</td>\n",
       "    </tr>\n",
       "    <tr>\n",
       "      <th>10098</th>\n",
       "      <td>1.602529</td>\n",
       "      <td>0.216228</td>\n",
       "      <td>-0.795651</td>\n",
       "      <td>-0.792543</td>\n",
       "      <td>-0.356473</td>\n",
       "      <td>0.335888</td>\n",
       "      <td>-1.579782</td>\n",
       "      <td>0.052280</td>\n",
       "      <td>0.764247</td>\n",
       "      <td>-0.397609</td>\n",
       "      <td>...</td>\n",
       "      <td>0.264037</td>\n",
       "      <td>0.118725</td>\n",
       "      <td>-0.253243</td>\n",
       "      <td>-0.331242</td>\n",
       "      <td>-0.109193</td>\n",
       "      <td>-0.264929</td>\n",
       "      <td>0.406344</td>\n",
       "      <td>0.181579</td>\n",
       "      <td>0.236623</td>\n",
       "      <td>49</td>\n",
       "    </tr>\n",
       "    <tr>\n",
       "      <th>10099</th>\n",
       "      <td>-0.817349</td>\n",
       "      <td>0.999486</td>\n",
       "      <td>0.653875</td>\n",
       "      <td>2.002709</td>\n",
       "      <td>-0.771074</td>\n",
       "      <td>0.548846</td>\n",
       "      <td>-0.279243</td>\n",
       "      <td>1.098989</td>\n",
       "      <td>-1.534739</td>\n",
       "      <td>0.283506</td>\n",
       "      <td>...</td>\n",
       "      <td>0.472317</td>\n",
       "      <td>0.963592</td>\n",
       "      <td>0.944266</td>\n",
       "      <td>0.914179</td>\n",
       "      <td>-0.182241</td>\n",
       "      <td>-0.153116</td>\n",
       "      <td>0.565323</td>\n",
       "      <td>-0.260926</td>\n",
       "      <td>0.114712</td>\n",
       "      <td>49</td>\n",
       "    </tr>\n",
       "  </tbody>\n",
       "</table>\n",
       "<p>10100 rows × 51 columns</p>\n",
       "</div>"
      ],
      "text/plain": [
       "             28        11        10        41         2        27        38  \\\n",
       "0     -1.131878 -0.668550  0.637861  0.856095 -1.310928  0.597400 -1.330377   \n",
       "1     -1.158483  1.427506  0.586534 -2.713493  0.005226  0.246915 -0.621413   \n",
       "2     -0.253838 -0.991563  0.606338  2.007782 -0.387527  0.543110  0.006815   \n",
       "3     -0.437720  0.775322  0.657285  0.312580  0.285442 -0.032858  0.767112   \n",
       "4      0.848940  0.379466 -1.228701  0.247954 -0.040753 -0.279482 -0.189638   \n",
       "...         ...       ...       ...       ...       ...       ...       ...   \n",
       "10095 -0.167545  0.230976  0.790028  1.844550 -0.686278  0.900254  0.061177   \n",
       "10096 -1.244642  2.065744  0.733289  0.254695 -0.750123  0.490593  0.012262   \n",
       "10097 -1.339013 -1.498209  0.738740  0.251261  0.242481 -0.334862  1.298621   \n",
       "10098  1.602529  0.216228 -0.795651 -0.792543 -0.356473  0.335888 -1.579782   \n",
       "10099 -0.817349  0.999486  0.653875  2.002709 -0.771074  0.548846 -0.279243   \n",
       "\n",
       "             31        22         4  ...        21        19         9  \\\n",
       "0      1.496293 -0.953974 -0.146177  ...  0.264872  1.076563 -0.461905   \n",
       "1      1.295494  2.111949 -0.950280  ...  0.627192 -0.520388  1.991495   \n",
       "2      0.422589 -1.645041 -0.059376  ... -1.626611  0.868351 -0.321282   \n",
       "3     -0.091394 -0.327218  1.585244  ... -0.586986 -0.012732  0.705358   \n",
       "4     -0.702421  0.105489  0.327406  ... -1.193831  0.181123 -1.307384   \n",
       "...         ...       ...       ...  ...       ...       ...       ...   \n",
       "10095  0.061668 -1.377525  0.597895  ... -0.216626  0.403838  0.067887   \n",
       "10096  1.189044 -0.777655  1.561495  ...  1.908765 -1.051058  0.254809   \n",
       "10097  0.160729 -0.233899  2.338140  ...  1.740219 -2.724448  0.457613   \n",
       "10098  0.052280  0.764247 -0.397609  ...  0.264037  0.118725 -0.253243   \n",
       "10099  1.098989 -1.534739  0.283506  ...  0.472317  0.963592  0.944266   \n",
       "\n",
       "             39        46         3         0        47        44  \\\n",
       "0      1.155870 -1.031029 -0.203280  0.473027  0.758574 -0.131691   \n",
       "1     -0.876933  0.290530  0.996067  1.524274  0.669273 -0.222533   \n",
       "2      0.661184 -0.954574  0.168734 -1.038821 -0.612818  1.368928   \n",
       "3     -0.106824 -1.109579 -0.369812 -0.726960  0.062663 -1.370486   \n",
       "4     -0.784006  0.105912 -1.175130 -0.639468  0.218194  1.031022   \n",
       "...         ...       ...       ...       ...       ...       ...   \n",
       "10095  0.583552 -0.417088 -0.168610 -0.219552 -0.642283  0.563870   \n",
       "10096  1.358350  0.235535 -0.934016  1.904822  0.838952 -0.925845   \n",
       "10097  0.651461 -0.449956 -1.378570  1.441609 -0.022230 -2.570403   \n",
       "10098 -0.331242 -0.109193 -0.264929  0.406344  0.181579  0.236623   \n",
       "10099  0.914179 -0.182241 -0.153116  0.565323 -0.260926  0.114712   \n",
       "\n",
       "       perturbation_label  \n",
       "0                     obs  \n",
       "1                     obs  \n",
       "2                     obs  \n",
       "3                     obs  \n",
       "4                     obs  \n",
       "...                   ...  \n",
       "10095                  49  \n",
       "10096                  49  \n",
       "10097                  49  \n",
       "10098                  49  \n",
       "10099                  49  \n",
       "\n",
       "[10100 rows x 51 columns]"
      ]
     },
     "execution_count": 5,
     "metadata": {},
     "output_type": "execute_result"
    }
   ],
   "source": [
    "X_df"
   ]
  },
  {
   "cell_type": "code",
   "execution_count": 6,
   "id": "a240cc39",
   "metadata": {},
   "outputs": [],
   "source": [
    "import igraph as ig"
   ]
  },
  {
   "cell_type": "code",
   "execution_count": 7,
   "id": "cb3c3434",
   "metadata": {},
   "outputs": [],
   "source": [
    "G = ig.Graph.Adjacency(B_true.tolist())\n",
    "ordered_vertices = G.topological_sorting()"
   ]
  },
  {
   "cell_type": "code",
   "execution_count": 8,
   "id": "eb08f157",
   "metadata": {},
   "outputs": [],
   "source": [
    "import matplotlib.pyplot as plt"
   ]
  },
  {
   "cell_type": "code",
   "execution_count": 9,
   "id": "75c5c912",
   "metadata": {
    "scrolled": false
   },
   "outputs": [
    {
     "data": {
      "text/plain": [
       "Text(0.5, 0, 'Topological rank')"
      ]
     },
     "execution_count": 9,
     "metadata": {},
     "output_type": "execute_result"
    },
    {
     "data": {
      "image/png": "[encoded data removed]",
      "text/plain": [
       "<Figure size 640x480 with 1 Axes>"
      ]
     },
     "metadata": {},
     "output_type": "display_data"
    }
   ],
   "source": [
    "# topo sort\n",
    "plt.plot(X_obs.var(axis=0)[ordered_vertices])\n",
    "plt.ylabel(\"Variance\")\n",
    "plt.xlabel(\"Topological rank\")"
   ]
  },
  {
   "cell_type": "code",
   "execution_count": 10,
   "id": "31701970",
   "metadata": {
    "scrolled": false
   },
   "outputs": [
    {
     "data": {
      "text/plain": [
       "Text(0, 0.5, 'Variance(downstream_gene) - Variance(upstream_gene)')"
      ]
     },
     "execution_count": 10,
     "metadata": {},
     "output_type": "execute_result"
    },
    {
     "data": {
      "image/png": "[encoded data removed]",
      "text/plain": [
       "<Figure size 640x480 with 1 Axes>"
      ]
     },
     "metadata": {},
     "output_type": "display_data"
    }
   ],
   "source": [
    "# plot distribution of var diff over true edges (pos means in favored dir)\n",
    "variances = X_obs.var(axis=0)\n",
    "var_diffs = []\n",
    "for i, j in zip(*np.where(B_true)):\n",
    "    var_diffs.append(variances[j] - variances[i])\n",
    "plt.hist(var_diffs)\n",
    "plt.ylabel(\"Variance(downstream_gene) - Variance(upstream_gene)\")"
   ]
  },
  {
   "cell_type": "code",
   "execution_count": 11,
   "id": "92d6d8e8",
   "metadata": {},
   "outputs": [],
   "source": [
    "# # Reversed noise scale\n",
    "# seed = 0\n",
    "# n, d = 100, 50\n",
    "# n_edges_per_d = 5\n",
    "# frac_interventions = 1.0\n",
    "\n",
    "# X_df, B_true, wandb_config_dict = generate_dataset(\n",
    "#     n, d, seed, frac_interventions, n_edges_per_d=n_edges_per_d, scale=lambda depth: ((d - depth + 1) / d * 100)\n",
    "# )\n",
    "# X_obs = X_df[X_df[\"perturbation_label\"] == \"obs\"].loc[:, np.arange(d)].to_numpy()"
   ]
  },
  {
   "cell_type": "code",
   "execution_count": 12,
   "id": "0215d074",
   "metadata": {
    "scrolled": false
   },
   "outputs": [],
   "source": [
    "# topo sort\n",
    "# plt.plot(X_obs.var(axis=0)[ordered_vertices])\n",
    "# plt.ylabel(\"Variance\")\n",
    "# plt.xlabel(\"Topological rank\")"
   ]
  },
  {
   "cell_type": "code",
   "execution_count": 13,
   "id": "6fea3ab4",
   "metadata": {
    "scrolled": false
   },
   "outputs": [],
   "source": [
    "# plot distribution of var diff over true edges (pos means in favored dir)\n",
    "# variances = X_obs.var(axis=0)\n",
    "# var_diffs = []\n",
    "# for i, j in zip(*np.where(B_true)):\n",
    "#     var_diffs.append(variances[j] - variances[i])\n",
    "# plt.hist(var_diffs)\n",
    "# plt.ylabel(\"Variance(downstream_gene) - Variance(upstream_gene)\")"
   ]
  },
  {
   "cell_type": "code",
   "execution_count": 16,
   "id": "6ace4f82",
   "metadata": {
    "scrolled": true
   },
   "outputs": [
    {
     "name": "stdout",
     "output_type": "stream",
     "text": [
      "Using cuda:0\n"
     ]
    },
    {
     "data": {
      "text/html": [
       "wandb version 0.15.5 is available!  To upgrade, please run:\n",
       " $ pip install wandb --upgrade"
      ],
      "text/plain": [
       "<IPython.core.display.HTML object>"
      ]
     },
     "metadata": {},
     "output_type": "display_data"
    },
    {
     "data": {
      "text/html": [
       "Tracking run with wandb version 0.15.2"
      ],
      "text/plain": [
       "<IPython.core.display.HTML object>"
      ]
     },
     "metadata": {},
     "output_type": "display_data"
    },
    {
     "data": {
      "text/html": [
       "Run data is saved locally in <code>/home/justin/ghrepos/causal-perturbseq/notebooks/wandb/run-20230712_214000-yck02eey</code>"
      ],
      "text/plain": [
       "<IPython.core.display.HTML object>"
      ]
     },
     "metadata": {},
     "output_type": "display_data"
    },
    {
     "data": {
      "text/html": [
       "Syncing run <strong><a href='https://wandb.ai/azizi-causal-perturb/SDCI_new_sim/runs/yck02eey' target=\"_blank\">SDCI_pf-0_mv-unit_ss-True_alpham-1</a></strong> to <a href='https://wandb.ai/azizi-causal-perturb/SDCI_new_sim' target=\"_blank\">Weights & Biases</a> (<a href='https://wandb.me/run' target=\"_blank\">docs</a>)<br/>"
      ],
      "text/plain": [
       "<IPython.core.display.HTML object>"
      ]
     },
     "metadata": {},
     "output_type": "display_data"
    },
    {
     "data": {
      "text/html": [
       " View project at <a href='https://wandb.ai/azizi-causal-perturb/SDCI_new_sim' target=\"_blank\">https://wandb.ai/azizi-causal-perturb/SDCI_new_sim</a>"
      ],
      "text/plain": [
       "<IPython.core.display.HTML object>"
      ]
     },
     "metadata": {},
     "output_type": "display_data"
    },
    {
     "data": {
      "text/html": [
       " View run at <a href='https://wandb.ai/azizi-causal-perturb/SDCI_new_sim/runs/yck02eey' target=\"_blank\">https://wandb.ai/azizi-causal-perturb/SDCI_new_sim/runs/yck02eey</a>"
      ],
      "text/plain": [
       "<IPython.core.display.HTML object>"
      ]
     },
     "metadata": {},
     "output_type": "display_data"
    },
    {
     "name": "stderr",
     "output_type": "stream",
     "text": [
      "/home/justin/miniconda3/envs/cp/lib/python3.9/site-packages/torch/optim/optimizer.py:243: UserWarning: 'has_cuda' is deprecated, please use 'torch.backends.cuda.is_built()'\n",
      "  if not is_compiling() and torch.has_cuda and torch.cuda.is_available():\n"
     ]
    },
    {
     "name": "stdout",
     "output_type": "stream",
     "text": [
      "Epoch 0: loss=70.92, score=250, shd=250.0, gamma=0.00\n",
      "Epoch 100: loss=53.50, score=219, shd=219.0, gamma=0.00\n",
      "Epoch 200: loss=53.08, score=213, shd=213.0, gamma=0.00\n",
      "Epoch 300: loss=52.94, score=210, shd=210.0, gamma=0.00\n",
      "Epoch 400: loss=52.90, score=210, shd=210.0, gamma=0.00\n",
      "Epoch 500: loss=52.87, score=209, shd=209.0, gamma=0.00\n",
      "Epoch 600: loss=52.86, score=208, shd=208.0, gamma=0.00\n",
      "Epoch 700: loss=52.86, score=210, shd=210.0, gamma=0.00\n",
      "Epoch 800: loss=52.86, score=209, shd=209.0, gamma=0.00\n",
      "Epoch 900: loss=52.86, score=209, shd=209.0, gamma=0.00\n",
      "Recall of mask: 0.488\n",
      "Fraction of possible edges in mask: 0.0908\n",
      "Epoch 0: loss=68.55, score=233, shd=233.0, gamma=0.00\n",
      "Epoch 100: loss=61.48, score=219, shd=219.0, gamma=30.03\n",
      "Epoch 200: loss=61.43, score=218, shd=218.0, gamma=30.03\n",
      "Epoch 300: loss=61.40, score=223, shd=223.0, gamma=30.03\n",
      "Epoch 400: loss=61.38, score=221, shd=221.0, gamma=30.03\n",
      "Epoch 500: loss=61.39, score=219, shd=219.0, gamma=30.03\n",
      "Epoch 600: loss=61.38, score=220, shd=220.0, gamma=30.03\n",
      "Epoch 700: loss=61.37, score=220, shd=220.0, gamma=30.03\n",
      "Epoch 800: loss=61.36, score=221, shd=221.0, gamma=30.03\n",
      "Epoch 900: loss=61.38, score=221, shd=221.0, gamma=30.03\n",
      "Finished training in 69.89853286743164 seconds.\n"
     ]
    },
    {
     "data": {
      "text/html": [
       "Waiting for W&B process to finish... <strong style=\"color:green\">(success).</strong>"
      ],
      "text/plain": [
       "<IPython.core.display.HTML object>"
      ]
     },
     "metadata": {},
     "output_type": "display_data"
    },
    {
     "data": {
      "text/html": [
       "<style>\n",
       "    table.wandb td:nth-child(1) { padding: 0 10px; text-align: left ; width: auto;} td:nth-child(2) {text-align: left ; width: 100%}\n",
       "    .wandb-row { display: flex; flex-direction: row; flex-wrap: wrap; justify-content: flex-start; width: 100% }\n",
       "    .wandb-col { display: flex; flex-direction: column; flex-basis: 100%; flex: 1; padding: 10px; }\n",
       "    </style>\n",
       "<div class=\"wandb-row\"><div class=\"wandb-col\"><h3>Run history:</h3><br/><table class=\"wandb\"><tr><td>alpha</td><td>██████████▁▁▁▁▁▁▁▁▁▁</td></tr><tr><td>dag</td><td>▁▁▁▁▁▁▁▁▁▁█▃▃▃▃▃▃▃▃▃</td></tr><tr><td>epoch</td><td>▁▁▂▂▂▃▃▄▄▄▅▅▅▆▆▇▇▇██</td></tr><tr><td>epoch_loss</td><td>█▁▁▁▁▁▁▁▁▁▇▄▄▄▄▄▄▄▄▄</td></tr><tr><td>gamma</td><td>▁▁▁▁▁▁▁▁▁▁▁█████████</td></tr><tr><td>is_prescreen</td><td>██████████▁▁▁▁▁▁▁▁▁▁</td></tr><tr><td>l1</td><td>▅█▇▆▆▆▆▆▆▆▂▁▁▁▁▁▁▁▁▁</td></tr><tr><td>l2</td><td>▁▄▄▄▄▄▄▄▄▄▁█████████</td></tr><tr><td>n_edges_pred</td><td>▁▆▆▆▆▆▆▆▆▆█▃▃▂▃▃▃▃▃▃</td></tr><tr><td>nll</td><td>█▁▁▁▁▁▁▁▁▁▇▂▂▂▂▂▂▂▂▂</td></tr><tr><td>precision</td><td>▁▆▆▆▆▆▆▆▆▆▆█████████</td></tr><tr><td>recall</td><td>▁▆▇▇▇▇▇▇▇▇█▃▄▃▃▃▃▃▃▃</td></tr><tr><td>score</td><td>█▃▂▁▁▁▁▁▁▁▅▃▃▃▃▃▃▃▃▃</td></tr><tr><td>shd</td><td>█▃▂▁▁▁▁▁▁▁▅▃▃▃▃▃▃▃▃▃</td></tr></table><br/></div><div class=\"wandb-col\"><h3>Run summary:</h3><br/><table class=\"wandb\"><tr><td>alpha</td><td>0.005</td></tr><tr><td>dag</td><td>0.13149</td></tr><tr><td>epoch</td><td>1900</td></tr><tr><td>epoch_loss</td><td>61.37551</td></tr><tr><td>gamma</td><td>30.03003</td></tr><tr><td>is_prescreen</td><td>0</td></tr><tr><td>l1</td><td>0.52179</td></tr><tr><td>l2</td><td>4.40585</td></tr><tr><td>n_edges_pred</td><td>47</td></tr><tr><td>nll</td><td>52.4991</td></tr><tr><td>precision</td><td>0.80851</td></tr><tr><td>recall</td><td>0.152</td></tr><tr><td>score</td><td>221</td></tr><tr><td>shd</td><td>221.0</td></tr></table><br/></div></div>"
      ],
      "text/plain": [
       "<IPython.core.display.HTML object>"
      ]
     },
     "metadata": {},
     "output_type": "display_data"
    },
    {
     "data": {
      "text/html": [
       " View run <strong style=\"color:#cdcd00\">SDCI_pf-0_mv-unit_ss-True_alpham-1</strong> at: <a href='https://wandb.ai/azizi-causal-perturb/SDCI_new_sim/runs/yck02eey' target=\"_blank\">https://wandb.ai/azizi-causal-perturb/SDCI_new_sim/runs/yck02eey</a><br/>Synced 6 W&B file(s), 0 media file(s), 0 artifact file(s) and 0 other file(s)"
      ],
      "text/plain": [
       "<IPython.core.display.HTML object>"
      ]
     },
     "metadata": {},
     "output_type": "display_data"
    },
    {
     "data": {
      "text/html": [
       "Find logs at: <code>./wandb/run-20230712_214000-yck02eey/logs</code>"
      ],
      "text/plain": [
       "<IPython.core.display.HTML object>"
      ]
     },
     "metadata": {},
     "output_type": "display_data"
    },
    {
     "data": {
      "text/html": [
       "wandb version 0.15.5 is available!  To upgrade, please run:\n",
       " $ pip install wandb --upgrade"
      ],
      "text/plain": [
       "<IPython.core.display.HTML object>"
      ]
     },
     "metadata": {},
     "output_type": "display_data"
    },
    {
     "data": {
      "text/html": [
       "Tracking run with wandb version 0.15.2"
      ],
      "text/plain": [
       "<IPython.core.display.HTML object>"
      ]
     },
     "metadata": {},
     "output_type": "display_data"
    },
    {
     "data": {
      "text/html": [
       "Run data is saved locally in <code>/home/justin/ghrepos/causal-perturbseq/notebooks/wandb/run-20230712_214116-irsshf9k</code>"
      ],
      "text/plain": [
       "<IPython.core.display.HTML object>"
      ]
     },
     "metadata": {},
     "output_type": "display_data"
    },
    {
     "data": {
      "text/html": [
       "Syncing run <strong><a href='https://wandb.ai/azizi-causal-perturb/SDCI_new_sim/runs/irsshf9k' target=\"_blank\">SDCI_pf-0_mv-unit_ss-True_alpham-0.1</a></strong> to <a href='https://wandb.ai/azizi-causal-perturb/SDCI_new_sim' target=\"_blank\">Weights & Biases</a> (<a href='https://wandb.me/run' target=\"_blank\">docs</a>)<br/>"
      ],
      "text/plain": [
       "<IPython.core.display.HTML object>"
      ]
     },
     "metadata": {},
     "output_type": "display_data"
    },
    {
     "data": {
      "text/html": [
       " View project at <a href='https://wandb.ai/azizi-causal-perturb/SDCI_new_sim' target=\"_blank\">https://wandb.ai/azizi-causal-perturb/SDCI_new_sim</a>"
      ],
      "text/plain": [
       "<IPython.core.display.HTML object>"
      ]
     },
     "metadata": {},
     "output_type": "display_data"
    },
    {
     "data": {
      "text/html": [
       " View run at <a href='https://wandb.ai/azizi-causal-perturb/SDCI_new_sim/runs/irsshf9k' target=\"_blank\">https://wandb.ai/azizi-causal-perturb/SDCI_new_sim/runs/irsshf9k</a>"
      ],
      "text/plain": [
       "<IPython.core.display.HTML object>"
      ]
     },
     "metadata": {},
     "output_type": "display_data"
    },
    {
     "name": "stderr",
     "output_type": "stream",
     "text": [
      "/home/justin/miniconda3/envs/cp/lib/python3.9/site-packages/torch/optim/optimizer.py:243: UserWarning: 'has_cuda' is deprecated, please use 'torch.backends.cuda.is_built()'\n",
      "  if not is_compiling() and torch.has_cuda and torch.cuda.is_available():\n"
     ]
    },
    {
     "name": "stdout",
     "output_type": "stream",
     "text": [
      "Epoch 0: loss=68.49, score=250, shd=250.0, gamma=0.00\n",
      "Epoch 100: loss=50.38, score=240, shd=240.0, gamma=0.00\n",
      "Epoch 200: loss=50.34, score=236, shd=236.0, gamma=0.00\n",
      "Epoch 300: loss=50.33, score=237, shd=237.0, gamma=0.00\n",
      "Epoch 400: loss=50.32, score=234, shd=234.0, gamma=0.00\n",
      "Epoch 500: loss=50.31, score=232, shd=232.0, gamma=0.00\n",
      "Epoch 600: loss=50.31, score=234, shd=234.0, gamma=0.00\n",
      "Epoch 700: loss=50.31, score=235, shd=235.0, gamma=0.00\n",
      "Epoch 800: loss=50.31, score=234, shd=234.0, gamma=0.00\n",
      "Epoch 900: loss=50.30, score=233, shd=233.0, gamma=0.00\n",
      "Recall of mask: 0.644\n",
      "Fraction of possible edges in mask: 0.1628\n",
      "Epoch 0: loss=65.74, score=329, shd=329.0, gamma=0.00\n",
      "Epoch 100: loss=60.09, score=242, shd=242.0, gamma=30.03\n",
      "Epoch 200: loss=60.06, score=242, shd=242.0, gamma=30.03\n",
      "Epoch 300: loss=60.07, score=239, shd=239.0, gamma=30.03\n",
      "Epoch 400: loss=60.07, score=239, shd=239.0, gamma=30.03\n",
      "Epoch 500: loss=60.08, score=243, shd=243.0, gamma=30.03\n",
      "Epoch 600: loss=60.07, score=239, shd=239.0, gamma=30.03\n",
      "Epoch 700: loss=60.06, score=241, shd=241.0, gamma=30.03\n",
      "Epoch 800: loss=60.08, score=241, shd=241.0, gamma=30.03\n",
      "Epoch 900: loss=60.06, score=241, shd=241.0, gamma=30.03\n",
      "Finished training in 69.32766771316528 seconds.\n"
     ]
    },
    {
     "data": {
      "text/html": [
       "Waiting for W&B process to finish... <strong style=\"color:green\">(success).</strong>"
      ],
      "text/plain": [
       "<IPython.core.display.HTML object>"
      ]
     },
     "metadata": {},
     "output_type": "display_data"
    },
    {
     "data": {
      "application/vnd.jupyter.widget-view+json": {
       "model_id": "ce2f6d73d4df45ba95150aedbf195307",
       "version_major": 2,
       "version_minor": 0
      },
      "text/plain": [
       "VBox(children=(Label(value='0.004 MB of 0.004 MB uploaded (0.000 MB deduped)\\r'), FloatProgress(value=1.0, max…"
      ]
     },
     "metadata": {},
     "output_type": "display_data"
    },
    {
     "data": {
      "text/html": [
       "<style>\n",
       "    table.wandb td:nth-child(1) { padding: 0 10px; text-align: left ; width: auto;} td:nth-child(2) {text-align: left ; width: 100%}\n",
       "    .wandb-row { display: flex; flex-direction: row; flex-wrap: wrap; justify-content: flex-start; width: 100% }\n",
       "    .wandb-col { display: flex; flex-direction: column; flex-basis: 100%; flex: 1; padding: 10px; }\n",
       "    </style>\n",
       "<div class=\"wandb-row\"><div class=\"wandb-col\"><h3>Run history:</h3><br/><table class=\"wandb\"><tr><td>alpha</td><td>██████████▁▁▁▁▁▁▁▁▁▁</td></tr><tr><td>dag</td><td>▁▁▁▁▁▁▁▁▁▁█▂▂▂▂▂▂▂▂▂</td></tr><tr><td>epoch</td><td>▁▁▂▂▂▃▃▄▄▄▅▅▅▆▆▇▇▇██</td></tr><tr><td>epoch_loss</td><td>█▁▁▁▁▁▁▁▁▁▇▅▅▅▅▅▅▅▅▅</td></tr><tr><td>gamma</td><td>▁▁▁▁▁▁▁▁▁▁▁█████████</td></tr><tr><td>is_prescreen</td><td>██████████▁▁▁▁▁▁▁▁▁▁</td></tr><tr><td>l1</td><td>▄██▇▇▇▇▇▇▇▂▁▁▁▁▁▁▁▁▁</td></tr><tr><td>l2</td><td>▁▃▃▃▃▃▃▄▄▄▁█████████</td></tr><tr><td>n_edges_pred</td><td>▁▅▅▆▅▆▆▆▆▆█▁▁▁▁▁▁▁▁▁</td></tr><tr><td>nll</td><td>█▁▁▁▁▁▁▁▁▁▇▂▂▂▂▂▂▂▂▂</td></tr><tr><td>precision</td><td>▁▆▆▆▆▆▆▆▆▆▅▇███▇████</td></tr><tr><td>recall</td><td>▁▇▇▇▇▇▇▇▇▇█▂▂▂▂▂▂▂▂▂</td></tr><tr><td>score</td><td>▂▂▁▁▁▁▁▁▁▁█▂▂▂▂▂▂▂▂▂</td></tr><tr><td>shd</td><td>▂▂▁▁▁▁▁▁▁▁█▂▂▂▂▂▂▂▂▂</td></tr></table><br/></div><div class=\"wandb-col\"><h3>Run summary:</h3><br/><table class=\"wandb\"><tr><td>alpha</td><td>0.0005</td></tr><tr><td>dag</td><td>0.1376</td></tr><tr><td>epoch</td><td>1900</td></tr><tr><td>epoch_loss</td><td>60.05587</td></tr><tr><td>gamma</td><td>30.03003</td></tr><tr><td>is_prescreen</td><td>0</td></tr><tr><td>l1</td><td>0.08001</td></tr><tr><td>l2</td><td>4.2561</td></tr><tr><td>n_edges_pred</td><td>23</td></tr><tr><td>nll</td><td>51.58767</td></tr><tr><td>precision</td><td>0.69565</td></tr><tr><td>recall</td><td>0.064</td></tr><tr><td>score</td><td>241</td></tr><tr><td>shd</td><td>241.0</td></tr></table><br/></div></div>"
      ],
      "text/plain": [
       "<IPython.core.display.HTML object>"
      ]
     },
     "metadata": {},
     "output_type": "display_data"
    },
    {
     "data": {
      "text/html": [
       " View run <strong style=\"color:#cdcd00\">SDCI_pf-0_mv-unit_ss-True_alpham-0.1</strong> at: <a href='https://wandb.ai/azizi-causal-perturb/SDCI_new_sim/runs/irsshf9k' target=\"_blank\">https://wandb.ai/azizi-causal-perturb/SDCI_new_sim/runs/irsshf9k</a><br/>Synced 6 W&B file(s), 0 media file(s), 0 artifact file(s) and 0 other file(s)"
      ],
      "text/plain": [
       "<IPython.core.display.HTML object>"
      ]
     },
     "metadata": {},
     "output_type": "display_data"
    },
    {
     "data": {
      "text/html": [
       "Find logs at: <code>./wandb/run-20230712_214116-irsshf9k/logs</code>"
      ],
      "text/plain": [
       "<IPython.core.display.HTML object>"
      ]
     },
     "metadata": {},
     "output_type": "display_data"
    },
    {
     "data": {
      "application/vnd.jupyter.widget-view+json": {
       "model_id": "57b0842f6918489a8547c90086a80a3b",
       "version_major": 2,
       "version_minor": 0
      },
      "text/plain": [
       "VBox(children=(Label(value='Waiting for wandb.init()...\\r'), FloatProgress(value=0.01666957843117416, max=1.0)…"
      ]
     },
     "metadata": {},
     "output_type": "display_data"
    },
    {
     "data": {
      "text/html": [
       "wandb version 0.15.5 is available!  To upgrade, please run:\n",
       " $ pip install wandb --upgrade"
      ],
      "text/plain": [
       "<IPython.core.display.HTML object>"
      ]
     },
     "metadata": {},
     "output_type": "display_data"
    },
    {
     "data": {
      "text/html": [
       "Tracking run with wandb version 0.15.2"
      ],
      "text/plain": [
       "<IPython.core.display.HTML object>"
      ]
     },
     "metadata": {},
     "output_type": "display_data"
    },
    {
     "data": {
      "text/html": [
       "Run data is saved locally in <code>/home/justin/ghrepos/causal-perturbseq/notebooks/wandb/run-20230712_214232-gwyydhv1</code>"
      ],
      "text/plain": [
       "<IPython.core.display.HTML object>"
      ]
     },
     "metadata": {},
     "output_type": "display_data"
    },
    {
     "data": {
      "text/html": [
       "Syncing run <strong><a href='https://wandb.ai/azizi-causal-perturb/SDCI_new_sim/runs/gwyydhv1' target=\"_blank\">SDCI_pf-0_mv-unit_ss-True_alpham-0.01</a></strong> to <a href='https://wandb.ai/azizi-causal-perturb/SDCI_new_sim' target=\"_blank\">Weights & Biases</a> (<a href='https://wandb.me/run' target=\"_blank\">docs</a>)<br/>"
      ],
      "text/plain": [
       "<IPython.core.display.HTML object>"
      ]
     },
     "metadata": {},
     "output_type": "display_data"
    },
    {
     "data": {
      "text/html": [
       " View project at <a href='https://wandb.ai/azizi-causal-perturb/SDCI_new_sim' target=\"_blank\">https://wandb.ai/azizi-causal-perturb/SDCI_new_sim</a>"
      ],
      "text/plain": [
       "<IPython.core.display.HTML object>"
      ]
     },
     "metadata": {},
     "output_type": "display_data"
    },
    {
     "data": {
      "text/html": [
       " View run at <a href='https://wandb.ai/azizi-causal-perturb/SDCI_new_sim/runs/gwyydhv1' target=\"_blank\">https://wandb.ai/azizi-causal-perturb/SDCI_new_sim/runs/gwyydhv1</a>"
      ],
      "text/plain": [
       "<IPython.core.display.HTML object>"
      ]
     },
     "metadata": {},
     "output_type": "display_data"
    },
    {
     "name": "stderr",
     "output_type": "stream",
     "text": [
      "/home/justin/miniconda3/envs/cp/lib/python3.9/site-packages/torch/optim/optimizer.py:243: UserWarning: 'has_cuda' is deprecated, please use 'torch.backends.cuda.is_built()'\n",
      "  if not is_compiling() and torch.has_cuda and torch.cuda.is_available():\n"
     ]
    },
    {
     "name": "stdout",
     "output_type": "stream",
     "text": [
      "Epoch 0: loss=68.03, score=250, shd=250.0, gamma=0.00\n",
      "Epoch 100: loss=49.64, score=273, shd=273.0, gamma=0.00\n",
      "Epoch 200: loss=49.63, score=268, shd=268.0, gamma=0.00\n",
      "Epoch 300: loss=49.63, score=274, shd=274.0, gamma=0.00\n",
      "Epoch 400: loss=49.63, score=273, shd=273.0, gamma=0.00\n",
      "Epoch 500: loss=49.63, score=275, shd=275.0, gamma=0.00\n",
      "Epoch 600: loss=49.62, score=274, shd=274.0, gamma=0.00\n",
      "Epoch 700: loss=49.62, score=275, shd=275.0, gamma=0.00\n",
      "Epoch 800: loss=49.62, score=272, shd=272.0, gamma=0.00\n",
      "Epoch 900: loss=49.62, score=272, shd=272.0, gamma=0.00\n",
      "Recall of mask: 0.74\n",
      "Fraction of possible edges in mask: 0.2216\n",
      "Epoch 0: loss=65.27, score=407, shd=407.0, gamma=0.00\n",
      "Epoch 100: loss=59.51, score=247, shd=247.0, gamma=30.03\n",
      "Epoch 200: loss=59.51, score=245, shd=245.0, gamma=30.03\n",
      "Epoch 300: loss=59.49, score=244, shd=244.0, gamma=30.03\n",
      "Epoch 400: loss=59.47, score=244, shd=244.0, gamma=30.03\n",
      "Epoch 500: loss=59.50, score=245, shd=245.0, gamma=30.03\n",
      "Epoch 600: loss=59.49, score=245, shd=245.0, gamma=30.03\n",
      "Epoch 700: loss=59.48, score=245, shd=245.0, gamma=30.03\n",
      "Epoch 800: loss=59.51, score=244, shd=244.0, gamma=30.03\n",
      "Epoch 900: loss=59.47, score=247, shd=247.0, gamma=30.03\n",
      "Finished training in 70.47388339042664 seconds.\n"
     ]
    },
    {
     "data": {
      "text/html": [
       "Waiting for W&B process to finish... <strong style=\"color:green\">(success).</strong>"
      ],
      "text/plain": [
       "<IPython.core.display.HTML object>"
      ]
     },
     "metadata": {},
     "output_type": "display_data"
    },
    {
     "data": {
      "text/html": [
       "<style>\n",
       "    table.wandb td:nth-child(1) { padding: 0 10px; text-align: left ; width: auto;} td:nth-child(2) {text-align: left ; width: 100%}\n",
       "    .wandb-row { display: flex; flex-direction: row; flex-wrap: wrap; justify-content: flex-start; width: 100% }\n",
       "    .wandb-col { display: flex; flex-direction: column; flex-basis: 100%; flex: 1; padding: 10px; }\n",
       "    </style>\n",
       "<div class=\"wandb-row\"><div class=\"wandb-col\"><h3>Run history:</h3><br/><table class=\"wandb\"><tr><td>alpha</td><td>██████████▁▁▁▁▁▁▁▁▁▁</td></tr><tr><td>dag</td><td>▁▁▁▁▁▁▁▁▁▁█▂▂▂▂▂▂▂▂▂</td></tr><tr><td>epoch</td><td>▁▁▂▂▂▃▃▄▄▄▅▅▅▆▆▇▇▇██</td></tr><tr><td>epoch_loss</td><td>█▁▁▁▁▁▁▁▁▁▇▅▅▅▅▅▅▅▅▅</td></tr><tr><td>gamma</td><td>▁▁▁▁▁▁▁▁▁▁▁█████████</td></tr><tr><td>is_prescreen</td><td>██████████▁▁▁▁▁▁▁▁▁▁</td></tr><tr><td>l1</td><td>▃█████████▂▁▁▁▁▁▁▁▁▁</td></tr><tr><td>l2</td><td>▁▃▄▄▄▄▄▄▄▄▁█████████</td></tr><tr><td>n_edges_pred</td><td>▁▅▅▅▅▅▅▅▅▅█▁▁▁▁▁▁▁▁▁</td></tr><tr><td>nll</td><td>█▁▁▁▁▁▁▁▁▁▇▂▂▂▂▂▂▂▂▂</td></tr><tr><td>precision</td><td>▁▅▅▅▅▅▅▅▅▅▄▇▇██▇▇██▇</td></tr><tr><td>recall</td><td>▁▇▇▇▇▇▇▇▇▇█▁▁▁▁▁▁▁▁▁</td></tr><tr><td>score</td><td>▁▂▂▂▂▂▂▂▂▂█▁▁▁▁▁▁▁▁▁</td></tr><tr><td>shd</td><td>▁▂▂▂▂▂▂▂▂▂█▁▁▁▁▁▁▁▁▁</td></tr></table><br/></div><div class=\"wandb-col\"><h3>Run summary:</h3><br/><table class=\"wandb\"><tr><td>alpha</td><td>5e-05</td></tr><tr><td>dag</td><td>0.13274</td></tr><tr><td>epoch</td><td>1900</td></tr><tr><td>epoch_loss</td><td>59.47181</td></tr><tr><td>gamma</td><td>30.03003</td></tr><tr><td>is_prescreen</td><td>0</td></tr><tr><td>l1</td><td>0.00899</td></tr><tr><td>l2</td><td>4.05978</td></tr><tr><td>n_edges_pred</td><td>13</td></tr><tr><td>nll</td><td>51.41676</td></tr><tr><td>precision</td><td>0.61538</td></tr><tr><td>recall</td><td>0.032</td></tr><tr><td>score</td><td>247</td></tr><tr><td>shd</td><td>247.0</td></tr></table><br/></div></div>"
      ],
      "text/plain": [
       "<IPython.core.display.HTML object>"
      ]
     },
     "metadata": {},
     "output_type": "display_data"
    },
    {
     "data": {
      "text/html": [
       " View run <strong style=\"color:#cdcd00\">SDCI_pf-0_mv-unit_ss-True_alpham-0.01</strong> at: <a href='https://wandb.ai/azizi-causal-perturb/SDCI_new_sim/runs/gwyydhv1' target=\"_blank\">https://wandb.ai/azizi-causal-perturb/SDCI_new_sim/runs/gwyydhv1</a><br/>Synced 6 W&B file(s), 0 media file(s), 0 artifact file(s) and 0 other file(s)"
      ],
      "text/plain": [
       "<IPython.core.display.HTML object>"
      ]
     },
     "metadata": {},
     "output_type": "display_data"
    },
    {
     "data": {
      "text/html": [
       "Find logs at: <code>./wandb/run-20230712_214232-gwyydhv1/logs</code>"
      ],
      "text/plain": [
       "<IPython.core.display.HTML object>"
      ]
     },
     "metadata": {},
     "output_type": "display_data"
    },
    {
     "data": {
      "application/vnd.jupyter.widget-view+json": {
       "model_id": "a215801040d849eab99d6727457520ec",
       "version_major": 2,
       "version_minor": 0
      },
      "text/plain": [
       "VBox(children=(Label(value='Waiting for wandb.init()...\\r'), FloatProgress(value=0.01666963373621305, max=1.0)…"
      ]
     },
     "metadata": {},
     "output_type": "display_data"
    },
    {
     "data": {
      "text/html": [
       "wandb version 0.15.5 is available!  To upgrade, please run:\n",
       " $ pip install wandb --upgrade"
      ],
      "text/plain": [
       "<IPython.core.display.HTML object>"
      ]
     },
     "metadata": {},
     "output_type": "display_data"
    },
    {
     "data": {
      "text/html": [
       "Tracking run with wandb version 0.15.2"
      ],
      "text/plain": [
       "<IPython.core.display.HTML object>"
      ]
     },
     "metadata": {},
     "output_type": "display_data"
    },
    {
     "data": {
      "text/html": [
       "Run data is saved locally in <code>/home/justin/ghrepos/causal-perturbseq/notebooks/wandb/run-20230712_214352-k4wnht4y</code>"
      ],
      "text/plain": [
       "<IPython.core.display.HTML object>"
      ]
     },
     "metadata": {},
     "output_type": "display_data"
    },
    {
     "data": {
      "text/html": [
       "Syncing run <strong><a href='https://wandb.ai/azizi-causal-perturb/SDCI_new_sim/runs/k4wnht4y' target=\"_blank\">SDCI_pf-0_mv-unit_ss-True_alpham-0.001</a></strong> to <a href='https://wandb.ai/azizi-causal-perturb/SDCI_new_sim' target=\"_blank\">Weights & Biases</a> (<a href='https://wandb.me/run' target=\"_blank\">docs</a>)<br/>"
      ],
      "text/plain": [
       "<IPython.core.display.HTML object>"
      ]
     },
     "metadata": {},
     "output_type": "display_data"
    },
    {
     "data": {
      "text/html": [
       " View project at <a href='https://wandb.ai/azizi-causal-perturb/SDCI_new_sim' target=\"_blank\">https://wandb.ai/azizi-causal-perturb/SDCI_new_sim</a>"
      ],
      "text/plain": [
       "<IPython.core.display.HTML object>"
      ]
     },
     "metadata": {},
     "output_type": "display_data"
    },
    {
     "data": {
      "text/html": [
       " View run at <a href='https://wandb.ai/azizi-causal-perturb/SDCI_new_sim/runs/k4wnht4y' target=\"_blank\">https://wandb.ai/azizi-causal-perturb/SDCI_new_sim/runs/k4wnht4y</a>"
      ],
      "text/plain": [
       "<IPython.core.display.HTML object>"
      ]
     },
     "metadata": {},
     "output_type": "display_data"
    },
    {
     "name": "stderr",
     "output_type": "stream",
     "text": [
      "/home/justin/miniconda3/envs/cp/lib/python3.9/site-packages/torch/optim/optimizer.py:243: UserWarning: 'has_cuda' is deprecated, please use 'torch.backends.cuda.is_built()'\n",
      "  if not is_compiling() and torch.has_cuda and torch.cuda.is_available():\n"
     ]
    },
    {
     "name": "stdout",
     "output_type": "stream",
     "text": [
      "Epoch 0: loss=68.36, score=250, shd=250.0, gamma=0.00\n",
      "Epoch 100: loss=49.54, score=279, shd=279.0, gamma=0.00\n",
      "Epoch 200: loss=49.53, score=273, shd=273.0, gamma=0.00\n",
      "Epoch 300: loss=49.52, score=276, shd=276.0, gamma=0.00\n",
      "Epoch 400: loss=49.53, score=275, shd=275.0, gamma=0.00\n",
      "Epoch 500: loss=49.52, score=273, shd=273.0, gamma=0.00\n",
      "Epoch 600: loss=49.52, score=278, shd=278.0, gamma=0.00\n",
      "Epoch 700: loss=49.52, score=279, shd=279.0, gamma=0.00\n",
      "Epoch 800: loss=49.52, score=273, shd=273.0, gamma=0.00\n",
      "Epoch 900: loss=49.52, score=272, shd=272.0, gamma=0.00\n",
      "Recall of mask: 0.772\n",
      "Fraction of possible edges in mask: 0.2388\n",
      "Epoch 0: loss=64.85, score=429, shd=429.0, gamma=0.00\n",
      "Epoch 100: loss=59.34, score=245, shd=245.0, gamma=30.03\n",
      "Epoch 200: loss=59.30, score=244, shd=244.0, gamma=30.03\n",
      "Epoch 300: loss=59.31, score=245, shd=245.0, gamma=30.03\n",
      "Epoch 400: loss=59.30, score=243, shd=243.0, gamma=30.03\n",
      "Epoch 500: loss=59.30, score=246, shd=246.0, gamma=30.03\n",
      "Epoch 600: loss=59.30, score=246, shd=246.0, gamma=30.03\n",
      "Epoch 700: loss=59.31, score=247, shd=247.0, gamma=30.03\n",
      "Epoch 800: loss=59.30, score=247, shd=247.0, gamma=30.03\n",
      "Epoch 900: loss=59.33, score=246, shd=246.0, gamma=30.03\n",
      "Finished training in 69.50612998008728 seconds.\n"
     ]
    },
    {
     "data": {
      "text/html": [
       "Waiting for W&B process to finish... <strong style=\"color:green\">(success).</strong>"
      ],
      "text/plain": [
       "<IPython.core.display.HTML object>"
      ]
     },
     "metadata": {},
     "output_type": "display_data"
    },
    {
     "data": {
      "text/html": [
       "<style>\n",
       "    table.wandb td:nth-child(1) { padding: 0 10px; text-align: left ; width: auto;} td:nth-child(2) {text-align: left ; width: 100%}\n",
       "    .wandb-row { display: flex; flex-direction: row; flex-wrap: wrap; justify-content: flex-start; width: 100% }\n",
       "    .wandb-col { display: flex; flex-direction: column; flex-basis: 100%; flex: 1; padding: 10px; }\n",
       "    </style>\n",
       "<div class=\"wandb-row\"><div class=\"wandb-col\"><h3>Run history:</h3><br/><table class=\"wandb\"><tr><td>alpha</td><td>██████████▁▁▁▁▁▁▁▁▁▁</td></tr><tr><td>dag</td><td>▁▁▁▁▁▁▁▁▁▁█▂▂▂▂▂▂▂▂▂</td></tr><tr><td>epoch</td><td>▁▁▂▂▂▃▃▄▄▄▅▅▅▆▆▇▇▇██</td></tr><tr><td>epoch_loss</td><td>█▁▁▁▁▁▁▁▁▁▇▅▅▅▅▅▅▅▅▅</td></tr><tr><td>gamma</td><td>▁▁▁▁▁▁▁▁▁▁▁█████████</td></tr><tr><td>is_prescreen</td><td>██████████▁▁▁▁▁▁▁▁▁▁</td></tr><tr><td>l1</td><td>▃█████████▂▁▁▁▁▁▁▁▁▁</td></tr><tr><td>l2</td><td>▁▄▄▄▄▄▄▄▄▄▁█████████</td></tr><tr><td>n_edges_pred</td><td>▁▅▅▅▅▅▅▅▅▅█▁▁▁▁▁▁▁▁▁</td></tr><tr><td>nll</td><td>█▁▁▁▁▁▁▁▁▁▇▂▂▂▂▂▂▂▂▂</td></tr><tr><td>precision</td><td>▁▅▅▅▅▅▅▅▅▅▄▇█▇█▇▇▇▆▇</td></tr><tr><td>recall</td><td>▁▇▇▇▇▇▇▇▇▇█▁▁▁▁▁▁▁▁▁</td></tr><tr><td>score</td><td>▁▂▂▂▂▂▂▂▂▂█▁▁▁▁▁▁▁▁▁</td></tr><tr><td>shd</td><td>▁▂▂▂▂▂▂▂▂▂█▁▁▁▁▁▁▁▁▁</td></tr></table><br/></div><div class=\"wandb-col\"><h3>Run summary:</h3><br/><table class=\"wandb\"><tr><td>alpha</td><td>1e-05</td></tr><tr><td>dag</td><td>0.13022</td></tr><tr><td>epoch</td><td>1900</td></tr><tr><td>epoch_loss</td><td>59.33057</td></tr><tr><td>gamma</td><td>30.03003</td></tr><tr><td>is_prescreen</td><td>0</td></tr><tr><td>l1</td><td>0.00093</td></tr><tr><td>l2</td><td>3.97777</td></tr><tr><td>n_edges_pred</td><td>12</td></tr><tr><td>nll</td><td>51.44131</td></tr><tr><td>precision</td><td>0.66667</td></tr><tr><td>recall</td><td>0.032</td></tr><tr><td>score</td><td>246</td></tr><tr><td>shd</td><td>246.0</td></tr></table><br/></div></div>"
      ],
      "text/plain": [
       "<IPython.core.display.HTML object>"
      ]
     },
     "metadata": {},
     "output_type": "display_data"
    },
    {
     "data": {
      "text/html": [
       " View run <strong style=\"color:#cdcd00\">SDCI_pf-0_mv-unit_ss-True_alpham-0.001</strong> at: <a href='https://wandb.ai/azizi-causal-perturb/SDCI_new_sim/runs/k4wnht4y' target=\"_blank\">https://wandb.ai/azizi-causal-perturb/SDCI_new_sim/runs/k4wnht4y</a><br/>Synced 6 W&B file(s), 0 media file(s), 0 artifact file(s) and 0 other file(s)"
      ],
      "text/plain": [
       "<IPython.core.display.HTML object>"
      ]
     },
     "metadata": {},
     "output_type": "display_data"
    },
    {
     "data": {
      "text/html": [
       "Find logs at: <code>./wandb/run-20230712_214352-k4wnht4y/logs</code>"
      ],
      "text/plain": [
       "<IPython.core.display.HTML object>"
      ]
     },
     "metadata": {},
     "output_type": "display_data"
    },
    {
     "data": {
      "application/vnd.jupyter.widget-view+json": {
       "model_id": "ed7713ffadd846959e9c2c22d429e434",
       "version_major": 2,
       "version_minor": 0
      },
      "text/plain": [
       "VBox(children=(Label(value='Waiting for wandb.init()...\\r'), FloatProgress(value=0.016669629452129204, max=1.0…"
      ]
     },
     "metadata": {},
     "output_type": "display_data"
    },
    {
     "data": {
      "text/html": [
       "wandb version 0.15.5 is available!  To upgrade, please run:\n",
       " $ pip install wandb --upgrade"
      ],
      "text/plain": [
       "<IPython.core.display.HTML object>"
      ]
     },
     "metadata": {},
     "output_type": "display_data"
    },
    {
     "data": {
      "text/html": [
       "Tracking run with wandb version 0.15.2"
      ],
      "text/plain": [
       "<IPython.core.display.HTML object>"
      ]
     },
     "metadata": {},
     "output_type": "display_data"
    },
    {
     "data": {
      "text/html": [
       "Run data is saved locally in <code>/home/justin/ghrepos/causal-perturbseq/notebooks/wandb/run-20230712_214509-3pldskx0</code>"
      ],
      "text/plain": [
       "<IPython.core.display.HTML object>"
      ]
     },
     "metadata": {},
     "output_type": "display_data"
    },
    {
     "data": {
      "text/html": [
       "Syncing run <strong><a href='https://wandb.ai/azizi-causal-perturb/SDCI_new_sim/runs/3pldskx0' target=\"_blank\">SDCI_pf-0_mv-unit_ss-False_alpham-1</a></strong> to <a href='https://wandb.ai/azizi-causal-perturb/SDCI_new_sim' target=\"_blank\">Weights & Biases</a> (<a href='https://wandb.me/run' target=\"_blank\">docs</a>)<br/>"
      ],
      "text/plain": [
       "<IPython.core.display.HTML object>"
      ]
     },
     "metadata": {},
     "output_type": "display_data"
    },
    {
     "data": {
      "text/html": [
       " View project at <a href='https://wandb.ai/azizi-causal-perturb/SDCI_new_sim' target=\"_blank\">https://wandb.ai/azizi-causal-perturb/SDCI_new_sim</a>"
      ],
      "text/plain": [
       "<IPython.core.display.HTML object>"
      ]
     },
     "metadata": {},
     "output_type": "display_data"
    },
    {
     "data": {
      "text/html": [
       " View run at <a href='https://wandb.ai/azizi-causal-perturb/SDCI_new_sim/runs/3pldskx0' target=\"_blank\">https://wandb.ai/azizi-causal-perturb/SDCI_new_sim/runs/3pldskx0</a>"
      ],
      "text/plain": [
       "<IPython.core.display.HTML object>"
      ]
     },
     "metadata": {},
     "output_type": "display_data"
    },
    {
     "name": "stderr",
     "output_type": "stream",
     "text": [
      "/home/justin/miniconda3/envs/cp/lib/python3.9/site-packages/torch/optim/optimizer.py:243: UserWarning: 'has_cuda' is deprecated, please use 'torch.backends.cuda.is_built()'\n",
      "  if not is_compiling() and torch.has_cuda and torch.cuda.is_available():\n"
     ]
    },
    {
     "name": "stdout",
     "output_type": "stream",
     "text": [
      "Epoch 0: loss=69.34, score=250, shd=250.0, gamma=0.00\n",
      "Epoch 100: loss=53.26, score=219, shd=219.0, gamma=0.00\n",
      "Epoch 200: loss=52.88, score=212, shd=212.0, gamma=0.00\n",
      "Epoch 300: loss=52.73, score=209, shd=209.0, gamma=0.00\n",
      "Epoch 400: loss=52.69, score=210, shd=210.0, gamma=0.00\n",
      "Epoch 500: loss=52.67, score=210, shd=210.0, gamma=0.00\n",
      "Epoch 600: loss=52.67, score=210, shd=210.0, gamma=0.00\n",
      "Epoch 700: loss=52.67, score=209, shd=209.0, gamma=0.00\n",
      "Epoch 800: loss=52.66, score=209, shd=209.0, gamma=0.00\n",
      "Epoch 900: loss=52.66, score=209, shd=209.0, gamma=0.00\n",
      "Recall of mask: 0.472\n",
      "Fraction of possible edges in mask: 0.0868\n",
      "Epoch 0: loss=67.65, score=232, shd=232.0, gamma=0.00\n",
      "Epoch 100: loss=61.10, score=211, shd=211.0, gamma=30.03\n",
      "Epoch 200: loss=61.03, score=208, shd=208.0, gamma=30.03\n",
      "Epoch 300: loss=61.03, score=211, shd=211.0, gamma=30.03\n",
      "Epoch 400: loss=61.01, score=214, shd=214.0, gamma=30.03\n",
      "Epoch 500: loss=61.00, score=212, shd=212.0, gamma=30.03\n",
      "Epoch 600: loss=61.00, score=211, shd=211.0, gamma=30.03\n",
      "Epoch 700: loss=60.99, score=211, shd=211.0, gamma=30.03\n",
      "Epoch 800: loss=60.99, score=211, shd=211.0, gamma=30.03\n",
      "Epoch 900: loss=60.99, score=209, shd=209.0, gamma=30.03\n",
      "Finished training in 70.24580025672913 seconds.\n"
     ]
    },
    {
     "data": {
      "text/html": [
       "Waiting for W&B process to finish... <strong style=\"color:green\">(success).</strong>"
      ],
      "text/plain": [
       "<IPython.core.display.HTML object>"
      ]
     },
     "metadata": {},
     "output_type": "display_data"
    },
    {
     "data": {
      "text/html": [
       "<style>\n",
       "    table.wandb td:nth-child(1) { padding: 0 10px; text-align: left ; width: auto;} td:nth-child(2) {text-align: left ; width: 100%}\n",
       "    .wandb-row { display: flex; flex-direction: row; flex-wrap: wrap; justify-content: flex-start; width: 100% }\n",
       "    .wandb-col { display: flex; flex-direction: column; flex-basis: 100%; flex: 1; padding: 10px; }\n",
       "    </style>\n",
       "<div class=\"wandb-row\"><div class=\"wandb-col\"><h3>Run history:</h3><br/><table class=\"wandb\"><tr><td>alpha</td><td>██████████▁▁▁▁▁▁▁▁▁▁</td></tr><tr><td>dag</td><td>▁▁▁▁▁▁▁▁▁▁█▃▃▃▃▃▃▃▃▃</td></tr><tr><td>epoch</td><td>▁▁▂▂▂▃▃▄▄▄▅▅▅▆▆▇▇▇██</td></tr><tr><td>epoch_loss</td><td>█▁▁▁▁▁▁▁▁▁▇▅▅▅▅▄▄▄▄▄</td></tr><tr><td>gamma</td><td>▁▁▁▁▁▁▁▁▁▁▁█████████</td></tr><tr><td>is_prescreen</td><td>██████████▁▁▁▁▁▁▁▁▁▁</td></tr><tr><td>l1</td><td>▅█▇▆▆▆▆▆▆▆▂▁▁▁▁▁▁▁▁▁</td></tr><tr><td>l2</td><td>▁▄▄▄▄▄▄▄▄▄▁█████████</td></tr><tr><td>n_edges_pred</td><td>▁▆▆▆▆▆▆▆▆▆█▃▃▃▃▃▃▃▃▃</td></tr><tr><td>nll</td><td>█▁▁▁▁▁▁▁▁▁█▂▂▂▂▂▂▂▂▂</td></tr><tr><td>precision</td><td>▁▆▆▆▆▆▆▆▆▆▅█████████</td></tr><tr><td>recall</td><td>▁▆▇▇▇▇▇▇▇▇█▄▄▄▄▄▄▄▄▄</td></tr><tr><td>score</td><td>█▃▂▁▁▁▁▁▁▁▅▁▁▁▂▂▁▁▁▁</td></tr><tr><td>shd</td><td>█▃▂▁▁▁▁▁▁▁▅▁▁▁▂▂▁▁▁▁</td></tr></table><br/></div><div class=\"wandb-col\"><h3>Run summary:</h3><br/><table class=\"wandb\"><tr><td>alpha</td><td>0.005</td></tr><tr><td>dag</td><td>0.12569</td></tr><tr><td>epoch</td><td>1900</td></tr><tr><td>epoch_loss</td><td>60.98524</td></tr><tr><td>gamma</td><td>30.03003</td></tr><tr><td>is_prescreen</td><td>0</td></tr><tr><td>l1</td><td>0.51139</td></tr><tr><td>l2</td><td>4.23138</td></tr><tr><td>n_edges_pred</td><td>55</td></tr><tr><td>nll</td><td>52.46801</td></tr><tr><td>precision</td><td>0.87273</td></tr><tr><td>recall</td><td>0.192</td></tr><tr><td>score</td><td>209</td></tr><tr><td>shd</td><td>209.0</td></tr></table><br/></div></div>"
      ],
      "text/plain": [
       "<IPython.core.display.HTML object>"
      ]
     },
     "metadata": {},
     "output_type": "display_data"
    },
    {
     "data": {
      "text/html": [
       " View run <strong style=\"color:#cdcd00\">SDCI_pf-0_mv-unit_ss-False_alpham-1</strong> at: <a href='https://wandb.ai/azizi-causal-perturb/SDCI_new_sim/runs/3pldskx0' target=\"_blank\">https://wandb.ai/azizi-causal-perturb/SDCI_new_sim/runs/3pldskx0</a><br/>Synced 6 W&B file(s), 0 media file(s), 0 artifact file(s) and 0 other file(s)"
      ],
      "text/plain": [
       "<IPython.core.display.HTML object>"
      ]
     },
     "metadata": {},
     "output_type": "display_data"
    },
    {
     "data": {
      "text/html": [
       "Find logs at: <code>./wandb/run-20230712_214509-3pldskx0/logs</code>"
      ],
      "text/plain": [
       "<IPython.core.display.HTML object>"
      ]
     },
     "metadata": {},
     "output_type": "display_data"
    },
    {
     "data": {
      "application/vnd.jupyter.widget-view+json": {
       "model_id": "545160a3d16047bb8bcbd18d87af394b",
       "version_major": 2,
       "version_minor": 0
      },
      "text/plain": [
       "VBox(children=(Label(value='Waiting for wandb.init()...\\r'), FloatProgress(value=0.016668652510270478, max=1.0…"
      ]
     },
     "metadata": {},
     "output_type": "display_data"
    },
    {
     "data": {
      "text/html": [
       "wandb version 0.15.5 is available!  To upgrade, please run:\n",
       " $ pip install wandb --upgrade"
      ],
      "text/plain": [
       "<IPython.core.display.HTML object>"
      ]
     },
     "metadata": {},
     "output_type": "display_data"
    },
    {
     "data": {
      "text/html": [
       "Tracking run with wandb version 0.15.2"
      ],
      "text/plain": [
       "<IPython.core.display.HTML object>"
      ]
     },
     "metadata": {},
     "output_type": "display_data"
    },
    {
     "data": {
      "text/html": [
       "Run data is saved locally in <code>/home/justin/ghrepos/causal-perturbseq/notebooks/wandb/run-20230712_214628-lwt9bwbx</code>"
      ],
      "text/plain": [
       "<IPython.core.display.HTML object>"
      ]
     },
     "metadata": {},
     "output_type": "display_data"
    },
    {
     "data": {
      "text/html": [
       "Syncing run <strong><a href='https://wandb.ai/azizi-causal-perturb/SDCI_new_sim/runs/lwt9bwbx' target=\"_blank\">SDCI_pf-0_mv-unit_ss-False_alpham-0.1</a></strong> to <a href='https://wandb.ai/azizi-causal-perturb/SDCI_new_sim' target=\"_blank\">Weights & Biases</a> (<a href='https://wandb.me/run' target=\"_blank\">docs</a>)<br/>"
      ],
      "text/plain": [
       "<IPython.core.display.HTML object>"
      ]
     },
     "metadata": {},
     "output_type": "display_data"
    },
    {
     "data": {
      "text/html": [
       " View project at <a href='https://wandb.ai/azizi-causal-perturb/SDCI_new_sim' target=\"_blank\">https://wandb.ai/azizi-causal-perturb/SDCI_new_sim</a>"
      ],
      "text/plain": [
       "<IPython.core.display.HTML object>"
      ]
     },
     "metadata": {},
     "output_type": "display_data"
    },
    {
     "data": {
      "text/html": [
       " View run at <a href='https://wandb.ai/azizi-causal-perturb/SDCI_new_sim/runs/lwt9bwbx' target=\"_blank\">https://wandb.ai/azizi-causal-perturb/SDCI_new_sim/runs/lwt9bwbx</a>"
      ],
      "text/plain": [
       "<IPython.core.display.HTML object>"
      ]
     },
     "metadata": {},
     "output_type": "display_data"
    },
    {
     "name": "stderr",
     "output_type": "stream",
     "text": [
      "/home/justin/miniconda3/envs/cp/lib/python3.9/site-packages/torch/optim/optimizer.py:243: UserWarning: 'has_cuda' is deprecated, please use 'torch.backends.cuda.is_built()'\n",
      "  if not is_compiling() and torch.has_cuda and torch.cuda.is_available():\n"
     ]
    },
    {
     "name": "stdout",
     "output_type": "stream",
     "text": [
      "Epoch 0: loss=68.21, score=250, shd=250.0, gamma=0.00\n",
      "Epoch 100: loss=50.24, score=241, shd=241.0, gamma=0.00\n",
      "Epoch 200: loss=50.20, score=238, shd=238.0, gamma=0.00\n",
      "Epoch 300: loss=50.19, score=238, shd=238.0, gamma=0.00\n",
      "Epoch 400: loss=50.18, score=236, shd=236.0, gamma=0.00\n",
      "Epoch 500: loss=50.17, score=235, shd=235.0, gamma=0.00\n",
      "Epoch 600: loss=50.17, score=235, shd=235.0, gamma=0.00\n",
      "Epoch 700: loss=50.16, score=233, shd=233.0, gamma=0.00\n",
      "Epoch 800: loss=50.16, score=237, shd=237.0, gamma=0.00\n",
      "Epoch 900: loss=50.16, score=235, shd=235.0, gamma=0.00\n",
      "Recall of mask: 0.644\n",
      "Fraction of possible edges in mask: 0.162\n",
      "Epoch 0: loss=65.33, score=326, shd=326.0, gamma=0.00\n",
      "Epoch 100: loss=59.76, score=243, shd=243.0, gamma=30.03\n",
      "Epoch 200: loss=59.73, score=242, shd=242.0, gamma=30.03\n",
      "Epoch 300: loss=59.72, score=243, shd=243.0, gamma=30.03\n",
      "Epoch 400: loss=59.73, score=241, shd=241.0, gamma=30.03\n",
      "Epoch 500: loss=59.72, score=243, shd=243.0, gamma=30.03\n",
      "Epoch 600: loss=59.73, score=240, shd=240.0, gamma=30.03\n",
      "Epoch 700: loss=59.73, score=242, shd=242.0, gamma=30.03\n",
      "Epoch 800: loss=59.72, score=239, shd=239.0, gamma=30.03\n",
      "Epoch 900: loss=59.75, score=241, shd=241.0, gamma=30.03\n",
      "Finished training in 68.48943543434143 seconds.\n"
     ]
    },
    {
     "data": {
      "text/html": [
       "Waiting for W&B process to finish... <strong style=\"color:green\">(success).</strong>"
      ],
      "text/plain": [
       "<IPython.core.display.HTML object>"
      ]
     },
     "metadata": {},
     "output_type": "display_data"
    },
    {
     "data": {
      "text/html": [
       "<style>\n",
       "    table.wandb td:nth-child(1) { padding: 0 10px; text-align: left ; width: auto;} td:nth-child(2) {text-align: left ; width: 100%}\n",
       "    .wandb-row { display: flex; flex-direction: row; flex-wrap: wrap; justify-content: flex-start; width: 100% }\n",
       "    .wandb-col { display: flex; flex-direction: column; flex-basis: 100%; flex: 1; padding: 10px; }\n",
       "    </style>\n",
       "<div class=\"wandb-row\"><div class=\"wandb-col\"><h3>Run history:</h3><br/><table class=\"wandb\"><tr><td>alpha</td><td>██████████▁▁▁▁▁▁▁▁▁▁</td></tr><tr><td>dag</td><td>▁▁▁▁▁▁▁▁▁▁█▂▂▂▂▂▂▂▂▂</td></tr><tr><td>epoch</td><td>▁▁▂▂▂▃▃▄▄▄▅▅▅▆▆▇▇▇██</td></tr><tr><td>epoch_loss</td><td>█▁▁▁▁▁▁▁▁▁▇▅▅▅▅▅▅▅▅▅</td></tr><tr><td>gamma</td><td>▁▁▁▁▁▁▁▁▁▁▁█████████</td></tr><tr><td>is_prescreen</td><td>██████████▁▁▁▁▁▁▁▁▁▁</td></tr><tr><td>l1</td><td>▄██▇▇▇▇▇▇▇▂▁▁▁▁▁▁▁▁▁</td></tr><tr><td>l2</td><td>▁▃▃▃▃▃▃▄▄▄▁█████████</td></tr><tr><td>n_edges_pred</td><td>▁▅▅▆▆▆▆▆▆▆█▁▁▁▁▁▁▁▁▁</td></tr><tr><td>nll</td><td>█▁▁▁▁▁▁▁▁▁▇▂▂▂▂▂▂▂▂▂</td></tr><tr><td>precision</td><td>▁▆▆▆▆▆▆▆▆▆▅▇▇▇█▇█▇██</td></tr><tr><td>recall</td><td>▁▇▇▇▇▇▇▇▇▇█▂▂▂▂▂▂▂▂▂</td></tr><tr><td>score</td><td>▂▂▁▁▁▁▁▁▁▁█▂▂▂▂▂▂▂▁▂</td></tr><tr><td>shd</td><td>▂▂▁▁▁▁▁▁▁▁█▂▂▂▂▂▂▂▁▂</td></tr></table><br/></div><div class=\"wandb-col\"><h3>Run summary:</h3><br/><table class=\"wandb\"><tr><td>alpha</td><td>0.0005</td></tr><tr><td>dag</td><td>0.1343</td></tr><tr><td>epoch</td><td>1900</td></tr><tr><td>epoch_loss</td><td>59.74514</td></tr><tr><td>gamma</td><td>30.03003</td></tr><tr><td>is_prescreen</td><td>0</td></tr><tr><td>l1</td><td>0.07888</td></tr><tr><td>l2</td><td>4.15629</td></tr><tr><td>n_edges_pred</td><td>19</td></tr><tr><td>nll</td><td>51.47689</td></tr><tr><td>precision</td><td>0.73684</td></tr><tr><td>recall</td><td>0.056</td></tr><tr><td>score</td><td>241</td></tr><tr><td>shd</td><td>241.0</td></tr></table><br/></div></div>"
      ],
      "text/plain": [
       "<IPython.core.display.HTML object>"
      ]
     },
     "metadata": {},
     "output_type": "display_data"
    },
    {
     "data": {
      "text/html": [
       " View run <strong style=\"color:#cdcd00\">SDCI_pf-0_mv-unit_ss-False_alpham-0.1</strong> at: <a href='https://wandb.ai/azizi-causal-perturb/SDCI_new_sim/runs/lwt9bwbx' target=\"_blank\">https://wandb.ai/azizi-causal-perturb/SDCI_new_sim/runs/lwt9bwbx</a><br/>Synced 6 W&B file(s), 0 media file(s), 0 artifact file(s) and 0 other file(s)"
      ],
      "text/plain": [
       "<IPython.core.display.HTML object>"
      ]
     },
     "metadata": {},
     "output_type": "display_data"
    },
    {
     "data": {
      "text/html": [
       "Find logs at: <code>./wandb/run-20230712_214628-lwt9bwbx/logs</code>"
      ],
      "text/plain": [
       "<IPython.core.display.HTML object>"
      ]
     },
     "metadata": {},
     "output_type": "display_data"
    },
    {
     "data": {
      "application/vnd.jupyter.widget-view+json": {
       "model_id": "db3e4b46d7cc4e4fa909eae88aa51309",
       "version_major": 2,
       "version_minor": 0
      },
      "text/plain": [
       "VBox(children=(Label(value='Waiting for wandb.init()...\\r'), FloatProgress(value=0.01666971403174102, max=1.0)…"
      ]
     },
     "metadata": {},
     "output_type": "display_data"
    },
    {
     "data": {
      "text/html": [
       "wandb version 0.15.5 is available!  To upgrade, please run:\n",
       " $ pip install wandb --upgrade"
      ],
      "text/plain": [
       "<IPython.core.display.HTML object>"
      ]
     },
     "metadata": {},
     "output_type": "display_data"
    },
    {
     "data": {
      "text/html": [
       "Tracking run with wandb version 0.15.2"
      ],
      "text/plain": [
       "<IPython.core.display.HTML object>"
      ]
     },
     "metadata": {},
     "output_type": "display_data"
    },
    {
     "data": {
      "text/html": [
       "Run data is saved locally in <code>/home/justin/ghrepos/causal-perturbseq/notebooks/wandb/run-20230712_214745-mj04b3uv</code>"
      ],
      "text/plain": [
       "<IPython.core.display.HTML object>"
      ]
     },
     "metadata": {},
     "output_type": "display_data"
    },
    {
     "data": {
      "text/html": [
       "Syncing run <strong><a href='https://wandb.ai/azizi-causal-perturb/SDCI_new_sim/runs/mj04b3uv' target=\"_blank\">SDCI_pf-0_mv-unit_ss-False_alpham-0.01</a></strong> to <a href='https://wandb.ai/azizi-causal-perturb/SDCI_new_sim' target=\"_blank\">Weights & Biases</a> (<a href='https://wandb.me/run' target=\"_blank\">docs</a>)<br/>"
      ],
      "text/plain": [
       "<IPython.core.display.HTML object>"
      ]
     },
     "metadata": {},
     "output_type": "display_data"
    },
    {
     "data": {
      "text/html": [
       " View project at <a href='https://wandb.ai/azizi-causal-perturb/SDCI_new_sim' target=\"_blank\">https://wandb.ai/azizi-causal-perturb/SDCI_new_sim</a>"
      ],
      "text/plain": [
       "<IPython.core.display.HTML object>"
      ]
     },
     "metadata": {},
     "output_type": "display_data"
    },
    {
     "data": {
      "text/html": [
       " View run at <a href='https://wandb.ai/azizi-causal-perturb/SDCI_new_sim/runs/mj04b3uv' target=\"_blank\">https://wandb.ai/azizi-causal-perturb/SDCI_new_sim/runs/mj04b3uv</a>"
      ],
      "text/plain": [
       "<IPython.core.display.HTML object>"
      ]
     },
     "metadata": {},
     "output_type": "display_data"
    },
    {
     "name": "stderr",
     "output_type": "stream",
     "text": [
      "/home/justin/miniconda3/envs/cp/lib/python3.9/site-packages/torch/optim/optimizer.py:243: UserWarning: 'has_cuda' is deprecated, please use 'torch.backends.cuda.is_built()'\n",
      "  if not is_compiling() and torch.has_cuda and torch.cuda.is_available():\n"
     ]
    },
    {
     "name": "stdout",
     "output_type": "stream",
     "text": [
      "Epoch 0: loss=66.85, score=250, shd=250.0, gamma=0.00\n",
      "Epoch 100: loss=49.52, score=271, shd=271.0, gamma=0.00\n",
      "Epoch 200: loss=49.50, score=271, shd=271.0, gamma=0.00\n",
      "Epoch 300: loss=49.50, score=270, shd=270.0, gamma=0.00\n",
      "Epoch 400: loss=49.50, score=267, shd=267.0, gamma=0.00\n",
      "Epoch 500: loss=49.50, score=270, shd=270.0, gamma=0.00\n",
      "Epoch 600: loss=49.50, score=269, shd=269.0, gamma=0.00\n",
      "Epoch 700: loss=49.50, score=268, shd=268.0, gamma=0.00\n",
      "Epoch 800: loss=49.50, score=270, shd=270.0, gamma=0.00\n",
      "Epoch 900: loss=49.50, score=266, shd=266.0, gamma=0.00\n",
      "Recall of mask: 0.716\n",
      "Fraction of possible edges in mask: 0.2156\n",
      "Epoch 0: loss=64.11, score=406, shd=406.0, gamma=0.00\n",
      "Epoch 100: loss=59.25, score=248, shd=248.0, gamma=30.03\n",
      "Epoch 200: loss=59.24, score=246, shd=246.0, gamma=30.03\n",
      "Epoch 300: loss=59.21, score=246, shd=246.0, gamma=30.03\n",
      "Epoch 400: loss=59.22, score=246, shd=246.0, gamma=30.03\n",
      "Epoch 500: loss=59.22, score=246, shd=246.0, gamma=30.03\n",
      "Epoch 600: loss=59.23, score=246, shd=246.0, gamma=30.03\n",
      "Epoch 700: loss=59.23, score=246, shd=246.0, gamma=30.03\n",
      "Epoch 800: loss=59.22, score=248, shd=248.0, gamma=30.03\n",
      "Epoch 900: loss=59.23, score=246, shd=246.0, gamma=30.03\n",
      "Finished training in 68.45148825645447 seconds.\n"
     ]
    },
    {
     "data": {
      "text/html": [
       "Waiting for W&B process to finish... <strong style=\"color:green\">(success).</strong>"
      ],
      "text/plain": [
       "<IPython.core.display.HTML object>"
      ]
     },
     "metadata": {},
     "output_type": "display_data"
    },
    {
     "data": {
      "text/html": [
       "<style>\n",
       "    table.wandb td:nth-child(1) { padding: 0 10px; text-align: left ; width: auto;} td:nth-child(2) {text-align: left ; width: 100%}\n",
       "    .wandb-row { display: flex; flex-direction: row; flex-wrap: wrap; justify-content: flex-start; width: 100% }\n",
       "    .wandb-col { display: flex; flex-direction: column; flex-basis: 100%; flex: 1; padding: 10px; }\n",
       "    </style>\n",
       "<div class=\"wandb-row\"><div class=\"wandb-col\"><h3>Run history:</h3><br/><table class=\"wandb\"><tr><td>alpha</td><td>██████████▁▁▁▁▁▁▁▁▁▁</td></tr><tr><td>dag</td><td>▁▁▁▁▁▁▁▁▁▁█▂▂▂▂▂▂▂▂▂</td></tr><tr><td>epoch</td><td>▁▁▂▂▂▃▃▄▄▄▅▅▅▆▆▇▇▇██</td></tr><tr><td>epoch_loss</td><td>█▁▁▁▁▁▁▁▁▁▇▅▅▅▅▅▅▅▅▅</td></tr><tr><td>gamma</td><td>▁▁▁▁▁▁▁▁▁▁▁█████████</td></tr><tr><td>is_prescreen</td><td>██████████▁▁▁▁▁▁▁▁▁▁</td></tr><tr><td>l1</td><td>▃█████████▂▁▁▁▁▁▁▁▁▁</td></tr><tr><td>l2</td><td>▁▃▃▄▄▄▄▄▄▄▁█████████</td></tr><tr><td>n_edges_pred</td><td>▁▅▅▅▅▅▅▅▅▅█▁▁▁▁▁▁▁▁▁</td></tr><tr><td>nll</td><td>█▁▁▁▁▁▁▁▁▁▇▂▂▂▂▂▂▂▂▂</td></tr><tr><td>precision</td><td>▁▆▆▆▆▆▆▆▆▆▄▇██████▇█</td></tr><tr><td>recall</td><td>▁▇▇▇▇▇▇▇▇▇█▁▁▁▁▁▁▁▁▁</td></tr><tr><td>score</td><td>▁▂▂▂▂▂▂▂▂▂█▁▁▁▁▁▁▁▁▁</td></tr><tr><td>shd</td><td>▁▂▂▂▂▂▂▂▂▂█▁▁▁▁▁▁▁▁▁</td></tr></table><br/></div><div class=\"wandb-col\"><h3>Run summary:</h3><br/><table class=\"wandb\"><tr><td>alpha</td><td>5e-05</td></tr><tr><td>dag</td><td>0.13038</td></tr><tr><td>epoch</td><td>1900</td></tr><tr><td>epoch_loss</td><td>59.22579</td></tr><tr><td>gamma</td><td>30.03003</td></tr><tr><td>is_prescreen</td><td>0</td></tr><tr><td>l1</td><td>0.00875</td></tr><tr><td>l2</td><td>3.992</td></tr><tr><td>n_edges_pred</td><td>10</td></tr><tr><td>nll</td><td>51.30983</td></tr><tr><td>precision</td><td>0.7</td></tr><tr><td>recall</td><td>0.028</td></tr><tr><td>score</td><td>246</td></tr><tr><td>shd</td><td>246.0</td></tr></table><br/></div></div>"
      ],
      "text/plain": [
       "<IPython.core.display.HTML object>"
      ]
     },
     "metadata": {},
     "output_type": "display_data"
    },
    {
     "data": {
      "text/html": [
       " View run <strong style=\"color:#cdcd00\">SDCI_pf-0_mv-unit_ss-False_alpham-0.01</strong> at: <a href='https://wandb.ai/azizi-causal-perturb/SDCI_new_sim/runs/mj04b3uv' target=\"_blank\">https://wandb.ai/azizi-causal-perturb/SDCI_new_sim/runs/mj04b3uv</a><br/>Synced 6 W&B file(s), 0 media file(s), 0 artifact file(s) and 0 other file(s)"
      ],
      "text/plain": [
       "<IPython.core.display.HTML object>"
      ]
     },
     "metadata": {},
     "output_type": "display_data"
    },
    {
     "data": {
      "text/html": [
       "Find logs at: <code>./wandb/run-20230712_214745-mj04b3uv/logs</code>"
      ],
      "text/plain": [
       "<IPython.core.display.HTML object>"
      ]
     },
     "metadata": {},
     "output_type": "display_data"
    },
    {
     "data": {
      "application/vnd.jupyter.widget-view+json": {
       "model_id": "9c2de90275d143e5852d145de38ca6d4",
       "version_major": 2,
       "version_minor": 0
      },
      "text/plain": [
       "VBox(children=(Label(value='Waiting for wandb.init()...\\r'), FloatProgress(value=0.016669569117948414, max=1.0…"
      ]
     },
     "metadata": {},
     "output_type": "display_data"
    },
    {
     "data": {
      "text/html": [
       "wandb version 0.15.5 is available!  To upgrade, please run:\n",
       " $ pip install wandb --upgrade"
      ],
      "text/plain": [
       "<IPython.core.display.HTML object>"
      ]
     },
     "metadata": {},
     "output_type": "display_data"
    },
    {
     "data": {
      "text/html": [
       "Tracking run with wandb version 0.15.2"
      ],
      "text/plain": [
       "<IPython.core.display.HTML object>"
      ]
     },
     "metadata": {},
     "output_type": "display_data"
    },
    {
     "data": {
      "text/html": [
       "Run data is saved locally in <code>/home/justin/ghrepos/causal-perturbseq/notebooks/wandb/run-20230712_214901-wmf4zx82</code>"
      ],
      "text/plain": [
       "<IPython.core.display.HTML object>"
      ]
     },
     "metadata": {},
     "output_type": "display_data"
    },
    {
     "data": {
      "text/html": [
       "Syncing run <strong><a href='https://wandb.ai/azizi-causal-perturb/SDCI_new_sim/runs/wmf4zx82' target=\"_blank\">SDCI_pf-0_mv-unit_ss-False_alpham-0.001</a></strong> to <a href='https://wandb.ai/azizi-causal-perturb/SDCI_new_sim' target=\"_blank\">Weights & Biases</a> (<a href='https://wandb.me/run' target=\"_blank\">docs</a>)<br/>"
      ],
      "text/plain": [
       "<IPython.core.display.HTML object>"
      ]
     },
     "metadata": {},
     "output_type": "display_data"
    },
    {
     "data": {
      "text/html": [
       " View project at <a href='https://wandb.ai/azizi-causal-perturb/SDCI_new_sim' target=\"_blank\">https://wandb.ai/azizi-causal-perturb/SDCI_new_sim</a>"
      ],
      "text/plain": [
       "<IPython.core.display.HTML object>"
      ]
     },
     "metadata": {},
     "output_type": "display_data"
    },
    {
     "data": {
      "text/html": [
       " View run at <a href='https://wandb.ai/azizi-causal-perturb/SDCI_new_sim/runs/wmf4zx82' target=\"_blank\">https://wandb.ai/azizi-causal-perturb/SDCI_new_sim/runs/wmf4zx82</a>"
      ],
      "text/plain": [
       "<IPython.core.display.HTML object>"
      ]
     },
     "metadata": {},
     "output_type": "display_data"
    },
    {
     "name": "stderr",
     "output_type": "stream",
     "text": [
      "/home/justin/miniconda3/envs/cp/lib/python3.9/site-packages/torch/optim/optimizer.py:243: UserWarning: 'has_cuda' is deprecated, please use 'torch.backends.cuda.is_built()'\n",
      "  if not is_compiling() and torch.has_cuda and torch.cuda.is_available():\n"
     ]
    },
    {
     "name": "stdout",
     "output_type": "stream",
     "text": [
      "Epoch 0: loss=66.68, score=250, shd=250.0, gamma=0.00\n",
      "Epoch 100: loss=49.42, score=281, shd=281.0, gamma=0.00\n",
      "Epoch 200: loss=49.40, score=282, shd=282.0, gamma=0.00\n",
      "Epoch 300: loss=49.40, score=283, shd=283.0, gamma=0.00\n",
      "Epoch 400: loss=49.39, score=278, shd=278.0, gamma=0.00\n",
      "Epoch 500: loss=49.40, score=276, shd=276.0, gamma=0.00\n",
      "Epoch 600: loss=49.40, score=276, shd=276.0, gamma=0.00\n",
      "Epoch 700: loss=49.40, score=274, shd=274.0, gamma=0.00\n",
      "Epoch 800: loss=49.40, score=277, shd=277.0, gamma=0.00\n",
      "Epoch 900: loss=49.40, score=273, shd=273.0, gamma=0.00\n",
      "Recall of mask: 0.74\n",
      "Fraction of possible edges in mask: 0.2312\n",
      "Epoch 0: loss=64.35, score=425, shd=425.0, gamma=0.00\n",
      "Epoch 100: loss=59.07, score=247, shd=247.0, gamma=30.03\n",
      "Epoch 200: loss=59.04, score=249, shd=249.0, gamma=30.03\n",
      "Epoch 300: loss=59.05, score=248, shd=248.0, gamma=30.03\n",
      "Epoch 400: loss=59.06, score=249, shd=249.0, gamma=30.03\n",
      "Epoch 500: loss=59.04, score=248, shd=248.0, gamma=30.03\n",
      "Epoch 600: loss=59.05, score=248, shd=248.0, gamma=30.03\n",
      "Epoch 700: loss=59.02, score=248, shd=248.0, gamma=30.03\n",
      "Epoch 800: loss=59.03, score=247, shd=247.0, gamma=30.03\n",
      "Epoch 900: loss=59.04, score=247, shd=247.0, gamma=30.03\n",
      "Finished training in 68.97825980186462 seconds.\n"
     ]
    },
    {
     "data": {
      "text/html": [
       "Waiting for W&B process to finish... <strong style=\"color:green\">(success).</strong>"
      ],
      "text/plain": [
       "<IPython.core.display.HTML object>"
      ]
     },
     "metadata": {},
     "output_type": "display_data"
    },
    {
     "data": {
      "application/vnd.jupyter.widget-view+json": {
       "model_id": "0f30bb00692f40c8a3014fc0763ab6f0",
       "version_major": 2,
       "version_minor": 0
      },
      "text/plain": [
       "VBox(children=(Label(value='0.004 MB of 0.004 MB uploaded (0.000 MB deduped)\\r'), FloatProgress(value=1.0, max…"
      ]
     },
     "metadata": {},
     "output_type": "display_data"
    },
    {
     "data": {
      "text/html": [
       "<style>\n",
       "    table.wandb td:nth-child(1) { padding: 0 10px; text-align: left ; width: auto;} td:nth-child(2) {text-align: left ; width: 100%}\n",
       "    .wandb-row { display: flex; flex-direction: row; flex-wrap: wrap; justify-content: flex-start; width: 100% }\n",
       "    .wandb-col { display: flex; flex-direction: column; flex-basis: 100%; flex: 1; padding: 10px; }\n",
       "    </style>\n",
       "<div class=\"wandb-row\"><div class=\"wandb-col\"><h3>Run history:</h3><br/><table class=\"wandb\"><tr><td>alpha</td><td>██████████▁▁▁▁▁▁▁▁▁▁</td></tr><tr><td>dag</td><td>▁▁▁▁▁▁▁▁▁▁█▂▂▂▂▂▂▂▂▂</td></tr><tr><td>epoch</td><td>▁▁▂▂▂▃▃▄▄▄▅▅▅▆▆▇▇▇██</td></tr><tr><td>epoch_loss</td><td>█▁▁▁▁▁▁▁▁▁▇▅▅▅▅▅▅▅▅▅</td></tr><tr><td>gamma</td><td>▁▁▁▁▁▁▁▁▁▁▁█████████</td></tr><tr><td>is_prescreen</td><td>██████████▁▁▁▁▁▁▁▁▁▁</td></tr><tr><td>l1</td><td>▃█████████▂▁▁▁▁▁▁▁▁▁</td></tr><tr><td>l2</td><td>▁▄▄▄▄▄▄▄▄▄▁█████████</td></tr><tr><td>n_edges_pred</td><td>▁▅▅▅▅▅▅▅▅▅█▁▁▁▁▁▁▁▁▁</td></tr><tr><td>nll</td><td>█▁▁▁▁▁▁▁▁▁▇▂▂▂▂▂▂▂▂▂</td></tr><tr><td>precision</td><td>▁▆▆▆▆▆▆▆▆▆▅█▇█▇▇▇▇██</td></tr><tr><td>recall</td><td>▁▇▇▇▇▇▇▇▇▇█▁▁▁▁▁▁▁▁▁</td></tr><tr><td>score</td><td>▁▂▂▂▂▂▂▂▂▂█▁▁▁▁▁▁▁▁▁</td></tr><tr><td>shd</td><td>▁▂▂▂▂▂▂▂▂▂█▁▁▁▁▁▁▁▁▁</td></tr></table><br/></div><div class=\"wandb-col\"><h3>Run summary:</h3><br/><table class=\"wandb\"><tr><td>alpha</td><td>1e-05</td></tr><tr><td>dag</td><td>0.12808</td></tr><tr><td>epoch</td><td>1900</td></tr><tr><td>epoch_loss</td><td>59.04019</td></tr><tr><td>gamma</td><td>30.03003</td></tr><tr><td>is_prescreen</td><td>0</td></tr><tr><td>l1</td><td>0.00092</td></tr><tr><td>l2</td><td>3.91581</td></tr><tr><td>n_edges_pred</td><td>11</td></tr><tr><td>nll</td><td>51.27735</td></tr><tr><td>precision</td><td>0.63636</td></tr><tr><td>recall</td><td>0.028</td></tr><tr><td>score</td><td>247</td></tr><tr><td>shd</td><td>247.0</td></tr></table><br/></div></div>"
      ],
      "text/plain": [
       "<IPython.core.display.HTML object>"
      ]
     },
     "metadata": {},
     "output_type": "display_data"
    },
    {
     "data": {
      "text/html": [
       " View run <strong style=\"color:#cdcd00\">SDCI_pf-0_mv-unit_ss-False_alpham-0.001</strong> at: <a href='https://wandb.ai/azizi-causal-perturb/SDCI_new_sim/runs/wmf4zx82' target=\"_blank\">https://wandb.ai/azizi-causal-perturb/SDCI_new_sim/runs/wmf4zx82</a><br/>Synced 6 W&B file(s), 0 media file(s), 0 artifact file(s) and 0 other file(s)"
      ],
      "text/plain": [
       "<IPython.core.display.HTML object>"
      ]
     },
     "metadata": {},
     "output_type": "display_data"
    },
    {
     "data": {
      "text/html": [
       "Find logs at: <code>./wandb/run-20230712_214901-wmf4zx82/logs</code>"
      ],
      "text/plain": [
       "<IPython.core.display.HTML object>"
      ]
     },
     "metadata": {},
     "output_type": "display_data"
    },
    {
     "data": {
      "application/vnd.jupyter.widget-view+json": {
       "model_id": "380189f524864abaaf7d6b4c57fa55f5",
       "version_major": 2,
       "version_minor": 0
      },
      "text/plain": [
       "VBox(children=(Label(value='Waiting for wandb.init()...\\r'), FloatProgress(value=0.016669625121479233, max=1.0…"
      ]
     },
     "metadata": {},
     "output_type": "display_data"
    },
    {
     "data": {
      "text/html": [
       "wandb version 0.15.5 is available!  To upgrade, please run:\n",
       " $ pip install wandb --upgrade"
      ],
      "text/plain": [
       "<IPython.core.display.HTML object>"
      ]
     },
     "metadata": {},
     "output_type": "display_data"
    },
    {
     "data": {
      "text/html": [
       "Tracking run with wandb version 0.15.2"
      ],
      "text/plain": [
       "<IPython.core.display.HTML object>"
      ]
     },
     "metadata": {},
     "output_type": "display_data"
    },
    {
     "data": {
      "text/html": [
       "Run data is saved locally in <code>/home/justin/ghrepos/causal-perturbseq/notebooks/wandb/run-20230712_215016-91mrmo4d</code>"
      ],
      "text/plain": [
       "<IPython.core.display.HTML object>"
      ]
     },
     "metadata": {},
     "output_type": "display_data"
    },
    {
     "data": {
      "text/html": [
       "Syncing run <strong><a href='https://wandb.ai/azizi-causal-perturb/SDCI_new_sim/runs/91mrmo4d' target=\"_blank\">SDCI_pf-0_mv-nn_ss-True_alpham-1</a></strong> to <a href='https://wandb.ai/azizi-causal-perturb/SDCI_new_sim' target=\"_blank\">Weights & Biases</a> (<a href='https://wandb.me/run' target=\"_blank\">docs</a>)<br/>"
      ],
      "text/plain": [
       "<IPython.core.display.HTML object>"
      ]
     },
     "metadata": {},
     "output_type": "display_data"
    },
    {
     "data": {
      "text/html": [
       " View project at <a href='https://wandb.ai/azizi-causal-perturb/SDCI_new_sim' target=\"_blank\">https://wandb.ai/azizi-causal-perturb/SDCI_new_sim</a>"
      ],
      "text/plain": [
       "<IPython.core.display.HTML object>"
      ]
     },
     "metadata": {},
     "output_type": "display_data"
    },
    {
     "data": {
      "text/html": [
       " View run at <a href='https://wandb.ai/azizi-causal-perturb/SDCI_new_sim/runs/91mrmo4d' target=\"_blank\">https://wandb.ai/azizi-causal-perturb/SDCI_new_sim/runs/91mrmo4d</a>"
      ],
      "text/plain": [
       "<IPython.core.display.HTML object>"
      ]
     },
     "metadata": {},
     "output_type": "display_data"
    },
    {
     "name": "stderr",
     "output_type": "stream",
     "text": [
      "/home/justin/miniconda3/envs/cp/lib/python3.9/site-packages/torch/optim/optimizer.py:243: UserWarning: 'has_cuda' is deprecated, please use 'torch.backends.cuda.is_built()'\n",
      "  if not is_compiling() and torch.has_cuda and torch.cuda.is_available():\n"
     ]
    },
    {
     "name": "stdout",
     "output_type": "stream",
     "text": [
      "Epoch 0: loss=71.76, score=250, shd=250.0, gamma=0.00\n",
      "Epoch 100: loss=3.37, score=228, shd=228.0, gamma=0.00\n",
      "Epoch 200: loss=1.37, score=220, shd=220.0, gamma=0.00\n",
      "Epoch 300: loss=0.59, score=195, shd=195.0, gamma=0.00\n",
      "Epoch 400: loss=0.25, score=194, shd=194.0, gamma=0.00\n",
      "Epoch 500: loss=-0.01, score=187, shd=187.0, gamma=0.00\n",
      "Epoch 600: loss=-0.20, score=183, shd=183.0, gamma=0.00\n",
      "Epoch 700: loss=-0.34, score=184, shd=184.0, gamma=0.00\n",
      "Epoch 800: loss=-0.40, score=187, shd=187.0, gamma=0.00\n",
      "Epoch 900: loss=-0.48, score=180, shd=180.0, gamma=0.00\n",
      "Recall of mask: 0.94\n",
      "Fraction of possible edges in mask: 0.2224\n",
      "Epoch 0: loss=67.59, score=295, shd=295.0, gamma=0.00\n",
      "Epoch 100: loss=26.81, score=198, shd=198.0, gamma=30.03\n",
      "Epoch 200: loss=25.93, score=204, shd=204.0, gamma=30.03\n",
      "Epoch 300: loss=25.80, score=205, shd=205.0, gamma=30.03\n",
      "Epoch 400: loss=25.58, score=203, shd=203.0, gamma=30.03\n",
      "Epoch 500: loss=25.57, score=206, shd=206.0, gamma=30.03\n",
      "Epoch 600: loss=25.51, score=205, shd=205.0, gamma=30.03\n",
      "Epoch 700: loss=25.48, score=202, shd=202.0, gamma=30.03\n",
      "Epoch 800: loss=25.44, score=206, shd=206.0, gamma=30.03\n",
      "Epoch 900: loss=25.55, score=205, shd=205.0, gamma=30.03\n",
      "Finished training in 75.54387521743774 seconds.\n"
     ]
    },
    {
     "data": {
      "text/html": [
       "Waiting for W&B process to finish... <strong style=\"color:green\">(success).</strong>"
      ],
      "text/plain": [
       "<IPython.core.display.HTML object>"
      ]
     },
     "metadata": {},
     "output_type": "display_data"
    },
    {
     "data": {
      "text/html": [
       "<style>\n",
       "    table.wandb td:nth-child(1) { padding: 0 10px; text-align: left ; width: auto;} td:nth-child(2) {text-align: left ; width: 100%}\n",
       "    .wandb-row { display: flex; flex-direction: row; flex-wrap: wrap; justify-content: flex-start; width: 100% }\n",
       "    .wandb-col { display: flex; flex-direction: column; flex-basis: 100%; flex: 1; padding: 10px; }\n",
       "    </style>\n",
       "<div class=\"wandb-row\"><div class=\"wandb-col\"><h3>Run history:</h3><br/><table class=\"wandb\"><tr><td>alpha</td><td>██████████▁▁▁▁▁▁▁▁▁▁</td></tr><tr><td>dag</td><td>▁▁▁▁▁▁▁▁▁▁█▅▄▄▄▄▄▄▄▄</td></tr><tr><td>epoch</td><td>▁▁▂▂▂▃▃▄▄▄▅▅▅▆▆▇▇▇██</td></tr><tr><td>epoch_loss</td><td>█▁▁▁▁▁▁▁▁▁█▄▄▄▄▄▄▄▄▄</td></tr><tr><td>gamma</td><td>▁▁▁▁▁▁▁▁▁▁▁█████████</td></tr><tr><td>is_prescreen</td><td>██████████▁▁▁▁▁▁▁▁▁▁</td></tr><tr><td>l1</td><td>▂█████████▂▁▁▁▁▁▁▁▁▁</td></tr><tr><td>l2</td><td>▁▄▅▅▅▆▆▆▆▆▁▇████████</td></tr><tr><td>n_edges_pred</td><td>▁██████████▃▂▂▂▂▂▂▂▂</td></tr><tr><td>nll</td><td>█▁▁▁▁▁▁▁▁▁█▃▃▃▃▃▃▃▃▃</td></tr><tr><td>precision</td><td>▁▆▆▆▆▆▆▆▆▆▅█████████</td></tr><tr><td>recall</td><td>▁▇████████▆▃▃▃▃▃▃▃▃▃</td></tr><tr><td>score</td><td>▅▄▃▂▂▁▁▁▁▁█▂▂▃▂▃▃▂▃▃</td></tr><tr><td>shd</td><td>▅▄▃▂▂▁▁▁▁▁█▂▂▃▂▃▃▂▃▃</td></tr></table><br/></div><div class=\"wandb-col\"><h3>Run summary:</h3><br/><table class=\"wandb\"><tr><td>alpha</td><td>0.005</td></tr><tr><td>dag</td><td>0.30735</td></tr><tr><td>epoch</td><td>1900</td></tr><tr><td>epoch_loss</td><td>25.54967</td></tr><tr><td>gamma</td><td>30.03003</td></tr><tr><td>is_prescreen</td><td>0</td></tr><tr><td>l1</td><td>0.88192</td></tr><tr><td>l2</td><td>8.99522</td></tr><tr><td>n_edges_pred</td><td>83</td></tr><tr><td>nll</td><td>6.44267</td></tr><tr><td>precision</td><td>0.77108</td></tr><tr><td>recall</td><td>0.256</td></tr><tr><td>score</td><td>205</td></tr><tr><td>shd</td><td>205.0</td></tr></table><br/></div></div>"
      ],
      "text/plain": [
       "<IPython.core.display.HTML object>"
      ]
     },
     "metadata": {},
     "output_type": "display_data"
    },
    {
     "data": {
      "text/html": [
       " View run <strong style=\"color:#cdcd00\">SDCI_pf-0_mv-nn_ss-True_alpham-1</strong> at: <a href='https://wandb.ai/azizi-causal-perturb/SDCI_new_sim/runs/91mrmo4d' target=\"_blank\">https://wandb.ai/azizi-causal-perturb/SDCI_new_sim/runs/91mrmo4d</a><br/>Synced 6 W&B file(s), 0 media file(s), 0 artifact file(s) and 0 other file(s)"
      ],
      "text/plain": [
       "<IPython.core.display.HTML object>"
      ]
     },
     "metadata": {},
     "output_type": "display_data"
    },
    {
     "data": {
      "text/html": [
       "Find logs at: <code>./wandb/run-20230712_215016-91mrmo4d/logs</code>"
      ],
      "text/plain": [
       "<IPython.core.display.HTML object>"
      ]
     },
     "metadata": {},
     "output_type": "display_data"
    },
    {
     "data": {
      "application/vnd.jupyter.widget-view+json": {
       "model_id": "07b5564da6ca4994926bfed4df53d753",
       "version_major": 2,
       "version_minor": 0
      },
      "text/plain": [
       "VBox(children=(Label(value='Waiting for wandb.init()...\\r'), FloatProgress(value=0.01666961287458738, max=1.0)…"
      ]
     },
     "metadata": {},
     "output_type": "display_data"
    },
    {
     "data": {
      "text/html": [
       "wandb version 0.15.5 is available!  To upgrade, please run:\n",
       " $ pip install wandb --upgrade"
      ],
      "text/plain": [
       "<IPython.core.display.HTML object>"
      ]
     },
     "metadata": {},
     "output_type": "display_data"
    },
    {
     "data": {
      "text/html": [
       "Tracking run with wandb version 0.15.2"
      ],
      "text/plain": [
       "<IPython.core.display.HTML object>"
      ]
     },
     "metadata": {},
     "output_type": "display_data"
    },
    {
     "data": {
      "text/html": [
       "Run data is saved locally in <code>/home/justin/ghrepos/causal-perturbseq/notebooks/wandb/run-20230712_215140-sxtodb0r</code>"
      ],
      "text/plain": [
       "<IPython.core.display.HTML object>"
      ]
     },
     "metadata": {},
     "output_type": "display_data"
    },
    {
     "data": {
      "text/html": [
       "Syncing run <strong><a href='https://wandb.ai/azizi-causal-perturb/SDCI_new_sim/runs/sxtodb0r' target=\"_blank\">SDCI_pf-0_mv-nn_ss-True_alpham-0.1</a></strong> to <a href='https://wandb.ai/azizi-causal-perturb/SDCI_new_sim' target=\"_blank\">Weights & Biases</a> (<a href='https://wandb.me/run' target=\"_blank\">docs</a>)<br/>"
      ],
      "text/plain": [
       "<IPython.core.display.HTML object>"
      ]
     },
     "metadata": {},
     "output_type": "display_data"
    },
    {
     "data": {
      "text/html": [
       " View project at <a href='https://wandb.ai/azizi-causal-perturb/SDCI_new_sim' target=\"_blank\">https://wandb.ai/azizi-causal-perturb/SDCI_new_sim</a>"
      ],
      "text/plain": [
       "<IPython.core.display.HTML object>"
      ]
     },
     "metadata": {},
     "output_type": "display_data"
    },
    {
     "data": {
      "text/html": [
       " View run at <a href='https://wandb.ai/azizi-causal-perturb/SDCI_new_sim/runs/sxtodb0r' target=\"_blank\">https://wandb.ai/azizi-causal-perturb/SDCI_new_sim/runs/sxtodb0r</a>"
      ],
      "text/plain": [
       "<IPython.core.display.HTML object>"
      ]
     },
     "metadata": {},
     "output_type": "display_data"
    },
    {
     "name": "stderr",
     "output_type": "stream",
     "text": [
      "/home/justin/miniconda3/envs/cp/lib/python3.9/site-packages/torch/optim/optimizer.py:243: UserWarning: 'has_cuda' is deprecated, please use 'torch.backends.cuda.is_built()'\n",
      "  if not is_compiling() and torch.has_cuda and torch.cuda.is_available():\n"
     ]
    },
    {
     "name": "stdout",
     "output_type": "stream",
     "text": [
      "Epoch 0: loss=69.81, score=250, shd=250.0, gamma=0.00\n",
      "Epoch 100: loss=-8.12, score=755, shd=755.0, gamma=0.00\n",
      "Epoch 200: loss=-10.28, score=838, shd=838.0, gamma=0.00\n",
      "Epoch 300: loss=-11.05, score=861, shd=861.0, gamma=0.00\n",
      "Epoch 400: loss=-11.59, score=879, shd=879.0, gamma=0.00\n",
      "Epoch 500: loss=-11.93, score=879, shd=879.0, gamma=0.00\n",
      "Epoch 600: loss=-12.06, score=879, shd=879.0, gamma=0.00\n",
      "Epoch 700: loss=-12.17, score=876, shd=876.0, gamma=0.00\n",
      "Epoch 800: loss=-12.29, score=886, shd=886.0, gamma=0.00\n",
      "Epoch 900: loss=-12.48, score=889, shd=889.0, gamma=0.00\n",
      "Recall of mask: 1.0\n",
      "Fraction of possible edges in mask: 0.708\n",
      "Epoch 0: loss=60.38, score=1123, shd=1123.0, gamma=0.00\n",
      "Epoch 100: loss=23.09, score=236, shd=236.0, gamma=30.03\n",
      "Epoch 200: loss=29.12, score=250, shd=250.0, gamma=60.06\n",
      "Epoch 300: loss=28.79, score=250, shd=250.0, gamma=60.06\n",
      "Epoch 400: loss=28.55, score=250, shd=250.0, gamma=60.06\n",
      "Epoch 500: loss=28.35, score=251, shd=251.0, gamma=60.06\n",
      "Epoch 600: loss=28.30, score=248, shd=248.0, gamma=60.06\n",
      "Epoch 700: loss=28.39, score=248, shd=248.0, gamma=60.06\n",
      "Epoch 800: loss=28.08, score=249, shd=249.0, gamma=60.06\n",
      "Epoch 900: loss=28.12, score=250, shd=250.0, gamma=60.06\n",
      "Finished training in 75.01080846786499 seconds.\n"
     ]
    },
    {
     "data": {
      "text/html": [
       "Waiting for W&B process to finish... <strong style=\"color:green\">(success).</strong>"
      ],
      "text/plain": [
       "<IPython.core.display.HTML object>"
      ]
     },
     "metadata": {},
     "output_type": "display_data"
    },
    {
     "data": {
      "application/vnd.jupyter.widget-view+json": {
       "model_id": "4cf4d43248554b99b715948823eb49f4",
       "version_major": 2,
       "version_minor": 0
      },
      "text/plain": [
       "VBox(children=(Label(value='0.004 MB of 0.004 MB uploaded (0.000 MB deduped)\\r'), FloatProgress(value=1.0, max…"
      ]
     },
     "metadata": {},
     "output_type": "display_data"
    },
    {
     "data": {
      "text/html": [
       "<style>\n",
       "    table.wandb td:nth-child(1) { padding: 0 10px; text-align: left ; width: auto;} td:nth-child(2) {text-align: left ; width: 100%}\n",
       "    .wandb-row { display: flex; flex-direction: row; flex-wrap: wrap; justify-content: flex-start; width: 100% }\n",
       "    .wandb-col { display: flex; flex-direction: column; flex-basis: 100%; flex: 1; padding: 10px; }\n",
       "    </style>\n",
       "<div class=\"wandb-row\"><div class=\"wandb-col\"><h3>Run history:</h3><br/><table class=\"wandb\"><tr><td>alpha</td><td>██████████▁▁▁▁▁▁▁▁▁▁</td></tr><tr><td>dag</td><td>▁▁▁▁▁▁▁▁▁▁█▂▂▂▂▂▂▂▂▂</td></tr><tr><td>epoch</td><td>▁▁▂▂▂▃▃▄▄▄▅▅▅▆▆▇▇▇██</td></tr><tr><td>epoch_loss</td><td>█▁▁▁▁▁▁▁▁▁▇▄▅▅▄▄▄▄▄▄</td></tr><tr><td>gamma</td><td>▁▁▁▁▁▁▁▁▁▁▁▅████████</td></tr><tr><td>is_prescreen</td><td>██████████▁▁▁▁▁▁▁▁▁▁</td></tr><tr><td>l1</td><td>▂▇████████▂▁▁▁▁▁▁▁▁▁</td></tr><tr><td>l2</td><td>▁▆▆▇▇▇▇▇██▁▆▇███████</td></tr><tr><td>n_edges_pred</td><td>▁▇▇▇▇▇▇▇▇▇█▁▁▁▁▁▁▁▁▁</td></tr><tr><td>nll</td><td>█▂▁▁▁▁▁▁▁▁▇▃▄▄▃▃▃▃▃▃</td></tr><tr><td>precision</td><td>▁▄▃▃▃▃▃▃▃▃▃█▆▆▆▆▇▇▇▆</td></tr><tr><td>recall</td><td>▁█████████▇▂▁▁▁▁▁▁▁▁</td></tr><tr><td>score</td><td>▁▅▆▆▆▆▆▆▆▆█▁▁▁▁▁▁▁▁▁</td></tr><tr><td>shd</td><td>▁▅▆▆▆▆▆▆▆▆█▁▁▁▁▁▁▁▁▁</td></tr></table><br/></div><div class=\"wandb-col\"><h3>Run summary:</h3><br/><table class=\"wandb\"><tr><td>alpha</td><td>0.0005</td></tr><tr><td>dag</td><td>0.17069</td></tr><tr><td>epoch</td><td>1900</td></tr><tr><td>epoch_loss</td><td>28.11752</td></tr><tr><td>gamma</td><td>60.06006</td></tr><tr><td>is_prescreen</td><td>0</td></tr><tr><td>l1</td><td>0.09043</td></tr><tr><td>l2</td><td>8.86267</td></tr><tr><td>n_edges_pred</td><td>14</td></tr><tr><td>nll</td><td>8.91296</td></tr><tr><td>precision</td><td>0.5</td></tr><tr><td>recall</td><td>0.028</td></tr><tr><td>score</td><td>250</td></tr><tr><td>shd</td><td>250.0</td></tr></table><br/></div></div>"
      ],
      "text/plain": [
       "<IPython.core.display.HTML object>"
      ]
     },
     "metadata": {},
     "output_type": "display_data"
    },
    {
     "data": {
      "text/html": [
       " View run <strong style=\"color:#cdcd00\">SDCI_pf-0_mv-nn_ss-True_alpham-0.1</strong> at: <a href='https://wandb.ai/azizi-causal-perturb/SDCI_new_sim/runs/sxtodb0r' target=\"_blank\">https://wandb.ai/azizi-causal-perturb/SDCI_new_sim/runs/sxtodb0r</a><br/>Synced 6 W&B file(s), 0 media file(s), 0 artifact file(s) and 0 other file(s)"
      ],
      "text/plain": [
       "<IPython.core.display.HTML object>"
      ]
     },
     "metadata": {},
     "output_type": "display_data"
    },
    {
     "data": {
      "text/html": [
       "Find logs at: <code>./wandb/run-20230712_215140-sxtodb0r/logs</code>"
      ],
      "text/plain": [
       "<IPython.core.display.HTML object>"
      ]
     },
     "metadata": {},
     "output_type": "display_data"
    },
    {
     "data": {
      "application/vnd.jupyter.widget-view+json": {
       "model_id": "711ef7accc2649c5b80ab4d70bdcc550",
       "version_major": 2,
       "version_minor": 0
      },
      "text/plain": [
       "VBox(children=(Label(value='Waiting for wandb.init()...\\r'), FloatProgress(value=0.016669751905525724, max=1.0…"
      ]
     },
     "metadata": {},
     "output_type": "display_data"
    },
    {
     "data": {
      "text/html": [
       "wandb version 0.15.5 is available!  To upgrade, please run:\n",
       " $ pip install wandb --upgrade"
      ],
      "text/plain": [
       "<IPython.core.display.HTML object>"
      ]
     },
     "metadata": {},
     "output_type": "display_data"
    },
    {
     "data": {
      "text/html": [
       "Tracking run with wandb version 0.15.2"
      ],
      "text/plain": [
       "<IPython.core.display.HTML object>"
      ]
     },
     "metadata": {},
     "output_type": "display_data"
    },
    {
     "data": {
      "text/html": [
       "Run data is saved locally in <code>/home/justin/ghrepos/causal-perturbseq/notebooks/wandb/run-20230712_215301-tyvhmgp3</code>"
      ],
      "text/plain": [
       "<IPython.core.display.HTML object>"
      ]
     },
     "metadata": {},
     "output_type": "display_data"
    },
    {
     "data": {
      "text/html": [
       "Syncing run <strong><a href='https://wandb.ai/azizi-causal-perturb/SDCI_new_sim/runs/tyvhmgp3' target=\"_blank\">SDCI_pf-0_mv-nn_ss-True_alpham-0.01</a></strong> to <a href='https://wandb.ai/azizi-causal-perturb/SDCI_new_sim' target=\"_blank\">Weights & Biases</a> (<a href='https://wandb.me/run' target=\"_blank\">docs</a>)<br/>"
      ],
      "text/plain": [
       "<IPython.core.display.HTML object>"
      ]
     },
     "metadata": {},
     "output_type": "display_data"
    },
    {
     "data": {
      "text/html": [
       " View project at <a href='https://wandb.ai/azizi-causal-perturb/SDCI_new_sim' target=\"_blank\">https://wandb.ai/azizi-causal-perturb/SDCI_new_sim</a>"
      ],
      "text/plain": [
       "<IPython.core.display.HTML object>"
      ]
     },
     "metadata": {},
     "output_type": "display_data"
    },
    {
     "data": {
      "text/html": [
       " View run at <a href='https://wandb.ai/azizi-causal-perturb/SDCI_new_sim/runs/tyvhmgp3' target=\"_blank\">https://wandb.ai/azizi-causal-perturb/SDCI_new_sim/runs/tyvhmgp3</a>"
      ],
      "text/plain": [
       "<IPython.core.display.HTML object>"
      ]
     },
     "metadata": {},
     "output_type": "display_data"
    },
    {
     "name": "stderr",
     "output_type": "stream",
     "text": [
      "/home/justin/miniconda3/envs/cp/lib/python3.9/site-packages/torch/optim/optimizer.py:243: UserWarning: 'has_cuda' is deprecated, please use 'torch.backends.cuda.is_built()'\n",
      "  if not is_compiling() and torch.has_cuda and torch.cuda.is_available():\n"
     ]
    },
    {
     "name": "stdout",
     "output_type": "stream",
     "text": [
      "Epoch 0: loss=68.63, score=250, shd=250.0, gamma=0.00\n",
      "Epoch 100: loss=-10.38, score=1094, shd=1094.0, gamma=0.00\n",
      "Epoch 200: loss=-12.72, score=1188, shd=1188.0, gamma=0.00\n",
      "Epoch 300: loss=-13.54, score=1247, shd=1247.0, gamma=0.00\n",
      "Epoch 400: loss=-13.94, score=1292, shd=1292.0, gamma=0.00\n",
      "Epoch 500: loss=-14.19, score=1311, shd=1311.0, gamma=0.00\n",
      "Epoch 600: loss=-14.39, score=1330, shd=1330.0, gamma=0.00\n",
      "Epoch 700: loss=-14.52, score=1342, shd=1342.0, gamma=0.00\n",
      "Epoch 800: loss=-14.58, score=1341, shd=1341.0, gamma=0.00\n",
      "Epoch 900: loss=-14.73, score=1348, shd=1348.0, gamma=0.00\n",
      "Recall of mask: 1.0\n",
      "Fraction of possible edges in mask: 0.8896\n",
      "Epoch 0: loss=5297255.20, score=1422, shd=1422.0, gamma=0.00\n",
      "Epoch 100: loss=5297219.80, score=240, shd=240.0, gamma=30.03\n",
      "Epoch 200: loss=5297218.30, score=239, shd=239.0, gamma=30.03\n",
      "Epoch 300: loss=5297218.55, score=241, shd=241.0, gamma=30.03\n",
      "Epoch 400: loss=5297218.15, score=239, shd=239.0, gamma=30.03\n",
      "Epoch 500: loss=5297217.75, score=239, shd=239.0, gamma=30.03\n",
      "Epoch 600: loss=5297217.80, score=239, shd=239.0, gamma=30.03\n",
      "Epoch 700: loss=5297217.65, score=238, shd=238.0, gamma=30.03\n",
      "Epoch 800: loss=5297217.40, score=238, shd=238.0, gamma=30.03\n",
      "Epoch 900: loss=5297217.50, score=237, shd=237.0, gamma=30.03\n",
      "Finished training in 75.13419771194458 seconds.\n"
     ]
    },
    {
     "data": {
      "text/html": [
       "Waiting for W&B process to finish... <strong style=\"color:green\">(success).</strong>"
      ],
      "text/plain": [
       "<IPython.core.display.HTML object>"
      ]
     },
     "metadata": {},
     "output_type": "display_data"
    },
    {
     "data": {
      "text/html": [
       "<style>\n",
       "    table.wandb td:nth-child(1) { padding: 0 10px; text-align: left ; width: auto;} td:nth-child(2) {text-align: left ; width: 100%}\n",
       "    .wandb-row { display: flex; flex-direction: row; flex-wrap: wrap; justify-content: flex-start; width: 100% }\n",
       "    .wandb-col { display: flex; flex-direction: column; flex-basis: 100%; flex: 1; padding: 10px; }\n",
       "    </style>\n",
       "<div class=\"wandb-row\"><div class=\"wandb-col\"><h3>Run history:</h3><br/><table class=\"wandb\"><tr><td>alpha</td><td>██████████▁▁▁▁▁▁▁▁▁▁</td></tr><tr><td>dag</td><td>▁▁▁▁▁▁▁▁▁▁█▂▂▂▂▂▂▂▂▂</td></tr><tr><td>epoch</td><td>▁▁▂▂▂▃▃▄▄▄▅▅▅▆▆▇▇▇██</td></tr><tr><td>epoch_loss</td><td>▁▁▁▁▁▁▁▁▁▁██████████</td></tr><tr><td>gamma</td><td>▁▁▁▁▁▁▁▁▁▁▁█████████</td></tr><tr><td>is_prescreen</td><td>██████████▁▁▁▁▁▁▁▁▁▁</td></tr><tr><td>l1</td><td>▂▇████████▂▁▁▁▁▁▁▁▁▁</td></tr><tr><td>l2</td><td>▁▁▁▁▁▁▁▁▁▁██████████</td></tr><tr><td>n_edges_pred</td><td>▁▇▇████████▁▁▁▁▁▁▁▁▁</td></tr><tr><td>nll</td><td>█▂▁▁▁▁▁▁▁▁▇▃▃▃▃▃▃▃▃▃</td></tr><tr><td>precision</td><td>▁▃▃▃▃▃▃▃▃▃▂██▇██████</td></tr><tr><td>recall</td><td>▁█████████▇▂▂▂▂▂▂▂▂▂</td></tr><tr><td>score</td><td>▁▆▇▇▇▇▇████▁▁▁▁▁▁▁▁▁</td></tr><tr><td>shd</td><td>▁▆▇▇▇▇▇████▁▁▁▁▁▁▁▁▁</td></tr></table><br/></div><div class=\"wandb-col\"><h3>Run summary:</h3><br/><table class=\"wandb\"><tr><td>alpha</td><td>5e-05</td></tr><tr><td>dag</td><td>0.28888</td></tr><tr><td>epoch</td><td>1900</td></tr><tr><td>epoch_loss</td><td>5297217.5</td></tr><tr><td>gamma</td><td>30.03003</td></tr><tr><td>is_prescreen</td><td>0</td></tr><tr><td>l1</td><td>0.01261</td></tr><tr><td>l2</td><td>5297203.5</td></tr><tr><td>n_edges_pred</td><td>31</td></tr><tr><td>nll</td><td>5.42648</td></tr><tr><td>precision</td><td>0.70968</td></tr><tr><td>recall</td><td>0.088</td></tr><tr><td>score</td><td>237</td></tr><tr><td>shd</td><td>237.0</td></tr></table><br/></div></div>"
      ],
      "text/plain": [
       "<IPython.core.display.HTML object>"
      ]
     },
     "metadata": {},
     "output_type": "display_data"
    },
    {
     "data": {
      "text/html": [
       " View run <strong style=\"color:#cdcd00\">SDCI_pf-0_mv-nn_ss-True_alpham-0.01</strong> at: <a href='https://wandb.ai/azizi-causal-perturb/SDCI_new_sim/runs/tyvhmgp3' target=\"_blank\">https://wandb.ai/azizi-causal-perturb/SDCI_new_sim/runs/tyvhmgp3</a><br/>Synced 6 W&B file(s), 0 media file(s), 0 artifact file(s) and 0 other file(s)"
      ],
      "text/plain": [
       "<IPython.core.display.HTML object>"
      ]
     },
     "metadata": {},
     "output_type": "display_data"
    },
    {
     "data": {
      "text/html": [
       "Find logs at: <code>./wandb/run-20230712_215301-tyvhmgp3/logs</code>"
      ],
      "text/plain": [
       "<IPython.core.display.HTML object>"
      ]
     },
     "metadata": {},
     "output_type": "display_data"
    },
    {
     "data": {
      "application/vnd.jupyter.widget-view+json": {
       "model_id": "d3ace52094a647f4a2f683e8bc0c5bfc",
       "version_major": 2,
       "version_minor": 0
      },
      "text/plain": [
       "VBox(children=(Label(value='Waiting for wandb.init()...\\r'), FloatProgress(value=0.01666951730536918, max=1.0)…"
      ]
     },
     "metadata": {},
     "output_type": "display_data"
    },
    {
     "data": {
      "text/html": [
       "wandb version 0.15.5 is available!  To upgrade, please run:\n",
       " $ pip install wandb --upgrade"
      ],
      "text/plain": [
       "<IPython.core.display.HTML object>"
      ]
     },
     "metadata": {},
     "output_type": "display_data"
    },
    {
     "data": {
      "text/html": [
       "Tracking run with wandb version 0.15.2"
      ],
      "text/plain": [
       "<IPython.core.display.HTML object>"
      ]
     },
     "metadata": {},
     "output_type": "display_data"
    },
    {
     "data": {
      "text/html": [
       "Run data is saved locally in <code>/home/justin/ghrepos/causal-perturbseq/notebooks/wandb/run-20230712_215424-vnpo59zm</code>"
      ],
      "text/plain": [
       "<IPython.core.display.HTML object>"
      ]
     },
     "metadata": {},
     "output_type": "display_data"
    },
    {
     "data": {
      "text/html": [
       "Syncing run <strong><a href='https://wandb.ai/azizi-causal-perturb/SDCI_new_sim/runs/vnpo59zm' target=\"_blank\">SDCI_pf-0_mv-nn_ss-True_alpham-0.001</a></strong> to <a href='https://wandb.ai/azizi-causal-perturb/SDCI_new_sim' target=\"_blank\">Weights & Biases</a> (<a href='https://wandb.me/run' target=\"_blank\">docs</a>)<br/>"
      ],
      "text/plain": [
       "<IPython.core.display.HTML object>"
      ]
     },
     "metadata": {},
     "output_type": "display_data"
    },
    {
     "data": {
      "text/html": [
       " View project at <a href='https://wandb.ai/azizi-causal-perturb/SDCI_new_sim' target=\"_blank\">https://wandb.ai/azizi-causal-perturb/SDCI_new_sim</a>"
      ],
      "text/plain": [
       "<IPython.core.display.HTML object>"
      ]
     },
     "metadata": {},
     "output_type": "display_data"
    },
    {
     "data": {
      "text/html": [
       " View run at <a href='https://wandb.ai/azizi-causal-perturb/SDCI_new_sim/runs/vnpo59zm' target=\"_blank\">https://wandb.ai/azizi-causal-perturb/SDCI_new_sim/runs/vnpo59zm</a>"
      ],
      "text/plain": [
       "<IPython.core.display.HTML object>"
      ]
     },
     "metadata": {},
     "output_type": "display_data"
    },
    {
     "name": "stderr",
     "output_type": "stream",
     "text": [
      "/home/justin/miniconda3/envs/cp/lib/python3.9/site-packages/torch/optim/optimizer.py:243: UserWarning: 'has_cuda' is deprecated, please use 'torch.backends.cuda.is_built()'\n",
      "  if not is_compiling() and torch.has_cuda and torch.cuda.is_available():\n"
     ]
    },
    {
     "name": "stdout",
     "output_type": "stream",
     "text": [
      "Epoch 0: loss=70.72, score=250, shd=250.0, gamma=0.00\n",
      "Epoch 100: loss=-10.58, score=1145, shd=1145.0, gamma=0.00\n",
      "Epoch 200: loss=-12.86, score=1288, shd=1288.0, gamma=0.00\n",
      "Epoch 400: loss=-14.23, score=1368, shd=1368.0, gamma=0.00\n",
      "Epoch 500: loss=-14.54, score=1386, shd=1386.0, gamma=0.00\n",
      "Epoch 600: loss=-14.70, score=1400, shd=1400.0, gamma=0.00\n",
      "Epoch 700: loss=-14.88, score=1410, shd=1410.0, gamma=0.00\n",
      "Epoch 800: loss=-14.97, score=1427, shd=1427.0, gamma=0.00\n",
      "Epoch 900: loss=-15.05, score=1428, shd=1428.0, gamma=0.00\n",
      "Recall of mask: 1.0\n",
      "Fraction of possible edges in mask: 0.9036\n",
      "Epoch 0: loss=58.63, score=1480, shd=1480.0, gamma=0.00\n",
      "Epoch 100: loss=23.07, score=241, shd=241.0, gamma=30.03\n",
      "Epoch 200: loss=22.69, score=240, shd=240.0, gamma=30.03\n",
      "Epoch 300: loss=21.39, score=241, shd=241.0, gamma=30.03\n",
      "Epoch 400: loss=21.28, score=242, shd=242.0, gamma=30.03\n",
      "Epoch 500: loss=21.50, score=240, shd=240.0, gamma=30.03\n",
      "Epoch 600: loss=21.19, score=240, shd=240.0, gamma=30.03\n",
      "Epoch 700: loss=20.86, score=241, shd=241.0, gamma=30.03\n",
      "Epoch 800: loss=20.84, score=241, shd=241.0, gamma=30.03\n",
      "Epoch 900: loss=21.02, score=241, shd=241.0, gamma=30.03\n",
      "Finished training in 77.91343522071838 seconds.\n"
     ]
    },
    {
     "data": {
      "text/html": [
       "Waiting for W&B process to finish... <strong style=\"color:green\">(success).</strong>"
      ],
      "text/plain": [
       "<IPython.core.display.HTML object>"
      ]
     },
     "metadata": {},
     "output_type": "display_data"
    },
    {
     "data": {
      "application/vnd.jupyter.widget-view+json": {
       "model_id": "bfcecb55cc454c628b298c76929f21f5",
       "version_major": 2,
       "version_minor": 0
      },
      "text/plain": [
       "VBox(children=(Label(value='0.004 MB of 0.004 MB uploaded (0.000 MB deduped)\\r'), FloatProgress(value=1.0, max…"
      ]
     },
     "metadata": {},
     "output_type": "display_data"
    },
    {
     "data": {
      "text/html": [
       "<style>\n",
       "    table.wandb td:nth-child(1) { padding: 0 10px; text-align: left ; width: auto;} td:nth-child(2) {text-align: left ; width: 100%}\n",
       "    .wandb-row { display: flex; flex-direction: row; flex-wrap: wrap; justify-content: flex-start; width: 100% }\n",
       "    .wandb-col { display: flex; flex-direction: column; flex-basis: 100%; flex: 1; padding: 10px; }\n",
       "    </style>\n",
       "<div class=\"wandb-row\"><div class=\"wandb-col\"><h3>Run history:</h3><br/><table class=\"wandb\"><tr><td>alpha</td><td>██████████▁▁▁▁▁▁▁▁▁▁</td></tr><tr><td>dag</td><td>▁▁▁▁▁▁▁▁▁▁█▂▂▂▂▂▂▂▂▂</td></tr><tr><td>epoch</td><td>▁▁▂▂▂▃▃▄▄▄▅▅▅▆▆▇▇▇██</td></tr><tr><td>epoch_loss</td><td>█▁▁▁▁▁▁▁▁▁▇▄▄▄▄▄▄▄▄▄</td></tr><tr><td>gamma</td><td>▁▁▁▁▁▁▁▁▁▁▁█████████</td></tr><tr><td>is_prescreen</td><td>██████████▁▁▁▁▁▁▁▁▁▁</td></tr><tr><td>l1</td><td>▂▇████████▂▁▁▁▁▁▁▁▁▁</td></tr><tr><td>l2</td><td>▁▆▇▇▇█████▂▅▆▆▆▆▆▆▆▆</td></tr><tr><td>n_edges_pred</td><td>▁▇▇████████▁▁▁▁▁▁▁▁▁</td></tr><tr><td>nll</td><td>█▂▁▁▁▁▁▁▁▁▇▃▃▃▃▃▃▃▃▃</td></tr><tr><td>precision</td><td>▁▃▃▃▃▃▃▃▃▃▂█████████</td></tr><tr><td>recall</td><td>▁█████████▇▂▂▂▂▂▂▂▂▂</td></tr><tr><td>score</td><td>▁▆▇▇▇▇█████▁▁▁▁▁▁▁▁▁</td></tr><tr><td>shd</td><td>▁▆▇▇▇▇█████▁▁▁▁▁▁▁▁▁</td></tr></table><br/></div><div class=\"wandb-col\"><h3>Run summary:</h3><br/><table class=\"wandb\"><tr><td>alpha</td><td>1e-05</td></tr><tr><td>dag</td><td>0.28833</td></tr><tr><td>epoch</td><td>1900</td></tr><tr><td>epoch_loss</td><td>21.01715</td></tr><tr><td>gamma</td><td>30.03003</td></tr><tr><td>is_prescreen</td><td>0</td></tr><tr><td>l1</td><td>0.00124</td></tr><tr><td>l2</td><td>7.04524</td></tr><tr><td>n_edges_pred</td><td>29</td></tr><tr><td>nll</td><td>5.31198</td></tr><tr><td>precision</td><td>0.65517</td></tr><tr><td>recall</td><td>0.076</td></tr><tr><td>score</td><td>241</td></tr><tr><td>shd</td><td>241.0</td></tr></table><br/></div></div>"
      ],
      "text/plain": [
       "<IPython.core.display.HTML object>"
      ]
     },
     "metadata": {},
     "output_type": "display_data"
    },
    {
     "data": {
      "text/html": [
       " View run <strong style=\"color:#cdcd00\">SDCI_pf-0_mv-nn_ss-True_alpham-0.001</strong> at: <a href='https://wandb.ai/azizi-causal-perturb/SDCI_new_sim/runs/vnpo59zm' target=\"_blank\">https://wandb.ai/azizi-causal-perturb/SDCI_new_sim/runs/vnpo59zm</a><br/>Synced 6 W&B file(s), 0 media file(s), 0 artifact file(s) and 0 other file(s)"
      ],
      "text/plain": [
       "<IPython.core.display.HTML object>"
      ]
     },
     "metadata": {},
     "output_type": "display_data"
    },
    {
     "data": {
      "text/html": [
       "Find logs at: <code>./wandb/run-20230712_215424-vnpo59zm/logs</code>"
      ],
      "text/plain": [
       "<IPython.core.display.HTML object>"
      ]
     },
     "metadata": {},
     "output_type": "display_data"
    },
    {
     "data": {
      "application/vnd.jupyter.widget-view+json": {
       "model_id": "50d9cb05c6cf453cac8a59fd4b9495ac",
       "version_major": 2,
       "version_minor": 0
      },
      "text/plain": [
       "VBox(children=(Label(value='Waiting for wandb.init()...\\r'), FloatProgress(value=0.01666965886640052, max=1.0)…"
      ]
     },
     "metadata": {},
     "output_type": "display_data"
    },
    {
     "data": {
      "text/html": [
       "wandb version 0.15.5 is available!  To upgrade, please run:\n",
       " $ pip install wandb --upgrade"
      ],
      "text/plain": [
       "<IPython.core.display.HTML object>"
      ]
     },
     "metadata": {},
     "output_type": "display_data"
    },
    {
     "data": {
      "text/html": [
       "Tracking run with wandb version 0.15.2"
      ],
      "text/plain": [
       "<IPython.core.display.HTML object>"
      ]
     },
     "metadata": {},
     "output_type": "display_data"
    },
    {
     "data": {
      "text/html": [
       "Run data is saved locally in <code>/home/justin/ghrepos/causal-perturbseq/notebooks/wandb/run-20230712_215548-g0jdh7ye</code>"
      ],
      "text/plain": [
       "<IPython.core.display.HTML object>"
      ]
     },
     "metadata": {},
     "output_type": "display_data"
    },
    {
     "data": {
      "text/html": [
       "Syncing run <strong><a href='https://wandb.ai/azizi-causal-perturb/SDCI_new_sim/runs/g0jdh7ye' target=\"_blank\">SDCI_pf-0_mv-nn_ss-False_alpham-1</a></strong> to <a href='https://wandb.ai/azizi-causal-perturb/SDCI_new_sim' target=\"_blank\">Weights & Biases</a> (<a href='https://wandb.me/run' target=\"_blank\">docs</a>)<br/>"
      ],
      "text/plain": [
       "<IPython.core.display.HTML object>"
      ]
     },
     "metadata": {},
     "output_type": "display_data"
    },
    {
     "data": {
      "text/html": [
       " View project at <a href='https://wandb.ai/azizi-causal-perturb/SDCI_new_sim' target=\"_blank\">https://wandb.ai/azizi-causal-perturb/SDCI_new_sim</a>"
      ],
      "text/plain": [
       "<IPython.core.display.HTML object>"
      ]
     },
     "metadata": {},
     "output_type": "display_data"
    },
    {
     "data": {
      "text/html": [
       " View run at <a href='https://wandb.ai/azizi-causal-perturb/SDCI_new_sim/runs/g0jdh7ye' target=\"_blank\">https://wandb.ai/azizi-causal-perturb/SDCI_new_sim/runs/g0jdh7ye</a>"
      ],
      "text/plain": [
       "<IPython.core.display.HTML object>"
      ]
     },
     "metadata": {},
     "output_type": "display_data"
    },
    {
     "name": "stderr",
     "output_type": "stream",
     "text": [
      "/home/justin/miniconda3/envs/cp/lib/python3.9/site-packages/torch/optim/optimizer.py:243: UserWarning: 'has_cuda' is deprecated, please use 'torch.backends.cuda.is_built()'\n",
      "  if not is_compiling() and torch.has_cuda and torch.cuda.is_available():\n"
     ]
    },
    {
     "name": "stdout",
     "output_type": "stream",
     "text": [
      "Epoch 0: loss=70.69, score=250, shd=250.0, gamma=0.00\n",
      "Epoch 100: loss=2.11, score=232, shd=232.0, gamma=0.00\n",
      "Epoch 200: loss=0.05, score=207, shd=207.0, gamma=0.00\n",
      "Epoch 300: loss=-0.69, score=196, shd=196.0, gamma=0.00\n",
      "Epoch 400: loss=-1.08, score=187, shd=187.0, gamma=0.00\n",
      "Epoch 500: loss=-1.34, score=179, shd=179.0, gamma=0.00\n",
      "Epoch 600: loss=-1.58, score=175, shd=175.0, gamma=0.00\n",
      "Epoch 700: loss=-1.64, score=177, shd=177.0, gamma=0.00\n",
      "Epoch 800: loss=-1.73, score=178, shd=178.0, gamma=0.00\n",
      "Epoch 900: loss=-1.80, score=179, shd=179.0, gamma=0.00\n",
      "Recall of mask: 0.952\n",
      "Fraction of possible edges in mask: 0.2292\n",
      "Epoch 0: loss=66.59, score=297, shd=297.0, gamma=0.00\n",
      "Epoch 100: loss=25.26, score=201, shd=201.0, gamma=30.03\n",
      "Epoch 200: loss=24.53, score=207, shd=207.0, gamma=30.03\n",
      "Epoch 300: loss=24.17, score=207, shd=207.0, gamma=30.03\n",
      "Epoch 400: loss=24.20, score=206, shd=206.0, gamma=30.03\n",
      "Epoch 500: loss=24.19, score=206, shd=206.0, gamma=30.03\n",
      "Epoch 600: loss=24.18, score=207, shd=207.0, gamma=30.03\n",
      "Epoch 700: loss=24.08, score=208, shd=208.0, gamma=30.03\n",
      "Epoch 800: loss=24.02, score=208, shd=208.0, gamma=30.03\n",
      "Epoch 900: loss=24.01, score=206, shd=206.0, gamma=30.03\n",
      "Finished training in 78.5158007144928 seconds.\n"
     ]
    },
    {
     "data": {
      "text/html": [
       "Waiting for W&B process to finish... <strong style=\"color:green\">(success).</strong>"
      ],
      "text/plain": [
       "<IPython.core.display.HTML object>"
      ]
     },
     "metadata": {},
     "output_type": "display_data"
    },
    {
     "data": {
      "application/vnd.jupyter.widget-view+json": {
       "model_id": "c90864d2842d47f183cf467bb8d51608",
       "version_major": 2,
       "version_minor": 0
      },
      "text/plain": [
       "VBox(children=(Label(value='0.004 MB of 0.004 MB uploaded (0.000 MB deduped)\\r'), FloatProgress(value=1.0, max…"
      ]
     },
     "metadata": {},
     "output_type": "display_data"
    },
    {
     "data": {
      "text/html": [
       "<style>\n",
       "    table.wandb td:nth-child(1) { padding: 0 10px; text-align: left ; width: auto;} td:nth-child(2) {text-align: left ; width: 100%}\n",
       "    .wandb-row { display: flex; flex-direction: row; flex-wrap: wrap; justify-content: flex-start; width: 100% }\n",
       "    .wandb-col { display: flex; flex-direction: column; flex-basis: 100%; flex: 1; padding: 10px; }\n",
       "    </style>\n",
       "<div class=\"wandb-row\"><div class=\"wandb-col\"><h3>Run history:</h3><br/><table class=\"wandb\"><tr><td>alpha</td><td>██████████▁▁▁▁▁▁▁▁▁▁</td></tr><tr><td>dag</td><td>▁▁▁▁▁▁▁▁▁▁█▅▄▄▄▄▄▄▄▄</td></tr><tr><td>epoch</td><td>▁▁▂▂▂▃▃▄▄▄▅▅▅▆▆▇▇▇██</td></tr><tr><td>epoch_loss</td><td>█▁▁▁▁▁▁▁▁▁█▄▄▄▄▄▄▃▃▃</td></tr><tr><td>gamma</td><td>▁▁▁▁▁▁▁▁▁▁▁█████████</td></tr><tr><td>is_prescreen</td><td>██████████▁▁▁▁▁▁▁▁▁▁</td></tr><tr><td>l1</td><td>▂███████▇▇▂▁▁▁▁▁▁▁▁▁</td></tr><tr><td>l2</td><td>▁▄▅▅▅▆▆▆▆▆▁▇████████</td></tr><tr><td>n_edges_pred</td><td>▁██████████▃▂▂▂▂▂▂▂▂</td></tr><tr><td>nll</td><td>█▁▁▁▁▁▁▁▁▁█▃▃▃▃▃▃▃▃▃</td></tr><tr><td>precision</td><td>▁▆▆▆▆▆▆▆▆▆▅█████████</td></tr><tr><td>recall</td><td>▁▇████████▇▃▃▃▃▃▃▃▃▃</td></tr><tr><td>score</td><td>▅▄▃▂▂▁▁▁▁▁█▂▃▃▃▃▃▃▃▃</td></tr><tr><td>shd</td><td>▅▄▃▂▂▁▁▁▁▁█▂▃▃▃▃▃▃▃▃</td></tr></table><br/></div><div class=\"wandb-col\"><h3>Run summary:</h3><br/><table class=\"wandb\"><tr><td>alpha</td><td>0.005</td></tr><tr><td>dag</td><td>0.30909</td></tr><tr><td>epoch</td><td>1900</td></tr><tr><td>epoch_loss</td><td>24.01495</td></tr><tr><td>gamma</td><td>30.03003</td></tr><tr><td>is_prescreen</td><td>0</td></tr><tr><td>l1</td><td>0.90175</td></tr><tr><td>l2</td><td>8.95154</td></tr><tr><td>n_edges_pred</td><td>82</td></tr><tr><td>nll</td><td>4.8796</td></tr><tr><td>precision</td><td>0.76829</td></tr><tr><td>recall</td><td>0.252</td></tr><tr><td>score</td><td>206</td></tr><tr><td>shd</td><td>206.0</td></tr></table><br/></div></div>"
      ],
      "text/plain": [
       "<IPython.core.display.HTML object>"
      ]
     },
     "metadata": {},
     "output_type": "display_data"
    },
    {
     "data": {
      "text/html": [
       " View run <strong style=\"color:#cdcd00\">SDCI_pf-0_mv-nn_ss-False_alpham-1</strong> at: <a href='https://wandb.ai/azizi-causal-perturb/SDCI_new_sim/runs/g0jdh7ye' target=\"_blank\">https://wandb.ai/azizi-causal-perturb/SDCI_new_sim/runs/g0jdh7ye</a><br/>Synced 6 W&B file(s), 0 media file(s), 0 artifact file(s) and 0 other file(s)"
      ],
      "text/plain": [
       "<IPython.core.display.HTML object>"
      ]
     },
     "metadata": {},
     "output_type": "display_data"
    },
    {
     "data": {
      "text/html": [
       "Find logs at: <code>./wandb/run-20230712_215548-g0jdh7ye/logs</code>"
      ],
      "text/plain": [
       "<IPython.core.display.HTML object>"
      ]
     },
     "metadata": {},
     "output_type": "display_data"
    },
    {
     "data": {
      "application/vnd.jupyter.widget-view+json": {
       "model_id": "df29ed2445864700b789aecc9a17e6e4",
       "version_major": 2,
       "version_minor": 0
      },
      "text/plain": [
       "VBox(children=(Label(value='Waiting for wandb.init()...\\r'), FloatProgress(value=0.016668803229307135, max=1.0…"
      ]
     },
     "metadata": {},
     "output_type": "display_data"
    },
    {
     "data": {
      "text/html": [
       "wandb version 0.15.5 is available!  To upgrade, please run:\n",
       " $ pip install wandb --upgrade"
      ],
      "text/plain": [
       "<IPython.core.display.HTML object>"
      ]
     },
     "metadata": {},
     "output_type": "display_data"
    },
    {
     "data": {
      "text/html": [
       "Tracking run with wandb version 0.15.2"
      ],
      "text/plain": [
       "<IPython.core.display.HTML object>"
      ]
     },
     "metadata": {},
     "output_type": "display_data"
    },
    {
     "data": {
      "text/html": [
       "Run data is saved locally in <code>/home/justin/ghrepos/causal-perturbseq/notebooks/wandb/run-20230712_215715-yo8jbi23</code>"
      ],
      "text/plain": [
       "<IPython.core.display.HTML object>"
      ]
     },
     "metadata": {},
     "output_type": "display_data"
    },
    {
     "data": {
      "text/html": [
       "Syncing run <strong><a href='https://wandb.ai/azizi-causal-perturb/SDCI_new_sim/runs/yo8jbi23' target=\"_blank\">SDCI_pf-0_mv-nn_ss-False_alpham-0.1</a></strong> to <a href='https://wandb.ai/azizi-causal-perturb/SDCI_new_sim' target=\"_blank\">Weights & Biases</a> (<a href='https://wandb.me/run' target=\"_blank\">docs</a>)<br/>"
      ],
      "text/plain": [
       "<IPython.core.display.HTML object>"
      ]
     },
     "metadata": {},
     "output_type": "display_data"
    },
    {
     "data": {
      "text/html": [
       " View project at <a href='https://wandb.ai/azizi-causal-perturb/SDCI_new_sim' target=\"_blank\">https://wandb.ai/azizi-causal-perturb/SDCI_new_sim</a>"
      ],
      "text/plain": [
       "<IPython.core.display.HTML object>"
      ]
     },
     "metadata": {},
     "output_type": "display_data"
    },
    {
     "data": {
      "text/html": [
       " View run at <a href='https://wandb.ai/azizi-causal-perturb/SDCI_new_sim/runs/yo8jbi23' target=\"_blank\">https://wandb.ai/azizi-causal-perturb/SDCI_new_sim/runs/yo8jbi23</a>"
      ],
      "text/plain": [
       "<IPython.core.display.HTML object>"
      ]
     },
     "metadata": {},
     "output_type": "display_data"
    },
    {
     "name": "stderr",
     "output_type": "stream",
     "text": [
      "/home/justin/miniconda3/envs/cp/lib/python3.9/site-packages/torch/optim/optimizer.py:243: UserWarning: 'has_cuda' is deprecated, please use 'torch.backends.cuda.is_built()'\n",
      "  if not is_compiling() and torch.has_cuda and torch.cuda.is_available():\n"
     ]
    },
    {
     "name": "stdout",
     "output_type": "stream",
     "text": [
      "Epoch 0: loss=68.09, score=250, shd=250.0, gamma=0.00\n",
      "Epoch 100: loss=-9.22, score=771, shd=771.0, gamma=0.00\n",
      "Epoch 200: loss=-11.30, score=880, shd=880.0, gamma=0.00\n",
      "Epoch 300: loss=-12.30, score=902, shd=902.0, gamma=0.00\n",
      "Epoch 400: loss=-12.80, score=899, shd=899.0, gamma=0.00\n",
      "Epoch 500: loss=-13.07, score=900, shd=900.0, gamma=0.00\n",
      "Epoch 600: loss=-13.31, score=905, shd=905.0, gamma=0.00\n",
      "Epoch 700: loss=-13.44, score=912, shd=912.0, gamma=0.00\n",
      "Epoch 800: loss=-13.52, score=918, shd=918.0, gamma=0.00\n",
      "Epoch 900: loss=-13.64, score=912, shd=912.0, gamma=0.00\n",
      "Recall of mask: 1.0\n",
      "Fraction of possible edges in mask: 0.7236\n",
      "Epoch 0: loss=58.82, score=1160, shd=1160.0, gamma=0.00\n",
      "Epoch 100: loss=21.87, score=236, shd=236.0, gamma=30.03\n",
      "Epoch 200: loss=20.70, score=236, shd=236.0, gamma=30.03\n",
      "Epoch 300: loss=20.43, score=236, shd=236.0, gamma=30.03\n",
      "Epoch 400: loss=20.13, score=236, shd=236.0, gamma=30.03\n",
      "Epoch 500: loss=20.19, score=236, shd=236.0, gamma=30.03\n",
      "Epoch 600: loss=20.23, score=236, shd=236.0, gamma=30.03\n",
      "Epoch 700: loss=20.20, score=236, shd=236.0, gamma=30.03\n",
      "Epoch 800: loss=19.99, score=236, shd=236.0, gamma=30.03\n",
      "Epoch 900: loss=19.88, score=236, shd=236.0, gamma=30.03\n",
      "Finished training in 76.00871324539185 seconds.\n"
     ]
    },
    {
     "data": {
      "text/html": [
       "Waiting for W&B process to finish... <strong style=\"color:green\">(success).</strong>"
      ],
      "text/plain": [
       "<IPython.core.display.HTML object>"
      ]
     },
     "metadata": {},
     "output_type": "display_data"
    },
    {
     "data": {
      "text/html": [
       "<style>\n",
       "    table.wandb td:nth-child(1) { padding: 0 10px; text-align: left ; width: auto;} td:nth-child(2) {text-align: left ; width: 100%}\n",
       "    .wandb-row { display: flex; flex-direction: row; flex-wrap: wrap; justify-content: flex-start; width: 100% }\n",
       "    .wandb-col { display: flex; flex-direction: column; flex-basis: 100%; flex: 1; padding: 10px; }\n",
       "    </style>\n",
       "<div class=\"wandb-row\"><div class=\"wandb-col\"><h3>Run history:</h3><br/><table class=\"wandb\"><tr><td>alpha</td><td>██████████▁▁▁▁▁▁▁▁▁▁</td></tr><tr><td>dag</td><td>▁▁▁▁▁▁▁▁▁▁█▂▂▂▂▂▂▂▂▂</td></tr><tr><td>epoch</td><td>▁▁▂▂▂▃▃▄▄▄▅▅▅▆▆▇▇▇██</td></tr><tr><td>epoch_loss</td><td>█▁▁▁▁▁▁▁▁▁▇▄▄▄▄▄▄▄▄▄</td></tr><tr><td>gamma</td><td>▁▁▁▁▁▁▁▁▁▁▁█████████</td></tr><tr><td>is_prescreen</td><td>██████████▁▁▁▁▁▁▁▁▁▁</td></tr><tr><td>l1</td><td>▂█████████▂▁▁▁▁▁▁▁▁▁</td></tr><tr><td>l2</td><td>▁▆▇▇▇█████▁▆▆▇▇▇▇▇▇▇</td></tr><tr><td>n_edges_pred</td><td>▁▆▇▇▇▇▇▇▇▇█▁▁▁▁▁▁▁▁▁</td></tr><tr><td>nll</td><td>█▂▁▁▁▁▁▁▁▁▇▃▃▃▃▃▃▃▃▃</td></tr><tr><td>precision</td><td>▁▃▃▃▃▃▃▃▃▃▃█████████</td></tr><tr><td>recall</td><td>▁█████████▇▂▂▂▂▂▂▂▂▂</td></tr><tr><td>score</td><td>▁▅▆▆▆▆▆▆▆▆█▁▁▁▁▁▁▁▁▁</td></tr><tr><td>shd</td><td>▁▅▆▆▆▆▆▆▆▆█▁▁▁▁▁▁▁▁▁</td></tr></table><br/></div><div class=\"wandb-col\"><h3>Run summary:</h3><br/><table class=\"wandb\"><tr><td>alpha</td><td>0.0005</td></tr><tr><td>dag</td><td>0.28991</td></tr><tr><td>epoch</td><td>1900</td></tr><tr><td>epoch_loss</td><td>19.88344</td></tr><tr><td>gamma</td><td>30.03003</td></tr><tr><td>is_prescreen</td><td>0</td></tr><tr><td>l1</td><td>0.11779</td></tr><tr><td>l2</td><td>7.28415</td></tr><tr><td>n_edges_pred</td><td>34</td></tr><tr><td>nll</td><td>3.77564</td></tr><tr><td>precision</td><td>0.70588</td></tr><tr><td>recall</td><td>0.096</td></tr><tr><td>score</td><td>236</td></tr><tr><td>shd</td><td>236.0</td></tr></table><br/></div></div>"
      ],
      "text/plain": [
       "<IPython.core.display.HTML object>"
      ]
     },
     "metadata": {},
     "output_type": "display_data"
    },
    {
     "data": {
      "text/html": [
       " View run <strong style=\"color:#cdcd00\">SDCI_pf-0_mv-nn_ss-False_alpham-0.1</strong> at: <a href='https://wandb.ai/azizi-causal-perturb/SDCI_new_sim/runs/yo8jbi23' target=\"_blank\">https://wandb.ai/azizi-causal-perturb/SDCI_new_sim/runs/yo8jbi23</a><br/>Synced 6 W&B file(s), 0 media file(s), 0 artifact file(s) and 0 other file(s)"
      ],
      "text/plain": [
       "<IPython.core.display.HTML object>"
      ]
     },
     "metadata": {},
     "output_type": "display_data"
    },
    {
     "data": {
      "text/html": [
       "Find logs at: <code>./wandb/run-20230712_215715-yo8jbi23/logs</code>"
      ],
      "text/plain": [
       "<IPython.core.display.HTML object>"
      ]
     },
     "metadata": {},
     "output_type": "display_data"
    },
    {
     "data": {
      "application/vnd.jupyter.widget-view+json": {
       "model_id": "2e9075b7a4f740e291fe308d57c72587",
       "version_major": 2,
       "version_minor": 0
      },
      "text/plain": [
       "VBox(children=(Label(value='Waiting for wandb.init()...\\r'), FloatProgress(value=0.016669485392048954, max=1.0…"
      ]
     },
     "metadata": {},
     "output_type": "display_data"
    },
    {
     "data": {
      "text/html": [
       "wandb version 0.15.5 is available!  To upgrade, please run:\n",
       " $ pip install wandb --upgrade"
      ],
      "text/plain": [
       "<IPython.core.display.HTML object>"
      ]
     },
     "metadata": {},
     "output_type": "display_data"
    },
    {
     "data": {
      "text/html": [
       "Tracking run with wandb version 0.15.2"
      ],
      "text/plain": [
       "<IPython.core.display.HTML object>"
      ]
     },
     "metadata": {},
     "output_type": "display_data"
    },
    {
     "data": {
      "text/html": [
       "Run data is saved locally in <code>/home/justin/ghrepos/causal-perturbseq/notebooks/wandb/run-20230712_215838-t879hpj0</code>"
      ],
      "text/plain": [
       "<IPython.core.display.HTML object>"
      ]
     },
     "metadata": {},
     "output_type": "display_data"
    },
    {
     "data": {
      "text/html": [
       "Syncing run <strong><a href='https://wandb.ai/azizi-causal-perturb/SDCI_new_sim/runs/t879hpj0' target=\"_blank\">SDCI_pf-0_mv-nn_ss-False_alpham-0.01</a></strong> to <a href='https://wandb.ai/azizi-causal-perturb/SDCI_new_sim' target=\"_blank\">Weights & Biases</a> (<a href='https://wandb.me/run' target=\"_blank\">docs</a>)<br/>"
      ],
      "text/plain": [
       "<IPython.core.display.HTML object>"
      ]
     },
     "metadata": {},
     "output_type": "display_data"
    },
    {
     "data": {
      "text/html": [
       " View project at <a href='https://wandb.ai/azizi-causal-perturb/SDCI_new_sim' target=\"_blank\">https://wandb.ai/azizi-causal-perturb/SDCI_new_sim</a>"
      ],
      "text/plain": [
       "<IPython.core.display.HTML object>"
      ]
     },
     "metadata": {},
     "output_type": "display_data"
    },
    {
     "data": {
      "text/html": [
       " View run at <a href='https://wandb.ai/azizi-causal-perturb/SDCI_new_sim/runs/t879hpj0' target=\"_blank\">https://wandb.ai/azizi-causal-perturb/SDCI_new_sim/runs/t879hpj0</a>"
      ],
      "text/plain": [
       "<IPython.core.display.HTML object>"
      ]
     },
     "metadata": {},
     "output_type": "display_data"
    },
    {
     "name": "stderr",
     "output_type": "stream",
     "text": [
      "/home/justin/miniconda3/envs/cp/lib/python3.9/site-packages/torch/optim/optimizer.py:243: UserWarning: 'has_cuda' is deprecated, please use 'torch.backends.cuda.is_built()'\n",
      "  if not is_compiling() and torch.has_cuda and torch.cuda.is_available():\n"
     ]
    },
    {
     "name": "stdout",
     "output_type": "stream",
     "text": [
      "Epoch 0: loss=67.46, score=250, shd=250.0, gamma=0.00\n",
      "Epoch 100: loss=-11.47, score=1099, shd=1099.0, gamma=0.00\n",
      "Epoch 200: loss=-13.76, score=1221, shd=1221.0, gamma=0.00\n",
      "Epoch 300: loss=-14.62, score=1294, shd=1294.0, gamma=0.00\n",
      "Epoch 400: loss=-15.12, score=1311, shd=1311.0, gamma=0.00\n",
      "Epoch 500: loss=-15.40, score=1352, shd=1352.0, gamma=0.00\n",
      "Epoch 600: loss=-15.64, score=1362, shd=1362.0, gamma=0.00\n",
      "Epoch 700: loss=-15.81, score=1364, shd=1364.0, gamma=0.00\n",
      "Epoch 800: loss=-15.93, score=1376, shd=1376.0, gamma=0.00\n",
      "Epoch 900: loss=-16.06, score=1376, shd=1376.0, gamma=0.00\n",
      "Recall of mask: 1.0\n",
      "Fraction of possible edges in mask: 0.8904\n",
      "Epoch 0: loss=6422944.45, score=1444, shd=1444.0, gamma=0.00\n",
      "Epoch 100: loss=6422908.40, score=238, shd=238.0, gamma=30.03\n",
      "Epoch 200: loss=6422906.95, score=240, shd=240.0, gamma=30.03\n",
      "Epoch 300: loss=6422906.20, score=240, shd=240.0, gamma=30.03\n",
      "Epoch 400: loss=6422906.40, score=241, shd=241.0, gamma=30.03\n",
      "Epoch 500: loss=6422906.65, score=240, shd=240.0, gamma=30.03\n",
      "Epoch 600: loss=6422906.40, score=239, shd=239.0, gamma=30.03\n",
      "Epoch 700: loss=6422906.05, score=240, shd=240.0, gamma=30.03\n",
      "Epoch 800: loss=6422905.85, score=239, shd=239.0, gamma=30.03\n",
      "Epoch 900: loss=6422905.95, score=239, shd=239.0, gamma=30.03\n",
      "Finished training in 75.58566951751709 seconds.\n"
     ]
    },
    {
     "data": {
      "text/html": [
       "Waiting for W&B process to finish... <strong style=\"color:green\">(success).</strong>"
      ],
      "text/plain": [
       "<IPython.core.display.HTML object>"
      ]
     },
     "metadata": {},
     "output_type": "display_data"
    },
    {
     "data": {
      "text/html": [
       "<style>\n",
       "    table.wandb td:nth-child(1) { padding: 0 10px; text-align: left ; width: auto;} td:nth-child(2) {text-align: left ; width: 100%}\n",
       "    .wandb-row { display: flex; flex-direction: row; flex-wrap: wrap; justify-content: flex-start; width: 100% }\n",
       "    .wandb-col { display: flex; flex-direction: column; flex-basis: 100%; flex: 1; padding: 10px; }\n",
       "    </style>\n",
       "<div class=\"wandb-row\"><div class=\"wandb-col\"><h3>Run history:</h3><br/><table class=\"wandb\"><tr><td>alpha</td><td>██████████▁▁▁▁▁▁▁▁▁▁</td></tr><tr><td>dag</td><td>▁▁▁▁▁▁▁▁▁▁█▂▂▂▂▂▂▂▂▂</td></tr><tr><td>epoch</td><td>▁▁▂▂▂▃▃▄▄▄▅▅▅▆▆▇▇▇██</td></tr><tr><td>epoch_loss</td><td>▁▁▁▁▁▁▁▁▁▁██████████</td></tr><tr><td>gamma</td><td>▁▁▁▁▁▁▁▁▁▁▁█████████</td></tr><tr><td>is_prescreen</td><td>██████████▁▁▁▁▁▁▁▁▁▁</td></tr><tr><td>l1</td><td>▂▇████████▂▁▁▁▁▁▁▁▁▁</td></tr><tr><td>l2</td><td>▁▁▁▁▁▁▁▁▁▁██████████</td></tr><tr><td>n_edges_pred</td><td>▁▇▇████████▁▁▁▁▁▁▁▁▁</td></tr><tr><td>nll</td><td>█▂▁▁▁▁▁▁▁▁▇▃▃▃▃▃▃▃▃▃</td></tr><tr><td>precision</td><td>▁▃▃▃▃▃▃▃▃▃▂███▇█████</td></tr><tr><td>recall</td><td>▁█████████▇▂▂▂▂▂▂▂▂▂</td></tr><tr><td>score</td><td>▁▆▇▇▇▇█████▁▁▁▁▁▁▁▁▁</td></tr><tr><td>shd</td><td>▁▆▇▇▇▇█████▁▁▁▁▁▁▁▁▁</td></tr></table><br/></div><div class=\"wandb-col\"><h3>Run summary:</h3><br/><table class=\"wandb\"><tr><td>alpha</td><td>5e-05</td></tr><tr><td>dag</td><td>0.28719</td></tr><tr><td>epoch</td><td>1900</td></tr><tr><td>epoch_loss</td><td>6422905.95</td></tr><tr><td>gamma</td><td>30.03003</td></tr><tr><td>is_prescreen</td><td>0</td></tr><tr><td>l1</td><td>0.01245</td></tr><tr><td>l2</td><td>6422893.5</td></tr><tr><td>n_edges_pred</td><td>29</td></tr><tr><td>nll</td><td>3.87893</td></tr><tr><td>precision</td><td>0.68966</td></tr><tr><td>recall</td><td>0.08</td></tr><tr><td>score</td><td>239</td></tr><tr><td>shd</td><td>239.0</td></tr></table><br/></div></div>"
      ],
      "text/plain": [
       "<IPython.core.display.HTML object>"
      ]
     },
     "metadata": {},
     "output_type": "display_data"
    },
    {
     "data": {
      "text/html": [
       " View run <strong style=\"color:#cdcd00\">SDCI_pf-0_mv-nn_ss-False_alpham-0.01</strong> at: <a href='https://wandb.ai/azizi-causal-perturb/SDCI_new_sim/runs/t879hpj0' target=\"_blank\">https://wandb.ai/azizi-causal-perturb/SDCI_new_sim/runs/t879hpj0</a><br/>Synced 6 W&B file(s), 0 media file(s), 0 artifact file(s) and 0 other file(s)"
      ],
      "text/plain": [
       "<IPython.core.display.HTML object>"
      ]
     },
     "metadata": {},
     "output_type": "display_data"
    },
    {
     "data": {
      "text/html": [
       "Find logs at: <code>./wandb/run-20230712_215838-t879hpj0/logs</code>"
      ],
      "text/plain": [
       "<IPython.core.display.HTML object>"
      ]
     },
     "metadata": {},
     "output_type": "display_data"
    },
    {
     "data": {
      "application/vnd.jupyter.widget-view+json": {
       "model_id": "f0582f71979b45c3abde85aabbd723ab",
       "version_major": 2,
       "version_minor": 0
      },
      "text/plain": [
       "VBox(children=(Label(value='Waiting for wandb.init()...\\r'), FloatProgress(value=0.01666816120656828, max=1.0)…"
      ]
     },
     "metadata": {},
     "output_type": "display_data"
    },
    {
     "data": {
      "text/html": [
       "wandb version 0.15.5 is available!  To upgrade, please run:\n",
       " $ pip install wandb --upgrade"
      ],
      "text/plain": [
       "<IPython.core.display.HTML object>"
      ]
     },
     "metadata": {},
     "output_type": "display_data"
    },
    {
     "data": {
      "text/html": [
       "Tracking run with wandb version 0.15.2"
      ],
      "text/plain": [
       "<IPython.core.display.HTML object>"
      ]
     },
     "metadata": {},
     "output_type": "display_data"
    },
    {
     "data": {
      "text/html": [
       "Run data is saved locally in <code>/home/justin/ghrepos/causal-perturbseq/notebooks/wandb/run-20230712_215959-ypt9nllg</code>"
      ],
      "text/plain": [
       "<IPython.core.display.HTML object>"
      ]
     },
     "metadata": {},
     "output_type": "display_data"
    },
    {
     "data": {
      "text/html": [
       "Syncing run <strong><a href='https://wandb.ai/azizi-causal-perturb/SDCI_new_sim/runs/ypt9nllg' target=\"_blank\">SDCI_pf-0_mv-nn_ss-False_alpham-0.001</a></strong> to <a href='https://wandb.ai/azizi-causal-perturb/SDCI_new_sim' target=\"_blank\">Weights & Biases</a> (<a href='https://wandb.me/run' target=\"_blank\">docs</a>)<br/>"
      ],
      "text/plain": [
       "<IPython.core.display.HTML object>"
      ]
     },
     "metadata": {},
     "output_type": "display_data"
    },
    {
     "data": {
      "text/html": [
       " View project at <a href='https://wandb.ai/azizi-causal-perturb/SDCI_new_sim' target=\"_blank\">https://wandb.ai/azizi-causal-perturb/SDCI_new_sim</a>"
      ],
      "text/plain": [
       "<IPython.core.display.HTML object>"
      ]
     },
     "metadata": {},
     "output_type": "display_data"
    },
    {
     "data": {
      "text/html": [
       " View run at <a href='https://wandb.ai/azizi-causal-perturb/SDCI_new_sim/runs/ypt9nllg' target=\"_blank\">https://wandb.ai/azizi-causal-perturb/SDCI_new_sim/runs/ypt9nllg</a>"
      ],
      "text/plain": [
       "<IPython.core.display.HTML object>"
      ]
     },
     "metadata": {},
     "output_type": "display_data"
    },
    {
     "name": "stderr",
     "output_type": "stream",
     "text": [
      "/home/justin/miniconda3/envs/cp/lib/python3.9/site-packages/torch/optim/optimizer.py:243: UserWarning: 'has_cuda' is deprecated, please use 'torch.backends.cuda.is_built()'\n",
      "  if not is_compiling() and torch.has_cuda and torch.cuda.is_available():\n"
     ]
    },
    {
     "name": "stdout",
     "output_type": "stream",
     "text": [
      "Epoch 0: loss=69.20, score=250, shd=250.0, gamma=0.00\n",
      "Epoch 100: loss=-11.87, score=1141, shd=1141.0, gamma=0.00\n",
      "Epoch 200: loss=-14.25, score=1288, shd=1288.0, gamma=0.00\n",
      "Epoch 300: loss=-15.14, score=1340, shd=1340.0, gamma=0.00\n",
      "Epoch 400: loss=-15.54, score=1375, shd=1375.0, gamma=0.00\n",
      "Epoch 500: loss=-15.88, score=1394, shd=1394.0, gamma=0.00\n",
      "Epoch 600: loss=-16.04, score=1422, shd=1422.0, gamma=0.00\n",
      "Epoch 700: loss=-16.13, score=1428, shd=1428.0, gamma=0.00\n",
      "Epoch 800: loss=-16.28, score=1440, shd=1440.0, gamma=0.00\n",
      "Epoch 900: loss=-16.32, score=1443, shd=1443.0, gamma=0.00\n",
      "Recall of mask: 1.0\n",
      "Fraction of possible edges in mask: 0.8976\n",
      "Epoch 0: loss=4718803.45, score=1461, shd=1461.0, gamma=0.00\n",
      "Epoch 100: loss=4718766.60, score=239, shd=239.0, gamma=30.03\n",
      "Epoch 200: loss=4718765.80, score=239, shd=239.0, gamma=30.03\n",
      "Epoch 300: loss=4718765.80, score=240, shd=240.0, gamma=30.03\n",
      "Epoch 400: loss=4718764.95, score=242, shd=242.0, gamma=30.03\n",
      "Epoch 500: loss=4718764.85, score=239, shd=239.0, gamma=30.03\n",
      "Epoch 600: loss=4718764.65, score=239, shd=239.0, gamma=30.03\n",
      "Epoch 700: loss=4718764.60, score=240, shd=240.0, gamma=30.03\n",
      "Epoch 800: loss=4718764.60, score=242, shd=242.0, gamma=30.03\n",
      "Epoch 900: loss=4718764.05, score=240, shd=240.0, gamma=30.03\n",
      "Finished training in 75.89499688148499 seconds.\n"
     ]
    },
    {
     "data": {
      "text/html": [
       "Waiting for W&B process to finish... <strong style=\"color:green\">(success).</strong>"
      ],
      "text/plain": [
       "<IPython.core.display.HTML object>"
      ]
     },
     "metadata": {},
     "output_type": "display_data"
    },
    {
     "data": {
      "text/html": [
       "<style>\n",
       "    table.wandb td:nth-child(1) { padding: 0 10px; text-align: left ; width: auto;} td:nth-child(2) {text-align: left ; width: 100%}\n",
       "    .wandb-row { display: flex; flex-direction: row; flex-wrap: wrap; justify-content: flex-start; width: 100% }\n",
       "    .wandb-col { display: flex; flex-direction: column; flex-basis: 100%; flex: 1; padding: 10px; }\n",
       "    </style>\n",
       "<div class=\"wandb-row\"><div class=\"wandb-col\"><h3>Run history:</h3><br/><table class=\"wandb\"><tr><td>alpha</td><td>██████████▁▁▁▁▁▁▁▁▁▁</td></tr><tr><td>dag</td><td>▁▁▁▁▁▁▁▁▁▁█▂▂▂▂▂▂▂▂▂</td></tr><tr><td>epoch</td><td>▁▁▂▂▂▃▃▄▄▄▅▅▅▆▆▇▇▇██</td></tr><tr><td>epoch_loss</td><td>▁▁▁▁▁▁▁▁▁▁██████████</td></tr><tr><td>gamma</td><td>▁▁▁▁▁▁▁▁▁▁▁█████████</td></tr><tr><td>is_prescreen</td><td>██████████▁▁▁▁▁▁▁▁▁▁</td></tr><tr><td>l1</td><td>▂▇████████▂▁▁▁▁▁▁▁▁▁</td></tr><tr><td>l2</td><td>▁▁▁▁▁▁▁▁▁▁██████████</td></tr><tr><td>n_edges_pred</td><td>▁▇▇████████▁▁▁▁▁▁▁▁▁</td></tr><tr><td>nll</td><td>█▂▁▁▁▁▁▁▁▁▇▃▃▃▃▃▃▃▃▃</td></tr><tr><td>precision</td><td>▁▃▃▃▃▃▃▃▃▃▂█████████</td></tr><tr><td>recall</td><td>▁█████████▇▂▂▂▂▂▂▂▂▂</td></tr><tr><td>score</td><td>▁▆▇▇███████▁▁▁▁▁▁▁▁▁</td></tr><tr><td>shd</td><td>▁▆▇▇███████▁▁▁▁▁▁▁▁▁</td></tr></table><br/></div><div class=\"wandb-col\"><h3>Run summary:</h3><br/><table class=\"wandb\"><tr><td>alpha</td><td>1e-05</td></tr><tr><td>dag</td><td>0.29055</td></tr><tr><td>epoch</td><td>1900</td></tr><tr><td>epoch_loss</td><td>4718764.05</td></tr><tr><td>gamma</td><td>30.03003</td></tr><tr><td>is_prescreen</td><td>0</td></tr><tr><td>l1</td><td>0.00122</td></tr><tr><td>l2</td><td>4718752.0</td></tr><tr><td>n_edges_pred</td><td>30</td></tr><tr><td>nll</td><td>3.54905</td></tr><tr><td>precision</td><td>0.66667</td></tr><tr><td>recall</td><td>0.08</td></tr><tr><td>score</td><td>240</td></tr><tr><td>shd</td><td>240.0</td></tr></table><br/></div></div>"
      ],
      "text/plain": [
       "<IPython.core.display.HTML object>"
      ]
     },
     "metadata": {},
     "output_type": "display_data"
    },
    {
     "data": {
      "text/html": [
       " View run <strong style=\"color:#cdcd00\">SDCI_pf-0_mv-nn_ss-False_alpham-0.001</strong> at: <a href='https://wandb.ai/azizi-causal-perturb/SDCI_new_sim/runs/ypt9nllg' target=\"_blank\">https://wandb.ai/azizi-causal-perturb/SDCI_new_sim/runs/ypt9nllg</a><br/>Synced 6 W&B file(s), 0 media file(s), 0 artifact file(s) and 0 other file(s)"
      ],
      "text/plain": [
       "<IPython.core.display.HTML object>"
      ]
     },
     "metadata": {},
     "output_type": "display_data"
    },
    {
     "data": {
      "text/html": [
       "Find logs at: <code>./wandb/run-20230712_215959-ypt9nllg/logs</code>"
      ],
      "text/plain": [
       "<IPython.core.display.HTML object>"
      ]
     },
     "metadata": {},
     "output_type": "display_data"
    },
    {
     "data": {
      "application/vnd.jupyter.widget-view+json": {
       "model_id": "86843f76baad4001bcb6b6a5826ba2c0",
       "version_major": 2,
       "version_minor": 0
      },
      "text/plain": [
       "VBox(children=(Label(value='Waiting for wandb.init()...\\r'), FloatProgress(value=0.016669781475017468, max=1.0…"
      ]
     },
     "metadata": {},
     "output_type": "display_data"
    },
    {
     "data": {
      "text/html": [
       "wandb version 0.15.5 is available!  To upgrade, please run:\n",
       " $ pip install wandb --upgrade"
      ],
      "text/plain": [
       "<IPython.core.display.HTML object>"
      ]
     },
     "metadata": {},
     "output_type": "display_data"
    },
    {
     "data": {
      "text/html": [
       "Tracking run with wandb version 0.15.2"
      ],
      "text/plain": [
       "<IPython.core.display.HTML object>"
      ]
     },
     "metadata": {},
     "output_type": "display_data"
    },
    {
     "data": {
      "text/html": [
       "Run data is saved locally in <code>/home/justin/ghrepos/causal-perturbseq/notebooks/wandb/run-20230712_220122-rf344u43</code>"
      ],
      "text/plain": [
       "<IPython.core.display.HTML object>"
      ]
     },
     "metadata": {},
     "output_type": "display_data"
    },
    {
     "data": {
      "text/html": [
       "Syncing run <strong><a href='https://wandb.ai/azizi-causal-perturb/SDCI_new_sim/runs/rf344u43' target=\"_blank\">SDCI_pf-0_mv-parameter_ss-True_alpham-1</a></strong> to <a href='https://wandb.ai/azizi-causal-perturb/SDCI_new_sim' target=\"_blank\">Weights & Biases</a> (<a href='https://wandb.me/run' target=\"_blank\">docs</a>)<br/>"
      ],
      "text/plain": [
       "<IPython.core.display.HTML object>"
      ]
     },
     "metadata": {},
     "output_type": "display_data"
    },
    {
     "data": {
      "text/html": [
       " View project at <a href='https://wandb.ai/azizi-causal-perturb/SDCI_new_sim' target=\"_blank\">https://wandb.ai/azizi-causal-perturb/SDCI_new_sim</a>"
      ],
      "text/plain": [
       "<IPython.core.display.HTML object>"
      ]
     },
     "metadata": {},
     "output_type": "display_data"
    },
    {
     "data": {
      "text/html": [
       " View run at <a href='https://wandb.ai/azizi-causal-perturb/SDCI_new_sim/runs/rf344u43' target=\"_blank\">https://wandb.ai/azizi-causal-perturb/SDCI_new_sim/runs/rf344u43</a>"
      ],
      "text/plain": [
       "<IPython.core.display.HTML object>"
      ]
     },
     "metadata": {},
     "output_type": "display_data"
    },
    {
     "name": "stderr",
     "output_type": "stream",
     "text": [
      "/home/justin/miniconda3/envs/cp/lib/python3.9/site-packages/torch/optim/optimizer.py:243: UserWarning: 'has_cuda' is deprecated, please use 'torch.backends.cuda.is_built()'\n",
      "  if not is_compiling() and torch.has_cuda and torch.cuda.is_available():\n"
     ]
    },
    {
     "name": "stdout",
     "output_type": "stream",
     "text": [
      "Epoch 0: loss=71.27, score=250, shd=250.0, gamma=0.00\n",
      "Epoch 100: loss=6.33, score=195, shd=195.0, gamma=0.00\n",
      "Epoch 200: loss=3.15, score=208, shd=208.0, gamma=0.00\n",
      "Epoch 300: loss=2.56, score=196, shd=196.0, gamma=0.00\n",
      "Epoch 400: loss=2.25, score=186, shd=186.0, gamma=0.00\n",
      "Epoch 500: loss=2.01, score=184, shd=184.0, gamma=0.00\n",
      "Epoch 600: loss=1.93, score=183, shd=183.0, gamma=0.00\n",
      "Epoch 700: loss=1.84, score=181, shd=181.0, gamma=0.00\n",
      "Epoch 800: loss=1.74, score=180, shd=180.0, gamma=0.00\n",
      "Epoch 900: loss=1.73, score=178, shd=178.0, gamma=0.00\n",
      "Recall of mask: 0.948\n",
      "Fraction of possible edges in mask: 0.2252\n",
      "Epoch 0: loss=66.95, score=305, shd=305.0, gamma=0.00\n",
      "Epoch 100: loss=28.22, score=203, shd=203.0, gamma=30.03\n",
      "Epoch 200: loss=27.50, score=207, shd=207.0, gamma=30.03\n",
      "Epoch 300: loss=27.27, score=206, shd=206.0, gamma=30.03\n",
      "Epoch 400: loss=27.15, score=206, shd=206.0, gamma=30.03\n",
      "Epoch 500: loss=27.21, score=208, shd=208.0, gamma=30.03\n",
      "Epoch 600: loss=27.22, score=210, shd=210.0, gamma=30.03\n",
      "Epoch 700: loss=27.20, score=208, shd=208.0, gamma=30.03\n",
      "Epoch 800: loss=27.23, score=209, shd=209.0, gamma=30.03\n",
      "Epoch 900: loss=27.19, score=208, shd=208.0, gamma=30.03\n",
      "Finished training in 72.01766467094421 seconds.\n"
     ]
    },
    {
     "data": {
      "text/html": [
       "Waiting for W&B process to finish... <strong style=\"color:green\">(success).</strong>"
      ],
      "text/plain": [
       "<IPython.core.display.HTML object>"
      ]
     },
     "metadata": {},
     "output_type": "display_data"
    },
    {
     "data": {
      "text/html": [
       "<style>\n",
       "    table.wandb td:nth-child(1) { padding: 0 10px; text-align: left ; width: auto;} td:nth-child(2) {text-align: left ; width: 100%}\n",
       "    .wandb-row { display: flex; flex-direction: row; flex-wrap: wrap; justify-content: flex-start; width: 100% }\n",
       "    .wandb-col { display: flex; flex-direction: column; flex-basis: 100%; flex: 1; padding: 10px; }\n",
       "    </style>\n",
       "<div class=\"wandb-row\"><div class=\"wandb-col\"><h3>Run history:</h3><br/><table class=\"wandb\"><tr><td>alpha</td><td>██████████▁▁▁▁▁▁▁▁▁▁</td></tr><tr><td>dag</td><td>▁▁▁▁▁▁▁▁▁▁█▄▄▄▄▄▄▄▄▄</td></tr><tr><td>epoch</td><td>▁▁▂▂▂▃▃▄▄▄▅▅▅▆▆▇▇▇██</td></tr><tr><td>epoch_loss</td><td>█▁▁▁▁▁▁▁▁▁█▄▄▄▄▄▄▄▄▄</td></tr><tr><td>gamma</td><td>▁▁▁▁▁▁▁▁▁▁▁█████████</td></tr><tr><td>is_prescreen</td><td>██████████▁▁▁▁▁▁▁▁▁▁</td></tr><tr><td>l1</td><td>▃▇████████▂▁▁▁▁▁▁▁▁▁</td></tr><tr><td>l2</td><td>▁▅▆▆▆▆▆▆▆▆▁▇████████</td></tr><tr><td>n_edges_pred</td><td>▁▆▇▇▇▇▇▇▇▇█▂▂▂▂▂▂▂▂▂</td></tr><tr><td>nll</td><td>█▂▁▁▁▁▁▁▁▁█▃▃▃▃▃▃▃▃▃</td></tr><tr><td>precision</td><td>▁▆▆▆▆▆▆▆▆▆▅█████████</td></tr><tr><td>recall</td><td>▁▇████████▇▃▃▃▃▃▃▃▃▃</td></tr><tr><td>score</td><td>▅▂▃▂▁▁▁▁▁▁█▂▃▃▃▃▃▃▃▃</td></tr><tr><td>shd</td><td>▅▂▃▂▁▁▁▁▁▁█▂▃▃▃▃▃▃▃▃</td></tr></table><br/></div><div class=\"wandb-col\"><h3>Run summary:</h3><br/><table class=\"wandb\"><tr><td>alpha</td><td>0.005</td></tr><tr><td>dag</td><td>0.2963</td></tr><tr><td>epoch</td><td>1900</td></tr><tr><td>epoch_loss</td><td>27.19446</td></tr><tr><td>gamma</td><td>30.03003</td></tr><tr><td>is_prescreen</td><td>0</td></tr><tr><td>l1</td><td>0.81892</td></tr><tr><td>l2</td><td>9.95641</td></tr><tr><td>n_edges_pred</td><td>70</td></tr><tr><td>nll</td><td>7.52132</td></tr><tr><td>precision</td><td>0.8</td></tr><tr><td>recall</td><td>0.224</td></tr><tr><td>score</td><td>208</td></tr><tr><td>shd</td><td>208.0</td></tr></table><br/></div></div>"
      ],
      "text/plain": [
       "<IPython.core.display.HTML object>"
      ]
     },
     "metadata": {},
     "output_type": "display_data"
    },
    {
     "data": {
      "text/html": [
       " View run <strong style=\"color:#cdcd00\">SDCI_pf-0_mv-parameter_ss-True_alpham-1</strong> at: <a href='https://wandb.ai/azizi-causal-perturb/SDCI_new_sim/runs/rf344u43' target=\"_blank\">https://wandb.ai/azizi-causal-perturb/SDCI_new_sim/runs/rf344u43</a><br/>Synced 6 W&B file(s), 0 media file(s), 0 artifact file(s) and 0 other file(s)"
      ],
      "text/plain": [
       "<IPython.core.display.HTML object>"
      ]
     },
     "metadata": {},
     "output_type": "display_data"
    },
    {
     "data": {
      "text/html": [
       "Find logs at: <code>./wandb/run-20230712_220122-rf344u43/logs</code>"
      ],
      "text/plain": [
       "<IPython.core.display.HTML object>"
      ]
     },
     "metadata": {},
     "output_type": "display_data"
    },
    {
     "data": {
      "application/vnd.jupyter.widget-view+json": {
       "model_id": "1b5485b935514629ad8130121d9a28d9",
       "version_major": 2,
       "version_minor": 0
      },
      "text/plain": [
       "VBox(children=(Label(value='Waiting for wandb.init()...\\r'), FloatProgress(value=0.016669476746271054, max=1.0…"
      ]
     },
     "metadata": {},
     "output_type": "display_data"
    },
    {
     "data": {
      "text/html": [
       "wandb version 0.15.5 is available!  To upgrade, please run:\n",
       " $ pip install wandb --upgrade"
      ],
      "text/plain": [
       "<IPython.core.display.HTML object>"
      ]
     },
     "metadata": {},
     "output_type": "display_data"
    },
    {
     "data": {
      "text/html": [
       "Tracking run with wandb version 0.15.2"
      ],
      "text/plain": [
       "<IPython.core.display.HTML object>"
      ]
     },
     "metadata": {},
     "output_type": "display_data"
    },
    {
     "data": {
      "text/html": [
       "Run data is saved locally in <code>/home/justin/ghrepos/causal-perturbseq/notebooks/wandb/run-20230712_220242-th889d3u</code>"
      ],
      "text/plain": [
       "<IPython.core.display.HTML object>"
      ]
     },
     "metadata": {},
     "output_type": "display_data"
    },
    {
     "data": {
      "text/html": [
       "Syncing run <strong><a href='https://wandb.ai/azizi-causal-perturb/SDCI_new_sim/runs/th889d3u' target=\"_blank\">SDCI_pf-0_mv-parameter_ss-True_alpham-0.1</a></strong> to <a href='https://wandb.ai/azizi-causal-perturb/SDCI_new_sim' target=\"_blank\">Weights & Biases</a> (<a href='https://wandb.me/run' target=\"_blank\">docs</a>)<br/>"
      ],
      "text/plain": [
       "<IPython.core.display.HTML object>"
      ]
     },
     "metadata": {},
     "output_type": "display_data"
    },
    {
     "data": {
      "text/html": [
       " View project at <a href='https://wandb.ai/azizi-causal-perturb/SDCI_new_sim' target=\"_blank\">https://wandb.ai/azizi-causal-perturb/SDCI_new_sim</a>"
      ],
      "text/plain": [
       "<IPython.core.display.HTML object>"
      ]
     },
     "metadata": {},
     "output_type": "display_data"
    },
    {
     "data": {
      "text/html": [
       " View run at <a href='https://wandb.ai/azizi-causal-perturb/SDCI_new_sim/runs/th889d3u' target=\"_blank\">https://wandb.ai/azizi-causal-perturb/SDCI_new_sim/runs/th889d3u</a>"
      ],
      "text/plain": [
       "<IPython.core.display.HTML object>"
      ]
     },
     "metadata": {},
     "output_type": "display_data"
    },
    {
     "name": "stderr",
     "output_type": "stream",
     "text": [
      "/home/justin/miniconda3/envs/cp/lib/python3.9/site-packages/torch/optim/optimizer.py:243: UserWarning: 'has_cuda' is deprecated, please use 'torch.backends.cuda.is_built()'\n",
      "  if not is_compiling() and torch.has_cuda and torch.cuda.is_available():\n"
     ]
    },
    {
     "name": "stdout",
     "output_type": "stream",
     "text": [
      "Epoch 0: loss=68.90, score=250, shd=250.0, gamma=0.00\n",
      "Epoch 100: loss=-4.03, score=537, shd=537.0, gamma=0.00\n",
      "Epoch 200: loss=-7.82, score=725, shd=725.0, gamma=0.00\n",
      "Epoch 300: loss=-8.65, score=806, shd=806.0, gamma=0.00\n",
      "Epoch 400: loss=-9.02, score=824, shd=824.0, gamma=0.00\n",
      "Epoch 500: loss=-9.20, score=832, shd=832.0, gamma=0.00\n",
      "Epoch 600: loss=-9.39, score=843, shd=843.0, gamma=0.00\n",
      "Epoch 700: loss=-9.53, score=840, shd=840.0, gamma=0.00\n",
      "Epoch 800: loss=-9.66, score=858, shd=858.0, gamma=0.00\n",
      "Epoch 900: loss=-9.73, score=859, shd=859.0, gamma=0.00\n",
      "Recall of mask: 1.0\n",
      "Fraction of possible edges in mask: 0.6952\n",
      "Epoch 0: loss=59.44, score=1106, shd=1106.0, gamma=0.00\n",
      "Epoch 100: loss=24.00, score=238, shd=238.0, gamma=30.03\n",
      "Epoch 200: loss=23.48, score=237, shd=237.0, gamma=30.03\n",
      "Epoch 300: loss=23.04, score=237, shd=237.0, gamma=30.03\n",
      "Epoch 400: loss=23.17, score=237, shd=237.0, gamma=30.03\n",
      "Epoch 500: loss=22.94, score=237, shd=237.0, gamma=30.03\n",
      "Epoch 600: loss=22.81, score=235, shd=235.0, gamma=30.03\n",
      "Epoch 700: loss=23.09, score=237, shd=237.0, gamma=30.03\n",
      "Epoch 800: loss=22.83, score=237, shd=237.0, gamma=30.03\n",
      "Epoch 900: loss=22.67, score=236, shd=236.0, gamma=30.03\n",
      "Finished training in 73.8627860546112 seconds.\n"
     ]
    },
    {
     "data": {
      "text/html": [
       "Waiting for W&B process to finish... <strong style=\"color:green\">(success).</strong>"
      ],
      "text/plain": [
       "<IPython.core.display.HTML object>"
      ]
     },
     "metadata": {},
     "output_type": "display_data"
    },
    {
     "data": {
      "application/vnd.jupyter.widget-view+json": {
       "model_id": "67c78756ea6c4c619734c8d90e5a7869",
       "version_major": 2,
       "version_minor": 0
      },
      "text/plain": [
       "VBox(children=(Label(value='0.004 MB of 0.006 MB uploaded (0.000 MB deduped)\\r'), FloatProgress(value=0.556070…"
      ]
     },
     "metadata": {},
     "output_type": "display_data"
    },
    {
     "data": {
      "text/html": [
       "<style>\n",
       "    table.wandb td:nth-child(1) { padding: 0 10px; text-align: left ; width: auto;} td:nth-child(2) {text-align: left ; width: 100%}\n",
       "    .wandb-row { display: flex; flex-direction: row; flex-wrap: wrap; justify-content: flex-start; width: 100% }\n",
       "    .wandb-col { display: flex; flex-direction: column; flex-basis: 100%; flex: 1; padding: 10px; }\n",
       "    </style>\n",
       "<div class=\"wandb-row\"><div class=\"wandb-col\"><h3>Run history:</h3><br/><table class=\"wandb\"><tr><td>alpha</td><td>██████████▁▁▁▁▁▁▁▁▁▁</td></tr><tr><td>dag</td><td>▁▁▁▁▁▁▁▁▁▁█▂▂▂▂▂▂▂▂▂</td></tr><tr><td>epoch</td><td>▁▁▂▂▂▃▃▄▄▄▅▅▅▆▆▇▇▇██</td></tr><tr><td>epoch_loss</td><td>█▂▁▁▁▁▁▁▁▁▇▄▄▄▄▄▄▄▄▄</td></tr><tr><td>gamma</td><td>▁▁▁▁▁▁▁▁▁▁▁█████████</td></tr><tr><td>is_prescreen</td><td>██████████▁▁▁▁▁▁▁▁▁▁</td></tr><tr><td>l1</td><td>▂▆▇███████▂▁▁▁▁▁▁▁▁▁</td></tr><tr><td>l2</td><td>▁▅▇▇██████▁▆▆▇▇▇▇▇▇▇</td></tr><tr><td>n_edges_pred</td><td>▁▅▆▇▇▇▇▇▇▇█▁▁▁▁▁▁▁▁▁</td></tr><tr><td>nll</td><td>█▂▁▁▁▁▁▁▁▁▇▃▃▃▃▃▃▃▃▃</td></tr><tr><td>precision</td><td>▁▄▄▃▃▃▃▃▃▃▃█████████</td></tr><tr><td>recall</td><td>▁█████████▇▂▂▂▂▂▂▂▂▂</td></tr><tr><td>score</td><td>▁▃▅▆▆▆▆▆▆▆█▁▁▁▁▁▁▁▁▁</td></tr><tr><td>shd</td><td>▁▃▅▆▆▆▆▆▆▆█▁▁▁▁▁▁▁▁▁</td></tr></table><br/></div><div class=\"wandb-col\"><h3>Run summary:</h3><br/><table class=\"wandb\"><tr><td>alpha</td><td>0.0005</td></tr><tr><td>dag</td><td>0.28771</td></tr><tr><td>epoch</td><td>1900</td></tr><tr><td>epoch_loss</td><td>22.67081</td></tr><tr><td>gamma</td><td>30.03003</td></tr><tr><td>is_prescreen</td><td>0</td></tr><tr><td>l1</td><td>0.11058</td></tr><tr><td>l2</td><td>8.62012</td></tr><tr><td>n_edges_pred</td><td>36</td></tr><tr><td>nll</td><td>5.30029</td></tr><tr><td>precision</td><td>0.69444</td></tr><tr><td>recall</td><td>0.1</td></tr><tr><td>score</td><td>236</td></tr><tr><td>shd</td><td>236.0</td></tr></table><br/></div></div>"
      ],
      "text/plain": [
       "<IPython.core.display.HTML object>"
      ]
     },
     "metadata": {},
     "output_type": "display_data"
    },
    {
     "data": {
      "text/html": [
       " View run <strong style=\"color:#cdcd00\">SDCI_pf-0_mv-parameter_ss-True_alpham-0.1</strong> at: <a href='https://wandb.ai/azizi-causal-perturb/SDCI_new_sim/runs/th889d3u' target=\"_blank\">https://wandb.ai/azizi-causal-perturb/SDCI_new_sim/runs/th889d3u</a><br/>Synced 6 W&B file(s), 0 media file(s), 0 artifact file(s) and 0 other file(s)"
      ],
      "text/plain": [
       "<IPython.core.display.HTML object>"
      ]
     },
     "metadata": {},
     "output_type": "display_data"
    },
    {
     "data": {
      "text/html": [
       "Find logs at: <code>./wandb/run-20230712_220242-th889d3u/logs</code>"
      ],
      "text/plain": [
       "<IPython.core.display.HTML object>"
      ]
     },
     "metadata": {},
     "output_type": "display_data"
    },
    {
     "data": {
      "application/vnd.jupyter.widget-view+json": {
       "model_id": "6c37d997539e417c9f1b0babf5c802bc",
       "version_major": 2,
       "version_minor": 0
      },
      "text/plain": [
       "VBox(children=(Label(value='Waiting for wandb.init()...\\r'), FloatProgress(value=0.016669774365921815, max=1.0…"
      ]
     },
     "metadata": {},
     "output_type": "display_data"
    },
    {
     "data": {
      "text/html": [
       "wandb version 0.15.5 is available!  To upgrade, please run:\n",
       " $ pip install wandb --upgrade"
      ],
      "text/plain": [
       "<IPython.core.display.HTML object>"
      ]
     },
     "metadata": {},
     "output_type": "display_data"
    },
    {
     "data": {
      "text/html": [
       "Tracking run with wandb version 0.15.2"
      ],
      "text/plain": [
       "<IPython.core.display.HTML object>"
      ]
     },
     "metadata": {},
     "output_type": "display_data"
    },
    {
     "data": {
      "text/html": [
       "Run data is saved locally in <code>/home/justin/ghrepos/causal-perturbseq/notebooks/wandb/run-20230712_220405-d4b7elbr</code>"
      ],
      "text/plain": [
       "<IPython.core.display.HTML object>"
      ]
     },
     "metadata": {},
     "output_type": "display_data"
    },
    {
     "data": {
      "text/html": [
       "Syncing run <strong><a href='https://wandb.ai/azizi-causal-perturb/SDCI_new_sim/runs/d4b7elbr' target=\"_blank\">SDCI_pf-0_mv-parameter_ss-True_alpham-0.01</a></strong> to <a href='https://wandb.ai/azizi-causal-perturb/SDCI_new_sim' target=\"_blank\">Weights & Biases</a> (<a href='https://wandb.me/run' target=\"_blank\">docs</a>)<br/>"
      ],
      "text/plain": [
       "<IPython.core.display.HTML object>"
      ]
     },
     "metadata": {},
     "output_type": "display_data"
    },
    {
     "data": {
      "text/html": [
       " View project at <a href='https://wandb.ai/azizi-causal-perturb/SDCI_new_sim' target=\"_blank\">https://wandb.ai/azizi-causal-perturb/SDCI_new_sim</a>"
      ],
      "text/plain": [
       "<IPython.core.display.HTML object>"
      ]
     },
     "metadata": {},
     "output_type": "display_data"
    },
    {
     "data": {
      "text/html": [
       " View run at <a href='https://wandb.ai/azizi-causal-perturb/SDCI_new_sim/runs/d4b7elbr' target=\"_blank\">https://wandb.ai/azizi-causal-perturb/SDCI_new_sim/runs/d4b7elbr</a>"
      ],
      "text/plain": [
       "<IPython.core.display.HTML object>"
      ]
     },
     "metadata": {},
     "output_type": "display_data"
    },
    {
     "name": "stderr",
     "output_type": "stream",
     "text": [
      "/home/justin/miniconda3/envs/cp/lib/python3.9/site-packages/torch/optim/optimizer.py:243: UserWarning: 'has_cuda' is deprecated, please use 'torch.backends.cuda.is_built()'\n",
      "  if not is_compiling() and torch.has_cuda and torch.cuda.is_available():\n"
     ]
    },
    {
     "name": "stdout",
     "output_type": "stream",
     "text": [
      "Epoch 0: loss=68.05, score=250, shd=250.0, gamma=0.00\n",
      "Epoch 100: loss=-6.69, score=870, shd=870.0, gamma=0.00\n",
      "Epoch 200: loss=-10.43, score=1135, shd=1135.0, gamma=0.00\n",
      "Epoch 300: loss=-11.22, score=1213, shd=1213.0, gamma=0.00\n",
      "Epoch 400: loss=-11.60, score=1269, shd=1269.0, gamma=0.00\n",
      "Epoch 500: loss=-11.72, score=1301, shd=1301.0, gamma=0.00\n",
      "Epoch 600: loss=-11.85, score=1321, shd=1321.0, gamma=0.00\n",
      "Epoch 700: loss=-11.96, score=1343, shd=1343.0, gamma=0.00\n",
      "Epoch 800: loss=-12.08, score=1338, shd=1338.0, gamma=0.00\n",
      "Epoch 900: loss=-12.24, score=1344, shd=1344.0, gamma=0.00\n",
      "Recall of mask: 1.0\n",
      "Fraction of possible edges in mask: 0.888\n",
      "Epoch 0: loss=58.62, score=1473, shd=1473.0, gamma=0.00\n",
      "Epoch 100: loss=23.90, score=239, shd=239.0, gamma=30.03\n",
      "Epoch 200: loss=23.08, score=240, shd=240.0, gamma=30.03\n",
      "Epoch 300: loss=22.58, score=240, shd=240.0, gamma=30.03\n",
      "Epoch 400: loss=22.48, score=240, shd=240.0, gamma=30.03\n",
      "Epoch 500: loss=22.46, score=239, shd=239.0, gamma=30.03\n",
      "Epoch 600: loss=22.46, score=238, shd=238.0, gamma=30.03\n",
      "Epoch 700: loss=22.46, score=239, shd=239.0, gamma=30.03\n",
      "Epoch 800: loss=22.16, score=240, shd=240.0, gamma=30.03\n",
      "Epoch 900: loss=22.31, score=239, shd=239.0, gamma=30.03\n",
      "Finished training in 71.87351179122925 seconds.\n"
     ]
    },
    {
     "data": {
      "text/html": [
       "Waiting for W&B process to finish... <strong style=\"color:green\">(success).</strong>"
      ],
      "text/plain": [
       "<IPython.core.display.HTML object>"
      ]
     },
     "metadata": {},
     "output_type": "display_data"
    },
    {
     "data": {
      "text/html": [
       "<style>\n",
       "    table.wandb td:nth-child(1) { padding: 0 10px; text-align: left ; width: auto;} td:nth-child(2) {text-align: left ; width: 100%}\n",
       "    .wandb-row { display: flex; flex-direction: row; flex-wrap: wrap; justify-content: flex-start; width: 100% }\n",
       "    .wandb-col { display: flex; flex-direction: column; flex-basis: 100%; flex: 1; padding: 10px; }\n",
       "    </style>\n",
       "<div class=\"wandb-row\"><div class=\"wandb-col\"><h3>Run history:</h3><br/><table class=\"wandb\"><tr><td>alpha</td><td>██████████▁▁▁▁▁▁▁▁▁▁</td></tr><tr><td>dag</td><td>▁▁▁▁▁▁▁▁▁▁█▂▂▂▂▂▂▂▂▂</td></tr><tr><td>epoch</td><td>▁▁▂▂▂▃▃▄▄▄▅▅▅▆▆▇▇▇██</td></tr><tr><td>epoch_loss</td><td>█▁▁▁▁▁▁▁▁▁▇▄▄▄▄▄▄▄▄▄</td></tr><tr><td>gamma</td><td>▁▁▁▁▁▁▁▁▁▁▁█████████</td></tr><tr><td>is_prescreen</td><td>██████████▁▁▁▁▁▁▁▁▁▁</td></tr><tr><td>l1</td><td>▂▇▇███████▂▁▁▁▁▁▁▁▁▁</td></tr><tr><td>l2</td><td>▁▆▇▇██████▁▅▆▆▆▆▆▆▆▆</td></tr><tr><td>n_edges_pred</td><td>▁▆▇▇▇██████▁▁▁▁▁▁▁▁▁</td></tr><tr><td>nll</td><td>█▂▁▁▁▁▁▁▁▁▇▃▃▃▃▃▃▃▃▃</td></tr><tr><td>precision</td><td>▁▃▃▃▃▃▃▃▃▃▂█████████</td></tr><tr><td>recall</td><td>▁█████████▇▂▂▂▂▂▂▂▂▂</td></tr><tr><td>score</td><td>▁▅▆▇▇▇▇▇▇▇█▁▁▁▁▁▁▁▁▁</td></tr><tr><td>shd</td><td>▁▅▆▇▇▇▇▇▇▇█▁▁▁▁▁▁▁▁▁</td></tr></table><br/></div><div class=\"wandb-col\"><h3>Run summary:</h3><br/><table class=\"wandb\"><tr><td>alpha</td><td>5e-05</td></tr><tr><td>dag</td><td>0.28383</td></tr><tr><td>epoch</td><td>1900</td></tr><tr><td>epoch_loss</td><td>22.31023</td></tr><tr><td>gamma</td><td>30.03003</td></tr><tr><td>is_prescreen</td><td>0</td></tr><tr><td>l1</td><td>0.01162</td></tr><tr><td>l2</td><td>8.2478</td></tr><tr><td>n_edges_pred</td><td>29</td></tr><tr><td>nll</td><td>5.5274</td></tr><tr><td>precision</td><td>0.68966</td></tr><tr><td>recall</td><td>0.08</td></tr><tr><td>score</td><td>239</td></tr><tr><td>shd</td><td>239.0</td></tr></table><br/></div></div>"
      ],
      "text/plain": [
       "<IPython.core.display.HTML object>"
      ]
     },
     "metadata": {},
     "output_type": "display_data"
    },
    {
     "data": {
      "text/html": [
       " View run <strong style=\"color:#cdcd00\">SDCI_pf-0_mv-parameter_ss-True_alpham-0.01</strong> at: <a href='https://wandb.ai/azizi-causal-perturb/SDCI_new_sim/runs/d4b7elbr' target=\"_blank\">https://wandb.ai/azizi-causal-perturb/SDCI_new_sim/runs/d4b7elbr</a><br/>Synced 6 W&B file(s), 0 media file(s), 0 artifact file(s) and 0 other file(s)"
      ],
      "text/plain": [
       "<IPython.core.display.HTML object>"
      ]
     },
     "metadata": {},
     "output_type": "display_data"
    },
    {
     "data": {
      "text/html": [
       "Find logs at: <code>./wandb/run-20230712_220405-d4b7elbr/logs</code>"
      ],
      "text/plain": [
       "<IPython.core.display.HTML object>"
      ]
     },
     "metadata": {},
     "output_type": "display_data"
    },
    {
     "data": {
      "application/vnd.jupyter.widget-view+json": {
       "model_id": "109ef874430140e7aece902846282c41",
       "version_major": 2,
       "version_minor": 0
      },
      "text/plain": [
       "VBox(children=(Label(value='Waiting for wandb.init()...\\r'), FloatProgress(value=0.01666868251437942, max=1.0)…"
      ]
     },
     "metadata": {},
     "output_type": "display_data"
    },
    {
     "data": {
      "text/html": [
       "wandb version 0.15.5 is available!  To upgrade, please run:\n",
       " $ pip install wandb --upgrade"
      ],
      "text/plain": [
       "<IPython.core.display.HTML object>"
      ]
     },
     "metadata": {},
     "output_type": "display_data"
    },
    {
     "data": {
      "text/html": [
       "Tracking run with wandb version 0.15.2"
      ],
      "text/plain": [
       "<IPython.core.display.HTML object>"
      ]
     },
     "metadata": {},
     "output_type": "display_data"
    },
    {
     "data": {
      "text/html": [
       "Run data is saved locally in <code>/home/justin/ghrepos/causal-perturbseq/notebooks/wandb/run-20230712_220522-kwtry380</code>"
      ],
      "text/plain": [
       "<IPython.core.display.HTML object>"
      ]
     },
     "metadata": {},
     "output_type": "display_data"
    },
    {
     "data": {
      "text/html": [
       "Syncing run <strong><a href='https://wandb.ai/azizi-causal-perturb/SDCI_new_sim/runs/kwtry380' target=\"_blank\">SDCI_pf-0_mv-parameter_ss-True_alpham-0.001</a></strong> to <a href='https://wandb.ai/azizi-causal-perturb/SDCI_new_sim' target=\"_blank\">Weights & Biases</a> (<a href='https://wandb.me/run' target=\"_blank\">docs</a>)<br/>"
      ],
      "text/plain": [
       "<IPython.core.display.HTML object>"
      ]
     },
     "metadata": {},
     "output_type": "display_data"
    },
    {
     "data": {
      "text/html": [
       " View project at <a href='https://wandb.ai/azizi-causal-perturb/SDCI_new_sim' target=\"_blank\">https://wandb.ai/azizi-causal-perturb/SDCI_new_sim</a>"
      ],
      "text/plain": [
       "<IPython.core.display.HTML object>"
      ]
     },
     "metadata": {},
     "output_type": "display_data"
    },
    {
     "data": {
      "text/html": [
       " View run at <a href='https://wandb.ai/azizi-causal-perturb/SDCI_new_sim/runs/kwtry380' target=\"_blank\">https://wandb.ai/azizi-causal-perturb/SDCI_new_sim/runs/kwtry380</a>"
      ],
      "text/plain": [
       "<IPython.core.display.HTML object>"
      ]
     },
     "metadata": {},
     "output_type": "display_data"
    },
    {
     "name": "stderr",
     "output_type": "stream",
     "text": [
      "/home/justin/miniconda3/envs/cp/lib/python3.9/site-packages/torch/optim/optimizer.py:243: UserWarning: 'has_cuda' is deprecated, please use 'torch.backends.cuda.is_built()'\n",
      "  if not is_compiling() and torch.has_cuda and torch.cuda.is_available():\n"
     ]
    },
    {
     "name": "stdout",
     "output_type": "stream",
     "text": [
      "Epoch 0: loss=67.85, score=250, shd=250.0, gamma=0.00\n",
      "Epoch 100: loss=-6.89, score=909, shd=909.0, gamma=0.00\n",
      "Epoch 200: loss=-10.63, score=1215, shd=1215.0, gamma=0.00\n",
      "Epoch 300: loss=-11.46, score=1311, shd=1311.0, gamma=0.00\n",
      "Epoch 400: loss=-11.79, score=1340, shd=1340.0, gamma=0.00\n",
      "Epoch 500: loss=-11.99, score=1382, shd=1382.0, gamma=0.00\n",
      "Epoch 600: loss=-12.16, score=1392, shd=1392.0, gamma=0.00\n",
      "Epoch 700: loss=-12.27, score=1412, shd=1412.0, gamma=0.00\n",
      "Epoch 800: loss=-12.38, score=1421, shd=1421.0, gamma=0.00\n",
      "Epoch 900: loss=-12.43, score=1436, shd=1436.0, gamma=0.00\n",
      "Recall of mask: 1.0\n",
      "Fraction of possible edges in mask: 0.906\n",
      "Epoch 0: loss=57.44, score=1502, shd=1502.0, gamma=0.00\n",
      "Epoch 100: loss=24.37, score=241, shd=241.0, gamma=30.03\n",
      "Epoch 200: loss=22.86, score=239, shd=239.0, gamma=30.03\n",
      "Epoch 300: loss=22.54, score=239, shd=239.0, gamma=30.03\n",
      "Epoch 400: loss=22.65, score=241, shd=241.0, gamma=30.03\n",
      "Epoch 500: loss=22.33, score=239, shd=239.0, gamma=30.03\n",
      "Epoch 600: loss=22.38, score=239, shd=239.0, gamma=30.03\n",
      "Epoch 700: loss=22.04, score=238, shd=238.0, gamma=30.03\n",
      "Epoch 800: loss=22.25, score=238, shd=238.0, gamma=30.03\n",
      "Epoch 900: loss=22.29, score=239, shd=239.0, gamma=30.03\n",
      "Finished training in 72.57880806922913 seconds.\n"
     ]
    },
    {
     "data": {
      "text/html": [
       "Waiting for W&B process to finish... <strong style=\"color:green\">(success).</strong>"
      ],
      "text/plain": [
       "<IPython.core.display.HTML object>"
      ]
     },
     "metadata": {},
     "output_type": "display_data"
    },
    {
     "data": {
      "text/html": [
       "<style>\n",
       "    table.wandb td:nth-child(1) { padding: 0 10px; text-align: left ; width: auto;} td:nth-child(2) {text-align: left ; width: 100%}\n",
       "    .wandb-row { display: flex; flex-direction: row; flex-wrap: wrap; justify-content: flex-start; width: 100% }\n",
       "    .wandb-col { display: flex; flex-direction: column; flex-basis: 100%; flex: 1; padding: 10px; }\n",
       "    </style>\n",
       "<div class=\"wandb-row\"><div class=\"wandb-col\"><h3>Run history:</h3><br/><table class=\"wandb\"><tr><td>alpha</td><td>██████████▁▁▁▁▁▁▁▁▁▁</td></tr><tr><td>dag</td><td>▁▁▁▁▁▁▁▁▁▁█▂▂▂▂▂▂▂▂▂</td></tr><tr><td>epoch</td><td>▁▁▂▂▂▃▃▄▄▄▅▅▅▆▆▇▇▇██</td></tr><tr><td>epoch_loss</td><td>█▁▁▁▁▁▁▁▁▁▇▄▄▄▄▄▄▄▄▄</td></tr><tr><td>gamma</td><td>▁▁▁▁▁▁▁▁▁▁▁█████████</td></tr><tr><td>is_prescreen</td><td>██████████▁▁▁▁▁▁▁▁▁▁</td></tr><tr><td>l1</td><td>▂▇▇███████▂▁▁▁▁▁▁▁▁▁</td></tr><tr><td>l2</td><td>▁▆▇▇██████▁▅▆▆▆▆▆▆▆▆</td></tr><tr><td>n_edges_pred</td><td>▁▆▇▇███████▁▁▁▁▁▁▁▁▁</td></tr><tr><td>nll</td><td>█▂▁▁▁▁▁▁▁▁▇▃▃▃▃▃▃▃▃▃</td></tr><tr><td>precision</td><td>▁▃▃▃▃▃▃▃▂▂▂▇████████</td></tr><tr><td>recall</td><td>▁█████████▆▂▂▂▂▂▂▂▂▂</td></tr><tr><td>score</td><td>▁▅▆▇▇▇▇████▁▁▁▁▁▁▁▁▁</td></tr><tr><td>shd</td><td>▁▅▆▇▇▇▇████▁▁▁▁▁▁▁▁▁</td></tr></table><br/></div><div class=\"wandb-col\"><h3>Run summary:</h3><br/><table class=\"wandb\"><tr><td>alpha</td><td>1e-05</td></tr><tr><td>dag</td><td>0.28215</td></tr><tr><td>epoch</td><td>1900</td></tr><tr><td>epoch_loss</td><td>22.28722</td></tr><tr><td>gamma</td><td>30.03003</td></tr><tr><td>is_prescreen</td><td>0</td></tr><tr><td>l1</td><td>0.00116</td></tr><tr><td>l2</td><td>8.24759</td></tr><tr><td>n_edges_pred</td><td>31</td></tr><tr><td>nll</td><td>5.56545</td></tr><tr><td>precision</td><td>0.67742</td></tr><tr><td>recall</td><td>0.084</td></tr><tr><td>score</td><td>239</td></tr><tr><td>shd</td><td>239.0</td></tr></table><br/></div></div>"
      ],
      "text/plain": [
       "<IPython.core.display.HTML object>"
      ]
     },
     "metadata": {},
     "output_type": "display_data"
    },
    {
     "data": {
      "text/html": [
       " View run <strong style=\"color:#cdcd00\">SDCI_pf-0_mv-parameter_ss-True_alpham-0.001</strong> at: <a href='https://wandb.ai/azizi-causal-perturb/SDCI_new_sim/runs/kwtry380' target=\"_blank\">https://wandb.ai/azizi-causal-perturb/SDCI_new_sim/runs/kwtry380</a><br/>Synced 6 W&B file(s), 0 media file(s), 0 artifact file(s) and 0 other file(s)"
      ],
      "text/plain": [
       "<IPython.core.display.HTML object>"
      ]
     },
     "metadata": {},
     "output_type": "display_data"
    },
    {
     "data": {
      "text/html": [
       "Find logs at: <code>./wandb/run-20230712_220522-kwtry380/logs</code>"
      ],
      "text/plain": [
       "<IPython.core.display.HTML object>"
      ]
     },
     "metadata": {},
     "output_type": "display_data"
    },
    {
     "data": {
      "application/vnd.jupyter.widget-view+json": {
       "model_id": "425def0070b34d2987f5a36078dba99a",
       "version_major": 2,
       "version_minor": 0
      },
      "text/plain": [
       "VBox(children=(Label(value='Waiting for wandb.init()...\\r'), FloatProgress(value=0.016669723841672143, max=1.0…"
      ]
     },
     "metadata": {},
     "output_type": "display_data"
    },
    {
     "data": {
      "text/html": [
       "wandb version 0.15.5 is available!  To upgrade, please run:\n",
       " $ pip install wandb --upgrade"
      ],
      "text/plain": [
       "<IPython.core.display.HTML object>"
      ]
     },
     "metadata": {},
     "output_type": "display_data"
    },
    {
     "data": {
      "text/html": [
       "Tracking run with wandb version 0.15.2"
      ],
      "text/plain": [
       "<IPython.core.display.HTML object>"
      ]
     },
     "metadata": {},
     "output_type": "display_data"
    },
    {
     "data": {
      "text/html": [
       "Run data is saved locally in <code>/home/justin/ghrepos/causal-perturbseq/notebooks/wandb/run-20230712_220643-45axnplt</code>"
      ],
      "text/plain": [
       "<IPython.core.display.HTML object>"
      ]
     },
     "metadata": {},
     "output_type": "display_data"
    },
    {
     "data": {
      "text/html": [
       "Syncing run <strong><a href='https://wandb.ai/azizi-causal-perturb/SDCI_new_sim/runs/45axnplt' target=\"_blank\">SDCI_pf-0_mv-parameter_ss-False_alpham-1</a></strong> to <a href='https://wandb.ai/azizi-causal-perturb/SDCI_new_sim' target=\"_blank\">Weights & Biases</a> (<a href='https://wandb.me/run' target=\"_blank\">docs</a>)<br/>"
      ],
      "text/plain": [
       "<IPython.core.display.HTML object>"
      ]
     },
     "metadata": {},
     "output_type": "display_data"
    },
    {
     "data": {
      "text/html": [
       " View project at <a href='https://wandb.ai/azizi-causal-perturb/SDCI_new_sim' target=\"_blank\">https://wandb.ai/azizi-causal-perturb/SDCI_new_sim</a>"
      ],
      "text/plain": [
       "<IPython.core.display.HTML object>"
      ]
     },
     "metadata": {},
     "output_type": "display_data"
    },
    {
     "data": {
      "text/html": [
       " View run at <a href='https://wandb.ai/azizi-causal-perturb/SDCI_new_sim/runs/45axnplt' target=\"_blank\">https://wandb.ai/azizi-causal-perturb/SDCI_new_sim/runs/45axnplt</a>"
      ],
      "text/plain": [
       "<IPython.core.display.HTML object>"
      ]
     },
     "metadata": {},
     "output_type": "display_data"
    },
    {
     "name": "stderr",
     "output_type": "stream",
     "text": [
      "/home/justin/miniconda3/envs/cp/lib/python3.9/site-packages/torch/optim/optimizer.py:243: UserWarning: 'has_cuda' is deprecated, please use 'torch.backends.cuda.is_built()'\n",
      "  if not is_compiling() and torch.has_cuda and torch.cuda.is_available():\n"
     ]
    },
    {
     "name": "stdout",
     "output_type": "stream",
     "text": [
      "Epoch 0: loss=69.48, score=250, shd=250.0, gamma=0.00\n",
      "Epoch 100: loss=5.01, score=199, shd=199.0, gamma=0.00\n",
      "Epoch 200: loss=2.03, score=201, shd=201.0, gamma=0.00\n",
      "Epoch 300: loss=1.33, score=186, shd=186.0, gamma=0.00\n",
      "Epoch 400: loss=1.01, score=186, shd=186.0, gamma=0.00\n",
      "Epoch 500: loss=0.85, score=185, shd=185.0, gamma=0.00\n",
      "Epoch 600: loss=0.78, score=177, shd=177.0, gamma=0.00\n",
      "Epoch 700: loss=0.69, score=180, shd=180.0, gamma=0.00\n",
      "Epoch 800: loss=0.66, score=182, shd=182.0, gamma=0.00\n",
      "Epoch 900: loss=0.59, score=183, shd=183.0, gamma=0.00\n",
      "Recall of mask: 0.932\n",
      "Fraction of possible edges in mask: 0.222\n",
      "Epoch 0: loss=65.79, score=299, shd=299.0, gamma=0.00\n",
      "Epoch 100: loss=26.91, score=204, shd=204.0, gamma=30.03\n",
      "Epoch 200: loss=26.21, score=203, shd=203.0, gamma=30.03\n",
      "Epoch 300: loss=25.94, score=204, shd=204.0, gamma=30.03\n",
      "Epoch 400: loss=26.11, score=205, shd=205.0, gamma=30.03\n",
      "Epoch 500: loss=25.99, score=207, shd=207.0, gamma=30.03\n",
      "Epoch 600: loss=25.93, score=206, shd=206.0, gamma=30.03\n",
      "Epoch 700: loss=25.97, score=203, shd=203.0, gamma=30.03\n",
      "Epoch 800: loss=25.82, score=208, shd=208.0, gamma=30.03\n",
      "Epoch 900: loss=25.84, score=206, shd=206.0, gamma=30.03\n",
      "Finished training in 71.93647003173828 seconds.\n"
     ]
    },
    {
     "data": {
      "text/html": [
       "Waiting for W&B process to finish... <strong style=\"color:green\">(success).</strong>"
      ],
      "text/plain": [
       "<IPython.core.display.HTML object>"
      ]
     },
     "metadata": {},
     "output_type": "display_data"
    },
    {
     "data": {
      "text/html": [
       "<style>\n",
       "    table.wandb td:nth-child(1) { padding: 0 10px; text-align: left ; width: auto;} td:nth-child(2) {text-align: left ; width: 100%}\n",
       "    .wandb-row { display: flex; flex-direction: row; flex-wrap: wrap; justify-content: flex-start; width: 100% }\n",
       "    .wandb-col { display: flex; flex-direction: column; flex-basis: 100%; flex: 1; padding: 10px; }\n",
       "    </style>\n",
       "<div class=\"wandb-row\"><div class=\"wandb-col\"><h3>Run history:</h3><br/><table class=\"wandb\"><tr><td>alpha</td><td>██████████▁▁▁▁▁▁▁▁▁▁</td></tr><tr><td>dag</td><td>▁▁▁▁▁▁▁▁▁▁█▄▄▄▄▄▄▄▄▄</td></tr><tr><td>epoch</td><td>▁▁▂▂▂▃▃▄▄▄▅▅▅▆▆▇▇▇██</td></tr><tr><td>epoch_loss</td><td>█▁▁▁▁▁▁▁▁▁█▄▄▄▄▄▄▄▄▄</td></tr><tr><td>gamma</td><td>▁▁▁▁▁▁▁▁▁▁▁█████████</td></tr><tr><td>is_prescreen</td><td>██████████▁▁▁▁▁▁▁▁▁▁</td></tr><tr><td>l1</td><td>▃▇████████▂▁▁▁▁▁▁▁▁▁</td></tr><tr><td>l2</td><td>▁▅▆▆▆▆▆▆▆▆▁▇████████</td></tr><tr><td>n_edges_pred</td><td>▁▆▇▇▇▇▇▇▇▇█▂▂▂▂▂▂▂▂▂</td></tr><tr><td>nll</td><td>█▂▁▁▁▁▁▁▁▁█▃▃▃▃▃▃▃▃▃</td></tr><tr><td>precision</td><td>▁▆▆▆▆▆▆▆▆▆▅█████████</td></tr><tr><td>recall</td><td>▁▇████████▇▃▃▃▃▃▃▃▃▃</td></tr><tr><td>score</td><td>▅▂▂▂▂▁▁▁▁▁█▃▂▃▃▃▃▂▃▃</td></tr><tr><td>shd</td><td>▅▂▂▂▂▁▁▁▁▁█▃▂▃▃▃▃▂▃▃</td></tr></table><br/></div><div class=\"wandb-col\"><h3>Run summary:</h3><br/><table class=\"wandb\"><tr><td>alpha</td><td>0.005</td></tr><tr><td>dag</td><td>0.29702</td></tr><tr><td>epoch</td><td>1900</td></tr><tr><td>epoch_loss</td><td>25.84135</td></tr><tr><td>gamma</td><td>30.03003</td></tr><tr><td>is_prescreen</td><td>0</td></tr><tr><td>l1</td><td>0.82745</td></tr><tr><td>l2</td><td>9.99695</td></tr><tr><td>n_edges_pred</td><td>72</td></tr><tr><td>nll</td><td>6.09731</td></tr><tr><td>precision</td><td>0.80556</td></tr><tr><td>recall</td><td>0.232</td></tr><tr><td>score</td><td>206</td></tr><tr><td>shd</td><td>206.0</td></tr></table><br/></div></div>"
      ],
      "text/plain": [
       "<IPython.core.display.HTML object>"
      ]
     },
     "metadata": {},
     "output_type": "display_data"
    },
    {
     "data": {
      "text/html": [
       " View run <strong style=\"color:#cdcd00\">SDCI_pf-0_mv-parameter_ss-False_alpham-1</strong> at: <a href='https://wandb.ai/azizi-causal-perturb/SDCI_new_sim/runs/45axnplt' target=\"_blank\">https://wandb.ai/azizi-causal-perturb/SDCI_new_sim/runs/45axnplt</a><br/>Synced 6 W&B file(s), 0 media file(s), 0 artifact file(s) and 0 other file(s)"
      ],
      "text/plain": [
       "<IPython.core.display.HTML object>"
      ]
     },
     "metadata": {},
     "output_type": "display_data"
    },
    {
     "data": {
      "text/html": [
       "Find logs at: <code>./wandb/run-20230712_220643-45axnplt/logs</code>"
      ],
      "text/plain": [
       "<IPython.core.display.HTML object>"
      ]
     },
     "metadata": {},
     "output_type": "display_data"
    },
    {
     "data": {
      "text/html": [
       "wandb version 0.15.5 is available!  To upgrade, please run:\n",
       " $ pip install wandb --upgrade"
      ],
      "text/plain": [
       "<IPython.core.display.HTML object>"
      ]
     },
     "metadata": {},
     "output_type": "display_data"
    },
    {
     "data": {
      "text/html": [
       "Tracking run with wandb version 0.15.2"
      ],
      "text/plain": [
       "<IPython.core.display.HTML object>"
      ]
     },
     "metadata": {},
     "output_type": "display_data"
    },
    {
     "data": {
      "text/html": [
       "Run data is saved locally in <code>/home/justin/ghrepos/causal-perturbseq/notebooks/wandb/run-20230712_220802-41v9szhw</code>"
      ],
      "text/plain": [
       "<IPython.core.display.HTML object>"
      ]
     },
     "metadata": {},
     "output_type": "display_data"
    },
    {
     "data": {
      "text/html": [
       "Syncing run <strong><a href='https://wandb.ai/azizi-causal-perturb/SDCI_new_sim/runs/41v9szhw' target=\"_blank\">SDCI_pf-0_mv-parameter_ss-False_alpham-0.1</a></strong> to <a href='https://wandb.ai/azizi-causal-perturb/SDCI_new_sim' target=\"_blank\">Weights & Biases</a> (<a href='https://wandb.me/run' target=\"_blank\">docs</a>)<br/>"
      ],
      "text/plain": [
       "<IPython.core.display.HTML object>"
      ]
     },
     "metadata": {},
     "output_type": "display_data"
    },
    {
     "data": {
      "text/html": [
       " View project at <a href='https://wandb.ai/azizi-causal-perturb/SDCI_new_sim' target=\"_blank\">https://wandb.ai/azizi-causal-perturb/SDCI_new_sim</a>"
      ],
      "text/plain": [
       "<IPython.core.display.HTML object>"
      ]
     },
     "metadata": {},
     "output_type": "display_data"
    },
    {
     "data": {
      "text/html": [
       " View run at <a href='https://wandb.ai/azizi-causal-perturb/SDCI_new_sim/runs/41v9szhw' target=\"_blank\">https://wandb.ai/azizi-causal-perturb/SDCI_new_sim/runs/41v9szhw</a>"
      ],
      "text/plain": [
       "<IPython.core.display.HTML object>"
      ]
     },
     "metadata": {},
     "output_type": "display_data"
    },
    {
     "name": "stderr",
     "output_type": "stream",
     "text": [
      "/home/justin/miniconda3/envs/cp/lib/python3.9/site-packages/torch/optim/optimizer.py:243: UserWarning: 'has_cuda' is deprecated, please use 'torch.backends.cuda.is_built()'\n",
      "  if not is_compiling() and torch.has_cuda and torch.cuda.is_available():\n"
     ]
    },
    {
     "name": "stdout",
     "output_type": "stream",
     "text": [
      "Epoch 0: loss=67.75, score=250, shd=250.0, gamma=0.00\n",
      "Epoch 100: loss=-4.99, score=549, shd=549.0, gamma=0.00\n",
      "Epoch 200: loss=-8.89, score=734, shd=734.0, gamma=0.00\n",
      "Epoch 300: loss=-9.71, score=808, shd=808.0, gamma=0.00\n",
      "Epoch 400: loss=-10.22, score=840, shd=840.0, gamma=0.00\n",
      "Epoch 500: loss=-10.43, score=845, shd=845.0, gamma=0.00\n",
      "Epoch 600: loss=-10.58, score=851, shd=851.0, gamma=0.00\n",
      "Epoch 700: loss=-10.70, score=863, shd=863.0, gamma=0.00\n",
      "Epoch 800: loss=-10.78, score=862, shd=862.0, gamma=0.00\n",
      "Epoch 900: loss=-10.93, score=878, shd=878.0, gamma=0.00\n",
      "Recall of mask: 1.0\n",
      "Fraction of possible edges in mask: 0.6988\n",
      "Epoch 0: loss=59.42, score=1135, shd=1135.0, gamma=0.00\n",
      "Epoch 100: loss=22.62, score=239, shd=239.0, gamma=30.03\n",
      "Epoch 200: loss=22.00, score=239, shd=239.0, gamma=30.03\n",
      "Epoch 300: loss=21.55, score=239, shd=239.0, gamma=30.03\n",
      "Epoch 400: loss=21.50, score=237, shd=237.0, gamma=30.03\n",
      "Epoch 500: loss=21.62, score=239, shd=239.0, gamma=30.03\n",
      "Epoch 600: loss=21.20, score=239, shd=239.0, gamma=30.03\n",
      "Epoch 700: loss=21.50, score=238, shd=238.0, gamma=30.03\n",
      "Epoch 800: loss=21.20, score=239, shd=239.0, gamma=30.03\n",
      "Epoch 900: loss=21.21, score=238, shd=238.0, gamma=30.03\n",
      "Finished training in 72.22149229049683 seconds.\n"
     ]
    },
    {
     "data": {
      "text/html": [
       "Waiting for W&B process to finish... <strong style=\"color:green\">(success).</strong>"
      ],
      "text/plain": [
       "<IPython.core.display.HTML object>"
      ]
     },
     "metadata": {},
     "output_type": "display_data"
    },
    {
     "data": {
      "text/html": [
       "<style>\n",
       "    table.wandb td:nth-child(1) { padding: 0 10px; text-align: left ; width: auto;} td:nth-child(2) {text-align: left ; width: 100%}\n",
       "    .wandb-row { display: flex; flex-direction: row; flex-wrap: wrap; justify-content: flex-start; width: 100% }\n",
       "    .wandb-col { display: flex; flex-direction: column; flex-basis: 100%; flex: 1; padding: 10px; }\n",
       "    </style>\n",
       "<div class=\"wandb-row\"><div class=\"wandb-col\"><h3>Run history:</h3><br/><table class=\"wandb\"><tr><td>alpha</td><td>██████████▁▁▁▁▁▁▁▁▁▁</td></tr><tr><td>dag</td><td>▁▁▁▁▁▁▁▁▁▁█▂▂▂▂▂▂▂▂▂</td></tr><tr><td>epoch</td><td>▁▁▂▂▂▃▃▄▄▄▅▅▅▆▆▇▇▇██</td></tr><tr><td>epoch_loss</td><td>█▂▁▁▁▁▁▁▁▁▇▄▄▄▄▄▄▄▄▄</td></tr><tr><td>gamma</td><td>▁▁▁▁▁▁▁▁▁▁▁█████████</td></tr><tr><td>is_prescreen</td><td>██████████▁▁▁▁▁▁▁▁▁▁</td></tr><tr><td>l1</td><td>▂▆▇███████▂▁▁▁▁▁▁▁▁▁</td></tr><tr><td>l2</td><td>▁▅▇▇██████▁▆▆▆▇▇▇▇▇▇</td></tr><tr><td>n_edges_pred</td><td>▁▅▆▇▇▇▇▇▇▇█▁▁▁▁▁▁▁▁▁</td></tr><tr><td>nll</td><td>█▂▁▁▁▁▁▁▁▁▇▃▃▃▃▃▃▃▃▃</td></tr><tr><td>precision</td><td>▁▄▄▃▃▃▃▃▃▃▃█████████</td></tr><tr><td>recall</td><td>▁█████████▇▂▂▂▂▂▂▂▂▂</td></tr><tr><td>score</td><td>▁▃▅▅▆▆▆▆▆▆█▁▁▁▁▁▁▁▁▁</td></tr><tr><td>shd</td><td>▁▃▅▅▆▆▆▆▆▆█▁▁▁▁▁▁▁▁▁</td></tr></table><br/></div><div class=\"wandb-col\"><h3>Run summary:</h3><br/><table class=\"wandb\"><tr><td>alpha</td><td>0.0005</td></tr><tr><td>dag</td><td>0.27997</td></tr><tr><td>epoch</td><td>1900</td></tr><tr><td>epoch_loss</td><td>21.21397</td></tr><tr><td>gamma</td><td>30.03003</td></tr><tr><td>is_prescreen</td><td>0</td></tr><tr><td>l1</td><td>0.10882</td></tr><tr><td>l2</td><td>8.56352</td></tr><tr><td>n_edges_pred</td><td>34</td></tr><tr><td>nll</td><td>4.13414</td></tr><tr><td>precision</td><td>0.67647</td></tr><tr><td>recall</td><td>0.092</td></tr><tr><td>score</td><td>238</td></tr><tr><td>shd</td><td>238.0</td></tr></table><br/></div></div>"
      ],
      "text/plain": [
       "<IPython.core.display.HTML object>"
      ]
     },
     "metadata": {},
     "output_type": "display_data"
    },
    {
     "data": {
      "text/html": [
       " View run <strong style=\"color:#cdcd00\">SDCI_pf-0_mv-parameter_ss-False_alpham-0.1</strong> at: <a href='https://wandb.ai/azizi-causal-perturb/SDCI_new_sim/runs/41v9szhw' target=\"_blank\">https://wandb.ai/azizi-causal-perturb/SDCI_new_sim/runs/41v9szhw</a><br/>Synced 6 W&B file(s), 0 media file(s), 0 artifact file(s) and 0 other file(s)"
      ],
      "text/plain": [
       "<IPython.core.display.HTML object>"
      ]
     },
     "metadata": {},
     "output_type": "display_data"
    },
    {
     "data": {
      "text/html": [
       "Find logs at: <code>./wandb/run-20230712_220802-41v9szhw/logs</code>"
      ],
      "text/plain": [
       "<IPython.core.display.HTML object>"
      ]
     },
     "metadata": {},
     "output_type": "display_data"
    },
    {
     "data": {
      "application/vnd.jupyter.widget-view+json": {
       "model_id": "440628b985e34996bbecdf0fc2bbd7de",
       "version_major": 2,
       "version_minor": 0
      },
      "text/plain": [
       "VBox(children=(Label(value='Waiting for wandb.init()...\\r'), FloatProgress(value=0.016668282557899754, max=1.0…"
      ]
     },
     "metadata": {},
     "output_type": "display_data"
    },
    {
     "data": {
      "text/html": [
       "wandb version 0.15.5 is available!  To upgrade, please run:\n",
       " $ pip install wandb --upgrade"
      ],
      "text/plain": [
       "<IPython.core.display.HTML object>"
      ]
     },
     "metadata": {},
     "output_type": "display_data"
    },
    {
     "data": {
      "text/html": [
       "Tracking run with wandb version 0.15.2"
      ],
      "text/plain": [
       "<IPython.core.display.HTML object>"
      ]
     },
     "metadata": {},
     "output_type": "display_data"
    },
    {
     "data": {
      "text/html": [
       "Run data is saved locally in <code>/home/justin/ghrepos/causal-perturbseq/notebooks/wandb/run-20230712_220921-9f9atyns</code>"
      ],
      "text/plain": [
       "<IPython.core.display.HTML object>"
      ]
     },
     "metadata": {},
     "output_type": "display_data"
    },
    {
     "data": {
      "text/html": [
       "Syncing run <strong><a href='https://wandb.ai/azizi-causal-perturb/SDCI_new_sim/runs/9f9atyns' target=\"_blank\">SDCI_pf-0_mv-parameter_ss-False_alpham-0.01</a></strong> to <a href='https://wandb.ai/azizi-causal-perturb/SDCI_new_sim' target=\"_blank\">Weights & Biases</a> (<a href='https://wandb.me/run' target=\"_blank\">docs</a>)<br/>"
      ],
      "text/plain": [
       "<IPython.core.display.HTML object>"
      ]
     },
     "metadata": {},
     "output_type": "display_data"
    },
    {
     "data": {
      "text/html": [
       " View project at <a href='https://wandb.ai/azizi-causal-perturb/SDCI_new_sim' target=\"_blank\">https://wandb.ai/azizi-causal-perturb/SDCI_new_sim</a>"
      ],
      "text/plain": [
       "<IPython.core.display.HTML object>"
      ]
     },
     "metadata": {},
     "output_type": "display_data"
    },
    {
     "data": {
      "text/html": [
       " View run at <a href='https://wandb.ai/azizi-causal-perturb/SDCI_new_sim/runs/9f9atyns' target=\"_blank\">https://wandb.ai/azizi-causal-perturb/SDCI_new_sim/runs/9f9atyns</a>"
      ],
      "text/plain": [
       "<IPython.core.display.HTML object>"
      ]
     },
     "metadata": {},
     "output_type": "display_data"
    },
    {
     "name": "stderr",
     "output_type": "stream",
     "text": [
      "/home/justin/miniconda3/envs/cp/lib/python3.9/site-packages/torch/optim/optimizer.py:243: UserWarning: 'has_cuda' is deprecated, please use 'torch.backends.cuda.is_built()'\n",
      "  if not is_compiling() and torch.has_cuda and torch.cuda.is_available():\n"
     ]
    },
    {
     "name": "stdout",
     "output_type": "stream",
     "text": [
      "Epoch 0: loss=67.34, score=250, shd=250.0, gamma=0.00\n",
      "Epoch 100: loss=-7.85, score=854, shd=854.0, gamma=0.00\n",
      "Epoch 200: loss=-11.62, score=1126, shd=1126.0, gamma=0.00\n",
      "Epoch 300: loss=-12.44, score=1205, shd=1205.0, gamma=0.00\n",
      "Epoch 400: loss=-12.76, score=1256, shd=1256.0, gamma=0.00\n",
      "Epoch 500: loss=-13.00, score=1292, shd=1292.0, gamma=0.00\n",
      "Epoch 600: loss=-13.22, score=1311, shd=1311.0, gamma=0.00\n",
      "Epoch 700: loss=-13.31, score=1317, shd=1317.0, gamma=0.00\n",
      "Epoch 800: loss=-13.40, score=1339, shd=1339.0, gamma=0.00\n",
      "Epoch 900: loss=-13.43, score=1343, shd=1343.0, gamma=0.00\n",
      "Recall of mask: 1.0\n",
      "Fraction of possible edges in mask: 0.8936\n",
      "Epoch 0: loss=56.36, score=1475, shd=1475.0, gamma=0.00\n",
      "Epoch 100: loss=22.62, score=240, shd=240.0, gamma=30.03\n",
      "Epoch 200: loss=21.62, score=239, shd=239.0, gamma=30.03\n",
      "Epoch 300: loss=21.31, score=240, shd=240.0, gamma=30.03\n",
      "Epoch 400: loss=20.92, score=241, shd=241.0, gamma=30.03\n",
      "Epoch 500: loss=21.23, score=240, shd=240.0, gamma=30.03\n",
      "Epoch 600: loss=21.15, score=240, shd=240.0, gamma=30.03\n",
      "Epoch 700: loss=21.11, score=240, shd=240.0, gamma=30.03\n",
      "Epoch 800: loss=20.98, score=238, shd=238.0, gamma=30.03\n",
      "Epoch 900: loss=20.76, score=239, shd=239.0, gamma=30.03\n",
      "Finished training in 74.03049564361572 seconds.\n"
     ]
    },
    {
     "data": {
      "text/html": [
       "Waiting for W&B process to finish... <strong style=\"color:green\">(success).</strong>"
      ],
      "text/plain": [
       "<IPython.core.display.HTML object>"
      ]
     },
     "metadata": {},
     "output_type": "display_data"
    },
    {
     "data": {
      "text/html": [
       "<style>\n",
       "    table.wandb td:nth-child(1) { padding: 0 10px; text-align: left ; width: auto;} td:nth-child(2) {text-align: left ; width: 100%}\n",
       "    .wandb-row { display: flex; flex-direction: row; flex-wrap: wrap; justify-content: flex-start; width: 100% }\n",
       "    .wandb-col { display: flex; flex-direction: column; flex-basis: 100%; flex: 1; padding: 10px; }\n",
       "    </style>\n",
       "<div class=\"wandb-row\"><div class=\"wandb-col\"><h3>Run history:</h3><br/><table class=\"wandb\"><tr><td>alpha</td><td>██████████▁▁▁▁▁▁▁▁▁▁</td></tr><tr><td>dag</td><td>▁▁▁▁▁▁▁▁▁▁█▂▂▂▂▂▂▂▂▂</td></tr><tr><td>epoch</td><td>▁▁▂▂▂▃▃▄▄▄▅▅▅▆▆▇▇▇██</td></tr><tr><td>epoch_loss</td><td>█▁▁▁▁▁▁▁▁▁▇▄▄▄▄▄▄▄▄▄</td></tr><tr><td>gamma</td><td>▁▁▁▁▁▁▁▁▁▁▁█████████</td></tr><tr><td>is_prescreen</td><td>██████████▁▁▁▁▁▁▁▁▁▁</td></tr><tr><td>l1</td><td>▂▆▇███████▂▁▁▁▁▁▁▁▁▁</td></tr><tr><td>l2</td><td>▁▆▇▇██████▁▅▆▆▆▆▆▆▆▆</td></tr><tr><td>n_edges_pred</td><td>▁▆▇▇▇██████▁▁▁▁▁▁▁▁▁</td></tr><tr><td>nll</td><td>█▂▁▁▁▁▁▁▁▁▇▃▃▃▃▃▃▃▃▃</td></tr><tr><td>precision</td><td>▁▃▃▃▃▃▃▃▃▃▂█████████</td></tr><tr><td>recall</td><td>▁█████████▇▂▂▂▂▂▂▂▂▂</td></tr><tr><td>score</td><td>▁▄▆▆▇▇▇▇▇▇█▁▁▁▁▁▁▁▁▁</td></tr><tr><td>shd</td><td>▁▄▆▆▇▇▇▇▇▇█▁▁▁▁▁▁▁▁▁</td></tr></table><br/></div><div class=\"wandb-col\"><h3>Run summary:</h3><br/><table class=\"wandb\"><tr><td>alpha</td><td>5e-05</td></tr><tr><td>dag</td><td>0.28267</td></tr><tr><td>epoch</td><td>1900</td></tr><tr><td>epoch_loss</td><td>20.75545</td></tr><tr><td>gamma</td><td>30.03003</td></tr><tr><td>is_prescreen</td><td>0</td></tr><tr><td>l1</td><td>0.01149</td></tr><tr><td>l2</td><td>8.28063</td></tr><tr><td>n_edges_pred</td><td>31</td></tr><tr><td>nll</td><td>3.97468</td></tr><tr><td>precision</td><td>0.67742</td></tr><tr><td>recall</td><td>0.084</td></tr><tr><td>score</td><td>239</td></tr><tr><td>shd</td><td>239.0</td></tr></table><br/></div></div>"
      ],
      "text/plain": [
       "<IPython.core.display.HTML object>"
      ]
     },
     "metadata": {},
     "output_type": "display_data"
    },
    {
     "data": {
      "text/html": [
       " View run <strong style=\"color:#cdcd00\">SDCI_pf-0_mv-parameter_ss-False_alpham-0.01</strong> at: <a href='https://wandb.ai/azizi-causal-perturb/SDCI_new_sim/runs/9f9atyns' target=\"_blank\">https://wandb.ai/azizi-causal-perturb/SDCI_new_sim/runs/9f9atyns</a><br/>Synced 6 W&B file(s), 0 media file(s), 0 artifact file(s) and 0 other file(s)"
      ],
      "text/plain": [
       "<IPython.core.display.HTML object>"
      ]
     },
     "metadata": {},
     "output_type": "display_data"
    },
    {
     "data": {
      "text/html": [
       "Find logs at: <code>./wandb/run-20230712_220921-9f9atyns/logs</code>"
      ],
      "text/plain": [
       "<IPython.core.display.HTML object>"
      ]
     },
     "metadata": {},
     "output_type": "display_data"
    },
    {
     "data": {
      "application/vnd.jupyter.widget-view+json": {
       "model_id": "3a757ace97ba4ac98fbf783654d4e140",
       "version_major": 2,
       "version_minor": 0
      },
      "text/plain": [
       "VBox(children=(Label(value='Waiting for wandb.init()...\\r'), FloatProgress(value=0.016669834249963364, max=1.0…"
      ]
     },
     "metadata": {},
     "output_type": "display_data"
    },
    {
     "data": {
      "text/html": [
       "wandb version 0.15.5 is available!  To upgrade, please run:\n",
       " $ pip install wandb --upgrade"
      ],
      "text/plain": [
       "<IPython.core.display.HTML object>"
      ]
     },
     "metadata": {},
     "output_type": "display_data"
    },
    {
     "data": {
      "text/html": [
       "Tracking run with wandb version 0.15.2"
      ],
      "text/plain": [
       "<IPython.core.display.HTML object>"
      ]
     },
     "metadata": {},
     "output_type": "display_data"
    },
    {
     "data": {
      "text/html": [
       "Run data is saved locally in <code>/home/justin/ghrepos/causal-perturbseq/notebooks/wandb/run-20230712_221042-vqgtk3js</code>"
      ],
      "text/plain": [
       "<IPython.core.display.HTML object>"
      ]
     },
     "metadata": {},
     "output_type": "display_data"
    },
    {
     "data": {
      "text/html": [
       "Syncing run <strong><a href='https://wandb.ai/azizi-causal-perturb/SDCI_new_sim/runs/vqgtk3js' target=\"_blank\">SDCI_pf-0_mv-parameter_ss-False_alpham-0.001</a></strong> to <a href='https://wandb.ai/azizi-causal-perturb/SDCI_new_sim' target=\"_blank\">Weights & Biases</a> (<a href='https://wandb.me/run' target=\"_blank\">docs</a>)<br/>"
      ],
      "text/plain": [
       "<IPython.core.display.HTML object>"
      ]
     },
     "metadata": {},
     "output_type": "display_data"
    },
    {
     "data": {
      "text/html": [
       " View project at <a href='https://wandb.ai/azizi-causal-perturb/SDCI_new_sim' target=\"_blank\">https://wandb.ai/azizi-causal-perturb/SDCI_new_sim</a>"
      ],
      "text/plain": [
       "<IPython.core.display.HTML object>"
      ]
     },
     "metadata": {},
     "output_type": "display_data"
    },
    {
     "data": {
      "text/html": [
       " View run at <a href='https://wandb.ai/azizi-causal-perturb/SDCI_new_sim/runs/vqgtk3js' target=\"_blank\">https://wandb.ai/azizi-causal-perturb/SDCI_new_sim/runs/vqgtk3js</a>"
      ],
      "text/plain": [
       "<IPython.core.display.HTML object>"
      ]
     },
     "metadata": {},
     "output_type": "display_data"
    },
    {
     "name": "stderr",
     "output_type": "stream",
     "text": [
      "/home/justin/miniconda3/envs/cp/lib/python3.9/site-packages/torch/optim/optimizer.py:243: UserWarning: 'has_cuda' is deprecated, please use 'torch.backends.cuda.is_built()'\n",
      "  if not is_compiling() and torch.has_cuda and torch.cuda.is_available():\n"
     ]
    },
    {
     "name": "stdout",
     "output_type": "stream",
     "text": [
      "Epoch 0: loss=66.33, score=250, shd=250.0, gamma=0.00\n",
      "Epoch 100: loss=-7.97, score=896, shd=896.0, gamma=0.00\n",
      "Epoch 200: loss=-11.68, score=1197, shd=1197.0, gamma=0.00\n",
      "Epoch 300: loss=-12.55, score=1284, shd=1284.0, gamma=0.00\n",
      "Epoch 400: loss=-12.98, score=1338, shd=1338.0, gamma=0.00\n",
      "Epoch 500: loss=-13.14, score=1385, shd=1385.0, gamma=0.00\n",
      "Epoch 600: loss=-13.35, score=1409, shd=1409.0, gamma=0.00\n",
      "Epoch 700: loss=-13.52, score=1430, shd=1430.0, gamma=0.00\n",
      "Epoch 800: loss=-13.54, score=1420, shd=1420.0, gamma=0.00\n",
      "Epoch 900: loss=-13.64, score=1418, shd=1418.0, gamma=0.00\n",
      "Recall of mask: 1.0\n",
      "Fraction of possible edges in mask: 0.9016\n",
      "Epoch 0: loss=56.57, score=1485, shd=1485.0, gamma=0.00\n",
      "Epoch 100: loss=22.60, score=238, shd=238.0, gamma=30.03\n",
      "Epoch 200: loss=21.89, score=239, shd=239.0, gamma=30.03\n",
      "Epoch 300: loss=21.77, score=239, shd=239.0, gamma=30.03\n",
      "Epoch 400: loss=21.14, score=238, shd=238.0, gamma=30.03\n",
      "Epoch 500: loss=21.07, score=238, shd=238.0, gamma=30.03\n",
      "Epoch 600: loss=21.00, score=237, shd=237.0, gamma=30.03\n",
      "Epoch 700: loss=21.10, score=237, shd=237.0, gamma=30.03\n",
      "Epoch 800: loss=20.89, score=237, shd=237.0, gamma=30.03\n",
      "Epoch 900: loss=20.93, score=238, shd=238.0, gamma=30.03\n",
      "Finished training in 72.66276407241821 seconds.\n"
     ]
    },
    {
     "data": {
      "text/html": [
       "Waiting for W&B process to finish... <strong style=\"color:green\">(success).</strong>"
      ],
      "text/plain": [
       "<IPython.core.display.HTML object>"
      ]
     },
     "metadata": {},
     "output_type": "display_data"
    },
    {
     "data": {
      "text/html": [
       "<style>\n",
       "    table.wandb td:nth-child(1) { padding: 0 10px; text-align: left ; width: auto;} td:nth-child(2) {text-align: left ; width: 100%}\n",
       "    .wandb-row { display: flex; flex-direction: row; flex-wrap: wrap; justify-content: flex-start; width: 100% }\n",
       "    .wandb-col { display: flex; flex-direction: column; flex-basis: 100%; flex: 1; padding: 10px; }\n",
       "    </style>\n",
       "<div class=\"wandb-row\"><div class=\"wandb-col\"><h3>Run history:</h3><br/><table class=\"wandb\"><tr><td>alpha</td><td>██████████▁▁▁▁▁▁▁▁▁▁</td></tr><tr><td>dag</td><td>▁▁▁▁▁▁▁▁▁▁█▂▂▂▂▂▂▂▂▂</td></tr><tr><td>epoch</td><td>▁▁▂▂▂▃▃▄▄▄▅▅▅▆▆▇▇▇██</td></tr><tr><td>epoch_loss</td><td>█▁▁▁▁▁▁▁▁▁▇▄▄▄▄▄▄▄▄▄</td></tr><tr><td>gamma</td><td>▁▁▁▁▁▁▁▁▁▁▁█████████</td></tr><tr><td>is_prescreen</td><td>██████████▁▁▁▁▁▁▁▁▁▁</td></tr><tr><td>l1</td><td>▂▇▇███████▂▁▁▁▁▁▁▁▁▁</td></tr><tr><td>l2</td><td>▁▆▇▇██████▁▅▆▆▆▆▆▆▆▆</td></tr><tr><td>n_edges_pred</td><td>▁▆▇▇███████▁▁▁▁▁▁▁▁▁</td></tr><tr><td>nll</td><td>█▂▁▁▁▁▁▁▁▁▇▃▃▃▃▃▃▃▃▃</td></tr><tr><td>precision</td><td>▁▃▃▃▃▃▂▂▂▂▂█████████</td></tr><tr><td>recall</td><td>▁█████████▇▂▂▂▂▂▂▂▂▂</td></tr><tr><td>score</td><td>▁▅▆▇▇▇█████▁▁▁▁▁▁▁▁▁</td></tr><tr><td>shd</td><td>▁▅▆▇▇▇█████▁▁▁▁▁▁▁▁▁</td></tr></table><br/></div><div class=\"wandb-col\"><h3>Run summary:</h3><br/><table class=\"wandb\"><tr><td>alpha</td><td>1e-05</td></tr><tr><td>dag</td><td>0.28034</td></tr><tr><td>epoch</td><td>1900</td></tr><tr><td>epoch_loss</td><td>20.92531</td></tr><tr><td>gamma</td><td>30.03003</td></tr><tr><td>is_prescreen</td><td>0</td></tr><tr><td>l1</td><td>0.00115</td></tr><tr><td>l2</td><td>8.33875</td></tr><tr><td>n_edges_pred</td><td>32</td></tr><tr><td>nll</td><td>4.16672</td></tr><tr><td>precision</td><td>0.6875</td></tr><tr><td>recall</td><td>0.088</td></tr><tr><td>score</td><td>238</td></tr><tr><td>shd</td><td>238.0</td></tr></table><br/></div></div>"
      ],
      "text/plain": [
       "<IPython.core.display.HTML object>"
      ]
     },
     "metadata": {},
     "output_type": "display_data"
    },
    {
     "data": {
      "text/html": [
       " View run <strong style=\"color:#cdcd00\">SDCI_pf-0_mv-parameter_ss-False_alpham-0.001</strong> at: <a href='https://wandb.ai/azizi-causal-perturb/SDCI_new_sim/runs/vqgtk3js' target=\"_blank\">https://wandb.ai/azizi-causal-perturb/SDCI_new_sim/runs/vqgtk3js</a><br/>Synced 6 W&B file(s), 0 media file(s), 0 artifact file(s) and 0 other file(s)"
      ],
      "text/plain": [
       "<IPython.core.display.HTML object>"
      ]
     },
     "metadata": {},
     "output_type": "display_data"
    },
    {
     "data": {
      "text/html": [
       "Find logs at: <code>./wandb/run-20230712_221042-vqgtk3js/logs</code>"
      ],
      "text/plain": [
       "<IPython.core.display.HTML object>"
      ]
     },
     "metadata": {},
     "output_type": "display_data"
    },
    {
     "data": {
      "application/vnd.jupyter.widget-view+json": {
       "model_id": "9a77da35db844efe912b1ddf1700b10e",
       "version_major": 2,
       "version_minor": 0
      },
      "text/plain": [
       "VBox(children=(Label(value='Waiting for wandb.init()...\\r'), FloatProgress(value=0.016669459144274392, max=1.0…"
      ]
     },
     "metadata": {},
     "output_type": "display_data"
    },
    {
     "data": {
      "text/html": [
       "wandb version 0.15.5 is available!  To upgrade, please run:\n",
       " $ pip install wandb --upgrade"
      ],
      "text/plain": [
       "<IPython.core.display.HTML object>"
      ]
     },
     "metadata": {},
     "output_type": "display_data"
    },
    {
     "data": {
      "text/html": [
       "Tracking run with wandb version 0.15.2"
      ],
      "text/plain": [
       "<IPython.core.display.HTML object>"
      ]
     },
     "metadata": {},
     "output_type": "display_data"
    },
    {
     "data": {
      "text/html": [
       "Run data is saved locally in <code>/home/justin/ghrepos/causal-perturbseq/notebooks/wandb/run-20230712_221203-bxcdkr2k</code>"
      ],
      "text/plain": [
       "<IPython.core.display.HTML object>"
      ]
     },
     "metadata": {},
     "output_type": "display_data"
    },
    {
     "data": {
      "text/html": [
       "Syncing run <strong><a href='https://wandb.ai/azizi-causal-perturb/SDCI_new_sim/runs/bxcdkr2k' target=\"_blank\">SDCI_pf-0.5_mv-unit_ss-True_alpham-1</a></strong> to <a href='https://wandb.ai/azizi-causal-perturb/SDCI_new_sim' target=\"_blank\">Weights & Biases</a> (<a href='https://wandb.me/run' target=\"_blank\">docs</a>)<br/>"
      ],
      "text/plain": [
       "<IPython.core.display.HTML object>"
      ]
     },
     "metadata": {},
     "output_type": "display_data"
    },
    {
     "data": {
      "text/html": [
       " View project at <a href='https://wandb.ai/azizi-causal-perturb/SDCI_new_sim' target=\"_blank\">https://wandb.ai/azizi-causal-perturb/SDCI_new_sim</a>"
      ],
      "text/plain": [
       "<IPython.core.display.HTML object>"
      ]
     },
     "metadata": {},
     "output_type": "display_data"
    },
    {
     "data": {
      "text/html": [
       " View run at <a href='https://wandb.ai/azizi-causal-perturb/SDCI_new_sim/runs/bxcdkr2k' target=\"_blank\">https://wandb.ai/azizi-causal-perturb/SDCI_new_sim/runs/bxcdkr2k</a>"
      ],
      "text/plain": [
       "<IPython.core.display.HTML object>"
      ]
     },
     "metadata": {},
     "output_type": "display_data"
    },
    {
     "name": "stderr",
     "output_type": "stream",
     "text": [
      "/home/justin/miniconda3/envs/cp/lib/python3.9/site-packages/torch/optim/optimizer.py:243: UserWarning: 'has_cuda' is deprecated, please use 'torch.backends.cuda.is_built()'\n",
      "  if not is_compiling() and torch.has_cuda and torch.cuda.is_available():\n"
     ]
    },
    {
     "name": "stdout",
     "output_type": "stream",
     "text": [
      "Epoch 0: loss=69.84, score=250, shd=250.0, gamma=0.00\n",
      "Epoch 100: loss=53.23, score=210, shd=210.0, gamma=0.00\n",
      "Epoch 200: loss=52.81, score=209, shd=209.0, gamma=0.00\n",
      "Epoch 300: loss=52.69, score=204, shd=204.0, gamma=0.00\n",
      "Epoch 400: loss=52.63, score=203, shd=203.0, gamma=0.00\n",
      "Epoch 500: loss=52.62, score=204, shd=204.0, gamma=0.00\n",
      "Epoch 600: loss=52.61, score=204, shd=204.0, gamma=0.00\n",
      "Epoch 700: loss=52.60, score=204, shd=204.0, gamma=0.00\n",
      "Epoch 800: loss=52.60, score=204, shd=204.0, gamma=0.00\n",
      "Epoch 900: loss=52.60, score=204, shd=204.0, gamma=0.00\n",
      "Recall of mask: 0.54\n",
      "Fraction of possible edges in mask: 0.0872\n",
      "Epoch 0: loss=5341848.40, score=205, shd=205.0, gamma=0.00\n",
      "Epoch 100: loss=5341842.25, score=210, shd=210.0, gamma=30.03\n",
      "Epoch 200: loss=5341841.85, score=211, shd=211.0, gamma=30.03\n",
      "Epoch 300: loss=5341841.80, score=209, shd=209.0, gamma=30.03\n",
      "Epoch 400: loss=5341841.85, score=211, shd=211.0, gamma=30.03\n",
      "Epoch 500: loss=5341842.00, score=210, shd=210.0, gamma=30.03\n",
      "Epoch 600: loss=5341842.00, score=209, shd=209.0, gamma=30.03\n",
      "Epoch 700: loss=5341841.85, score=209, shd=209.0, gamma=30.03\n",
      "Epoch 800: loss=5341841.80, score=209, shd=209.0, gamma=30.03\n",
      "Epoch 900: loss=5341841.90, score=210, shd=210.0, gamma=30.03\n",
      "Finished training in 68.80070519447327 seconds.\n"
     ]
    },
    {
     "data": {
      "text/html": [
       "Waiting for W&B process to finish... <strong style=\"color:green\">(success).</strong>"
      ],
      "text/plain": [
       "<IPython.core.display.HTML object>"
      ]
     },
     "metadata": {},
     "output_type": "display_data"
    },
    {
     "data": {
      "text/html": [
       "<style>\n",
       "    table.wandb td:nth-child(1) { padding: 0 10px; text-align: left ; width: auto;} td:nth-child(2) {text-align: left ; width: 100%}\n",
       "    .wandb-row { display: flex; flex-direction: row; flex-wrap: wrap; justify-content: flex-start; width: 100% }\n",
       "    .wandb-col { display: flex; flex-direction: column; flex-basis: 100%; flex: 1; padding: 10px; }\n",
       "    </style>\n",
       "<div class=\"wandb-row\"><div class=\"wandb-col\"><h3>Run history:</h3><br/><table class=\"wandb\"><tr><td>alpha</td><td>██████████▁▁▁▁▁▁▁▁▁▁</td></tr><tr><td>dag</td><td>▁▁▁▁▁▁▁▁▁▁█▃▃▃▃▃▃▃▃▃</td></tr><tr><td>epoch</td><td>▁▁▂▂▂▃▃▄▄▄▅▅▅▆▆▇▇▇██</td></tr><tr><td>epoch_loss</td><td>▁▁▁▁▁▁▁▁▁▁██████████</td></tr><tr><td>gamma</td><td>▁▁▁▁▁▁▁▁▁▁▁█████████</td></tr><tr><td>is_prescreen</td><td>██████████▁▁▁▁▁▁▁▁▁▁</td></tr><tr><td>l1</td><td>▅█▇▆▆▆▆▆▆▆▂▁▁▁▁▁▁▁▁▁</td></tr><tr><td>l2</td><td>▁▁▁▁▁▁▁▁▁▁██████████</td></tr><tr><td>n_edges_pred</td><td>▁▆▆▇▇▇▇▇▇▇█▃▃▃▃▃▃▃▃▃</td></tr><tr><td>nll</td><td>█▁▁▁▁▁▁▁▁▁▇▃▃▃▃▃▃▃▃▃</td></tr><tr><td>precision</td><td>▁▆▆▆▆▆▆▆▆▆▆█████████</td></tr><tr><td>recall</td><td>▁▇▇▇▇▇▇▇▇▇█▄▃▄▃▄▄▄▄▄</td></tr><tr><td>score</td><td>█▂▂▁▁▁▁▁▁▁▁▂▂▂▂▂▂▂▂▂</td></tr><tr><td>shd</td><td>█▂▂▁▁▁▁▁▁▁▁▂▂▂▂▂▂▂▂▂</td></tr></table><br/></div><div class=\"wandb-col\"><h3>Run summary:</h3><br/><table class=\"wandb\"><tr><td>alpha</td><td>0.005</td></tr><tr><td>dag</td><td>0.12478</td></tr><tr><td>epoch</td><td>1900</td></tr><tr><td>epoch_loss</td><td>5341841.9</td></tr><tr><td>gamma</td><td>30.03003</td></tr><tr><td>is_prescreen</td><td>0</td></tr><tr><td>l1</td><td>0.51105</td></tr><tr><td>l2</td><td>5341785.0</td></tr><tr><td>n_edges_pred</td><td>48</td></tr><tr><td>nll</td><td>52.67193</td></tr><tr><td>precision</td><td>0.91667</td></tr><tr><td>recall</td><td>0.176</td></tr><tr><td>score</td><td>210</td></tr><tr><td>shd</td><td>210.0</td></tr></table><br/></div></div>"
      ],
      "text/plain": [
       "<IPython.core.display.HTML object>"
      ]
     },
     "metadata": {},
     "output_type": "display_data"
    },
    {
     "data": {
      "text/html": [
       " View run <strong style=\"color:#cdcd00\">SDCI_pf-0.5_mv-unit_ss-True_alpham-1</strong> at: <a href='https://wandb.ai/azizi-causal-perturb/SDCI_new_sim/runs/bxcdkr2k' target=\"_blank\">https://wandb.ai/azizi-causal-perturb/SDCI_new_sim/runs/bxcdkr2k</a><br/>Synced 6 W&B file(s), 0 media file(s), 0 artifact file(s) and 0 other file(s)"
      ],
      "text/plain": [
       "<IPython.core.display.HTML object>"
      ]
     },
     "metadata": {},
     "output_type": "display_data"
    },
    {
     "data": {
      "text/html": [
       "Find logs at: <code>./wandb/run-20230712_221203-bxcdkr2k/logs</code>"
      ],
      "text/plain": [
       "<IPython.core.display.HTML object>"
      ]
     },
     "metadata": {},
     "output_type": "display_data"
    },
    {
     "data": {
      "application/vnd.jupyter.widget-view+json": {
       "model_id": "abbf0b6c92ab451f9364501be69fdffe",
       "version_major": 2,
       "version_minor": 0
      },
      "text/plain": [
       "VBox(children=(Label(value='Waiting for wandb.init()...\\r'), FloatProgress(value=0.016668303015952308, max=1.0…"
      ]
     },
     "metadata": {},
     "output_type": "display_data"
    },
    {
     "data": {
      "text/html": [
       "wandb version 0.15.5 is available!  To upgrade, please run:\n",
       " $ pip install wandb --upgrade"
      ],
      "text/plain": [
       "<IPython.core.display.HTML object>"
      ]
     },
     "metadata": {},
     "output_type": "display_data"
    },
    {
     "data": {
      "text/html": [
       "Tracking run with wandb version 0.15.2"
      ],
      "text/plain": [
       "<IPython.core.display.HTML object>"
      ]
     },
     "metadata": {},
     "output_type": "display_data"
    },
    {
     "data": {
      "text/html": [
       "Run data is saved locally in <code>/home/justin/ghrepos/causal-perturbseq/notebooks/wandb/run-20230712_221320-7hrux8gg</code>"
      ],
      "text/plain": [
       "<IPython.core.display.HTML object>"
      ]
     },
     "metadata": {},
     "output_type": "display_data"
    },
    {
     "data": {
      "text/html": [
       "Syncing run <strong><a href='https://wandb.ai/azizi-causal-perturb/SDCI_new_sim/runs/7hrux8gg' target=\"_blank\">SDCI_pf-0.5_mv-unit_ss-True_alpham-0.1</a></strong> to <a href='https://wandb.ai/azizi-causal-perturb/SDCI_new_sim' target=\"_blank\">Weights & Biases</a> (<a href='https://wandb.me/run' target=\"_blank\">docs</a>)<br/>"
      ],
      "text/plain": [
       "<IPython.core.display.HTML object>"
      ]
     },
     "metadata": {},
     "output_type": "display_data"
    },
    {
     "data": {
      "text/html": [
       " View project at <a href='https://wandb.ai/azizi-causal-perturb/SDCI_new_sim' target=\"_blank\">https://wandb.ai/azizi-causal-perturb/SDCI_new_sim</a>"
      ],
      "text/plain": [
       "<IPython.core.display.HTML object>"
      ]
     },
     "metadata": {},
     "output_type": "display_data"
    },
    {
     "data": {
      "text/html": [
       " View run at <a href='https://wandb.ai/azizi-causal-perturb/SDCI_new_sim/runs/7hrux8gg' target=\"_blank\">https://wandb.ai/azizi-causal-perturb/SDCI_new_sim/runs/7hrux8gg</a>"
      ],
      "text/plain": [
       "<IPython.core.display.HTML object>"
      ]
     },
     "metadata": {},
     "output_type": "display_data"
    },
    {
     "name": "stderr",
     "output_type": "stream",
     "text": [
      "/home/justin/miniconda3/envs/cp/lib/python3.9/site-packages/torch/optim/optimizer.py:243: UserWarning: 'has_cuda' is deprecated, please use 'torch.backends.cuda.is_built()'\n",
      "  if not is_compiling() and torch.has_cuda and torch.cuda.is_available():\n"
     ]
    },
    {
     "name": "stdout",
     "output_type": "stream",
     "text": [
      "Epoch 0: loss=67.52, score=250, shd=250.0, gamma=0.00\n",
      "Epoch 100: loss=50.09, score=223, shd=223.0, gamma=0.00\n",
      "Epoch 200: loss=50.05, score=218, shd=218.0, gamma=0.00\n",
      "Epoch 300: loss=50.04, score=216, shd=216.0, gamma=0.00\n",
      "Epoch 400: loss=50.03, score=217, shd=217.0, gamma=0.00\n",
      "Epoch 500: loss=50.02, score=218, shd=218.0, gamma=0.00\n",
      "Epoch 600: loss=50.02, score=215, shd=215.0, gamma=0.00\n",
      "Epoch 700: loss=50.02, score=212, shd=212.0, gamma=0.00\n",
      "Epoch 800: loss=50.01, score=215, shd=215.0, gamma=0.00\n",
      "Epoch 900: loss=50.02, score=214, shd=214.0, gamma=0.00\n",
      "Recall of mask: 0.672\n",
      "Fraction of possible edges in mask: 0.1544\n",
      "Epoch 0: loss=65.52, score=290, shd=290.0, gamma=0.00\n",
      "Epoch 100: loss=59.84, score=230, shd=230.0, gamma=30.03\n",
      "Epoch 200: loss=59.81, score=233, shd=233.0, gamma=30.03\n",
      "Epoch 300: loss=59.82, score=227, shd=227.0, gamma=30.03\n",
      "Epoch 400: loss=59.80, score=231, shd=231.0, gamma=30.03\n",
      "Epoch 500: loss=59.80, score=228, shd=228.0, gamma=30.03\n",
      "Epoch 600: loss=59.80, score=229, shd=229.0, gamma=30.03\n",
      "Epoch 700: loss=59.80, score=228, shd=228.0, gamma=30.03\n",
      "Epoch 800: loss=59.81, score=230, shd=230.0, gamma=30.03\n",
      "Epoch 900: loss=59.80, score=228, shd=228.0, gamma=30.03\n",
      "Finished training in 70.56695103645325 seconds.\n"
     ]
    },
    {
     "data": {
      "text/html": [
       "Waiting for W&B process to finish... <strong style=\"color:green\">(success).</strong>"
      ],
      "text/plain": [
       "<IPython.core.display.HTML object>"
      ]
     },
     "metadata": {},
     "output_type": "display_data"
    },
    {
     "data": {
      "text/html": [
       "<style>\n",
       "    table.wandb td:nth-child(1) { padding: 0 10px; text-align: left ; width: auto;} td:nth-child(2) {text-align: left ; width: 100%}\n",
       "    .wandb-row { display: flex; flex-direction: row; flex-wrap: wrap; justify-content: flex-start; width: 100% }\n",
       "    .wandb-col { display: flex; flex-direction: column; flex-basis: 100%; flex: 1; padding: 10px; }\n",
       "    </style>\n",
       "<div class=\"wandb-row\"><div class=\"wandb-col\"><h3>Run history:</h3><br/><table class=\"wandb\"><tr><td>alpha</td><td>██████████▁▁▁▁▁▁▁▁▁▁</td></tr><tr><td>dag</td><td>▁▁▁▁▁▁▁▁▁▁█▂▂▂▂▂▂▂▂▂</td></tr><tr><td>epoch</td><td>▁▁▂▂▂▃▃▄▄▄▅▅▅▆▆▇▇▇██</td></tr><tr><td>epoch_loss</td><td>█▁▁▁▁▁▁▁▁▁▇▅▅▅▅▅▅▅▅▅</td></tr><tr><td>gamma</td><td>▁▁▁▁▁▁▁▁▁▁▁█████████</td></tr><tr><td>is_prescreen</td><td>██████████▁▁▁▁▁▁▁▁▁▁</td></tr><tr><td>l1</td><td>▄██▇▇▇▇▇▇▇▂▁▁▁▁▁▁▁▁▁</td></tr><tr><td>l2</td><td>▁▃▃▄▄▄▄▄▄▄▁█████████</td></tr><tr><td>n_edges_pred</td><td>▁▆▆▆▆▆▆▆▆▆█▂▁▂▂▂▂▂▂▂</td></tr><tr><td>nll</td><td>█▁▁▁▁▁▁▁▁▁▇▂▂▂▂▂▂▂▂▂</td></tr><tr><td>precision</td><td>▁▅▆▆▆▆▆▆▆▆▅█████████</td></tr><tr><td>recall</td><td>▁▇▇▇▇▇▇▇▇▇█▂▂▂▂▂▂▂▂▂</td></tr><tr><td>score</td><td>▄▂▂▁▁▂▁▁▁▁█▃▃▂▃▂▃▂▃▂</td></tr><tr><td>shd</td><td>▄▂▂▁▁▂▁▁▁▁█▃▃▂▃▂▃▂▃▂</td></tr></table><br/></div><div class=\"wandb-col\"><h3>Run summary:</h3><br/><table class=\"wandb\"><tr><td>alpha</td><td>0.0005</td></tr><tr><td>dag</td><td>0.13536</td></tr><tr><td>epoch</td><td>1900</td></tr><tr><td>epoch_loss</td><td>59.79633</td></tr><tr><td>gamma</td><td>30.03003</td></tr><tr><td>is_prescreen</td><td>0</td></tr><tr><td>l1</td><td>0.07756</td></tr><tr><td>l2</td><td>4.21065</td></tr><tr><td>n_edges_pred</td><td>30</td></tr><tr><td>nll</td><td>51.44319</td></tr><tr><td>precision</td><td>0.86667</td></tr><tr><td>recall</td><td>0.104</td></tr><tr><td>score</td><td>228</td></tr><tr><td>shd</td><td>228.0</td></tr></table><br/></div></div>"
      ],
      "text/plain": [
       "<IPython.core.display.HTML object>"
      ]
     },
     "metadata": {},
     "output_type": "display_data"
    },
    {
     "data": {
      "text/html": [
       " View run <strong style=\"color:#cdcd00\">SDCI_pf-0.5_mv-unit_ss-True_alpham-0.1</strong> at: <a href='https://wandb.ai/azizi-causal-perturb/SDCI_new_sim/runs/7hrux8gg' target=\"_blank\">https://wandb.ai/azizi-causal-perturb/SDCI_new_sim/runs/7hrux8gg</a><br/>Synced 6 W&B file(s), 0 media file(s), 0 artifact file(s) and 0 other file(s)"
      ],
      "text/plain": [
       "<IPython.core.display.HTML object>"
      ]
     },
     "metadata": {},
     "output_type": "display_data"
    },
    {
     "data": {
      "text/html": [
       "Find logs at: <code>./wandb/run-20230712_221320-7hrux8gg/logs</code>"
      ],
      "text/plain": [
       "<IPython.core.display.HTML object>"
      ]
     },
     "metadata": {},
     "output_type": "display_data"
    },
    {
     "data": {
      "application/vnd.jupyter.widget-view+json": {
       "model_id": "0f58176b79e84659b3f20dcb3acc0451",
       "version_major": 2,
       "version_minor": 0
      },
      "text/plain": [
       "VBox(children=(Label(value='Waiting for wandb.init()...\\r'), FloatProgress(value=0.0166701874230057, max=1.0))…"
      ]
     },
     "metadata": {},
     "output_type": "display_data"
    },
    {
     "data": {
      "text/html": [
       "wandb version 0.15.5 is available!  To upgrade, please run:\n",
       " $ pip install wandb --upgrade"
      ],
      "text/plain": [
       "<IPython.core.display.HTML object>"
      ]
     },
     "metadata": {},
     "output_type": "display_data"
    },
    {
     "data": {
      "text/html": [
       "Tracking run with wandb version 0.15.2"
      ],
      "text/plain": [
       "<IPython.core.display.HTML object>"
      ]
     },
     "metadata": {},
     "output_type": "display_data"
    },
    {
     "data": {
      "text/html": [
       "Run data is saved locally in <code>/home/justin/ghrepos/causal-perturbseq/notebooks/wandb/run-20230712_221442-z8wwlwy0</code>"
      ],
      "text/plain": [
       "<IPython.core.display.HTML object>"
      ]
     },
     "metadata": {},
     "output_type": "display_data"
    },
    {
     "data": {
      "text/html": [
       "Syncing run <strong><a href='https://wandb.ai/azizi-causal-perturb/SDCI_new_sim/runs/z8wwlwy0' target=\"_blank\">SDCI_pf-0.5_mv-unit_ss-True_alpham-0.01</a></strong> to <a href='https://wandb.ai/azizi-causal-perturb/SDCI_new_sim' target=\"_blank\">Weights & Biases</a> (<a href='https://wandb.me/run' target=\"_blank\">docs</a>)<br/>"
      ],
      "text/plain": [
       "<IPython.core.display.HTML object>"
      ]
     },
     "metadata": {},
     "output_type": "display_data"
    },
    {
     "data": {
      "text/html": [
       " View project at <a href='https://wandb.ai/azizi-causal-perturb/SDCI_new_sim' target=\"_blank\">https://wandb.ai/azizi-causal-perturb/SDCI_new_sim</a>"
      ],
      "text/plain": [
       "<IPython.core.display.HTML object>"
      ]
     },
     "metadata": {},
     "output_type": "display_data"
    },
    {
     "data": {
      "text/html": [
       " View run at <a href='https://wandb.ai/azizi-causal-perturb/SDCI_new_sim/runs/z8wwlwy0' target=\"_blank\">https://wandb.ai/azizi-causal-perturb/SDCI_new_sim/runs/z8wwlwy0</a>"
      ],
      "text/plain": [
       "<IPython.core.display.HTML object>"
      ]
     },
     "metadata": {},
     "output_type": "display_data"
    },
    {
     "name": "stderr",
     "output_type": "stream",
     "text": [
      "/home/justin/miniconda3/envs/cp/lib/python3.9/site-packages/torch/optim/optimizer.py:243: UserWarning: 'has_cuda' is deprecated, please use 'torch.backends.cuda.is_built()'\n",
      "  if not is_compiling() and torch.has_cuda and torch.cuda.is_available():\n"
     ]
    },
    {
     "name": "stdout",
     "output_type": "stream",
     "text": [
      "Epoch 0: loss=68.13, score=250, shd=250.0, gamma=0.00\n",
      "Epoch 100: loss=49.31, score=250, shd=250.0, gamma=0.00\n",
      "Epoch 200: loss=49.30, score=244, shd=244.0, gamma=0.00\n",
      "Epoch 300: loss=49.30, score=245, shd=245.0, gamma=0.00\n",
      "Epoch 400: loss=49.30, score=248, shd=248.0, gamma=0.00\n",
      "Epoch 600: loss=49.29, score=244, shd=244.0, gamma=0.00\n",
      "Epoch 700: loss=49.29, score=246, shd=246.0, gamma=0.00\n",
      "Epoch 800: loss=49.29, score=243, shd=243.0, gamma=0.00\n",
      "Epoch 900: loss=49.29, score=246, shd=246.0, gamma=0.00\n",
      "Recall of mask: 0.764\n",
      "Fraction of possible edges in mask: 0.2104\n",
      "Epoch 0: loss=5569079.30, score=370, shd=370.0, gamma=0.00\n",
      "Epoch 100: loss=5569074.20, score=239, shd=239.0, gamma=30.03\n",
      "Epoch 200: loss=5569074.00, score=238, shd=238.0, gamma=30.03\n",
      "Epoch 300: loss=5569074.05, score=239, shd=239.0, gamma=30.03\n",
      "Epoch 400: loss=5569074.05, score=242, shd=242.0, gamma=30.03\n",
      "Epoch 500: loss=5569074.15, score=240, shd=240.0, gamma=30.03\n",
      "Epoch 600: loss=5569074.05, score=242, shd=242.0, gamma=30.03\n",
      "Epoch 700: loss=5569074.10, score=242, shd=242.0, gamma=30.03\n",
      "Epoch 800: loss=5569074.05, score=241, shd=241.0, gamma=30.03\n",
      "Epoch 900: loss=5569074.15, score=240, shd=240.0, gamma=30.03\n",
      "Finished training in 68.19289517402649 seconds.\n"
     ]
    },
    {
     "data": {
      "text/html": [
       "Waiting for W&B process to finish... <strong style=\"color:green\">(success).</strong>"
      ],
      "text/plain": [
       "<IPython.core.display.HTML object>"
      ]
     },
     "metadata": {},
     "output_type": "display_data"
    },
    {
     "data": {
      "text/html": [
       "<style>\n",
       "    table.wandb td:nth-child(1) { padding: 0 10px; text-align: left ; width: auto;} td:nth-child(2) {text-align: left ; width: 100%}\n",
       "    .wandb-row { display: flex; flex-direction: row; flex-wrap: wrap; justify-content: flex-start; width: 100% }\n",
       "    .wandb-col { display: flex; flex-direction: column; flex-basis: 100%; flex: 1; padding: 10px; }\n",
       "    </style>\n",
       "<div class=\"wandb-row\"><div class=\"wandb-col\"><h3>Run history:</h3><br/><table class=\"wandb\"><tr><td>alpha</td><td>██████████▁▁▁▁▁▁▁▁▁▁</td></tr><tr><td>dag</td><td>▁▁▁▁▁▁▁▁▁▁█▂▂▂▂▂▂▂▂▂</td></tr><tr><td>epoch</td><td>▁▁▂▂▂▃▃▄▄▄▅▅▅▆▆▇▇▇██</td></tr><tr><td>epoch_loss</td><td>▁▁▁▁▁▁▁▁▁▁██████████</td></tr><tr><td>gamma</td><td>▁▁▁▁▁▁▁▁▁▁▁█████████</td></tr><tr><td>is_prescreen</td><td>██████████▁▁▁▁▁▁▁▁▁▁</td></tr><tr><td>l1</td><td>▃█████████▂▁▁▁▁▁▁▁▁▁</td></tr><tr><td>l2</td><td>▁▁▁▁▁▁▁▁▁▁██████████</td></tr><tr><td>n_edges_pred</td><td>▁▆▆▆▆▆▆▆▆▆█▁▁▁▁▁▁▁▁▁</td></tr><tr><td>nll</td><td>█▁▁▁▁▁▁▁▁▁▇▂▂▂▂▂▂▂▂▂</td></tr><tr><td>precision</td><td>▁▅▅▅▅▅▅▅▅▅▄███▇█▇▇██</td></tr><tr><td>recall</td><td>▁▇▇▇▇▇▇▇▇▇█▂▂▂▁▂▁▁▂▂</td></tr><tr><td>score</td><td>▂▂▁▁▂▂▁▁▁▁█▁▁▁▁▁▁▁▁▁</td></tr><tr><td>shd</td><td>▂▂▁▁▂▂▁▁▁▁█▁▁▁▁▁▁▁▁▁</td></tr></table><br/></div><div class=\"wandb-col\"><h3>Run summary:</h3><br/><table class=\"wandb\"><tr><td>alpha</td><td>5e-05</td></tr><tr><td>dag</td><td>0.13153</td></tr><tr><td>epoch</td><td>1900</td></tr><tr><td>epoch_loss</td><td>5569074.15</td></tr><tr><td>gamma</td><td>30.03003</td></tr><tr><td>is_prescreen</td><td>0</td></tr><tr><td>l1</td><td>0.00899</td></tr><tr><td>l2</td><td>5569019.0</td></tr><tr><td>n_edges_pred</td><td>18</td></tr><tr><td>nll</td><td>51.17472</td></tr><tr><td>precision</td><td>0.77778</td></tr><tr><td>recall</td><td>0.056</td></tr><tr><td>score</td><td>240</td></tr><tr><td>shd</td><td>240.0</td></tr></table><br/></div></div>"
      ],
      "text/plain": [
       "<IPython.core.display.HTML object>"
      ]
     },
     "metadata": {},
     "output_type": "display_data"
    },
    {
     "data": {
      "text/html": [
       " View run <strong style=\"color:#cdcd00\">SDCI_pf-0.5_mv-unit_ss-True_alpham-0.01</strong> at: <a href='https://wandb.ai/azizi-causal-perturb/SDCI_new_sim/runs/z8wwlwy0' target=\"_blank\">https://wandb.ai/azizi-causal-perturb/SDCI_new_sim/runs/z8wwlwy0</a><br/>Synced 6 W&B file(s), 0 media file(s), 0 artifact file(s) and 0 other file(s)"
      ],
      "text/plain": [
       "<IPython.core.display.HTML object>"
      ]
     },
     "metadata": {},
     "output_type": "display_data"
    },
    {
     "data": {
      "text/html": [
       "Find logs at: <code>./wandb/run-20230712_221442-z8wwlwy0/logs</code>"
      ],
      "text/plain": [
       "<IPython.core.display.HTML object>"
      ]
     },
     "metadata": {},
     "output_type": "display_data"
    },
    {
     "data": {
      "application/vnd.jupyter.widget-view+json": {
       "model_id": "e0d08e8e9b494ec9804a09171c5c5605",
       "version_major": 2,
       "version_minor": 0
      },
      "text/plain": [
       "VBox(children=(Label(value='Waiting for wandb.init()...\\r'), FloatProgress(value=0.016668454650789498, max=1.0…"
      ]
     },
     "metadata": {},
     "output_type": "display_data"
    },
    {
     "data": {
      "text/html": [
       "wandb version 0.15.5 is available!  To upgrade, please run:\n",
       " $ pip install wandb --upgrade"
      ],
      "text/plain": [
       "<IPython.core.display.HTML object>"
      ]
     },
     "metadata": {},
     "output_type": "display_data"
    },
    {
     "data": {
      "text/html": [
       "Tracking run with wandb version 0.15.2"
      ],
      "text/plain": [
       "<IPython.core.display.HTML object>"
      ]
     },
     "metadata": {},
     "output_type": "display_data"
    },
    {
     "data": {
      "text/html": [
       "Run data is saved locally in <code>/home/justin/ghrepos/causal-perturbseq/notebooks/wandb/run-20230712_221557-8337i6aq</code>"
      ],
      "text/plain": [
       "<IPython.core.display.HTML object>"
      ]
     },
     "metadata": {},
     "output_type": "display_data"
    },
    {
     "data": {
      "text/html": [
       "Syncing run <strong><a href='https://wandb.ai/azizi-causal-perturb/SDCI_new_sim/runs/8337i6aq' target=\"_blank\">SDCI_pf-0.5_mv-unit_ss-True_alpham-0.001</a></strong> to <a href='https://wandb.ai/azizi-causal-perturb/SDCI_new_sim' target=\"_blank\">Weights & Biases</a> (<a href='https://wandb.me/run' target=\"_blank\">docs</a>)<br/>"
      ],
      "text/plain": [
       "<IPython.core.display.HTML object>"
      ]
     },
     "metadata": {},
     "output_type": "display_data"
    },
    {
     "data": {
      "text/html": [
       " View project at <a href='https://wandb.ai/azizi-causal-perturb/SDCI_new_sim' target=\"_blank\">https://wandb.ai/azizi-causal-perturb/SDCI_new_sim</a>"
      ],
      "text/plain": [
       "<IPython.core.display.HTML object>"
      ]
     },
     "metadata": {},
     "output_type": "display_data"
    },
    {
     "data": {
      "text/html": [
       " View run at <a href='https://wandb.ai/azizi-causal-perturb/SDCI_new_sim/runs/8337i6aq' target=\"_blank\">https://wandb.ai/azizi-causal-perturb/SDCI_new_sim/runs/8337i6aq</a>"
      ],
      "text/plain": [
       "<IPython.core.display.HTML object>"
      ]
     },
     "metadata": {},
     "output_type": "display_data"
    },
    {
     "name": "stderr",
     "output_type": "stream",
     "text": [
      "/home/justin/miniconda3/envs/cp/lib/python3.9/site-packages/torch/optim/optimizer.py:243: UserWarning: 'has_cuda' is deprecated, please use 'torch.backends.cuda.is_built()'\n",
      "  if not is_compiling() and torch.has_cuda and torch.cuda.is_available():\n"
     ]
    },
    {
     "name": "stdout",
     "output_type": "stream",
     "text": [
      "Epoch 0: loss=66.86, score=250, shd=250.0, gamma=0.00\n",
      "Epoch 100: loss=49.35, score=252, shd=252.0, gamma=0.00\n",
      "Epoch 200: loss=49.34, score=253, shd=253.0, gamma=0.00\n",
      "Epoch 300: loss=49.34, score=250, shd=250.0, gamma=0.00\n",
      "Epoch 400: loss=49.34, score=249, shd=249.0, gamma=0.00\n",
      "Epoch 500: loss=49.33, score=249, shd=249.0, gamma=0.00\n",
      "Epoch 600: loss=49.33, score=249, shd=249.0, gamma=0.00\n",
      "Epoch 700: loss=49.33, score=249, shd=249.0, gamma=0.00\n",
      "Epoch 800: loss=49.33, score=248, shd=248.0, gamma=0.00\n",
      "Epoch 900: loss=49.33, score=249, shd=249.0, gamma=0.00\n",
      "Recall of mask: 0.772\n",
      "Fraction of possible edges in mask: 0.224\n",
      "Epoch 0: loss=64.42, score=400, shd=400.0, gamma=0.00\n",
      "Epoch 100: loss=59.36, score=239, shd=239.0, gamma=30.03\n",
      "Epoch 200: loss=59.33, score=238, shd=238.0, gamma=30.03\n",
      "Epoch 300: loss=59.32, score=239, shd=239.0, gamma=30.03\n",
      "Epoch 400: loss=59.36, score=237, shd=237.0, gamma=30.03\n",
      "Epoch 500: loss=59.34, score=238, shd=238.0, gamma=30.03\n",
      "Epoch 600: loss=59.33, score=240, shd=240.0, gamma=30.03\n",
      "Epoch 700: loss=59.33, score=238, shd=238.0, gamma=30.03\n",
      "Epoch 800: loss=59.33, score=236, shd=236.0, gamma=30.03\n",
      "Epoch 900: loss=59.34, score=237, shd=237.0, gamma=30.03\n",
      "Finished training in 67.89204788208008 seconds.\n"
     ]
    },
    {
     "data": {
      "text/html": [
       "Waiting for W&B process to finish... <strong style=\"color:green\">(success).</strong>"
      ],
      "text/plain": [
       "<IPython.core.display.HTML object>"
      ]
     },
     "metadata": {},
     "output_type": "display_data"
    },
    {
     "data": {
      "text/html": [
       "<style>\n",
       "    table.wandb td:nth-child(1) { padding: 0 10px; text-align: left ; width: auto;} td:nth-child(2) {text-align: left ; width: 100%}\n",
       "    .wandb-row { display: flex; flex-direction: row; flex-wrap: wrap; justify-content: flex-start; width: 100% }\n",
       "    .wandb-col { display: flex; flex-direction: column; flex-basis: 100%; flex: 1; padding: 10px; }\n",
       "    </style>\n",
       "<div class=\"wandb-row\"><div class=\"wandb-col\"><h3>Run history:</h3><br/><table class=\"wandb\"><tr><td>alpha</td><td>██████████▁▁▁▁▁▁▁▁▁▁</td></tr><tr><td>dag</td><td>▁▁▁▁▁▁▁▁▁▁█▂▂▂▂▂▂▂▂▂</td></tr><tr><td>epoch</td><td>▁▁▂▂▂▃▃▄▄▄▅▅▅▆▆▇▇▇██</td></tr><tr><td>epoch_loss</td><td>█▁▁▁▁▁▁▁▁▁▇▅▅▅▅▅▅▅▅▅</td></tr><tr><td>gamma</td><td>▁▁▁▁▁▁▁▁▁▁▁█████████</td></tr><tr><td>is_prescreen</td><td>██████████▁▁▁▁▁▁▁▁▁▁</td></tr><tr><td>l1</td><td>▃█████████▂▁▁▁▁▁▁▁▁▁</td></tr><tr><td>l2</td><td>▁▄▄▄▄▄▄▄▄▄▁█████████</td></tr><tr><td>n_edges_pred</td><td>▁▅▅▅▅▅▅▅▅▅█▁▁▁▁▁▁▁▁▁</td></tr><tr><td>nll</td><td>█▁▁▁▁▁▁▁▁▁▇▂▂▂▂▂▂▂▂▂</td></tr><tr><td>precision</td><td>▁▅▅▅▅▅▅▅▅▅▄▇█▇██▇███</td></tr><tr><td>recall</td><td>▁▇▇▇▇▇▇▇▇▇█▂▂▂▂▂▁▂▂▂</td></tr><tr><td>score</td><td>▂▂▂▂▂▂▂▂▂▂█▁▁▁▁▁▁▁▁▁</td></tr><tr><td>shd</td><td>▂▂▂▂▂▂▂▂▂▂█▁▁▁▁▁▁▁▁▁</td></tr></table><br/></div><div class=\"wandb-col\"><h3>Run summary:</h3><br/><table class=\"wandb\"><tr><td>alpha</td><td>1e-05</td></tr><tr><td>dag</td><td>0.13101</td></tr><tr><td>epoch</td><td>1900</td></tr><tr><td>epoch_loss</td><td>59.34263</td></tr><tr><td>gamma</td><td>30.03003</td></tr><tr><td>is_prescreen</td><td>0</td></tr><tr><td>l1</td><td>0.00088</td></tr><tr><td>l2</td><td>4.0037</td></tr><tr><td>n_edges_pred</td><td>17</td></tr><tr><td>nll</td><td>51.40384</td></tr><tr><td>precision</td><td>0.88235</td></tr><tr><td>recall</td><td>0.06</td></tr><tr><td>score</td><td>237</td></tr><tr><td>shd</td><td>237.0</td></tr></table><br/></div></div>"
      ],
      "text/plain": [
       "<IPython.core.display.HTML object>"
      ]
     },
     "metadata": {},
     "output_type": "display_data"
    },
    {
     "data": {
      "text/html": [
       " View run <strong style=\"color:#cdcd00\">SDCI_pf-0.5_mv-unit_ss-True_alpham-0.001</strong> at: <a href='https://wandb.ai/azizi-causal-perturb/SDCI_new_sim/runs/8337i6aq' target=\"_blank\">https://wandb.ai/azizi-causal-perturb/SDCI_new_sim/runs/8337i6aq</a><br/>Synced 6 W&B file(s), 0 media file(s), 0 artifact file(s) and 0 other file(s)"
      ],
      "text/plain": [
       "<IPython.core.display.HTML object>"
      ]
     },
     "metadata": {},
     "output_type": "display_data"
    },
    {
     "data": {
      "text/html": [
       "Find logs at: <code>./wandb/run-20230712_221557-8337i6aq/logs</code>"
      ],
      "text/plain": [
       "<IPython.core.display.HTML object>"
      ]
     },
     "metadata": {},
     "output_type": "display_data"
    },
    {
     "data": {
      "application/vnd.jupyter.widget-view+json": {
       "model_id": "620a89c7f079440db0b4b7f82c9915d3",
       "version_major": 2,
       "version_minor": 0
      },
      "text/plain": [
       "VBox(children=(Label(value='Waiting for wandb.init()...\\r'), FloatProgress(value=0.016669643033916753, max=1.0…"
      ]
     },
     "metadata": {},
     "output_type": "display_data"
    },
    {
     "data": {
      "text/html": [
       "wandb version 0.15.5 is available!  To upgrade, please run:\n",
       " $ pip install wandb --upgrade"
      ],
      "text/plain": [
       "<IPython.core.display.HTML object>"
      ]
     },
     "metadata": {},
     "output_type": "display_data"
    },
    {
     "data": {
      "text/html": [
       "Tracking run with wandb version 0.15.2"
      ],
      "text/plain": [
       "<IPython.core.display.HTML object>"
      ]
     },
     "metadata": {},
     "output_type": "display_data"
    },
    {
     "data": {
      "text/html": [
       "Run data is saved locally in <code>/home/justin/ghrepos/causal-perturbseq/notebooks/wandb/run-20230712_221712-og6rba19</code>"
      ],
      "text/plain": [
       "<IPython.core.display.HTML object>"
      ]
     },
     "metadata": {},
     "output_type": "display_data"
    },
    {
     "data": {
      "text/html": [
       "Syncing run <strong><a href='https://wandb.ai/azizi-causal-perturb/SDCI_new_sim/runs/og6rba19' target=\"_blank\">SDCI_pf-0.5_mv-unit_ss-False_alpham-1</a></strong> to <a href='https://wandb.ai/azizi-causal-perturb/SDCI_new_sim' target=\"_blank\">Weights & Biases</a> (<a href='https://wandb.me/run' target=\"_blank\">docs</a>)<br/>"
      ],
      "text/plain": [
       "<IPython.core.display.HTML object>"
      ]
     },
     "metadata": {},
     "output_type": "display_data"
    },
    {
     "data": {
      "text/html": [
       " View project at <a href='https://wandb.ai/azizi-causal-perturb/SDCI_new_sim' target=\"_blank\">https://wandb.ai/azizi-causal-perturb/SDCI_new_sim</a>"
      ],
      "text/plain": [
       "<IPython.core.display.HTML object>"
      ]
     },
     "metadata": {},
     "output_type": "display_data"
    },
    {
     "data": {
      "text/html": [
       " View run at <a href='https://wandb.ai/azizi-causal-perturb/SDCI_new_sim/runs/og6rba19' target=\"_blank\">https://wandb.ai/azizi-causal-perturb/SDCI_new_sim/runs/og6rba19</a>"
      ],
      "text/plain": [
       "<IPython.core.display.HTML object>"
      ]
     },
     "metadata": {},
     "output_type": "display_data"
    },
    {
     "name": "stderr",
     "output_type": "stream",
     "text": [
      "/home/justin/miniconda3/envs/cp/lib/python3.9/site-packages/torch/optim/optimizer.py:243: UserWarning: 'has_cuda' is deprecated, please use 'torch.backends.cuda.is_built()'\n",
      "  if not is_compiling() and torch.has_cuda and torch.cuda.is_available():\n"
     ]
    },
    {
     "name": "stdout",
     "output_type": "stream",
     "text": [
      "Epoch 0: loss=69.32, score=250, shd=250.0, gamma=0.00\n",
      "Epoch 100: loss=53.18, score=203, shd=203.0, gamma=0.00\n",
      "Epoch 200: loss=52.78, score=196, shd=196.0, gamma=0.00\n",
      "Epoch 300: loss=52.63, score=192, shd=192.0, gamma=0.00\n",
      "Epoch 400: loss=52.57, score=193, shd=193.0, gamma=0.00\n",
      "Epoch 500: loss=52.56, score=194, shd=194.0, gamma=0.00\n",
      "Epoch 600: loss=52.56, score=195, shd=195.0, gamma=0.00\n",
      "Epoch 700: loss=52.56, score=195, shd=195.0, gamma=0.00\n",
      "Epoch 800: loss=52.56, score=195, shd=195.0, gamma=0.00\n",
      "Epoch 900: loss=52.55, score=195, shd=195.0, gamma=0.00\n",
      "Recall of mask: 0.532\n",
      "Fraction of possible edges in mask: 0.0888\n",
      "Epoch 0: loss=67.36, score=210, shd=210.0, gamma=0.00\n",
      "Epoch 100: loss=61.30, score=221, shd=221.0, gamma=30.03\n",
      "Epoch 200: loss=61.26, score=217, shd=217.0, gamma=30.03\n",
      "Epoch 300: loss=61.23, score=220, shd=220.0, gamma=30.03\n",
      "Epoch 400: loss=61.23, score=221, shd=221.0, gamma=30.03\n",
      "Epoch 500: loss=61.22, score=222, shd=222.0, gamma=30.03\n",
      "Epoch 600: loss=61.21, score=219, shd=219.0, gamma=30.03\n",
      "Epoch 700: loss=61.20, score=216, shd=216.0, gamma=30.03\n",
      "Epoch 800: loss=61.19, score=219, shd=219.0, gamma=30.03\n",
      "Epoch 900: loss=61.20, score=218, shd=218.0, gamma=30.03\n",
      "Finished training in 68.31213021278381 seconds.\n"
     ]
    },
    {
     "data": {
      "text/html": [
       "Waiting for W&B process to finish... <strong style=\"color:green\">(success).</strong>"
      ],
      "text/plain": [
       "<IPython.core.display.HTML object>"
      ]
     },
     "metadata": {},
     "output_type": "display_data"
    },
    {
     "data": {
      "text/html": [
       "<style>\n",
       "    table.wandb td:nth-child(1) { padding: 0 10px; text-align: left ; width: auto;} td:nth-child(2) {text-align: left ; width: 100%}\n",
       "    .wandb-row { display: flex; flex-direction: row; flex-wrap: wrap; justify-content: flex-start; width: 100% }\n",
       "    .wandb-col { display: flex; flex-direction: column; flex-basis: 100%; flex: 1; padding: 10px; }\n",
       "    </style>\n",
       "<div class=\"wandb-row\"><div class=\"wandb-col\"><h3>Run history:</h3><br/><table class=\"wandb\"><tr><td>alpha</td><td>██████████▁▁▁▁▁▁▁▁▁▁</td></tr><tr><td>dag</td><td>▁▁▁▁▁▁▁▁▁▁█▄▄▄▄▄▄▄▄▄</td></tr><tr><td>epoch</td><td>▁▁▂▂▂▃▃▄▄▄▅▅▅▆▆▇▇▇██</td></tr><tr><td>epoch_loss</td><td>█▁▁▁▁▁▁▁▁▁▇▅▅▅▅▅▅▅▅▅</td></tr><tr><td>gamma</td><td>▁▁▁▁▁▁▁▁▁▁▁█████████</td></tr><tr><td>is_prescreen</td><td>██████████▁▁▁▁▁▁▁▁▁▁</td></tr><tr><td>l1</td><td>▅█▇▆▆▆▆▆▆▆▂▁▁▁▁▁▁▁▁▁</td></tr><tr><td>l2</td><td>▁▄▄▅▅▅▅▅▅▅▁█████████</td></tr><tr><td>n_edges_pred</td><td>▁▆▆▆▆▆▆▆▆▆█▂▃▂▂▂▂▃▂▂</td></tr><tr><td>nll</td><td>█▁▁▁▁▁▁▁▁▁█▃▃▃▃▃▃▃▃▃</td></tr><tr><td>precision</td><td>▁▆▆▆▆▆▆▆▆▆▆█████████</td></tr><tr><td>recall</td><td>▁▆▇▇▇▇▇▇▇▇█▃▃▃▃▃▃▃▃▃</td></tr><tr><td>score</td><td>█▂▁▁▁▁▁▁▁▁▃▅▄▄▅▅▄▄▄▄</td></tr><tr><td>shd</td><td>█▂▁▁▁▁▁▁▁▁▃▅▄▄▅▅▄▄▄▄</td></tr></table><br/></div><div class=\"wandb-col\"><h3>Run summary:</h3><br/><table class=\"wandb\"><tr><td>alpha</td><td>0.005</td></tr><tr><td>dag</td><td>0.12903</td></tr><tr><td>epoch</td><td>1900</td></tr><tr><td>epoch_loss</td><td>61.20327</td></tr><tr><td>gamma</td><td>30.03003</td></tr><tr><td>is_prescreen</td><td>0</td></tr><tr><td>l1</td><td>0.50182</td></tr><tr><td>l2</td><td>4.282</td></tr><tr><td>n_edges_pred</td><td>42</td></tr><tr><td>nll</td><td>52.54472</td></tr><tr><td>precision</td><td>0.88095</td></tr><tr><td>recall</td><td>0.148</td></tr><tr><td>score</td><td>218</td></tr><tr><td>shd</td><td>218.0</td></tr></table><br/></div></div>"
      ],
      "text/plain": [
       "<IPython.core.display.HTML object>"
      ]
     },
     "metadata": {},
     "output_type": "display_data"
    },
    {
     "data": {
      "text/html": [
       " View run <strong style=\"color:#cdcd00\">SDCI_pf-0.5_mv-unit_ss-False_alpham-1</strong> at: <a href='https://wandb.ai/azizi-causal-perturb/SDCI_new_sim/runs/og6rba19' target=\"_blank\">https://wandb.ai/azizi-causal-perturb/SDCI_new_sim/runs/og6rba19</a><br/>Synced 6 W&B file(s), 0 media file(s), 0 artifact file(s) and 0 other file(s)"
      ],
      "text/plain": [
       "<IPython.core.display.HTML object>"
      ]
     },
     "metadata": {},
     "output_type": "display_data"
    },
    {
     "data": {
      "text/html": [
       "Find logs at: <code>./wandb/run-20230712_221712-og6rba19/logs</code>"
      ],
      "text/plain": [
       "<IPython.core.display.HTML object>"
      ]
     },
     "metadata": {},
     "output_type": "display_data"
    },
    {
     "data": {
      "text/html": [
       "wandb version 0.15.5 is available!  To upgrade, please run:\n",
       " $ pip install wandb --upgrade"
      ],
      "text/plain": [
       "<IPython.core.display.HTML object>"
      ]
     },
     "metadata": {},
     "output_type": "display_data"
    },
    {
     "data": {
      "text/html": [
       "Tracking run with wandb version 0.15.2"
      ],
      "text/plain": [
       "<IPython.core.display.HTML object>"
      ]
     },
     "metadata": {},
     "output_type": "display_data"
    },
    {
     "data": {
      "text/html": [
       "Run data is saved locally in <code>/home/justin/ghrepos/causal-perturbseq/notebooks/wandb/run-20230712_221829-4ar9ajga</code>"
      ],
      "text/plain": [
       "<IPython.core.display.HTML object>"
      ]
     },
     "metadata": {},
     "output_type": "display_data"
    },
    {
     "data": {
      "text/html": [
       "Syncing run <strong><a href='https://wandb.ai/azizi-causal-perturb/SDCI_new_sim/runs/4ar9ajga' target=\"_blank\">SDCI_pf-0.5_mv-unit_ss-False_alpham-0.1</a></strong> to <a href='https://wandb.ai/azizi-causal-perturb/SDCI_new_sim' target=\"_blank\">Weights & Biases</a> (<a href='https://wandb.me/run' target=\"_blank\">docs</a>)<br/>"
      ],
      "text/plain": [
       "<IPython.core.display.HTML object>"
      ]
     },
     "metadata": {},
     "output_type": "display_data"
    },
    {
     "data": {
      "text/html": [
       " View project at <a href='https://wandb.ai/azizi-causal-perturb/SDCI_new_sim' target=\"_blank\">https://wandb.ai/azizi-causal-perturb/SDCI_new_sim</a>"
      ],
      "text/plain": [
       "<IPython.core.display.HTML object>"
      ]
     },
     "metadata": {},
     "output_type": "display_data"
    },
    {
     "data": {
      "text/html": [
       " View run at <a href='https://wandb.ai/azizi-causal-perturb/SDCI_new_sim/runs/4ar9ajga' target=\"_blank\">https://wandb.ai/azizi-causal-perturb/SDCI_new_sim/runs/4ar9ajga</a>"
      ],
      "text/plain": [
       "<IPython.core.display.HTML object>"
      ]
     },
     "metadata": {},
     "output_type": "display_data"
    },
    {
     "name": "stderr",
     "output_type": "stream",
     "text": [
      "/home/justin/miniconda3/envs/cp/lib/python3.9/site-packages/torch/optim/optimizer.py:243: UserWarning: 'has_cuda' is deprecated, please use 'torch.backends.cuda.is_built()'\n",
      "  if not is_compiling() and torch.has_cuda and torch.cuda.is_available():\n"
     ]
    },
    {
     "name": "stdout",
     "output_type": "stream",
     "text": [
      "Epoch 0: loss=67.04, score=250, shd=250.0, gamma=0.00\n",
      "Epoch 100: loss=50.05, score=215, shd=215.0, gamma=0.00\n",
      "Epoch 200: loss=50.01, score=214, shd=214.0, gamma=0.00\n",
      "Epoch 300: loss=49.99, score=209, shd=209.0, gamma=0.00\n",
      "Epoch 400: loss=49.98, score=211, shd=211.0, gamma=0.00\n",
      "Epoch 500: loss=49.98, score=209, shd=209.0, gamma=0.00\n",
      "Epoch 600: loss=49.97, score=206, shd=206.0, gamma=0.00\n",
      "Epoch 700: loss=49.97, score=206, shd=206.0, gamma=0.00\n",
      "Epoch 800: loss=49.97, score=210, shd=210.0, gamma=0.00\n",
      "Epoch 900: loss=49.96, score=209, shd=209.0, gamma=0.00\n",
      "Recall of mask: 0.692\n",
      "Fraction of possible edges in mask: 0.1548\n",
      "Epoch 0: loss=65.35, score=286, shd=286.0, gamma=0.00\n",
      "Epoch 100: loss=59.73, score=231, shd=231.0, gamma=30.03\n",
      "Epoch 200: loss=59.73, score=233, shd=233.0, gamma=30.03\n",
      "Epoch 300: loss=59.70, score=235, shd=235.0, gamma=30.03\n",
      "Epoch 400: loss=59.69, score=236, shd=236.0, gamma=30.03\n",
      "Epoch 500: loss=59.72, score=236, shd=236.0, gamma=30.03\n",
      "Epoch 600: loss=59.71, score=233, shd=233.0, gamma=30.03\n",
      "Epoch 700: loss=59.70, score=231, shd=231.0, gamma=30.03\n",
      "Epoch 800: loss=59.71, score=236, shd=236.0, gamma=30.03\n",
      "Epoch 900: loss=59.71, score=231, shd=231.0, gamma=30.03\n",
      "Finished training in 69.1335973739624 seconds.\n"
     ]
    },
    {
     "data": {
      "text/html": [
       "Waiting for W&B process to finish... <strong style=\"color:green\">(success).</strong>"
      ],
      "text/plain": [
       "<IPython.core.display.HTML object>"
      ]
     },
     "metadata": {},
     "output_type": "display_data"
    },
    {
     "data": {
      "text/html": [
       "<style>\n",
       "    table.wandb td:nth-child(1) { padding: 0 10px; text-align: left ; width: auto;} td:nth-child(2) {text-align: left ; width: 100%}\n",
       "    .wandb-row { display: flex; flex-direction: row; flex-wrap: wrap; justify-content: flex-start; width: 100% }\n",
       "    .wandb-col { display: flex; flex-direction: column; flex-basis: 100%; flex: 1; padding: 10px; }\n",
       "    </style>\n",
       "<div class=\"wandb-row\"><div class=\"wandb-col\"><h3>Run history:</h3><br/><table class=\"wandb\"><tr><td>alpha</td><td>██████████▁▁▁▁▁▁▁▁▁▁</td></tr><tr><td>dag</td><td>▁▁▁▁▁▁▁▁▁▁█▂▂▂▂▂▂▂▂▂</td></tr><tr><td>epoch</td><td>▁▁▂▂▂▃▃▄▄▄▅▅▅▆▆▇▇▇██</td></tr><tr><td>epoch_loss</td><td>█▁▁▁▁▁▁▁▁▁▇▅▅▅▅▅▅▅▅▅</td></tr><tr><td>gamma</td><td>▁▁▁▁▁▁▁▁▁▁▁█████████</td></tr><tr><td>is_prescreen</td><td>██████████▁▁▁▁▁▁▁▁▁▁</td></tr><tr><td>l1</td><td>▄██▇▇▇▇▇▇▇▂▁▁▁▁▁▁▁▁▁</td></tr><tr><td>l2</td><td>▁▃▄▄▄▄▄▄▄▄▁█████████</td></tr><tr><td>n_edges_pred</td><td>▁▅▆▆▆▆▆▆▆▆█▂▂▂▂▂▂▂▂▂</td></tr><tr><td>nll</td><td>█▁▁▁▁▁▁▁▁▁▇▂▂▂▂▂▂▂▂▂</td></tr><tr><td>precision</td><td>▁▆▆▆▆▆▆▆▆▆▅█████████</td></tr><tr><td>recall</td><td>▁▇▇▇▇▇▇▇▇▇█▂▂▂▂▂▂▂▂▂</td></tr><tr><td>score</td><td>▅▂▂▁▁▁▁▁▁▁█▃▃▄▄▄▃▃▄▃</td></tr><tr><td>shd</td><td>▅▂▂▁▁▁▁▁▁▁█▃▃▄▄▄▃▃▄▃</td></tr></table><br/></div><div class=\"wandb-col\"><h3>Run summary:</h3><br/><table class=\"wandb\"><tr><td>alpha</td><td>0.0005</td></tr><tr><td>dag</td><td>0.13268</td></tr><tr><td>epoch</td><td>1900</td></tr><tr><td>epoch_loss</td><td>59.70862</td></tr><tr><td>gamma</td><td>30.03003</td></tr><tr><td>is_prescreen</td><td>0</td></tr><tr><td>l1</td><td>0.07757</td></tr><tr><td>l2</td><td>4.11371</td></tr><tr><td>n_edges_pred</td><td>33</td></tr><tr><td>nll</td><td>51.53293</td></tr><tr><td>precision</td><td>0.78788</td></tr><tr><td>recall</td><td>0.104</td></tr><tr><td>score</td><td>231</td></tr><tr><td>shd</td><td>231.0</td></tr></table><br/></div></div>"
      ],
      "text/plain": [
       "<IPython.core.display.HTML object>"
      ]
     },
     "metadata": {},
     "output_type": "display_data"
    },
    {
     "data": {
      "text/html": [
       " View run <strong style=\"color:#cdcd00\">SDCI_pf-0.5_mv-unit_ss-False_alpham-0.1</strong> at: <a href='https://wandb.ai/azizi-causal-perturb/SDCI_new_sim/runs/4ar9ajga' target=\"_blank\">https://wandb.ai/azizi-causal-perturb/SDCI_new_sim/runs/4ar9ajga</a><br/>Synced 6 W&B file(s), 0 media file(s), 0 artifact file(s) and 0 other file(s)"
      ],
      "text/plain": [
       "<IPython.core.display.HTML object>"
      ]
     },
     "metadata": {},
     "output_type": "display_data"
    },
    {
     "data": {
      "text/html": [
       "Find logs at: <code>./wandb/run-20230712_221829-4ar9ajga/logs</code>"
      ],
      "text/plain": [
       "<IPython.core.display.HTML object>"
      ]
     },
     "metadata": {},
     "output_type": "display_data"
    },
    {
     "data": {
      "application/vnd.jupyter.widget-view+json": {
       "model_id": "5228bbb211e942b782ebcd12000a507e",
       "version_major": 2,
       "version_minor": 0
      },
      "text/plain": [
       "VBox(children=(Label(value='Waiting for wandb.init()...\\r'), FloatProgress(value=0.01666952782931427, max=1.0)…"
      ]
     },
     "metadata": {},
     "output_type": "display_data"
    },
    {
     "data": {
      "text/html": [
       "wandb version 0.15.5 is available!  To upgrade, please run:\n",
       " $ pip install wandb --upgrade"
      ],
      "text/plain": [
       "<IPython.core.display.HTML object>"
      ]
     },
     "metadata": {},
     "output_type": "display_data"
    },
    {
     "data": {
      "text/html": [
       "Tracking run with wandb version 0.15.2"
      ],
      "text/plain": [
       "<IPython.core.display.HTML object>"
      ]
     },
     "metadata": {},
     "output_type": "display_data"
    },
    {
     "data": {
      "text/html": [
       "Run data is saved locally in <code>/home/justin/ghrepos/causal-perturbseq/notebooks/wandb/run-20230712_221947-ouru72rg</code>"
      ],
      "text/plain": [
       "<IPython.core.display.HTML object>"
      ]
     },
     "metadata": {},
     "output_type": "display_data"
    },
    {
     "data": {
      "text/html": [
       "Syncing run <strong><a href='https://wandb.ai/azizi-causal-perturb/SDCI_new_sim/runs/ouru72rg' target=\"_blank\">SDCI_pf-0.5_mv-unit_ss-False_alpham-0.01</a></strong> to <a href='https://wandb.ai/azizi-causal-perturb/SDCI_new_sim' target=\"_blank\">Weights & Biases</a> (<a href='https://wandb.me/run' target=\"_blank\">docs</a>)<br/>"
      ],
      "text/plain": [
       "<IPython.core.display.HTML object>"
      ]
     },
     "metadata": {},
     "output_type": "display_data"
    },
    {
     "data": {
      "text/html": [
       " View project at <a href='https://wandb.ai/azizi-causal-perturb/SDCI_new_sim' target=\"_blank\">https://wandb.ai/azizi-causal-perturb/SDCI_new_sim</a>"
      ],
      "text/plain": [
       "<IPython.core.display.HTML object>"
      ]
     },
     "metadata": {},
     "output_type": "display_data"
    },
    {
     "data": {
      "text/html": [
       " View run at <a href='https://wandb.ai/azizi-causal-perturb/SDCI_new_sim/runs/ouru72rg' target=\"_blank\">https://wandb.ai/azizi-causal-perturb/SDCI_new_sim/runs/ouru72rg</a>"
      ],
      "text/plain": [
       "<IPython.core.display.HTML object>"
      ]
     },
     "metadata": {},
     "output_type": "display_data"
    },
    {
     "name": "stderr",
     "output_type": "stream",
     "text": [
      "/home/justin/miniconda3/envs/cp/lib/python3.9/site-packages/torch/optim/optimizer.py:243: UserWarning: 'has_cuda' is deprecated, please use 'torch.backends.cuda.is_built()'\n",
      "  if not is_compiling() and torch.has_cuda and torch.cuda.is_available():\n"
     ]
    },
    {
     "name": "stdout",
     "output_type": "stream",
     "text": [
      "Epoch 0: loss=66.71, score=250, shd=250.0, gamma=0.00\n",
      "Epoch 100: loss=49.31, score=231, shd=231.0, gamma=0.00\n",
      "Epoch 200: loss=49.29, score=232, shd=232.0, gamma=0.00\n",
      "Epoch 300: loss=49.29, score=229, shd=229.0, gamma=0.00\n",
      "Epoch 400: loss=49.29, score=230, shd=230.0, gamma=0.00\n",
      "Epoch 500: loss=49.29, score=229, shd=229.0, gamma=0.00\n",
      "Epoch 700: loss=49.29, score=228, shd=228.0, gamma=0.00\n",
      "Epoch 800: loss=49.29, score=227, shd=227.0, gamma=0.00\n",
      "Epoch 900: loss=49.29, score=227, shd=227.0, gamma=0.00\n",
      "Recall of mask: 0.768\n",
      "Fraction of possible edges in mask: 0.2052\n",
      "Epoch 0: loss=64.12, score=366, shd=366.0, gamma=0.00\n",
      "Epoch 100: loss=59.38, score=242, shd=242.0, gamma=30.03\n",
      "Epoch 200: loss=59.34, score=242, shd=242.0, gamma=30.03\n",
      "Epoch 300: loss=59.36, score=243, shd=243.0, gamma=30.03\n",
      "Epoch 400: loss=59.34, score=241, shd=241.0, gamma=30.03\n",
      "Epoch 500: loss=59.35, score=242, shd=242.0, gamma=30.03\n",
      "Epoch 600: loss=59.35, score=243, shd=243.0, gamma=30.03\n",
      "Epoch 700: loss=59.35, score=244, shd=244.0, gamma=30.03\n",
      "Epoch 800: loss=59.34, score=244, shd=244.0, gamma=30.03\n",
      "Epoch 900: loss=59.36, score=243, shd=243.0, gamma=30.03\n",
      "Finished training in 69.04446458816528 seconds.\n"
     ]
    },
    {
     "data": {
      "text/html": [
       "Waiting for W&B process to finish... <strong style=\"color:green\">(success).</strong>"
      ],
      "text/plain": [
       "<IPython.core.display.HTML object>"
      ]
     },
     "metadata": {},
     "output_type": "display_data"
    },
    {
     "data": {
      "application/vnd.jupyter.widget-view+json": {
       "model_id": "63823b37acb7494599d94acab853a3b5",
       "version_major": 2,
       "version_minor": 0
      },
      "text/plain": [
       "VBox(children=(Label(value='0.004 MB of 0.004 MB uploaded (0.000 MB deduped)\\r'), FloatProgress(value=1.0, max…"
      ]
     },
     "metadata": {},
     "output_type": "display_data"
    },
    {
     "data": {
      "text/html": [
       "<style>\n",
       "    table.wandb td:nth-child(1) { padding: 0 10px; text-align: left ; width: auto;} td:nth-child(2) {text-align: left ; width: 100%}\n",
       "    .wandb-row { display: flex; flex-direction: row; flex-wrap: wrap; justify-content: flex-start; width: 100% }\n",
       "    .wandb-col { display: flex; flex-direction: column; flex-basis: 100%; flex: 1; padding: 10px; }\n",
       "    </style>\n",
       "<div class=\"wandb-row\"><div class=\"wandb-col\"><h3>Run history:</h3><br/><table class=\"wandb\"><tr><td>alpha</td><td>██████████▁▁▁▁▁▁▁▁▁▁</td></tr><tr><td>dag</td><td>▁▁▁▁▁▁▁▁▁▁█▂▂▂▂▂▂▂▂▂</td></tr><tr><td>epoch</td><td>▁▁▂▂▂▃▃▄▄▄▅▅▅▆▆▇▇▇██</td></tr><tr><td>epoch_loss</td><td>█▁▁▁▁▁▁▁▁▁▇▅▅▅▅▅▅▅▅▅</td></tr><tr><td>gamma</td><td>▁▁▁▁▁▁▁▁▁▁▁█████████</td></tr><tr><td>is_prescreen</td><td>██████████▁▁▁▁▁▁▁▁▁▁</td></tr><tr><td>l1</td><td>▃█████████▂▁▁▁▁▁▁▁▁▁</td></tr><tr><td>l2</td><td>▁▄▄▄▄▄▄▄▄▄▁█████████</td></tr><tr><td>n_edges_pred</td><td>▁▅▅▅▅▅▅▅▅▅█▁▁▁▁▁▁▁▁▁</td></tr><tr><td>nll</td><td>█▁▁▁▁▁▁▁▁▁▇▂▂▂▂▂▂▂▂▂</td></tr><tr><td>precision</td><td>▁▆▆▆▆▆▆▆▆▆▄██▇███▇▇█</td></tr><tr><td>recall</td><td>▁▇▇▇▇▇▇▇▇▇█▂▂▁▂▂▁▁▁▁</td></tr><tr><td>score</td><td>▂▁▁▁▁▁▁▁▁▁█▂▂▂▂▂▂▂▂▂</td></tr><tr><td>shd</td><td>▂▁▁▁▁▁▁▁▁▁█▂▂▂▂▂▂▂▂▂</td></tr></table><br/></div><div class=\"wandb-col\"><h3>Run summary:</h3><br/><table class=\"wandb\"><tr><td>alpha</td><td>5e-05</td></tr><tr><td>dag</td><td>0.13066</td></tr><tr><td>epoch</td><td>1900</td></tr><tr><td>epoch_loss</td><td>59.35914</td></tr><tr><td>gamma</td><td>30.03003</td></tr><tr><td>is_prescreen</td><td>0</td></tr><tr><td>l1</td><td>0.00855</td></tr><tr><td>l2</td><td>3.98533</td></tr><tr><td>n_edges_pred</td><td>15</td></tr><tr><td>nll</td><td>51.44155</td></tr><tr><td>precision</td><td>0.73333</td></tr><tr><td>recall</td><td>0.044</td></tr><tr><td>score</td><td>243</td></tr><tr><td>shd</td><td>243.0</td></tr></table><br/></div></div>"
      ],
      "text/plain": [
       "<IPython.core.display.HTML object>"
      ]
     },
     "metadata": {},
     "output_type": "display_data"
    },
    {
     "data": {
      "text/html": [
       " View run <strong style=\"color:#cdcd00\">SDCI_pf-0.5_mv-unit_ss-False_alpham-0.01</strong> at: <a href='https://wandb.ai/azizi-causal-perturb/SDCI_new_sim/runs/ouru72rg' target=\"_blank\">https://wandb.ai/azizi-causal-perturb/SDCI_new_sim/runs/ouru72rg</a><br/>Synced 6 W&B file(s), 0 media file(s), 0 artifact file(s) and 0 other file(s)"
      ],
      "text/plain": [
       "<IPython.core.display.HTML object>"
      ]
     },
     "metadata": {},
     "output_type": "display_data"
    },
    {
     "data": {
      "text/html": [
       "Find logs at: <code>./wandb/run-20230712_221947-ouru72rg/logs</code>"
      ],
      "text/plain": [
       "<IPython.core.display.HTML object>"
      ]
     },
     "metadata": {},
     "output_type": "display_data"
    },
    {
     "data": {
      "application/vnd.jupyter.widget-view+json": {
       "model_id": "e2f7451689694362a9f390c07aa5c517",
       "version_major": 2,
       "version_minor": 0
      },
      "text/plain": [
       "VBox(children=(Label(value='Waiting for wandb.init()...\\r'), FloatProgress(value=0.016669701598584653, max=1.0…"
      ]
     },
     "metadata": {},
     "output_type": "display_data"
    },
    {
     "data": {
      "text/html": [
       "wandb version 0.15.5 is available!  To upgrade, please run:\n",
       " $ pip install wandb --upgrade"
      ],
      "text/plain": [
       "<IPython.core.display.HTML object>"
      ]
     },
     "metadata": {},
     "output_type": "display_data"
    },
    {
     "data": {
      "text/html": [
       "Tracking run with wandb version 0.15.2"
      ],
      "text/plain": [
       "<IPython.core.display.HTML object>"
      ]
     },
     "metadata": {},
     "output_type": "display_data"
    },
    {
     "data": {
      "text/html": [
       "Run data is saved locally in <code>/home/justin/ghrepos/causal-perturbseq/notebooks/wandb/run-20230712_222103-wd1aw4we</code>"
      ],
      "text/plain": [
       "<IPython.core.display.HTML object>"
      ]
     },
     "metadata": {},
     "output_type": "display_data"
    },
    {
     "data": {
      "text/html": [
       "Syncing run <strong><a href='https://wandb.ai/azizi-causal-perturb/SDCI_new_sim/runs/wd1aw4we' target=\"_blank\">SDCI_pf-0.5_mv-unit_ss-False_alpham-0.001</a></strong> to <a href='https://wandb.ai/azizi-causal-perturb/SDCI_new_sim' target=\"_blank\">Weights & Biases</a> (<a href='https://wandb.me/run' target=\"_blank\">docs</a>)<br/>"
      ],
      "text/plain": [
       "<IPython.core.display.HTML object>"
      ]
     },
     "metadata": {},
     "output_type": "display_data"
    },
    {
     "data": {
      "text/html": [
       " View project at <a href='https://wandb.ai/azizi-causal-perturb/SDCI_new_sim' target=\"_blank\">https://wandb.ai/azizi-causal-perturb/SDCI_new_sim</a>"
      ],
      "text/plain": [
       "<IPython.core.display.HTML object>"
      ]
     },
     "metadata": {},
     "output_type": "display_data"
    },
    {
     "data": {
      "text/html": [
       " View run at <a href='https://wandb.ai/azizi-causal-perturb/SDCI_new_sim/runs/wd1aw4we' target=\"_blank\">https://wandb.ai/azizi-causal-perturb/SDCI_new_sim/runs/wd1aw4we</a>"
      ],
      "text/plain": [
       "<IPython.core.display.HTML object>"
      ]
     },
     "metadata": {},
     "output_type": "display_data"
    },
    {
     "name": "stderr",
     "output_type": "stream",
     "text": [
      "/home/justin/miniconda3/envs/cp/lib/python3.9/site-packages/torch/optim/optimizer.py:243: UserWarning: 'has_cuda' is deprecated, please use 'torch.backends.cuda.is_built()'\n",
      "  if not is_compiling() and torch.has_cuda and torch.cuda.is_available():\n"
     ]
    },
    {
     "name": "stdout",
     "output_type": "stream",
     "text": [
      "Epoch 0: loss=67.04, score=250, shd=250.0, gamma=0.00\n",
      "Epoch 100: loss=49.29, score=251, shd=251.0, gamma=0.00\n",
      "Epoch 200: loss=49.28, score=247, shd=247.0, gamma=0.00\n",
      "Epoch 300: loss=49.28, score=244, shd=244.0, gamma=0.00\n",
      "Epoch 400: loss=49.28, score=245, shd=245.0, gamma=0.00\n",
      "Epoch 500: loss=49.28, score=242, shd=242.0, gamma=0.00\n",
      "Epoch 600: loss=49.28, score=245, shd=245.0, gamma=0.00\n",
      "Epoch 700: loss=49.28, score=241, shd=241.0, gamma=0.00\n",
      "Epoch 800: loss=49.28, score=243, shd=243.0, gamma=0.00\n",
      "Epoch 900: loss=49.28, score=245, shd=245.0, gamma=0.00\n",
      "Recall of mask: 0.8\n",
      "Fraction of possible edges in mask: 0.2224\n",
      "Epoch 0: loss=5538188.65, score=371, shd=371.0, gamma=0.00\n",
      "Epoch 100: loss=5538183.95, score=241, shd=241.0, gamma=30.03\n",
      "Epoch 200: loss=5538183.90, score=242, shd=242.0, gamma=30.03\n",
      "Epoch 300: loss=5538183.85, score=244, shd=244.0, gamma=30.03\n",
      "Epoch 400: loss=5538183.80, score=242, shd=242.0, gamma=30.03\n",
      "Epoch 500: loss=5538183.90, score=242, shd=242.0, gamma=30.03\n",
      "Epoch 600: loss=5538183.85, score=240, shd=240.0, gamma=30.03\n",
      "Epoch 700: loss=5538183.90, score=240, shd=240.0, gamma=30.03\n",
      "Epoch 800: loss=5538183.85, score=242, shd=242.0, gamma=30.03\n",
      "Epoch 900: loss=5538183.80, score=244, shd=244.0, gamma=30.03\n",
      "Finished training in 68.36663603782654 seconds.\n"
     ]
    },
    {
     "data": {
      "text/html": [
       "Waiting for W&B process to finish... <strong style=\"color:green\">(success).</strong>"
      ],
      "text/plain": [
       "<IPython.core.display.HTML object>"
      ]
     },
     "metadata": {},
     "output_type": "display_data"
    },
    {
     "data": {
      "text/html": [
       "<style>\n",
       "    table.wandb td:nth-child(1) { padding: 0 10px; text-align: left ; width: auto;} td:nth-child(2) {text-align: left ; width: 100%}\n",
       "    .wandb-row { display: flex; flex-direction: row; flex-wrap: wrap; justify-content: flex-start; width: 100% }\n",
       "    .wandb-col { display: flex; flex-direction: column; flex-basis: 100%; flex: 1; padding: 10px; }\n",
       "    </style>\n",
       "<div class=\"wandb-row\"><div class=\"wandb-col\"><h3>Run history:</h3><br/><table class=\"wandb\"><tr><td>alpha</td><td>██████████▁▁▁▁▁▁▁▁▁▁</td></tr><tr><td>dag</td><td>▁▁▁▁▁▁▁▁▁▁█▂▂▂▂▂▂▂▂▂</td></tr><tr><td>epoch</td><td>▁▁▂▂▂▃▃▄▄▄▅▅▅▆▆▇▇▇██</td></tr><tr><td>epoch_loss</td><td>▁▁▁▁▁▁▁▁▁▁██████████</td></tr><tr><td>gamma</td><td>▁▁▁▁▁▁▁▁▁▁▁█████████</td></tr><tr><td>is_prescreen</td><td>██████████▁▁▁▁▁▁▁▁▁▁</td></tr><tr><td>l1</td><td>▃█████████▂▁▁▁▁▁▁▁▁▁</td></tr><tr><td>l2</td><td>▁▁▁▁▁▁▁▁▁▁██████████</td></tr><tr><td>n_edges_pred</td><td>▁▅▅▅▅▅▆▅▅▆█▁▁▁▁▁▁▁▁▁</td></tr><tr><td>nll</td><td>█▁▁▁▁▁▁▁▁▁▇▂▂▂▂▂▂▂▂▂</td></tr><tr><td>precision</td><td>▁▅▅▅▅▅▅▅▅▅▄▇▇▇▇▇██▇▇</td></tr><tr><td>recall</td><td>▁▇▇▇▇▇▇▇▇▇█▁▁▁▁▁▁▁▁▁</td></tr><tr><td>score</td><td>▂▂▁▁▁▁▁▁▁▁█▁▁▁▁▁▁▁▁▁</td></tr><tr><td>shd</td><td>▂▂▁▁▁▁▁▁▁▁█▁▁▁▁▁▁▁▁▁</td></tr></table><br/></div><div class=\"wandb-col\"><h3>Run summary:</h3><br/><table class=\"wandb\"><tr><td>alpha</td><td>1e-05</td></tr><tr><td>dag</td><td>0.13294</td></tr><tr><td>epoch</td><td>1900</td></tr><tr><td>epoch_loss</td><td>5538183.8</td></tr><tr><td>gamma</td><td>30.03003</td></tr><tr><td>is_prescreen</td><td>0</td></tr><tr><td>l1</td><td>0.0009</td></tr><tr><td>l2</td><td>5538128.5</td></tr><tr><td>n_edges_pred</td><td>14</td></tr><tr><td>nll</td><td>51.29846</td></tr><tr><td>precision</td><td>0.71429</td></tr><tr><td>recall</td><td>0.04</td></tr><tr><td>score</td><td>244</td></tr><tr><td>shd</td><td>244.0</td></tr></table><br/></div></div>"
      ],
      "text/plain": [
       "<IPython.core.display.HTML object>"
      ]
     },
     "metadata": {},
     "output_type": "display_data"
    },
    {
     "data": {
      "text/html": [
       " View run <strong style=\"color:#cdcd00\">SDCI_pf-0.5_mv-unit_ss-False_alpham-0.001</strong> at: <a href='https://wandb.ai/azizi-causal-perturb/SDCI_new_sim/runs/wd1aw4we' target=\"_blank\">https://wandb.ai/azizi-causal-perturb/SDCI_new_sim/runs/wd1aw4we</a><br/>Synced 6 W&B file(s), 0 media file(s), 0 artifact file(s) and 0 other file(s)"
      ],
      "text/plain": [
       "<IPython.core.display.HTML object>"
      ]
     },
     "metadata": {},
     "output_type": "display_data"
    },
    {
     "data": {
      "text/html": [
       "Find logs at: <code>./wandb/run-20230712_222103-wd1aw4we/logs</code>"
      ],
      "text/plain": [
       "<IPython.core.display.HTML object>"
      ]
     },
     "metadata": {},
     "output_type": "display_data"
    },
    {
     "data": {
      "application/vnd.jupyter.widget-view+json": {
       "model_id": "d6ca333fea564c49a69859fbdda33d24",
       "version_major": 2,
       "version_minor": 0
      },
      "text/plain": [
       "VBox(children=(Label(value='Waiting for wandb.init()...\\r'), FloatProgress(value=0.01667694328352809, max=1.0)…"
      ]
     },
     "metadata": {},
     "output_type": "display_data"
    },
    {
     "data": {
      "text/html": [
       "wandb version 0.15.5 is available!  To upgrade, please run:\n",
       " $ pip install wandb --upgrade"
      ],
      "text/plain": [
       "<IPython.core.display.HTML object>"
      ]
     },
     "metadata": {},
     "output_type": "display_data"
    },
    {
     "data": {
      "text/html": [
       "Tracking run with wandb version 0.15.2"
      ],
      "text/plain": [
       "<IPython.core.display.HTML object>"
      ]
     },
     "metadata": {},
     "output_type": "display_data"
    },
    {
     "data": {
      "text/html": [
       "Run data is saved locally in <code>/home/justin/ghrepos/causal-perturbseq/notebooks/wandb/run-20230712_222219-cjs8lfy8</code>"
      ],
      "text/plain": [
       "<IPython.core.display.HTML object>"
      ]
     },
     "metadata": {},
     "output_type": "display_data"
    },
    {
     "data": {
      "text/html": [
       "Syncing run <strong><a href='https://wandb.ai/azizi-causal-perturb/SDCI_new_sim/runs/cjs8lfy8' target=\"_blank\">SDCI_pf-0.5_mv-nn_ss-True_alpham-1</a></strong> to <a href='https://wandb.ai/azizi-causal-perturb/SDCI_new_sim' target=\"_blank\">Weights & Biases</a> (<a href='https://wandb.me/run' target=\"_blank\">docs</a>)<br/>"
      ],
      "text/plain": [
       "<IPython.core.display.HTML object>"
      ]
     },
     "metadata": {},
     "output_type": "display_data"
    },
    {
     "data": {
      "text/html": [
       " View project at <a href='https://wandb.ai/azizi-causal-perturb/SDCI_new_sim' target=\"_blank\">https://wandb.ai/azizi-causal-perturb/SDCI_new_sim</a>"
      ],
      "text/plain": [
       "<IPython.core.display.HTML object>"
      ]
     },
     "metadata": {},
     "output_type": "display_data"
    },
    {
     "data": {
      "text/html": [
       " View run at <a href='https://wandb.ai/azizi-causal-perturb/SDCI_new_sim/runs/cjs8lfy8' target=\"_blank\">https://wandb.ai/azizi-causal-perturb/SDCI_new_sim/runs/cjs8lfy8</a>"
      ],
      "text/plain": [
       "<IPython.core.display.HTML object>"
      ]
     },
     "metadata": {},
     "output_type": "display_data"
    },
    {
     "name": "stderr",
     "output_type": "stream",
     "text": [
      "/home/justin/miniconda3/envs/cp/lib/python3.9/site-packages/torch/optim/optimizer.py:243: UserWarning: 'has_cuda' is deprecated, please use 'torch.backends.cuda.is_built()'\n",
      "  if not is_compiling() and torch.has_cuda and torch.cuda.is_available():\n"
     ]
    },
    {
     "name": "stdout",
     "output_type": "stream",
     "text": [
      "Epoch 0: loss=69.97, score=250, shd=250.0, gamma=0.00\n",
      "Epoch 100: loss=5.43, score=178, shd=178.0, gamma=0.00\n",
      "Epoch 200: loss=3.29, score=169, shd=169.0, gamma=0.00\n",
      "Epoch 300: loss=2.58, score=168, shd=168.0, gamma=0.00\n",
      "Epoch 400: loss=2.29, score=168, shd=168.0, gamma=0.00\n",
      "Epoch 500: loss=2.12, score=162, shd=162.0, gamma=0.00\n",
      "Epoch 600: loss=1.98, score=161, shd=161.0, gamma=0.00\n",
      "Epoch 700: loss=1.82, score=160, shd=160.0, gamma=0.00\n",
      "Epoch 800: loss=1.75, score=162, shd=162.0, gamma=0.00\n",
      "Epoch 900: loss=1.70, score=160, shd=160.0, gamma=0.00\n",
      "Recall of mask: 0.928\n",
      "Fraction of possible edges in mask: 0.1968\n",
      "Epoch 0: loss=66.20, score=264, shd=264.0, gamma=0.00\n",
      "Epoch 100: loss=28.10, score=174, shd=174.0, gamma=30.03\n",
      "Epoch 200: loss=35.02, score=210, shd=210.0, gamma=60.06\n",
      "Epoch 300: loss=34.55, score=218, shd=218.0, gamma=60.06\n",
      "Epoch 400: loss=34.52, score=219, shd=219.0, gamma=60.06\n",
      "Epoch 500: loss=34.50, score=220, shd=220.0, gamma=60.06\n",
      "Epoch 600: loss=34.46, score=219, shd=219.0, gamma=60.06\n",
      "Epoch 700: loss=34.27, score=217, shd=217.0, gamma=60.06\n",
      "Epoch 800: loss=34.40, score=218, shd=218.0, gamma=60.06\n",
      "Epoch 900: loss=34.25, score=218, shd=218.0, gamma=60.06\n",
      "Finished training in 77.03657793998718 seconds.\n"
     ]
    },
    {
     "data": {
      "text/html": [
       "Waiting for W&B process to finish... <strong style=\"color:green\">(success).</strong>"
      ],
      "text/plain": [
       "<IPython.core.display.HTML object>"
      ]
     },
     "metadata": {},
     "output_type": "display_data"
    },
    {
     "data": {
      "text/html": [
       "<style>\n",
       "    table.wandb td:nth-child(1) { padding: 0 10px; text-align: left ; width: auto;} td:nth-child(2) {text-align: left ; width: 100%}\n",
       "    .wandb-row { display: flex; flex-direction: row; flex-wrap: wrap; justify-content: flex-start; width: 100% }\n",
       "    .wandb-col { display: flex; flex-direction: column; flex-basis: 100%; flex: 1; padding: 10px; }\n",
       "    </style>\n",
       "<div class=\"wandb-row\"><div class=\"wandb-col\"><h3>Run history:</h3><br/><table class=\"wandb\"><tr><td>alpha</td><td>██████████▁▁▁▁▁▁▁▁▁▁</td></tr><tr><td>dag</td><td>▁▁▁▁▁▁▁▁▁▁█▅▃▃▃▃▃▃▃▃</td></tr><tr><td>epoch</td><td>▁▁▂▂▂▃▃▄▄▄▅▅▅▆▆▇▇▇██</td></tr><tr><td>epoch_loss</td><td>█▁▁▁▁▁▁▁▁▁█▄▄▄▄▄▄▄▄▄</td></tr><tr><td>gamma</td><td>▁▁▁▁▁▁▁▁▁▁▁▅████████</td></tr><tr><td>is_prescreen</td><td>██████████▁▁▁▁▁▁▁▁▁▁</td></tr><tr><td>l1</td><td>▂█████████▂▁▁▁▁▁▁▁▁▁</td></tr><tr><td>l2</td><td>▁▄▄▄▅▅▅▅▅▅▁▆▇███████</td></tr><tr><td>n_edges_pred</td><td>▁██████████▃▂▂▂▂▂▂▂▂</td></tr><tr><td>nll</td><td>█▁▁▁▁▁▁▁▁▁█▃▃▃▃▃▃▃▃▃</td></tr><tr><td>precision</td><td>▁▆▆▆▆▆▆▆▆▆▅█████████</td></tr><tr><td>recall</td><td>▁█████████▆▄▃▂▂▂▂▂▂▂</td></tr><tr><td>score</td><td>▇▂▂▂▂▁▁▁▁▁█▂▄▅▅▅▅▅▅▅</td></tr><tr><td>shd</td><td>▇▂▂▂▂▁▁▁▁▁█▂▄▅▅▅▅▅▅▅</td></tr></table><br/></div><div class=\"wandb-col\"><h3>Run summary:</h3><br/><table class=\"wandb\"><tr><td>alpha</td><td>0.005</td></tr><tr><td>dag</td><td>0.18538</td></tr><tr><td>epoch</td><td>1900</td></tr><tr><td>epoch_loss</td><td>34.24938</td></tr><tr><td>gamma</td><td>60.06006</td></tr><tr><td>is_prescreen</td><td>0</td></tr><tr><td>l1</td><td>0.62565</td></tr><tr><td>l2</td><td>10.99975</td></tr><tr><td>n_edges_pred</td><td>46</td></tr><tr><td>nll</td><td>11.49016</td></tr><tr><td>precision</td><td>0.84783</td></tr><tr><td>recall</td><td>0.156</td></tr><tr><td>score</td><td>218</td></tr><tr><td>shd</td><td>218.0</td></tr></table><br/></div></div>"
      ],
      "text/plain": [
       "<IPython.core.display.HTML object>"
      ]
     },
     "metadata": {},
     "output_type": "display_data"
    },
    {
     "data": {
      "text/html": [
       " View run <strong style=\"color:#cdcd00\">SDCI_pf-0.5_mv-nn_ss-True_alpham-1</strong> at: <a href='https://wandb.ai/azizi-causal-perturb/SDCI_new_sim/runs/cjs8lfy8' target=\"_blank\">https://wandb.ai/azizi-causal-perturb/SDCI_new_sim/runs/cjs8lfy8</a><br/>Synced 6 W&B file(s), 0 media file(s), 0 artifact file(s) and 0 other file(s)"
      ],
      "text/plain": [
       "<IPython.core.display.HTML object>"
      ]
     },
     "metadata": {},
     "output_type": "display_data"
    },
    {
     "data": {
      "text/html": [
       "Find logs at: <code>./wandb/run-20230712_222219-cjs8lfy8/logs</code>"
      ],
      "text/plain": [
       "<IPython.core.display.HTML object>"
      ]
     },
     "metadata": {},
     "output_type": "display_data"
    },
    {
     "data": {
      "application/vnd.jupyter.widget-view+json": {
       "model_id": "8b7b70b98bdf4630b5ada6d324593c50",
       "version_major": 2,
       "version_minor": 0
      },
      "text/plain": [
       "VBox(children=(Label(value='Waiting for wandb.init()...\\r'), FloatProgress(value=0.01666966311944028, max=1.0)…"
      ]
     },
     "metadata": {},
     "output_type": "display_data"
    },
    {
     "data": {
      "text/html": [
       "wandb version 0.15.5 is available!  To upgrade, please run:\n",
       " $ pip install wandb --upgrade"
      ],
      "text/plain": [
       "<IPython.core.display.HTML object>"
      ]
     },
     "metadata": {},
     "output_type": "display_data"
    },
    {
     "data": {
      "text/html": [
       "Tracking run with wandb version 0.15.2"
      ],
      "text/plain": [
       "<IPython.core.display.HTML object>"
      ]
     },
     "metadata": {},
     "output_type": "display_data"
    },
    {
     "data": {
      "text/html": [
       "Run data is saved locally in <code>/home/justin/ghrepos/causal-perturbseq/notebooks/wandb/run-20230712_222344-4fpljtdz</code>"
      ],
      "text/plain": [
       "<IPython.core.display.HTML object>"
      ]
     },
     "metadata": {},
     "output_type": "display_data"
    },
    {
     "data": {
      "text/html": [
       "Syncing run <strong><a href='https://wandb.ai/azizi-causal-perturb/SDCI_new_sim/runs/4fpljtdz' target=\"_blank\">SDCI_pf-0.5_mv-nn_ss-True_alpham-0.1</a></strong> to <a href='https://wandb.ai/azizi-causal-perturb/SDCI_new_sim' target=\"_blank\">Weights & Biases</a> (<a href='https://wandb.me/run' target=\"_blank\">docs</a>)<br/>"
      ],
      "text/plain": [
       "<IPython.core.display.HTML object>"
      ]
     },
     "metadata": {},
     "output_type": "display_data"
    },
    {
     "data": {
      "text/html": [
       " View project at <a href='https://wandb.ai/azizi-causal-perturb/SDCI_new_sim' target=\"_blank\">https://wandb.ai/azizi-causal-perturb/SDCI_new_sim</a>"
      ],
      "text/plain": [
       "<IPython.core.display.HTML object>"
      ]
     },
     "metadata": {},
     "output_type": "display_data"
    },
    {
     "data": {
      "text/html": [
       " View run at <a href='https://wandb.ai/azizi-causal-perturb/SDCI_new_sim/runs/4fpljtdz' target=\"_blank\">https://wandb.ai/azizi-causal-perturb/SDCI_new_sim/runs/4fpljtdz</a>"
      ],
      "text/plain": [
       "<IPython.core.display.HTML object>"
      ]
     },
     "metadata": {},
     "output_type": "display_data"
    },
    {
     "name": "stderr",
     "output_type": "stream",
     "text": [
      "/home/justin/miniconda3/envs/cp/lib/python3.9/site-packages/torch/optim/optimizer.py:243: UserWarning: 'has_cuda' is deprecated, please use 'torch.backends.cuda.is_built()'\n",
      "  if not is_compiling() and torch.has_cuda and torch.cuda.is_available():\n"
     ]
    },
    {
     "name": "stdout",
     "output_type": "stream",
     "text": [
      "Epoch 0: loss=69.31, score=250, shd=250.0, gamma=0.00\n",
      "Epoch 100: loss=-4.86, score=654, shd=654.0, gamma=0.00\n",
      "Epoch 200: loss=-7.05, score=683, shd=683.0, gamma=0.00\n",
      "Epoch 300: loss=-7.92, score=724, shd=724.0, gamma=0.00\n",
      "Epoch 400: loss=-8.36, score=734, shd=734.0, gamma=0.00\n",
      "Epoch 500: loss=-8.63, score=738, shd=738.0, gamma=0.00\n",
      "Epoch 600: loss=-8.78, score=734, shd=734.0, gamma=0.00\n",
      "Epoch 700: loss=-8.96, score=732, shd=732.0, gamma=0.00\n",
      "Epoch 800: loss=-9.16, score=729, shd=729.0, gamma=0.00\n",
      "Epoch 900: loss=-9.26, score=728, shd=728.0, gamma=0.00\n",
      "Recall of mask: 1.0\n",
      "Fraction of possible edges in mask: 0.6484\n",
      "Epoch 0: loss=60.31, score=1037, shd=1037.0, gamma=0.00\n",
      "Epoch 100: loss=25.55, score=226, shd=226.0, gamma=30.03\n",
      "Epoch 200: loss=24.42, score=224, shd=224.0, gamma=30.03\n",
      "Epoch 300: loss=24.28, score=219, shd=219.0, gamma=30.03\n",
      "Epoch 400: loss=23.67, score=222, shd=222.0, gamma=30.03\n",
      "Epoch 500: loss=24.13, score=221, shd=221.0, gamma=30.03\n",
      "Epoch 600: loss=23.88, score=222, shd=222.0, gamma=30.03\n",
      "Epoch 700: loss=23.88, score=222, shd=222.0, gamma=30.03\n",
      "Epoch 800: loss=23.58, score=220, shd=220.0, gamma=30.03\n",
      "Epoch 900: loss=23.72, score=219, shd=219.0, gamma=30.03\n",
      "Finished training in 77.82954406738281 seconds.\n"
     ]
    },
    {
     "data": {
      "text/html": [
       "Waiting for W&B process to finish... <strong style=\"color:green\">(success).</strong>"
      ],
      "text/plain": [
       "<IPython.core.display.HTML object>"
      ]
     },
     "metadata": {},
     "output_type": "display_data"
    },
    {
     "data": {
      "application/vnd.jupyter.widget-view+json": {
       "model_id": "7c3f65d6505140bca33afde0f13b6a92",
       "version_major": 2,
       "version_minor": 0
      },
      "text/plain": [
       "VBox(children=(Label(value='0.004 MB of 0.004 MB uploaded (0.000 MB deduped)\\r'), FloatProgress(value=1.0, max…"
      ]
     },
     "metadata": {},
     "output_type": "display_data"
    },
    {
     "data": {
      "text/html": [
       "<style>\n",
       "    table.wandb td:nth-child(1) { padding: 0 10px; text-align: left ; width: auto;} td:nth-child(2) {text-align: left ; width: 100%}\n",
       "    .wandb-row { display: flex; flex-direction: row; flex-wrap: wrap; justify-content: flex-start; width: 100% }\n",
       "    .wandb-col { display: flex; flex-direction: column; flex-basis: 100%; flex: 1; padding: 10px; }\n",
       "    </style>\n",
       "<div class=\"wandb-row\"><div class=\"wandb-col\"><h3>Run history:</h3><br/><table class=\"wandb\"><tr><td>alpha</td><td>██████████▁▁▁▁▁▁▁▁▁▁</td></tr><tr><td>dag</td><td>▁▁▁▁▁▁▁▁▁▁█▂▂▂▂▂▂▂▂▂</td></tr><tr><td>epoch</td><td>▁▁▂▂▂▃▃▄▄▄▅▅▅▆▆▇▇▇██</td></tr><tr><td>epoch_loss</td><td>█▁▁▁▁▁▁▁▁▁▇▄▄▄▄▄▄▄▄▄</td></tr><tr><td>gamma</td><td>▁▁▁▁▁▁▁▁▁▁▁█████████</td></tr><tr><td>is_prescreen</td><td>██████████▁▁▁▁▁▁▁▁▁▁</td></tr><tr><td>l1</td><td>▂▇████████▂▁▁▁▁▁▁▁▁▁</td></tr><tr><td>l2</td><td>▁▆▇▇▇█████▁▆▇▇▇▇▇▇▇▇</td></tr><tr><td>n_edges_pred</td><td>▁▆▇▇▇▇▇▇▇▇█▁▁▁▁▁▁▁▁▁</td></tr><tr><td>nll</td><td>█▂▁▁▁▁▁▁▁▁▇▃▃▃▃▃▃▃▃▃</td></tr><tr><td>precision</td><td>▁▃▃▃▃▃▃▃▃▃▂█████████</td></tr><tr><td>recall</td><td>▁█████████▆▂▂▂▂▂▂▂▂▂</td></tr><tr><td>score</td><td>▁▅▅▅▅▅▅▅▅▅█▁▁▁▁▁▁▁▁▁</td></tr><tr><td>shd</td><td>▁▅▅▅▅▅▅▅▅▅█▁▁▁▁▁▁▁▁▁</td></tr></table><br/></div><div class=\"wandb-col\"><h3>Run summary:</h3><br/><table class=\"wandb\"><tr><td>alpha</td><td>0.0005</td></tr><tr><td>dag</td><td>0.28624</td></tr><tr><td>epoch</td><td>1900</td></tr><tr><td>epoch_loss</td><td>23.72082</td></tr><tr><td>gamma</td><td>30.03003</td></tr><tr><td>is_prescreen</td><td>0</td></tr><tr><td>l1</td><td>0.11645</td></tr><tr><td>l2</td><td>7.30698</td></tr><tr><td>n_edges_pred</td><td>47</td></tr><tr><td>nll</td><td>7.70166</td></tr><tr><td>precision</td><td>0.82979</td></tr><tr><td>recall</td><td>0.156</td></tr><tr><td>score</td><td>219</td></tr><tr><td>shd</td><td>219.0</td></tr></table><br/></div></div>"
      ],
      "text/plain": [
       "<IPython.core.display.HTML object>"
      ]
     },
     "metadata": {},
     "output_type": "display_data"
    },
    {
     "data": {
      "text/html": [
       " View run <strong style=\"color:#cdcd00\">SDCI_pf-0.5_mv-nn_ss-True_alpham-0.1</strong> at: <a href='https://wandb.ai/azizi-causal-perturb/SDCI_new_sim/runs/4fpljtdz' target=\"_blank\">https://wandb.ai/azizi-causal-perturb/SDCI_new_sim/runs/4fpljtdz</a><br/>Synced 6 W&B file(s), 0 media file(s), 0 artifact file(s) and 0 other file(s)"
      ],
      "text/plain": [
       "<IPython.core.display.HTML object>"
      ]
     },
     "metadata": {},
     "output_type": "display_data"
    },
    {
     "data": {
      "text/html": [
       "Find logs at: <code>./wandb/run-20230712_222344-4fpljtdz/logs</code>"
      ],
      "text/plain": [
       "<IPython.core.display.HTML object>"
      ]
     },
     "metadata": {},
     "output_type": "display_data"
    },
    {
     "data": {
      "application/vnd.jupyter.widget-view+json": {
       "model_id": "56bd7fec6c7f4aa3bc97e22f276927ab",
       "version_major": 2,
       "version_minor": 0
      },
      "text/plain": [
       "VBox(children=(Label(value='Waiting for wandb.init()...\\r'), FloatProgress(value=0.01666988485182325, max=1.0)…"
      ]
     },
     "metadata": {},
     "output_type": "display_data"
    },
    {
     "data": {
      "text/html": [
       "wandb version 0.15.5 is available!  To upgrade, please run:\n",
       " $ pip install wandb --upgrade"
      ],
      "text/plain": [
       "<IPython.core.display.HTML object>"
      ]
     },
     "metadata": {},
     "output_type": "display_data"
    },
    {
     "data": {
      "text/html": [
       "Tracking run with wandb version 0.15.2"
      ],
      "text/plain": [
       "<IPython.core.display.HTML object>"
      ]
     },
     "metadata": {},
     "output_type": "display_data"
    },
    {
     "data": {
      "text/html": [
       "Run data is saved locally in <code>/home/justin/ghrepos/causal-perturbseq/notebooks/wandb/run-20230712_222508-twbzfztb</code>"
      ],
      "text/plain": [
       "<IPython.core.display.HTML object>"
      ]
     },
     "metadata": {},
     "output_type": "display_data"
    },
    {
     "data": {
      "text/html": [
       "Syncing run <strong><a href='https://wandb.ai/azizi-causal-perturb/SDCI_new_sim/runs/twbzfztb' target=\"_blank\">SDCI_pf-0.5_mv-nn_ss-True_alpham-0.01</a></strong> to <a href='https://wandb.ai/azizi-causal-perturb/SDCI_new_sim' target=\"_blank\">Weights & Biases</a> (<a href='https://wandb.me/run' target=\"_blank\">docs</a>)<br/>"
      ],
      "text/plain": [
       "<IPython.core.display.HTML object>"
      ]
     },
     "metadata": {},
     "output_type": "display_data"
    },
    {
     "data": {
      "text/html": [
       " View project at <a href='https://wandb.ai/azizi-causal-perturb/SDCI_new_sim' target=\"_blank\">https://wandb.ai/azizi-causal-perturb/SDCI_new_sim</a>"
      ],
      "text/plain": [
       "<IPython.core.display.HTML object>"
      ]
     },
     "metadata": {},
     "output_type": "display_data"
    },
    {
     "data": {
      "text/html": [
       " View run at <a href='https://wandb.ai/azizi-causal-perturb/SDCI_new_sim/runs/twbzfztb' target=\"_blank\">https://wandb.ai/azizi-causal-perturb/SDCI_new_sim/runs/twbzfztb</a>"
      ],
      "text/plain": [
       "<IPython.core.display.HTML object>"
      ]
     },
     "metadata": {},
     "output_type": "display_data"
    },
    {
     "name": "stderr",
     "output_type": "stream",
     "text": [
      "/home/justin/miniconda3/envs/cp/lib/python3.9/site-packages/torch/optim/optimizer.py:243: UserWarning: 'has_cuda' is deprecated, please use 'torch.backends.cuda.is_built()'\n",
      "  if not is_compiling() and torch.has_cuda and torch.cuda.is_available():\n"
     ]
    },
    {
     "name": "stdout",
     "output_type": "stream",
     "text": [
      "Epoch 0: loss=68.23, score=250, shd=250.0, gamma=0.00\n",
      "Epoch 100: loss=-7.38, score=987, shd=987.0, gamma=0.00\n",
      "Epoch 200: loss=-9.70, score=1079, shd=1079.0, gamma=0.00\n",
      "Epoch 400: loss=-11.21, score=1165, shd=1165.0, gamma=0.00\n",
      "Epoch 500: loss=-11.45, score=1181, shd=1181.0, gamma=0.00\n",
      "Epoch 600: loss=-11.72, score=1190, shd=1190.0, gamma=0.00\n",
      "Epoch 700: loss=-11.83, score=1195, shd=1195.0, gamma=0.00\n",
      "Epoch 800: loss=-11.96, score=1204, shd=1204.0, gamma=0.00\n",
      "Epoch 900: loss=-12.00, score=1198, shd=1198.0, gamma=0.00\n",
      "Recall of mask: 1.0\n",
      "Fraction of possible edges in mask: 0.8744\n",
      "Epoch 0: loss=58.18, score=1358, shd=1358.0, gamma=0.00\n",
      "Epoch 100: loss=25.78, score=235, shd=235.0, gamma=30.03\n",
      "Epoch 200: loss=24.78, score=235, shd=235.0, gamma=30.03\n",
      "Epoch 300: loss=24.94, score=234, shd=234.0, gamma=30.03\n",
      "Epoch 400: loss=24.68, score=235, shd=235.0, gamma=30.03\n",
      "Epoch 500: loss=24.17, score=234, shd=234.0, gamma=30.03\n",
      "Epoch 600: loss=24.23, score=234, shd=234.0, gamma=30.03\n",
      "Epoch 700: loss=24.01, score=234, shd=234.0, gamma=30.03\n",
      "Epoch 800: loss=24.04, score=236, shd=236.0, gamma=30.03\n",
      "Epoch 900: loss=23.93, score=235, shd=235.0, gamma=30.03\n",
      "Finished training in 78.14829659461975 seconds.\n"
     ]
    },
    {
     "data": {
      "text/html": [
       "Waiting for W&B process to finish... <strong style=\"color:green\">(success).</strong>"
      ],
      "text/plain": [
       "<IPython.core.display.HTML object>"
      ]
     },
     "metadata": {},
     "output_type": "display_data"
    },
    {
     "data": {
      "text/html": [
       "<style>\n",
       "    table.wandb td:nth-child(1) { padding: 0 10px; text-align: left ; width: auto;} td:nth-child(2) {text-align: left ; width: 100%}\n",
       "    .wandb-row { display: flex; flex-direction: row; flex-wrap: wrap; justify-content: flex-start; width: 100% }\n",
       "    .wandb-col { display: flex; flex-direction: column; flex-basis: 100%; flex: 1; padding: 10px; }\n",
       "    </style>\n",
       "<div class=\"wandb-row\"><div class=\"wandb-col\"><h3>Run history:</h3><br/><table class=\"wandb\"><tr><td>alpha</td><td>██████████▁▁▁▁▁▁▁▁▁▁</td></tr><tr><td>dag</td><td>▁▁▁▁▁▁▁▁▁▁█▂▂▂▂▂▂▂▂▂</td></tr><tr><td>epoch</td><td>▁▁▂▂▂▃▃▄▄▄▅▅▅▆▆▇▇▇██</td></tr><tr><td>epoch_loss</td><td>█▁▁▁▁▁▁▁▁▁▇▄▄▄▄▄▄▄▄▄</td></tr><tr><td>gamma</td><td>▁▁▁▁▁▁▁▁▁▁▁█████████</td></tr><tr><td>is_prescreen</td><td>██████████▁▁▁▁▁▁▁▁▁▁</td></tr><tr><td>l1</td><td>▂▇████████▂▁▁▁▁▁▁▁▁▁</td></tr><tr><td>l2</td><td>▁▆▇▇▇█████▁▅▆▆▆▆▆▆▆▆</td></tr><tr><td>n_edges_pred</td><td>▁▇▇▇███████▁▁▁▁▁▁▁▁▁</td></tr><tr><td>nll</td><td>█▂▁▁▁▁▁▁▁▁▇▄▃▃▃▃▃▃▃▃</td></tr><tr><td>precision</td><td>▁▃▃▃▃▃▃▃▃▃▂█████████</td></tr><tr><td>recall</td><td>▁█████████▇▂▂▂▂▂▂▂▂▂</td></tr><tr><td>score</td><td>▁▆▆▇▇▇▇▇▇▇█▁▁▁▁▁▁▁▁▁</td></tr><tr><td>shd</td><td>▁▆▆▇▇▇▇▇▇▇█▁▁▁▁▁▁▁▁▁</td></tr></table><br/></div><div class=\"wandb-col\"><h3>Run summary:</h3><br/><table class=\"wandb\"><tr><td>alpha</td><td>5e-05</td></tr><tr><td>dag</td><td>0.28919</td></tr><tr><td>epoch</td><td>1900</td></tr><tr><td>epoch_loss</td><td>23.93414</td></tr><tr><td>gamma</td><td>30.03003</td></tr><tr><td>is_prescreen</td><td>0</td></tr><tr><td>l1</td><td>0.01195</td></tr><tr><td>l2</td><td>7.12106</td></tr><tr><td>n_edges_pred</td><td>33</td></tr><tr><td>nll</td><td>8.11686</td></tr><tr><td>precision</td><td>0.72727</td></tr><tr><td>recall</td><td>0.096</td></tr><tr><td>score</td><td>235</td></tr><tr><td>shd</td><td>235.0</td></tr></table><br/></div></div>"
      ],
      "text/plain": [
       "<IPython.core.display.HTML object>"
      ]
     },
     "metadata": {},
     "output_type": "display_data"
    },
    {
     "data": {
      "text/html": [
       " View run <strong style=\"color:#cdcd00\">SDCI_pf-0.5_mv-nn_ss-True_alpham-0.01</strong> at: <a href='https://wandb.ai/azizi-causal-perturb/SDCI_new_sim/runs/twbzfztb' target=\"_blank\">https://wandb.ai/azizi-causal-perturb/SDCI_new_sim/runs/twbzfztb</a><br/>Synced 6 W&B file(s), 0 media file(s), 0 artifact file(s) and 0 other file(s)"
      ],
      "text/plain": [
       "<IPython.core.display.HTML object>"
      ]
     },
     "metadata": {},
     "output_type": "display_data"
    },
    {
     "data": {
      "text/html": [
       "Find logs at: <code>./wandb/run-20230712_222508-twbzfztb/logs</code>"
      ],
      "text/plain": [
       "<IPython.core.display.HTML object>"
      ]
     },
     "metadata": {},
     "output_type": "display_data"
    },
    {
     "data": {
      "application/vnd.jupyter.widget-view+json": {
       "model_id": "b39001ec493a4cf69de0d7e449db6626",
       "version_major": 2,
       "version_minor": 0
      },
      "text/plain": [
       "VBox(children=(Label(value='Waiting for wandb.init()...\\r'), FloatProgress(value=0.016669582001244028, max=1.0…"
      ]
     },
     "metadata": {},
     "output_type": "display_data"
    },
    {
     "data": {
      "text/html": [
       "wandb version 0.15.5 is available!  To upgrade, please run:\n",
       " $ pip install wandb --upgrade"
      ],
      "text/plain": [
       "<IPython.core.display.HTML object>"
      ]
     },
     "metadata": {},
     "output_type": "display_data"
    },
    {
     "data": {
      "text/html": [
       "Tracking run with wandb version 0.15.2"
      ],
      "text/plain": [
       "<IPython.core.display.HTML object>"
      ]
     },
     "metadata": {},
     "output_type": "display_data"
    },
    {
     "data": {
      "text/html": [
       "Run data is saved locally in <code>/home/justin/ghrepos/causal-perturbseq/notebooks/wandb/run-20230712_222633-4qy2ajjf</code>"
      ],
      "text/plain": [
       "<IPython.core.display.HTML object>"
      ]
     },
     "metadata": {},
     "output_type": "display_data"
    },
    {
     "data": {
      "text/html": [
       "Syncing run <strong><a href='https://wandb.ai/azizi-causal-perturb/SDCI_new_sim/runs/4qy2ajjf' target=\"_blank\">SDCI_pf-0.5_mv-nn_ss-True_alpham-0.001</a></strong> to <a href='https://wandb.ai/azizi-causal-perturb/SDCI_new_sim' target=\"_blank\">Weights & Biases</a> (<a href='https://wandb.me/run' target=\"_blank\">docs</a>)<br/>"
      ],
      "text/plain": [
       "<IPython.core.display.HTML object>"
      ]
     },
     "metadata": {},
     "output_type": "display_data"
    },
    {
     "data": {
      "text/html": [
       " View project at <a href='https://wandb.ai/azizi-causal-perturb/SDCI_new_sim' target=\"_blank\">https://wandb.ai/azizi-causal-perturb/SDCI_new_sim</a>"
      ],
      "text/plain": [
       "<IPython.core.display.HTML object>"
      ]
     },
     "metadata": {},
     "output_type": "display_data"
    },
    {
     "data": {
      "text/html": [
       " View run at <a href='https://wandb.ai/azizi-causal-perturb/SDCI_new_sim/runs/4qy2ajjf' target=\"_blank\">https://wandb.ai/azizi-causal-perturb/SDCI_new_sim/runs/4qy2ajjf</a>"
      ],
      "text/plain": [
       "<IPython.core.display.HTML object>"
      ]
     },
     "metadata": {},
     "output_type": "display_data"
    },
    {
     "name": "stderr",
     "output_type": "stream",
     "text": [
      "/home/justin/miniconda3/envs/cp/lib/python3.9/site-packages/torch/optim/optimizer.py:243: UserWarning: 'has_cuda' is deprecated, please use 'torch.backends.cuda.is_built()'\n",
      "  if not is_compiling() and torch.has_cuda and torch.cuda.is_available():\n"
     ]
    },
    {
     "name": "stdout",
     "output_type": "stream",
     "text": [
      "Epoch 0: loss=68.51, score=250, shd=250.0, gamma=0.00\n",
      "Epoch 100: loss=-6.72, score=1046, shd=1046.0, gamma=0.00\n",
      "Epoch 200: loss=-9.18, score=1160, shd=1160.0, gamma=0.00\n",
      "Epoch 300: loss=-10.05, score=1207, shd=1207.0, gamma=0.00\n",
      "Epoch 400: loss=-10.48, score=1232, shd=1232.0, gamma=0.00\n",
      "Epoch 500: loss=-10.79, score=1259, shd=1259.0, gamma=0.00\n",
      "Epoch 600: loss=-11.01, score=1250, shd=1250.0, gamma=0.00\n",
      "Epoch 700: loss=-11.06, score=1260, shd=1260.0, gamma=0.00\n",
      "Epoch 800: loss=-11.19, score=1268, shd=1268.0, gamma=0.00\n",
      "Epoch 900: loss=-11.25, score=1280, shd=1280.0, gamma=0.00\n",
      "Recall of mask: 1.0\n",
      "Fraction of possible edges in mask: 0.8904\n",
      "Epoch 0: loss=58.16, score=1432, shd=1432.0, gamma=0.00\n",
      "Epoch 100: loss=26.28, score=237, shd=237.0, gamma=30.03\n",
      "Epoch 200: loss=25.27, score=234, shd=234.0, gamma=30.03\n",
      "Epoch 300: loss=25.12, score=233, shd=233.0, gamma=30.03\n",
      "Epoch 400: loss=24.71, score=233, shd=233.0, gamma=30.03\n",
      "Epoch 500: loss=24.48, score=234, shd=234.0, gamma=30.03\n",
      "Epoch 600: loss=24.72, score=234, shd=234.0, gamma=30.03\n",
      "Epoch 700: loss=24.57, score=234, shd=234.0, gamma=30.03\n",
      "Epoch 800: loss=24.49, score=234, shd=234.0, gamma=30.03\n",
      "Epoch 900: loss=24.30, score=234, shd=234.0, gamma=30.03\n",
      "Finished training in 77.33223533630371 seconds.\n"
     ]
    },
    {
     "data": {
      "text/html": [
       "Waiting for W&B process to finish... <strong style=\"color:green\">(success).</strong>"
      ],
      "text/plain": [
       "<IPython.core.display.HTML object>"
      ]
     },
     "metadata": {},
     "output_type": "display_data"
    },
    {
     "data": {
      "text/html": [
       "<style>\n",
       "    table.wandb td:nth-child(1) { padding: 0 10px; text-align: left ; width: auto;} td:nth-child(2) {text-align: left ; width: 100%}\n",
       "    .wandb-row { display: flex; flex-direction: row; flex-wrap: wrap; justify-content: flex-start; width: 100% }\n",
       "    .wandb-col { display: flex; flex-direction: column; flex-basis: 100%; flex: 1; padding: 10px; }\n",
       "    </style>\n",
       "<div class=\"wandb-row\"><div class=\"wandb-col\"><h3>Run history:</h3><br/><table class=\"wandb\"><tr><td>alpha</td><td>██████████▁▁▁▁▁▁▁▁▁▁</td></tr><tr><td>dag</td><td>▁▁▁▁▁▁▁▁▁▁█▂▂▂▂▂▂▂▂▂</td></tr><tr><td>epoch</td><td>▁▁▂▂▂▃▃▄▄▄▅▅▅▆▆▇▇▇██</td></tr><tr><td>epoch_loss</td><td>█▁▁▁▁▁▁▁▁▁▇▄▄▄▄▄▄▄▄▄</td></tr><tr><td>gamma</td><td>▁▁▁▁▁▁▁▁▁▁▁█████████</td></tr><tr><td>is_prescreen</td><td>██████████▁▁▁▁▁▁▁▁▁▁</td></tr><tr><td>l1</td><td>▂▇████████▂▁▁▁▁▁▁▁▁▁</td></tr><tr><td>l2</td><td>▁▆▇▇▇█████▁▅▆▆▆▆▆▆▆▆</td></tr><tr><td>n_edges_pred</td><td>▁▇▇▇███████▁▁▁▁▁▁▁▁▁</td></tr><tr><td>nll</td><td>█▂▁▁▁▁▁▁▁▁▇▄▃▃▃▃▃▃▃▃</td></tr><tr><td>precision</td><td>▁▃▃▃▃▃▃▃▃▃▂▇████████</td></tr><tr><td>recall</td><td>▁█████████▇▂▂▂▂▂▂▂▂▂</td></tr><tr><td>score</td><td>▁▆▆▇▇▇▇▇▇▇█▁▁▁▁▁▁▁▁▁</td></tr><tr><td>shd</td><td>▁▆▆▇▇▇▇▇▇▇█▁▁▁▁▁▁▁▁▁</td></tr></table><br/></div><div class=\"wandb-col\"><h3>Run summary:</h3><br/><table class=\"wandb\"><tr><td>alpha</td><td>1e-05</td></tr><tr><td>dag</td><td>0.2829</td></tr><tr><td>epoch</td><td>1900</td></tr><tr><td>epoch_loss</td><td>24.30266</td></tr><tr><td>gamma</td><td>30.03003</td></tr><tr><td>is_prescreen</td><td>0</td></tr><tr><td>l1</td><td>0.0012</td></tr><tr><td>l2</td><td>6.94192</td></tr><tr><td>n_edges_pred</td><td>34</td></tr><tr><td>nll</td><td>8.864</td></tr><tr><td>precision</td><td>0.73529</td></tr><tr><td>recall</td><td>0.1</td></tr><tr><td>score</td><td>234</td></tr><tr><td>shd</td><td>234.0</td></tr></table><br/></div></div>"
      ],
      "text/plain": [
       "<IPython.core.display.HTML object>"
      ]
     },
     "metadata": {},
     "output_type": "display_data"
    },
    {
     "data": {
      "text/html": [
       " View run <strong style=\"color:#cdcd00\">SDCI_pf-0.5_mv-nn_ss-True_alpham-0.001</strong> at: <a href='https://wandb.ai/azizi-causal-perturb/SDCI_new_sim/runs/4qy2ajjf' target=\"_blank\">https://wandb.ai/azizi-causal-perturb/SDCI_new_sim/runs/4qy2ajjf</a><br/>Synced 6 W&B file(s), 0 media file(s), 0 artifact file(s) and 0 other file(s)"
      ],
      "text/plain": [
       "<IPython.core.display.HTML object>"
      ]
     },
     "metadata": {},
     "output_type": "display_data"
    },
    {
     "data": {
      "text/html": [
       "Find logs at: <code>./wandb/run-20230712_222633-4qy2ajjf/logs</code>"
      ],
      "text/plain": [
       "<IPython.core.display.HTML object>"
      ]
     },
     "metadata": {},
     "output_type": "display_data"
    },
    {
     "data": {
      "application/vnd.jupyter.widget-view+json": {
       "model_id": "3ac846f9906e496a90b4320d281692d5",
       "version_major": 2,
       "version_minor": 0
      },
      "text/plain": [
       "VBox(children=(Label(value='Waiting for wandb.init()...\\r'), FloatProgress(value=0.01667016282056769, max=1.0)…"
      ]
     },
     "metadata": {},
     "output_type": "display_data"
    },
    {
     "data": {
      "text/html": [
       "wandb version 0.15.5 is available!  To upgrade, please run:\n",
       " $ pip install wandb --upgrade"
      ],
      "text/plain": [
       "<IPython.core.display.HTML object>"
      ]
     },
     "metadata": {},
     "output_type": "display_data"
    },
    {
     "data": {
      "text/html": [
       "Tracking run with wandb version 0.15.2"
      ],
      "text/plain": [
       "<IPython.core.display.HTML object>"
      ]
     },
     "metadata": {},
     "output_type": "display_data"
    },
    {
     "data": {
      "text/html": [
       "Run data is saved locally in <code>/home/justin/ghrepos/causal-perturbseq/notebooks/wandb/run-20230712_222758-0ut45w6e</code>"
      ],
      "text/plain": [
       "<IPython.core.display.HTML object>"
      ]
     },
     "metadata": {},
     "output_type": "display_data"
    },
    {
     "data": {
      "text/html": [
       "Syncing run <strong><a href='https://wandb.ai/azizi-causal-perturb/SDCI_new_sim/runs/0ut45w6e' target=\"_blank\">SDCI_pf-0.5_mv-nn_ss-False_alpham-1</a></strong> to <a href='https://wandb.ai/azizi-causal-perturb/SDCI_new_sim' target=\"_blank\">Weights & Biases</a> (<a href='https://wandb.me/run' target=\"_blank\">docs</a>)<br/>"
      ],
      "text/plain": [
       "<IPython.core.display.HTML object>"
      ]
     },
     "metadata": {},
     "output_type": "display_data"
    },
    {
     "data": {
      "text/html": [
       " View project at <a href='https://wandb.ai/azizi-causal-perturb/SDCI_new_sim' target=\"_blank\">https://wandb.ai/azizi-causal-perturb/SDCI_new_sim</a>"
      ],
      "text/plain": [
       "<IPython.core.display.HTML object>"
      ]
     },
     "metadata": {},
     "output_type": "display_data"
    },
    {
     "data": {
      "text/html": [
       " View run at <a href='https://wandb.ai/azizi-causal-perturb/SDCI_new_sim/runs/0ut45w6e' target=\"_blank\">https://wandb.ai/azizi-causal-perturb/SDCI_new_sim/runs/0ut45w6e</a>"
      ],
      "text/plain": [
       "<IPython.core.display.HTML object>"
      ]
     },
     "metadata": {},
     "output_type": "display_data"
    },
    {
     "name": "stderr",
     "output_type": "stream",
     "text": [
      "/home/justin/miniconda3/envs/cp/lib/python3.9/site-packages/torch/optim/optimizer.py:243: UserWarning: 'has_cuda' is deprecated, please use 'torch.backends.cuda.is_built()'\n",
      "  if not is_compiling() and torch.has_cuda and torch.cuda.is_available():\n"
     ]
    },
    {
     "name": "stdout",
     "output_type": "stream",
     "text": [
      "Epoch 0: loss=70.53, score=250, shd=250.0, gamma=0.00\n",
      "Epoch 100: loss=6.26, score=182, shd=182.0, gamma=0.00\n",
      "Epoch 200: loss=4.29, score=158, shd=158.0, gamma=0.00\n",
      "Epoch 300: loss=3.60, score=158, shd=158.0, gamma=0.00\n",
      "Epoch 400: loss=3.22, score=162, shd=162.0, gamma=0.00\n",
      "Epoch 500: loss=3.01, score=158, shd=158.0, gamma=0.00\n",
      "Epoch 600: loss=2.79, score=152, shd=152.0, gamma=0.00\n",
      "Epoch 700: loss=2.64, score=159, shd=159.0, gamma=0.00\n",
      "Epoch 800: loss=2.59, score=157, shd=157.0, gamma=0.00\n",
      "Epoch 900: loss=2.54, score=157, shd=157.0, gamma=0.00\n",
      "Recall of mask: 0.94\n",
      "Fraction of possible edges in mask: 0.1924\n",
      "Epoch 0: loss=66.88, score=242, shd=242.0, gamma=0.00\n",
      "Epoch 100: loss=29.11, score=179, shd=179.0, gamma=30.03\n",
      "Epoch 200: loss=35.93, score=207, shd=207.0, gamma=60.06\n",
      "Epoch 300: loss=35.64, score=207, shd=207.0, gamma=60.06\n",
      "Epoch 400: loss=35.38, score=208, shd=208.0, gamma=60.06\n",
      "Epoch 500: loss=35.48, score=210, shd=210.0, gamma=60.06\n",
      "Epoch 600: loss=35.27, score=208, shd=208.0, gamma=60.06\n",
      "Epoch 700: loss=35.34, score=207, shd=207.0, gamma=60.06\n",
      "Epoch 800: loss=35.32, score=209, shd=209.0, gamma=60.06\n",
      "Epoch 900: loss=35.33, score=206, shd=206.0, gamma=60.06\n",
      "Finished training in 75.44346046447754 seconds.\n"
     ]
    },
    {
     "data": {
      "text/html": [
       "Waiting for W&B process to finish... <strong style=\"color:green\">(success).</strong>"
      ],
      "text/plain": [
       "<IPython.core.display.HTML object>"
      ]
     },
     "metadata": {},
     "output_type": "display_data"
    },
    {
     "data": {
      "text/html": [
       "<style>\n",
       "    table.wandb td:nth-child(1) { padding: 0 10px; text-align: left ; width: auto;} td:nth-child(2) {text-align: left ; width: 100%}\n",
       "    .wandb-row { display: flex; flex-direction: row; flex-wrap: wrap; justify-content: flex-start; width: 100% }\n",
       "    .wandb-col { display: flex; flex-direction: column; flex-basis: 100%; flex: 1; padding: 10px; }\n",
       "    </style>\n",
       "<div class=\"wandb-row\"><div class=\"wandb-col\"><h3>Run history:</h3><br/><table class=\"wandb\"><tr><td>alpha</td><td>██████████▁▁▁▁▁▁▁▁▁▁</td></tr><tr><td>dag</td><td>▁▁▁▁▁▁▁▁▁▁█▅▃▃▃▃▃▃▃▃</td></tr><tr><td>epoch</td><td>▁▁▂▂▂▃▃▄▄▄▅▅▅▆▆▇▇▇██</td></tr><tr><td>epoch_loss</td><td>█▁▁▁▁▁▁▁▁▁█▄▄▄▄▄▄▄▄▄</td></tr><tr><td>gamma</td><td>▁▁▁▁▁▁▁▁▁▁▁▅████████</td></tr><tr><td>is_prescreen</td><td>██████████▁▁▁▁▁▁▁▁▁▁</td></tr><tr><td>l1</td><td>▂██████▇▇▇▂▁▁▁▁▁▁▁▁▁</td></tr><tr><td>l2</td><td>▁▄▄▄▄▅▅▅▅▅▁▆▇███████</td></tr><tr><td>n_edges_pred</td><td>▁██████████▃▂▂▂▂▂▂▂▂</td></tr><tr><td>nll</td><td>█▁▁▁▁▁▁▁▁▁█▃▃▃▃▃▃▃▃▃</td></tr><tr><td>precision</td><td>▁▆▆▆▆▆▆▆▆▆▅█████████</td></tr><tr><td>recall</td><td>▁▇████████▆▄▃▃▃▃▃▃▃▃</td></tr><tr><td>score</td><td>█▃▁▁▂▁▁▁▁▁▇▃▅▅▅▅▅▅▅▅</td></tr><tr><td>shd</td><td>█▃▁▁▂▁▁▁▁▁▇▃▅▅▅▅▅▅▅▅</td></tr></table><br/></div><div class=\"wandb-col\"><h3>Run summary:</h3><br/><table class=\"wandb\"><tr><td>alpha</td><td>0.005</td></tr><tr><td>dag</td><td>0.18926</td></tr><tr><td>epoch</td><td>1900</td></tr><tr><td>epoch_loss</td><td>35.33296</td></tr><tr><td>gamma</td><td>60.06006</td></tr><tr><td>is_prescreen</td><td>0</td></tr><tr><td>l1</td><td>0.66665</td></tr><tr><td>l2</td><td>11.09162</td></tr><tr><td>n_edges_pred</td><td>56</td></tr><tr><td>nll</td><td>12.20747</td></tr><tr><td>precision</td><td>0.89286</td></tr><tr><td>recall</td><td>0.2</td></tr><tr><td>score</td><td>206</td></tr><tr><td>shd</td><td>206.0</td></tr></table><br/></div></div>"
      ],
      "text/plain": [
       "<IPython.core.display.HTML object>"
      ]
     },
     "metadata": {},
     "output_type": "display_data"
    },
    {
     "data": {
      "text/html": [
       " View run <strong style=\"color:#cdcd00\">SDCI_pf-0.5_mv-nn_ss-False_alpham-1</strong> at: <a href='https://wandb.ai/azizi-causal-perturb/SDCI_new_sim/runs/0ut45w6e' target=\"_blank\">https://wandb.ai/azizi-causal-perturb/SDCI_new_sim/runs/0ut45w6e</a><br/>Synced 6 W&B file(s), 0 media file(s), 0 artifact file(s) and 0 other file(s)"
      ],
      "text/plain": [
       "<IPython.core.display.HTML object>"
      ]
     },
     "metadata": {},
     "output_type": "display_data"
    },
    {
     "data": {
      "text/html": [
       "Find logs at: <code>./wandb/run-20230712_222758-0ut45w6e/logs</code>"
      ],
      "text/plain": [
       "<IPython.core.display.HTML object>"
      ]
     },
     "metadata": {},
     "output_type": "display_data"
    },
    {
     "data": {
      "application/vnd.jupyter.widget-view+json": {
       "model_id": "e2319bdbb7a1490fb5d3cd9d1643fde3",
       "version_major": 2,
       "version_minor": 0
      },
      "text/plain": [
       "VBox(children=(Label(value='Waiting for wandb.init()...\\r'), FloatProgress(value=0.016668582909430067, max=1.0…"
      ]
     },
     "metadata": {},
     "output_type": "display_data"
    },
    {
     "data": {
      "text/html": [
       "wandb version 0.15.5 is available!  To upgrade, please run:\n",
       " $ pip install wandb --upgrade"
      ],
      "text/plain": [
       "<IPython.core.display.HTML object>"
      ]
     },
     "metadata": {},
     "output_type": "display_data"
    },
    {
     "data": {
      "text/html": [
       "Tracking run with wandb version 0.15.2"
      ],
      "text/plain": [
       "<IPython.core.display.HTML object>"
      ]
     },
     "metadata": {},
     "output_type": "display_data"
    },
    {
     "data": {
      "text/html": [
       "Run data is saved locally in <code>/home/justin/ghrepos/causal-perturbseq/notebooks/wandb/run-20230712_222919-b8zu0kb9</code>"
      ],
      "text/plain": [
       "<IPython.core.display.HTML object>"
      ]
     },
     "metadata": {},
     "output_type": "display_data"
    },
    {
     "data": {
      "text/html": [
       "Syncing run <strong><a href='https://wandb.ai/azizi-causal-perturb/SDCI_new_sim/runs/b8zu0kb9' target=\"_blank\">SDCI_pf-0.5_mv-nn_ss-False_alpham-0.1</a></strong> to <a href='https://wandb.ai/azizi-causal-perturb/SDCI_new_sim' target=\"_blank\">Weights & Biases</a> (<a href='https://wandb.me/run' target=\"_blank\">docs</a>)<br/>"
      ],
      "text/plain": [
       "<IPython.core.display.HTML object>"
      ]
     },
     "metadata": {},
     "output_type": "display_data"
    },
    {
     "data": {
      "text/html": [
       " View project at <a href='https://wandb.ai/azizi-causal-perturb/SDCI_new_sim' target=\"_blank\">https://wandb.ai/azizi-causal-perturb/SDCI_new_sim</a>"
      ],
      "text/plain": [
       "<IPython.core.display.HTML object>"
      ]
     },
     "metadata": {},
     "output_type": "display_data"
    },
    {
     "data": {
      "text/html": [
       " View run at <a href='https://wandb.ai/azizi-causal-perturb/SDCI_new_sim/runs/b8zu0kb9' target=\"_blank\">https://wandb.ai/azizi-causal-perturb/SDCI_new_sim/runs/b8zu0kb9</a>"
      ],
      "text/plain": [
       "<IPython.core.display.HTML object>"
      ]
     },
     "metadata": {},
     "output_type": "display_data"
    },
    {
     "name": "stderr",
     "output_type": "stream",
     "text": [
      "/home/justin/miniconda3/envs/cp/lib/python3.9/site-packages/torch/optim/optimizer.py:243: UserWarning: 'has_cuda' is deprecated, please use 'torch.backends.cuda.is_built()'\n",
      "  if not is_compiling() and torch.has_cuda and torch.cuda.is_available():\n"
     ]
    },
    {
     "name": "stdout",
     "output_type": "stream",
     "text": [
      "Epoch 0: loss=69.29, score=250, shd=250.0, gamma=0.00\n",
      "Epoch 100: loss=-3.96, score=688, shd=688.0, gamma=0.00\n",
      "Epoch 200: loss=-6.17, score=759, shd=759.0, gamma=0.00\n",
      "Epoch 300: loss=-7.08, score=750, shd=750.0, gamma=0.00\n",
      "Epoch 400: loss=-7.53, score=760, shd=760.0, gamma=0.00\n",
      "Epoch 500: loss=-7.88, score=763, shd=763.0, gamma=0.00\n",
      "Epoch 600: loss=-8.01, score=773, shd=773.0, gamma=0.00\n",
      "Epoch 700: loss=-8.16, score=776, shd=776.0, gamma=0.00\n",
      "Epoch 800: loss=-8.25, score=763, shd=763.0, gamma=0.00\n",
      "Epoch 900: loss=-8.34, score=760, shd=760.0, gamma=0.00\n",
      "Recall of mask: 1.0\n",
      "Fraction of possible edges in mask: 0.6524\n",
      "Epoch 0: loss=59.82, score=1013, shd=1013.0, gamma=0.00\n",
      "Epoch 100: loss=27.59, score=230, shd=230.0, gamma=30.03\n",
      "Epoch 200: loss=26.61, score=230, shd=230.0, gamma=30.03\n",
      "Epoch 300: loss=26.18, score=228, shd=228.0, gamma=30.03\n",
      "Epoch 400: loss=26.43, score=227, shd=227.0, gamma=30.03\n",
      "Epoch 500: loss=26.08, score=230, shd=230.0, gamma=30.03\n",
      "Epoch 600: loss=26.16, score=226, shd=226.0, gamma=30.03\n",
      "Epoch 700: loss=26.10, score=226, shd=226.0, gamma=30.03\n",
      "Epoch 800: loss=26.10, score=228, shd=228.0, gamma=30.03\n",
      "Epoch 900: loss=25.95, score=225, shd=225.0, gamma=30.03\n",
      "Finished training in 75.77825331687927 seconds.\n"
     ]
    },
    {
     "data": {
      "text/html": [
       "Waiting for W&B process to finish... <strong style=\"color:green\">(success).</strong>"
      ],
      "text/plain": [
       "<IPython.core.display.HTML object>"
      ]
     },
     "metadata": {},
     "output_type": "display_data"
    },
    {
     "data": {
      "application/vnd.jupyter.widget-view+json": {
       "model_id": "093e9865462b4c3f8371b52b170508a4",
       "version_major": 2,
       "version_minor": 0
      },
      "text/plain": [
       "VBox(children=(Label(value='0.004 MB of 0.004 MB uploaded (0.000 MB deduped)\\r'), FloatProgress(value=1.0, max…"
      ]
     },
     "metadata": {},
     "output_type": "display_data"
    },
    {
     "data": {
      "text/html": [
       "<style>\n",
       "    table.wandb td:nth-child(1) { padding: 0 10px; text-align: left ; width: auto;} td:nth-child(2) {text-align: left ; width: 100%}\n",
       "    .wandb-row { display: flex; flex-direction: row; flex-wrap: wrap; justify-content: flex-start; width: 100% }\n",
       "    .wandb-col { display: flex; flex-direction: column; flex-basis: 100%; flex: 1; padding: 10px; }\n",
       "    </style>\n",
       "<div class=\"wandb-row\"><div class=\"wandb-col\"><h3>Run history:</h3><br/><table class=\"wandb\"><tr><td>alpha</td><td>██████████▁▁▁▁▁▁▁▁▁▁</td></tr><tr><td>dag</td><td>▁▁▁▁▁▁▁▁▁▁█▂▂▂▂▂▂▂▂▂</td></tr><tr><td>epoch</td><td>▁▁▂▂▂▃▃▄▄▄▅▅▅▆▆▇▇▇██</td></tr><tr><td>epoch_loss</td><td>█▁▁▁▁▁▁▁▁▁▇▄▄▄▄▄▄▄▄▄</td></tr><tr><td>gamma</td><td>▁▁▁▁▁▁▁▁▁▁▁█████████</td></tr><tr><td>is_prescreen</td><td>██████████▁▁▁▁▁▁▁▁▁▁</td></tr><tr><td>l1</td><td>▂█████████▂▁▁▁▁▁▁▁▁▁</td></tr><tr><td>l2</td><td>▁▆▇▇██████▁▆▇▇▇▇▇▇▇▇</td></tr><tr><td>n_edges_pred</td><td>▁▇▇▇▇▇▇▇▇▇█▁▁▁▁▁▁▁▁▁</td></tr><tr><td>nll</td><td>█▂▁▁▁▁▁▁▁▁▇▃▃▃▃▃▃▃▃▃</td></tr><tr><td>precision</td><td>▁▃▃▃▃▃▃▃▃▃▃█████████</td></tr><tr><td>recall</td><td>▁█████████▇▂▂▂▂▂▂▂▂▂</td></tr><tr><td>score</td><td>▁▅▆▆▆▆▆▆▆▆█▁▁▁▁▁▁▁▁▁</td></tr><tr><td>shd</td><td>▁▅▆▆▆▆▆▆▆▆█▁▁▁▁▁▁▁▁▁</td></tr></table><br/></div><div class=\"wandb-col\"><h3>Run summary:</h3><br/><table class=\"wandb\"><tr><td>alpha</td><td>0.0005</td></tr><tr><td>dag</td><td>0.28805</td></tr><tr><td>epoch</td><td>1900</td></tr><tr><td>epoch_loss</td><td>25.94977</td></tr><tr><td>gamma</td><td>30.03003</td></tr><tr><td>is_prescreen</td><td>0</td></tr><tr><td>l1</td><td>0.10678</td></tr><tr><td>l2</td><td>7.41202</td></tr><tr><td>n_edges_pred</td><td>41</td></tr><tr><td>nll</td><td>9.78084</td></tr><tr><td>precision</td><td>0.80488</td></tr><tr><td>recall</td><td>0.132</td></tr><tr><td>score</td><td>225</td></tr><tr><td>shd</td><td>225.0</td></tr></table><br/></div></div>"
      ],
      "text/plain": [
       "<IPython.core.display.HTML object>"
      ]
     },
     "metadata": {},
     "output_type": "display_data"
    },
    {
     "data": {
      "text/html": [
       " View run <strong style=\"color:#cdcd00\">SDCI_pf-0.5_mv-nn_ss-False_alpham-0.1</strong> at: <a href='https://wandb.ai/azizi-causal-perturb/SDCI_new_sim/runs/b8zu0kb9' target=\"_blank\">https://wandb.ai/azizi-causal-perturb/SDCI_new_sim/runs/b8zu0kb9</a><br/>Synced 6 W&B file(s), 0 media file(s), 0 artifact file(s) and 0 other file(s)"
      ],
      "text/plain": [
       "<IPython.core.display.HTML object>"
      ]
     },
     "metadata": {},
     "output_type": "display_data"
    },
    {
     "data": {
      "text/html": [
       "Find logs at: <code>./wandb/run-20230712_222919-b8zu0kb9/logs</code>"
      ],
      "text/plain": [
       "<IPython.core.display.HTML object>"
      ]
     },
     "metadata": {},
     "output_type": "display_data"
    },
    {
     "data": {
      "application/vnd.jupyter.widget-view+json": {
       "model_id": "4df519a7da0446cbbb414f8d6f7e0552",
       "version_major": 2,
       "version_minor": 0
      },
      "text/plain": [
       "VBox(children=(Label(value='Waiting for wandb.init()...\\r'), FloatProgress(value=0.016669770159448188, max=1.0…"
      ]
     },
     "metadata": {},
     "output_type": "display_data"
    },
    {
     "data": {
      "text/html": [
       "wandb version 0.15.5 is available!  To upgrade, please run:\n",
       " $ pip install wandb --upgrade"
      ],
      "text/plain": [
       "<IPython.core.display.HTML object>"
      ]
     },
     "metadata": {},
     "output_type": "display_data"
    },
    {
     "data": {
      "text/html": [
       "Tracking run with wandb version 0.15.2"
      ],
      "text/plain": [
       "<IPython.core.display.HTML object>"
      ]
     },
     "metadata": {},
     "output_type": "display_data"
    },
    {
     "data": {
      "text/html": [
       "Run data is saved locally in <code>/home/justin/ghrepos/causal-perturbseq/notebooks/wandb/run-20230712_223043-5ahaiiwh</code>"
      ],
      "text/plain": [
       "<IPython.core.display.HTML object>"
      ]
     },
     "metadata": {},
     "output_type": "display_data"
    },
    {
     "data": {
      "text/html": [
       "Syncing run <strong><a href='https://wandb.ai/azizi-causal-perturb/SDCI_new_sim/runs/5ahaiiwh' target=\"_blank\">SDCI_pf-0.5_mv-nn_ss-False_alpham-0.01</a></strong> to <a href='https://wandb.ai/azizi-causal-perturb/SDCI_new_sim' target=\"_blank\">Weights & Biases</a> (<a href='https://wandb.me/run' target=\"_blank\">docs</a>)<br/>"
      ],
      "text/plain": [
       "<IPython.core.display.HTML object>"
      ]
     },
     "metadata": {},
     "output_type": "display_data"
    },
    {
     "data": {
      "text/html": [
       " View project at <a href='https://wandb.ai/azizi-causal-perturb/SDCI_new_sim' target=\"_blank\">https://wandb.ai/azizi-causal-perturb/SDCI_new_sim</a>"
      ],
      "text/plain": [
       "<IPython.core.display.HTML object>"
      ]
     },
     "metadata": {},
     "output_type": "display_data"
    },
    {
     "data": {
      "text/html": [
       " View run at <a href='https://wandb.ai/azizi-causal-perturb/SDCI_new_sim/runs/5ahaiiwh' target=\"_blank\">https://wandb.ai/azizi-causal-perturb/SDCI_new_sim/runs/5ahaiiwh</a>"
      ],
      "text/plain": [
       "<IPython.core.display.HTML object>"
      ]
     },
     "metadata": {},
     "output_type": "display_data"
    },
    {
     "name": "stderr",
     "output_type": "stream",
     "text": [
      "/home/justin/miniconda3/envs/cp/lib/python3.9/site-packages/torch/optim/optimizer.py:243: UserWarning: 'has_cuda' is deprecated, please use 'torch.backends.cuda.is_built()'\n",
      "  if not is_compiling() and torch.has_cuda and torch.cuda.is_available():\n"
     ]
    },
    {
     "name": "stdout",
     "output_type": "stream",
     "text": [
      "Epoch 0: loss=67.68, score=250, shd=250.0, gamma=0.00\n",
      "Epoch 100: loss=-8.18, score=994, shd=994.0, gamma=0.00\n",
      "Epoch 200: loss=-10.43, score=1102, shd=1102.0, gamma=0.00\n",
      "Epoch 300: loss=-11.33, score=1141, shd=1141.0, gamma=0.00\n",
      "Epoch 500: loss=-12.06, score=1160, shd=1160.0, gamma=0.00\n",
      "Epoch 600: loss=-12.24, score=1165, shd=1165.0, gamma=0.00\n",
      "Epoch 700: loss=-12.35, score=1171, shd=1171.0, gamma=0.00\n",
      "Epoch 800: loss=-12.63, score=1170, shd=1170.0, gamma=0.00\n",
      "Epoch 900: loss=-12.73, score=1179, shd=1179.0, gamma=0.00\n",
      "Recall of mask: 1.0\n",
      "Fraction of possible edges in mask: 0.86\n",
      "Epoch 0: loss=58.19, score=1356, shd=1356.0, gamma=0.00\n",
      "Epoch 100: loss=24.40, score=233, shd=233.0, gamma=30.03\n",
      "Epoch 200: loss=23.09, score=234, shd=234.0, gamma=30.03\n",
      "Epoch 300: loss=22.95, score=235, shd=235.0, gamma=30.03\n",
      "Epoch 400: loss=22.48, score=233, shd=233.0, gamma=30.03\n",
      "Epoch 500: loss=23.10, score=231, shd=231.0, gamma=30.03\n",
      "Epoch 600: loss=22.86, score=232, shd=232.0, gamma=30.03\n",
      "Epoch 700: loss=22.69, score=232, shd=232.0, gamma=30.03\n",
      "Epoch 800: loss=22.70, score=232, shd=232.0, gamma=30.03\n",
      "Epoch 900: loss=22.52, score=233, shd=233.0, gamma=30.03\n",
      "Finished training in 77.11972332000732 seconds.\n"
     ]
    },
    {
     "data": {
      "text/html": [
       "Waiting for W&B process to finish... <strong style=\"color:green\">(success).</strong>"
      ],
      "text/plain": [
       "<IPython.core.display.HTML object>"
      ]
     },
     "metadata": {},
     "output_type": "display_data"
    },
    {
     "data": {
      "text/html": [
       "<style>\n",
       "    table.wandb td:nth-child(1) { padding: 0 10px; text-align: left ; width: auto;} td:nth-child(2) {text-align: left ; width: 100%}\n",
       "    .wandb-row { display: flex; flex-direction: row; flex-wrap: wrap; justify-content: flex-start; width: 100% }\n",
       "    .wandb-col { display: flex; flex-direction: column; flex-basis: 100%; flex: 1; padding: 10px; }\n",
       "    </style>\n",
       "<div class=\"wandb-row\"><div class=\"wandb-col\"><h3>Run history:</h3><br/><table class=\"wandb\"><tr><td>alpha</td><td>██████████▁▁▁▁▁▁▁▁▁▁</td></tr><tr><td>dag</td><td>▁▁▁▁▁▁▁▁▁▁█▂▂▂▂▂▂▂▂▂</td></tr><tr><td>epoch</td><td>▁▁▂▂▂▃▃▄▄▄▅▅▅▆▆▇▇▇██</td></tr><tr><td>epoch_loss</td><td>█▁▁▁▁▁▁▁▁▁▇▄▄▄▄▄▄▄▄▄</td></tr><tr><td>gamma</td><td>▁▁▁▁▁▁▁▁▁▁▁█████████</td></tr><tr><td>is_prescreen</td><td>██████████▁▁▁▁▁▁▁▁▁▁</td></tr><tr><td>l1</td><td>▂▇████████▂▁▁▁▁▁▁▁▁▁</td></tr><tr><td>l2</td><td>▁▆▇▇▇█████▁▅▆▆▆▆▆▆▆▆</td></tr><tr><td>n_edges_pred</td><td>▁▇▇▇▇██████▁▁▁▁▁▁▁▁▁</td></tr><tr><td>nll</td><td>█▂▁▁▁▁▁▁▁▁▇▃▃▃▃▃▃▃▃▃</td></tr><tr><td>precision</td><td>▁▃▃▃▃▃▃▃▃▃▂█████████</td></tr><tr><td>recall</td><td>▁█████████▇▂▂▂▂▂▂▂▂▂</td></tr><tr><td>score</td><td>▁▆▆▇▇▇▇▇▇▇█▁▁▁▁▁▁▁▁▁</td></tr><tr><td>shd</td><td>▁▆▆▇▇▇▇▇▇▇█▁▁▁▁▁▁▁▁▁</td></tr></table><br/></div><div class=\"wandb-col\"><h3>Run summary:</h3><br/><table class=\"wandb\"><tr><td>alpha</td><td>5e-05</td></tr><tr><td>dag</td><td>0.28795</td></tr><tr><td>epoch</td><td>1900</td></tr><tr><td>epoch_loss</td><td>22.51581</td></tr><tr><td>gamma</td><td>30.03003</td></tr><tr><td>is_prescreen</td><td>0</td></tr><tr><td>l1</td><td>0.0122</td></tr><tr><td>l2</td><td>7.04253</td></tr><tr><td>n_edges_pred</td><td>35</td></tr><tr><td>nll</td><td>6.81387</td></tr><tr><td>precision</td><td>0.74286</td></tr><tr><td>recall</td><td>0.104</td></tr><tr><td>score</td><td>233</td></tr><tr><td>shd</td><td>233.0</td></tr></table><br/></div></div>"
      ],
      "text/plain": [
       "<IPython.core.display.HTML object>"
      ]
     },
     "metadata": {},
     "output_type": "display_data"
    },
    {
     "data": {
      "text/html": [
       " View run <strong style=\"color:#cdcd00\">SDCI_pf-0.5_mv-nn_ss-False_alpham-0.01</strong> at: <a href='https://wandb.ai/azizi-causal-perturb/SDCI_new_sim/runs/5ahaiiwh' target=\"_blank\">https://wandb.ai/azizi-causal-perturb/SDCI_new_sim/runs/5ahaiiwh</a><br/>Synced 6 W&B file(s), 0 media file(s), 0 artifact file(s) and 0 other file(s)"
      ],
      "text/plain": [
       "<IPython.core.display.HTML object>"
      ]
     },
     "metadata": {},
     "output_type": "display_data"
    },
    {
     "data": {
      "text/html": [
       "Find logs at: <code>./wandb/run-20230712_223043-5ahaiiwh/logs</code>"
      ],
      "text/plain": [
       "<IPython.core.display.HTML object>"
      ]
     },
     "metadata": {},
     "output_type": "display_data"
    },
    {
     "data": {
      "application/vnd.jupyter.widget-view+json": {
       "model_id": "ae8e05fdf1e5415fa3742cf2d01030ac",
       "version_major": 2,
       "version_minor": 0
      },
      "text/plain": [
       "VBox(children=(Label(value='Waiting for wandb.init()...\\r'), FloatProgress(value=0.016669613045329847, max=1.0…"
      ]
     },
     "metadata": {},
     "output_type": "display_data"
    },
    {
     "data": {
      "text/html": [
       "wandb version 0.15.5 is available!  To upgrade, please run:\n",
       " $ pip install wandb --upgrade"
      ],
      "text/plain": [
       "<IPython.core.display.HTML object>"
      ]
     },
     "metadata": {},
     "output_type": "display_data"
    },
    {
     "data": {
      "text/html": [
       "Tracking run with wandb version 0.15.2"
      ],
      "text/plain": [
       "<IPython.core.display.HTML object>"
      ]
     },
     "metadata": {},
     "output_type": "display_data"
    },
    {
     "data": {
      "text/html": [
       "Run data is saved locally in <code>/home/justin/ghrepos/causal-perturbseq/notebooks/wandb/run-20230712_223208-arw39r7h</code>"
      ],
      "text/plain": [
       "<IPython.core.display.HTML object>"
      ]
     },
     "metadata": {},
     "output_type": "display_data"
    },
    {
     "data": {
      "text/html": [
       "Syncing run <strong><a href='https://wandb.ai/azizi-causal-perturb/SDCI_new_sim/runs/arw39r7h' target=\"_blank\">SDCI_pf-0.5_mv-nn_ss-False_alpham-0.001</a></strong> to <a href='https://wandb.ai/azizi-causal-perturb/SDCI_new_sim' target=\"_blank\">Weights & Biases</a> (<a href='https://wandb.me/run' target=\"_blank\">docs</a>)<br/>"
      ],
      "text/plain": [
       "<IPython.core.display.HTML object>"
      ]
     },
     "metadata": {},
     "output_type": "display_data"
    },
    {
     "data": {
      "text/html": [
       " View project at <a href='https://wandb.ai/azizi-causal-perturb/SDCI_new_sim' target=\"_blank\">https://wandb.ai/azizi-causal-perturb/SDCI_new_sim</a>"
      ],
      "text/plain": [
       "<IPython.core.display.HTML object>"
      ]
     },
     "metadata": {},
     "output_type": "display_data"
    },
    {
     "data": {
      "text/html": [
       " View run at <a href='https://wandb.ai/azizi-causal-perturb/SDCI_new_sim/runs/arw39r7h' target=\"_blank\">https://wandb.ai/azizi-causal-perturb/SDCI_new_sim/runs/arw39r7h</a>"
      ],
      "text/plain": [
       "<IPython.core.display.HTML object>"
      ]
     },
     "metadata": {},
     "output_type": "display_data"
    },
    {
     "name": "stderr",
     "output_type": "stream",
     "text": [
      "/home/justin/miniconda3/envs/cp/lib/python3.9/site-packages/torch/optim/optimizer.py:243: UserWarning: 'has_cuda' is deprecated, please use 'torch.backends.cuda.is_built()'\n",
      "  if not is_compiling() and torch.has_cuda and torch.cuda.is_available():\n"
     ]
    },
    {
     "name": "stdout",
     "output_type": "stream",
     "text": [
      "Epoch 0: loss=67.77, score=250, shd=250.0, gamma=0.00\n",
      "Epoch 100: loss=-7.50, score=1035, shd=1035.0, gamma=0.00\n",
      "Epoch 200: loss=-9.78, score=1130, shd=1130.0, gamma=0.00\n",
      "Epoch 300: loss=-10.65, score=1195, shd=1195.0, gamma=0.00\n",
      "Epoch 400: loss=-11.12, score=1229, shd=1229.0, gamma=0.00\n",
      "Epoch 500: loss=-11.41, score=1247, shd=1247.0, gamma=0.00\n",
      "Epoch 600: loss=-11.59, score=1251, shd=1251.0, gamma=0.00\n",
      "Epoch 700: loss=-11.78, score=1271, shd=1271.0, gamma=0.00\n",
      "Epoch 800: loss=-11.94, score=1266, shd=1266.0, gamma=0.00\n",
      "Epoch 900: loss=-11.98, score=1284, shd=1284.0, gamma=0.00\n",
      "Recall of mask: 1.0\n",
      "Fraction of possible edges in mask: 0.8896\n",
      "Epoch 0: loss=58.04, score=1469, shd=1469.0, gamma=0.00\n",
      "Epoch 100: loss=25.72, score=233, shd=233.0, gamma=30.03\n",
      "Epoch 200: loss=24.67, score=233, shd=233.0, gamma=30.03\n",
      "Epoch 300: loss=24.30, score=232, shd=232.0, gamma=30.03\n",
      "Epoch 400: loss=24.23, score=232, shd=232.0, gamma=30.03\n",
      "Epoch 500: loss=24.32, score=233, shd=233.0, gamma=30.03\n",
      "Epoch 600: loss=23.95, score=232, shd=232.0, gamma=30.03\n",
      "Epoch 700: loss=23.74, score=232, shd=232.0, gamma=30.03\n",
      "Epoch 800: loss=24.00, score=231, shd=231.0, gamma=30.03\n",
      "Epoch 900: loss=24.01, score=230, shd=230.0, gamma=30.03\n",
      "Finished training in 78.78836798667908 seconds.\n"
     ]
    },
    {
     "data": {
      "text/html": [
       "Waiting for W&B process to finish... <strong style=\"color:green\">(success).</strong>"
      ],
      "text/plain": [
       "<IPython.core.display.HTML object>"
      ]
     },
     "metadata": {},
     "output_type": "display_data"
    },
    {
     "data": {
      "text/html": [
       "<style>\n",
       "    table.wandb td:nth-child(1) { padding: 0 10px; text-align: left ; width: auto;} td:nth-child(2) {text-align: left ; width: 100%}\n",
       "    .wandb-row { display: flex; flex-direction: row; flex-wrap: wrap; justify-content: flex-start; width: 100% }\n",
       "    .wandb-col { display: flex; flex-direction: column; flex-basis: 100%; flex: 1; padding: 10px; }\n",
       "    </style>\n",
       "<div class=\"wandb-row\"><div class=\"wandb-col\"><h3>Run history:</h3><br/><table class=\"wandb\"><tr><td>alpha</td><td>██████████▁▁▁▁▁▁▁▁▁▁</td></tr><tr><td>dag</td><td>▁▁▁▁▁▁▁▁▁▁█▂▂▂▂▂▂▂▂▂</td></tr><tr><td>epoch</td><td>▁▁▂▂▂▃▃▄▄▄▅▅▅▆▆▇▇▇██</td></tr><tr><td>epoch_loss</td><td>█▁▁▁▁▁▁▁▁▁▇▄▄▄▄▄▄▄▄▄</td></tr><tr><td>gamma</td><td>▁▁▁▁▁▁▁▁▁▁▁█████████</td></tr><tr><td>is_prescreen</td><td>██████████▁▁▁▁▁▁▁▁▁▁</td></tr><tr><td>l1</td><td>▂▇████████▂▁▁▁▁▁▁▁▁▁</td></tr><tr><td>l2</td><td>▁▆▇▇▇█████▁▅▆▆▆▆▆▆▆▆</td></tr><tr><td>n_edges_pred</td><td>▁▇▇▇▇▇▇████▁▁▁▁▁▁▁▁▁</td></tr><tr><td>nll</td><td>█▂▁▁▁▁▁▁▁▁▇▄▃▃▃▃▃▃▃▃</td></tr><tr><td>precision</td><td>▁▃▃▃▂▂▂▂▂▂▂█████████</td></tr><tr><td>recall</td><td>▁█████████▇▂▂▂▂▂▂▂▂▂</td></tr><tr><td>score</td><td>▁▆▆▆▇▇▇▇▇▇█▁▁▁▁▁▁▁▁▁</td></tr><tr><td>shd</td><td>▁▆▆▆▇▇▇▇▇▇█▁▁▁▁▁▁▁▁▁</td></tr></table><br/></div><div class=\"wandb-col\"><h3>Run summary:</h3><br/><table class=\"wandb\"><tr><td>alpha</td><td>1e-05</td></tr><tr><td>dag</td><td>0.28551</td></tr><tr><td>epoch</td><td>1900</td></tr><tr><td>epoch_loss</td><td>24.00954</td></tr><tr><td>gamma</td><td>30.03003</td></tr><tr><td>is_prescreen</td><td>0</td></tr><tr><td>l1</td><td>0.00122</td></tr><tr><td>l2</td><td>6.9753</td></tr><tr><td>n_edges_pred</td><td>34</td></tr><tr><td>nll</td><td>8.45929</td></tr><tr><td>precision</td><td>0.79412</td></tr><tr><td>recall</td><td>0.108</td></tr><tr><td>score</td><td>230</td></tr><tr><td>shd</td><td>230.0</td></tr></table><br/></div></div>"
      ],
      "text/plain": [
       "<IPython.core.display.HTML object>"
      ]
     },
     "metadata": {},
     "output_type": "display_data"
    },
    {
     "data": {
      "text/html": [
       " View run <strong style=\"color:#cdcd00\">SDCI_pf-0.5_mv-nn_ss-False_alpham-0.001</strong> at: <a href='https://wandb.ai/azizi-causal-perturb/SDCI_new_sim/runs/arw39r7h' target=\"_blank\">https://wandb.ai/azizi-causal-perturb/SDCI_new_sim/runs/arw39r7h</a><br/>Synced 6 W&B file(s), 0 media file(s), 0 artifact file(s) and 0 other file(s)"
      ],
      "text/plain": [
       "<IPython.core.display.HTML object>"
      ]
     },
     "metadata": {},
     "output_type": "display_data"
    },
    {
     "data": {
      "text/html": [
       "Find logs at: <code>./wandb/run-20230712_223208-arw39r7h/logs</code>"
      ],
      "text/plain": [
       "<IPython.core.display.HTML object>"
      ]
     },
     "metadata": {},
     "output_type": "display_data"
    },
    {
     "data": {
      "application/vnd.jupyter.widget-view+json": {
       "model_id": "48334c1f61e54cbbb8f1aac88deeb84b",
       "version_major": 2,
       "version_minor": 0
      },
      "text/plain": [
       "VBox(children=(Label(value='Waiting for wandb.init()...\\r'), FloatProgress(value=0.016669812767455976, max=1.0…"
      ]
     },
     "metadata": {},
     "output_type": "display_data"
    },
    {
     "data": {
      "text/html": [
       "wandb version 0.15.5 is available!  To upgrade, please run:\n",
       " $ pip install wandb --upgrade"
      ],
      "text/plain": [
       "<IPython.core.display.HTML object>"
      ]
     },
     "metadata": {},
     "output_type": "display_data"
    },
    {
     "data": {
      "text/html": [
       "Tracking run with wandb version 0.15.2"
      ],
      "text/plain": [
       "<IPython.core.display.HTML object>"
      ]
     },
     "metadata": {},
     "output_type": "display_data"
    },
    {
     "data": {
      "text/html": [
       "Run data is saved locally in <code>/home/justin/ghrepos/causal-perturbseq/notebooks/wandb/run-20230712_223335-lcopk2wg</code>"
      ],
      "text/plain": [
       "<IPython.core.display.HTML object>"
      ]
     },
     "metadata": {},
     "output_type": "display_data"
    },
    {
     "data": {
      "text/html": [
       "Syncing run <strong><a href='https://wandb.ai/azizi-causal-perturb/SDCI_new_sim/runs/lcopk2wg' target=\"_blank\">SDCI_pf-0.5_mv-parameter_ss-True_alpham-1</a></strong> to <a href='https://wandb.ai/azizi-causal-perturb/SDCI_new_sim' target=\"_blank\">Weights & Biases</a> (<a href='https://wandb.me/run' target=\"_blank\">docs</a>)<br/>"
      ],
      "text/plain": [
       "<IPython.core.display.HTML object>"
      ]
     },
     "metadata": {},
     "output_type": "display_data"
    },
    {
     "data": {
      "text/html": [
       " View project at <a href='https://wandb.ai/azizi-causal-perturb/SDCI_new_sim' target=\"_blank\">https://wandb.ai/azizi-causal-perturb/SDCI_new_sim</a>"
      ],
      "text/plain": [
       "<IPython.core.display.HTML object>"
      ]
     },
     "metadata": {},
     "output_type": "display_data"
    },
    {
     "data": {
      "text/html": [
       " View run at <a href='https://wandb.ai/azizi-causal-perturb/SDCI_new_sim/runs/lcopk2wg' target=\"_blank\">https://wandb.ai/azizi-causal-perturb/SDCI_new_sim/runs/lcopk2wg</a>"
      ],
      "text/plain": [
       "<IPython.core.display.HTML object>"
      ]
     },
     "metadata": {},
     "output_type": "display_data"
    },
    {
     "name": "stderr",
     "output_type": "stream",
     "text": [
      "/home/justin/miniconda3/envs/cp/lib/python3.9/site-packages/torch/optim/optimizer.py:243: UserWarning: 'has_cuda' is deprecated, please use 'torch.backends.cuda.is_built()'\n",
      "  if not is_compiling() and torch.has_cuda and torch.cuda.is_available():\n"
     ]
    },
    {
     "name": "stdout",
     "output_type": "stream",
     "text": [
      "Epoch 0: loss=69.85, score=250, shd=250.0, gamma=0.00\n",
      "Epoch 100: loss=9.00, score=174, shd=174.0, gamma=0.00\n",
      "Epoch 200: loss=6.21, score=166, shd=166.0, gamma=0.00\n",
      "Epoch 300: loss=5.44, score=168, shd=168.0, gamma=0.00\n",
      "Epoch 400: loss=5.16, score=159, shd=159.0, gamma=0.00\n",
      "Epoch 500: loss=4.98, score=162, shd=162.0, gamma=0.00\n",
      "Epoch 600: loss=4.87, score=156, shd=156.0, gamma=0.00\n",
      "Epoch 700: loss=4.81, score=156, shd=156.0, gamma=0.00\n",
      "Epoch 800: loss=4.78, score=156, shd=156.0, gamma=0.00\n",
      "Epoch 900: loss=4.74, score=152, shd=152.0, gamma=0.00\n",
      "Recall of mask: 0.948\n",
      "Fraction of possible edges in mask: 0.204\n",
      "Epoch 0: loss=65.86, score=265, shd=265.0, gamma=0.00\n",
      "Epoch 100: loss=30.12, score=187, shd=187.0, gamma=30.03\n",
      "Epoch 200: loss=29.36, score=193, shd=193.0, gamma=30.03\n",
      "Epoch 300: loss=29.20, score=192, shd=192.0, gamma=30.03\n",
      "Epoch 400: loss=28.95, score=191, shd=191.0, gamma=30.03\n",
      "Epoch 500: loss=29.04, score=191, shd=191.0, gamma=30.03\n",
      "Epoch 600: loss=28.97, score=193, shd=193.0, gamma=30.03\n",
      "Epoch 700: loss=28.90, score=192, shd=192.0, gamma=30.03\n",
      "Epoch 800: loss=28.85, score=191, shd=191.0, gamma=30.03\n",
      "Epoch 900: loss=28.99, score=195, shd=195.0, gamma=30.03\n",
      "Finished training in 74.71496272087097 seconds.\n"
     ]
    },
    {
     "data": {
      "text/html": [
       "Waiting for W&B process to finish... <strong style=\"color:green\">(success).</strong>"
      ],
      "text/plain": [
       "<IPython.core.display.HTML object>"
      ]
     },
     "metadata": {},
     "output_type": "display_data"
    },
    {
     "data": {
      "text/html": [
       "<style>\n",
       "    table.wandb td:nth-child(1) { padding: 0 10px; text-align: left ; width: auto;} td:nth-child(2) {text-align: left ; width: 100%}\n",
       "    .wandb-row { display: flex; flex-direction: row; flex-wrap: wrap; justify-content: flex-start; width: 100% }\n",
       "    .wandb-col { display: flex; flex-direction: column; flex-basis: 100%; flex: 1; padding: 10px; }\n",
       "    </style>\n",
       "<div class=\"wandb-row\"><div class=\"wandb-col\"><h3>Run history:</h3><br/><table class=\"wandb\"><tr><td>alpha</td><td>██████████▁▁▁▁▁▁▁▁▁▁</td></tr><tr><td>dag</td><td>▁▁▁▁▁▁▁▁▁▁█▄▄▄▄▄▄▄▄▄</td></tr><tr><td>epoch</td><td>▁▁▂▂▂▃▃▄▄▄▅▅▅▆▆▇▇▇██</td></tr><tr><td>epoch_loss</td><td>█▁▁▁▁▁▁▁▁▁█▄▄▄▄▄▄▄▄▄</td></tr><tr><td>gamma</td><td>▁▁▁▁▁▁▁▁▁▁▁█████████</td></tr><tr><td>is_prescreen</td><td>██████████▁▁▁▁▁▁▁▁▁▁</td></tr><tr><td>l1</td><td>▃▇████████▂▁▁▁▁▁▁▁▁▁</td></tr><tr><td>l2</td><td>▁▅▆▆▆▆▆▆▆▆▁▇████████</td></tr><tr><td>n_edges_pred</td><td>▁▇▇▇▇▇▇▇▇▇█▃▃▃▃▃▃▃▃▂</td></tr><tr><td>nll</td><td>█▂▁▁▁▁▁▁▁▁█▃▃▃▃▃▃▃▃▃</td></tr><tr><td>precision</td><td>▁▆▆▆▆▆▆▆▆▆▅█████████</td></tr><tr><td>recall</td><td>▁▇████████▇▃▃▃▃▃▃▃▃▃</td></tr><tr><td>score</td><td>▇▂▂▂▁▂▁▁▁▁█▃▄▃▃▃▄▃▃▄</td></tr><tr><td>shd</td><td>▇▂▂▂▁▂▁▁▁▁█▃▄▃▃▃▄▃▃▄</td></tr></table><br/></div><div class=\"wandb-col\"><h3>Run summary:</h3><br/><table class=\"wandb\"><tr><td>alpha</td><td>0.005</td></tr><tr><td>dag</td><td>0.2961</td></tr><tr><td>epoch</td><td>1900</td></tr><tr><td>epoch_loss</td><td>28.99265</td></tr><tr><td>gamma</td><td>30.03003</td></tr><tr><td>is_prescreen</td><td>0</td></tr><tr><td>l1</td><td>0.79618</td></tr><tr><td>l2</td><td>9.85652</td></tr><tr><td>n_edges_pred</td><td>81</td></tr><tr><td>nll</td><td>9.44807</td></tr><tr><td>precision</td><td>0.83951</td></tr><tr><td>recall</td><td>0.272</td></tr><tr><td>score</td><td>195</td></tr><tr><td>shd</td><td>195.0</td></tr></table><br/></div></div>"
      ],
      "text/plain": [
       "<IPython.core.display.HTML object>"
      ]
     },
     "metadata": {},
     "output_type": "display_data"
    },
    {
     "data": {
      "text/html": [
       " View run <strong style=\"color:#cdcd00\">SDCI_pf-0.5_mv-parameter_ss-True_alpham-1</strong> at: <a href='https://wandb.ai/azizi-causal-perturb/SDCI_new_sim/runs/lcopk2wg' target=\"_blank\">https://wandb.ai/azizi-causal-perturb/SDCI_new_sim/runs/lcopk2wg</a><br/>Synced 6 W&B file(s), 0 media file(s), 0 artifact file(s) and 0 other file(s)"
      ],
      "text/plain": [
       "<IPython.core.display.HTML object>"
      ]
     },
     "metadata": {},
     "output_type": "display_data"
    },
    {
     "data": {
      "text/html": [
       "Find logs at: <code>./wandb/run-20230712_223335-lcopk2wg/logs</code>"
      ],
      "text/plain": [
       "<IPython.core.display.HTML object>"
      ]
     },
     "metadata": {},
     "output_type": "display_data"
    },
    {
     "data": {
      "application/vnd.jupyter.widget-view+json": {
       "model_id": "9884efd86de5491680c23afb34119dc6",
       "version_major": 2,
       "version_minor": 0
      },
      "text/plain": [
       "VBox(children=(Label(value='Waiting for wandb.init()...\\r'), FloatProgress(value=0.016669663895542423, max=1.0…"
      ]
     },
     "metadata": {},
     "output_type": "display_data"
    },
    {
     "data": {
      "text/html": [
       "wandb version 0.15.5 is available!  To upgrade, please run:\n",
       " $ pip install wandb --upgrade"
      ],
      "text/plain": [
       "<IPython.core.display.HTML object>"
      ]
     },
     "metadata": {},
     "output_type": "display_data"
    },
    {
     "data": {
      "text/html": [
       "Tracking run with wandb version 0.15.2"
      ],
      "text/plain": [
       "<IPython.core.display.HTML object>"
      ]
     },
     "metadata": {},
     "output_type": "display_data"
    },
    {
     "data": {
      "text/html": [
       "Run data is saved locally in <code>/home/justin/ghrepos/causal-perturbseq/notebooks/wandb/run-20230712_223457-zuymwfe1</code>"
      ],
      "text/plain": [
       "<IPython.core.display.HTML object>"
      ]
     },
     "metadata": {},
     "output_type": "display_data"
    },
    {
     "data": {
      "text/html": [
       "Syncing run <strong><a href='https://wandb.ai/azizi-causal-perturb/SDCI_new_sim/runs/zuymwfe1' target=\"_blank\">SDCI_pf-0.5_mv-parameter_ss-True_alpham-0.1</a></strong> to <a href='https://wandb.ai/azizi-causal-perturb/SDCI_new_sim' target=\"_blank\">Weights & Biases</a> (<a href='https://wandb.me/run' target=\"_blank\">docs</a>)<br/>"
      ],
      "text/plain": [
       "<IPython.core.display.HTML object>"
      ]
     },
     "metadata": {},
     "output_type": "display_data"
    },
    {
     "data": {
      "text/html": [
       " View project at <a href='https://wandb.ai/azizi-causal-perturb/SDCI_new_sim' target=\"_blank\">https://wandb.ai/azizi-causal-perturb/SDCI_new_sim</a>"
      ],
      "text/plain": [
       "<IPython.core.display.HTML object>"
      ]
     },
     "metadata": {},
     "output_type": "display_data"
    },
    {
     "data": {
      "text/html": [
       " View run at <a href='https://wandb.ai/azizi-causal-perturb/SDCI_new_sim/runs/zuymwfe1' target=\"_blank\">https://wandb.ai/azizi-causal-perturb/SDCI_new_sim/runs/zuymwfe1</a>"
      ],
      "text/plain": [
       "<IPython.core.display.HTML object>"
      ]
     },
     "metadata": {},
     "output_type": "display_data"
    },
    {
     "name": "stderr",
     "output_type": "stream",
     "text": [
      "/home/justin/miniconda3/envs/cp/lib/python3.9/site-packages/torch/optim/optimizer.py:243: UserWarning: 'has_cuda' is deprecated, please use 'torch.backends.cuda.is_built()'\n",
      "  if not is_compiling() and torch.has_cuda and torch.cuda.is_available():\n"
     ]
    },
    {
     "name": "stdout",
     "output_type": "stream",
     "text": [
      "Epoch 0: loss=67.23, score=250, shd=250.0, gamma=0.00\n",
      "Epoch 100: loss=-1.03, score=451, shd=451.0, gamma=0.00\n",
      "Epoch 200: loss=-4.83, score=597, shd=597.0, gamma=0.00\n",
      "Epoch 300: loss=-5.76, score=624, shd=624.0, gamma=0.00\n",
      "Epoch 400: loss=-6.15, score=664, shd=664.0, gamma=0.00\n",
      "Epoch 500: loss=-6.39, score=699, shd=699.0, gamma=0.00\n",
      "Epoch 600: loss=-6.54, score=711, shd=711.0, gamma=0.00\n",
      "Epoch 700: loss=-6.66, score=722, shd=722.0, gamma=0.00\n",
      "Epoch 800: loss=-6.72, score=720, shd=720.0, gamma=0.00\n",
      "Epoch 900: loss=-6.83, score=727, shd=727.0, gamma=0.00\n",
      "Recall of mask: 1.0\n",
      "Fraction of possible edges in mask: 0.6408\n",
      "Epoch 0: loss=58.92, score=1017, shd=1017.0, gamma=0.00\n",
      "Epoch 100: loss=27.10, score=228, shd=228.0, gamma=30.03\n",
      "Epoch 200: loss=26.12, score=229, shd=229.0, gamma=30.03\n",
      "Epoch 300: loss=25.80, score=231, shd=231.0, gamma=30.03\n",
      "Epoch 400: loss=25.79, score=228, shd=228.0, gamma=30.03\n",
      "Epoch 500: loss=25.99, score=229, shd=229.0, gamma=30.03\n",
      "Epoch 600: loss=25.92, score=227, shd=227.0, gamma=30.03\n",
      "Epoch 700: loss=25.65, score=226, shd=226.0, gamma=30.03\n",
      "Epoch 800: loss=25.48, score=228, shd=228.0, gamma=30.03\n",
      "Epoch 900: loss=25.67, score=227, shd=227.0, gamma=30.03\n",
      "Finished training in 74.19129681587219 seconds.\n"
     ]
    },
    {
     "data": {
      "text/html": [
       "Waiting for W&B process to finish... <strong style=\"color:green\">(success).</strong>"
      ],
      "text/plain": [
       "<IPython.core.display.HTML object>"
      ]
     },
     "metadata": {},
     "output_type": "display_data"
    },
    {
     "data": {
      "text/html": [
       "<style>\n",
       "    table.wandb td:nth-child(1) { padding: 0 10px; text-align: left ; width: auto;} td:nth-child(2) {text-align: left ; width: 100%}\n",
       "    .wandb-row { display: flex; flex-direction: row; flex-wrap: wrap; justify-content: flex-start; width: 100% }\n",
       "    .wandb-col { display: flex; flex-direction: column; flex-basis: 100%; flex: 1; padding: 10px; }\n",
       "    </style>\n",
       "<div class=\"wandb-row\"><div class=\"wandb-col\"><h3>Run history:</h3><br/><table class=\"wandb\"><tr><td>alpha</td><td>██████████▁▁▁▁▁▁▁▁▁▁</td></tr><tr><td>dag</td><td>▁▁▁▁▁▁▁▁▁▁█▂▂▂▂▂▂▂▂▂</td></tr><tr><td>epoch</td><td>▁▁▂▂▂▃▃▄▄▄▅▅▅▆▆▇▇▇██</td></tr><tr><td>epoch_loss</td><td>█▂▁▁▁▁▁▁▁▁▇▄▄▄▄▄▄▄▄▄</td></tr><tr><td>gamma</td><td>▁▁▁▁▁▁▁▁▁▁▁█████████</td></tr><tr><td>is_prescreen</td><td>██████████▁▁▁▁▁▁▁▁▁▁</td></tr><tr><td>l1</td><td>▂▆▇███████▂▁▁▁▁▁▁▁▁▁</td></tr><tr><td>l2</td><td>▁▅▇▇██████▁▆▆▇▇▇▇▇▇▇</td></tr><tr><td>n_edges_pred</td><td>▁▅▆▆▆▇▇▇▇▇█▁▁▁▁▁▁▁▁▁</td></tr><tr><td>nll</td><td>█▂▁▁▁▁▁▁▁▁▇▃▃▃▃▃▃▃▃▃</td></tr><tr><td>precision</td><td>▁▄▄▄▃▃▃▃▃▃▃██▇██████</td></tr><tr><td>recall</td><td>▁█████████▇▂▂▂▂▂▂▂▂▂</td></tr><tr><td>score</td><td>▁▃▄▅▅▅▅▅▅▅█▁▁▁▁▁▁▁▁▁</td></tr><tr><td>shd</td><td>▁▃▄▅▅▅▅▅▅▅█▁▁▁▁▁▁▁▁▁</td></tr></table><br/></div><div class=\"wandb-col\"><h3>Run summary:</h3><br/><table class=\"wandb\"><tr><td>alpha</td><td>0.0005</td></tr><tr><td>dag</td><td>0.28233</td></tr><tr><td>epoch</td><td>1900</td></tr><tr><td>epoch_loss</td><td>25.67143</td></tr><tr><td>gamma</td><td>30.03003</td></tr><tr><td>is_prescreen</td><td>0</td></tr><tr><td>l1</td><td>0.10121</td></tr><tr><td>l2</td><td>8.52293</td></tr><tr><td>n_edges_pred</td><td>43</td></tr><tr><td>nll</td><td>8.56879</td></tr><tr><td>precision</td><td>0.76744</td></tr><tr><td>recall</td><td>0.132</td></tr><tr><td>score</td><td>227</td></tr><tr><td>shd</td><td>227.0</td></tr></table><br/></div></div>"
      ],
      "text/plain": [
       "<IPython.core.display.HTML object>"
      ]
     },
     "metadata": {},
     "output_type": "display_data"
    },
    {
     "data": {
      "text/html": [
       " View run <strong style=\"color:#cdcd00\">SDCI_pf-0.5_mv-parameter_ss-True_alpham-0.1</strong> at: <a href='https://wandb.ai/azizi-causal-perturb/SDCI_new_sim/runs/zuymwfe1' target=\"_blank\">https://wandb.ai/azizi-causal-perturb/SDCI_new_sim/runs/zuymwfe1</a><br/>Synced 6 W&B file(s), 0 media file(s), 0 artifact file(s) and 0 other file(s)"
      ],
      "text/plain": [
       "<IPython.core.display.HTML object>"
      ]
     },
     "metadata": {},
     "output_type": "display_data"
    },
    {
     "data": {
      "text/html": [
       "Find logs at: <code>./wandb/run-20230712_223457-zuymwfe1/logs</code>"
      ],
      "text/plain": [
       "<IPython.core.display.HTML object>"
      ]
     },
     "metadata": {},
     "output_type": "display_data"
    },
    {
     "data": {
      "application/vnd.jupyter.widget-view+json": {
       "model_id": "515c1552b3584ad3adbd61735d7fd267",
       "version_major": 2,
       "version_minor": 0
      },
      "text/plain": [
       "VBox(children=(Label(value='Waiting for wandb.init()...\\r'), FloatProgress(value=0.016669837183629473, max=1.0…"
      ]
     },
     "metadata": {},
     "output_type": "display_data"
    },
    {
     "data": {
      "text/html": [
       "wandb version 0.15.5 is available!  To upgrade, please run:\n",
       " $ pip install wandb --upgrade"
      ],
      "text/plain": [
       "<IPython.core.display.HTML object>"
      ]
     },
     "metadata": {},
     "output_type": "display_data"
    },
    {
     "data": {
      "text/html": [
       "Tracking run with wandb version 0.15.2"
      ],
      "text/plain": [
       "<IPython.core.display.HTML object>"
      ]
     },
     "metadata": {},
     "output_type": "display_data"
    },
    {
     "data": {
      "text/html": [
       "Run data is saved locally in <code>/home/justin/ghrepos/causal-perturbseq/notebooks/wandb/run-20230712_223619-ei5qdpob</code>"
      ],
      "text/plain": [
       "<IPython.core.display.HTML object>"
      ]
     },
     "metadata": {},
     "output_type": "display_data"
    },
    {
     "data": {
      "text/html": [
       "Syncing run <strong><a href='https://wandb.ai/azizi-causal-perturb/SDCI_new_sim/runs/ei5qdpob' target=\"_blank\">SDCI_pf-0.5_mv-parameter_ss-True_alpham-0.01</a></strong> to <a href='https://wandb.ai/azizi-causal-perturb/SDCI_new_sim' target=\"_blank\">Weights & Biases</a> (<a href='https://wandb.me/run' target=\"_blank\">docs</a>)<br/>"
      ],
      "text/plain": [
       "<IPython.core.display.HTML object>"
      ]
     },
     "metadata": {},
     "output_type": "display_data"
    },
    {
     "data": {
      "text/html": [
       " View project at <a href='https://wandb.ai/azizi-causal-perturb/SDCI_new_sim' target=\"_blank\">https://wandb.ai/azizi-causal-perturb/SDCI_new_sim</a>"
      ],
      "text/plain": [
       "<IPython.core.display.HTML object>"
      ]
     },
     "metadata": {},
     "output_type": "display_data"
    },
    {
     "data": {
      "text/html": [
       " View run at <a href='https://wandb.ai/azizi-causal-perturb/SDCI_new_sim/runs/ei5qdpob' target=\"_blank\">https://wandb.ai/azizi-causal-perturb/SDCI_new_sim/runs/ei5qdpob</a>"
      ],
      "text/plain": [
       "<IPython.core.display.HTML object>"
      ]
     },
     "metadata": {},
     "output_type": "display_data"
    },
    {
     "name": "stderr",
     "output_type": "stream",
     "text": [
      "/home/justin/miniconda3/envs/cp/lib/python3.9/site-packages/torch/optim/optimizer.py:243: UserWarning: 'has_cuda' is deprecated, please use 'torch.backends.cuda.is_built()'\n",
      "  if not is_compiling() and torch.has_cuda and torch.cuda.is_available():\n"
     ]
    },
    {
     "name": "stdout",
     "output_type": "stream",
     "text": [
      "Epoch 0: loss=68.43, score=250, shd=250.0, gamma=0.00\n",
      "Epoch 100: loss=-3.34, score=795, shd=795.0, gamma=0.00\n",
      "Epoch 200: loss=-6.86, score=1039, shd=1039.0, gamma=0.00\n",
      "Epoch 300: loss=-7.62, score=1129, shd=1129.0, gamma=0.00\n",
      "Epoch 400: loss=-8.01, score=1164, shd=1164.0, gamma=0.00\n",
      "Epoch 500: loss=-8.22, score=1173, shd=1173.0, gamma=0.00\n",
      "Epoch 600: loss=-8.37, score=1189, shd=1189.0, gamma=0.00\n",
      "Epoch 700: loss=-8.54, score=1209, shd=1209.0, gamma=0.00\n",
      "Epoch 800: loss=-8.66, score=1207, shd=1207.0, gamma=0.00\n",
      "Epoch 900: loss=-8.62, score=1214, shd=1214.0, gamma=0.00\n",
      "Recall of mask: 1.0\n",
      "Fraction of possible edges in mask: 0.866\n",
      "Epoch 0: loss=57.14, score=1444, shd=1444.0, gamma=0.00\n",
      "Epoch 100: loss=26.84, score=232, shd=232.0, gamma=30.03\n",
      "Epoch 200: loss=25.96, score=232, shd=232.0, gamma=30.03\n",
      "Epoch 300: loss=25.68, score=231, shd=231.0, gamma=30.03\n",
      "Epoch 400: loss=25.62, score=231, shd=231.0, gamma=30.03\n",
      "Epoch 500: loss=25.42, score=232, shd=232.0, gamma=30.03\n",
      "Epoch 600: loss=25.46, score=230, shd=230.0, gamma=30.03\n",
      "Epoch 700: loss=25.53, score=232, shd=232.0, gamma=30.03\n",
      "Epoch 800: loss=25.38, score=232, shd=232.0, gamma=30.03\n",
      "Epoch 900: loss=25.38, score=232, shd=232.0, gamma=30.03\n",
      "Finished training in 72.78294134140015 seconds.\n"
     ]
    },
    {
     "data": {
      "text/html": [
       "Waiting for W&B process to finish... <strong style=\"color:green\">(success).</strong>"
      ],
      "text/plain": [
       "<IPython.core.display.HTML object>"
      ]
     },
     "metadata": {},
     "output_type": "display_data"
    },
    {
     "data": {
      "text/html": [
       "<style>\n",
       "    table.wandb td:nth-child(1) { padding: 0 10px; text-align: left ; width: auto;} td:nth-child(2) {text-align: left ; width: 100%}\n",
       "    .wandb-row { display: flex; flex-direction: row; flex-wrap: wrap; justify-content: flex-start; width: 100% }\n",
       "    .wandb-col { display: flex; flex-direction: column; flex-basis: 100%; flex: 1; padding: 10px; }\n",
       "    </style>\n",
       "<div class=\"wandb-row\"><div class=\"wandb-col\"><h3>Run history:</h3><br/><table class=\"wandb\"><tr><td>alpha</td><td>██████████▁▁▁▁▁▁▁▁▁▁</td></tr><tr><td>dag</td><td>▁▁▁▁▁▁▁▁▁▁█▂▂▂▂▂▂▂▂▂</td></tr><tr><td>epoch</td><td>▁▁▂▂▂▃▃▄▄▄▅▅▅▆▆▇▇▇██</td></tr><tr><td>epoch_loss</td><td>█▁▁▁▁▁▁▁▁▁▇▄▄▄▄▄▄▄▄▄</td></tr><tr><td>gamma</td><td>▁▁▁▁▁▁▁▁▁▁▁█████████</td></tr><tr><td>is_prescreen</td><td>██████████▁▁▁▁▁▁▁▁▁▁</td></tr><tr><td>l1</td><td>▂▇▇███████▂▁▁▁▁▁▁▁▁▁</td></tr><tr><td>l2</td><td>▁▆▇▇██████▁▅▆▆▆▆▆▆▆▆</td></tr><tr><td>n_edges_pred</td><td>▁▆▇▇▇▇▇▇▇▇█▁▁▁▁▁▁▁▁▁</td></tr><tr><td>nll</td><td>█▂▁▁▁▁▁▁▁▁▇▃▃▃▃▃▃▃▃▃</td></tr><tr><td>precision</td><td>▁▃▃▃▃▃▃▃▃▃▂█████████</td></tr><tr><td>recall</td><td>▁█████████▇▂▂▂▂▂▂▂▂▂</td></tr><tr><td>score</td><td>▁▄▆▆▆▆▇▇▇▇█▁▁▁▁▁▁▁▁▁</td></tr><tr><td>shd</td><td>▁▄▆▆▆▆▇▇▇▇█▁▁▁▁▁▁▁▁▁</td></tr></table><br/></div><div class=\"wandb-col\"><h3>Run summary:</h3><br/><table class=\"wandb\"><tr><td>alpha</td><td>5e-05</td></tr><tr><td>dag</td><td>0.27311</td></tr><tr><td>epoch</td><td>1900</td></tr><tr><td>epoch_loss</td><td>25.38083</td></tr><tr><td>gamma</td><td>30.03003</td></tr><tr><td>is_prescreen</td><td>0</td></tr><tr><td>l1</td><td>0.01075</td></tr><tr><td>l2</td><td>8.06557</td></tr><tr><td>n_edges_pred</td><td>34</td></tr><tr><td>nll</td><td>9.10308</td></tr><tr><td>precision</td><td>0.76471</td></tr><tr><td>recall</td><td>0.104</td></tr><tr><td>score</td><td>232</td></tr><tr><td>shd</td><td>232.0</td></tr></table><br/></div></div>"
      ],
      "text/plain": [
       "<IPython.core.display.HTML object>"
      ]
     },
     "metadata": {},
     "output_type": "display_data"
    },
    {
     "data": {
      "text/html": [
       " View run <strong style=\"color:#cdcd00\">SDCI_pf-0.5_mv-parameter_ss-True_alpham-0.01</strong> at: <a href='https://wandb.ai/azizi-causal-perturb/SDCI_new_sim/runs/ei5qdpob' target=\"_blank\">https://wandb.ai/azizi-causal-perturb/SDCI_new_sim/runs/ei5qdpob</a><br/>Synced 6 W&B file(s), 0 media file(s), 0 artifact file(s) and 0 other file(s)"
      ],
      "text/plain": [
       "<IPython.core.display.HTML object>"
      ]
     },
     "metadata": {},
     "output_type": "display_data"
    },
    {
     "data": {
      "text/html": [
       "Find logs at: <code>./wandb/run-20230712_223619-ei5qdpob/logs</code>"
      ],
      "text/plain": [
       "<IPython.core.display.HTML object>"
      ]
     },
     "metadata": {},
     "output_type": "display_data"
    },
    {
     "data": {
      "application/vnd.jupyter.widget-view+json": {
       "model_id": "c6e31be4b9844610abfb969a305fe475",
       "version_major": 2,
       "version_minor": 0
      },
      "text/plain": [
       "VBox(children=(Label(value='Waiting for wandb.init()...\\r'), FloatProgress(value=0.016670147919406495, max=1.0…"
      ]
     },
     "metadata": {},
     "output_type": "display_data"
    },
    {
     "data": {
      "text/html": [
       "wandb version 0.15.5 is available!  To upgrade, please run:\n",
       " $ pip install wandb --upgrade"
      ],
      "text/plain": [
       "<IPython.core.display.HTML object>"
      ]
     },
     "metadata": {},
     "output_type": "display_data"
    },
    {
     "data": {
      "text/html": [
       "Tracking run with wandb version 0.15.2"
      ],
      "text/plain": [
       "<IPython.core.display.HTML object>"
      ]
     },
     "metadata": {},
     "output_type": "display_data"
    },
    {
     "data": {
      "text/html": [
       "Run data is saved locally in <code>/home/justin/ghrepos/causal-perturbseq/notebooks/wandb/run-20230712_223740-7btjp3n4</code>"
      ],
      "text/plain": [
       "<IPython.core.display.HTML object>"
      ]
     },
     "metadata": {},
     "output_type": "display_data"
    },
    {
     "data": {
      "text/html": [
       "Syncing run <strong><a href='https://wandb.ai/azizi-causal-perturb/SDCI_new_sim/runs/7btjp3n4' target=\"_blank\">SDCI_pf-0.5_mv-parameter_ss-True_alpham-0.001</a></strong> to <a href='https://wandb.ai/azizi-causal-perturb/SDCI_new_sim' target=\"_blank\">Weights & Biases</a> (<a href='https://wandb.me/run' target=\"_blank\">docs</a>)<br/>"
      ],
      "text/plain": [
       "<IPython.core.display.HTML object>"
      ]
     },
     "metadata": {},
     "output_type": "display_data"
    },
    {
     "data": {
      "text/html": [
       " View project at <a href='https://wandb.ai/azizi-causal-perturb/SDCI_new_sim' target=\"_blank\">https://wandb.ai/azizi-causal-perturb/SDCI_new_sim</a>"
      ],
      "text/plain": [
       "<IPython.core.display.HTML object>"
      ]
     },
     "metadata": {},
     "output_type": "display_data"
    },
    {
     "data": {
      "text/html": [
       " View run at <a href='https://wandb.ai/azizi-causal-perturb/SDCI_new_sim/runs/7btjp3n4' target=\"_blank\">https://wandb.ai/azizi-causal-perturb/SDCI_new_sim/runs/7btjp3n4</a>"
      ],
      "text/plain": [
       "<IPython.core.display.HTML object>"
      ]
     },
     "metadata": {},
     "output_type": "display_data"
    },
    {
     "name": "stderr",
     "output_type": "stream",
     "text": [
      "/home/justin/miniconda3/envs/cp/lib/python3.9/site-packages/torch/optim/optimizer.py:243: UserWarning: 'has_cuda' is deprecated, please use 'torch.backends.cuda.is_built()'\n",
      "  if not is_compiling() and torch.has_cuda and torch.cuda.is_available():\n"
     ]
    },
    {
     "name": "stdout",
     "output_type": "stream",
     "text": [
      "Epoch 0: loss=67.10, score=250, shd=250.0, gamma=0.00\n",
      "Epoch 100: loss=-4.19, score=855, shd=855.0, gamma=0.00\n",
      "Epoch 200: loss=-7.86, score=1039, shd=1039.0, gamma=0.00\n",
      "Epoch 300: loss=-8.70, score=1142, shd=1142.0, gamma=0.00\n",
      "Epoch 400: loss=-9.09, score=1190, shd=1190.0, gamma=0.00\n",
      "Epoch 500: loss=-9.30, score=1226, shd=1226.0, gamma=0.00\n",
      "Epoch 600: loss=-9.40, score=1235, shd=1235.0, gamma=0.00\n",
      "Epoch 700: loss=-9.50, score=1247, shd=1247.0, gamma=0.00\n",
      "Epoch 800: loss=-9.50, score=1262, shd=1262.0, gamma=0.00\n",
      "Epoch 900: loss=-9.66, score=1272, shd=1272.0, gamma=0.00\n",
      "Recall of mask: 1.0\n",
      "Fraction of possible edges in mask: 0.8808\n",
      "Epoch 0: loss=58.18, score=1470, shd=1470.0, gamma=0.00\n",
      "Epoch 100: loss=26.42, score=238, shd=238.0, gamma=30.03\n",
      "Epoch 200: loss=25.29, score=234, shd=234.0, gamma=30.03\n",
      "Epoch 300: loss=25.31, score=234, shd=234.0, gamma=30.03\n",
      "Epoch 400: loss=25.05, score=234, shd=234.0, gamma=30.03\n",
      "Epoch 500: loss=24.80, score=237, shd=237.0, gamma=30.03\n",
      "Epoch 600: loss=25.05, score=237, shd=237.0, gamma=30.03\n",
      "Epoch 700: loss=24.81, score=238, shd=238.0, gamma=30.03\n",
      "Epoch 800: loss=24.64, score=237, shd=237.0, gamma=30.03\n",
      "Epoch 900: loss=24.54, score=237, shd=237.0, gamma=30.03\n",
      "Finished training in 73.14912366867065 seconds.\n"
     ]
    },
    {
     "data": {
      "text/html": [
       "Waiting for W&B process to finish... <strong style=\"color:green\">(success).</strong>"
      ],
      "text/plain": [
       "<IPython.core.display.HTML object>"
      ]
     },
     "metadata": {},
     "output_type": "display_data"
    },
    {
     "data": {
      "text/html": [
       "<style>\n",
       "    table.wandb td:nth-child(1) { padding: 0 10px; text-align: left ; width: auto;} td:nth-child(2) {text-align: left ; width: 100%}\n",
       "    .wandb-row { display: flex; flex-direction: row; flex-wrap: wrap; justify-content: flex-start; width: 100% }\n",
       "    .wandb-col { display: flex; flex-direction: column; flex-basis: 100%; flex: 1; padding: 10px; }\n",
       "    </style>\n",
       "<div class=\"wandb-row\"><div class=\"wandb-col\"><h3>Run history:</h3><br/><table class=\"wandb\"><tr><td>alpha</td><td>██████████▁▁▁▁▁▁▁▁▁▁</td></tr><tr><td>dag</td><td>▁▁▁▁▁▁▁▁▁▁█▂▂▂▂▂▂▂▂▂</td></tr><tr><td>epoch</td><td>▁▁▂▂▂▃▃▄▄▄▅▅▅▆▆▇▇▇██</td></tr><tr><td>epoch_loss</td><td>█▁▁▁▁▁▁▁▁▁▇▄▄▄▄▄▄▄▄▄</td></tr><tr><td>gamma</td><td>▁▁▁▁▁▁▁▁▁▁▁█████████</td></tr><tr><td>is_prescreen</td><td>██████████▁▁▁▁▁▁▁▁▁▁</td></tr><tr><td>l1</td><td>▂▇▇███████▂▁▁▁▁▁▁▁▁▁</td></tr><tr><td>l2</td><td>▁▆▇▇██████▁▅▆▆▆▆▆▆▆▆</td></tr><tr><td>n_edges_pred</td><td>▁▆▇▇▇▇▇▇▇██▁▁▁▁▁▁▁▁▁</td></tr><tr><td>nll</td><td>█▂▁▁▁▁▁▁▁▁▇▃▃▃▃▃▃▃▃▃</td></tr><tr><td>precision</td><td>▁▃▃▃▃▃▃▃▃▃▂▇████████</td></tr><tr><td>recall</td><td>▁█████████▇▂▂▂▂▂▂▂▂▂</td></tr><tr><td>score</td><td>▁▅▆▆▆▇▇▇▇▇█▁▁▁▁▁▁▁▁▁</td></tr><tr><td>shd</td><td>▁▅▆▆▆▇▇▇▇▇█▁▁▁▁▁▁▁▁▁</td></tr></table><br/></div><div class=\"wandb-col\"><h3>Run summary:</h3><br/><table class=\"wandb\"><tr><td>alpha</td><td>1e-05</td></tr><tr><td>dag</td><td>0.28126</td></tr><tr><td>epoch</td><td>1900</td></tr><tr><td>epoch_loss</td><td>24.53537</td></tr><tr><td>gamma</td><td>30.03003</td></tr><tr><td>is_prescreen</td><td>0</td></tr><tr><td>l1</td><td>0.00108</td></tr><tr><td>l2</td><td>8.15349</td></tr><tr><td>n_edges_pred</td><td>31</td></tr><tr><td>nll</td><td>7.93469</td></tr><tr><td>precision</td><td>0.70968</td></tr><tr><td>recall</td><td>0.088</td></tr><tr><td>score</td><td>237</td></tr><tr><td>shd</td><td>237.0</td></tr></table><br/></div></div>"
      ],
      "text/plain": [
       "<IPython.core.display.HTML object>"
      ]
     },
     "metadata": {},
     "output_type": "display_data"
    },
    {
     "data": {
      "text/html": [
       " View run <strong style=\"color:#cdcd00\">SDCI_pf-0.5_mv-parameter_ss-True_alpham-0.001</strong> at: <a href='https://wandb.ai/azizi-causal-perturb/SDCI_new_sim/runs/7btjp3n4' target=\"_blank\">https://wandb.ai/azizi-causal-perturb/SDCI_new_sim/runs/7btjp3n4</a><br/>Synced 6 W&B file(s), 0 media file(s), 0 artifact file(s) and 0 other file(s)"
      ],
      "text/plain": [
       "<IPython.core.display.HTML object>"
      ]
     },
     "metadata": {},
     "output_type": "display_data"
    },
    {
     "data": {
      "text/html": [
       "Find logs at: <code>./wandb/run-20230712_223740-7btjp3n4/logs</code>"
      ],
      "text/plain": [
       "<IPython.core.display.HTML object>"
      ]
     },
     "metadata": {},
     "output_type": "display_data"
    },
    {
     "data": {
      "application/vnd.jupyter.widget-view+json": {
       "model_id": "e0ab7fc721b14666a1748cdd257b917d",
       "version_major": 2,
       "version_minor": 0
      },
      "text/plain": [
       "VBox(children=(Label(value='Waiting for wandb.init()...\\r'), FloatProgress(value=0.016669632991154988, max=1.0…"
      ]
     },
     "metadata": {},
     "output_type": "display_data"
    },
    {
     "data": {
      "text/html": [
       "wandb version 0.15.5 is available!  To upgrade, please run:\n",
       " $ pip install wandb --upgrade"
      ],
      "text/plain": [
       "<IPython.core.display.HTML object>"
      ]
     },
     "metadata": {},
     "output_type": "display_data"
    },
    {
     "data": {
      "text/html": [
       "Tracking run with wandb version 0.15.2"
      ],
      "text/plain": [
       "<IPython.core.display.HTML object>"
      ]
     },
     "metadata": {},
     "output_type": "display_data"
    },
    {
     "data": {
      "text/html": [
       "Run data is saved locally in <code>/home/justin/ghrepos/causal-perturbseq/notebooks/wandb/run-20230712_223901-rx1js42h</code>"
      ],
      "text/plain": [
       "<IPython.core.display.HTML object>"
      ]
     },
     "metadata": {},
     "output_type": "display_data"
    },
    {
     "data": {
      "text/html": [
       "Syncing run <strong><a href='https://wandb.ai/azizi-causal-perturb/SDCI_new_sim/runs/rx1js42h' target=\"_blank\">SDCI_pf-0.5_mv-parameter_ss-False_alpham-1</a></strong> to <a href='https://wandb.ai/azizi-causal-perturb/SDCI_new_sim' target=\"_blank\">Weights & Biases</a> (<a href='https://wandb.me/run' target=\"_blank\">docs</a>)<br/>"
      ],
      "text/plain": [
       "<IPython.core.display.HTML object>"
      ]
     },
     "metadata": {},
     "output_type": "display_data"
    },
    {
     "data": {
      "text/html": [
       " View project at <a href='https://wandb.ai/azizi-causal-perturb/SDCI_new_sim' target=\"_blank\">https://wandb.ai/azizi-causal-perturb/SDCI_new_sim</a>"
      ],
      "text/plain": [
       "<IPython.core.display.HTML object>"
      ]
     },
     "metadata": {},
     "output_type": "display_data"
    },
    {
     "data": {
      "text/html": [
       " View run at <a href='https://wandb.ai/azizi-causal-perturb/SDCI_new_sim/runs/rx1js42h' target=\"_blank\">https://wandb.ai/azizi-causal-perturb/SDCI_new_sim/runs/rx1js42h</a>"
      ],
      "text/plain": [
       "<IPython.core.display.HTML object>"
      ]
     },
     "metadata": {},
     "output_type": "display_data"
    },
    {
     "name": "stderr",
     "output_type": "stream",
     "text": [
      "/home/justin/miniconda3/envs/cp/lib/python3.9/site-packages/torch/optim/optimizer.py:243: UserWarning: 'has_cuda' is deprecated, please use 'torch.backends.cuda.is_built()'\n",
      "  if not is_compiling() and torch.has_cuda and torch.cuda.is_available():\n"
     ]
    },
    {
     "name": "stdout",
     "output_type": "stream",
     "text": [
      "Epoch 0: loss=69.44, score=250, shd=250.0, gamma=0.00\n",
      "Epoch 100: loss=8.92, score=183, shd=183.0, gamma=0.00\n",
      "Epoch 200: loss=5.95, score=161, shd=161.0, gamma=0.00\n",
      "Epoch 300: loss=5.38, score=152, shd=152.0, gamma=0.00\n",
      "Epoch 400: loss=5.06, score=151, shd=151.0, gamma=0.00\n",
      "Epoch 500: loss=4.93, score=149, shd=149.0, gamma=0.00\n",
      "Epoch 600: loss=4.70, score=148, shd=148.0, gamma=0.00\n",
      "Epoch 700: loss=4.64, score=147, shd=147.0, gamma=0.00\n",
      "Epoch 800: loss=4.55, score=147, shd=147.0, gamma=0.00\n",
      "Epoch 900: loss=4.44, score=150, shd=150.0, gamma=0.00\n",
      "Recall of mask: 0.928\n",
      "Fraction of possible edges in mask: 0.1876\n",
      "Epoch 0: loss=66.57, score=239, shd=239.0, gamma=0.00\n",
      "Epoch 100: loss=29.79, score=184, shd=184.0, gamma=30.03\n",
      "Epoch 200: loss=29.27, score=187, shd=187.0, gamma=30.03\n",
      "Epoch 300: loss=29.12, score=186, shd=186.0, gamma=30.03\n",
      "Epoch 400: loss=29.11, score=184, shd=184.0, gamma=30.03\n",
      "Epoch 500: loss=29.02, score=184, shd=184.0, gamma=30.03\n",
      "Epoch 600: loss=29.03, score=185, shd=185.0, gamma=30.03\n",
      "Epoch 700: loss=29.05, score=188, shd=188.0, gamma=30.03\n",
      "Epoch 800: loss=28.95, score=184, shd=184.0, gamma=30.03\n",
      "Epoch 900: loss=29.01, score=187, shd=187.0, gamma=30.03\n",
      "Finished training in 74.2469973564148 seconds.\n"
     ]
    },
    {
     "data": {
      "text/html": [
       "Waiting for W&B process to finish... <strong style=\"color:green\">(success).</strong>"
      ],
      "text/plain": [
       "<IPython.core.display.HTML object>"
      ]
     },
     "metadata": {},
     "output_type": "display_data"
    },
    {
     "data": {
      "application/vnd.jupyter.widget-view+json": {
       "model_id": "ac3e5a6043d34f2882b5deb9722c73ce",
       "version_major": 2,
       "version_minor": 0
      },
      "text/plain": [
       "VBox(children=(Label(value='0.004 MB of 0.013 MB uploaded (0.000 MB deduped)\\r'), FloatProgress(value=0.273442…"
      ]
     },
     "metadata": {},
     "output_type": "display_data"
    },
    {
     "data": {
      "text/html": [
       "<style>\n",
       "    table.wandb td:nth-child(1) { padding: 0 10px; text-align: left ; width: auto;} td:nth-child(2) {text-align: left ; width: 100%}\n",
       "    .wandb-row { display: flex; flex-direction: row; flex-wrap: wrap; justify-content: flex-start; width: 100% }\n",
       "    .wandb-col { display: flex; flex-direction: column; flex-basis: 100%; flex: 1; padding: 10px; }\n",
       "    </style>\n",
       "<div class=\"wandb-row\"><div class=\"wandb-col\"><h3>Run history:</h3><br/><table class=\"wandb\"><tr><td>alpha</td><td>██████████▁▁▁▁▁▁▁▁▁▁</td></tr><tr><td>dag</td><td>▁▁▁▁▁▁▁▁▁▁█▅▄▄▄▄▄▄▄▄</td></tr><tr><td>epoch</td><td>▁▁▂▂▂▃▃▄▄▄▅▅▅▆▆▇▇▇██</td></tr><tr><td>epoch_loss</td><td>█▁▁▁▁▁▁▁▁▁█▄▄▄▄▄▄▄▄▄</td></tr><tr><td>gamma</td><td>▁▁▁▁▁▁▁▁▁▁▁█████████</td></tr><tr><td>is_prescreen</td><td>██████████▁▁▁▁▁▁▁▁▁▁</td></tr><tr><td>l1</td><td>▂▇████████▂▁▁▁▁▁▁▁▁▁</td></tr><tr><td>l2</td><td>▁▅▆▆▆▆▆▆▆▆▁▇████████</td></tr><tr><td>n_edges_pred</td><td>▁▇█████████▃▃▃▃▃▃▃▃▃</td></tr><tr><td>nll</td><td>█▂▁▁▁▁▁▁▁▁█▃▃▃▃▃▃▃▃▃</td></tr><tr><td>precision</td><td>▁▆▆▆▆▆▆▆▆▆▅█████████</td></tr><tr><td>recall</td><td>▁▇████████▇▄▃▃▃▃▃▃▃▃</td></tr><tr><td>score</td><td>█▃▂▁▁▁▁▁▁▁▇▄▄▄▄▄▄▄▄▄</td></tr><tr><td>shd</td><td>█▃▂▁▁▁▁▁▁▁▇▄▄▄▄▄▄▄▄▄</td></tr></table><br/></div><div class=\"wandb-col\"><h3>Run summary:</h3><br/><table class=\"wandb\"><tr><td>alpha</td><td>0.005</td></tr><tr><td>dag</td><td>0.29976</td></tr><tr><td>epoch</td><td>1900</td></tr><tr><td>epoch_loss</td><td>29.00761</td></tr><tr><td>gamma</td><td>30.03003</td></tr><tr><td>is_prescreen</td><td>0</td></tr><tr><td>l1</td><td>0.9001</td></tr><tr><td>l2</td><td>9.89308</td></tr><tr><td>n_edges_pred</td><td>89</td></tr><tr><td>nll</td><td>9.21253</td></tr><tr><td>precision</td><td>0.85393</td></tr><tr><td>recall</td><td>0.304</td></tr><tr><td>score</td><td>187</td></tr><tr><td>shd</td><td>187.0</td></tr></table><br/></div></div>"
      ],
      "text/plain": [
       "<IPython.core.display.HTML object>"
      ]
     },
     "metadata": {},
     "output_type": "display_data"
    },
    {
     "data": {
      "text/html": [
       " View run <strong style=\"color:#cdcd00\">SDCI_pf-0.5_mv-parameter_ss-False_alpham-1</strong> at: <a href='https://wandb.ai/azizi-causal-perturb/SDCI_new_sim/runs/rx1js42h' target=\"_blank\">https://wandb.ai/azizi-causal-perturb/SDCI_new_sim/runs/rx1js42h</a><br/>Synced 6 W&B file(s), 0 media file(s), 0 artifact file(s) and 0 other file(s)"
      ],
      "text/plain": [
       "<IPython.core.display.HTML object>"
      ]
     },
     "metadata": {},
     "output_type": "display_data"
    },
    {
     "data": {
      "text/html": [
       "Find logs at: <code>./wandb/run-20230712_223901-rx1js42h/logs</code>"
      ],
      "text/plain": [
       "<IPython.core.display.HTML object>"
      ]
     },
     "metadata": {},
     "output_type": "display_data"
    },
    {
     "data": {
      "application/vnd.jupyter.widget-view+json": {
       "model_id": "7ae80532a6b543afbd0a39219e623509",
       "version_major": 2,
       "version_minor": 0
      },
      "text/plain": [
       "VBox(children=(Label(value='Waiting for wandb.init()...\\r'), FloatProgress(value=0.016669573495164514, max=1.0…"
      ]
     },
     "metadata": {},
     "output_type": "display_data"
    },
    {
     "data": {
      "text/html": [
       "wandb version 0.15.5 is available!  To upgrade, please run:\n",
       " $ pip install wandb --upgrade"
      ],
      "text/plain": [
       "<IPython.core.display.HTML object>"
      ]
     },
     "metadata": {},
     "output_type": "display_data"
    },
    {
     "data": {
      "text/html": [
       "Tracking run with wandb version 0.15.2"
      ],
      "text/plain": [
       "<IPython.core.display.HTML object>"
      ]
     },
     "metadata": {},
     "output_type": "display_data"
    },
    {
     "data": {
      "text/html": [
       "Run data is saved locally in <code>/home/justin/ghrepos/causal-perturbseq/notebooks/wandb/run-20230712_224021-qu4khq0y</code>"
      ],
      "text/plain": [
       "<IPython.core.display.HTML object>"
      ]
     },
     "metadata": {},
     "output_type": "display_data"
    },
    {
     "data": {
      "text/html": [
       "Syncing run <strong><a href='https://wandb.ai/azizi-causal-perturb/SDCI_new_sim/runs/qu4khq0y' target=\"_blank\">SDCI_pf-0.5_mv-parameter_ss-False_alpham-0.1</a></strong> to <a href='https://wandb.ai/azizi-causal-perturb/SDCI_new_sim' target=\"_blank\">Weights & Biases</a> (<a href='https://wandb.me/run' target=\"_blank\">docs</a>)<br/>"
      ],
      "text/plain": [
       "<IPython.core.display.HTML object>"
      ]
     },
     "metadata": {},
     "output_type": "display_data"
    },
    {
     "data": {
      "text/html": [
       " View project at <a href='https://wandb.ai/azizi-causal-perturb/SDCI_new_sim' target=\"_blank\">https://wandb.ai/azizi-causal-perturb/SDCI_new_sim</a>"
      ],
      "text/plain": [
       "<IPython.core.display.HTML object>"
      ]
     },
     "metadata": {},
     "output_type": "display_data"
    },
    {
     "data": {
      "text/html": [
       " View run at <a href='https://wandb.ai/azizi-causal-perturb/SDCI_new_sim/runs/qu4khq0y' target=\"_blank\">https://wandb.ai/azizi-causal-perturb/SDCI_new_sim/runs/qu4khq0y</a>"
      ],
      "text/plain": [
       "<IPython.core.display.HTML object>"
      ]
     },
     "metadata": {},
     "output_type": "display_data"
    },
    {
     "name": "stderr",
     "output_type": "stream",
     "text": [
      "/home/justin/miniconda3/envs/cp/lib/python3.9/site-packages/torch/optim/optimizer.py:243: UserWarning: 'has_cuda' is deprecated, please use 'torch.backends.cuda.is_built()'\n",
      "  if not is_compiling() and torch.has_cuda and torch.cuda.is_available():\n"
     ]
    },
    {
     "name": "stdout",
     "output_type": "stream",
     "text": [
      "Epoch 0: loss=66.43, score=250, shd=250.0, gamma=0.00\n",
      "Epoch 100: loss=-1.37, score=456, shd=456.0, gamma=0.00\n",
      "Epoch 200: loss=-5.25, score=619, shd=619.0, gamma=0.00\n",
      "Epoch 300: loss=-6.12, score=686, shd=686.0, gamma=0.00\n",
      "Epoch 400: loss=-6.56, score=690, shd=690.0, gamma=0.00\n",
      "Epoch 500: loss=-6.74, score=706, shd=706.0, gamma=0.00\n",
      "Epoch 600: loss=-6.92, score=709, shd=709.0, gamma=0.00\n",
      "Epoch 700: loss=-7.03, score=716, shd=716.0, gamma=0.00\n",
      "Epoch 800: loss=-7.09, score=728, shd=728.0, gamma=0.00\n",
      "Epoch 900: loss=-7.18, score=731, shd=731.0, gamma=0.00\n",
      "Recall of mask: 1.0\n",
      "Fraction of possible edges in mask: 0.6392\n",
      "Epoch 0: loss=59.30, score=1020, shd=1020.0, gamma=0.00\n",
      "Epoch 100: loss=26.94, score=227, shd=227.0, gamma=30.03\n",
      "Epoch 200: loss=25.88, score=225, shd=225.0, gamma=30.03\n",
      "Epoch 300: loss=25.73, score=226, shd=226.0, gamma=30.03\n",
      "Epoch 400: loss=25.74, score=226, shd=226.0, gamma=30.03\n",
      "Epoch 500: loss=25.56, score=226, shd=226.0, gamma=30.03\n",
      "Epoch 600: loss=25.47, score=226, shd=226.0, gamma=30.03\n",
      "Epoch 700: loss=25.52, score=226, shd=226.0, gamma=30.03\n",
      "Epoch 800: loss=25.58, score=226, shd=226.0, gamma=30.03\n",
      "Epoch 900: loss=25.38, score=223, shd=223.0, gamma=30.03\n",
      "Finished training in 72.80617308616638 seconds.\n"
     ]
    },
    {
     "data": {
      "text/html": [
       "Waiting for W&B process to finish... <strong style=\"color:green\">(success).</strong>"
      ],
      "text/plain": [
       "<IPython.core.display.HTML object>"
      ]
     },
     "metadata": {},
     "output_type": "display_data"
    },
    {
     "data": {
      "application/vnd.jupyter.widget-view+json": {
       "model_id": "43ce98f628c8428c81a5c6c858121b05",
       "version_major": 2,
       "version_minor": 0
      },
      "text/plain": [
       "VBox(children=(Label(value='0.004 MB of 0.004 MB uploaded (0.000 MB deduped)\\r'), FloatProgress(value=1.0, max…"
      ]
     },
     "metadata": {},
     "output_type": "display_data"
    },
    {
     "data": {
      "text/html": [
       "<style>\n",
       "    table.wandb td:nth-child(1) { padding: 0 10px; text-align: left ; width: auto;} td:nth-child(2) {text-align: left ; width: 100%}\n",
       "    .wandb-row { display: flex; flex-direction: row; flex-wrap: wrap; justify-content: flex-start; width: 100% }\n",
       "    .wandb-col { display: flex; flex-direction: column; flex-basis: 100%; flex: 1; padding: 10px; }\n",
       "    </style>\n",
       "<div class=\"wandb-row\"><div class=\"wandb-col\"><h3>Run history:</h3><br/><table class=\"wandb\"><tr><td>alpha</td><td>██████████▁▁▁▁▁▁▁▁▁▁</td></tr><tr><td>dag</td><td>▁▁▁▁▁▁▁▁▁▁█▂▂▂▂▂▂▂▂▂</td></tr><tr><td>epoch</td><td>▁▁▂▂▂▃▃▄▄▄▅▅▅▆▆▇▇▇██</td></tr><tr><td>epoch_loss</td><td>█▂▁▁▁▁▁▁▁▁▇▄▄▄▄▄▄▄▄▄</td></tr><tr><td>gamma</td><td>▁▁▁▁▁▁▁▁▁▁▁█████████</td></tr><tr><td>is_prescreen</td><td>██████████▁▁▁▁▁▁▁▁▁▁</td></tr><tr><td>l1</td><td>▂▆▇███████▂▁▁▁▁▁▁▁▁▁</td></tr><tr><td>l2</td><td>▁▅▇▇██████▁▆▆▆▆▆▇▇▇▇</td></tr><tr><td>n_edges_pred</td><td>▁▅▆▇▇▇▇▇▇▇█▁▁▁▁▁▁▁▁▁</td></tr><tr><td>nll</td><td>█▂▁▁▁▁▁▁▁▁▇▃▃▃▃▃▃▃▃▃</td></tr><tr><td>precision</td><td>▁▄▃▃▃▃▃▃▃▃▂█████████</td></tr><tr><td>recall</td><td>▁█████████▇▂▂▂▂▂▂▂▂▂</td></tr><tr><td>score</td><td>▁▃▄▅▅▅▅▅▅▅█▁▁▁▁▁▁▁▁▁</td></tr><tr><td>shd</td><td>▁▃▄▅▅▅▅▅▅▅█▁▁▁▁▁▁▁▁▁</td></tr></table><br/></div><div class=\"wandb-col\"><h3>Run summary:</h3><br/><table class=\"wandb\"><tr><td>alpha</td><td>0.0005</td></tr><tr><td>dag</td><td>0.27974</td></tr><tr><td>epoch</td><td>1900</td></tr><tr><td>epoch_loss</td><td>25.38342</td></tr><tr><td>gamma</td><td>30.03003</td></tr><tr><td>is_prescreen</td><td>0</td></tr><tr><td>l1</td><td>0.10306</td></tr><tr><td>l2</td><td>8.3896</td></tr><tr><td>n_edges_pred</td><td>41</td></tr><tr><td>nll</td><td>8.49001</td></tr><tr><td>precision</td><td>0.82927</td></tr><tr><td>recall</td><td>0.136</td></tr><tr><td>score</td><td>223</td></tr><tr><td>shd</td><td>223.0</td></tr></table><br/></div></div>"
      ],
      "text/plain": [
       "<IPython.core.display.HTML object>"
      ]
     },
     "metadata": {},
     "output_type": "display_data"
    },
    {
     "data": {
      "text/html": [
       " View run <strong style=\"color:#cdcd00\">SDCI_pf-0.5_mv-parameter_ss-False_alpham-0.1</strong> at: <a href='https://wandb.ai/azizi-causal-perturb/SDCI_new_sim/runs/qu4khq0y' target=\"_blank\">https://wandb.ai/azizi-causal-perturb/SDCI_new_sim/runs/qu4khq0y</a><br/>Synced 6 W&B file(s), 0 media file(s), 0 artifact file(s) and 0 other file(s)"
      ],
      "text/plain": [
       "<IPython.core.display.HTML object>"
      ]
     },
     "metadata": {},
     "output_type": "display_data"
    },
    {
     "data": {
      "text/html": [
       "Find logs at: <code>./wandb/run-20230712_224021-qu4khq0y/logs</code>"
      ],
      "text/plain": [
       "<IPython.core.display.HTML object>"
      ]
     },
     "metadata": {},
     "output_type": "display_data"
    },
    {
     "data": {
      "application/vnd.jupyter.widget-view+json": {
       "model_id": "62d5ae6f1f07411d9912db512c22ff15",
       "version_major": 2,
       "version_minor": 0
      },
      "text/plain": [
       "VBox(children=(Label(value='Waiting for wandb.init()...\\r'), FloatProgress(value=0.01666962948317329, max=1.0)…"
      ]
     },
     "metadata": {},
     "output_type": "display_data"
    },
    {
     "data": {
      "text/html": [
       "wandb version 0.15.5 is available!  To upgrade, please run:\n",
       " $ pip install wandb --upgrade"
      ],
      "text/plain": [
       "<IPython.core.display.HTML object>"
      ]
     },
     "metadata": {},
     "output_type": "display_data"
    },
    {
     "data": {
      "text/html": [
       "Tracking run with wandb version 0.15.2"
      ],
      "text/plain": [
       "<IPython.core.display.HTML object>"
      ]
     },
     "metadata": {},
     "output_type": "display_data"
    },
    {
     "data": {
      "text/html": [
       "Run data is saved locally in <code>/home/justin/ghrepos/causal-perturbseq/notebooks/wandb/run-20230712_224140-18v00qit</code>"
      ],
      "text/plain": [
       "<IPython.core.display.HTML object>"
      ]
     },
     "metadata": {},
     "output_type": "display_data"
    },
    {
     "data": {
      "text/html": [
       "Syncing run <strong><a href='https://wandb.ai/azizi-causal-perturb/SDCI_new_sim/runs/18v00qit' target=\"_blank\">SDCI_pf-0.5_mv-parameter_ss-False_alpham-0.01</a></strong> to <a href='https://wandb.ai/azizi-causal-perturb/SDCI_new_sim' target=\"_blank\">Weights & Biases</a> (<a href='https://wandb.me/run' target=\"_blank\">docs</a>)<br/>"
      ],
      "text/plain": [
       "<IPython.core.display.HTML object>"
      ]
     },
     "metadata": {},
     "output_type": "display_data"
    },
    {
     "data": {
      "text/html": [
       " View project at <a href='https://wandb.ai/azizi-causal-perturb/SDCI_new_sim' target=\"_blank\">https://wandb.ai/azizi-causal-perturb/SDCI_new_sim</a>"
      ],
      "text/plain": [
       "<IPython.core.display.HTML object>"
      ]
     },
     "metadata": {},
     "output_type": "display_data"
    },
    {
     "data": {
      "text/html": [
       " View run at <a href='https://wandb.ai/azizi-causal-perturb/SDCI_new_sim/runs/18v00qit' target=\"_blank\">https://wandb.ai/azizi-causal-perturb/SDCI_new_sim/runs/18v00qit</a>"
      ],
      "text/plain": [
       "<IPython.core.display.HTML object>"
      ]
     },
     "metadata": {},
     "output_type": "display_data"
    },
    {
     "name": "stderr",
     "output_type": "stream",
     "text": [
      "/home/justin/miniconda3/envs/cp/lib/python3.9/site-packages/torch/optim/optimizer.py:243: UserWarning: 'has_cuda' is deprecated, please use 'torch.backends.cuda.is_built()'\n",
      "  if not is_compiling() and torch.has_cuda and torch.cuda.is_available():\n"
     ]
    },
    {
     "name": "stdout",
     "output_type": "stream",
     "text": [
      "Epoch 0: loss=67.94, score=250, shd=250.0, gamma=0.00\n",
      "Epoch 100: loss=-3.78, score=790, shd=790.0, gamma=0.00\n",
      "Epoch 200: loss=-7.25, score=1023, shd=1023.0, gamma=0.00\n",
      "Epoch 300: loss=-8.11, score=1114, shd=1114.0, gamma=0.00\n",
      "Epoch 400: loss=-8.50, score=1150, shd=1150.0, gamma=0.00\n",
      "Epoch 500: loss=-8.73, score=1167, shd=1167.0, gamma=0.00\n",
      "Epoch 600: loss=-8.85, score=1182, shd=1182.0, gamma=0.00\n",
      "Epoch 700: loss=-8.98, score=1200, shd=1200.0, gamma=0.00\n",
      "Epoch 800: loss=-9.04, score=1214, shd=1214.0, gamma=0.00\n",
      "Epoch 900: loss=-9.14, score=1208, shd=1208.0, gamma=0.00\n",
      "Recall of mask: 1.0\n",
      "Fraction of possible edges in mask: 0.874\n",
      "Epoch 0: loss=57.13, score=1407, shd=1407.0, gamma=0.00\n",
      "Epoch 100: loss=26.62, score=234, shd=234.0, gamma=30.03\n",
      "Epoch 200: loss=25.61, score=235, shd=235.0, gamma=30.03\n",
      "Epoch 300: loss=25.46, score=234, shd=234.0, gamma=30.03\n",
      "Epoch 400: loss=25.04, score=234, shd=234.0, gamma=30.03\n",
      "Epoch 500: loss=24.87, score=234, shd=234.0, gamma=30.03\n",
      "Epoch 600: loss=24.91, score=233, shd=233.0, gamma=30.03\n",
      "Epoch 700: loss=24.88, score=233, shd=233.0, gamma=30.03\n",
      "Epoch 800: loss=24.92, score=231, shd=231.0, gamma=30.03\n",
      "Epoch 900: loss=24.75, score=233, shd=233.0, gamma=30.03\n",
      "Finished training in 73.52713632583618 seconds.\n"
     ]
    },
    {
     "data": {
      "text/html": [
       "Waiting for W&B process to finish... <strong style=\"color:green\">(success).</strong>"
      ],
      "text/plain": [
       "<IPython.core.display.HTML object>"
      ]
     },
     "metadata": {},
     "output_type": "display_data"
    },
    {
     "data": {
      "application/vnd.jupyter.widget-view+json": {
       "model_id": "65394d4856b8488285343d68bcdedeb7",
       "version_major": 2,
       "version_minor": 0
      },
      "text/plain": [
       "VBox(children=(Label(value='0.004 MB of 0.004 MB uploaded (0.000 MB deduped)\\r'), FloatProgress(value=1.0, max…"
      ]
     },
     "metadata": {},
     "output_type": "display_data"
    },
    {
     "data": {
      "text/html": [
       "<style>\n",
       "    table.wandb td:nth-child(1) { padding: 0 10px; text-align: left ; width: auto;} td:nth-child(2) {text-align: left ; width: 100%}\n",
       "    .wandb-row { display: flex; flex-direction: row; flex-wrap: wrap; justify-content: flex-start; width: 100% }\n",
       "    .wandb-col { display: flex; flex-direction: column; flex-basis: 100%; flex: 1; padding: 10px; }\n",
       "    </style>\n",
       "<div class=\"wandb-row\"><div class=\"wandb-col\"><h3>Run history:</h3><br/><table class=\"wandb\"><tr><td>alpha</td><td>██████████▁▁▁▁▁▁▁▁▁▁</td></tr><tr><td>dag</td><td>▁▁▁▁▁▁▁▁▁▁█▂▂▂▂▂▂▂▂▂</td></tr><tr><td>epoch</td><td>▁▁▂▂▂▃▃▄▄▄▅▅▅▆▆▇▇▇██</td></tr><tr><td>epoch_loss</td><td>█▁▁▁▁▁▁▁▁▁▇▄▄▄▄▄▄▄▄▄</td></tr><tr><td>gamma</td><td>▁▁▁▁▁▁▁▁▁▁▁█████████</td></tr><tr><td>is_prescreen</td><td>██████████▁▁▁▁▁▁▁▁▁▁</td></tr><tr><td>l1</td><td>▂▆▇███████▂▁▁▁▁▁▁▁▁▁</td></tr><tr><td>l2</td><td>▁▅▇▇██████▁▅▆▆▆▆▆▆▆▆</td></tr><tr><td>n_edges_pred</td><td>▁▆▇▇▇▇▇▇███▁▁▁▁▁▁▁▁▁</td></tr><tr><td>nll</td><td>█▂▁▁▁▁▁▁▁▁▇▃▃▃▃▃▃▃▃▃</td></tr><tr><td>precision</td><td>▁▃▃▃▃▃▃▃▃▃▂█████████</td></tr><tr><td>recall</td><td>▁█████████▇▂▂▂▂▂▂▂▂▂</td></tr><tr><td>score</td><td>▁▄▆▆▆▇▇▇▇▇█▁▁▁▁▁▁▁▁▁</td></tr><tr><td>shd</td><td>▁▄▆▆▆▇▇▇▇▇█▁▁▁▁▁▁▁▁▁</td></tr></table><br/></div><div class=\"wandb-col\"><h3>Run summary:</h3><br/><table class=\"wandb\"><tr><td>alpha</td><td>5e-05</td></tr><tr><td>dag</td><td>0.28079</td></tr><tr><td>epoch</td><td>1900</td></tr><tr><td>epoch_loss</td><td>24.74693</td></tr><tr><td>gamma</td><td>30.03003</td></tr><tr><td>is_prescreen</td><td>0</td></tr><tr><td>l1</td><td>0.01078</td></tr><tr><td>l2</td><td>8.12404</td></tr><tr><td>n_edges_pred</td><td>37</td></tr><tr><td>nll</td><td>8.17993</td></tr><tr><td>precision</td><td>0.72973</td></tr><tr><td>recall</td><td>0.108</td></tr><tr><td>score</td><td>233</td></tr><tr><td>shd</td><td>233.0</td></tr></table><br/></div></div>"
      ],
      "text/plain": [
       "<IPython.core.display.HTML object>"
      ]
     },
     "metadata": {},
     "output_type": "display_data"
    },
    {
     "data": {
      "text/html": [
       " View run <strong style=\"color:#cdcd00\">SDCI_pf-0.5_mv-parameter_ss-False_alpham-0.01</strong> at: <a href='https://wandb.ai/azizi-causal-perturb/SDCI_new_sim/runs/18v00qit' target=\"_blank\">https://wandb.ai/azizi-causal-perturb/SDCI_new_sim/runs/18v00qit</a><br/>Synced 6 W&B file(s), 0 media file(s), 0 artifact file(s) and 0 other file(s)"
      ],
      "text/plain": [
       "<IPython.core.display.HTML object>"
      ]
     },
     "metadata": {},
     "output_type": "display_data"
    },
    {
     "data": {
      "text/html": [
       "Find logs at: <code>./wandb/run-20230712_224140-18v00qit/logs</code>"
      ],
      "text/plain": [
       "<IPython.core.display.HTML object>"
      ]
     },
     "metadata": {},
     "output_type": "display_data"
    },
    {
     "data": {
      "application/vnd.jupyter.widget-view+json": {
       "model_id": "1de0484c0065499a898e2218b08db5bb",
       "version_major": 2,
       "version_minor": 0
      },
      "text/plain": [
       "VBox(children=(Label(value='Waiting for wandb.init()...\\r'), FloatProgress(value=0.01666858810931444, max=1.0)…"
      ]
     },
     "metadata": {},
     "output_type": "display_data"
    },
    {
     "data": {
      "text/html": [
       "wandb version 0.15.5 is available!  To upgrade, please run:\n",
       " $ pip install wandb --upgrade"
      ],
      "text/plain": [
       "<IPython.core.display.HTML object>"
      ]
     },
     "metadata": {},
     "output_type": "display_data"
    },
    {
     "data": {
      "text/html": [
       "Tracking run with wandb version 0.15.2"
      ],
      "text/plain": [
       "<IPython.core.display.HTML object>"
      ]
     },
     "metadata": {},
     "output_type": "display_data"
    },
    {
     "data": {
      "text/html": [
       "Run data is saved locally in <code>/home/justin/ghrepos/causal-perturbseq/notebooks/wandb/run-20230712_224301-1ajzyhi9</code>"
      ],
      "text/plain": [
       "<IPython.core.display.HTML object>"
      ]
     },
     "metadata": {},
     "output_type": "display_data"
    },
    {
     "data": {
      "text/html": [
       "Syncing run <strong><a href='https://wandb.ai/azizi-causal-perturb/SDCI_new_sim/runs/1ajzyhi9' target=\"_blank\">SDCI_pf-0.5_mv-parameter_ss-False_alpham-0.001</a></strong> to <a href='https://wandb.ai/azizi-causal-perturb/SDCI_new_sim' target=\"_blank\">Weights & Biases</a> (<a href='https://wandb.me/run' target=\"_blank\">docs</a>)<br/>"
      ],
      "text/plain": [
       "<IPython.core.display.HTML object>"
      ]
     },
     "metadata": {},
     "output_type": "display_data"
    },
    {
     "data": {
      "text/html": [
       " View project at <a href='https://wandb.ai/azizi-causal-perturb/SDCI_new_sim' target=\"_blank\">https://wandb.ai/azizi-causal-perturb/SDCI_new_sim</a>"
      ],
      "text/plain": [
       "<IPython.core.display.HTML object>"
      ]
     },
     "metadata": {},
     "output_type": "display_data"
    },
    {
     "data": {
      "text/html": [
       " View run at <a href='https://wandb.ai/azizi-causal-perturb/SDCI_new_sim/runs/1ajzyhi9' target=\"_blank\">https://wandb.ai/azizi-causal-perturb/SDCI_new_sim/runs/1ajzyhi9</a>"
      ],
      "text/plain": [
       "<IPython.core.display.HTML object>"
      ]
     },
     "metadata": {},
     "output_type": "display_data"
    },
    {
     "name": "stderr",
     "output_type": "stream",
     "text": [
      "/home/justin/miniconda3/envs/cp/lib/python3.9/site-packages/torch/optim/optimizer.py:243: UserWarning: 'has_cuda' is deprecated, please use 'torch.backends.cuda.is_built()'\n",
      "  if not is_compiling() and torch.has_cuda and torch.cuda.is_available():\n"
     ]
    },
    {
     "name": "stdout",
     "output_type": "stream",
     "text": [
      "Epoch 0: loss=67.39, score=250, shd=250.0, gamma=0.00\n",
      "Epoch 100: loss=-3.69, score=845, shd=845.0, gamma=0.00\n",
      "Epoch 200: loss=-7.26, score=1060, shd=1060.0, gamma=0.00\n",
      "Epoch 300: loss=-8.08, score=1126, shd=1126.0, gamma=0.00\n",
      "Epoch 400: loss=-8.55, score=1165, shd=1165.0, gamma=0.00\n",
      "Epoch 500: loss=-8.78, score=1195, shd=1195.0, gamma=0.00\n",
      "Epoch 600: loss=-8.95, score=1219, shd=1219.0, gamma=0.00\n",
      "Epoch 700: loss=-9.10, score=1241, shd=1241.0, gamma=0.00\n",
      "Epoch 800: loss=-9.11, score=1247, shd=1247.0, gamma=0.00\n",
      "Epoch 900: loss=-9.25, score=1246, shd=1246.0, gamma=0.00\n",
      "Recall of mask: 1.0\n",
      "Fraction of possible edges in mask: 0.8736\n",
      "Epoch 0: loss=57.70, score=1408, shd=1408.0, gamma=0.00\n",
      "Epoch 100: loss=27.00, score=235, shd=235.0, gamma=30.03\n",
      "Epoch 200: loss=26.10, score=234, shd=234.0, gamma=30.03\n",
      "Epoch 300: loss=25.89, score=235, shd=235.0, gamma=30.03\n",
      "Epoch 400: loss=25.73, score=232, shd=232.0, gamma=30.03\n",
      "Epoch 500: loss=25.58, score=232, shd=232.0, gamma=30.03\n",
      "Epoch 600: loss=25.53, score=232, shd=232.0, gamma=30.03\n",
      "Epoch 700: loss=25.41, score=233, shd=233.0, gamma=30.03\n",
      "Epoch 800: loss=25.44, score=232, shd=232.0, gamma=30.03\n",
      "Epoch 900: loss=25.67, score=231, shd=231.0, gamma=30.03\n",
      "Finished training in 74.84083342552185 seconds.\n"
     ]
    },
    {
     "data": {
      "text/html": [
       "Waiting for W&B process to finish... <strong style=\"color:green\">(success).</strong>"
      ],
      "text/plain": [
       "<IPython.core.display.HTML object>"
      ]
     },
     "metadata": {},
     "output_type": "display_data"
    },
    {
     "data": {
      "application/vnd.jupyter.widget-view+json": {
       "model_id": "16b50031c2f744a7a4240da8984b8562",
       "version_major": 2,
       "version_minor": 0
      },
      "text/plain": [
       "VBox(children=(Label(value='0.004 MB of 0.004 MB uploaded (0.000 MB deduped)\\r'), FloatProgress(value=1.0, max…"
      ]
     },
     "metadata": {},
     "output_type": "display_data"
    },
    {
     "data": {
      "text/html": [
       "<style>\n",
       "    table.wandb td:nth-child(1) { padding: 0 10px; text-align: left ; width: auto;} td:nth-child(2) {text-align: left ; width: 100%}\n",
       "    .wandb-row { display: flex; flex-direction: row; flex-wrap: wrap; justify-content: flex-start; width: 100% }\n",
       "    .wandb-col { display: flex; flex-direction: column; flex-basis: 100%; flex: 1; padding: 10px; }\n",
       "    </style>\n",
       "<div class=\"wandb-row\"><div class=\"wandb-col\"><h3>Run history:</h3><br/><table class=\"wandb\"><tr><td>alpha</td><td>██████████▁▁▁▁▁▁▁▁▁▁</td></tr><tr><td>dag</td><td>▁▁▁▁▁▁▁▁▁▁█▂▂▂▂▂▂▂▂▂</td></tr><tr><td>epoch</td><td>▁▁▂▂▂▃▃▄▄▄▅▅▅▆▆▇▇▇██</td></tr><tr><td>epoch_loss</td><td>█▂▁▁▁▁▁▁▁▁▇▄▄▄▄▄▄▄▄▄</td></tr><tr><td>gamma</td><td>▁▁▁▁▁▁▁▁▁▁▁█████████</td></tr><tr><td>is_prescreen</td><td>██████████▁▁▁▁▁▁▁▁▁▁</td></tr><tr><td>l1</td><td>▂▇▇███████▂▁▁▁▁▁▁▁▁▁</td></tr><tr><td>l2</td><td>▁▅▇▇██████▁▅▅▆▆▆▆▆▆▆</td></tr><tr><td>n_edges_pred</td><td>▁▆▇▇▇▇█████▁▁▁▁▁▁▁▁▁</td></tr><tr><td>nll</td><td>█▂▁▁▁▁▁▁▁▁▇▄▃▃▃▃▃▃▃▃</td></tr><tr><td>precision</td><td>▁▃▃▃▃▃▃▂▂▂▂▇█▇██████</td></tr><tr><td>recall</td><td>▁█████████▇▂▂▂▂▂▂▂▂▂</td></tr><tr><td>score</td><td>▁▅▆▆▇▇▇▇▇▇█▁▁▁▁▁▁▁▁▁</td></tr><tr><td>shd</td><td>▁▅▆▆▇▇▇▇▇▇█▁▁▁▁▁▁▁▁▁</td></tr></table><br/></div><div class=\"wandb-col\"><h3>Run summary:</h3><br/><table class=\"wandb\"><tr><td>alpha</td><td>1e-05</td></tr><tr><td>dag</td><td>0.27792</td></tr><tr><td>epoch</td><td>1900</td></tr><tr><td>epoch_loss</td><td>25.67181</td></tr><tr><td>gamma</td><td>30.03003</td></tr><tr><td>is_prescreen</td><td>0</td></tr><tr><td>l1</td><td>0.00107</td></tr><tr><td>l2</td><td>8.09451</td></tr><tr><td>n_edges_pred</td><td>33</td></tr><tr><td>nll</td><td>9.23041</td></tr><tr><td>precision</td><td>0.78788</td></tr><tr><td>recall</td><td>0.104</td></tr><tr><td>score</td><td>231</td></tr><tr><td>shd</td><td>231.0</td></tr></table><br/></div></div>"
      ],
      "text/plain": [
       "<IPython.core.display.HTML object>"
      ]
     },
     "metadata": {},
     "output_type": "display_data"
    },
    {
     "data": {
      "text/html": [
       " View run <strong style=\"color:#cdcd00\">SDCI_pf-0.5_mv-parameter_ss-False_alpham-0.001</strong> at: <a href='https://wandb.ai/azizi-causal-perturb/SDCI_new_sim/runs/1ajzyhi9' target=\"_blank\">https://wandb.ai/azizi-causal-perturb/SDCI_new_sim/runs/1ajzyhi9</a><br/>Synced 6 W&B file(s), 0 media file(s), 0 artifact file(s) and 0 other file(s)"
      ],
      "text/plain": [
       "<IPython.core.display.HTML object>"
      ]
     },
     "metadata": {},
     "output_type": "display_data"
    },
    {
     "data": {
      "text/html": [
       "Find logs at: <code>./wandb/run-20230712_224301-1ajzyhi9/logs</code>"
      ],
      "text/plain": [
       "<IPython.core.display.HTML object>"
      ]
     },
     "metadata": {},
     "output_type": "display_data"
    },
    {
     "data": {
      "application/vnd.jupyter.widget-view+json": {
       "model_id": "30291ab5e43c4aca85abcf67516767b8",
       "version_major": 2,
       "version_minor": 0
      },
      "text/plain": [
       "VBox(children=(Label(value='Waiting for wandb.init()...\\r'), FloatProgress(value=0.01666875360533595, max=1.0)…"
      ]
     },
     "metadata": {},
     "output_type": "display_data"
    },
    {
     "data": {
      "text/html": [
       "wandb version 0.15.5 is available!  To upgrade, please run:\n",
       " $ pip install wandb --upgrade"
      ],
      "text/plain": [
       "<IPython.core.display.HTML object>"
      ]
     },
     "metadata": {},
     "output_type": "display_data"
    },
    {
     "data": {
      "text/html": [
       "Tracking run with wandb version 0.15.2"
      ],
      "text/plain": [
       "<IPython.core.display.HTML object>"
      ]
     },
     "metadata": {},
     "output_type": "display_data"
    },
    {
     "data": {
      "text/html": [
       "Run data is saved locally in <code>/home/justin/ghrepos/causal-perturbseq/notebooks/wandb/run-20230712_224422-xyig1t54</code>"
      ],
      "text/plain": [
       "<IPython.core.display.HTML object>"
      ]
     },
     "metadata": {},
     "output_type": "display_data"
    },
    {
     "data": {
      "text/html": [
       "Syncing run <strong><a href='https://wandb.ai/azizi-causal-perturb/SDCI_new_sim/runs/xyig1t54' target=\"_blank\">SDCI_pf-1.0_mv-unit_ss-True_alpham-1</a></strong> to <a href='https://wandb.ai/azizi-causal-perturb/SDCI_new_sim' target=\"_blank\">Weights & Biases</a> (<a href='https://wandb.me/run' target=\"_blank\">docs</a>)<br/>"
      ],
      "text/plain": [
       "<IPython.core.display.HTML object>"
      ]
     },
     "metadata": {},
     "output_type": "display_data"
    },
    {
     "data": {
      "text/html": [
       " View project at <a href='https://wandb.ai/azizi-causal-perturb/SDCI_new_sim' target=\"_blank\">https://wandb.ai/azizi-causal-perturb/SDCI_new_sim</a>"
      ],
      "text/plain": [
       "<IPython.core.display.HTML object>"
      ]
     },
     "metadata": {},
     "output_type": "display_data"
    },
    {
     "data": {
      "text/html": [
       " View run at <a href='https://wandb.ai/azizi-causal-perturb/SDCI_new_sim/runs/xyig1t54' target=\"_blank\">https://wandb.ai/azizi-causal-perturb/SDCI_new_sim/runs/xyig1t54</a>"
      ],
      "text/plain": [
       "<IPython.core.display.HTML object>"
      ]
     },
     "metadata": {},
     "output_type": "display_data"
    },
    {
     "name": "stderr",
     "output_type": "stream",
     "text": [
      "/home/justin/miniconda3/envs/cp/lib/python3.9/site-packages/torch/optim/optimizer.py:243: UserWarning: 'has_cuda' is deprecated, please use 'torch.backends.cuda.is_built()'\n",
      "  if not is_compiling() and torch.has_cuda and torch.cuda.is_available():\n"
     ]
    },
    {
     "name": "stdout",
     "output_type": "stream",
     "text": [
      "Epoch 0: loss=68.55, score=250, shd=250.0, gamma=0.00\n",
      "Epoch 100: loss=52.80, score=190, shd=190.0, gamma=0.00\n",
      "Epoch 200: loss=52.40, score=185, shd=185.0, gamma=0.00\n",
      "Epoch 300: loss=52.24, score=178, shd=178.0, gamma=0.00\n",
      "Epoch 400: loss=52.19, score=174, shd=174.0, gamma=0.00\n",
      "Epoch 500: loss=52.18, score=173, shd=173.0, gamma=0.00\n",
      "Epoch 600: loss=52.18, score=174, shd=174.0, gamma=0.00\n",
      "Epoch 700: loss=52.17, score=172, shd=172.0, gamma=0.00\n",
      "Epoch 800: loss=52.17, score=173, shd=173.0, gamma=0.00\n",
      "Epoch 900: loss=52.17, score=171, shd=171.0, gamma=0.00\n",
      "Recall of mask: 0.572\n",
      "Fraction of possible edges in mask: 0.0864\n",
      "Epoch 0: loss=66.76, score=192, shd=192.0, gamma=0.00\n",
      "Epoch 100: loss=60.48, score=208, shd=208.0, gamma=30.03\n",
      "Epoch 200: loss=59.88, score=205, shd=205.0, gamma=30.03\n",
      "Epoch 300: loss=59.84, score=205, shd=205.0, gamma=30.03\n",
      "Epoch 400: loss=59.81, score=202, shd=202.0, gamma=30.03\n",
      "Epoch 500: loss=59.79, score=202, shd=202.0, gamma=30.03\n",
      "Epoch 600: loss=59.78, score=204, shd=204.0, gamma=30.03\n",
      "Epoch 700: loss=59.76, score=204, shd=204.0, gamma=30.03\n",
      "Epoch 800: loss=59.77, score=207, shd=207.0, gamma=30.03\n",
      "Epoch 900: loss=59.76, score=206, shd=206.0, gamma=30.03\n",
      "Finished training in 71.34308934211731 seconds.\n"
     ]
    },
    {
     "data": {
      "text/html": [
       "Waiting for W&B process to finish... <strong style=\"color:green\">(success).</strong>"
      ],
      "text/plain": [
       "<IPython.core.display.HTML object>"
      ]
     },
     "metadata": {},
     "output_type": "display_data"
    },
    {
     "data": {
      "text/html": [
       "<style>\n",
       "    table.wandb td:nth-child(1) { padding: 0 10px; text-align: left ; width: auto;} td:nth-child(2) {text-align: left ; width: 100%}\n",
       "    .wandb-row { display: flex; flex-direction: row; flex-wrap: wrap; justify-content: flex-start; width: 100% }\n",
       "    .wandb-col { display: flex; flex-direction: column; flex-basis: 100%; flex: 1; padding: 10px; }\n",
       "    </style>\n",
       "<div class=\"wandb-row\"><div class=\"wandb-col\"><h3>Run history:</h3><br/><table class=\"wandb\"><tr><td>alpha</td><td>██████████▁▁▁▁▁▁▁▁▁▁</td></tr><tr><td>dag</td><td>▁▁▁▁▁▁▁▁▁▁█▃▃▃▃▃▃▃▃▃</td></tr><tr><td>epoch</td><td>▁▁▂▂▂▃▃▄▄▄▅▅▅▆▆▇▇▇██</td></tr><tr><td>epoch_loss</td><td>█▁▁▁▁▁▁▁▁▁▇▅▄▄▄▄▄▄▄▄</td></tr><tr><td>gamma</td><td>▁▁▁▁▁▁▁▁▁▁▁█████████</td></tr><tr><td>is_prescreen</td><td>██████████▁▁▁▁▁▁▁▁▁▁</td></tr><tr><td>l1</td><td>▄█▇▆▆▆▆▆▆▆▂▁▁▁▁▁▁▁▁▁</td></tr><tr><td>l2</td><td>▁▅▅▅▅▅▅▅▅▅▁█▇▇▇▇▇▇▇▇</td></tr><tr><td>n_edges_pred</td><td>▁▆▆▇▇▇▇▇▇▇█▃▃▃▃▃▃▃▃▃</td></tr><tr><td>nll</td><td>█▁▁▁▁▁▁▁▁▁█▃▃▃▃▃▃▃▃▃</td></tr><tr><td>precision</td><td>▁▆▇▇▇▇▇▇▇▇▆█████████</td></tr><tr><td>recall</td><td>▁▇▇▇▇▇▇▇███▄▄▄▄▄▄▄▄▄</td></tr><tr><td>score</td><td>█▃▂▂▁▁▁▁▁▁▃▄▄▄▄▄▄▄▄▄</td></tr><tr><td>shd</td><td>█▃▂▂▁▁▁▁▁▁▃▄▄▄▄▄▄▄▄▄</td></tr></table><br/></div><div class=\"wandb-col\"><h3>Run summary:</h3><br/><table class=\"wandb\"><tr><td>alpha</td><td>0.005</td></tr><tr><td>dag</td><td>0.09986</td></tr><tr><td>epoch</td><td>1900</td></tr><tr><td>epoch_loss</td><td>59.75558</td></tr><tr><td>gamma</td><td>30.03003</td></tr><tr><td>is_prescreen</td><td>0</td></tr><tr><td>l1</td><td>0.52686</td></tr><tr><td>l2</td><td>3.55533</td></tr><tr><td>n_edges_pred</td><td>56</td></tr><tr><td>nll</td><td>52.67468</td></tr><tr><td>precision</td><td>0.89286</td></tr><tr><td>recall</td><td>0.2</td></tr><tr><td>score</td><td>206</td></tr><tr><td>shd</td><td>206.0</td></tr></table><br/></div></div>"
      ],
      "text/plain": [
       "<IPython.core.display.HTML object>"
      ]
     },
     "metadata": {},
     "output_type": "display_data"
    },
    {
     "data": {
      "text/html": [
       " View run <strong style=\"color:#cdcd00\">SDCI_pf-1.0_mv-unit_ss-True_alpham-1</strong> at: <a href='https://wandb.ai/azizi-causal-perturb/SDCI_new_sim/runs/xyig1t54' target=\"_blank\">https://wandb.ai/azizi-causal-perturb/SDCI_new_sim/runs/xyig1t54</a><br/>Synced 6 W&B file(s), 0 media file(s), 0 artifact file(s) and 0 other file(s)"
      ],
      "text/plain": [
       "<IPython.core.display.HTML object>"
      ]
     },
     "metadata": {},
     "output_type": "display_data"
    },
    {
     "data": {
      "text/html": [
       "Find logs at: <code>./wandb/run-20230712_224422-xyig1t54/logs</code>"
      ],
      "text/plain": [
       "<IPython.core.display.HTML object>"
      ]
     },
     "metadata": {},
     "output_type": "display_data"
    },
    {
     "data": {
      "application/vnd.jupyter.widget-view+json": {
       "model_id": "eaf0e20f2e7c42c1866a536034fd3844",
       "version_major": 2,
       "version_minor": 0
      },
      "text/plain": [
       "VBox(children=(Label(value='Waiting for wandb.init()...\\r'), FloatProgress(value=0.016669657034799456, max=1.0…"
      ]
     },
     "metadata": {},
     "output_type": "display_data"
    },
    {
     "data": {
      "text/html": [
       "wandb version 0.15.5 is available!  To upgrade, please run:\n",
       " $ pip install wandb --upgrade"
      ],
      "text/plain": [
       "<IPython.core.display.HTML object>"
      ]
     },
     "metadata": {},
     "output_type": "display_data"
    },
    {
     "data": {
      "text/html": [
       "Tracking run with wandb version 0.15.2"
      ],
      "text/plain": [
       "<IPython.core.display.HTML object>"
      ]
     },
     "metadata": {},
     "output_type": "display_data"
    },
    {
     "data": {
      "text/html": [
       "Run data is saved locally in <code>/home/justin/ghrepos/causal-perturbseq/notebooks/wandb/run-20230712_224541-3qh2btf6</code>"
      ],
      "text/plain": [
       "<IPython.core.display.HTML object>"
      ]
     },
     "metadata": {},
     "output_type": "display_data"
    },
    {
     "data": {
      "text/html": [
       "Syncing run <strong><a href='https://wandb.ai/azizi-causal-perturb/SDCI_new_sim/runs/3qh2btf6' target=\"_blank\">SDCI_pf-1.0_mv-unit_ss-True_alpham-0.1</a></strong> to <a href='https://wandb.ai/azizi-causal-perturb/SDCI_new_sim' target=\"_blank\">Weights & Biases</a> (<a href='https://wandb.me/run' target=\"_blank\">docs</a>)<br/>"
      ],
      "text/plain": [
       "<IPython.core.display.HTML object>"
      ]
     },
     "metadata": {},
     "output_type": "display_data"
    },
    {
     "data": {
      "text/html": [
       " View project at <a href='https://wandb.ai/azizi-causal-perturb/SDCI_new_sim' target=\"_blank\">https://wandb.ai/azizi-causal-perturb/SDCI_new_sim</a>"
      ],
      "text/plain": [
       "<IPython.core.display.HTML object>"
      ]
     },
     "metadata": {},
     "output_type": "display_data"
    },
    {
     "data": {
      "text/html": [
       " View run at <a href='https://wandb.ai/azizi-causal-perturb/SDCI_new_sim/runs/3qh2btf6' target=\"_blank\">https://wandb.ai/azizi-causal-perturb/SDCI_new_sim/runs/3qh2btf6</a>"
      ],
      "text/plain": [
       "<IPython.core.display.HTML object>"
      ]
     },
     "metadata": {},
     "output_type": "display_data"
    },
    {
     "name": "stderr",
     "output_type": "stream",
     "text": [
      "/home/justin/miniconda3/envs/cp/lib/python3.9/site-packages/torch/optim/optimizer.py:243: UserWarning: 'has_cuda' is deprecated, please use 'torch.backends.cuda.is_built()'\n",
      "  if not is_compiling() and torch.has_cuda and torch.cuda.is_available():\n"
     ]
    },
    {
     "name": "stdout",
     "output_type": "stream",
     "text": [
      "Epoch 0: loss=67.01, score=250, shd=250.0, gamma=0.00\n",
      "Epoch 100: loss=49.78, score=193, shd=193.0, gamma=0.00\n",
      "Epoch 200: loss=49.73, score=195, shd=195.0, gamma=0.00\n",
      "Epoch 300: loss=49.71, score=192, shd=192.0, gamma=0.00\n",
      "Epoch 400: loss=49.70, score=190, shd=190.0, gamma=0.00\n",
      "Epoch 500: loss=49.70, score=191, shd=191.0, gamma=0.00\n",
      "Epoch 600: loss=49.70, score=190, shd=190.0, gamma=0.00\n",
      "Epoch 900: loss=49.69, score=190, shd=190.0, gamma=0.00\n",
      "Recall of mask: 0.684\n",
      "Fraction of possible edges in mask: 0.1404\n",
      "Epoch 0: loss=64.33, score=258, shd=258.0, gamma=0.00\n",
      "Epoch 100: loss=59.77, score=228, shd=228.0, gamma=30.03\n",
      "Epoch 200: loss=59.74, score=228, shd=228.0, gamma=30.03\n",
      "Epoch 300: loss=59.74, score=229, shd=229.0, gamma=30.03\n",
      "Epoch 400: loss=59.74, score=227, shd=227.0, gamma=30.03\n",
      "Epoch 500: loss=59.72, score=227, shd=227.0, gamma=30.03\n",
      "Epoch 600: loss=59.74, score=228, shd=228.0, gamma=30.03\n",
      "Epoch 700: loss=59.74, score=226, shd=226.0, gamma=30.03\n",
      "Epoch 800: loss=59.72, score=228, shd=228.0, gamma=30.03\n",
      "Epoch 900: loss=59.73, score=229, shd=229.0, gamma=30.03\n",
      "Finished training in 70.10851955413818 seconds.\n"
     ]
    },
    {
     "data": {
      "text/html": [
       "Waiting for W&B process to finish... <strong style=\"color:green\">(success).</strong>"
      ],
      "text/plain": [
       "<IPython.core.display.HTML object>"
      ]
     },
     "metadata": {},
     "output_type": "display_data"
    },
    {
     "data": {
      "text/html": [
       "<style>\n",
       "    table.wandb td:nth-child(1) { padding: 0 10px; text-align: left ; width: auto;} td:nth-child(2) {text-align: left ; width: 100%}\n",
       "    .wandb-row { display: flex; flex-direction: row; flex-wrap: wrap; justify-content: flex-start; width: 100% }\n",
       "    .wandb-col { display: flex; flex-direction: column; flex-basis: 100%; flex: 1; padding: 10px; }\n",
       "    </style>\n",
       "<div class=\"wandb-row\"><div class=\"wandb-col\"><h3>Run history:</h3><br/><table class=\"wandb\"><tr><td>alpha</td><td>██████████▁▁▁▁▁▁▁▁▁▁</td></tr><tr><td>dag</td><td>▁▁▁▁▁▁▁▁▁▁█▃▃▃▃▃▃▃▃▃</td></tr><tr><td>epoch</td><td>▁▁▂▂▂▃▃▄▄▄▅▅▅▆▆▇▇▇██</td></tr><tr><td>epoch_loss</td><td>█▁▁▁▁▁▁▁▁▁▇▅▅▅▅▅▅▅▅▅</td></tr><tr><td>gamma</td><td>▁▁▁▁▁▁▁▁▁▁▁█████████</td></tr><tr><td>is_prescreen</td><td>██████████▁▁▁▁▁▁▁▁▁▁</td></tr><tr><td>l1</td><td>▄█▇▇▇▇▇▇▇▇▂▁▁▁▁▁▁▁▁▁</td></tr><tr><td>l2</td><td>▁▄▄▄▄▄▄▄▄▄▁█████████</td></tr><tr><td>n_edges_pred</td><td>▁▆▆▆▆▆▆▆▆▆█▂▂▂▂▂▂▂▂▂</td></tr><tr><td>nll</td><td>█▁▁▁▁▁▁▁▁▁▇▃▂▂▂▂▂▃▂▂</td></tr><tr><td>precision</td><td>▁▆▆▆▆▆▆▆▆▆▅█████████</td></tr><tr><td>recall</td><td>▁▇█████████▂▂▂▂▂▂▂▂▂</td></tr><tr><td>score</td><td>▇▁▂▁▁▁▁▁▁▁█▅▅▅▅▅▅▅▅▅</td></tr><tr><td>shd</td><td>▇▁▂▁▁▁▁▁▁▁█▅▅▅▅▅▅▅▅▅</td></tr></table><br/></div><div class=\"wandb-col\"><h3>Run summary:</h3><br/><table class=\"wandb\"><tr><td>alpha</td><td>0.0005</td></tr><tr><td>dag</td><td>0.13332</td></tr><tr><td>epoch</td><td>1900</td></tr><tr><td>epoch_loss</td><td>59.72613</td></tr><tr><td>gamma</td><td>30.03003</td></tr><tr><td>is_prescreen</td><td>0</td></tr><tr><td>l1</td><td>0.07277</td></tr><tr><td>l2</td><td>4.11988</td></tr><tr><td>n_edges_pred</td><td>27</td></tr><tr><td>nll</td><td>51.53</td></tr><tr><td>precision</td><td>0.88889</td></tr><tr><td>recall</td><td>0.096</td></tr><tr><td>score</td><td>229</td></tr><tr><td>shd</td><td>229.0</td></tr></table><br/></div></div>"
      ],
      "text/plain": [
       "<IPython.core.display.HTML object>"
      ]
     },
     "metadata": {},
     "output_type": "display_data"
    },
    {
     "data": {
      "text/html": [
       " View run <strong style=\"color:#cdcd00\">SDCI_pf-1.0_mv-unit_ss-True_alpham-0.1</strong> at: <a href='https://wandb.ai/azizi-causal-perturb/SDCI_new_sim/runs/3qh2btf6' target=\"_blank\">https://wandb.ai/azizi-causal-perturb/SDCI_new_sim/runs/3qh2btf6</a><br/>Synced 6 W&B file(s), 0 media file(s), 0 artifact file(s) and 0 other file(s)"
      ],
      "text/plain": [
       "<IPython.core.display.HTML object>"
      ]
     },
     "metadata": {},
     "output_type": "display_data"
    },
    {
     "data": {
      "text/html": [
       "Find logs at: <code>./wandb/run-20230712_224541-3qh2btf6/logs</code>"
      ],
      "text/plain": [
       "<IPython.core.display.HTML object>"
      ]
     },
     "metadata": {},
     "output_type": "display_data"
    },
    {
     "data": {
      "application/vnd.jupyter.widget-view+json": {
       "model_id": "91c4fc0e1090438a9b530cf33ba6e536",
       "version_major": 2,
       "version_minor": 0
      },
      "text/plain": [
       "VBox(children=(Label(value='Waiting for wandb.init()...\\r'), FloatProgress(value=0.016668805324782928, max=1.0…"
      ]
     },
     "metadata": {},
     "output_type": "display_data"
    },
    {
     "data": {
      "text/html": [
       "wandb version 0.15.5 is available!  To upgrade, please run:\n",
       " $ pip install wandb --upgrade"
      ],
      "text/plain": [
       "<IPython.core.display.HTML object>"
      ]
     },
     "metadata": {},
     "output_type": "display_data"
    },
    {
     "data": {
      "text/html": [
       "Tracking run with wandb version 0.15.2"
      ],
      "text/plain": [
       "<IPython.core.display.HTML object>"
      ]
     },
     "metadata": {},
     "output_type": "display_data"
    },
    {
     "data": {
      "text/html": [
       "Run data is saved locally in <code>/home/justin/ghrepos/causal-perturbseq/notebooks/wandb/run-20230712_224658-sez9hxjy</code>"
      ],
      "text/plain": [
       "<IPython.core.display.HTML object>"
      ]
     },
     "metadata": {},
     "output_type": "display_data"
    },
    {
     "data": {
      "text/html": [
       "Syncing run <strong><a href='https://wandb.ai/azizi-causal-perturb/SDCI_new_sim/runs/sez9hxjy' target=\"_blank\">SDCI_pf-1.0_mv-unit_ss-True_alpham-0.01</a></strong> to <a href='https://wandb.ai/azizi-causal-perturb/SDCI_new_sim' target=\"_blank\">Weights & Biases</a> (<a href='https://wandb.me/run' target=\"_blank\">docs</a>)<br/>"
      ],
      "text/plain": [
       "<IPython.core.display.HTML object>"
      ]
     },
     "metadata": {},
     "output_type": "display_data"
    },
    {
     "data": {
      "text/html": [
       " View project at <a href='https://wandb.ai/azizi-causal-perturb/SDCI_new_sim' target=\"_blank\">https://wandb.ai/azizi-causal-perturb/SDCI_new_sim</a>"
      ],
      "text/plain": [
       "<IPython.core.display.HTML object>"
      ]
     },
     "metadata": {},
     "output_type": "display_data"
    },
    {
     "data": {
      "text/html": [
       " View run at <a href='https://wandb.ai/azizi-causal-perturb/SDCI_new_sim/runs/sez9hxjy' target=\"_blank\">https://wandb.ai/azizi-causal-perturb/SDCI_new_sim/runs/sez9hxjy</a>"
      ],
      "text/plain": [
       "<IPython.core.display.HTML object>"
      ]
     },
     "metadata": {},
     "output_type": "display_data"
    },
    {
     "name": "stderr",
     "output_type": "stream",
     "text": [
      "/home/justin/miniconda3/envs/cp/lib/python3.9/site-packages/torch/optim/optimizer.py:243: UserWarning: 'has_cuda' is deprecated, please use 'torch.backends.cuda.is_built()'\n",
      "  if not is_compiling() and torch.has_cuda and torch.cuda.is_available():\n"
     ]
    },
    {
     "name": "stdout",
     "output_type": "stream",
     "text": [
      "Epoch 0: loss=65.88, score=250, shd=250.0, gamma=0.00\n",
      "Epoch 100: loss=49.07, score=214, shd=214.0, gamma=0.00\n",
      "Epoch 200: loss=49.06, score=206, shd=206.0, gamma=0.00\n",
      "Epoch 300: loss=49.06, score=204, shd=204.0, gamma=0.00\n",
      "Epoch 400: loss=49.06, score=205, shd=205.0, gamma=0.00\n",
      "Epoch 500: loss=49.05, score=203, shd=203.0, gamma=0.00\n",
      "Epoch 600: loss=49.05, score=205, shd=205.0, gamma=0.00\n",
      "Epoch 700: loss=49.05, score=206, shd=206.0, gamma=0.00\n",
      "Epoch 800: loss=49.05, score=203, shd=203.0, gamma=0.00\n",
      "Epoch 900: loss=49.05, score=203, shd=203.0, gamma=0.00\n",
      "Recall of mask: 0.792\n",
      "Fraction of possible edges in mask: 0.1908\n",
      "Epoch 0: loss=63.51, score=311, shd=311.0, gamma=0.00\n",
      "Epoch 100: loss=59.32, score=233, shd=233.0, gamma=30.03\n",
      "Epoch 200: loss=59.31, score=230, shd=230.0, gamma=30.03\n",
      "Epoch 300: loss=59.30, score=231, shd=231.0, gamma=30.03\n",
      "Epoch 400: loss=59.30, score=233, shd=233.0, gamma=30.03\n",
      "Epoch 500: loss=59.30, score=230, shd=230.0, gamma=30.03\n",
      "Epoch 600: loss=59.29, score=227, shd=227.0, gamma=30.03\n",
      "Epoch 700: loss=59.30, score=231, shd=231.0, gamma=30.03\n",
      "Epoch 800: loss=59.30, score=232, shd=232.0, gamma=30.03\n",
      "Epoch 900: loss=59.28, score=232, shd=232.0, gamma=30.03\n",
      "Finished training in 69.51823210716248 seconds.\n"
     ]
    },
    {
     "data": {
      "text/html": [
       "Waiting for W&B process to finish... <strong style=\"color:green\">(success).</strong>"
      ],
      "text/plain": [
       "<IPython.core.display.HTML object>"
      ]
     },
     "metadata": {},
     "output_type": "display_data"
    },
    {
     "data": {
      "text/html": [
       "<style>\n",
       "    table.wandb td:nth-child(1) { padding: 0 10px; text-align: left ; width: auto;} td:nth-child(2) {text-align: left ; width: 100%}\n",
       "    .wandb-row { display: flex; flex-direction: row; flex-wrap: wrap; justify-content: flex-start; width: 100% }\n",
       "    .wandb-col { display: flex; flex-direction: column; flex-basis: 100%; flex: 1; padding: 10px; }\n",
       "    </style>\n",
       "<div class=\"wandb-row\"><div class=\"wandb-col\"><h3>Run history:</h3><br/><table class=\"wandb\"><tr><td>alpha</td><td>██████████▁▁▁▁▁▁▁▁▁▁</td></tr><tr><td>dag</td><td>▁▁▁▁▁▁▁▁▁▁█▂▂▂▂▂▂▂▂▂</td></tr><tr><td>epoch</td><td>▁▁▂▂▂▃▃▄▄▄▅▅▅▆▆▇▇▇██</td></tr><tr><td>epoch_loss</td><td>█▁▁▁▁▁▁▁▁▁▇▅▅▅▅▅▅▅▅▅</td></tr><tr><td>gamma</td><td>▁▁▁▁▁▁▁▁▁▁▁█████████</td></tr><tr><td>is_prescreen</td><td>██████████▁▁▁▁▁▁▁▁▁▁</td></tr><tr><td>l1</td><td>▃█████████▂▁▁▁▁▁▁▁▁▁</td></tr><tr><td>l2</td><td>▁▄▄▄▄▄▄▄▄▄▁█████████</td></tr><tr><td>n_edges_pred</td><td>▁▅▅▅▅▆▆▆▆▆█▁▁▁▁▁▁▁▁▁</td></tr><tr><td>nll</td><td>█▁▁▁▁▁▁▁▁▁▇▃▂▃▃▃▂▂▂▂</td></tr><tr><td>precision</td><td>▁▅▅▅▅▅▅▅▅▅▄████▇██▇█</td></tr><tr><td>recall</td><td>▁▇▇▇▇▇▇▇▇▇█▂▂▂▂▂▂▂▂▂</td></tr><tr><td>score</td><td>▄▂▁▁▁▁▁▁▁▁█▃▃▃▃▃▃▃▃▃</td></tr><tr><td>shd</td><td>▄▂▁▁▁▁▁▁▁▁█▃▃▃▃▃▃▃▃▃</td></tr></table><br/></div><div class=\"wandb-col\"><h3>Run summary:</h3><br/><table class=\"wandb\"><tr><td>alpha</td><td>5e-05</td></tr><tr><td>dag</td><td>0.13232</td></tr><tr><td>epoch</td><td>1900</td></tr><tr><td>epoch_loss</td><td>59.27924</td></tr><tr><td>gamma</td><td>30.03003</td></tr><tr><td>is_prescreen</td><td>0</td></tr><tr><td>l1</td><td>0.00829</td></tr><tr><td>l2</td><td>4.03347</td></tr><tr><td>n_edges_pred</td><td>22</td></tr><tr><td>nll</td><td>51.26383</td></tr><tr><td>precision</td><td>0.90909</td></tr><tr><td>recall</td><td>0.08</td></tr><tr><td>score</td><td>232</td></tr><tr><td>shd</td><td>232.0</td></tr></table><br/></div></div>"
      ],
      "text/plain": [
       "<IPython.core.display.HTML object>"
      ]
     },
     "metadata": {},
     "output_type": "display_data"
    },
    {
     "data": {
      "text/html": [
       " View run <strong style=\"color:#cdcd00\">SDCI_pf-1.0_mv-unit_ss-True_alpham-0.01</strong> at: <a href='https://wandb.ai/azizi-causal-perturb/SDCI_new_sim/runs/sez9hxjy' target=\"_blank\">https://wandb.ai/azizi-causal-perturb/SDCI_new_sim/runs/sez9hxjy</a><br/>Synced 6 W&B file(s), 0 media file(s), 0 artifact file(s) and 0 other file(s)"
      ],
      "text/plain": [
       "<IPython.core.display.HTML object>"
      ]
     },
     "metadata": {},
     "output_type": "display_data"
    },
    {
     "data": {
      "text/html": [
       "Find logs at: <code>./wandb/run-20230712_224658-sez9hxjy/logs</code>"
      ],
      "text/plain": [
       "<IPython.core.display.HTML object>"
      ]
     },
     "metadata": {},
     "output_type": "display_data"
    },
    {
     "data": {
      "application/vnd.jupyter.widget-view+json": {
       "model_id": "2c5be80f5e9d4c37997ce9c16c0186b5",
       "version_major": 2,
       "version_minor": 0
      },
      "text/plain": [
       "VBox(children=(Label(value='Waiting for wandb.init()...\\r'), FloatProgress(value=0.016669660496215027, max=1.0…"
      ]
     },
     "metadata": {},
     "output_type": "display_data"
    },
    {
     "data": {
      "text/html": [
       "wandb version 0.15.5 is available!  To upgrade, please run:\n",
       " $ pip install wandb --upgrade"
      ],
      "text/plain": [
       "<IPython.core.display.HTML object>"
      ]
     },
     "metadata": {},
     "output_type": "display_data"
    },
    {
     "data": {
      "text/html": [
       "Tracking run with wandb version 0.15.2"
      ],
      "text/plain": [
       "<IPython.core.display.HTML object>"
      ]
     },
     "metadata": {},
     "output_type": "display_data"
    },
    {
     "data": {
      "text/html": [
       "Run data is saved locally in <code>/home/justin/ghrepos/causal-perturbseq/notebooks/wandb/run-20230712_224815-2zvszgb1</code>"
      ],
      "text/plain": [
       "<IPython.core.display.HTML object>"
      ]
     },
     "metadata": {},
     "output_type": "display_data"
    },
    {
     "data": {
      "text/html": [
       "Syncing run <strong><a href='https://wandb.ai/azizi-causal-perturb/SDCI_new_sim/runs/2zvszgb1' target=\"_blank\">SDCI_pf-1.0_mv-unit_ss-True_alpham-0.001</a></strong> to <a href='https://wandb.ai/azizi-causal-perturb/SDCI_new_sim' target=\"_blank\">Weights & Biases</a> (<a href='https://wandb.me/run' target=\"_blank\">docs</a>)<br/>"
      ],
      "text/plain": [
       "<IPython.core.display.HTML object>"
      ]
     },
     "metadata": {},
     "output_type": "display_data"
    },
    {
     "data": {
      "text/html": [
       " View project at <a href='https://wandb.ai/azizi-causal-perturb/SDCI_new_sim' target=\"_blank\">https://wandb.ai/azizi-causal-perturb/SDCI_new_sim</a>"
      ],
      "text/plain": [
       "<IPython.core.display.HTML object>"
      ]
     },
     "metadata": {},
     "output_type": "display_data"
    },
    {
     "data": {
      "text/html": [
       " View run at <a href='https://wandb.ai/azizi-causal-perturb/SDCI_new_sim/runs/2zvszgb1' target=\"_blank\">https://wandb.ai/azizi-causal-perturb/SDCI_new_sim/runs/2zvszgb1</a>"
      ],
      "text/plain": [
       "<IPython.core.display.HTML object>"
      ]
     },
     "metadata": {},
     "output_type": "display_data"
    },
    {
     "name": "stderr",
     "output_type": "stream",
     "text": [
      "/home/justin/miniconda3/envs/cp/lib/python3.9/site-packages/torch/optim/optimizer.py:243: UserWarning: 'has_cuda' is deprecated, please use 'torch.backends.cuda.is_built()'\n",
      "  if not is_compiling() and torch.has_cuda and torch.cuda.is_available():\n"
     ]
    },
    {
     "name": "stdout",
     "output_type": "stream",
     "text": [
      "Epoch 0: loss=66.25, score=250, shd=250.0, gamma=0.00\n",
      "Epoch 100: loss=48.98, score=221, shd=221.0, gamma=0.00\n",
      "Epoch 200: loss=48.97, score=216, shd=216.0, gamma=0.00\n",
      "Epoch 300: loss=48.96, score=219, shd=219.0, gamma=0.00\n",
      "Epoch 400: loss=48.96, score=214, shd=214.0, gamma=0.00\n",
      "Epoch 500: loss=48.96, score=217, shd=217.0, gamma=0.00\n",
      "Epoch 600: loss=48.96, score=213, shd=213.0, gamma=0.00\n",
      "Epoch 700: loss=48.96, score=218, shd=218.0, gamma=0.00\n",
      "Epoch 800: loss=48.96, score=216, shd=216.0, gamma=0.00\n",
      "Epoch 900: loss=48.96, score=217, shd=217.0, gamma=0.00\n",
      "Recall of mask: 0.82\n",
      "Fraction of possible edges in mask: 0.2092\n",
      "Epoch 0: loss=63.35, score=337, shd=337.0, gamma=0.00\n",
      "Epoch 100: loss=59.17, score=236, shd=236.0, gamma=30.03\n",
      "Epoch 200: loss=59.11, score=235, shd=235.0, gamma=30.03\n",
      "Epoch 300: loss=59.12, score=235, shd=235.0, gamma=30.03\n",
      "Epoch 400: loss=59.12, score=235, shd=235.0, gamma=30.03\n",
      "Epoch 500: loss=59.11, score=236, shd=236.0, gamma=30.03\n",
      "Epoch 600: loss=59.11, score=233, shd=233.0, gamma=30.03\n",
      "Epoch 700: loss=59.10, score=233, shd=233.0, gamma=30.03\n",
      "Epoch 800: loss=59.10, score=232, shd=232.0, gamma=30.03\n",
      "Epoch 900: loss=59.13, score=233, shd=233.0, gamma=30.03\n",
      "Finished training in 69.16163659095764 seconds.\n"
     ]
    },
    {
     "data": {
      "text/html": [
       "Waiting for W&B process to finish... <strong style=\"color:green\">(success).</strong>"
      ],
      "text/plain": [
       "<IPython.core.display.HTML object>"
      ]
     },
     "metadata": {},
     "output_type": "display_data"
    },
    {
     "data": {
      "text/html": [
       "<style>\n",
       "    table.wandb td:nth-child(1) { padding: 0 10px; text-align: left ; width: auto;} td:nth-child(2) {text-align: left ; width: 100%}\n",
       "    .wandb-row { display: flex; flex-direction: row; flex-wrap: wrap; justify-content: flex-start; width: 100% }\n",
       "    .wandb-col { display: flex; flex-direction: column; flex-basis: 100%; flex: 1; padding: 10px; }\n",
       "    </style>\n",
       "<div class=\"wandb-row\"><div class=\"wandb-col\"><h3>Run history:</h3><br/><table class=\"wandb\"><tr><td>alpha</td><td>██████████▁▁▁▁▁▁▁▁▁▁</td></tr><tr><td>dag</td><td>▁▁▁▁▁▁▁▁▁▁█▂▂▂▂▂▂▂▂▂</td></tr><tr><td>epoch</td><td>▁▁▂▂▂▃▃▄▄▄▅▅▅▆▆▇▇▇██</td></tr><tr><td>epoch_loss</td><td>█▁▁▁▁▁▁▁▁▁▇▅▅▅▅▅▅▅▅▅</td></tr><tr><td>gamma</td><td>▁▁▁▁▁▁▁▁▁▁▁█████████</td></tr><tr><td>is_prescreen</td><td>██████████▁▁▁▁▁▁▁▁▁▁</td></tr><tr><td>l1</td><td>▃█████████▂▁▁▁▁▁▁▁▁▁</td></tr><tr><td>l2</td><td>▁▄▄▄▄▄▄▄▄▄▁█████████</td></tr><tr><td>n_edges_pred</td><td>▁▅▅▅▅▅▅▅▅▅█▁▁▁▁▁▁▁▁▁</td></tr><tr><td>nll</td><td>█▁▁▁▁▁▁▁▁▁▇▂▂▂▂▂▂▂▂▂</td></tr><tr><td>precision</td><td>▁▅▅▅▅▅▅▅▅▅▄█▇█▇█████</td></tr><tr><td>recall</td><td>▁▇▇▇▇▇▇▇▇▇█▂▂▂▂▂▂▂▂▂</td></tr><tr><td>score</td><td>▃▁▁▁▁▁▁▁▁▁█▂▂▂▂▂▂▂▂▂</td></tr><tr><td>shd</td><td>▃▁▁▁▁▁▁▁▁▁█▂▂▂▂▂▂▂▂▂</td></tr></table><br/></div><div class=\"wandb-col\"><h3>Run summary:</h3><br/><table class=\"wandb\"><tr><td>alpha</td><td>1e-05</td></tr><tr><td>dag</td><td>0.13114</td></tr><tr><td>epoch</td><td>1900</td></tr><tr><td>epoch_loss</td><td>59.12817</td></tr><tr><td>gamma</td><td>30.03003</td></tr><tr><td>is_prescreen</td><td>0</td></tr><tr><td>l1</td><td>0.00085</td></tr><tr><td>l2</td><td>3.98351</td></tr><tr><td>n_edges_pred</td><td>21</td></tr><tr><td>nll</td><td>51.20555</td></tr><tr><td>precision</td><td>0.90476</td></tr><tr><td>recall</td><td>0.076</td></tr><tr><td>score</td><td>233</td></tr><tr><td>shd</td><td>233.0</td></tr></table><br/></div></div>"
      ],
      "text/plain": [
       "<IPython.core.display.HTML object>"
      ]
     },
     "metadata": {},
     "output_type": "display_data"
    },
    {
     "data": {
      "text/html": [
       " View run <strong style=\"color:#cdcd00\">SDCI_pf-1.0_mv-unit_ss-True_alpham-0.001</strong> at: <a href='https://wandb.ai/azizi-causal-perturb/SDCI_new_sim/runs/2zvszgb1' target=\"_blank\">https://wandb.ai/azizi-causal-perturb/SDCI_new_sim/runs/2zvszgb1</a><br/>Synced 6 W&B file(s), 0 media file(s), 0 artifact file(s) and 0 other file(s)"
      ],
      "text/plain": [
       "<IPython.core.display.HTML object>"
      ]
     },
     "metadata": {},
     "output_type": "display_data"
    },
    {
     "data": {
      "text/html": [
       "Find logs at: <code>./wandb/run-20230712_224815-2zvszgb1/logs</code>"
      ],
      "text/plain": [
       "<IPython.core.display.HTML object>"
      ]
     },
     "metadata": {},
     "output_type": "display_data"
    },
    {
     "data": {
      "application/vnd.jupyter.widget-view+json": {
       "model_id": "2cf0c04830b6427ab74831309a0034ab",
       "version_major": 2,
       "version_minor": 0
      },
      "text/plain": [
       "VBox(children=(Label(value='Waiting for wandb.init()...\\r'), FloatProgress(value=0.0166688513631622, max=1.0))…"
      ]
     },
     "metadata": {},
     "output_type": "display_data"
    },
    {
     "data": {
      "text/html": [
       "wandb version 0.15.5 is available!  To upgrade, please run:\n",
       " $ pip install wandb --upgrade"
      ],
      "text/plain": [
       "<IPython.core.display.HTML object>"
      ]
     },
     "metadata": {},
     "output_type": "display_data"
    },
    {
     "data": {
      "text/html": [
       "Tracking run with wandb version 0.15.2"
      ],
      "text/plain": [
       "<IPython.core.display.HTML object>"
      ]
     },
     "metadata": {},
     "output_type": "display_data"
    },
    {
     "data": {
      "text/html": [
       "Run data is saved locally in <code>/home/justin/ghrepos/causal-perturbseq/notebooks/wandb/run-20230712_224932-jcs40t5r</code>"
      ],
      "text/plain": [
       "<IPython.core.display.HTML object>"
      ]
     },
     "metadata": {},
     "output_type": "display_data"
    },
    {
     "data": {
      "text/html": [
       "Syncing run <strong><a href='https://wandb.ai/azizi-causal-perturb/SDCI_new_sim/runs/jcs40t5r' target=\"_blank\">SDCI_pf-1.0_mv-unit_ss-False_alpham-1</a></strong> to <a href='https://wandb.ai/azizi-causal-perturb/SDCI_new_sim' target=\"_blank\">Weights & Biases</a> (<a href='https://wandb.me/run' target=\"_blank\">docs</a>)<br/>"
      ],
      "text/plain": [
       "<IPython.core.display.HTML object>"
      ]
     },
     "metadata": {},
     "output_type": "display_data"
    },
    {
     "data": {
      "text/html": [
       " View project at <a href='https://wandb.ai/azizi-causal-perturb/SDCI_new_sim' target=\"_blank\">https://wandb.ai/azizi-causal-perturb/SDCI_new_sim</a>"
      ],
      "text/plain": [
       "<IPython.core.display.HTML object>"
      ]
     },
     "metadata": {},
     "output_type": "display_data"
    },
    {
     "data": {
      "text/html": [
       " View run at <a href='https://wandb.ai/azizi-causal-perturb/SDCI_new_sim/runs/jcs40t5r' target=\"_blank\">https://wandb.ai/azizi-causal-perturb/SDCI_new_sim/runs/jcs40t5r</a>"
      ],
      "text/plain": [
       "<IPython.core.display.HTML object>"
      ]
     },
     "metadata": {},
     "output_type": "display_data"
    },
    {
     "name": "stderr",
     "output_type": "stream",
     "text": [
      "/home/justin/miniconda3/envs/cp/lib/python3.9/site-packages/torch/optim/optimizer.py:243: UserWarning: 'has_cuda' is deprecated, please use 'torch.backends.cuda.is_built()'\n",
      "  if not is_compiling() and torch.has_cuda and torch.cuda.is_available():\n"
     ]
    },
    {
     "name": "stdout",
     "output_type": "stream",
     "text": [
      "Epoch 0: loss=68.78, score=250, shd=250.0, gamma=0.00\n",
      "Epoch 100: loss=52.89, score=188, shd=188.0, gamma=0.00\n",
      "Epoch 200: loss=52.48, score=178, shd=178.0, gamma=0.00\n",
      "Epoch 300: loss=52.37, score=174, shd=174.0, gamma=0.00\n",
      "Epoch 400: loss=52.31, score=174, shd=174.0, gamma=0.00\n",
      "Epoch 500: loss=52.30, score=172, shd=172.0, gamma=0.00\n",
      "Epoch 600: loss=52.29, score=171, shd=171.0, gamma=0.00\n",
      "Epoch 700: loss=52.28, score=169, shd=169.0, gamma=0.00\n",
      "Epoch 800: loss=52.29, score=171, shd=171.0, gamma=0.00\n",
      "Epoch 900: loss=52.28, score=170, shd=170.0, gamma=0.00\n",
      "Recall of mask: 0.58\n",
      "Fraction of possible edges in mask: 0.0888\n",
      "Epoch 0: loss=67.26, score=194, shd=194.0, gamma=0.00\n",
      "Epoch 100: loss=60.65, score=205, shd=205.0, gamma=30.03\n",
      "Epoch 200: loss=60.61, score=208, shd=208.0, gamma=30.03\n",
      "Epoch 300: loss=60.59, score=206, shd=206.0, gamma=30.03\n",
      "Epoch 400: loss=60.58, score=204, shd=204.0, gamma=30.03\n",
      "Epoch 500: loss=60.57, score=205, shd=205.0, gamma=30.03\n",
      "Epoch 600: loss=60.58, score=206, shd=206.0, gamma=30.03\n",
      "Epoch 700: loss=60.56, score=204, shd=204.0, gamma=30.03\n",
      "Epoch 800: loss=60.54, score=204, shd=204.0, gamma=30.03\n",
      "Epoch 900: loss=60.57, score=207, shd=207.0, gamma=30.03\n",
      "Finished training in 70.71378564834595 seconds.\n"
     ]
    },
    {
     "data": {
      "text/html": [
       "Waiting for W&B process to finish... <strong style=\"color:green\">(success).</strong>"
      ],
      "text/plain": [
       "<IPython.core.display.HTML object>"
      ]
     },
     "metadata": {},
     "output_type": "display_data"
    },
    {
     "data": {
      "text/html": [
       "<style>\n",
       "    table.wandb td:nth-child(1) { padding: 0 10px; text-align: left ; width: auto;} td:nth-child(2) {text-align: left ; width: 100%}\n",
       "    .wandb-row { display: flex; flex-direction: row; flex-wrap: wrap; justify-content: flex-start; width: 100% }\n",
       "    .wandb-col { display: flex; flex-direction: column; flex-basis: 100%; flex: 1; padding: 10px; }\n",
       "    </style>\n",
       "<div class=\"wandb-row\"><div class=\"wandb-col\"><h3>Run history:</h3><br/><table class=\"wandb\"><tr><td>alpha</td><td>██████████▁▁▁▁▁▁▁▁▁▁</td></tr><tr><td>dag</td><td>▁▁▁▁▁▁▁▁▁▁█▄▄▄▄▄▄▄▄▄</td></tr><tr><td>epoch</td><td>▁▁▂▂▂▃▃▄▄▄▅▅▅▆▆▇▇▇██</td></tr><tr><td>epoch_loss</td><td>█▁▁▁▁▁▁▁▁▁▇▅▅▅▅▅▅▅▅▅</td></tr><tr><td>gamma</td><td>▁▁▁▁▁▁▁▁▁▁▁█████████</td></tr><tr><td>is_prescreen</td><td>██████████▁▁▁▁▁▁▁▁▁▁</td></tr><tr><td>l1</td><td>▄█▇▆▆▆▆▆▆▆▂▁▁▁▁▁▁▁▁▁</td></tr><tr><td>l2</td><td>▁▅▅▅▅▅▅▅▅▅▁█████████</td></tr><tr><td>n_edges_pred</td><td>▁▆▆▇▇▇▇▇▇▇█▃▃▃▃▃▃▃▃▃</td></tr><tr><td>nll</td><td>█▁▁▁▁▁▁▁▁▁█▃▃▃▃▃▃▃▃▃</td></tr><tr><td>precision</td><td>▁▆▇▇▇▇▇▇▇▇▆█████████</td></tr><tr><td>recall</td><td>▁▇▇▇▇██████▄▄▄▄▄▄▄▄▄</td></tr><tr><td>score</td><td>█▃▂▁▁▁▁▁▁▁▃▄▄▄▄▄▄▄▄▄</td></tr><tr><td>shd</td><td>█▃▂▁▁▁▁▁▁▁▃▄▄▄▄▄▄▄▄▄</td></tr></table><br/></div><div class=\"wandb-col\"><h3>Run summary:</h3><br/><table class=\"wandb\"><tr><td>alpha</td><td>0.005</td></tr><tr><td>dag</td><td>0.11997</td></tr><tr><td>epoch</td><td>1900</td></tr><tr><td>epoch_loss</td><td>60.56528</td></tr><tr><td>gamma</td><td>30.03003</td></tr><tr><td>is_prescreen</td><td>0</td></tr><tr><td>l1</td><td>0.4979</td></tr><tr><td>l2</td><td>4.07159</td></tr><tr><td>n_edges_pred</td><td>51</td></tr><tr><td>nll</td><td>52.39297</td></tr><tr><td>precision</td><td>0.92157</td></tr><tr><td>recall</td><td>0.188</td></tr><tr><td>score</td><td>207</td></tr><tr><td>shd</td><td>207.0</td></tr></table><br/></div></div>"
      ],
      "text/plain": [
       "<IPython.core.display.HTML object>"
      ]
     },
     "metadata": {},
     "output_type": "display_data"
    },
    {
     "data": {
      "text/html": [
       " View run <strong style=\"color:#cdcd00\">SDCI_pf-1.0_mv-unit_ss-False_alpham-1</strong> at: <a href='https://wandb.ai/azizi-causal-perturb/SDCI_new_sim/runs/jcs40t5r' target=\"_blank\">https://wandb.ai/azizi-causal-perturb/SDCI_new_sim/runs/jcs40t5r</a><br/>Synced 6 W&B file(s), 0 media file(s), 0 artifact file(s) and 0 other file(s)"
      ],
      "text/plain": [
       "<IPython.core.display.HTML object>"
      ]
     },
     "metadata": {},
     "output_type": "display_data"
    },
    {
     "data": {
      "text/html": [
       "Find logs at: <code>./wandb/run-20230712_224932-jcs40t5r/logs</code>"
      ],
      "text/plain": [
       "<IPython.core.display.HTML object>"
      ]
     },
     "metadata": {},
     "output_type": "display_data"
    },
    {
     "data": {
      "application/vnd.jupyter.widget-view+json": {
       "model_id": "c31fe10bd0e6424abff761668372cac6",
       "version_major": 2,
       "version_minor": 0
      },
      "text/plain": [
       "VBox(children=(Label(value='Waiting for wandb.init()...\\r'), FloatProgress(value=0.016669536040474973, max=1.0…"
      ]
     },
     "metadata": {},
     "output_type": "display_data"
    },
    {
     "data": {
      "text/html": [
       "wandb version 0.15.5 is available!  To upgrade, please run:\n",
       " $ pip install wandb --upgrade"
      ],
      "text/plain": [
       "<IPython.core.display.HTML object>"
      ]
     },
     "metadata": {},
     "output_type": "display_data"
    },
    {
     "data": {
      "text/html": [
       "Tracking run with wandb version 0.15.2"
      ],
      "text/plain": [
       "<IPython.core.display.HTML object>"
      ]
     },
     "metadata": {},
     "output_type": "display_data"
    },
    {
     "data": {
      "text/html": [
       "Run data is saved locally in <code>/home/justin/ghrepos/causal-perturbseq/notebooks/wandb/run-20230712_225050-p6dx03de</code>"
      ],
      "text/plain": [
       "<IPython.core.display.HTML object>"
      ]
     },
     "metadata": {},
     "output_type": "display_data"
    },
    {
     "data": {
      "text/html": [
       "Syncing run <strong><a href='https://wandb.ai/azizi-causal-perturb/SDCI_new_sim/runs/p6dx03de' target=\"_blank\">SDCI_pf-1.0_mv-unit_ss-False_alpham-0.1</a></strong> to <a href='https://wandb.ai/azizi-causal-perturb/SDCI_new_sim' target=\"_blank\">Weights & Biases</a> (<a href='https://wandb.me/run' target=\"_blank\">docs</a>)<br/>"
      ],
      "text/plain": [
       "<IPython.core.display.HTML object>"
      ]
     },
     "metadata": {},
     "output_type": "display_data"
    },
    {
     "data": {
      "text/html": [
       " View project at <a href='https://wandb.ai/azizi-causal-perturb/SDCI_new_sim' target=\"_blank\">https://wandb.ai/azizi-causal-perturb/SDCI_new_sim</a>"
      ],
      "text/plain": [
       "<IPython.core.display.HTML object>"
      ]
     },
     "metadata": {},
     "output_type": "display_data"
    },
    {
     "data": {
      "text/html": [
       " View run at <a href='https://wandb.ai/azizi-causal-perturb/SDCI_new_sim/runs/p6dx03de' target=\"_blank\">https://wandb.ai/azizi-causal-perturb/SDCI_new_sim/runs/p6dx03de</a>"
      ],
      "text/plain": [
       "<IPython.core.display.HTML object>"
      ]
     },
     "metadata": {},
     "output_type": "display_data"
    },
    {
     "name": "stderr",
     "output_type": "stream",
     "text": [
      "/home/justin/miniconda3/envs/cp/lib/python3.9/site-packages/torch/optim/optimizer.py:243: UserWarning: 'has_cuda' is deprecated, please use 'torch.backends.cuda.is_built()'\n",
      "  if not is_compiling() and torch.has_cuda and torch.cuda.is_available():\n"
     ]
    },
    {
     "name": "stdout",
     "output_type": "stream",
     "text": [
      "Epoch 0: loss=67.78, score=250, shd=250.0, gamma=0.00\n",
      "Epoch 100: loss=49.86, score=192, shd=192.0, gamma=0.00\n",
      "Epoch 200: loss=49.81, score=188, shd=188.0, gamma=0.00\n",
      "Epoch 300: loss=49.79, score=187, shd=187.0, gamma=0.00\n",
      "Epoch 400: loss=49.78, score=188, shd=188.0, gamma=0.00\n",
      "Epoch 600: loss=49.77, score=189, shd=189.0, gamma=0.00\n",
      "Epoch 700: loss=49.77, score=187, shd=187.0, gamma=0.00\n",
      "Epoch 800: loss=49.77, score=185, shd=185.0, gamma=0.00\n",
      "Epoch 900: loss=49.77, score=186, shd=186.0, gamma=0.00\n",
      "Recall of mask: 0.692\n",
      "Fraction of possible edges in mask: 0.1404\n",
      "Epoch 0: loss=64.99, score=253, shd=253.0, gamma=0.00\n",
      "Epoch 100: loss=59.96, score=226, shd=226.0, gamma=30.03\n",
      "Epoch 200: loss=59.95, score=230, shd=230.0, gamma=30.03\n",
      "Epoch 300: loss=59.94, score=225, shd=225.0, gamma=30.03\n",
      "Epoch 400: loss=59.94, score=227, shd=227.0, gamma=30.03\n",
      "Epoch 500: loss=59.95, score=229, shd=229.0, gamma=30.03\n",
      "Epoch 600: loss=59.93, score=227, shd=227.0, gamma=30.03\n",
      "Epoch 700: loss=59.93, score=226, shd=226.0, gamma=30.03\n",
      "Epoch 800: loss=59.95, score=225, shd=225.0, gamma=30.03\n",
      "Epoch 900: loss=59.95, score=227, shd=227.0, gamma=30.03\n",
      "Finished training in 70.3227915763855 seconds.\n"
     ]
    },
    {
     "data": {
      "text/html": [
       "Waiting for W&B process to finish... <strong style=\"color:green\">(success).</strong>"
      ],
      "text/plain": [
       "<IPython.core.display.HTML object>"
      ]
     },
     "metadata": {},
     "output_type": "display_data"
    },
    {
     "data": {
      "text/html": [
       "<style>\n",
       "    table.wandb td:nth-child(1) { padding: 0 10px; text-align: left ; width: auto;} td:nth-child(2) {text-align: left ; width: 100%}\n",
       "    .wandb-row { display: flex; flex-direction: row; flex-wrap: wrap; justify-content: flex-start; width: 100% }\n",
       "    .wandb-col { display: flex; flex-direction: column; flex-basis: 100%; flex: 1; padding: 10px; }\n",
       "    </style>\n",
       "<div class=\"wandb-row\"><div class=\"wandb-col\"><h3>Run history:</h3><br/><table class=\"wandb\"><tr><td>alpha</td><td>██████████▁▁▁▁▁▁▁▁▁▁</td></tr><tr><td>dag</td><td>▁▁▁▁▁▁▁▁▁▁█▃▃▃▃▃▃▃▃▃</td></tr><tr><td>epoch</td><td>▁▁▂▂▂▃▃▄▄▄▅▅▅▆▆▇▇▇██</td></tr><tr><td>epoch_loss</td><td>█▁▁▁▁▁▁▁▁▁▇▅▅▅▅▅▅▅▅▅</td></tr><tr><td>gamma</td><td>▁▁▁▁▁▁▁▁▁▁▁█████████</td></tr><tr><td>is_prescreen</td><td>██████████▁▁▁▁▁▁▁▁▁▁</td></tr><tr><td>l1</td><td>▄██▇▇▇▇▇▇▇▂▁▁▁▁▁▁▁▁▁</td></tr><tr><td>l2</td><td>▁▃▄▄▄▄▄▄▄▄▁█████████</td></tr><tr><td>n_edges_pred</td><td>▁▆▆▆▆▆▆▆▆▆█▂▂▂▂▂▂▂▂▂</td></tr><tr><td>nll</td><td>█▁▁▁▁▁▁▁▁▁▇▂▂▂▂▂▂▂▂▂</td></tr><tr><td>precision</td><td>▁▆▆▆▆▆▆▆▆▆▅█████████</td></tr><tr><td>recall</td><td>▁██████████▂▂▂▂▂▂▂▂▂</td></tr><tr><td>score</td><td>█▂▁▁▁▂▁▁▁▁█▅▆▅▅▆▅▅▅▅</td></tr><tr><td>shd</td><td>█▂▁▁▁▂▁▁▁▁█▅▆▅▅▆▅▅▅▅</td></tr></table><br/></div><div class=\"wandb-col\"><h3>Run summary:</h3><br/><table class=\"wandb\"><tr><td>alpha</td><td>0.0005</td></tr><tr><td>dag</td><td>0.13646</td></tr><tr><td>epoch</td><td>1900</td></tr><tr><td>epoch_loss</td><td>59.94508</td></tr><tr><td>gamma</td><td>30.03003</td></tr><tr><td>is_prescreen</td><td>0</td></tr><tr><td>l1</td><td>0.07383</td></tr><tr><td>l2</td><td>4.20836</td></tr><tr><td>n_edges_pred</td><td>29</td></tr><tr><td>nll</td><td>51.565</td></tr><tr><td>precision</td><td>0.89655</td></tr><tr><td>recall</td><td>0.104</td></tr><tr><td>score</td><td>227</td></tr><tr><td>shd</td><td>227.0</td></tr></table><br/></div></div>"
      ],
      "text/plain": [
       "<IPython.core.display.HTML object>"
      ]
     },
     "metadata": {},
     "output_type": "display_data"
    },
    {
     "data": {
      "text/html": [
       " View run <strong style=\"color:#cdcd00\">SDCI_pf-1.0_mv-unit_ss-False_alpham-0.1</strong> at: <a href='https://wandb.ai/azizi-causal-perturb/SDCI_new_sim/runs/p6dx03de' target=\"_blank\">https://wandb.ai/azizi-causal-perturb/SDCI_new_sim/runs/p6dx03de</a><br/>Synced 6 W&B file(s), 0 media file(s), 0 artifact file(s) and 0 other file(s)"
      ],
      "text/plain": [
       "<IPython.core.display.HTML object>"
      ]
     },
     "metadata": {},
     "output_type": "display_data"
    },
    {
     "data": {
      "text/html": [
       "Find logs at: <code>./wandb/run-20230712_225050-p6dx03de/logs</code>"
      ],
      "text/plain": [
       "<IPython.core.display.HTML object>"
      ]
     },
     "metadata": {},
     "output_type": "display_data"
    },
    {
     "data": {
      "application/vnd.jupyter.widget-view+json": {
       "model_id": "1b53ce3493e0456cbbe0fbb0230f42f2",
       "version_major": 2,
       "version_minor": 0
      },
      "text/plain": [
       "VBox(children=(Label(value='Waiting for wandb.init()...\\r'), FloatProgress(value=0.016668146879722675, max=1.0…"
      ]
     },
     "metadata": {},
     "output_type": "display_data"
    },
    {
     "data": {
      "text/html": [
       "wandb version 0.15.5 is available!  To upgrade, please run:\n",
       " $ pip install wandb --upgrade"
      ],
      "text/plain": [
       "<IPython.core.display.HTML object>"
      ]
     },
     "metadata": {},
     "output_type": "display_data"
    },
    {
     "data": {
      "text/html": [
       "Tracking run with wandb version 0.15.2"
      ],
      "text/plain": [
       "<IPython.core.display.HTML object>"
      ]
     },
     "metadata": {},
     "output_type": "display_data"
    },
    {
     "data": {
      "text/html": [
       "Run data is saved locally in <code>/home/justin/ghrepos/causal-perturbseq/notebooks/wandb/run-20230712_225209-dtnh6v7q</code>"
      ],
      "text/plain": [
       "<IPython.core.display.HTML object>"
      ]
     },
     "metadata": {},
     "output_type": "display_data"
    },
    {
     "data": {
      "text/html": [
       "Syncing run <strong><a href='https://wandb.ai/azizi-causal-perturb/SDCI_new_sim/runs/dtnh6v7q' target=\"_blank\">SDCI_pf-1.0_mv-unit_ss-False_alpham-0.01</a></strong> to <a href='https://wandb.ai/azizi-causal-perturb/SDCI_new_sim' target=\"_blank\">Weights & Biases</a> (<a href='https://wandb.me/run' target=\"_blank\">docs</a>)<br/>"
      ],
      "text/plain": [
       "<IPython.core.display.HTML object>"
      ]
     },
     "metadata": {},
     "output_type": "display_data"
    },
    {
     "data": {
      "text/html": [
       " View project at <a href='https://wandb.ai/azizi-causal-perturb/SDCI_new_sim' target=\"_blank\">https://wandb.ai/azizi-causal-perturb/SDCI_new_sim</a>"
      ],
      "text/plain": [
       "<IPython.core.display.HTML object>"
      ]
     },
     "metadata": {},
     "output_type": "display_data"
    },
    {
     "data": {
      "text/html": [
       " View run at <a href='https://wandb.ai/azizi-causal-perturb/SDCI_new_sim/runs/dtnh6v7q' target=\"_blank\">https://wandb.ai/azizi-causal-perturb/SDCI_new_sim/runs/dtnh6v7q</a>"
      ],
      "text/plain": [
       "<IPython.core.display.HTML object>"
      ]
     },
     "metadata": {},
     "output_type": "display_data"
    },
    {
     "name": "stderr",
     "output_type": "stream",
     "text": [
      "/home/justin/miniconda3/envs/cp/lib/python3.9/site-packages/torch/optim/optimizer.py:243: UserWarning: 'has_cuda' is deprecated, please use 'torch.backends.cuda.is_built()'\n",
      "  if not is_compiling() and torch.has_cuda and torch.cuda.is_available():\n"
     ]
    },
    {
     "name": "stdout",
     "output_type": "stream",
     "text": [
      "Epoch 0: loss=66.86, score=250, shd=250.0, gamma=0.00\n",
      "Epoch 100: loss=49.15, score=210, shd=210.0, gamma=0.00\n",
      "Epoch 200: loss=49.14, score=209, shd=209.0, gamma=0.00\n",
      "Epoch 300: loss=49.14, score=207, shd=207.0, gamma=0.00\n",
      "Epoch 400: loss=49.14, score=207, shd=207.0, gamma=0.00\n",
      "Epoch 500: loss=49.14, score=205, shd=205.0, gamma=0.00\n",
      "Epoch 600: loss=49.14, score=205, shd=205.0, gamma=0.00\n",
      "Epoch 700: loss=49.13, score=205, shd=205.0, gamma=0.00\n",
      "Epoch 800: loss=49.13, score=203, shd=203.0, gamma=0.00\n",
      "Epoch 900: loss=49.13, score=204, shd=204.0, gamma=0.00\n",
      "Recall of mask: 0.804\n",
      "Fraction of possible edges in mask: 0.1952\n",
      "Epoch 0: loss=5628181.30, score=312, shd=312.0, gamma=0.00\n",
      "Epoch 100: loss=5628176.45, score=233, shd=233.0, gamma=30.03\n",
      "Epoch 200: loss=5628176.35, score=234, shd=234.0, gamma=30.03\n",
      "Epoch 300: loss=5628176.25, score=234, shd=234.0, gamma=30.03\n",
      "Epoch 400: loss=5628176.20, score=237, shd=237.0, gamma=30.03\n",
      "Epoch 500: loss=5628176.35, score=234, shd=234.0, gamma=30.03\n",
      "Epoch 600: loss=5628176.25, score=234, shd=234.0, gamma=30.03\n",
      "Epoch 700: loss=5628176.35, score=232, shd=232.0, gamma=30.03\n",
      "Epoch 800: loss=5628176.20, score=232, shd=232.0, gamma=30.03\n",
      "Epoch 900: loss=5628176.30, score=234, shd=234.0, gamma=30.03\n",
      "Finished training in 71.26377868652344 seconds.\n"
     ]
    },
    {
     "data": {
      "text/html": [
       "Waiting for W&B process to finish... <strong style=\"color:green\">(success).</strong>"
      ],
      "text/plain": [
       "<IPython.core.display.HTML object>"
      ]
     },
     "metadata": {},
     "output_type": "display_data"
    },
    {
     "data": {
      "application/vnd.jupyter.widget-view+json": {
       "model_id": "b3a8db7fcbf247ee8e339b967a6f1a3f",
       "version_major": 2,
       "version_minor": 0
      },
      "text/plain": [
       "VBox(children=(Label(value='0.004 MB of 0.004 MB uploaded (0.000 MB deduped)\\r'), FloatProgress(value=1.0, max…"
      ]
     },
     "metadata": {},
     "output_type": "display_data"
    },
    {
     "data": {
      "text/html": [
       "<style>\n",
       "    table.wandb td:nth-child(1) { padding: 0 10px; text-align: left ; width: auto;} td:nth-child(2) {text-align: left ; width: 100%}\n",
       "    .wandb-row { display: flex; flex-direction: row; flex-wrap: wrap; justify-content: flex-start; width: 100% }\n",
       "    .wandb-col { display: flex; flex-direction: column; flex-basis: 100%; flex: 1; padding: 10px; }\n",
       "    </style>\n",
       "<div class=\"wandb-row\"><div class=\"wandb-col\"><h3>Run history:</h3><br/><table class=\"wandb\"><tr><td>alpha</td><td>██████████▁▁▁▁▁▁▁▁▁▁</td></tr><tr><td>dag</td><td>▁▁▁▁▁▁▁▁▁▁█▂▂▂▂▂▂▂▂▂</td></tr><tr><td>epoch</td><td>▁▁▂▂▂▃▃▄▄▄▅▅▅▆▆▇▇▇██</td></tr><tr><td>epoch_loss</td><td>▁▁▁▁▁▁▁▁▁▁██████████</td></tr><tr><td>gamma</td><td>▁▁▁▁▁▁▁▁▁▁▁█████████</td></tr><tr><td>is_prescreen</td><td>██████████▁▁▁▁▁▁▁▁▁▁</td></tr><tr><td>l1</td><td>▃█████████▂▁▁▁▁▁▁▁▁▁</td></tr><tr><td>l2</td><td>▁▁▁▁▁▁▁▁▁▁██████████</td></tr><tr><td>n_edges_pred</td><td>▁▅▆▅▆▅▆▆▆▆█▁▁▁▁▁▁▁▁▁</td></tr><tr><td>nll</td><td>█▁▁▁▁▁▁▁▁▁▇▂▂▂▂▂▂▂▂▂</td></tr><tr><td>precision</td><td>▁▅▅▅▅▅▅▅▆▅▄█████████</td></tr><tr><td>recall</td><td>▁▇▇▇▇▇▇▇▇▇█▂▂▂▂▂▂▂▂▂</td></tr><tr><td>score</td><td>▄▁▁▁▁▁▁▁▁▁█▃▃▃▃▃▃▃▃▃</td></tr><tr><td>shd</td><td>▄▁▁▁▁▁▁▁▁▁█▃▃▃▃▃▃▃▃▃</td></tr></table><br/></div><div class=\"wandb-col\"><h3>Run summary:</h3><br/><table class=\"wandb\"><tr><td>alpha</td><td>5e-05</td></tr><tr><td>dag</td><td>0.13459</td></tr><tr><td>epoch</td><td>1900</td></tr><tr><td>epoch_loss</td><td>5628176.3</td></tr><tr><td>gamma</td><td>30.03003</td></tr><tr><td>is_prescreen</td><td>0</td></tr><tr><td>l1</td><td>0.00829</td></tr><tr><td>l2</td><td>5628121.0</td></tr><tr><td>n_edges_pred</td><td>22</td></tr><tr><td>nll</td><td>51.28376</td></tr><tr><td>precision</td><td>0.86364</td></tr><tr><td>recall</td><td>0.076</td></tr><tr><td>score</td><td>234</td></tr><tr><td>shd</td><td>234.0</td></tr></table><br/></div></div>"
      ],
      "text/plain": [
       "<IPython.core.display.HTML object>"
      ]
     },
     "metadata": {},
     "output_type": "display_data"
    },
    {
     "data": {
      "text/html": [
       " View run <strong style=\"color:#cdcd00\">SDCI_pf-1.0_mv-unit_ss-False_alpham-0.01</strong> at: <a href='https://wandb.ai/azizi-causal-perturb/SDCI_new_sim/runs/dtnh6v7q' target=\"_blank\">https://wandb.ai/azizi-causal-perturb/SDCI_new_sim/runs/dtnh6v7q</a><br/>Synced 6 W&B file(s), 0 media file(s), 0 artifact file(s) and 0 other file(s)"
      ],
      "text/plain": [
       "<IPython.core.display.HTML object>"
      ]
     },
     "metadata": {},
     "output_type": "display_data"
    },
    {
     "data": {
      "text/html": [
       "Find logs at: <code>./wandb/run-20230712_225209-dtnh6v7q/logs</code>"
      ],
      "text/plain": [
       "<IPython.core.display.HTML object>"
      ]
     },
     "metadata": {},
     "output_type": "display_data"
    },
    {
     "data": {
      "application/vnd.jupyter.widget-view+json": {
       "model_id": "4b6d4a7b427049b7abfba9112cd150d1",
       "version_major": 2,
       "version_minor": 0
      },
      "text/plain": [
       "VBox(children=(Label(value='Waiting for wandb.init()...\\r'), FloatProgress(value=0.016669684369117022, max=1.0…"
      ]
     },
     "metadata": {},
     "output_type": "display_data"
    },
    {
     "data": {
      "text/html": [
       "wandb version 0.15.5 is available!  To upgrade, please run:\n",
       " $ pip install wandb --upgrade"
      ],
      "text/plain": [
       "<IPython.core.display.HTML object>"
      ]
     },
     "metadata": {},
     "output_type": "display_data"
    },
    {
     "data": {
      "text/html": [
       "Tracking run with wandb version 0.15.2"
      ],
      "text/plain": [
       "<IPython.core.display.HTML object>"
      ]
     },
     "metadata": {},
     "output_type": "display_data"
    },
    {
     "data": {
      "text/html": [
       "Run data is saved locally in <code>/home/justin/ghrepos/causal-perturbseq/notebooks/wandb/run-20230712_225326-fzqfbnmk</code>"
      ],
      "text/plain": [
       "<IPython.core.display.HTML object>"
      ]
     },
     "metadata": {},
     "output_type": "display_data"
    },
    {
     "data": {
      "text/html": [
       "Syncing run <strong><a href='https://wandb.ai/azizi-causal-perturb/SDCI_new_sim/runs/fzqfbnmk' target=\"_blank\">SDCI_pf-1.0_mv-unit_ss-False_alpham-0.001</a></strong> to <a href='https://wandb.ai/azizi-causal-perturb/SDCI_new_sim' target=\"_blank\">Weights & Biases</a> (<a href='https://wandb.me/run' target=\"_blank\">docs</a>)<br/>"
      ],
      "text/plain": [
       "<IPython.core.display.HTML object>"
      ]
     },
     "metadata": {},
     "output_type": "display_data"
    },
    {
     "data": {
      "text/html": [
       " View project at <a href='https://wandb.ai/azizi-causal-perturb/SDCI_new_sim' target=\"_blank\">https://wandb.ai/azizi-causal-perturb/SDCI_new_sim</a>"
      ],
      "text/plain": [
       "<IPython.core.display.HTML object>"
      ]
     },
     "metadata": {},
     "output_type": "display_data"
    },
    {
     "data": {
      "text/html": [
       " View run at <a href='https://wandb.ai/azizi-causal-perturb/SDCI_new_sim/runs/fzqfbnmk' target=\"_blank\">https://wandb.ai/azizi-causal-perturb/SDCI_new_sim/runs/fzqfbnmk</a>"
      ],
      "text/plain": [
       "<IPython.core.display.HTML object>"
      ]
     },
     "metadata": {},
     "output_type": "display_data"
    },
    {
     "name": "stderr",
     "output_type": "stream",
     "text": [
      "/home/justin/miniconda3/envs/cp/lib/python3.9/site-packages/torch/optim/optimizer.py:243: UserWarning: 'has_cuda' is deprecated, please use 'torch.backends.cuda.is_built()'\n",
      "  if not is_compiling() and torch.has_cuda and torch.cuda.is_available():\n"
     ]
    },
    {
     "name": "stdout",
     "output_type": "stream",
     "text": [
      "Epoch 0: loss=66.63, score=250, shd=250.0, gamma=0.00\n",
      "Epoch 100: loss=49.05, score=216, shd=216.0, gamma=0.00\n",
      "Epoch 200: loss=49.04, score=213, shd=213.0, gamma=0.00\n",
      "Epoch 300: loss=49.03, score=214, shd=214.0, gamma=0.00\n",
      "Epoch 400: loss=49.03, score=214, shd=214.0, gamma=0.00\n",
      "Epoch 500: loss=49.03, score=212, shd=212.0, gamma=0.00\n",
      "Epoch 600: loss=49.03, score=214, shd=214.0, gamma=0.00\n",
      "Epoch 700: loss=49.03, score=212, shd=212.0, gamma=0.00\n",
      "Epoch 800: loss=49.03, score=210, shd=210.0, gamma=0.00\n",
      "Epoch 900: loss=49.03, score=213, shd=213.0, gamma=0.00\n",
      "Recall of mask: 0.836\n",
      "Fraction of possible edges in mask: 0.2128\n",
      "Epoch 0: loss=63.66, score=338, shd=338.0, gamma=0.00\n",
      "Epoch 100: loss=59.32, score=233, shd=233.0, gamma=30.03\n",
      "Epoch 200: loss=59.30, score=234, shd=234.0, gamma=30.03\n",
      "Epoch 300: loss=59.31, score=234, shd=234.0, gamma=30.03\n",
      "Epoch 400: loss=59.30, score=236, shd=236.0, gamma=30.03\n",
      "Epoch 500: loss=59.32, score=236, shd=236.0, gamma=30.03\n",
      "Epoch 600: loss=59.30, score=234, shd=234.0, gamma=30.03\n",
      "Epoch 700: loss=59.30, score=235, shd=235.0, gamma=30.03\n",
      "Epoch 800: loss=59.30, score=234, shd=234.0, gamma=30.03\n",
      "Epoch 900: loss=59.31, score=235, shd=235.0, gamma=30.03\n",
      "Finished training in 71.04366779327393 seconds.\n"
     ]
    },
    {
     "data": {
      "text/html": [
       "Waiting for W&B process to finish... <strong style=\"color:green\">(success).</strong>"
      ],
      "text/plain": [
       "<IPython.core.display.HTML object>"
      ]
     },
     "metadata": {},
     "output_type": "display_data"
    },
    {
     "data": {
      "application/vnd.jupyter.widget-view+json": {
       "model_id": "d986c00a987745e8a24c4712069a3483",
       "version_major": 2,
       "version_minor": 0
      },
      "text/plain": [
       "VBox(children=(Label(value='0.004 MB of 0.004 MB uploaded (0.000 MB deduped)\\r'), FloatProgress(value=1.0, max…"
      ]
     },
     "metadata": {},
     "output_type": "display_data"
    },
    {
     "data": {
      "text/html": [
       "<style>\n",
       "    table.wandb td:nth-child(1) { padding: 0 10px; text-align: left ; width: auto;} td:nth-child(2) {text-align: left ; width: 100%}\n",
       "    .wandb-row { display: flex; flex-direction: row; flex-wrap: wrap; justify-content: flex-start; width: 100% }\n",
       "    .wandb-col { display: flex; flex-direction: column; flex-basis: 100%; flex: 1; padding: 10px; }\n",
       "    </style>\n",
       "<div class=\"wandb-row\"><div class=\"wandb-col\"><h3>Run history:</h3><br/><table class=\"wandb\"><tr><td>alpha</td><td>██████████▁▁▁▁▁▁▁▁▁▁</td></tr><tr><td>dag</td><td>▁▁▁▁▁▁▁▁▁▁█▂▂▂▂▂▂▂▂▂</td></tr><tr><td>epoch</td><td>▁▁▂▂▂▃▃▄▄▄▅▅▅▆▆▇▇▇██</td></tr><tr><td>epoch_loss</td><td>█▁▁▁▁▁▁▁▁▁▇▅▅▅▅▅▅▅▅▅</td></tr><tr><td>gamma</td><td>▁▁▁▁▁▁▁▁▁▁▁█████████</td></tr><tr><td>is_prescreen</td><td>██████████▁▁▁▁▁▁▁▁▁▁</td></tr><tr><td>l1</td><td>▃█████████▂▁▁▁▁▁▁▁▁▁</td></tr><tr><td>l2</td><td>▁▄▄▄▄▄▄▄▄▄▁█████████</td></tr><tr><td>n_edges_pred</td><td>▁▅▅▅▅▅▅▅▅▅█▁▁▁▁▁▁▁▁▁</td></tr><tr><td>nll</td><td>█▁▁▁▁▁▁▁▁▁▇▂▂▂▂▂▂▂▂▂</td></tr><tr><td>precision</td><td>▁▅▅▅▅▅▅▅▅▅▄█████████</td></tr><tr><td>recall</td><td>▁▇▇▇▇▇▇▇▇▇█▂▂▂▂▂▂▂▂▂</td></tr><tr><td>score</td><td>▃▁▁▁▁▁▁▁▁▁█▂▂▂▂▂▂▂▂▂</td></tr><tr><td>shd</td><td>▃▁▁▁▁▁▁▁▁▁█▂▂▂▂▂▂▂▂▂</td></tr></table><br/></div><div class=\"wandb-col\"><h3>Run summary:</h3><br/><table class=\"wandb\"><tr><td>alpha</td><td>1e-05</td></tr><tr><td>dag</td><td>0.13293</td></tr><tr><td>epoch</td><td>1900</td></tr><tr><td>epoch_loss</td><td>59.30891</td></tr><tr><td>gamma</td><td>30.03003</td></tr><tr><td>is_prescreen</td><td>0</td></tr><tr><td>l1</td><td>0.00086</td></tr><tr><td>l2</td><td>4.062</td></tr><tr><td>n_edges_pred</td><td>21</td></tr><tr><td>nll</td><td>51.25403</td></tr><tr><td>precision</td><td>0.85714</td></tr><tr><td>recall</td><td>0.072</td></tr><tr><td>score</td><td>235</td></tr><tr><td>shd</td><td>235.0</td></tr></table><br/></div></div>"
      ],
      "text/plain": [
       "<IPython.core.display.HTML object>"
      ]
     },
     "metadata": {},
     "output_type": "display_data"
    },
    {
     "data": {
      "text/html": [
       " View run <strong style=\"color:#cdcd00\">SDCI_pf-1.0_mv-unit_ss-False_alpham-0.001</strong> at: <a href='https://wandb.ai/azizi-causal-perturb/SDCI_new_sim/runs/fzqfbnmk' target=\"_blank\">https://wandb.ai/azizi-causal-perturb/SDCI_new_sim/runs/fzqfbnmk</a><br/>Synced 6 W&B file(s), 0 media file(s), 0 artifact file(s) and 0 other file(s)"
      ],
      "text/plain": [
       "<IPython.core.display.HTML object>"
      ]
     },
     "metadata": {},
     "output_type": "display_data"
    },
    {
     "data": {
      "text/html": [
       "Find logs at: <code>./wandb/run-20230712_225326-fzqfbnmk/logs</code>"
      ],
      "text/plain": [
       "<IPython.core.display.HTML object>"
      ]
     },
     "metadata": {},
     "output_type": "display_data"
    },
    {
     "data": {
      "application/vnd.jupyter.widget-view+json": {
       "model_id": "5d51a9a4cfb24bafa47d821774c764e4",
       "version_major": 2,
       "version_minor": 0
      },
      "text/plain": [
       "VBox(children=(Label(value='Waiting for wandb.init()...\\r'), FloatProgress(value=0.016669625462964178, max=1.0…"
      ]
     },
     "metadata": {},
     "output_type": "display_data"
    },
    {
     "data": {
      "text/html": [
       "wandb version 0.15.5 is available!  To upgrade, please run:\n",
       " $ pip install wandb --upgrade"
      ],
      "text/plain": [
       "<IPython.core.display.HTML object>"
      ]
     },
     "metadata": {},
     "output_type": "display_data"
    },
    {
     "data": {
      "text/html": [
       "Tracking run with wandb version 0.15.2"
      ],
      "text/plain": [
       "<IPython.core.display.HTML object>"
      ]
     },
     "metadata": {},
     "output_type": "display_data"
    },
    {
     "data": {
      "text/html": [
       "Run data is saved locally in <code>/home/justin/ghrepos/causal-perturbseq/notebooks/wandb/run-20230712_225444-lj3oguyi</code>"
      ],
      "text/plain": [
       "<IPython.core.display.HTML object>"
      ]
     },
     "metadata": {},
     "output_type": "display_data"
    },
    {
     "data": {
      "text/html": [
       "Syncing run <strong><a href='https://wandb.ai/azizi-causal-perturb/SDCI_new_sim/runs/lj3oguyi' target=\"_blank\">SDCI_pf-1.0_mv-nn_ss-True_alpham-1</a></strong> to <a href='https://wandb.ai/azizi-causal-perturb/SDCI_new_sim' target=\"_blank\">Weights & Biases</a> (<a href='https://wandb.me/run' target=\"_blank\">docs</a>)<br/>"
      ],
      "text/plain": [
       "<IPython.core.display.HTML object>"
      ]
     },
     "metadata": {},
     "output_type": "display_data"
    },
    {
     "data": {
      "text/html": [
       " View project at <a href='https://wandb.ai/azizi-causal-perturb/SDCI_new_sim' target=\"_blank\">https://wandb.ai/azizi-causal-perturb/SDCI_new_sim</a>"
      ],
      "text/plain": [
       "<IPython.core.display.HTML object>"
      ]
     },
     "metadata": {},
     "output_type": "display_data"
    },
    {
     "data": {
      "text/html": [
       " View run at <a href='https://wandb.ai/azizi-causal-perturb/SDCI_new_sim/runs/lj3oguyi' target=\"_blank\">https://wandb.ai/azizi-causal-perturb/SDCI_new_sim/runs/lj3oguyi</a>"
      ],
      "text/plain": [
       "<IPython.core.display.HTML object>"
      ]
     },
     "metadata": {},
     "output_type": "display_data"
    },
    {
     "name": "stderr",
     "output_type": "stream",
     "text": [
      "/home/justin/miniconda3/envs/cp/lib/python3.9/site-packages/torch/optim/optimizer.py:243: UserWarning: 'has_cuda' is deprecated, please use 'torch.backends.cuda.is_built()'\n",
      "  if not is_compiling() and torch.has_cuda and torch.cuda.is_available():\n"
     ]
    },
    {
     "name": "stdout",
     "output_type": "stream",
     "text": [
      "Epoch 0: loss=71.17, score=250, shd=250.0, gamma=0.00\n",
      "Epoch 100: loss=8.00, score=154, shd=154.0, gamma=0.00\n",
      "Epoch 200: loss=6.04, score=146, shd=146.0, gamma=0.00\n",
      "Epoch 300: loss=5.26, score=148, shd=148.0, gamma=0.00\n",
      "Epoch 400: loss=4.95, score=143, shd=143.0, gamma=0.00\n",
      "Epoch 500: loss=4.66, score=135, shd=135.0, gamma=0.00\n",
      "Epoch 600: loss=4.47, score=137, shd=137.0, gamma=0.00\n",
      "Epoch 700: loss=4.40, score=137, shd=137.0, gamma=0.00\n",
      "Epoch 800: loss=4.24, score=133, shd=133.0, gamma=0.00\n",
      "Epoch 900: loss=4.24, score=133, shd=133.0, gamma=0.00\n",
      "Recall of mask: 0.948\n",
      "Fraction of possible edges in mask: 0.1708\n",
      "Epoch 0: loss=66.15, score=207, shd=207.0, gamma=0.00\n",
      "Epoch 100: loss=30.86, score=168, shd=168.0, gamma=30.03\n",
      "Epoch 200: loss=29.96, score=177, shd=177.0, gamma=30.03\n",
      "Epoch 300: loss=29.83, score=176, shd=176.0, gamma=30.03\n",
      "Epoch 400: loss=29.76, score=175, shd=175.0, gamma=30.03\n",
      "Epoch 500: loss=29.67, score=176, shd=176.0, gamma=30.03\n",
      "Epoch 600: loss=29.68, score=175, shd=175.0, gamma=30.03\n",
      "Epoch 700: loss=29.53, score=176, shd=176.0, gamma=30.03\n",
      "Epoch 800: loss=29.52, score=175, shd=175.0, gamma=30.03\n",
      "Epoch 900: loss=29.60, score=174, shd=174.0, gamma=30.03\n",
      "Finished training in 78.48350262641907 seconds.\n"
     ]
    },
    {
     "data": {
      "text/html": [
       "Waiting for W&B process to finish... <strong style=\"color:green\">(success).</strong>"
      ],
      "text/plain": [
       "<IPython.core.display.HTML object>"
      ]
     },
     "metadata": {},
     "output_type": "display_data"
    },
    {
     "data": {
      "text/html": [
       "<style>\n",
       "    table.wandb td:nth-child(1) { padding: 0 10px; text-align: left ; width: auto;} td:nth-child(2) {text-align: left ; width: 100%}\n",
       "    .wandb-row { display: flex; flex-direction: row; flex-wrap: wrap; justify-content: flex-start; width: 100% }\n",
       "    .wandb-col { display: flex; flex-direction: column; flex-basis: 100%; flex: 1; padding: 10px; }\n",
       "    </style>\n",
       "<div class=\"wandb-row\"><div class=\"wandb-col\"><h3>Run history:</h3><br/><table class=\"wandb\"><tr><td>alpha</td><td>██████████▁▁▁▁▁▁▁▁▁▁</td></tr><tr><td>dag</td><td>▁▁▁▁▁▁▁▁▁▁█▅▅▅▅▅▅▅▅▅</td></tr><tr><td>epoch</td><td>▁▁▂▂▂▃▃▄▄▄▅▅▅▆▆▇▇▇██</td></tr><tr><td>epoch_loss</td><td>█▁▁▁▁▁▁▁▁▁▇▄▄▄▄▄▄▄▄▄</td></tr><tr><td>gamma</td><td>▁▁▁▁▁▁▁▁▁▁▁█████████</td></tr><tr><td>is_prescreen</td><td>██████████▁▁▁▁▁▁▁▁▁▁</td></tr><tr><td>l1</td><td>▂█████████▁▁▁▁▁▁▁▁▁▁</td></tr><tr><td>l2</td><td>▁▄▅▅▅▆▆▆▆▆▁▇████████</td></tr><tr><td>n_edges_pred</td><td>▁█████████▇▃▃▃▃▃▃▃▃▃</td></tr><tr><td>nll</td><td>█▁▁▁▁▁▁▁▁▁█▃▃▃▃▃▃▃▃▃</td></tr><tr><td>precision</td><td>▁▆▆▆▆▆▆▆▆▆▅█████████</td></tr><tr><td>recall</td><td>▁█████████▇▄▄▄▄▄▄▄▄▄</td></tr><tr><td>score</td><td>█▂▂▂▂▁▁▁▁▁▅▃▄▄▄▄▄▄▄▃</td></tr><tr><td>shd</td><td>█▂▂▂▂▁▁▁▁▁▅▃▄▄▄▄▄▄▄▃</td></tr></table><br/></div><div class=\"wandb-col\"><h3>Run summary:</h3><br/><table class=\"wandb\"><tr><td>alpha</td><td>0.005</td></tr><tr><td>dag</td><td>0.29996</td></tr><tr><td>epoch</td><td>1900</td></tr><tr><td>epoch_loss</td><td>29.60372</td></tr><tr><td>gamma</td><td>30.03003</td></tr><tr><td>is_prescreen</td><td>0</td></tr><tr><td>l1</td><td>0.78369</td></tr><tr><td>l2</td><td>8.59349</td></tr><tr><td>n_edges_pred</td><td>100</td></tr><tr><td>nll</td><td>11.21882</td></tr><tr><td>precision</td><td>0.88</td></tr><tr><td>recall</td><td>0.352</td></tr><tr><td>score</td><td>174</td></tr><tr><td>shd</td><td>174.0</td></tr></table><br/></div></div>"
      ],
      "text/plain": [
       "<IPython.core.display.HTML object>"
      ]
     },
     "metadata": {},
     "output_type": "display_data"
    },
    {
     "data": {
      "text/html": [
       " View run <strong style=\"color:#cdcd00\">SDCI_pf-1.0_mv-nn_ss-True_alpham-1</strong> at: <a href='https://wandb.ai/azizi-causal-perturb/SDCI_new_sim/runs/lj3oguyi' target=\"_blank\">https://wandb.ai/azizi-causal-perturb/SDCI_new_sim/runs/lj3oguyi</a><br/>Synced 6 W&B file(s), 0 media file(s), 0 artifact file(s) and 0 other file(s)"
      ],
      "text/plain": [
       "<IPython.core.display.HTML object>"
      ]
     },
     "metadata": {},
     "output_type": "display_data"
    },
    {
     "data": {
      "text/html": [
       "Find logs at: <code>./wandb/run-20230712_225444-lj3oguyi/logs</code>"
      ],
      "text/plain": [
       "<IPython.core.display.HTML object>"
      ]
     },
     "metadata": {},
     "output_type": "display_data"
    },
    {
     "data": {
      "application/vnd.jupyter.widget-view+json": {
       "model_id": "3ca7bf0ebda24b7f81404843626787c1",
       "version_major": 2,
       "version_minor": 0
      },
      "text/plain": [
       "VBox(children=(Label(value='Waiting for wandb.init()...\\r'), FloatProgress(value=0.016669653837258616, max=1.0…"
      ]
     },
     "metadata": {},
     "output_type": "display_data"
    },
    {
     "data": {
      "text/html": [
       "wandb version 0.15.5 is available!  To upgrade, please run:\n",
       " $ pip install wandb --upgrade"
      ],
      "text/plain": [
       "<IPython.core.display.HTML object>"
      ]
     },
     "metadata": {},
     "output_type": "display_data"
    },
    {
     "data": {
      "text/html": [
       "Tracking run with wandb version 0.15.2"
      ],
      "text/plain": [
       "<IPython.core.display.HTML object>"
      ]
     },
     "metadata": {},
     "output_type": "display_data"
    },
    {
     "data": {
      "text/html": [
       "Run data is saved locally in <code>/home/justin/ghrepos/causal-perturbseq/notebooks/wandb/run-20230712_225612-h51lsotn</code>"
      ],
      "text/plain": [
       "<IPython.core.display.HTML object>"
      ]
     },
     "metadata": {},
     "output_type": "display_data"
    },
    {
     "data": {
      "text/html": [
       "Syncing run <strong><a href='https://wandb.ai/azizi-causal-perturb/SDCI_new_sim/runs/h51lsotn' target=\"_blank\">SDCI_pf-1.0_mv-nn_ss-True_alpham-0.1</a></strong> to <a href='https://wandb.ai/azizi-causal-perturb/SDCI_new_sim' target=\"_blank\">Weights & Biases</a> (<a href='https://wandb.me/run' target=\"_blank\">docs</a>)<br/>"
      ],
      "text/plain": [
       "<IPython.core.display.HTML object>"
      ]
     },
     "metadata": {},
     "output_type": "display_data"
    },
    {
     "data": {
      "text/html": [
       " View project at <a href='https://wandb.ai/azizi-causal-perturb/SDCI_new_sim' target=\"_blank\">https://wandb.ai/azizi-causal-perturb/SDCI_new_sim</a>"
      ],
      "text/plain": [
       "<IPython.core.display.HTML object>"
      ]
     },
     "metadata": {},
     "output_type": "display_data"
    },
    {
     "data": {
      "text/html": [
       " View run at <a href='https://wandb.ai/azizi-causal-perturb/SDCI_new_sim/runs/h51lsotn' target=\"_blank\">https://wandb.ai/azizi-causal-perturb/SDCI_new_sim/runs/h51lsotn</a>"
      ],
      "text/plain": [
       "<IPython.core.display.HTML object>"
      ]
     },
     "metadata": {},
     "output_type": "display_data"
    },
    {
     "name": "stderr",
     "output_type": "stream",
     "text": [
      "/home/justin/miniconda3/envs/cp/lib/python3.9/site-packages/torch/optim/optimizer.py:243: UserWarning: 'has_cuda' is deprecated, please use 'torch.backends.cuda.is_built()'\n",
      "  if not is_compiling() and torch.has_cuda and torch.cuda.is_available():\n"
     ]
    },
    {
     "name": "stdout",
     "output_type": "stream",
     "text": [
      "Epoch 0: loss=67.44, score=250, shd=250.0, gamma=0.00\n",
      "Epoch 100: loss=-2.64, score=592, shd=592.0, gamma=0.00\n",
      "Epoch 300: loss=-5.77, score=594, shd=594.0, gamma=0.00\n",
      "Epoch 400: loss=-6.20, score=613, shd=613.0, gamma=0.00\n",
      "Epoch 500: loss=-6.46, score=611, shd=611.0, gamma=0.00\n",
      "Epoch 600: loss=-6.67, score=611, shd=611.0, gamma=0.00\n",
      "Epoch 700: loss=-6.80, score=618, shd=618.0, gamma=0.00\n",
      "Epoch 800: loss=-6.88, score=620, shd=620.0, gamma=0.00\n",
      "Epoch 900: loss=-6.96, score=624, shd=624.0, gamma=0.00\n",
      "Recall of mask: 1.0\n",
      "Fraction of possible edges in mask: 0.604\n",
      "Epoch 0: loss=59.86, score=932, shd=932.0, gamma=0.00\n",
      "Epoch 100: loss=27.77, score=222, shd=222.0, gamma=30.03\n",
      "Epoch 200: loss=26.90, score=221, shd=221.0, gamma=30.03\n",
      "Epoch 300: loss=26.84, score=221, shd=221.0, gamma=30.03\n",
      "Epoch 400: loss=26.63, score=221, shd=221.0, gamma=30.03\n",
      "Epoch 500: loss=26.48, score=222, shd=222.0, gamma=30.03\n",
      "Epoch 600: loss=26.59, score=221, shd=221.0, gamma=30.03\n",
      "Epoch 700: loss=26.49, score=221, shd=221.0, gamma=30.03\n",
      "Epoch 800: loss=26.47, score=221, shd=221.0, gamma=30.03\n",
      "Epoch 900: loss=26.35, score=221, shd=221.0, gamma=30.03\n",
      "Finished training in 79.13519620895386 seconds.\n"
     ]
    },
    {
     "data": {
      "text/html": [
       "Waiting for W&B process to finish... <strong style=\"color:green\">(success).</strong>"
      ],
      "text/plain": [
       "<IPython.core.display.HTML object>"
      ]
     },
     "metadata": {},
     "output_type": "display_data"
    },
    {
     "data": {
      "application/vnd.jupyter.widget-view+json": {
       "model_id": "906c3853309f45fbb19929ebc6ac15d2",
       "version_major": 2,
       "version_minor": 0
      },
      "text/plain": [
       "VBox(children=(Label(value='0.004 MB of 0.004 MB uploaded (0.000 MB deduped)\\r'), FloatProgress(value=1.0, max…"
      ]
     },
     "metadata": {},
     "output_type": "display_data"
    },
    {
     "data": {
      "text/html": [
       "<style>\n",
       "    table.wandb td:nth-child(1) { padding: 0 10px; text-align: left ; width: auto;} td:nth-child(2) {text-align: left ; width: 100%}\n",
       "    .wandb-row { display: flex; flex-direction: row; flex-wrap: wrap; justify-content: flex-start; width: 100% }\n",
       "    .wandb-col { display: flex; flex-direction: column; flex-basis: 100%; flex: 1; padding: 10px; }\n",
       "    </style>\n",
       "<div class=\"wandb-row\"><div class=\"wandb-col\"><h3>Run history:</h3><br/><table class=\"wandb\"><tr><td>alpha</td><td>██████████▁▁▁▁▁▁▁▁▁▁</td></tr><tr><td>dag</td><td>▁▁▁▁▁▁▁▁▁▁█▂▂▂▂▂▂▂▂▂</td></tr><tr><td>epoch</td><td>▁▁▂▂▂▃▃▄▄▄▅▅▅▆▆▇▇▇██</td></tr><tr><td>epoch_loss</td><td>█▁▁▁▁▁▁▁▁▁▇▄▄▄▄▄▄▄▄▄</td></tr><tr><td>gamma</td><td>▁▁▁▁▁▁▁▁▁▁▁█████████</td></tr><tr><td>is_prescreen</td><td>██████████▁▁▁▁▁▁▁▁▁▁</td></tr><tr><td>l1</td><td>▂▇████████▂▁▁▁▁▁▁▁▁▁</td></tr><tr><td>l2</td><td>▁▆▇▇▇█████▁▆▆▆▇▇▇▇▇▇</td></tr><tr><td>n_edges_pred</td><td>▁▆▇▆▇▇▇▇▇▇█▁▁▁▁▁▁▁▁▁</td></tr><tr><td>nll</td><td>█▂▁▁▁▁▁▁▁▁▇▄▃▃▃▃▃▃▃▃</td></tr><tr><td>precision</td><td>▁▃▃▃▃▃▃▃▃▃▃█████████</td></tr><tr><td>recall</td><td>▁█████████▇▂▂▂▂▂▂▂▂▂</td></tr><tr><td>score</td><td>▁▅▅▅▅▅▅▅▅▅█▁▁▁▁▁▁▁▁▁</td></tr><tr><td>shd</td><td>▁▅▅▅▅▅▅▅▅▅█▁▁▁▁▁▁▁▁▁</td></tr></table><br/></div><div class=\"wandb-col\"><h3>Run summary:</h3><br/><table class=\"wandb\"><tr><td>alpha</td><td>0.0005</td></tr><tr><td>dag</td><td>0.28014</td></tr><tr><td>epoch</td><td>1900</td></tr><tr><td>epoch_loss</td><td>26.34952</td></tr><tr><td>gamma</td><td>30.03003</td></tr><tr><td>is_prescreen</td><td>0</td></tr><tr><td>l1</td><td>0.10333</td></tr><tr><td>l2</td><td>7.24394</td></tr><tr><td>n_edges_pred</td><td>43</td></tr><tr><td>nll</td><td>10.5897</td></tr><tr><td>precision</td><td>0.83721</td></tr><tr><td>recall</td><td>0.144</td></tr><tr><td>score</td><td>221</td></tr><tr><td>shd</td><td>221.0</td></tr></table><br/></div></div>"
      ],
      "text/plain": [
       "<IPython.core.display.HTML object>"
      ]
     },
     "metadata": {},
     "output_type": "display_data"
    },
    {
     "data": {
      "text/html": [
       " View run <strong style=\"color:#cdcd00\">SDCI_pf-1.0_mv-nn_ss-True_alpham-0.1</strong> at: <a href='https://wandb.ai/azizi-causal-perturb/SDCI_new_sim/runs/h51lsotn' target=\"_blank\">https://wandb.ai/azizi-causal-perturb/SDCI_new_sim/runs/h51lsotn</a><br/>Synced 6 W&B file(s), 0 media file(s), 0 artifact file(s) and 0 other file(s)"
      ],
      "text/plain": [
       "<IPython.core.display.HTML object>"
      ]
     },
     "metadata": {},
     "output_type": "display_data"
    },
    {
     "data": {
      "text/html": [
       "Find logs at: <code>./wandb/run-20230712_225612-h51lsotn/logs</code>"
      ],
      "text/plain": [
       "<IPython.core.display.HTML object>"
      ]
     },
     "metadata": {},
     "output_type": "display_data"
    },
    {
     "data": {
      "application/vnd.jupyter.widget-view+json": {
       "model_id": "a0b7962adff84951bb8eb0785d23826c",
       "version_major": 2,
       "version_minor": 0
      },
      "text/plain": [
       "VBox(children=(Label(value='Waiting for wandb.init()...\\r'), FloatProgress(value=0.016669688001275062, max=1.0…"
      ]
     },
     "metadata": {},
     "output_type": "display_data"
    },
    {
     "data": {
      "text/html": [
       "wandb version 0.15.5 is available!  To upgrade, please run:\n",
       " $ pip install wandb --upgrade"
      ],
      "text/plain": [
       "<IPython.core.display.HTML object>"
      ]
     },
     "metadata": {},
     "output_type": "display_data"
    },
    {
     "data": {
      "text/html": [
       "Tracking run with wandb version 0.15.2"
      ],
      "text/plain": [
       "<IPython.core.display.HTML object>"
      ]
     },
     "metadata": {},
     "output_type": "display_data"
    },
    {
     "data": {
      "text/html": [
       "Run data is saved locally in <code>/home/justin/ghrepos/causal-perturbseq/notebooks/wandb/run-20230712_225737-9gkpdvcm</code>"
      ],
      "text/plain": [
       "<IPython.core.display.HTML object>"
      ]
     },
     "metadata": {},
     "output_type": "display_data"
    },
    {
     "data": {
      "text/html": [
       "Syncing run <strong><a href='https://wandb.ai/azizi-causal-perturb/SDCI_new_sim/runs/9gkpdvcm' target=\"_blank\">SDCI_pf-1.0_mv-nn_ss-True_alpham-0.01</a></strong> to <a href='https://wandb.ai/azizi-causal-perturb/SDCI_new_sim' target=\"_blank\">Weights & Biases</a> (<a href='https://wandb.me/run' target=\"_blank\">docs</a>)<br/>"
      ],
      "text/plain": [
       "<IPython.core.display.HTML object>"
      ]
     },
     "metadata": {},
     "output_type": "display_data"
    },
    {
     "data": {
      "text/html": [
       " View project at <a href='https://wandb.ai/azizi-causal-perturb/SDCI_new_sim' target=\"_blank\">https://wandb.ai/azizi-causal-perturb/SDCI_new_sim</a>"
      ],
      "text/plain": [
       "<IPython.core.display.HTML object>"
      ]
     },
     "metadata": {},
     "output_type": "display_data"
    },
    {
     "data": {
      "text/html": [
       " View run at <a href='https://wandb.ai/azizi-causal-perturb/SDCI_new_sim/runs/9gkpdvcm' target=\"_blank\">https://wandb.ai/azizi-causal-perturb/SDCI_new_sim/runs/9gkpdvcm</a>"
      ],
      "text/plain": [
       "<IPython.core.display.HTML object>"
      ]
     },
     "metadata": {},
     "output_type": "display_data"
    },
    {
     "name": "stderr",
     "output_type": "stream",
     "text": [
      "/home/justin/miniconda3/envs/cp/lib/python3.9/site-packages/torch/optim/optimizer.py:243: UserWarning: 'has_cuda' is deprecated, please use 'torch.backends.cuda.is_built()'\n",
      "  if not is_compiling() and torch.has_cuda and torch.cuda.is_available():\n"
     ]
    },
    {
     "name": "stdout",
     "output_type": "stream",
     "text": [
      "Epoch 0: loss=66.97, score=250, shd=250.0, gamma=0.00\n",
      "Epoch 100: loss=-4.84, score=879, shd=879.0, gamma=0.00\n",
      "Epoch 200: loss=-7.13, score=966, shd=966.0, gamma=0.00\n",
      "Epoch 300: loss=-8.05, score=983, shd=983.0, gamma=0.00\n",
      "Epoch 400: loss=-8.54, score=989, shd=989.0, gamma=0.00\n",
      "Epoch 500: loss=-8.88, score=1017, shd=1017.0, gamma=0.00\n",
      "Epoch 600: loss=-9.04, score=1031, shd=1031.0, gamma=0.00\n",
      "Epoch 700: loss=-9.23, score=1031, shd=1031.0, gamma=0.00\n",
      "Epoch 800: loss=-9.32, score=1034, shd=1034.0, gamma=0.00\n",
      "Epoch 900: loss=-9.46, score=1046, shd=1046.0, gamma=0.00\n",
      "Recall of mask: 1.0\n",
      "Fraction of possible edges in mask: 0.83\n",
      "Epoch 0: loss=57.61, score=1327, shd=1327.0, gamma=0.00\n",
      "Epoch 100: loss=27.55, score=227, shd=227.0, gamma=30.03\n",
      "Epoch 200: loss=26.73, score=225, shd=225.0, gamma=30.03\n",
      "Epoch 300: loss=26.14, score=225, shd=225.0, gamma=30.03\n",
      "Epoch 400: loss=26.14, score=225, shd=225.0, gamma=30.03\n",
      "Epoch 500: loss=26.04, score=224, shd=224.0, gamma=30.03\n",
      "Epoch 600: loss=26.14, score=225, shd=225.0, gamma=30.03\n",
      "Epoch 700: loss=26.04, score=225, shd=225.0, gamma=30.03\n",
      "Epoch 800: loss=26.03, score=224, shd=224.0, gamma=30.03\n",
      "Epoch 900: loss=26.06, score=225, shd=225.0, gamma=30.03\n",
      "Finished training in 75.96326065063477 seconds.\n"
     ]
    },
    {
     "data": {
      "text/html": [
       "Waiting for W&B process to finish... <strong style=\"color:green\">(success).</strong>"
      ],
      "text/plain": [
       "<IPython.core.display.HTML object>"
      ]
     },
     "metadata": {},
     "output_type": "display_data"
    },
    {
     "data": {
      "text/html": [
       "<style>\n",
       "    table.wandb td:nth-child(1) { padding: 0 10px; text-align: left ; width: auto;} td:nth-child(2) {text-align: left ; width: 100%}\n",
       "    .wandb-row { display: flex; flex-direction: row; flex-wrap: wrap; justify-content: flex-start; width: 100% }\n",
       "    .wandb-col { display: flex; flex-direction: column; flex-basis: 100%; flex: 1; padding: 10px; }\n",
       "    </style>\n",
       "<div class=\"wandb-row\"><div class=\"wandb-col\"><h3>Run history:</h3><br/><table class=\"wandb\"><tr><td>alpha</td><td>██████████▁▁▁▁▁▁▁▁▁▁</td></tr><tr><td>dag</td><td>▁▁▁▁▁▁▁▁▁▁█▂▂▂▂▂▂▂▂▂</td></tr><tr><td>epoch</td><td>▁▁▂▂▂▃▃▄▄▄▅▅▅▆▆▇▇▇██</td></tr><tr><td>epoch_loss</td><td>█▁▁▁▁▁▁▁▁▁▇▄▄▄▄▄▄▄▄▄</td></tr><tr><td>gamma</td><td>▁▁▁▁▁▁▁▁▁▁▁█████████</td></tr><tr><td>is_prescreen</td><td>██████████▁▁▁▁▁▁▁▁▁▁</td></tr><tr><td>l1</td><td>▂▇████████▂▁▁▁▁▁▁▁▁▁</td></tr><tr><td>l2</td><td>▁▆▇▇▇█████▁▅▆▆▆▆▆▆▆▆</td></tr><tr><td>n_edges_pred</td><td>▁▆▇▇▇▇▇▇▇▇█▁▁▁▁▁▁▁▁▁</td></tr><tr><td>nll</td><td>█▂▁▁▁▁▁▁▁▁▇▄▄▃▃▃▃▃▃▃</td></tr><tr><td>precision</td><td>▁▃▃▃▃▃▃▃▃▃▂█████████</td></tr><tr><td>recall</td><td>▁█████████▇▂▂▂▂▂▂▂▂▂</td></tr><tr><td>score</td><td>▁▅▆▆▆▆▆▆▆▆█▁▁▁▁▁▁▁▁▁</td></tr><tr><td>shd</td><td>▁▅▆▆▆▆▆▆▆▆█▁▁▁▁▁▁▁▁▁</td></tr></table><br/></div><div class=\"wandb-col\"><h3>Run summary:</h3><br/><table class=\"wandb\"><tr><td>alpha</td><td>5e-05</td></tr><tr><td>dag</td><td>0.28015</td></tr><tr><td>epoch</td><td>1900</td></tr><tr><td>epoch_loss</td><td>26.05566</td></tr><tr><td>gamma</td><td>30.03003</td></tr><tr><td>is_prescreen</td><td>0</td></tr><tr><td>l1</td><td>0.01124</td></tr><tr><td>l2</td><td>6.97873</td></tr><tr><td>n_edges_pred</td><td>37</td></tr><tr><td>nll</td><td>10.65285</td></tr><tr><td>precision</td><td>0.83784</td></tr><tr><td>recall</td><td>0.124</td></tr><tr><td>score</td><td>225</td></tr><tr><td>shd</td><td>225.0</td></tr></table><br/></div></div>"
      ],
      "text/plain": [
       "<IPython.core.display.HTML object>"
      ]
     },
     "metadata": {},
     "output_type": "display_data"
    },
    {
     "data": {
      "text/html": [
       " View run <strong style=\"color:#cdcd00\">SDCI_pf-1.0_mv-nn_ss-True_alpham-0.01</strong> at: <a href='https://wandb.ai/azizi-causal-perturb/SDCI_new_sim/runs/9gkpdvcm' target=\"_blank\">https://wandb.ai/azizi-causal-perturb/SDCI_new_sim/runs/9gkpdvcm</a><br/>Synced 6 W&B file(s), 0 media file(s), 0 artifact file(s) and 0 other file(s)"
      ],
      "text/plain": [
       "<IPython.core.display.HTML object>"
      ]
     },
     "metadata": {},
     "output_type": "display_data"
    },
    {
     "data": {
      "text/html": [
       "Find logs at: <code>./wandb/run-20230712_225737-9gkpdvcm/logs</code>"
      ],
      "text/plain": [
       "<IPython.core.display.HTML object>"
      ]
     },
     "metadata": {},
     "output_type": "display_data"
    },
    {
     "data": {
      "application/vnd.jupyter.widget-view+json": {
       "model_id": "6e50f34409114711ae20909e26156a1f",
       "version_major": 2,
       "version_minor": 0
      },
      "text/plain": [
       "VBox(children=(Label(value='Waiting for wandb.init()...\\r'), FloatProgress(value=0.016669518096993366, max=1.0…"
      ]
     },
     "metadata": {},
     "output_type": "display_data"
    },
    {
     "data": {
      "text/html": [
       "wandb version 0.15.5 is available!  To upgrade, please run:\n",
       " $ pip install wandb --upgrade"
      ],
      "text/plain": [
       "<IPython.core.display.HTML object>"
      ]
     },
     "metadata": {},
     "output_type": "display_data"
    },
    {
     "data": {
      "text/html": [
       "Tracking run with wandb version 0.15.2"
      ],
      "text/plain": [
       "<IPython.core.display.HTML object>"
      ]
     },
     "metadata": {},
     "output_type": "display_data"
    },
    {
     "data": {
      "text/html": [
       "Run data is saved locally in <code>/home/justin/ghrepos/causal-perturbseq/notebooks/wandb/run-20230712_225900-ccbx7ffv</code>"
      ],
      "text/plain": [
       "<IPython.core.display.HTML object>"
      ]
     },
     "metadata": {},
     "output_type": "display_data"
    },
    {
     "data": {
      "text/html": [
       "Syncing run <strong><a href='https://wandb.ai/azizi-causal-perturb/SDCI_new_sim/runs/ccbx7ffv' target=\"_blank\">SDCI_pf-1.0_mv-nn_ss-True_alpham-0.001</a></strong> to <a href='https://wandb.ai/azizi-causal-perturb/SDCI_new_sim' target=\"_blank\">Weights & Biases</a> (<a href='https://wandb.me/run' target=\"_blank\">docs</a>)<br/>"
      ],
      "text/plain": [
       "<IPython.core.display.HTML object>"
      ]
     },
     "metadata": {},
     "output_type": "display_data"
    },
    {
     "data": {
      "text/html": [
       " View project at <a href='https://wandb.ai/azizi-causal-perturb/SDCI_new_sim' target=\"_blank\">https://wandb.ai/azizi-causal-perturb/SDCI_new_sim</a>"
      ],
      "text/plain": [
       "<IPython.core.display.HTML object>"
      ]
     },
     "metadata": {},
     "output_type": "display_data"
    },
    {
     "data": {
      "text/html": [
       " View run at <a href='https://wandb.ai/azizi-causal-perturb/SDCI_new_sim/runs/ccbx7ffv' target=\"_blank\">https://wandb.ai/azizi-causal-perturb/SDCI_new_sim/runs/ccbx7ffv</a>"
      ],
      "text/plain": [
       "<IPython.core.display.HTML object>"
      ]
     },
     "metadata": {},
     "output_type": "display_data"
    },
    {
     "name": "stderr",
     "output_type": "stream",
     "text": [
      "/home/justin/miniconda3/envs/cp/lib/python3.9/site-packages/torch/optim/optimizer.py:243: UserWarning: 'has_cuda' is deprecated, please use 'torch.backends.cuda.is_built()'\n",
      "  if not is_compiling() and torch.has_cuda and torch.cuda.is_available():\n"
     ]
    },
    {
     "name": "stdout",
     "output_type": "stream",
     "text": [
      "Epoch 0: loss=67.94, score=250, shd=250.0, gamma=0.00\n",
      "Epoch 100: loss=-4.82, score=927, shd=927.0, gamma=0.00\n",
      "Epoch 200: loss=-7.43, score=1001, shd=1001.0, gamma=0.00\n",
      "Epoch 300: loss=-8.32, score=1053, shd=1053.0, gamma=0.00\n",
      "Epoch 400: loss=-8.79, score=1046, shd=1046.0, gamma=0.00\n",
      "Epoch 500: loss=-9.03, score=1063, shd=1063.0, gamma=0.00\n",
      "Epoch 600: loss=-9.28, score=1085, shd=1085.0, gamma=0.00\n",
      "Epoch 700: loss=-9.39, score=1098, shd=1098.0, gamma=0.00\n",
      "Epoch 800: loss=-9.51, score=1123, shd=1123.0, gamma=0.00\n",
      "Epoch 900: loss=-9.61, score=1134, shd=1134.0, gamma=0.00\n",
      "Recall of mask: 1.0\n",
      "Fraction of possible edges in mask: 0.8476\n",
      "Epoch 0: loss=57.62, score=1320, shd=1320.0, gamma=0.00\n",
      "Epoch 100: loss=27.56, score=230, shd=230.0, gamma=30.03\n",
      "Epoch 200: loss=26.52, score=226, shd=226.0, gamma=30.03\n",
      "Epoch 300: loss=26.30, score=226, shd=226.0, gamma=30.03\n",
      "Epoch 400: loss=26.28, score=225, shd=225.0, gamma=30.03\n",
      "Epoch 500: loss=25.87, score=227, shd=227.0, gamma=30.03\n",
      "Epoch 600: loss=26.06, score=226, shd=226.0, gamma=30.03\n",
      "Epoch 700: loss=26.04, score=227, shd=227.0, gamma=30.03\n",
      "Epoch 800: loss=26.13, score=224, shd=224.0, gamma=30.03\n",
      "Epoch 900: loss=25.61, score=226, shd=226.0, gamma=30.03\n",
      "Finished training in 75.65286207199097 seconds.\n"
     ]
    },
    {
     "data": {
      "text/html": [
       "Waiting for W&B process to finish... <strong style=\"color:green\">(success).</strong>"
      ],
      "text/plain": [
       "<IPython.core.display.HTML object>"
      ]
     },
     "metadata": {},
     "output_type": "display_data"
    },
    {
     "data": {
      "application/vnd.jupyter.widget-view+json": {
       "model_id": "c2f281964b46482288c19bf982112249",
       "version_major": 2,
       "version_minor": 0
      },
      "text/plain": [
       "VBox(children=(Label(value='0.004 MB of 0.004 MB uploaded (0.000 MB deduped)\\r'), FloatProgress(value=1.0, max…"
      ]
     },
     "metadata": {},
     "output_type": "display_data"
    },
    {
     "data": {
      "text/html": [
       "<style>\n",
       "    table.wandb td:nth-child(1) { padding: 0 10px; text-align: left ; width: auto;} td:nth-child(2) {text-align: left ; width: 100%}\n",
       "    .wandb-row { display: flex; flex-direction: row; flex-wrap: wrap; justify-content: flex-start; width: 100% }\n",
       "    .wandb-col { display: flex; flex-direction: column; flex-basis: 100%; flex: 1; padding: 10px; }\n",
       "    </style>\n",
       "<div class=\"wandb-row\"><div class=\"wandb-col\"><h3>Run history:</h3><br/><table class=\"wandb\"><tr><td>alpha</td><td>██████████▁▁▁▁▁▁▁▁▁▁</td></tr><tr><td>dag</td><td>▁▁▁▁▁▁▁▁▁▁█▂▂▂▂▂▂▂▂▂</td></tr><tr><td>epoch</td><td>▁▁▂▂▂▃▃▄▄▄▅▅▅▆▆▇▇▇██</td></tr><tr><td>epoch_loss</td><td>█▁▁▁▁▁▁▁▁▁▇▄▄▄▄▄▄▄▄▄</td></tr><tr><td>gamma</td><td>▁▁▁▁▁▁▁▁▁▁▁█████████</td></tr><tr><td>is_prescreen</td><td>██████████▁▁▁▁▁▁▁▁▁▁</td></tr><tr><td>l1</td><td>▂▇████████▂▁▁▁▁▁▁▁▁▁</td></tr><tr><td>l2</td><td>▁▆▇▇██████▁▅▆▆▆▆▆▆▆▆</td></tr><tr><td>n_edges_pred</td><td>▁▇▇▇▇▇▇▇███▁▁▁▁▁▁▁▁▁</td></tr><tr><td>nll</td><td>█▂▁▁▁▁▁▁▁▁▇▄▃▃▃▃▃▃▃▃</td></tr><tr><td>precision</td><td>▁▃▃▃▃▃▃▃▂▂▂▇████████</td></tr><tr><td>recall</td><td>▁█████████▇▂▂▂▂▂▂▂▂▂</td></tr><tr><td>score</td><td>▁▅▆▆▆▆▆▇▇▇█▁▁▁▁▁▁▁▁▁</td></tr><tr><td>shd</td><td>▁▅▆▆▆▆▆▇▇▇█▁▁▁▁▁▁▁▁▁</td></tr></table><br/></div><div class=\"wandb-col\"><h3>Run summary:</h3><br/><table class=\"wandb\"><tr><td>alpha</td><td>1e-05</td></tr><tr><td>dag</td><td>0.28057</td></tr><tr><td>epoch</td><td>1900</td></tr><tr><td>epoch_loss</td><td>25.61306</td></tr><tr><td>gamma</td><td>30.03003</td></tr><tr><td>is_prescreen</td><td>0</td></tr><tr><td>l1</td><td>0.00113</td></tr><tr><td>l2</td><td>6.94009</td></tr><tr><td>n_edges_pred</td><td>36</td></tr><tr><td>nll</td><td>10.24621</td></tr><tr><td>precision</td><td>0.83333</td></tr><tr><td>recall</td><td>0.12</td></tr><tr><td>score</td><td>226</td></tr><tr><td>shd</td><td>226.0</td></tr></table><br/></div></div>"
      ],
      "text/plain": [
       "<IPython.core.display.HTML object>"
      ]
     },
     "metadata": {},
     "output_type": "display_data"
    },
    {
     "data": {
      "text/html": [
       " View run <strong style=\"color:#cdcd00\">SDCI_pf-1.0_mv-nn_ss-True_alpham-0.001</strong> at: <a href='https://wandb.ai/azizi-causal-perturb/SDCI_new_sim/runs/ccbx7ffv' target=\"_blank\">https://wandb.ai/azizi-causal-perturb/SDCI_new_sim/runs/ccbx7ffv</a><br/>Synced 6 W&B file(s), 0 media file(s), 0 artifact file(s) and 0 other file(s)"
      ],
      "text/plain": [
       "<IPython.core.display.HTML object>"
      ]
     },
     "metadata": {},
     "output_type": "display_data"
    },
    {
     "data": {
      "text/html": [
       "Find logs at: <code>./wandb/run-20230712_225900-ccbx7ffv/logs</code>"
      ],
      "text/plain": [
       "<IPython.core.display.HTML object>"
      ]
     },
     "metadata": {},
     "output_type": "display_data"
    },
    {
     "data": {
      "application/vnd.jupyter.widget-view+json": {
       "model_id": "b883d4929e13426dbb271e008ba9d475",
       "version_major": 2,
       "version_minor": 0
      },
      "text/plain": [
       "VBox(children=(Label(value='Waiting for wandb.init()...\\r'), FloatProgress(value=0.01666962876915932, max=1.0)…"
      ]
     },
     "metadata": {},
     "output_type": "display_data"
    },
    {
     "data": {
      "text/html": [
       "wandb version 0.15.5 is available!  To upgrade, please run:\n",
       " $ pip install wandb --upgrade"
      ],
      "text/plain": [
       "<IPython.core.display.HTML object>"
      ]
     },
     "metadata": {},
     "output_type": "display_data"
    },
    {
     "data": {
      "text/html": [
       "Tracking run with wandb version 0.15.2"
      ],
      "text/plain": [
       "<IPython.core.display.HTML object>"
      ]
     },
     "metadata": {},
     "output_type": "display_data"
    },
    {
     "data": {
      "text/html": [
       "Run data is saved locally in <code>/home/justin/ghrepos/causal-perturbseq/notebooks/wandb/run-20230712_230022-h0lsu89j</code>"
      ],
      "text/plain": [
       "<IPython.core.display.HTML object>"
      ]
     },
     "metadata": {},
     "output_type": "display_data"
    },
    {
     "data": {
      "text/html": [
       "Syncing run <strong><a href='https://wandb.ai/azizi-causal-perturb/SDCI_new_sim/runs/h0lsu89j' target=\"_blank\">SDCI_pf-1.0_mv-nn_ss-False_alpham-1</a></strong> to <a href='https://wandb.ai/azizi-causal-perturb/SDCI_new_sim' target=\"_blank\">Weights & Biases</a> (<a href='https://wandb.me/run' target=\"_blank\">docs</a>)<br/>"
      ],
      "text/plain": [
       "<IPython.core.display.HTML object>"
      ]
     },
     "metadata": {},
     "output_type": "display_data"
    },
    {
     "data": {
      "text/html": [
       " View project at <a href='https://wandb.ai/azizi-causal-perturb/SDCI_new_sim' target=\"_blank\">https://wandb.ai/azizi-causal-perturb/SDCI_new_sim</a>"
      ],
      "text/plain": [
       "<IPython.core.display.HTML object>"
      ]
     },
     "metadata": {},
     "output_type": "display_data"
    },
    {
     "data": {
      "text/html": [
       " View run at <a href='https://wandb.ai/azizi-causal-perturb/SDCI_new_sim/runs/h0lsu89j' target=\"_blank\">https://wandb.ai/azizi-causal-perturb/SDCI_new_sim/runs/h0lsu89j</a>"
      ],
      "text/plain": [
       "<IPython.core.display.HTML object>"
      ]
     },
     "metadata": {},
     "output_type": "display_data"
    },
    {
     "name": "stderr",
     "output_type": "stream",
     "text": [
      "/home/justin/miniconda3/envs/cp/lib/python3.9/site-packages/torch/optim/optimizer.py:243: UserWarning: 'has_cuda' is deprecated, please use 'torch.backends.cuda.is_built()'\n",
      "  if not is_compiling() and torch.has_cuda and torch.cuda.is_available():\n"
     ]
    },
    {
     "name": "stdout",
     "output_type": "stream",
     "text": [
      "Epoch 0: loss=71.43, score=250, shd=250.0, gamma=0.00\n",
      "Epoch 100: loss=8.72, score=160, shd=160.0, gamma=0.00\n",
      "Epoch 200: loss=6.91, score=148, shd=148.0, gamma=0.00\n",
      "Epoch 300: loss=6.10, score=143, shd=143.0, gamma=0.00\n",
      "Epoch 400: loss=5.61, score=135, shd=135.0, gamma=0.00\n",
      "Epoch 500: loss=5.32, score=130, shd=130.0, gamma=0.00\n",
      "Epoch 600: loss=5.17, score=127, shd=127.0, gamma=0.00\n",
      "Epoch 700: loss=5.01, score=132, shd=132.0, gamma=0.00\n",
      "Epoch 800: loss=4.99, score=133, shd=133.0, gamma=0.00\n",
      "Epoch 900: loss=4.93, score=132, shd=132.0, gamma=0.00\n",
      "Recall of mask: 0.944\n",
      "Fraction of possible edges in mask: 0.1772\n",
      "Epoch 0: loss=6061184.60, score=223, shd=223.0, gamma=0.00\n",
      "Epoch 100: loss=6061148.85, score=167, shd=167.0, gamma=30.03\n",
      "Epoch 200: loss=6061147.80, score=172, shd=172.0, gamma=30.03\n",
      "Epoch 300: loss=6061147.75, score=176, shd=176.0, gamma=30.03\n",
      "Epoch 400: loss=6061147.50, score=175, shd=175.0, gamma=30.03\n",
      "Epoch 500: loss=6061147.30, score=174, shd=174.0, gamma=30.03\n",
      "Epoch 600: loss=6061147.25, score=174, shd=174.0, gamma=30.03\n",
      "Epoch 700: loss=6061147.30, score=172, shd=172.0, gamma=30.03\n",
      "Epoch 800: loss=6061147.45, score=174, shd=174.0, gamma=30.03\n",
      "Epoch 900: loss=6061147.25, score=176, shd=176.0, gamma=30.03\n",
      "Finished training in 76.54077076911926 seconds.\n"
     ]
    },
    {
     "data": {
      "text/html": [
       "Waiting for W&B process to finish... <strong style=\"color:green\">(success).</strong>"
      ],
      "text/plain": [
       "<IPython.core.display.HTML object>"
      ]
     },
     "metadata": {},
     "output_type": "display_data"
    },
    {
     "data": {
      "text/html": [
       "<style>\n",
       "    table.wandb td:nth-child(1) { padding: 0 10px; text-align: left ; width: auto;} td:nth-child(2) {text-align: left ; width: 100%}\n",
       "    .wandb-row { display: flex; flex-direction: row; flex-wrap: wrap; justify-content: flex-start; width: 100% }\n",
       "    .wandb-col { display: flex; flex-direction: column; flex-basis: 100%; flex: 1; padding: 10px; }\n",
       "    </style>\n",
       "<div class=\"wandb-row\"><div class=\"wandb-col\"><h3>Run history:</h3><br/><table class=\"wandb\"><tr><td>alpha</td><td>██████████▁▁▁▁▁▁▁▁▁▁</td></tr><tr><td>dag</td><td>▁▁▁▁▁▁▁▁▁▁█▅▅▅▅▅▅▅▅▅</td></tr><tr><td>epoch</td><td>▁▁▂▂▂▃▃▄▄▄▅▅▅▆▆▇▇▇██</td></tr><tr><td>epoch_loss</td><td>▁▁▁▁▁▁▁▁▁▁██████████</td></tr><tr><td>gamma</td><td>▁▁▁▁▁▁▁▁▁▁▁█████████</td></tr><tr><td>is_prescreen</td><td>██████████▁▁▁▁▁▁▁▁▁▁</td></tr><tr><td>l1</td><td>▂█████▇▇▇▇▂▁▁▁▁▁▁▁▁▁</td></tr><tr><td>l2</td><td>▁▁▁▁▁▁▁▁▁▁██████████</td></tr><tr><td>n_edges_pred</td><td>▁██████████▃▃▃▃▃▃▃▃▃</td></tr><tr><td>nll</td><td>█▁▁▁▁▁▁▁▁▁█▃▃▃▃▃▃▃▃▃</td></tr><tr><td>precision</td><td>▁▆▆▆▆▆▆▆▆▆▅█████████</td></tr><tr><td>recall</td><td>▁▇████████▆▄▄▄▄▄▄▄▄▄</td></tr><tr><td>score</td><td>█▃▂▂▁▁▁▁▁▁▆▃▄▄▄▄▄▄▄▄</td></tr><tr><td>shd</td><td>█▃▂▂▁▁▁▁▁▁▆▃▄▄▄▄▄▄▄▄</td></tr></table><br/></div><div class=\"wandb-col\"><h3>Run summary:</h3><br/><table class=\"wandb\"><tr><td>alpha</td><td>0.005</td></tr><tr><td>dag</td><td>0.29959</td></tr><tr><td>epoch</td><td>1900</td></tr><tr><td>epoch_loss</td><td>6061147.25</td></tr><tr><td>gamma</td><td>30.03003</td></tr><tr><td>is_prescreen</td><td>0</td></tr><tr><td>l1</td><td>0.79006</td></tr><tr><td>l2</td><td>6061125.35</td></tr><tr><td>n_edges_pred</td><td>94</td></tr><tr><td>nll</td><td>12.11293</td></tr><tr><td>precision</td><td>0.89362</td></tr><tr><td>recall</td><td>0.336</td></tr><tr><td>score</td><td>176</td></tr><tr><td>shd</td><td>176.0</td></tr></table><br/></div></div>"
      ],
      "text/plain": [
       "<IPython.core.display.HTML object>"
      ]
     },
     "metadata": {},
     "output_type": "display_data"
    },
    {
     "data": {
      "text/html": [
       " View run <strong style=\"color:#cdcd00\">SDCI_pf-1.0_mv-nn_ss-False_alpham-1</strong> at: <a href='https://wandb.ai/azizi-causal-perturb/SDCI_new_sim/runs/h0lsu89j' target=\"_blank\">https://wandb.ai/azizi-causal-perturb/SDCI_new_sim/runs/h0lsu89j</a><br/>Synced 6 W&B file(s), 0 media file(s), 0 artifact file(s) and 0 other file(s)"
      ],
      "text/plain": [
       "<IPython.core.display.HTML object>"
      ]
     },
     "metadata": {},
     "output_type": "display_data"
    },
    {
     "data": {
      "text/html": [
       "Find logs at: <code>./wandb/run-20230712_230022-h0lsu89j/logs</code>"
      ],
      "text/plain": [
       "<IPython.core.display.HTML object>"
      ]
     },
     "metadata": {},
     "output_type": "display_data"
    },
    {
     "data": {
      "application/vnd.jupyter.widget-view+json": {
       "model_id": "cdbbd98cdb934abfb6be6b656ec50064",
       "version_major": 2,
       "version_minor": 0
      },
      "text/plain": [
       "VBox(children=(Label(value='Waiting for wandb.init()...\\r'), FloatProgress(value=0.0166694650426507, max=1.0))…"
      ]
     },
     "metadata": {},
     "output_type": "display_data"
    },
    {
     "data": {
      "text/html": [
       "wandb version 0.15.5 is available!  To upgrade, please run:\n",
       " $ pip install wandb --upgrade"
      ],
      "text/plain": [
       "<IPython.core.display.HTML object>"
      ]
     },
     "metadata": {},
     "output_type": "display_data"
    },
    {
     "data": {
      "text/html": [
       "Tracking run with wandb version 0.15.2"
      ],
      "text/plain": [
       "<IPython.core.display.HTML object>"
      ]
     },
     "metadata": {},
     "output_type": "display_data"
    },
    {
     "data": {
      "text/html": [
       "Run data is saved locally in <code>/home/justin/ghrepos/causal-perturbseq/notebooks/wandb/run-20230712_230147-8plwzrlf</code>"
      ],
      "text/plain": [
       "<IPython.core.display.HTML object>"
      ]
     },
     "metadata": {},
     "output_type": "display_data"
    },
    {
     "data": {
      "text/html": [
       "Syncing run <strong><a href='https://wandb.ai/azizi-causal-perturb/SDCI_new_sim/runs/8plwzrlf' target=\"_blank\">SDCI_pf-1.0_mv-nn_ss-False_alpham-0.1</a></strong> to <a href='https://wandb.ai/azizi-causal-perturb/SDCI_new_sim' target=\"_blank\">Weights & Biases</a> (<a href='https://wandb.me/run' target=\"_blank\">docs</a>)<br/>"
      ],
      "text/plain": [
       "<IPython.core.display.HTML object>"
      ]
     },
     "metadata": {},
     "output_type": "display_data"
    },
    {
     "data": {
      "text/html": [
       " View project at <a href='https://wandb.ai/azizi-causal-perturb/SDCI_new_sim' target=\"_blank\">https://wandb.ai/azizi-causal-perturb/SDCI_new_sim</a>"
      ],
      "text/plain": [
       "<IPython.core.display.HTML object>"
      ]
     },
     "metadata": {},
     "output_type": "display_data"
    },
    {
     "data": {
      "text/html": [
       " View run at <a href='https://wandb.ai/azizi-causal-perturb/SDCI_new_sim/runs/8plwzrlf' target=\"_blank\">https://wandb.ai/azizi-causal-perturb/SDCI_new_sim/runs/8plwzrlf</a>"
      ],
      "text/plain": [
       "<IPython.core.display.HTML object>"
      ]
     },
     "metadata": {},
     "output_type": "display_data"
    },
    {
     "name": "stderr",
     "output_type": "stream",
     "text": [
      "/home/justin/miniconda3/envs/cp/lib/python3.9/site-packages/torch/optim/optimizer.py:243: UserWarning: 'has_cuda' is deprecated, please use 'torch.backends.cuda.is_built()'\n",
      "  if not is_compiling() and torch.has_cuda and torch.cuda.is_available():\n"
     ]
    },
    {
     "name": "stdout",
     "output_type": "stream",
     "text": [
      "Epoch 0: loss=69.01, score=250, shd=250.0, gamma=0.00\n",
      "Epoch 100: loss=-1.98, score=569, shd=569.0, gamma=0.00\n",
      "Epoch 200: loss=-4.11, score=607, shd=607.0, gamma=0.00\n",
      "Epoch 400: loss=-5.47, score=596, shd=596.0, gamma=0.00\n",
      "Epoch 500: loss=-5.69, score=604, shd=604.0, gamma=0.00\n",
      "Epoch 600: loss=-5.85, score=597, shd=597.0, gamma=0.00\n",
      "Epoch 700: loss=-6.02, score=602, shd=602.0, gamma=0.00\n",
      "Epoch 800: loss=-6.28, score=602, shd=602.0, gamma=0.00\n",
      "Epoch 900: loss=-6.40, score=606, shd=606.0, gamma=0.00\n",
      "Recall of mask: 1.0\n",
      "Fraction of possible edges in mask: 0.6008\n",
      "Epoch 0: loss=59.32, score=936, shd=936.0, gamma=0.00\n",
      "Epoch 100: loss=28.76, score=222, shd=222.0, gamma=30.03\n",
      "Epoch 200: loss=27.73, score=222, shd=222.0, gamma=30.03\n",
      "Epoch 300: loss=27.42, score=220, shd=220.0, gamma=30.03\n",
      "Epoch 400: loss=27.42, score=218, shd=218.0, gamma=30.03\n",
      "Epoch 500: loss=27.18, score=220, shd=220.0, gamma=30.03\n",
      "Epoch 600: loss=27.25, score=219, shd=219.0, gamma=30.03\n",
      "Epoch 700: loss=27.23, score=220, shd=220.0, gamma=30.03\n",
      "Epoch 800: loss=27.20, score=219, shd=219.0, gamma=30.03\n",
      "Epoch 900: loss=27.22, score=219, shd=219.0, gamma=30.03\n",
      "Finished training in 77.77220869064331 seconds.\n"
     ]
    },
    {
     "data": {
      "text/html": [
       "Waiting for W&B process to finish... <strong style=\"color:green\">(success).</strong>"
      ],
      "text/plain": [
       "<IPython.core.display.HTML object>"
      ]
     },
     "metadata": {},
     "output_type": "display_data"
    },
    {
     "data": {
      "text/html": [
       "<style>\n",
       "    table.wandb td:nth-child(1) { padding: 0 10px; text-align: left ; width: auto;} td:nth-child(2) {text-align: left ; width: 100%}\n",
       "    .wandb-row { display: flex; flex-direction: row; flex-wrap: wrap; justify-content: flex-start; width: 100% }\n",
       "    .wandb-col { display: flex; flex-direction: column; flex-basis: 100%; flex: 1; padding: 10px; }\n",
       "    </style>\n",
       "<div class=\"wandb-row\"><div class=\"wandb-col\"><h3>Run history:</h3><br/><table class=\"wandb\"><tr><td>alpha</td><td>██████████▁▁▁▁▁▁▁▁▁▁</td></tr><tr><td>dag</td><td>▁▁▁▁▁▁▁▁▁▁█▂▂▂▂▂▂▂▂▂</td></tr><tr><td>epoch</td><td>▁▁▂▂▂▃▃▄▄▄▅▅▅▆▆▇▇▇██</td></tr><tr><td>epoch_loss</td><td>█▁▁▁▁▁▁▁▁▁▇▄▄▄▄▄▄▄▄▄</td></tr><tr><td>gamma</td><td>▁▁▁▁▁▁▁▁▁▁▁█████████</td></tr><tr><td>is_prescreen</td><td>██████████▁▁▁▁▁▁▁▁▁▁</td></tr><tr><td>l1</td><td>▂▇████████▂▁▁▁▁▁▁▁▁▁</td></tr><tr><td>l2</td><td>▁▆▇▇▇█████▁▆▆▇▇▇▇▇▇▇</td></tr><tr><td>n_edges_pred</td><td>▁▆▆▆▆▆▆▆▆▆█▁▁▁▁▁▁▁▁▁</td></tr><tr><td>nll</td><td>█▂▁▁▁▁▁▁▁▁▇▄▃▃▃▃▃▃▃▃</td></tr><tr><td>precision</td><td>▁▃▃▃▃▃▃▃▃▃▃█████████</td></tr><tr><td>recall</td><td>▁█████████▇▂▂▂▂▂▂▂▂▂</td></tr><tr><td>score</td><td>▁▄▅▅▅▅▅▅▅▅█▁▁▁▁▁▁▁▁▁</td></tr><tr><td>shd</td><td>▁▄▅▅▅▅▅▅▅▅█▁▁▁▁▁▁▁▁▁</td></tr></table><br/></div><div class=\"wandb-col\"><h3>Run summary:</h3><br/><table class=\"wandb\"><tr><td>alpha</td><td>0.0005</td></tr><tr><td>dag</td><td>0.28415</td></tr><tr><td>epoch</td><td>1900</td></tr><tr><td>epoch_loss</td><td>27.22405</td></tr><tr><td>gamma</td><td>30.03003</td></tr><tr><td>is_prescreen</td><td>0</td></tr><tr><td>l1</td><td>0.10445</td></tr><tr><td>l2</td><td>7.30354</td></tr><tr><td>n_edges_pred</td><td>43</td></tr><tr><td>nll</td><td>11.28295</td></tr><tr><td>precision</td><td>0.86047</td></tr><tr><td>recall</td><td>0.148</td></tr><tr><td>score</td><td>219</td></tr><tr><td>shd</td><td>219.0</td></tr></table><br/></div></div>"
      ],
      "text/plain": [
       "<IPython.core.display.HTML object>"
      ]
     },
     "metadata": {},
     "output_type": "display_data"
    },
    {
     "data": {
      "text/html": [
       " View run <strong style=\"color:#cdcd00\">SDCI_pf-1.0_mv-nn_ss-False_alpham-0.1</strong> at: <a href='https://wandb.ai/azizi-causal-perturb/SDCI_new_sim/runs/8plwzrlf' target=\"_blank\">https://wandb.ai/azizi-causal-perturb/SDCI_new_sim/runs/8plwzrlf</a><br/>Synced 6 W&B file(s), 0 media file(s), 0 artifact file(s) and 0 other file(s)"
      ],
      "text/plain": [
       "<IPython.core.display.HTML object>"
      ]
     },
     "metadata": {},
     "output_type": "display_data"
    },
    {
     "data": {
      "text/html": [
       "Find logs at: <code>./wandb/run-20230712_230147-8plwzrlf/logs</code>"
      ],
      "text/plain": [
       "<IPython.core.display.HTML object>"
      ]
     },
     "metadata": {},
     "output_type": "display_data"
    },
    {
     "data": {
      "application/vnd.jupyter.widget-view+json": {
       "model_id": "eafd1d60e08542bb85cb061b3e2fb3c5",
       "version_major": 2,
       "version_minor": 0
      },
      "text/plain": [
       "VBox(children=(Label(value='Waiting for wandb.init()...\\r'), FloatProgress(value=0.016668202076107263, max=1.0…"
      ]
     },
     "metadata": {},
     "output_type": "display_data"
    },
    {
     "data": {
      "text/html": [
       "wandb version 0.15.5 is available!  To upgrade, please run:\n",
       " $ pip install wandb --upgrade"
      ],
      "text/plain": [
       "<IPython.core.display.HTML object>"
      ]
     },
     "metadata": {},
     "output_type": "display_data"
    },
    {
     "data": {
      "text/html": [
       "Tracking run with wandb version 0.15.2"
      ],
      "text/plain": [
       "<IPython.core.display.HTML object>"
      ]
     },
     "metadata": {},
     "output_type": "display_data"
    },
    {
     "data": {
      "text/html": [
       "Run data is saved locally in <code>/home/justin/ghrepos/causal-perturbseq/notebooks/wandb/run-20230712_230312-sqy5mi6s</code>"
      ],
      "text/plain": [
       "<IPython.core.display.HTML object>"
      ]
     },
     "metadata": {},
     "output_type": "display_data"
    },
    {
     "data": {
      "text/html": [
       "Syncing run <strong><a href='https://wandb.ai/azizi-causal-perturb/SDCI_new_sim/runs/sqy5mi6s' target=\"_blank\">SDCI_pf-1.0_mv-nn_ss-False_alpham-0.01</a></strong> to <a href='https://wandb.ai/azizi-causal-perturb/SDCI_new_sim' target=\"_blank\">Weights & Biases</a> (<a href='https://wandb.me/run' target=\"_blank\">docs</a>)<br/>"
      ],
      "text/plain": [
       "<IPython.core.display.HTML object>"
      ]
     },
     "metadata": {},
     "output_type": "display_data"
    },
    {
     "data": {
      "text/html": [
       " View project at <a href='https://wandb.ai/azizi-causal-perturb/SDCI_new_sim' target=\"_blank\">https://wandb.ai/azizi-causal-perturb/SDCI_new_sim</a>"
      ],
      "text/plain": [
       "<IPython.core.display.HTML object>"
      ]
     },
     "metadata": {},
     "output_type": "display_data"
    },
    {
     "data": {
      "text/html": [
       " View run at <a href='https://wandb.ai/azizi-causal-perturb/SDCI_new_sim/runs/sqy5mi6s' target=\"_blank\">https://wandb.ai/azizi-causal-perturb/SDCI_new_sim/runs/sqy5mi6s</a>"
      ],
      "text/plain": [
       "<IPython.core.display.HTML object>"
      ]
     },
     "metadata": {},
     "output_type": "display_data"
    },
    {
     "name": "stderr",
     "output_type": "stream",
     "text": [
      "/home/justin/miniconda3/envs/cp/lib/python3.9/site-packages/torch/optim/optimizer.py:243: UserWarning: 'has_cuda' is deprecated, please use 'torch.backends.cuda.is_built()'\n",
      "  if not is_compiling() and torch.has_cuda and torch.cuda.is_available():\n"
     ]
    },
    {
     "name": "stdout",
     "output_type": "stream",
     "text": [
      "Epoch 0: loss=68.23, score=250, shd=250.0, gamma=0.00\n",
      "Epoch 100: loss=-4.19, score=854, shd=854.0, gamma=0.00\n",
      "Epoch 200: loss=-6.41, score=944, shd=944.0, gamma=0.00\n",
      "Epoch 300: loss=-7.29, score=978, shd=978.0, gamma=0.00\n",
      "Epoch 400: loss=-7.69, score=1002, shd=1002.0, gamma=0.00\n",
      "Epoch 500: loss=-8.00, score=1001, shd=1001.0, gamma=0.00\n",
      "Epoch 600: loss=-8.16, score=1000, shd=1000.0, gamma=0.00\n",
      "Epoch 700: loss=-8.30, score=1022, shd=1022.0, gamma=0.00\n",
      "Epoch 800: loss=-8.42, score=1032, shd=1032.0, gamma=0.00\n",
      "Epoch 900: loss=-8.56, score=1033, shd=1033.0, gamma=0.00\n",
      "Recall of mask: 1.0\n",
      "Fraction of possible edges in mask: 0.8264\n",
      "Epoch 0: loss=58.65, score=1317, shd=1317.0, gamma=0.00\n",
      "Epoch 100: loss=28.44, score=226, shd=226.0, gamma=30.03\n",
      "Epoch 200: loss=27.49, score=226, shd=226.0, gamma=30.03\n",
      "Epoch 300: loss=27.32, score=226, shd=226.0, gamma=30.03\n",
      "Epoch 400: loss=26.97, score=225, shd=225.0, gamma=30.03\n",
      "Epoch 500: loss=27.16, score=225, shd=225.0, gamma=30.03\n",
      "Epoch 600: loss=26.93, score=224, shd=224.0, gamma=30.03\n",
      "Epoch 700: loss=26.80, score=226, shd=226.0, gamma=30.03\n",
      "Epoch 800: loss=26.88, score=225, shd=225.0, gamma=30.03\n",
      "Epoch 900: loss=26.85, score=224, shd=224.0, gamma=30.03\n",
      "Finished training in 78.80731678009033 seconds.\n"
     ]
    },
    {
     "data": {
      "text/html": [
       "Waiting for W&B process to finish... <strong style=\"color:green\">(success).</strong>"
      ],
      "text/plain": [
       "<IPython.core.display.HTML object>"
      ]
     },
     "metadata": {},
     "output_type": "display_data"
    },
    {
     "data": {
      "application/vnd.jupyter.widget-view+json": {
       "model_id": "ac7e1885c9f34f599dba82c9ed593408",
       "version_major": 2,
       "version_minor": 0
      },
      "text/plain": [
       "VBox(children=(Label(value='0.004 MB of 0.004 MB uploaded (0.000 MB deduped)\\r'), FloatProgress(value=1.0, max…"
      ]
     },
     "metadata": {},
     "output_type": "display_data"
    },
    {
     "data": {
      "text/html": [
       "<style>\n",
       "    table.wandb td:nth-child(1) { padding: 0 10px; text-align: left ; width: auto;} td:nth-child(2) {text-align: left ; width: 100%}\n",
       "    .wandb-row { display: flex; flex-direction: row; flex-wrap: wrap; justify-content: flex-start; width: 100% }\n",
       "    .wandb-col { display: flex; flex-direction: column; flex-basis: 100%; flex: 1; padding: 10px; }\n",
       "    </style>\n",
       "<div class=\"wandb-row\"><div class=\"wandb-col\"><h3>Run history:</h3><br/><table class=\"wandb\"><tr><td>alpha</td><td>██████████▁▁▁▁▁▁▁▁▁▁</td></tr><tr><td>dag</td><td>▁▁▁▁▁▁▁▁▁▁█▂▂▂▂▂▂▂▂▂</td></tr><tr><td>epoch</td><td>▁▁▂▂▂▃▃▄▄▄▅▅▅▆▆▇▇▇██</td></tr><tr><td>epoch_loss</td><td>█▁▁▁▁▁▁▁▁▁▇▄▄▄▄▄▄▄▄▄</td></tr><tr><td>gamma</td><td>▁▁▁▁▁▁▁▁▁▁▁█████████</td></tr><tr><td>is_prescreen</td><td>██████████▁▁▁▁▁▁▁▁▁▁</td></tr><tr><td>l1</td><td>▂▇████████▂▁▁▁▁▁▁▁▁▁</td></tr><tr><td>l2</td><td>▁▆▇▇██████▁▅▆▆▆▆▆▆▆▆</td></tr><tr><td>n_edges_pred</td><td>▁▆▇▇▇▇▇▇▇▇█▁▁▁▁▁▁▁▁▁</td></tr><tr><td>nll</td><td>█▂▁▁▁▁▁▁▁▁▇▄▄▃▃▃▃▃▃▃</td></tr><tr><td>precision</td><td>▁▃▃▃▃▃▃▃▃▃▂█████████</td></tr><tr><td>recall</td><td>▁█████████▇▂▂▂▂▂▂▂▂▂</td></tr><tr><td>score</td><td>▁▅▆▆▆▆▆▆▆▆█▁▁▁▁▁▁▁▁▁</td></tr><tr><td>shd</td><td>▁▅▆▆▆▆▆▆▆▆█▁▁▁▁▁▁▁▁▁</td></tr></table><br/></div><div class=\"wandb-col\"><h3>Run summary:</h3><br/><table class=\"wandb\"><tr><td>alpha</td><td>5e-05</td></tr><tr><td>dag</td><td>0.28302</td></tr><tr><td>epoch</td><td>1900</td></tr><tr><td>epoch_loss</td><td>26.85042</td></tr><tr><td>gamma</td><td>30.03003</td></tr><tr><td>is_prescreen</td><td>0</td></tr><tr><td>l1</td><td>0.01139</td></tr><tr><td>l2</td><td>6.95786</td></tr><tr><td>n_edges_pred</td><td>38</td></tr><tr><td>nll</td><td>11.38207</td></tr><tr><td>precision</td><td>0.84211</td></tr><tr><td>recall</td><td>0.128</td></tr><tr><td>score</td><td>224</td></tr><tr><td>shd</td><td>224.0</td></tr></table><br/></div></div>"
      ],
      "text/plain": [
       "<IPython.core.display.HTML object>"
      ]
     },
     "metadata": {},
     "output_type": "display_data"
    },
    {
     "data": {
      "text/html": [
       " View run <strong style=\"color:#cdcd00\">SDCI_pf-1.0_mv-nn_ss-False_alpham-0.01</strong> at: <a href='https://wandb.ai/azizi-causal-perturb/SDCI_new_sim/runs/sqy5mi6s' target=\"_blank\">https://wandb.ai/azizi-causal-perturb/SDCI_new_sim/runs/sqy5mi6s</a><br/>Synced 6 W&B file(s), 0 media file(s), 0 artifact file(s) and 0 other file(s)"
      ],
      "text/plain": [
       "<IPython.core.display.HTML object>"
      ]
     },
     "metadata": {},
     "output_type": "display_data"
    },
    {
     "data": {
      "text/html": [
       "Find logs at: <code>./wandb/run-20230712_230312-sqy5mi6s/logs</code>"
      ],
      "text/plain": [
       "<IPython.core.display.HTML object>"
      ]
     },
     "metadata": {},
     "output_type": "display_data"
    },
    {
     "data": {
      "application/vnd.jupyter.widget-view+json": {
       "model_id": "1c7f9f2e02bf41c2b578e62874e50305",
       "version_major": 2,
       "version_minor": 0
      },
      "text/plain": [
       "VBox(children=(Label(value='Waiting for wandb.init()...\\r'), FloatProgress(value=0.016669546812772752, max=1.0…"
      ]
     },
     "metadata": {},
     "output_type": "display_data"
    },
    {
     "data": {
      "text/html": [
       "wandb version 0.15.5 is available!  To upgrade, please run:\n",
       " $ pip install wandb --upgrade"
      ],
      "text/plain": [
       "<IPython.core.display.HTML object>"
      ]
     },
     "metadata": {},
     "output_type": "display_data"
    },
    {
     "data": {
      "text/html": [
       "Tracking run with wandb version 0.15.2"
      ],
      "text/plain": [
       "<IPython.core.display.HTML object>"
      ]
     },
     "metadata": {},
     "output_type": "display_data"
    },
    {
     "data": {
      "text/html": [
       "Run data is saved locally in <code>/home/justin/ghrepos/causal-perturbseq/notebooks/wandb/run-20230712_230437-vkp20c8f</code>"
      ],
      "text/plain": [
       "<IPython.core.display.HTML object>"
      ]
     },
     "metadata": {},
     "output_type": "display_data"
    },
    {
     "data": {
      "text/html": [
       "Syncing run <strong><a href='https://wandb.ai/azizi-causal-perturb/SDCI_new_sim/runs/vkp20c8f' target=\"_blank\">SDCI_pf-1.0_mv-nn_ss-False_alpham-0.001</a></strong> to <a href='https://wandb.ai/azizi-causal-perturb/SDCI_new_sim' target=\"_blank\">Weights & Biases</a> (<a href='https://wandb.me/run' target=\"_blank\">docs</a>)<br/>"
      ],
      "text/plain": [
       "<IPython.core.display.HTML object>"
      ]
     },
     "metadata": {},
     "output_type": "display_data"
    },
    {
     "data": {
      "text/html": [
       " View project at <a href='https://wandb.ai/azizi-causal-perturb/SDCI_new_sim' target=\"_blank\">https://wandb.ai/azizi-causal-perturb/SDCI_new_sim</a>"
      ],
      "text/plain": [
       "<IPython.core.display.HTML object>"
      ]
     },
     "metadata": {},
     "output_type": "display_data"
    },
    {
     "data": {
      "text/html": [
       " View run at <a href='https://wandb.ai/azizi-causal-perturb/SDCI_new_sim/runs/vkp20c8f' target=\"_blank\">https://wandb.ai/azizi-causal-perturb/SDCI_new_sim/runs/vkp20c8f</a>"
      ],
      "text/plain": [
       "<IPython.core.display.HTML object>"
      ]
     },
     "metadata": {},
     "output_type": "display_data"
    },
    {
     "name": "stderr",
     "output_type": "stream",
     "text": [
      "/home/justin/miniconda3/envs/cp/lib/python3.9/site-packages/torch/optim/optimizer.py:243: UserWarning: 'has_cuda' is deprecated, please use 'torch.backends.cuda.is_built()'\n",
      "  if not is_compiling() and torch.has_cuda and torch.cuda.is_available():\n"
     ]
    },
    {
     "name": "stdout",
     "output_type": "stream",
     "text": [
      "Epoch 0: loss=67.40, score=250, shd=250.0, gamma=0.00\n",
      "Epoch 100: loss=-4.41, score=899, shd=899.0, gamma=0.00\n",
      "Epoch 200: loss=-6.60, score=1009, shd=1009.0, gamma=0.00\n",
      "Epoch 300: loss=-7.55, score=1038, shd=1038.0, gamma=0.00\n",
      "Epoch 400: loss=-8.01, score=1039, shd=1039.0, gamma=0.00\n",
      "Epoch 500: loss=-8.34, score=1047, shd=1047.0, gamma=0.00\n",
      "Epoch 600: loss=-8.52, score=1059, shd=1059.0, gamma=0.00\n",
      "Epoch 700: loss=-8.61, score=1068, shd=1068.0, gamma=0.00\n",
      "Epoch 800: loss=-8.73, score=1067, shd=1067.0, gamma=0.00\n",
      "Epoch 900: loss=-8.73, score=1084, shd=1084.0, gamma=0.00\n",
      "Recall of mask: 1.0\n",
      "Fraction of possible edges in mask: 0.8456\n",
      "Epoch 0: loss=58.23, score=1360, shd=1360.0, gamma=0.00\n",
      "Epoch 100: loss=28.32, score=225, shd=225.0, gamma=30.03\n",
      "Epoch 200: loss=27.58, score=226, shd=226.0, gamma=30.03\n",
      "Epoch 300: loss=27.13, score=225, shd=225.0, gamma=30.03\n",
      "Epoch 400: loss=26.80, score=225, shd=225.0, gamma=30.03\n",
      "Epoch 500: loss=26.97, score=226, shd=226.0, gamma=30.03\n",
      "Epoch 600: loss=26.76, score=223, shd=223.0, gamma=30.03\n",
      "Epoch 700: loss=26.83, score=224, shd=224.0, gamma=30.03\n",
      "Epoch 800: loss=26.92, score=226, shd=226.0, gamma=30.03\n",
      "Epoch 900: loss=26.90, score=224, shd=224.0, gamma=30.03\n",
      "Finished training in 78.13304424285889 seconds.\n"
     ]
    },
    {
     "data": {
      "text/html": [
       "Waiting for W&B process to finish... <strong style=\"color:green\">(success).</strong>"
      ],
      "text/plain": [
       "<IPython.core.display.HTML object>"
      ]
     },
     "metadata": {},
     "output_type": "display_data"
    },
    {
     "data": {
      "text/html": [
       "<style>\n",
       "    table.wandb td:nth-child(1) { padding: 0 10px; text-align: left ; width: auto;} td:nth-child(2) {text-align: left ; width: 100%}\n",
       "    .wandb-row { display: flex; flex-direction: row; flex-wrap: wrap; justify-content: flex-start; width: 100% }\n",
       "    .wandb-col { display: flex; flex-direction: column; flex-basis: 100%; flex: 1; padding: 10px; }\n",
       "    </style>\n",
       "<div class=\"wandb-row\"><div class=\"wandb-col\"><h3>Run history:</h3><br/><table class=\"wandb\"><tr><td>alpha</td><td>██████████▁▁▁▁▁▁▁▁▁▁</td></tr><tr><td>dag</td><td>▁▁▁▁▁▁▁▁▁▁█▂▂▂▂▂▂▂▂▂</td></tr><tr><td>epoch</td><td>▁▁▂▂▂▃▃▄▄▄▅▅▅▆▆▇▇▇██</td></tr><tr><td>epoch_loss</td><td>█▁▁▁▁▁▁▁▁▁▇▄▄▄▄▄▄▄▄▄</td></tr><tr><td>gamma</td><td>▁▁▁▁▁▁▁▁▁▁▁█████████</td></tr><tr><td>is_prescreen</td><td>██████████▁▁▁▁▁▁▁▁▁▁</td></tr><tr><td>l1</td><td>▂▇████████▂▁▁▁▁▁▁▁▁▁</td></tr><tr><td>l2</td><td>▁▆▇▇██████▁▅▆▆▆▆▆▆▆▆</td></tr><tr><td>n_edges_pred</td><td>▁▆▇▇▇▇▇▇▇▇█▁▁▁▁▁▁▁▁▁</td></tr><tr><td>nll</td><td>█▂▁▁▁▁▁▁▁▁▇▄▄▃▃▃▃▃▃▃</td></tr><tr><td>precision</td><td>▁▃▃▃▃▃▃▃▃▃▂█████████</td></tr><tr><td>recall</td><td>▁█████████▇▂▂▂▂▂▂▂▂▂</td></tr><tr><td>score</td><td>▁▅▆▆▆▆▆▆▆▆█▁▁▁▁▁▁▁▁▁</td></tr><tr><td>shd</td><td>▁▅▆▆▆▆▆▆▆▆█▁▁▁▁▁▁▁▁▁</td></tr></table><br/></div><div class=\"wandb-col\"><h3>Run summary:</h3><br/><table class=\"wandb\"><tr><td>alpha</td><td>1e-05</td></tr><tr><td>dag</td><td>0.28217</td></tr><tr><td>epoch</td><td>1900</td></tr><tr><td>epoch_loss</td><td>26.89674</td></tr><tr><td>gamma</td><td>30.03003</td></tr><tr><td>is_prescreen</td><td>0</td></tr><tr><td>l1</td><td>0.00115</td></tr><tr><td>l2</td><td>6.9731</td></tr><tr><td>n_edges_pred</td><td>38</td></tr><tr><td>nll</td><td>11.44888</td></tr><tr><td>precision</td><td>0.84211</td></tr><tr><td>recall</td><td>0.128</td></tr><tr><td>score</td><td>224</td></tr><tr><td>shd</td><td>224.0</td></tr></table><br/></div></div>"
      ],
      "text/plain": [
       "<IPython.core.display.HTML object>"
      ]
     },
     "metadata": {},
     "output_type": "display_data"
    },
    {
     "data": {
      "text/html": [
       " View run <strong style=\"color:#cdcd00\">SDCI_pf-1.0_mv-nn_ss-False_alpham-0.001</strong> at: <a href='https://wandb.ai/azizi-causal-perturb/SDCI_new_sim/runs/vkp20c8f' target=\"_blank\">https://wandb.ai/azizi-causal-perturb/SDCI_new_sim/runs/vkp20c8f</a><br/>Synced 6 W&B file(s), 0 media file(s), 0 artifact file(s) and 0 other file(s)"
      ],
      "text/plain": [
       "<IPython.core.display.HTML object>"
      ]
     },
     "metadata": {},
     "output_type": "display_data"
    },
    {
     "data": {
      "text/html": [
       "Find logs at: <code>./wandb/run-20230712_230437-vkp20c8f/logs</code>"
      ],
      "text/plain": [
       "<IPython.core.display.HTML object>"
      ]
     },
     "metadata": {},
     "output_type": "display_data"
    },
    {
     "data": {
      "application/vnd.jupyter.widget-view+json": {
       "model_id": "88affde8d8da4403ab4ef0dbea9fafb1",
       "version_major": 2,
       "version_minor": 0
      },
      "text/plain": [
       "VBox(children=(Label(value='Waiting for wandb.init()...\\r'), FloatProgress(value=0.016668888988594213, max=1.0…"
      ]
     },
     "metadata": {},
     "output_type": "display_data"
    },
    {
     "data": {
      "text/html": [
       "wandb version 0.15.5 is available!  To upgrade, please run:\n",
       " $ pip install wandb --upgrade"
      ],
      "text/plain": [
       "<IPython.core.display.HTML object>"
      ]
     },
     "metadata": {},
     "output_type": "display_data"
    },
    {
     "data": {
      "text/html": [
       "Tracking run with wandb version 0.15.2"
      ],
      "text/plain": [
       "<IPython.core.display.HTML object>"
      ]
     },
     "metadata": {},
     "output_type": "display_data"
    },
    {
     "data": {
      "text/html": [
       "Run data is saved locally in <code>/home/justin/ghrepos/causal-perturbseq/notebooks/wandb/run-20230712_230603-6tmdmr2n</code>"
      ],
      "text/plain": [
       "<IPython.core.display.HTML object>"
      ]
     },
     "metadata": {},
     "output_type": "display_data"
    },
    {
     "data": {
      "text/html": [
       "Syncing run <strong><a href='https://wandb.ai/azizi-causal-perturb/SDCI_new_sim/runs/6tmdmr2n' target=\"_blank\">SDCI_pf-1.0_mv-parameter_ss-True_alpham-1</a></strong> to <a href='https://wandb.ai/azizi-causal-perturb/SDCI_new_sim' target=\"_blank\">Weights & Biases</a> (<a href='https://wandb.me/run' target=\"_blank\">docs</a>)<br/>"
      ],
      "text/plain": [
       "<IPython.core.display.HTML object>"
      ]
     },
     "metadata": {},
     "output_type": "display_data"
    },
    {
     "data": {
      "text/html": [
       " View project at <a href='https://wandb.ai/azizi-causal-perturb/SDCI_new_sim' target=\"_blank\">https://wandb.ai/azizi-causal-perturb/SDCI_new_sim</a>"
      ],
      "text/plain": [
       "<IPython.core.display.HTML object>"
      ]
     },
     "metadata": {},
     "output_type": "display_data"
    },
    {
     "data": {
      "text/html": [
       " View run at <a href='https://wandb.ai/azizi-causal-perturb/SDCI_new_sim/runs/6tmdmr2n' target=\"_blank\">https://wandb.ai/azizi-causal-perturb/SDCI_new_sim/runs/6tmdmr2n</a>"
      ],
      "text/plain": [
       "<IPython.core.display.HTML object>"
      ]
     },
     "metadata": {},
     "output_type": "display_data"
    },
    {
     "name": "stderr",
     "output_type": "stream",
     "text": [
      "/home/justin/miniconda3/envs/cp/lib/python3.9/site-packages/torch/optim/optimizer.py:243: UserWarning: 'has_cuda' is deprecated, please use 'torch.backends.cuda.is_built()'\n",
      "  if not is_compiling() and torch.has_cuda and torch.cuda.is_available():\n"
     ]
    },
    {
     "name": "stdout",
     "output_type": "stream",
     "text": [
      "Epoch 0: loss=69.97, score=250, shd=250.0, gamma=0.00\n",
      "Epoch 100: loss=10.57, score=144, shd=144.0, gamma=0.00\n",
      "Epoch 200: loss=7.87, score=138, shd=138.0, gamma=0.00\n",
      "Epoch 300: loss=7.11, score=137, shd=137.0, gamma=0.00\n",
      "Epoch 400: loss=6.67, score=140, shd=140.0, gamma=0.00\n",
      "Epoch 500: loss=6.51, score=138, shd=138.0, gamma=0.00\n",
      "Epoch 600: loss=6.39, score=136, shd=136.0, gamma=0.00\n",
      "Epoch 700: loss=6.30, score=134, shd=134.0, gamma=0.00\n",
      "Epoch 800: loss=6.30, score=134, shd=134.0, gamma=0.00\n",
      "Epoch 900: loss=6.27, score=133, shd=133.0, gamma=0.00\n",
      "Recall of mask: 0.932\n",
      "Fraction of possible edges in mask: 0.1716\n",
      "Epoch 0: loss=65.38, score=208, shd=208.0, gamma=0.00\n",
      "Epoch 100: loss=31.69, score=178, shd=178.0, gamma=30.03\n",
      "Epoch 200: loss=31.11, score=179, shd=179.0, gamma=30.03\n",
      "Epoch 300: loss=31.10, score=183, shd=183.0, gamma=30.03\n",
      "Epoch 400: loss=30.93, score=183, shd=183.0, gamma=30.03\n",
      "Epoch 500: loss=30.89, score=182, shd=182.0, gamma=30.03\n",
      "Epoch 600: loss=30.78, score=182, shd=182.0, gamma=30.03\n",
      "Epoch 700: loss=30.82, score=184, shd=184.0, gamma=30.03\n",
      "Epoch 800: loss=30.88, score=178, shd=178.0, gamma=30.03\n",
      "Epoch 900: loss=30.76, score=179, shd=179.0, gamma=30.03\n",
      "Finished training in 74.96708393096924 seconds.\n"
     ]
    },
    {
     "data": {
      "text/html": [
       "Waiting for W&B process to finish... <strong style=\"color:green\">(success).</strong>"
      ],
      "text/plain": [
       "<IPython.core.display.HTML object>"
      ]
     },
     "metadata": {},
     "output_type": "display_data"
    },
    {
     "data": {
      "application/vnd.jupyter.widget-view+json": {
       "model_id": "c2bd24108369477487179640e14daae1",
       "version_major": 2,
       "version_minor": 0
      },
      "text/plain": [
       "VBox(children=(Label(value='0.004 MB of 0.004 MB uploaded (0.000 MB deduped)\\r'), FloatProgress(value=1.0, max…"
      ]
     },
     "metadata": {},
     "output_type": "display_data"
    },
    {
     "data": {
      "text/html": [
       "<style>\n",
       "    table.wandb td:nth-child(1) { padding: 0 10px; text-align: left ; width: auto;} td:nth-child(2) {text-align: left ; width: 100%}\n",
       "    .wandb-row { display: flex; flex-direction: row; flex-wrap: wrap; justify-content: flex-start; width: 100% }\n",
       "    .wandb-col { display: flex; flex-direction: column; flex-basis: 100%; flex: 1; padding: 10px; }\n",
       "    </style>\n",
       "<div class=\"wandb-row\"><div class=\"wandb-col\"><h3>Run history:</h3><br/><table class=\"wandb\"><tr><td>alpha</td><td>██████████▁▁▁▁▁▁▁▁▁▁</td></tr><tr><td>dag</td><td>▁▁▁▁▁▁▁▁▁▁█▅▄▄▄▄▄▅▄▄</td></tr><tr><td>epoch</td><td>▁▁▂▂▂▃▃▄▄▄▅▅▅▆▆▇▇▇██</td></tr><tr><td>epoch_loss</td><td>█▁▁▁▁▁▁▁▁▁▇▄▄▄▄▄▄▄▄▄</td></tr><tr><td>gamma</td><td>▁▁▁▁▁▁▁▁▁▁▁█████████</td></tr><tr><td>is_prescreen</td><td>██████████▁▁▁▁▁▁▁▁▁▁</td></tr><tr><td>l1</td><td>▂▇████████▂▁▁▁▁▁▁▁▁▁</td></tr><tr><td>l2</td><td>▁▅▆▆▆▆▆▆▆▆▁▇████████</td></tr><tr><td>n_edges_pred</td><td>▁▇█████████▃▃▃▃▃▃▃▃▃</td></tr><tr><td>nll</td><td>█▂▁▁▁▁▁▁▁▁█▃▃▃▃▃▃▃▃▃</td></tr><tr><td>precision</td><td>▁▆▆▆▆▆▆▆▆▆▅█████████</td></tr><tr><td>recall</td><td>▁▇████████▇▄▄▃▃▄▄▃▄▄</td></tr><tr><td>score</td><td>█▂▁▁▁▁▁▁▁▁▅▄▄▄▄▄▄▄▄▄</td></tr><tr><td>shd</td><td>█▂▁▁▁▁▁▁▁▁▅▄▄▄▄▄▄▄▄▄</td></tr></table><br/></div><div class=\"wandb-col\"><h3>Run summary:</h3><br/><table class=\"wandb\"><tr><td>alpha</td><td>0.005</td></tr><tr><td>dag</td><td>0.29261</td></tr><tr><td>epoch</td><td>1900</td></tr><tr><td>epoch_loss</td><td>30.7587</td></tr><tr><td>gamma</td><td>30.03003</td></tr><tr><td>is_prescreen</td><td>0</td></tr><tr><td>l1</td><td>0.75613</td></tr><tr><td>l2</td><td>9.50391</td></tr><tr><td>n_edges_pred</td><td>89</td></tr><tr><td>nll</td><td>11.71156</td></tr><tr><td>precision</td><td>0.89888</td></tr><tr><td>recall</td><td>0.32</td></tr><tr><td>score</td><td>179</td></tr><tr><td>shd</td><td>179.0</td></tr></table><br/></div></div>"
      ],
      "text/plain": [
       "<IPython.core.display.HTML object>"
      ]
     },
     "metadata": {},
     "output_type": "display_data"
    },
    {
     "data": {
      "text/html": [
       " View run <strong style=\"color:#cdcd00\">SDCI_pf-1.0_mv-parameter_ss-True_alpham-1</strong> at: <a href='https://wandb.ai/azizi-causal-perturb/SDCI_new_sim/runs/6tmdmr2n' target=\"_blank\">https://wandb.ai/azizi-causal-perturb/SDCI_new_sim/runs/6tmdmr2n</a><br/>Synced 6 W&B file(s), 0 media file(s), 0 artifact file(s) and 0 other file(s)"
      ],
      "text/plain": [
       "<IPython.core.display.HTML object>"
      ]
     },
     "metadata": {},
     "output_type": "display_data"
    },
    {
     "data": {
      "text/html": [
       "Find logs at: <code>./wandb/run-20230712_230603-6tmdmr2n/logs</code>"
      ],
      "text/plain": [
       "<IPython.core.display.HTML object>"
      ]
     },
     "metadata": {},
     "output_type": "display_data"
    },
    {
     "data": {
      "application/vnd.jupyter.widget-view+json": {
       "model_id": "74e69988dbdd47dd812d0ba6785c04d1",
       "version_major": 2,
       "version_minor": 0
      },
      "text/plain": [
       "VBox(children=(Label(value='Waiting for wandb.init()...\\r'), FloatProgress(value=0.01666873398547371, max=1.0)…"
      ]
     },
     "metadata": {},
     "output_type": "display_data"
    },
    {
     "data": {
      "text/html": [
       "wandb version 0.15.5 is available!  To upgrade, please run:\n",
       " $ pip install wandb --upgrade"
      ],
      "text/plain": [
       "<IPython.core.display.HTML object>"
      ]
     },
     "metadata": {},
     "output_type": "display_data"
    },
    {
     "data": {
      "text/html": [
       "Tracking run with wandb version 0.15.2"
      ],
      "text/plain": [
       "<IPython.core.display.HTML object>"
      ]
     },
     "metadata": {},
     "output_type": "display_data"
    },
    {
     "data": {
      "text/html": [
       "Run data is saved locally in <code>/home/justin/ghrepos/causal-perturbseq/notebooks/wandb/run-20230712_230726-t4hgk3fz</code>"
      ],
      "text/plain": [
       "<IPython.core.display.HTML object>"
      ]
     },
     "metadata": {},
     "output_type": "display_data"
    },
    {
     "data": {
      "text/html": [
       "Syncing run <strong><a href='https://wandb.ai/azizi-causal-perturb/SDCI_new_sim/runs/t4hgk3fz' target=\"_blank\">SDCI_pf-1.0_mv-parameter_ss-True_alpham-0.1</a></strong> to <a href='https://wandb.ai/azizi-causal-perturb/SDCI_new_sim' target=\"_blank\">Weights & Biases</a> (<a href='https://wandb.me/run' target=\"_blank\">docs</a>)<br/>"
      ],
      "text/plain": [
       "<IPython.core.display.HTML object>"
      ]
     },
     "metadata": {},
     "output_type": "display_data"
    },
    {
     "data": {
      "text/html": [
       " View project at <a href='https://wandb.ai/azizi-causal-perturb/SDCI_new_sim' target=\"_blank\">https://wandb.ai/azizi-causal-perturb/SDCI_new_sim</a>"
      ],
      "text/plain": [
       "<IPython.core.display.HTML object>"
      ]
     },
     "metadata": {},
     "output_type": "display_data"
    },
    {
     "data": {
      "text/html": [
       " View run at <a href='https://wandb.ai/azizi-causal-perturb/SDCI_new_sim/runs/t4hgk3fz' target=\"_blank\">https://wandb.ai/azizi-causal-perturb/SDCI_new_sim/runs/t4hgk3fz</a>"
      ],
      "text/plain": [
       "<IPython.core.display.HTML object>"
      ]
     },
     "metadata": {},
     "output_type": "display_data"
    },
    {
     "name": "stderr",
     "output_type": "stream",
     "text": [
      "/home/justin/miniconda3/envs/cp/lib/python3.9/site-packages/torch/optim/optimizer.py:243: UserWarning: 'has_cuda' is deprecated, please use 'torch.backends.cuda.is_built()'\n",
      "  if not is_compiling() and torch.has_cuda and torch.cuda.is_available():\n"
     ]
    },
    {
     "name": "stdout",
     "output_type": "stream",
     "text": [
      "Epoch 0: loss=67.99, score=250, shd=250.0, gamma=0.00\n",
      "Epoch 100: loss=1.35, score=402, shd=402.0, gamma=0.00\n",
      "Epoch 200: loss=-2.23, score=510, shd=510.0, gamma=0.00\n",
      "Epoch 300: loss=-3.21, score=541, shd=541.0, gamma=0.00\n",
      "Epoch 400: loss=-3.77, score=560, shd=560.0, gamma=0.00\n",
      "Epoch 500: loss=-4.03, score=558, shd=558.0, gamma=0.00\n",
      "Epoch 600: loss=-4.21, score=573, shd=573.0, gamma=0.00\n",
      "Epoch 700: loss=-4.31, score=585, shd=585.0, gamma=0.00\n",
      "Epoch 800: loss=-4.39, score=594, shd=594.0, gamma=0.00\n",
      "Epoch 900: loss=-4.46, score=597, shd=597.0, gamma=0.00\n",
      "Recall of mask: 1.0\n",
      "Fraction of possible edges in mask: 0.5792\n",
      "Epoch 0: loss=59.08, score=908, shd=908.0, gamma=0.00\n",
      "Epoch 100: loss=28.85, score=220, shd=220.0, gamma=30.03\n",
      "Epoch 200: loss=28.00, score=220, shd=220.0, gamma=30.03\n",
      "Epoch 300: loss=28.00, score=221, shd=221.0, gamma=30.03\n",
      "Epoch 400: loss=27.74, score=222, shd=222.0, gamma=30.03\n",
      "Epoch 500: loss=27.72, score=221, shd=221.0, gamma=30.03\n",
      "Epoch 600: loss=27.76, score=220, shd=220.0, gamma=30.03\n",
      "Epoch 700: loss=27.61, score=218, shd=218.0, gamma=30.03\n",
      "Epoch 800: loss=27.83, score=219, shd=219.0, gamma=30.03\n",
      "Epoch 900: loss=27.68, score=218, shd=218.0, gamma=30.03\n",
      "Finished training in 74.29433298110962 seconds.\n"
     ]
    },
    {
     "data": {
      "text/html": [
       "Waiting for W&B process to finish... <strong style=\"color:green\">(success).</strong>"
      ],
      "text/plain": [
       "<IPython.core.display.HTML object>"
      ]
     },
     "metadata": {},
     "output_type": "display_data"
    },
    {
     "data": {
      "text/html": [
       "<style>\n",
       "    table.wandb td:nth-child(1) { padding: 0 10px; text-align: left ; width: auto;} td:nth-child(2) {text-align: left ; width: 100%}\n",
       "    .wandb-row { display: flex; flex-direction: row; flex-wrap: wrap; justify-content: flex-start; width: 100% }\n",
       "    .wandb-col { display: flex; flex-direction: column; flex-basis: 100%; flex: 1; padding: 10px; }\n",
       "    </style>\n",
       "<div class=\"wandb-row\"><div class=\"wandb-col\"><h3>Run history:</h3><br/><table class=\"wandb\"><tr><td>alpha</td><td>██████████▁▁▁▁▁▁▁▁▁▁</td></tr><tr><td>dag</td><td>▁▁▁▁▁▁▁▁▁▁█▂▂▂▂▂▂▂▂▂</td></tr><tr><td>epoch</td><td>▁▁▂▂▂▃▃▄▄▄▅▅▅▆▆▇▇▇██</td></tr><tr><td>epoch_loss</td><td>█▂▁▁▁▁▁▁▁▁▇▄▄▄▄▄▄▄▄▄</td></tr><tr><td>gamma</td><td>▁▁▁▁▁▁▁▁▁▁▁█████████</td></tr><tr><td>is_prescreen</td><td>██████████▁▁▁▁▁▁▁▁▁▁</td></tr><tr><td>l1</td><td>▂▆▇███████▂▁▁▁▁▁▁▁▁▁</td></tr><tr><td>l2</td><td>▁▅▇▇▇█████▁▆▆▆▆▆▆▆▇▇</td></tr><tr><td>n_edges_pred</td><td>▁▅▆▆▆▆▆▇▇▇█▁▁▁▁▁▁▁▁▁</td></tr><tr><td>nll</td><td>█▂▁▁▁▁▁▁▁▁▇▃▃▃▃▃▃▃▃▃</td></tr><tr><td>precision</td><td>▁▄▄▄▄▄▃▃▃▃▃█████████</td></tr><tr><td>recall</td><td>▁█████████▇▂▂▂▂▂▂▂▂▂</td></tr><tr><td>score</td><td>▁▃▄▄▄▄▅▅▅▅█▁▁▁▁▁▁▁▁▁</td></tr><tr><td>shd</td><td>▁▃▄▄▄▄▅▅▅▅█▁▁▁▁▁▁▁▁▁</td></tr></table><br/></div><div class=\"wandb-col\"><h3>Run summary:</h3><br/><table class=\"wandb\"><tr><td>alpha</td><td>0.0005</td></tr><tr><td>dag</td><td>0.27874</td></tr><tr><td>epoch</td><td>1900</td></tr><tr><td>epoch_loss</td><td>27.68376</td></tr><tr><td>gamma</td><td>30.03003</td></tr><tr><td>is_prescreen</td><td>0</td></tr><tr><td>l1</td><td>0.09766</td></tr><tr><td>l2</td><td>8.35391</td></tr><tr><td>n_edges_pred</td><td>44</td></tr><tr><td>nll</td><td>10.86152</td></tr><tr><td>precision</td><td>0.86364</td></tr><tr><td>recall</td><td>0.152</td></tr><tr><td>score</td><td>218</td></tr><tr><td>shd</td><td>218.0</td></tr></table><br/></div></div>"
      ],
      "text/plain": [
       "<IPython.core.display.HTML object>"
      ]
     },
     "metadata": {},
     "output_type": "display_data"
    },
    {
     "data": {
      "text/html": [
       " View run <strong style=\"color:#cdcd00\">SDCI_pf-1.0_mv-parameter_ss-True_alpham-0.1</strong> at: <a href='https://wandb.ai/azizi-causal-perturb/SDCI_new_sim/runs/t4hgk3fz' target=\"_blank\">https://wandb.ai/azizi-causal-perturb/SDCI_new_sim/runs/t4hgk3fz</a><br/>Synced 6 W&B file(s), 0 media file(s), 0 artifact file(s) and 0 other file(s)"
      ],
      "text/plain": [
       "<IPython.core.display.HTML object>"
      ]
     },
     "metadata": {},
     "output_type": "display_data"
    },
    {
     "data": {
      "text/html": [
       "Find logs at: <code>./wandb/run-20230712_230726-t4hgk3fz/logs</code>"
      ],
      "text/plain": [
       "<IPython.core.display.HTML object>"
      ]
     },
     "metadata": {},
     "output_type": "display_data"
    },
    {
     "data": {
      "application/vnd.jupyter.widget-view+json": {
       "model_id": "80bd81929ec342a691ad457d1bdf9eed",
       "version_major": 2,
       "version_minor": 0
      },
      "text/plain": [
       "VBox(children=(Label(value='Waiting for wandb.init()...\\r'), FloatProgress(value=0.016669544810429215, max=1.0…"
      ]
     },
     "metadata": {},
     "output_type": "display_data"
    },
    {
     "data": {
      "text/html": [
       "wandb version 0.15.5 is available!  To upgrade, please run:\n",
       " $ pip install wandb --upgrade"
      ],
      "text/plain": [
       "<IPython.core.display.HTML object>"
      ]
     },
     "metadata": {},
     "output_type": "display_data"
    },
    {
     "data": {
      "text/html": [
       "Tracking run with wandb version 0.15.2"
      ],
      "text/plain": [
       "<IPython.core.display.HTML object>"
      ]
     },
     "metadata": {},
     "output_type": "display_data"
    },
    {
     "data": {
      "text/html": [
       "Run data is saved locally in <code>/home/justin/ghrepos/causal-perturbseq/notebooks/wandb/run-20230712_230847-nz1cta4o</code>"
      ],
      "text/plain": [
       "<IPython.core.display.HTML object>"
      ]
     },
     "metadata": {},
     "output_type": "display_data"
    },
    {
     "data": {
      "text/html": [
       "Syncing run <strong><a href='https://wandb.ai/azizi-causal-perturb/SDCI_new_sim/runs/nz1cta4o' target=\"_blank\">SDCI_pf-1.0_mv-parameter_ss-True_alpham-0.01</a></strong> to <a href='https://wandb.ai/azizi-causal-perturb/SDCI_new_sim' target=\"_blank\">Weights & Biases</a> (<a href='https://wandb.me/run' target=\"_blank\">docs</a>)<br/>"
      ],
      "text/plain": [
       "<IPython.core.display.HTML object>"
      ]
     },
     "metadata": {},
     "output_type": "display_data"
    },
    {
     "data": {
      "text/html": [
       " View project at <a href='https://wandb.ai/azizi-causal-perturb/SDCI_new_sim' target=\"_blank\">https://wandb.ai/azizi-causal-perturb/SDCI_new_sim</a>"
      ],
      "text/plain": [
       "<IPython.core.display.HTML object>"
      ]
     },
     "metadata": {},
     "output_type": "display_data"
    },
    {
     "data": {
      "text/html": [
       " View run at <a href='https://wandb.ai/azizi-causal-perturb/SDCI_new_sim/runs/nz1cta4o' target=\"_blank\">https://wandb.ai/azizi-causal-perturb/SDCI_new_sim/runs/nz1cta4o</a>"
      ],
      "text/plain": [
       "<IPython.core.display.HTML object>"
      ]
     },
     "metadata": {},
     "output_type": "display_data"
    },
    {
     "name": "stderr",
     "output_type": "stream",
     "text": [
      "/home/justin/miniconda3/envs/cp/lib/python3.9/site-packages/torch/optim/optimizer.py:243: UserWarning: 'has_cuda' is deprecated, please use 'torch.backends.cuda.is_built()'\n",
      "  if not is_compiling() and torch.has_cuda and torch.cuda.is_available():\n"
     ]
    },
    {
     "name": "stdout",
     "output_type": "stream",
     "text": [
      "Epoch 0: loss=66.03, score=250, shd=250.0, gamma=0.00\n",
      "Epoch 100: loss=-1.37, score=709, shd=709.0, gamma=0.00\n",
      "Epoch 200: loss=-4.74, score=911, shd=911.0, gamma=0.00\n",
      "Epoch 300: loss=-5.69, score=957, shd=957.0, gamma=0.00\n",
      "Epoch 400: loss=-6.15, score=965, shd=965.0, gamma=0.00\n",
      "Epoch 500: loss=-6.39, score=1000, shd=1000.0, gamma=0.00\n",
      "Epoch 600: loss=-6.60, score=1007, shd=1007.0, gamma=0.00\n",
      "Epoch 700: loss=-6.75, score=1025, shd=1025.0, gamma=0.00\n",
      "Epoch 800: loss=-6.82, score=1027, shd=1027.0, gamma=0.00\n",
      "Epoch 900: loss=-6.92, score=1038, shd=1038.0, gamma=0.00\n",
      "Recall of mask: 1.0\n",
      "Fraction of possible edges in mask: 0.822\n",
      "Epoch 0: loss=57.61, score=1317, shd=1317.0, gamma=0.00\n",
      "Epoch 100: loss=28.53, score=227, shd=227.0, gamma=30.03\n",
      "Epoch 200: loss=27.49, score=225, shd=225.0, gamma=30.03\n",
      "Epoch 300: loss=27.14, score=226, shd=226.0, gamma=30.03\n",
      "Epoch 400: loss=26.96, score=227, shd=227.0, gamma=30.03\n",
      "Epoch 500: loss=26.87, score=227, shd=227.0, gamma=30.03\n",
      "Epoch 600: loss=27.01, score=227, shd=227.0, gamma=30.03\n",
      "Epoch 700: loss=26.74, score=226, shd=226.0, gamma=30.03\n",
      "Epoch 800: loss=26.89, score=224, shd=224.0, gamma=30.03\n",
      "Epoch 900: loss=26.83, score=225, shd=225.0, gamma=30.03\n",
      "Finished training in 75.36487674713135 seconds.\n"
     ]
    },
    {
     "data": {
      "text/html": [
       "Waiting for W&B process to finish... <strong style=\"color:green\">(success).</strong>"
      ],
      "text/plain": [
       "<IPython.core.display.HTML object>"
      ]
     },
     "metadata": {},
     "output_type": "display_data"
    },
    {
     "data": {
      "text/html": [
       "<style>\n",
       "    table.wandb td:nth-child(1) { padding: 0 10px; text-align: left ; width: auto;} td:nth-child(2) {text-align: left ; width: 100%}\n",
       "    .wandb-row { display: flex; flex-direction: row; flex-wrap: wrap; justify-content: flex-start; width: 100% }\n",
       "    .wandb-col { display: flex; flex-direction: column; flex-basis: 100%; flex: 1; padding: 10px; }\n",
       "    </style>\n",
       "<div class=\"wandb-row\"><div class=\"wandb-col\"><h3>Run history:</h3><br/><table class=\"wandb\"><tr><td>alpha</td><td>██████████▁▁▁▁▁▁▁▁▁▁</td></tr><tr><td>dag</td><td>▁▁▁▁▁▁▁▁▁▁█▂▂▂▂▂▂▂▂▂</td></tr><tr><td>epoch</td><td>▁▁▂▂▂▃▃▄▄▄▅▅▅▆▆▇▇▇██</td></tr><tr><td>epoch_loss</td><td>█▂▁▁▁▁▁▁▁▁▇▄▄▄▄▄▄▄▄▄</td></tr><tr><td>gamma</td><td>▁▁▁▁▁▁▁▁▁▁▁█████████</td></tr><tr><td>is_prescreen</td><td>██████████▁▁▁▁▁▁▁▁▁▁</td></tr><tr><td>l1</td><td>▂▇▇███████▂▁▁▁▁▁▁▁▁▁</td></tr><tr><td>l2</td><td>▁▅▇▇██████▁▅▅▆▆▆▆▆▆▆</td></tr><tr><td>n_edges_pred</td><td>▁▆▇▇▇▇▇▇▇▇█▁▁▁▁▁▁▁▁▁</td></tr><tr><td>nll</td><td>█▂▁▁▁▁▁▁▁▁▇▄▄▃▃▃▃▃▃▃</td></tr><tr><td>precision</td><td>▁▃▃▃▃▃▃▃▃▃▂█████████</td></tr><tr><td>recall</td><td>▁█████████▇▂▂▂▂▂▂▂▂▂</td></tr><tr><td>score</td><td>▁▄▅▆▆▆▆▆▆▆█▁▁▁▁▁▁▁▁▁</td></tr><tr><td>shd</td><td>▁▄▅▆▆▆▆▆▆▆█▁▁▁▁▁▁▁▁▁</td></tr></table><br/></div><div class=\"wandb-col\"><h3>Run summary:</h3><br/><table class=\"wandb\"><tr><td>alpha</td><td>5e-05</td></tr><tr><td>dag</td><td>0.27075</td></tr><tr><td>epoch</td><td>1900</td></tr><tr><td>epoch_loss</td><td>26.82542</td></tr><tr><td>gamma</td><td>30.03003</td></tr><tr><td>is_prescreen</td><td>0</td></tr><tr><td>l1</td><td>0.01008</td></tr><tr><td>l2</td><td>8.01062</td></tr><tr><td>n_edges_pred</td><td>35</td></tr><tr><td>nll</td><td>10.67409</td></tr><tr><td>precision</td><td>0.85714</td></tr><tr><td>recall</td><td>0.12</td></tr><tr><td>score</td><td>225</td></tr><tr><td>shd</td><td>225.0</td></tr></table><br/></div></div>"
      ],
      "text/plain": [
       "<IPython.core.display.HTML object>"
      ]
     },
     "metadata": {},
     "output_type": "display_data"
    },
    {
     "data": {
      "text/html": [
       " View run <strong style=\"color:#cdcd00\">SDCI_pf-1.0_mv-parameter_ss-True_alpham-0.01</strong> at: <a href='https://wandb.ai/azizi-causal-perturb/SDCI_new_sim/runs/nz1cta4o' target=\"_blank\">https://wandb.ai/azizi-causal-perturb/SDCI_new_sim/runs/nz1cta4o</a><br/>Synced 6 W&B file(s), 0 media file(s), 0 artifact file(s) and 0 other file(s)"
      ],
      "text/plain": [
       "<IPython.core.display.HTML object>"
      ]
     },
     "metadata": {},
     "output_type": "display_data"
    },
    {
     "data": {
      "text/html": [
       "Find logs at: <code>./wandb/run-20230712_230847-nz1cta4o/logs</code>"
      ],
      "text/plain": [
       "<IPython.core.display.HTML object>"
      ]
     },
     "metadata": {},
     "output_type": "display_data"
    },
    {
     "data": {
      "application/vnd.jupyter.widget-view+json": {
       "model_id": "dfbe01cc42bc44e491262a84da1acf5e",
       "version_major": 2,
       "version_minor": 0
      },
      "text/plain": [
       "VBox(children=(Label(value='Waiting for wandb.init()...\\r'), FloatProgress(value=0.016669696383178233, max=1.0…"
      ]
     },
     "metadata": {},
     "output_type": "display_data"
    },
    {
     "data": {
      "text/html": [
       "wandb version 0.15.5 is available!  To upgrade, please run:\n",
       " $ pip install wandb --upgrade"
      ],
      "text/plain": [
       "<IPython.core.display.HTML object>"
      ]
     },
     "metadata": {},
     "output_type": "display_data"
    },
    {
     "data": {
      "text/html": [
       "Tracking run with wandb version 0.15.2"
      ],
      "text/plain": [
       "<IPython.core.display.HTML object>"
      ]
     },
     "metadata": {},
     "output_type": "display_data"
    },
    {
     "data": {
      "text/html": [
       "Run data is saved locally in <code>/home/justin/ghrepos/causal-perturbseq/notebooks/wandb/run-20230712_231008-gr7jedsg</code>"
      ],
      "text/plain": [
       "<IPython.core.display.HTML object>"
      ]
     },
     "metadata": {},
     "output_type": "display_data"
    },
    {
     "data": {
      "text/html": [
       "Syncing run <strong><a href='https://wandb.ai/azizi-causal-perturb/SDCI_new_sim/runs/gr7jedsg' target=\"_blank\">SDCI_pf-1.0_mv-parameter_ss-True_alpham-0.001</a></strong> to <a href='https://wandb.ai/azizi-causal-perturb/SDCI_new_sim' target=\"_blank\">Weights & Biases</a> (<a href='https://wandb.me/run' target=\"_blank\">docs</a>)<br/>"
      ],
      "text/plain": [
       "<IPython.core.display.HTML object>"
      ]
     },
     "metadata": {},
     "output_type": "display_data"
    },
    {
     "data": {
      "text/html": [
       " View project at <a href='https://wandb.ai/azizi-causal-perturb/SDCI_new_sim' target=\"_blank\">https://wandb.ai/azizi-causal-perturb/SDCI_new_sim</a>"
      ],
      "text/plain": [
       "<IPython.core.display.HTML object>"
      ]
     },
     "metadata": {},
     "output_type": "display_data"
    },
    {
     "data": {
      "text/html": [
       " View run at <a href='https://wandb.ai/azizi-causal-perturb/SDCI_new_sim/runs/gr7jedsg' target=\"_blank\">https://wandb.ai/azizi-causal-perturb/SDCI_new_sim/runs/gr7jedsg</a>"
      ],
      "text/plain": [
       "<IPython.core.display.HTML object>"
      ]
     },
     "metadata": {},
     "output_type": "display_data"
    },
    {
     "name": "stderr",
     "output_type": "stream",
     "text": [
      "/home/justin/miniconda3/envs/cp/lib/python3.9/site-packages/torch/optim/optimizer.py:243: UserWarning: 'has_cuda' is deprecated, please use 'torch.backends.cuda.is_built()'\n",
      "  if not is_compiling() and torch.has_cuda and torch.cuda.is_available():\n"
     ]
    },
    {
     "name": "stdout",
     "output_type": "stream",
     "text": [
      "Epoch 0: loss=65.66, score=250, shd=250.0, gamma=0.00\n",
      "Epoch 100: loss=-1.72, score=756, shd=756.0, gamma=0.00\n",
      "Epoch 200: loss=-5.15, score=937, shd=937.0, gamma=0.00\n",
      "Epoch 300: loss=-6.08, score=1001, shd=1001.0, gamma=0.00\n",
      "Epoch 400: loss=-6.52, score=1038, shd=1038.0, gamma=0.00\n",
      "Epoch 500: loss=-6.79, score=1063, shd=1063.0, gamma=0.00\n",
      "Epoch 600: loss=-6.93, score=1081, shd=1081.0, gamma=0.00\n",
      "Epoch 700: loss=-7.02, score=1104, shd=1104.0, gamma=0.00\n",
      "Epoch 800: loss=-7.06, score=1116, shd=1116.0, gamma=0.00\n",
      "Epoch 900: loss=-7.12, score=1121, shd=1121.0, gamma=0.00\n",
      "Recall of mask: 1.0\n",
      "Fraction of possible edges in mask: 0.8484\n",
      "Epoch 0: loss=5327068.00, score=1342, shd=1342.0, gamma=0.00\n",
      "Epoch 100: loss=5327039.15, score=229, shd=229.0, gamma=30.03\n",
      "Epoch 200: loss=5327038.50, score=228, shd=228.0, gamma=30.03\n",
      "Epoch 300: loss=5327038.55, score=228, shd=228.0, gamma=30.03\n",
      "Epoch 400: loss=5327038.50, score=227, shd=227.0, gamma=30.03\n",
      "Epoch 500: loss=5327038.35, score=228, shd=228.0, gamma=30.03\n",
      "Epoch 600: loss=5327037.75, score=226, shd=226.0, gamma=30.03\n",
      "Epoch 700: loss=5327037.80, score=227, shd=227.0, gamma=30.03\n",
      "Epoch 800: loss=5327037.90, score=227, shd=227.0, gamma=30.03\n",
      "Epoch 900: loss=5327037.65, score=226, shd=226.0, gamma=30.03\n",
      "Finished training in 73.48310494422913 seconds.\n"
     ]
    },
    {
     "data": {
      "text/html": [
       "Waiting for W&B process to finish... <strong style=\"color:green\">(success).</strong>"
      ],
      "text/plain": [
       "<IPython.core.display.HTML object>"
      ]
     },
     "metadata": {},
     "output_type": "display_data"
    },
    {
     "data": {
      "text/html": [
       "<style>\n",
       "    table.wandb td:nth-child(1) { padding: 0 10px; text-align: left ; width: auto;} td:nth-child(2) {text-align: left ; width: 100%}\n",
       "    .wandb-row { display: flex; flex-direction: row; flex-wrap: wrap; justify-content: flex-start; width: 100% }\n",
       "    .wandb-col { display: flex; flex-direction: column; flex-basis: 100%; flex: 1; padding: 10px; }\n",
       "    </style>\n",
       "<div class=\"wandb-row\"><div class=\"wandb-col\"><h3>Run history:</h3><br/><table class=\"wandb\"><tr><td>alpha</td><td>██████████▁▁▁▁▁▁▁▁▁▁</td></tr><tr><td>dag</td><td>▁▁▁▁▁▁▁▁▁▁█▂▂▂▂▂▂▂▂▂</td></tr><tr><td>epoch</td><td>▁▁▂▂▂▃▃▄▄▄▅▅▅▆▆▇▇▇██</td></tr><tr><td>epoch_loss</td><td>▁▁▁▁▁▁▁▁▁▁██████████</td></tr><tr><td>gamma</td><td>▁▁▁▁▁▁▁▁▁▁▁█████████</td></tr><tr><td>is_prescreen</td><td>██████████▁▁▁▁▁▁▁▁▁▁</td></tr><tr><td>l1</td><td>▂▇▇███████▂▁▁▁▁▁▁▁▁▁</td></tr><tr><td>l2</td><td>▁▁▁▁▁▁▁▁▁▁██████████</td></tr><tr><td>n_edges_pred</td><td>▁▆▇▇▇▇▇▇▇▇█▁▁▁▁▁▁▁▁▁</td></tr><tr><td>nll</td><td>█▂▁▁▁▁▁▁▁▁▇▄▄▄▄▃▃▃▃▃</td></tr><tr><td>precision</td><td>▁▃▃▃▃▃▃▃▃▃▂█████████</td></tr><tr><td>recall</td><td>▁█████████▇▂▂▂▂▂▂▂▂▂</td></tr><tr><td>score</td><td>▁▄▅▆▆▆▆▇▇▇█▁▁▁▁▁▁▁▁▁</td></tr><tr><td>shd</td><td>▁▄▅▆▆▆▆▇▇▇█▁▁▁▁▁▁▁▁▁</td></tr></table><br/></div><div class=\"wandb-col\"><h3>Run summary:</h3><br/><table class=\"wandb\"><tr><td>alpha</td><td>1e-05</td></tr><tr><td>dag</td><td>0.27131</td></tr><tr><td>epoch</td><td>1900</td></tr><tr><td>epoch_loss</td><td>5327037.65</td></tr><tr><td>gamma</td><td>30.03003</td></tr><tr><td>is_prescreen</td><td>0</td></tr><tr><td>l1</td><td>0.00102</td></tr><tr><td>l2</td><td>5327019.0</td></tr><tr><td>n_edges_pred</td><td>36</td></tr><tr><td>nll</td><td>10.64096</td></tr><tr><td>precision</td><td>0.83333</td></tr><tr><td>recall</td><td>0.12</td></tr><tr><td>score</td><td>226</td></tr><tr><td>shd</td><td>226.0</td></tr></table><br/></div></div>"
      ],
      "text/plain": [
       "<IPython.core.display.HTML object>"
      ]
     },
     "metadata": {},
     "output_type": "display_data"
    },
    {
     "data": {
      "text/html": [
       " View run <strong style=\"color:#cdcd00\">SDCI_pf-1.0_mv-parameter_ss-True_alpham-0.001</strong> at: <a href='https://wandb.ai/azizi-causal-perturb/SDCI_new_sim/runs/gr7jedsg' target=\"_blank\">https://wandb.ai/azizi-causal-perturb/SDCI_new_sim/runs/gr7jedsg</a><br/>Synced 6 W&B file(s), 0 media file(s), 0 artifact file(s) and 0 other file(s)"
      ],
      "text/plain": [
       "<IPython.core.display.HTML object>"
      ]
     },
     "metadata": {},
     "output_type": "display_data"
    },
    {
     "data": {
      "text/html": [
       "Find logs at: <code>./wandb/run-20230712_231008-gr7jedsg/logs</code>"
      ],
      "text/plain": [
       "<IPython.core.display.HTML object>"
      ]
     },
     "metadata": {},
     "output_type": "display_data"
    },
    {
     "data": {
      "application/vnd.jupyter.widget-view+json": {
       "model_id": "d73c8a7bc1c44ba49e2daa42d7859695",
       "version_major": 2,
       "version_minor": 0
      },
      "text/plain": [
       "VBox(children=(Label(value='Waiting for wandb.init()...\\r'), FloatProgress(value=0.016668652556836604, max=1.0…"
      ]
     },
     "metadata": {},
     "output_type": "display_data"
    },
    {
     "data": {
      "text/html": [
       "wandb version 0.15.5 is available!  To upgrade, please run:\n",
       " $ pip install wandb --upgrade"
      ],
      "text/plain": [
       "<IPython.core.display.HTML object>"
      ]
     },
     "metadata": {},
     "output_type": "display_data"
    },
    {
     "data": {
      "text/html": [
       "Tracking run with wandb version 0.15.2"
      ],
      "text/plain": [
       "<IPython.core.display.HTML object>"
      ]
     },
     "metadata": {},
     "output_type": "display_data"
    },
    {
     "data": {
      "text/html": [
       "Run data is saved locally in <code>/home/justin/ghrepos/causal-perturbseq/notebooks/wandb/run-20230712_231128-vx5lsthb</code>"
      ],
      "text/plain": [
       "<IPython.core.display.HTML object>"
      ]
     },
     "metadata": {},
     "output_type": "display_data"
    },
    {
     "data": {
      "text/html": [
       "Syncing run <strong><a href='https://wandb.ai/azizi-causal-perturb/SDCI_new_sim/runs/vx5lsthb' target=\"_blank\">SDCI_pf-1.0_mv-parameter_ss-False_alpham-1</a></strong> to <a href='https://wandb.ai/azizi-causal-perturb/SDCI_new_sim' target=\"_blank\">Weights & Biases</a> (<a href='https://wandb.me/run' target=\"_blank\">docs</a>)<br/>"
      ],
      "text/plain": [
       "<IPython.core.display.HTML object>"
      ]
     },
     "metadata": {},
     "output_type": "display_data"
    },
    {
     "data": {
      "text/html": [
       " View project at <a href='https://wandb.ai/azizi-causal-perturb/SDCI_new_sim' target=\"_blank\">https://wandb.ai/azizi-causal-perturb/SDCI_new_sim</a>"
      ],
      "text/plain": [
       "<IPython.core.display.HTML object>"
      ]
     },
     "metadata": {},
     "output_type": "display_data"
    },
    {
     "data": {
      "text/html": [
       " View run at <a href='https://wandb.ai/azizi-causal-perturb/SDCI_new_sim/runs/vx5lsthb' target=\"_blank\">https://wandb.ai/azizi-causal-perturb/SDCI_new_sim/runs/vx5lsthb</a>"
      ],
      "text/plain": [
       "<IPython.core.display.HTML object>"
      ]
     },
     "metadata": {},
     "output_type": "display_data"
    },
    {
     "name": "stderr",
     "output_type": "stream",
     "text": [
      "/home/justin/miniconda3/envs/cp/lib/python3.9/site-packages/torch/optim/optimizer.py:243: UserWarning: 'has_cuda' is deprecated, please use 'torch.backends.cuda.is_built()'\n",
      "  if not is_compiling() and torch.has_cuda and torch.cuda.is_available():\n"
     ]
    },
    {
     "name": "stdout",
     "output_type": "stream",
     "text": [
      "Epoch 0: loss=69.37, score=250, shd=250.0, gamma=0.00\n",
      "Epoch 100: loss=11.28, score=138, shd=138.0, gamma=0.00\n",
      "Epoch 200: loss=8.68, score=138, shd=138.0, gamma=0.00\n",
      "Epoch 300: loss=7.95, score=131, shd=131.0, gamma=0.00\n",
      "Epoch 400: loss=7.57, score=134, shd=134.0, gamma=0.00\n",
      "Epoch 500: loss=7.47, score=132, shd=132.0, gamma=0.00\n",
      "Epoch 600: loss=7.42, score=135, shd=135.0, gamma=0.00\n",
      "Epoch 700: loss=7.29, score=136, shd=136.0, gamma=0.00\n",
      "Epoch 800: loss=7.28, score=136, shd=136.0, gamma=0.00\n",
      "Epoch 900: loss=7.29, score=135, shd=135.0, gamma=0.00\n",
      "Recall of mask: 0.956\n",
      "Fraction of possible edges in mask: 0.1756\n",
      "Epoch 0: loss=66.54, score=209, shd=209.0, gamma=0.00\n",
      "Epoch 100: loss=32.43, score=177, shd=177.0, gamma=30.03\n",
      "Epoch 200: loss=31.96, score=180, shd=180.0, gamma=30.03\n",
      "Epoch 300: loss=31.85, score=181, shd=181.0, gamma=30.03\n",
      "Epoch 400: loss=31.79, score=180, shd=180.0, gamma=30.03\n",
      "Epoch 500: loss=31.69, score=181, shd=181.0, gamma=30.03\n",
      "Epoch 600: loss=31.67, score=179, shd=179.0, gamma=30.03\n",
      "Epoch 700: loss=31.62, score=179, shd=179.0, gamma=30.03\n",
      "Epoch 800: loss=31.68, score=179, shd=179.0, gamma=30.03\n",
      "Epoch 900: loss=31.65, score=179, shd=179.0, gamma=30.03\n",
      "Finished training in 73.25922393798828 seconds.\n"
     ]
    },
    {
     "data": {
      "text/html": [
       "Waiting for W&B process to finish... <strong style=\"color:green\">(success).</strong>"
      ],
      "text/plain": [
       "<IPython.core.display.HTML object>"
      ]
     },
     "metadata": {},
     "output_type": "display_data"
    },
    {
     "data": {
      "text/html": [
       "<style>\n",
       "    table.wandb td:nth-child(1) { padding: 0 10px; text-align: left ; width: auto;} td:nth-child(2) {text-align: left ; width: 100%}\n",
       "    .wandb-row { display: flex; flex-direction: row; flex-wrap: wrap; justify-content: flex-start; width: 100% }\n",
       "    .wandb-col { display: flex; flex-direction: column; flex-basis: 100%; flex: 1; padding: 10px; }\n",
       "    </style>\n",
       "<div class=\"wandb-row\"><div class=\"wandb-col\"><h3>Run history:</h3><br/><table class=\"wandb\"><tr><td>alpha</td><td>██████████▁▁▁▁▁▁▁▁▁▁</td></tr><tr><td>dag</td><td>▁▁▁▁▁▁▁▁▁▁█▅▄▄▄▄▄▄▄▄</td></tr><tr><td>epoch</td><td>▁▁▂▂▂▃▃▄▄▄▅▅▅▆▆▇▇▇██</td></tr><tr><td>epoch_loss</td><td>█▁▁▁▁▁▁▁▁▁█▄▄▄▄▄▄▄▄▄</td></tr><tr><td>gamma</td><td>▁▁▁▁▁▁▁▁▁▁▁█████████</td></tr><tr><td>is_prescreen</td><td>██████████▁▁▁▁▁▁▁▁▁▁</td></tr><tr><td>l1</td><td>▃▇████████▂▁▁▁▁▁▁▁▁▁</td></tr><tr><td>l2</td><td>▁▅▆▆▆▆▆▆▆▆▁▇████████</td></tr><tr><td>n_edges_pred</td><td>▁▇█████████▃▃▃▃▃▃▃▃▃</td></tr><tr><td>nll</td><td>█▂▁▁▁▁▁▁▁▁█▃▃▃▃▃▃▃▃▃</td></tr><tr><td>precision</td><td>▁▆▆▆▆▆▆▆▆▆▅█████████</td></tr><tr><td>recall</td><td>▁▇████████▇▄▃▃▃▃▄▄▄▄</td></tr><tr><td>score</td><td>█▁▁▁▁▁▁▁▁▁▆▄▄▄▄▄▄▄▄▄</td></tr><tr><td>shd</td><td>█▁▁▁▁▁▁▁▁▁▆▄▄▄▄▄▄▄▄▄</td></tr></table><br/></div><div class=\"wandb-col\"><h3>Run summary:</h3><br/><table class=\"wandb\"><tr><td>alpha</td><td>0.005</td></tr><tr><td>dag</td><td>0.2949</td></tr><tr><td>epoch</td><td>1900</td></tr><tr><td>epoch_loss</td><td>31.64715</td></tr><tr><td>gamma</td><td>30.03003</td></tr><tr><td>is_prescreen</td><td>0</td></tr><tr><td>l1</td><td>0.7566</td></tr><tr><td>l2</td><td>9.49703</td></tr><tr><td>n_edges_pred</td><td>89</td></tr><tr><td>nll</td><td>12.53758</td></tr><tr><td>precision</td><td>0.89888</td></tr><tr><td>recall</td><td>0.32</td></tr><tr><td>score</td><td>179</td></tr><tr><td>shd</td><td>179.0</td></tr></table><br/></div></div>"
      ],
      "text/plain": [
       "<IPython.core.display.HTML object>"
      ]
     },
     "metadata": {},
     "output_type": "display_data"
    },
    {
     "data": {
      "text/html": [
       " View run <strong style=\"color:#cdcd00\">SDCI_pf-1.0_mv-parameter_ss-False_alpham-1</strong> at: <a href='https://wandb.ai/azizi-causal-perturb/SDCI_new_sim/runs/vx5lsthb' target=\"_blank\">https://wandb.ai/azizi-causal-perturb/SDCI_new_sim/runs/vx5lsthb</a><br/>Synced 6 W&B file(s), 0 media file(s), 0 artifact file(s) and 0 other file(s)"
      ],
      "text/plain": [
       "<IPython.core.display.HTML object>"
      ]
     },
     "metadata": {},
     "output_type": "display_data"
    },
    {
     "data": {
      "text/html": [
       "Find logs at: <code>./wandb/run-20230712_231128-vx5lsthb/logs</code>"
      ],
      "text/plain": [
       "<IPython.core.display.HTML object>"
      ]
     },
     "metadata": {},
     "output_type": "display_data"
    },
    {
     "data": {
      "application/vnd.jupyter.widget-view+json": {
       "model_id": "9065b385e1144890b0cb5e7e3dd60da1",
       "version_major": 2,
       "version_minor": 0
      },
      "text/plain": [
       "VBox(children=(Label(value='Waiting for wandb.init()...\\r'), FloatProgress(value=0.016669618571177124, max=1.0…"
      ]
     },
     "metadata": {},
     "output_type": "display_data"
    },
    {
     "data": {
      "text/html": [
       "wandb version 0.15.5 is available!  To upgrade, please run:\n",
       " $ pip install wandb --upgrade"
      ],
      "text/plain": [
       "<IPython.core.display.HTML object>"
      ]
     },
     "metadata": {},
     "output_type": "display_data"
    },
    {
     "data": {
      "text/html": [
       "Tracking run with wandb version 0.15.2"
      ],
      "text/plain": [
       "<IPython.core.display.HTML object>"
      ]
     },
     "metadata": {},
     "output_type": "display_data"
    },
    {
     "data": {
      "text/html": [
       "Run data is saved locally in <code>/home/justin/ghrepos/causal-perturbseq/notebooks/wandb/run-20230712_231250-7bgflvhu</code>"
      ],
      "text/plain": [
       "<IPython.core.display.HTML object>"
      ]
     },
     "metadata": {},
     "output_type": "display_data"
    },
    {
     "data": {
      "text/html": [
       "Syncing run <strong><a href='https://wandb.ai/azizi-causal-perturb/SDCI_new_sim/runs/7bgflvhu' target=\"_blank\">SDCI_pf-1.0_mv-parameter_ss-False_alpham-0.1</a></strong> to <a href='https://wandb.ai/azizi-causal-perturb/SDCI_new_sim' target=\"_blank\">Weights & Biases</a> (<a href='https://wandb.me/run' target=\"_blank\">docs</a>)<br/>"
      ],
      "text/plain": [
       "<IPython.core.display.HTML object>"
      ]
     },
     "metadata": {},
     "output_type": "display_data"
    },
    {
     "data": {
      "text/html": [
       " View project at <a href='https://wandb.ai/azizi-causal-perturb/SDCI_new_sim' target=\"_blank\">https://wandb.ai/azizi-causal-perturb/SDCI_new_sim</a>"
      ],
      "text/plain": [
       "<IPython.core.display.HTML object>"
      ]
     },
     "metadata": {},
     "output_type": "display_data"
    },
    {
     "data": {
      "text/html": [
       " View run at <a href='https://wandb.ai/azizi-causal-perturb/SDCI_new_sim/runs/7bgflvhu' target=\"_blank\">https://wandb.ai/azizi-causal-perturb/SDCI_new_sim/runs/7bgflvhu</a>"
      ],
      "text/plain": [
       "<IPython.core.display.HTML object>"
      ]
     },
     "metadata": {},
     "output_type": "display_data"
    },
    {
     "name": "stderr",
     "output_type": "stream",
     "text": [
      "/home/justin/miniconda3/envs/cp/lib/python3.9/site-packages/torch/optim/optimizer.py:243: UserWarning: 'has_cuda' is deprecated, please use 'torch.backends.cuda.is_built()'\n",
      "  if not is_compiling() and torch.has_cuda and torch.cuda.is_available():\n"
     ]
    },
    {
     "name": "stdout",
     "output_type": "stream",
     "text": [
      "Epoch 0: loss=68.00, score=250, shd=250.0, gamma=0.00\n",
      "Epoch 100: loss=1.63, score=402, shd=402.0, gamma=0.00\n",
      "Epoch 200: loss=-1.86, score=520, shd=520.0, gamma=0.00\n",
      "Epoch 300: loss=-2.68, score=529, shd=529.0, gamma=0.00\n",
      "Epoch 400: loss=-3.15, score=553, shd=553.0, gamma=0.00\n",
      "Epoch 500: loss=-3.44, score=554, shd=554.0, gamma=0.00\n",
      "Epoch 600: loss=-3.62, score=553, shd=553.0, gamma=0.00\n",
      "Epoch 700: loss=-3.72, score=567, shd=567.0, gamma=0.00\n",
      "Epoch 800: loss=-3.79, score=567, shd=567.0, gamma=0.00\n",
      "Epoch 900: loss=-3.82, score=570, shd=570.0, gamma=0.00\n",
      "Recall of mask: 1.0\n",
      "Fraction of possible edges in mask: 0.5728\n",
      "Epoch 0: loss=59.97, score=904, shd=904.0, gamma=0.00\n",
      "Epoch 100: loss=29.72, score=219, shd=219.0, gamma=30.03\n",
      "Epoch 200: loss=28.71, score=221, shd=221.0, gamma=30.03\n",
      "Epoch 300: loss=28.70, score=222, shd=222.0, gamma=30.03\n",
      "Epoch 400: loss=28.63, score=221, shd=221.0, gamma=30.03\n",
      "Epoch 500: loss=28.52, score=220, shd=220.0, gamma=30.03\n",
      "Epoch 600: loss=28.52, score=222, shd=222.0, gamma=30.03\n",
      "Epoch 700: loss=28.67, score=219, shd=219.0, gamma=30.03\n",
      "Epoch 800: loss=28.47, score=218, shd=218.0, gamma=30.03\n",
      "Epoch 900: loss=28.43, score=219, shd=219.0, gamma=30.03\n",
      "Finished training in 74.82448482513428 seconds.\n"
     ]
    },
    {
     "data": {
      "text/html": [
       "Waiting for W&B process to finish... <strong style=\"color:green\">(success).</strong>"
      ],
      "text/plain": [
       "<IPython.core.display.HTML object>"
      ]
     },
     "metadata": {},
     "output_type": "display_data"
    },
    {
     "data": {
      "application/vnd.jupyter.widget-view+json": {
       "model_id": "f5d0f131f63c46afb8478f37801f9bae",
       "version_major": 2,
       "version_minor": 0
      },
      "text/plain": [
       "VBox(children=(Label(value='0.004 MB of 0.004 MB uploaded (0.000 MB deduped)\\r'), FloatProgress(value=1.0, max…"
      ]
     },
     "metadata": {},
     "output_type": "display_data"
    },
    {
     "data": {
      "text/html": [
       "<style>\n",
       "    table.wandb td:nth-child(1) { padding: 0 10px; text-align: left ; width: auto;} td:nth-child(2) {text-align: left ; width: 100%}\n",
       "    .wandb-row { display: flex; flex-direction: row; flex-wrap: wrap; justify-content: flex-start; width: 100% }\n",
       "    .wandb-col { display: flex; flex-direction: column; flex-basis: 100%; flex: 1; padding: 10px; }\n",
       "    </style>\n",
       "<div class=\"wandb-row\"><div class=\"wandb-col\"><h3>Run history:</h3><br/><table class=\"wandb\"><tr><td>alpha</td><td>██████████▁▁▁▁▁▁▁▁▁▁</td></tr><tr><td>dag</td><td>▁▁▁▁▁▁▁▁▁▁█▂▂▂▂▂▂▂▂▂</td></tr><tr><td>epoch</td><td>▁▁▂▂▂▃▃▄▄▄▅▅▅▆▆▇▇▇██</td></tr><tr><td>epoch_loss</td><td>█▂▁▁▁▁▁▁▁▁▇▄▄▄▄▄▄▄▄▄</td></tr><tr><td>gamma</td><td>▁▁▁▁▁▁▁▁▁▁▁█████████</td></tr><tr><td>is_prescreen</td><td>██████████▁▁▁▁▁▁▁▁▁▁</td></tr><tr><td>l1</td><td>▂▇▇███████▂▁▁▁▁▁▁▁▁▁</td></tr><tr><td>l2</td><td>▁▅▇▇██████▁▆▆▆▆▆▇▇▇▇</td></tr><tr><td>n_edges_pred</td><td>▁▅▆▆▆▆▆▆▆▆█▁▁▁▁▁▁▁▁▁</td></tr><tr><td>nll</td><td>█▂▁▁▁▁▁▁▁▁▇▃▃▃▃▃▃▃▃▃</td></tr><tr><td>precision</td><td>▁▄▄▄▄▄▄▃▃▃▃█████████</td></tr><tr><td>recall</td><td>▁█████████▇▂▂▂▂▂▂▂▂▂</td></tr><tr><td>score</td><td>▁▃▄▄▄▄▄▅▅▅█▁▁▁▁▁▁▁▁▁</td></tr><tr><td>shd</td><td>▁▃▄▄▄▄▄▅▅▅█▁▁▁▁▁▁▁▁▁</td></tr></table><br/></div><div class=\"wandb-col\"><h3>Run summary:</h3><br/><table class=\"wandb\"><tr><td>alpha</td><td>0.0005</td></tr><tr><td>dag</td><td>0.27867</td></tr><tr><td>epoch</td><td>1900</td></tr><tr><td>epoch_loss</td><td>28.43346</td></tr><tr><td>gamma</td><td>30.03003</td></tr><tr><td>is_prescreen</td><td>0</td></tr><tr><td>l1</td><td>0.09574</td></tr><tr><td>l2</td><td>8.33336</td></tr><tr><td>n_edges_pred</td><td>43</td></tr><tr><td>nll</td><td>11.63586</td></tr><tr><td>precision</td><td>0.86047</td></tr><tr><td>recall</td><td>0.148</td></tr><tr><td>score</td><td>219</td></tr><tr><td>shd</td><td>219.0</td></tr></table><br/></div></div>"
      ],
      "text/plain": [
       "<IPython.core.display.HTML object>"
      ]
     },
     "metadata": {},
     "output_type": "display_data"
    },
    {
     "data": {
      "text/html": [
       " View run <strong style=\"color:#cdcd00\">SDCI_pf-1.0_mv-parameter_ss-False_alpham-0.1</strong> at: <a href='https://wandb.ai/azizi-causal-perturb/SDCI_new_sim/runs/7bgflvhu' target=\"_blank\">https://wandb.ai/azizi-causal-perturb/SDCI_new_sim/runs/7bgflvhu</a><br/>Synced 6 W&B file(s), 0 media file(s), 0 artifact file(s) and 0 other file(s)"
      ],
      "text/plain": [
       "<IPython.core.display.HTML object>"
      ]
     },
     "metadata": {},
     "output_type": "display_data"
    },
    {
     "data": {
      "text/html": [
       "Find logs at: <code>./wandb/run-20230712_231250-7bgflvhu/logs</code>"
      ],
      "text/plain": [
       "<IPython.core.display.HTML object>"
      ]
     },
     "metadata": {},
     "output_type": "display_data"
    },
    {
     "data": {
      "application/vnd.jupyter.widget-view+json": {
       "model_id": "852494a52f364fceb5811dd1c370ae68",
       "version_major": 2,
       "version_minor": 0
      },
      "text/plain": [
       "VBox(children=(Label(value='Waiting for wandb.init()...\\r'), FloatProgress(value=0.01666882977200051, max=1.0)…"
      ]
     },
     "metadata": {},
     "output_type": "display_data"
    },
    {
     "data": {
      "text/html": [
       "wandb version 0.15.5 is available!  To upgrade, please run:\n",
       " $ pip install wandb --upgrade"
      ],
      "text/plain": [
       "<IPython.core.display.HTML object>"
      ]
     },
     "metadata": {},
     "output_type": "display_data"
    },
    {
     "data": {
      "text/html": [
       "Tracking run with wandb version 0.15.2"
      ],
      "text/plain": [
       "<IPython.core.display.HTML object>"
      ]
     },
     "metadata": {},
     "output_type": "display_data"
    },
    {
     "data": {
      "text/html": [
       "Run data is saved locally in <code>/home/justin/ghrepos/causal-perturbseq/notebooks/wandb/run-20230712_231411-4eddr022</code>"
      ],
      "text/plain": [
       "<IPython.core.display.HTML object>"
      ]
     },
     "metadata": {},
     "output_type": "display_data"
    },
    {
     "data": {
      "text/html": [
       "Syncing run <strong><a href='https://wandb.ai/azizi-causal-perturb/SDCI_new_sim/runs/4eddr022' target=\"_blank\">SDCI_pf-1.0_mv-parameter_ss-False_alpham-0.01</a></strong> to <a href='https://wandb.ai/azizi-causal-perturb/SDCI_new_sim' target=\"_blank\">Weights & Biases</a> (<a href='https://wandb.me/run' target=\"_blank\">docs</a>)<br/>"
      ],
      "text/plain": [
       "<IPython.core.display.HTML object>"
      ]
     },
     "metadata": {},
     "output_type": "display_data"
    },
    {
     "data": {
      "text/html": [
       " View project at <a href='https://wandb.ai/azizi-causal-perturb/SDCI_new_sim' target=\"_blank\">https://wandb.ai/azizi-causal-perturb/SDCI_new_sim</a>"
      ],
      "text/plain": [
       "<IPython.core.display.HTML object>"
      ]
     },
     "metadata": {},
     "output_type": "display_data"
    },
    {
     "data": {
      "text/html": [
       " View run at <a href='https://wandb.ai/azizi-causal-perturb/SDCI_new_sim/runs/4eddr022' target=\"_blank\">https://wandb.ai/azizi-causal-perturb/SDCI_new_sim/runs/4eddr022</a>"
      ],
      "text/plain": [
       "<IPython.core.display.HTML object>"
      ]
     },
     "metadata": {},
     "output_type": "display_data"
    },
    {
     "name": "stderr",
     "output_type": "stream",
     "text": [
      "/home/justin/miniconda3/envs/cp/lib/python3.9/site-packages/torch/optim/optimizer.py:243: UserWarning: 'has_cuda' is deprecated, please use 'torch.backends.cuda.is_built()'\n",
      "  if not is_compiling() and torch.has_cuda and torch.cuda.is_available():\n"
     ]
    },
    {
     "name": "stdout",
     "output_type": "stream",
     "text": [
      "Epoch 0: loss=68.06, score=250, shd=250.0, gamma=0.00\n",
      "Epoch 100: loss=-0.83, score=688, shd=688.0, gamma=0.00\n",
      "Epoch 200: loss=-4.15, score=874, shd=874.0, gamma=0.00\n",
      "Epoch 300: loss=-5.01, score=908, shd=908.0, gamma=0.00\n",
      "Epoch 400: loss=-5.38, score=948, shd=948.0, gamma=0.00\n",
      "Epoch 500: loss=-5.58, score=970, shd=970.0, gamma=0.00\n",
      "Epoch 600: loss=-5.76, score=987, shd=987.0, gamma=0.00\n",
      "Epoch 700: loss=-5.79, score=998, shd=998.0, gamma=0.00\n",
      "Epoch 800: loss=-5.96, score=1015, shd=1015.0, gamma=0.00\n",
      "Epoch 900: loss=-6.05, score=1023, shd=1023.0, gamma=0.00\n",
      "Recall of mask: 1.0\n",
      "Fraction of possible edges in mask: 0.8256\n",
      "Epoch 0: loss=57.73, score=1324, shd=1324.0, gamma=0.00\n",
      "Epoch 100: loss=29.11, score=229, shd=229.0, gamma=30.03\n",
      "Epoch 200: loss=28.40, score=227, shd=227.0, gamma=30.03\n",
      "Epoch 300: loss=28.27, score=228, shd=228.0, gamma=30.03\n",
      "Epoch 400: loss=27.84, score=227, shd=227.0, gamma=30.03\n",
      "Epoch 500: loss=27.87, score=226, shd=226.0, gamma=30.03\n",
      "Epoch 600: loss=27.76, score=227, shd=227.0, gamma=30.03\n",
      "Epoch 700: loss=28.04, score=228, shd=228.0, gamma=30.03\n",
      "Epoch 800: loss=27.77, score=226, shd=226.0, gamma=30.03\n",
      "Epoch 900: loss=27.73, score=225, shd=225.0, gamma=30.03\n",
      "Finished training in 74.88518166542053 seconds.\n"
     ]
    },
    {
     "data": {
      "text/html": [
       "Waiting for W&B process to finish... <strong style=\"color:green\">(success).</strong>"
      ],
      "text/plain": [
       "<IPython.core.display.HTML object>"
      ]
     },
     "metadata": {},
     "output_type": "display_data"
    },
    {
     "data": {
      "application/vnd.jupyter.widget-view+json": {
       "model_id": "5b64d04d065c42e8ae917fea716bb6ea",
       "version_major": 2,
       "version_minor": 0
      },
      "text/plain": [
       "VBox(children=(Label(value='0.004 MB of 0.004 MB uploaded (0.000 MB deduped)\\r'), FloatProgress(value=1.0, max…"
      ]
     },
     "metadata": {},
     "output_type": "display_data"
    },
    {
     "data": {
      "text/html": [
       "<style>\n",
       "    table.wandb td:nth-child(1) { padding: 0 10px; text-align: left ; width: auto;} td:nth-child(2) {text-align: left ; width: 100%}\n",
       "    .wandb-row { display: flex; flex-direction: row; flex-wrap: wrap; justify-content: flex-start; width: 100% }\n",
       "    .wandb-col { display: flex; flex-direction: column; flex-basis: 100%; flex: 1; padding: 10px; }\n",
       "    </style>\n",
       "<div class=\"wandb-row\"><div class=\"wandb-col\"><h3>Run history:</h3><br/><table class=\"wandb\"><tr><td>alpha</td><td>██████████▁▁▁▁▁▁▁▁▁▁</td></tr><tr><td>dag</td><td>▁▁▁▁▁▁▁▁▁▁█▂▂▂▂▂▂▂▂▂</td></tr><tr><td>epoch</td><td>▁▁▂▂▂▃▃▄▄▄▅▅▅▆▆▇▇▇██</td></tr><tr><td>epoch_loss</td><td>█▁▁▁▁▁▁▁▁▁▇▄▄▄▄▄▄▄▄▄</td></tr><tr><td>gamma</td><td>▁▁▁▁▁▁▁▁▁▁▁█████████</td></tr><tr><td>is_prescreen</td><td>██████████▁▁▁▁▁▁▁▁▁▁</td></tr><tr><td>l1</td><td>▂▇▇███████▂▁▁▁▁▁▁▁▁▁</td></tr><tr><td>l2</td><td>▁▆▇▇██████▁▅▆▆▆▆▆▆▆▆</td></tr><tr><td>n_edges_pred</td><td>▁▅▆▆▇▇▇▇▇▇█▁▁▁▁▁▁▁▁▁</td></tr><tr><td>nll</td><td>█▂▁▁▁▁▁▁▁▁▇▄▃▃▃▃▃▃▃▃</td></tr><tr><td>precision</td><td>▁▃▃▃▃▃▃▃▃▃▂▇████████</td></tr><tr><td>recall</td><td>▁█████████▇▂▂▂▂▂▂▂▂▂</td></tr><tr><td>score</td><td>▁▄▅▅▆▆▆▆▆▆█▁▁▁▁▁▁▁▁▁</td></tr><tr><td>shd</td><td>▁▄▅▅▆▆▆▆▆▆█▁▁▁▁▁▁▁▁▁</td></tr></table><br/></div><div class=\"wandb-col\"><h3>Run summary:</h3><br/><table class=\"wandb\"><tr><td>alpha</td><td>5e-05</td></tr><tr><td>dag</td><td>0.27406</td></tr><tr><td>epoch</td><td>1900</td></tr><tr><td>epoch_loss</td><td>27.72934</td></tr><tr><td>gamma</td><td>30.03003</td></tr><tr><td>is_prescreen</td><td>0</td></tr><tr><td>l1</td><td>0.01032</td></tr><tr><td>l2</td><td>7.98604</td></tr><tr><td>n_edges_pred</td><td>37</td></tr><tr><td>nll</td><td>11.50283</td></tr><tr><td>precision</td><td>0.83784</td></tr><tr><td>recall</td><td>0.124</td></tr><tr><td>score</td><td>225</td></tr><tr><td>shd</td><td>225.0</td></tr></table><br/></div></div>"
      ],
      "text/plain": [
       "<IPython.core.display.HTML object>"
      ]
     },
     "metadata": {},
     "output_type": "display_data"
    },
    {
     "data": {
      "text/html": [
       " View run <strong style=\"color:#cdcd00\">SDCI_pf-1.0_mv-parameter_ss-False_alpham-0.01</strong> at: <a href='https://wandb.ai/azizi-causal-perturb/SDCI_new_sim/runs/4eddr022' target=\"_blank\">https://wandb.ai/azizi-causal-perturb/SDCI_new_sim/runs/4eddr022</a><br/>Synced 6 W&B file(s), 0 media file(s), 0 artifact file(s) and 0 other file(s)"
      ],
      "text/plain": [
       "<IPython.core.display.HTML object>"
      ]
     },
     "metadata": {},
     "output_type": "display_data"
    },
    {
     "data": {
      "text/html": [
       "Find logs at: <code>./wandb/run-20230712_231411-4eddr022/logs</code>"
      ],
      "text/plain": [
       "<IPython.core.display.HTML object>"
      ]
     },
     "metadata": {},
     "output_type": "display_data"
    },
    {
     "data": {
      "application/vnd.jupyter.widget-view+json": {
       "model_id": "cd8893e3291c47d39ff1d6ffcb45cbe9",
       "version_major": 2,
       "version_minor": 0
      },
      "text/plain": [
       "VBox(children=(Label(value='Waiting for wandb.init()...\\r'), FloatProgress(value=0.016668403536702195, max=1.0…"
      ]
     },
     "metadata": {},
     "output_type": "display_data"
    },
    {
     "data": {
      "text/html": [
       "wandb version 0.15.5 is available!  To upgrade, please run:\n",
       " $ pip install wandb --upgrade"
      ],
      "text/plain": [
       "<IPython.core.display.HTML object>"
      ]
     },
     "metadata": {},
     "output_type": "display_data"
    },
    {
     "data": {
      "text/html": [
       "Tracking run with wandb version 0.15.2"
      ],
      "text/plain": [
       "<IPython.core.display.HTML object>"
      ]
     },
     "metadata": {},
     "output_type": "display_data"
    },
    {
     "data": {
      "text/html": [
       "Run data is saved locally in <code>/home/justin/ghrepos/causal-perturbseq/notebooks/wandb/run-20230712_231533-1zkknlos</code>"
      ],
      "text/plain": [
       "<IPython.core.display.HTML object>"
      ]
     },
     "metadata": {},
     "output_type": "display_data"
    },
    {
     "data": {
      "text/html": [
       "Syncing run <strong><a href='https://wandb.ai/azizi-causal-perturb/SDCI_new_sim/runs/1zkknlos' target=\"_blank\">SDCI_pf-1.0_mv-parameter_ss-False_alpham-0.001</a></strong> to <a href='https://wandb.ai/azizi-causal-perturb/SDCI_new_sim' target=\"_blank\">Weights & Biases</a> (<a href='https://wandb.me/run' target=\"_blank\">docs</a>)<br/>"
      ],
      "text/plain": [
       "<IPython.core.display.HTML object>"
      ]
     },
     "metadata": {},
     "output_type": "display_data"
    },
    {
     "data": {
      "text/html": [
       " View project at <a href='https://wandb.ai/azizi-causal-perturb/SDCI_new_sim' target=\"_blank\">https://wandb.ai/azizi-causal-perturb/SDCI_new_sim</a>"
      ],
      "text/plain": [
       "<IPython.core.display.HTML object>"
      ]
     },
     "metadata": {},
     "output_type": "display_data"
    },
    {
     "data": {
      "text/html": [
       " View run at <a href='https://wandb.ai/azizi-causal-perturb/SDCI_new_sim/runs/1zkknlos' target=\"_blank\">https://wandb.ai/azizi-causal-perturb/SDCI_new_sim/runs/1zkknlos</a>"
      ],
      "text/plain": [
       "<IPython.core.display.HTML object>"
      ]
     },
     "metadata": {},
     "output_type": "display_data"
    },
    {
     "name": "stderr",
     "output_type": "stream",
     "text": [
      "/home/justin/miniconda3/envs/cp/lib/python3.9/site-packages/torch/optim/optimizer.py:243: UserWarning: 'has_cuda' is deprecated, please use 'torch.backends.cuda.is_built()'\n",
      "  if not is_compiling() and torch.has_cuda and torch.cuda.is_available():\n"
     ]
    },
    {
     "name": "stdout",
     "output_type": "stream",
     "text": [
      "Epoch 0: loss=67.09, score=250, shd=250.0, gamma=0.00\n",
      "Epoch 100: loss=-1.10, score=738, shd=738.0, gamma=0.00\n",
      "Epoch 200: loss=-4.53, score=917, shd=917.0, gamma=0.00\n",
      "Epoch 300: loss=-5.37, score=981, shd=981.0, gamma=0.00\n",
      "Epoch 400: loss=-5.73, score=1020, shd=1020.0, gamma=0.00\n",
      "Epoch 500: loss=-6.00, score=1047, shd=1047.0, gamma=0.00\n",
      "Epoch 600: loss=-6.12, score=1063, shd=1063.0, gamma=0.00\n",
      "Epoch 700: loss=-6.22, score=1067, shd=1067.0, gamma=0.00\n",
      "Epoch 800: loss=-6.25, score=1077, shd=1077.0, gamma=0.00\n",
      "Epoch 900: loss=-6.38, score=1087, shd=1087.0, gamma=0.00\n",
      "Recall of mask: 1.0\n",
      "Fraction of possible edges in mask: 0.8488\n",
      "Epoch 0: loss=57.51, score=1383, shd=1383.0, gamma=0.00\n",
      "Epoch 100: loss=29.31, score=229, shd=229.0, gamma=30.03\n",
      "Epoch 200: loss=28.03, score=225, shd=225.0, gamma=30.03\n",
      "Epoch 300: loss=28.15, score=226, shd=226.0, gamma=30.03\n",
      "Epoch 400: loss=28.08, score=227, shd=227.0, gamma=30.03\n",
      "Epoch 500: loss=27.79, score=226, shd=226.0, gamma=30.03\n",
      "Epoch 600: loss=27.95, score=225, shd=225.0, gamma=30.03\n",
      "Epoch 700: loss=27.81, score=226, shd=226.0, gamma=30.03\n",
      "Epoch 800: loss=27.67, score=226, shd=226.0, gamma=30.03\n",
      "Epoch 900: loss=27.64, score=227, shd=227.0, gamma=30.03\n",
      "Finished training in 75.02643656730652 seconds.\n"
     ]
    },
    {
     "data": {
      "text/html": [
       "Waiting for W&B process to finish... <strong style=\"color:green\">(success).</strong>"
      ],
      "text/plain": [
       "<IPython.core.display.HTML object>"
      ]
     },
     "metadata": {},
     "output_type": "display_data"
    },
    {
     "data": {
      "application/vnd.jupyter.widget-view+json": {
       "model_id": "aa93b07ee0284957a8394baeb2b776de",
       "version_major": 2,
       "version_minor": 0
      },
      "text/plain": [
       "VBox(children=(Label(value='0.004 MB of 0.004 MB uploaded (0.000 MB deduped)\\r'), FloatProgress(value=1.0, max…"
      ]
     },
     "metadata": {},
     "output_type": "display_data"
    },
    {
     "data": {
      "text/html": [
       "<style>\n",
       "    table.wandb td:nth-child(1) { padding: 0 10px; text-align: left ; width: auto;} td:nth-child(2) {text-align: left ; width: 100%}\n",
       "    .wandb-row { display: flex; flex-direction: row; flex-wrap: wrap; justify-content: flex-start; width: 100% }\n",
       "    .wandb-col { display: flex; flex-direction: column; flex-basis: 100%; flex: 1; padding: 10px; }\n",
       "    </style>\n",
       "<div class=\"wandb-row\"><div class=\"wandb-col\"><h3>Run history:</h3><br/><table class=\"wandb\"><tr><td>alpha</td><td>██████████▁▁▁▁▁▁▁▁▁▁</td></tr><tr><td>dag</td><td>▁▁▁▁▁▁▁▁▁▁█▂▂▂▂▂▂▂▂▂</td></tr><tr><td>epoch</td><td>▁▁▂▂▂▃▃▄▄▄▅▅▅▆▆▇▇▇██</td></tr><tr><td>epoch_loss</td><td>█▂▁▁▁▁▁▁▁▁▇▄▄▄▄▄▄▄▄▄</td></tr><tr><td>gamma</td><td>▁▁▁▁▁▁▁▁▁▁▁█████████</td></tr><tr><td>is_prescreen</td><td>██████████▁▁▁▁▁▁▁▁▁▁</td></tr><tr><td>l1</td><td>▂▇▇███████▂▁▁▁▁▁▁▁▁▁</td></tr><tr><td>l2</td><td>▁▆▇▇██████▁▅▅▆▆▆▆▆▆▆</td></tr><tr><td>n_edges_pred</td><td>▁▆▆▇▇▇▇▇▇▇█▁▁▁▁▁▁▁▁▁</td></tr><tr><td>nll</td><td>█▂▁▁▁▁▁▁▁▁▇▄▃▄▃▃▃▃▃▃</td></tr><tr><td>precision</td><td>▁▃▃▃▃▃▃▃▃▃▂█████████</td></tr><tr><td>recall</td><td>▁█████████▇▂▂▂▂▂▂▂▂▂</td></tr><tr><td>score</td><td>▁▄▅▆▆▆▆▆▆▆█▁▁▁▁▁▁▁▁▁</td></tr><tr><td>shd</td><td>▁▄▅▆▆▆▆▆▆▆█▁▁▁▁▁▁▁▁▁</td></tr></table><br/></div><div class=\"wandb-col\"><h3>Run summary:</h3><br/><table class=\"wandb\"><tr><td>alpha</td><td>1e-05</td></tr><tr><td>dag</td><td>0.27617</td></tr><tr><td>epoch</td><td>1900</td></tr><tr><td>epoch_loss</td><td>27.64456</td></tr><tr><td>gamma</td><td>30.03003</td></tr><tr><td>is_prescreen</td><td>0</td></tr><tr><td>l1</td><td>0.00104</td></tr><tr><td>l2</td><td>7.94947</td></tr><tr><td>n_edges_pred</td><td>37</td></tr><tr><td>nll</td><td>11.4006</td></tr><tr><td>precision</td><td>0.81081</td></tr><tr><td>recall</td><td>0.12</td></tr><tr><td>score</td><td>227</td></tr><tr><td>shd</td><td>227.0</td></tr></table><br/></div></div>"
      ],
      "text/plain": [
       "<IPython.core.display.HTML object>"
      ]
     },
     "metadata": {},
     "output_type": "display_data"
    },
    {
     "data": {
      "text/html": [
       " View run <strong style=\"color:#cdcd00\">SDCI_pf-1.0_mv-parameter_ss-False_alpham-0.001</strong> at: <a href='https://wandb.ai/azizi-causal-perturb/SDCI_new_sim/runs/1zkknlos' target=\"_blank\">https://wandb.ai/azizi-causal-perturb/SDCI_new_sim/runs/1zkknlos</a><br/>Synced 6 W&B file(s), 0 media file(s), 0 artifact file(s) and 0 other file(s)"
      ],
      "text/plain": [
       "<IPython.core.display.HTML object>"
      ]
     },
     "metadata": {},
     "output_type": "display_data"
    },
    {
     "data": {
      "text/html": [
       "Find logs at: <code>./wandb/run-20230712_231533-1zkknlos/logs</code>"
      ],
      "text/plain": [
       "<IPython.core.display.HTML object>"
      ]
     },
     "metadata": {},
     "output_type": "display_data"
    }
   ],
   "source": [
    "# Try SDCI w/ varying perturbation fractions\n",
    "device = torch.device(\"cuda:0\" if torch.cuda.is_available() else \"cpu\")\n",
    "print(f\"Using {device}\")\n",
    "\n",
    "metrics_df_records = []\n",
    "for perturbation_frac in [0, 0.5, 1.0]:\n",
    "    for mv_flavor in [\"unit\", \"nn\", \"parameter\"]:\n",
    "        for standard_scale in [True, False]:\n",
    "            for alpha_mult in [1, 0.1, .01, .001]:\n",
    "                n_interventions = int(d * perturbation_frac)\n",
    "                X_sub_df = subset_interventions(\n",
    "                    X_df, n_interventions, maintain_dataset_size=True\n",
    "                )\n",
    "                dataset = create_intervention_dataset(X_sub_df, regime_format=False)\n",
    "\n",
    "                model = SDCI(model_variance_flavor=mv_flavor, standard_scale=standard_scale)\n",
    "                model.train(\n",
    "                    dataset,\n",
    "                    B_true=B_true,\n",
    "                    device=device,\n",
    "                    log_wandb=True,\n",
    "                    wandb_project=\"SDCI_new_sim\",\n",
    "                    wandb_name=f\"SDCI_pf-{perturbation_frac}_mv-{mv_flavor}_ss-{standard_scale}_alpham-{alpha_mult}\",\n",
    "                    wandb_config_dict={\"model_variance_flavor\": mv_flavor, \"perturbation_frac\": perturbation_frac},\n",
    "                    verbose=False,\n",
    "                    stage1_kwargs={\"n_epochs\": 1000, \"alpha\": 1e-2 * alpha_mult},\n",
    "                    stage2_kwargs={\"n_epochs\": 1000, \"alpha\": 5e-3 * alpha_mult}\n",
    "                )\n",
    "                metrics_dict = model.compute_metrics(B_true)\n",
    "                metrics_dict[\"model_variance_flavor\"] = mv_flavor\n",
    "                metrics_dict[\"standard_scale\"] = standard_scale\n",
    "                metrics_dict[\"alpha_mult\"] = alpha_mult\n",
    "                metrics_dict[\"mask_recall\"] =  (B_true.astype(bool) & model._mask.astype(bool)).sum() / B_true.sum()\n",
    "                metrics_dict[\"train_time\"] = model._train_runtime_in_sec\n",
    "                metrics_dict[\"n_interventions\"] = n_interventions\n",
    "                metrics_df_records.append(metrics_dict)\n"
   ]
  },
  {
   "cell_type": "code",
   "execution_count": 17,
   "id": "65344865",
   "metadata": {},
   "outputs": [
    {
     "data": {
      "text/html": [
       "<div>\n",
       "<style scoped>\n",
       "    .dataframe tbody tr th:only-of-type {\n",
       "        vertical-align: middle;\n",
       "    }\n",
       "\n",
       "    .dataframe tbody tr th {\n",
       "        vertical-align: top;\n",
       "    }\n",
       "\n",
       "    .dataframe thead th {\n",
       "        text-align: right;\n",
       "    }\n",
       "</style>\n",
       "<table border=\"1\" class=\"dataframe\">\n",
       "  <thead>\n",
       "    <tr style=\"text-align: right;\">\n",
       "      <th></th>\n",
       "      <th>score</th>\n",
       "      <th>shd</th>\n",
       "      <th>precision</th>\n",
       "      <th>recall</th>\n",
       "      <th>n_edges_pred</th>\n",
       "      <th>model_variance_flavor</th>\n",
       "      <th>standard_scale</th>\n",
       "      <th>alpha_mult</th>\n",
       "      <th>mask_recall</th>\n",
       "      <th>train_time</th>\n",
       "      <th>n_interventions</th>\n",
       "    </tr>\n",
       "  </thead>\n",
       "  <tbody>\n",
       "    <tr>\n",
       "      <th>0</th>\n",
       "      <td>219</td>\n",
       "      <td>219.0</td>\n",
       "      <td>0.816327</td>\n",
       "      <td>0.160</td>\n",
       "      <td>49</td>\n",
       "      <td>unit</td>\n",
       "      <td>True</td>\n",
       "      <td>1.000</td>\n",
       "      <td>0.488</td>\n",
       "      <td>69.898533</td>\n",
       "      <td>0</td>\n",
       "    </tr>\n",
       "    <tr>\n",
       "      <th>1</th>\n",
       "      <td>239</td>\n",
       "      <td>239.0</td>\n",
       "      <td>0.739130</td>\n",
       "      <td>0.068</td>\n",
       "      <td>23</td>\n",
       "      <td>unit</td>\n",
       "      <td>True</td>\n",
       "      <td>0.100</td>\n",
       "      <td>0.644</td>\n",
       "      <td>69.327668</td>\n",
       "      <td>0</td>\n",
       "    </tr>\n",
       "    <tr>\n",
       "      <th>2</th>\n",
       "      <td>244</td>\n",
       "      <td>244.0</td>\n",
       "      <td>0.714286</td>\n",
       "      <td>0.040</td>\n",
       "      <td>14</td>\n",
       "      <td>unit</td>\n",
       "      <td>True</td>\n",
       "      <td>0.010</td>\n",
       "      <td>0.740</td>\n",
       "      <td>70.473883</td>\n",
       "      <td>0</td>\n",
       "    </tr>\n",
       "    <tr>\n",
       "      <th>3</th>\n",
       "      <td>246</td>\n",
       "      <td>246.0</td>\n",
       "      <td>0.642857</td>\n",
       "      <td>0.036</td>\n",
       "      <td>14</td>\n",
       "      <td>unit</td>\n",
       "      <td>True</td>\n",
       "      <td>0.001</td>\n",
       "      <td>0.772</td>\n",
       "      <td>69.506130</td>\n",
       "      <td>0</td>\n",
       "    </tr>\n",
       "    <tr>\n",
       "      <th>4</th>\n",
       "      <td>211</td>\n",
       "      <td>211.0</td>\n",
       "      <td>0.882353</td>\n",
       "      <td>0.180</td>\n",
       "      <td>51</td>\n",
       "      <td>unit</td>\n",
       "      <td>False</td>\n",
       "      <td>1.000</td>\n",
       "      <td>0.472</td>\n",
       "      <td>70.245800</td>\n",
       "      <td>0</td>\n",
       "    </tr>\n",
       "    <tr>\n",
       "      <th>...</th>\n",
       "      <td>...</td>\n",
       "      <td>...</td>\n",
       "      <td>...</td>\n",
       "      <td>...</td>\n",
       "      <td>...</td>\n",
       "      <td>...</td>\n",
       "      <td>...</td>\n",
       "      <td>...</td>\n",
       "      <td>...</td>\n",
       "      <td>...</td>\n",
       "      <td>...</td>\n",
       "    </tr>\n",
       "    <tr>\n",
       "      <th>67</th>\n",
       "      <td>227</td>\n",
       "      <td>227.0</td>\n",
       "      <td>0.848485</td>\n",
       "      <td>0.112</td>\n",
       "      <td>33</td>\n",
       "      <td>parameter</td>\n",
       "      <td>True</td>\n",
       "      <td>0.001</td>\n",
       "      <td>1.000</td>\n",
       "      <td>73.483105</td>\n",
       "      <td>50</td>\n",
       "    </tr>\n",
       "    <tr>\n",
       "      <th>68</th>\n",
       "      <td>181</td>\n",
       "      <td>181.0</td>\n",
       "      <td>0.887640</td>\n",
       "      <td>0.316</td>\n",
       "      <td>89</td>\n",
       "      <td>parameter</td>\n",
       "      <td>False</td>\n",
       "      <td>1.000</td>\n",
       "      <td>0.956</td>\n",
       "      <td>73.259224</td>\n",
       "      <td>50</td>\n",
       "    </tr>\n",
       "    <tr>\n",
       "      <th>69</th>\n",
       "      <td>220</td>\n",
       "      <td>220.0</td>\n",
       "      <td>0.840909</td>\n",
       "      <td>0.148</td>\n",
       "      <td>44</td>\n",
       "      <td>parameter</td>\n",
       "      <td>False</td>\n",
       "      <td>0.100</td>\n",
       "      <td>1.000</td>\n",
       "      <td>74.824485</td>\n",
       "      <td>50</td>\n",
       "    </tr>\n",
       "    <tr>\n",
       "      <th>70</th>\n",
       "      <td>227</td>\n",
       "      <td>227.0</td>\n",
       "      <td>0.828571</td>\n",
       "      <td>0.116</td>\n",
       "      <td>35</td>\n",
       "      <td>parameter</td>\n",
       "      <td>False</td>\n",
       "      <td>0.010</td>\n",
       "      <td>1.000</td>\n",
       "      <td>74.885182</td>\n",
       "      <td>50</td>\n",
       "    </tr>\n",
       "    <tr>\n",
       "      <th>71</th>\n",
       "      <td>224</td>\n",
       "      <td>224.0</td>\n",
       "      <td>0.861111</td>\n",
       "      <td>0.124</td>\n",
       "      <td>36</td>\n",
       "      <td>parameter</td>\n",
       "      <td>False</td>\n",
       "      <td>0.001</td>\n",
       "      <td>1.000</td>\n",
       "      <td>75.026437</td>\n",
       "      <td>50</td>\n",
       "    </tr>\n",
       "  </tbody>\n",
       "</table>\n",
       "<p>72 rows × 11 columns</p>\n",
       "</div>"
      ],
      "text/plain": [
       "    score    shd  precision  recall  n_edges_pred model_variance_flavor  \\\n",
       "0     219  219.0   0.816327   0.160            49                  unit   \n",
       "1     239  239.0   0.739130   0.068            23                  unit   \n",
       "2     244  244.0   0.714286   0.040            14                  unit   \n",
       "3     246  246.0   0.642857   0.036            14                  unit   \n",
       "4     211  211.0   0.882353   0.180            51                  unit   \n",
       "..    ...    ...        ...     ...           ...                   ...   \n",
       "67    227  227.0   0.848485   0.112            33             parameter   \n",
       "68    181  181.0   0.887640   0.316            89             parameter   \n",
       "69    220  220.0   0.840909   0.148            44             parameter   \n",
       "70    227  227.0   0.828571   0.116            35             parameter   \n",
       "71    224  224.0   0.861111   0.124            36             parameter   \n",
       "\n",
       "    standard_scale  alpha_mult  mask_recall  train_time  n_interventions  \n",
       "0             True       1.000        0.488   69.898533                0  \n",
       "1             True       0.100        0.644   69.327668                0  \n",
       "2             True       0.010        0.740   70.473883                0  \n",
       "3             True       0.001        0.772   69.506130                0  \n",
       "4            False       1.000        0.472   70.245800                0  \n",
       "..             ...         ...          ...         ...              ...  \n",
       "67            True       0.001        1.000   73.483105               50  \n",
       "68           False       1.000        0.956   73.259224               50  \n",
       "69           False       0.100        1.000   74.824485               50  \n",
       "70           False       0.010        1.000   74.885182               50  \n",
       "71           False       0.001        1.000   75.026437               50  \n",
       "\n",
       "[72 rows x 11 columns]"
      ]
     },
     "execution_count": 17,
     "metadata": {},
     "output_type": "execute_result"
    }
   ],
   "source": [
    "metrics_df = pd.DataFrame.from_records(metrics_df_records)\n",
    "metrics_df"
   ]
  },
  {
   "cell_type": "code",
   "execution_count": 21,
   "id": "7cd28a34",
   "metadata": {},
   "outputs": [
    {
     "data": {
      "text/html": [
       "<div>\n",
       "<style scoped>\n",
       "    .dataframe tbody tr th:only-of-type {\n",
       "        vertical-align: middle;\n",
       "    }\n",
       "\n",
       "    .dataframe tbody tr th {\n",
       "        vertical-align: top;\n",
       "    }\n",
       "\n",
       "    .dataframe thead th {\n",
       "        text-align: right;\n",
       "    }\n",
       "</style>\n",
       "<table border=\"1\" class=\"dataframe\">\n",
       "  <thead>\n",
       "    <tr style=\"text-align: right;\">\n",
       "      <th></th>\n",
       "      <th>score</th>\n",
       "      <th>shd</th>\n",
       "      <th>precision</th>\n",
       "      <th>recall</th>\n",
       "      <th>n_edges_pred</th>\n",
       "      <th>model_variance_flavor</th>\n",
       "      <th>standard_scale</th>\n",
       "      <th>alpha_mult</th>\n",
       "      <th>mask_recall</th>\n",
       "      <th>train_time</th>\n",
       "      <th>n_interventions</th>\n",
       "    </tr>\n",
       "  </thead>\n",
       "  <tbody>\n",
       "    <tr>\n",
       "      <th>60</th>\n",
       "      <td>171</td>\n",
       "      <td>171.0</td>\n",
       "      <td>0.907216</td>\n",
       "      <td>0.352</td>\n",
       "      <td>97</td>\n",
       "      <td>nn</td>\n",
       "      <td>False</td>\n",
       "      <td>1.000</td>\n",
       "      <td>0.944</td>\n",
       "      <td>76.540771</td>\n",
       "      <td>50</td>\n",
       "    </tr>\n",
       "    <tr>\n",
       "      <th>56</th>\n",
       "      <td>173</td>\n",
       "      <td>173.0</td>\n",
       "      <td>0.896907</td>\n",
       "      <td>0.348</td>\n",
       "      <td>97</td>\n",
       "      <td>nn</td>\n",
       "      <td>True</td>\n",
       "      <td>1.000</td>\n",
       "      <td>0.948</td>\n",
       "      <td>78.483503</td>\n",
       "      <td>50</td>\n",
       "    </tr>\n",
       "    <tr>\n",
       "      <th>68</th>\n",
       "      <td>181</td>\n",
       "      <td>181.0</td>\n",
       "      <td>0.887640</td>\n",
       "      <td>0.316</td>\n",
       "      <td>89</td>\n",
       "      <td>parameter</td>\n",
       "      <td>False</td>\n",
       "      <td>1.000</td>\n",
       "      <td>0.956</td>\n",
       "      <td>73.259224</td>\n",
       "      <td>50</td>\n",
       "    </tr>\n",
       "    <tr>\n",
       "      <th>64</th>\n",
       "      <td>181</td>\n",
       "      <td>181.0</td>\n",
       "      <td>0.887640</td>\n",
       "      <td>0.316</td>\n",
       "      <td>89</td>\n",
       "      <td>parameter</td>\n",
       "      <td>True</td>\n",
       "      <td>1.000</td>\n",
       "      <td>0.932</td>\n",
       "      <td>74.967084</td>\n",
       "      <td>50</td>\n",
       "    </tr>\n",
       "    <tr>\n",
       "      <th>44</th>\n",
       "      <td>183</td>\n",
       "      <td>183.0</td>\n",
       "      <td>0.860215</td>\n",
       "      <td>0.320</td>\n",
       "      <td>93</td>\n",
       "      <td>parameter</td>\n",
       "      <td>False</td>\n",
       "      <td>1.000</td>\n",
       "      <td>0.928</td>\n",
       "      <td>74.246997</td>\n",
       "      <td>25</td>\n",
       "    </tr>\n",
       "    <tr>\n",
       "      <th>...</th>\n",
       "      <td>...</td>\n",
       "      <td>...</td>\n",
       "      <td>...</td>\n",
       "      <td>...</td>\n",
       "      <td>...</td>\n",
       "      <td>...</td>\n",
       "      <td>...</td>\n",
       "      <td>...</td>\n",
       "      <td>...</td>\n",
       "      <td>...</td>\n",
       "      <td>...</td>\n",
       "    </tr>\n",
       "    <tr>\n",
       "      <th>2</th>\n",
       "      <td>244</td>\n",
       "      <td>244.0</td>\n",
       "      <td>0.714286</td>\n",
       "      <td>0.040</td>\n",
       "      <td>14</td>\n",
       "      <td>unit</td>\n",
       "      <td>True</td>\n",
       "      <td>0.010</td>\n",
       "      <td>0.740</td>\n",
       "      <td>70.473883</td>\n",
       "      <td>0</td>\n",
       "    </tr>\n",
       "    <tr>\n",
       "      <th>3</th>\n",
       "      <td>246</td>\n",
       "      <td>246.0</td>\n",
       "      <td>0.642857</td>\n",
       "      <td>0.036</td>\n",
       "      <td>14</td>\n",
       "      <td>unit</td>\n",
       "      <td>True</td>\n",
       "      <td>0.001</td>\n",
       "      <td>0.772</td>\n",
       "      <td>69.506130</td>\n",
       "      <td>0</td>\n",
       "    </tr>\n",
       "    <tr>\n",
       "      <th>6</th>\n",
       "      <td>247</td>\n",
       "      <td>247.0</td>\n",
       "      <td>0.666667</td>\n",
       "      <td>0.024</td>\n",
       "      <td>9</td>\n",
       "      <td>unit</td>\n",
       "      <td>False</td>\n",
       "      <td>0.010</td>\n",
       "      <td>0.716</td>\n",
       "      <td>68.451488</td>\n",
       "      <td>0</td>\n",
       "    </tr>\n",
       "    <tr>\n",
       "      <th>7</th>\n",
       "      <td>249</td>\n",
       "      <td>249.0</td>\n",
       "      <td>0.545455</td>\n",
       "      <td>0.024</td>\n",
       "      <td>11</td>\n",
       "      <td>unit</td>\n",
       "      <td>False</td>\n",
       "      <td>0.001</td>\n",
       "      <td>0.740</td>\n",
       "      <td>68.978260</td>\n",
       "      <td>0</td>\n",
       "    </tr>\n",
       "    <tr>\n",
       "      <th>9</th>\n",
       "      <td>250</td>\n",
       "      <td>250.0</td>\n",
       "      <td>0.500000</td>\n",
       "      <td>0.028</td>\n",
       "      <td>14</td>\n",
       "      <td>nn</td>\n",
       "      <td>True</td>\n",
       "      <td>0.100</td>\n",
       "      <td>1.000</td>\n",
       "      <td>75.010808</td>\n",
       "      <td>0</td>\n",
       "    </tr>\n",
       "  </tbody>\n",
       "</table>\n",
       "<p>72 rows × 11 columns</p>\n",
       "</div>"
      ],
      "text/plain": [
       "    score    shd  precision  recall  n_edges_pred model_variance_flavor  \\\n",
       "60    171  171.0   0.907216   0.352            97                    nn   \n",
       "56    173  173.0   0.896907   0.348            97                    nn   \n",
       "68    181  181.0   0.887640   0.316            89             parameter   \n",
       "64    181  181.0   0.887640   0.316            89             parameter   \n",
       "44    183  183.0   0.860215   0.320            93             parameter   \n",
       "..    ...    ...        ...     ...           ...                   ...   \n",
       "2     244  244.0   0.714286   0.040            14                  unit   \n",
       "3     246  246.0   0.642857   0.036            14                  unit   \n",
       "6     247  247.0   0.666667   0.024             9                  unit   \n",
       "7     249  249.0   0.545455   0.024            11                  unit   \n",
       "9     250  250.0   0.500000   0.028            14                    nn   \n",
       "\n",
       "    standard_scale  alpha_mult  mask_recall  train_time  n_interventions  \n",
       "60           False       1.000        0.944   76.540771               50  \n",
       "56            True       1.000        0.948   78.483503               50  \n",
       "68           False       1.000        0.956   73.259224               50  \n",
       "64            True       1.000        0.932   74.967084               50  \n",
       "44           False       1.000        0.928   74.246997               25  \n",
       "..             ...         ...          ...         ...              ...  \n",
       "2             True       0.010        0.740   70.473883                0  \n",
       "3             True       0.001        0.772   69.506130                0  \n",
       "6            False       0.010        0.716   68.451488                0  \n",
       "7            False       0.001        0.740   68.978260                0  \n",
       "9             True       0.100        1.000   75.010808                0  \n",
       "\n",
       "[72 rows x 11 columns]"
      ]
     },
     "execution_count": 21,
     "metadata": {},
     "output_type": "execute_result"
    }
   ],
   "source": [
    "metrics_df.sort_values(\"score\")"
   ]
  },
  {
   "cell_type": "code",
   "execution_count": 17,
   "id": "4ec96bd9",
   "metadata": {},
   "outputs": [],
   "source": [
    "# inspect obs inferred matrix\n",
    "X_sub_df = subset_interventions(\n",
    "    X_df, 0, maintain_dataset_size=True\n",
    ")\n",
    "dataset = create_intervention_dataset(X_sub_df, regime_format=False)\n",
    "\n",
    "model = SDCI(model_variance_flavor=\"parameter\")\n",
    "model.train(\n",
    "    dataset,\n",
    "    B_true=B_true,\n",
    "    device=device,\n",
    "    verbose=False\n",
    ")"
   ]
  },
  {
   "cell_type": "code",
   "execution_count": 18,
   "id": "206f2173",
   "metadata": {},
   "outputs": [],
   "source": [
    "# Plot variance inferred for each gene (this is the intrinsic variance of the gene it should learn)\n",
    "plt.plot(model._model.gene_vars[ordered_vertices])\n",
    "plt.ylabel(\"Variance\")\n",
    "plt.xlabel(\"Topological rank\")"
   ]
  },
  {
   "cell_type": "code",
   "execution_count": null,
   "id": "4f5e0feb",
   "metadata": {},
   "outputs": [],
   "source": []
  }
 ],
 "metadata": {
  "kernelspec": {
   "display_name": "Python 3 (ipykernel)",
   "language": "python",
   "name": "python3"
  },
  "language_info": {
   "codemirror_mode": {
    "name": "ipython",
    "version": 3
   },
   "file_extension": ".py",
   "mimetype": "text/x-python",
   "name": "python",
   "nbconvert_exporter": "python",
   "pygments_lexer": "ipython3",
   "version": "3.9.16"
  }
 },
 "nbformat": 4,
 "nbformat_minor": 5
}
